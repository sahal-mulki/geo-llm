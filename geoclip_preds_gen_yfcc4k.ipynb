{
  "nbformat": 4,
  "nbformat_minor": 0,
  "metadata": {
    "colab": {
      "provenance": [],
      "gpuType": "T4",
      "authorship_tag": "ABX9TyN+2zmAwZ67x9YbSFzu+8kb",
      "include_colab_link": true
    },
    "kernelspec": {
      "name": "python3",
      "display_name": "Python 3"
    },
    "language_info": {
      "name": "python"
    },
    "accelerator": "GPU"
  },
  "cells": [
    {
      "cell_type": "markdown",
      "metadata": {
        "id": "view-in-github",
        "colab_type": "text"
      },
      "source": [
        "<a href=\"https://colab.research.google.com/github/sahal-mulki/geo-llm/blob/main/geoclip_preds_gen.ipynb\" target=\"_parent\"><img src=\"https://colab.research.google.com/assets/colab-badge.svg\" alt=\"Open In Colab\"/></a>"
      ]
    },
    {
      "cell_type": "code",
      "execution_count": 1,
      "metadata": {
        "colab": {
          "base_uri": "https://localhost:8080/"
        },
        "id": "dhPnLb2hwyZT",
        "outputId": "780b2e49-7e8f-4e25-cb61-b87f0ee5d604"
      },
      "outputs": [
        {
          "output_type": "stream",
          "name": "stdout",
          "text": [
            "Requirement already satisfied: kaggle in /usr/local/lib/python3.10/dist-packages (1.6.17)\n",
            "Requirement already satisfied: six>=1.10 in /usr/local/lib/python3.10/dist-packages (from kaggle) (1.16.0)\n",
            "Requirement already satisfied: certifi>=2023.7.22 in /usr/local/lib/python3.10/dist-packages (from kaggle) (2024.7.4)\n",
            "Requirement already satisfied: python-dateutil in /usr/local/lib/python3.10/dist-packages (from kaggle) (2.8.2)\n",
            "Requirement already satisfied: requests in /usr/local/lib/python3.10/dist-packages (from kaggle) (2.31.0)\n",
            "Requirement already satisfied: tqdm in /usr/local/lib/python3.10/dist-packages (from kaggle) (4.66.4)\n",
            "Requirement already satisfied: python-slugify in /usr/local/lib/python3.10/dist-packages (from kaggle) (8.0.4)\n",
            "Requirement already satisfied: urllib3 in /usr/local/lib/python3.10/dist-packages (from kaggle) (2.0.7)\n",
            "Requirement already satisfied: bleach in /usr/local/lib/python3.10/dist-packages (from kaggle) (6.1.0)\n",
            "Requirement already satisfied: webencodings in /usr/local/lib/python3.10/dist-packages (from bleach->kaggle) (0.5.1)\n",
            "Requirement already satisfied: text-unidecode>=1.3 in /usr/local/lib/python3.10/dist-packages (from python-slugify->kaggle) (1.3)\n",
            "Requirement already satisfied: charset-normalizer<4,>=2 in /usr/local/lib/python3.10/dist-packages (from requests->kaggle) (3.3.2)\n",
            "Requirement already satisfied: idna<4,>=2.5 in /usr/local/lib/python3.10/dist-packages (from requests->kaggle) (3.7)\n"
          ]
        }
      ],
      "source": [
        "pip install kaggle"
      ]
    },
    {
      "cell_type": "code",
      "source": [
        "!kaggle datasets download -d sahalmulki/llms-for-image-geolocation-benchmarks"
      ],
      "metadata": {
        "colab": {
          "base_uri": "https://localhost:8080/"
        },
        "id": "lBUUz5low3Bc",
        "outputId": "82b50e17-27ba-41b0-aad5-c4faa0487a18"
      },
      "execution_count": 3,
      "outputs": [
        {
          "output_type": "stream",
          "name": "stdout",
          "text": [
            "Dataset URL: https://www.kaggle.com/datasets/sahalmulki/llms-for-image-geolocation-benchmarks\n",
            "License(s): MIT\n",
            "Downloading llms-for-image-geolocation-benchmarks.zip to /content\n",
            "100% 994M/996M [01:03<00:00, 18.0MB/s]\n",
            "100% 996M/996M [01:04<00:00, 16.3MB/s]\n"
          ]
        }
      ]
    },
    {
      "cell_type": "code",
      "source": [
        "!unzip llms-for-image-geolocation-benchmarks.zip -d /content/llms-for-image-geolocation-benchmarks"
      ],
      "metadata": {
        "colab": {
          "base_uri": "https://localhost:8080/"
        },
        "id": "BVt464a7xDMC",
        "outputId": "b8c29a2b-b213-4ef6-e546-e684287553b4"
      },
      "execution_count": 4,
      "outputs": [
        {
          "output_type": "stream",
          "name": "stdout",
          "text": [
            "\u001b[1;30;43mStreaming output truncated to the last 5000 lines.\u001b[0m\n",
            "  inflating: /content/llms-for-image-geolocation-benchmarks/im2gps3k_places365/im2gps3ktest/508033358_5d1f3bc07a_221_8393530@N05.jpg  \n",
            "  inflating: /content/llms-for-image-geolocation-benchmarks/im2gps3k_places365/im2gps3ktest/508092310_ed7d7da28a_217_62126383@N00.jpg  \n",
            "  inflating: /content/llms-for-image-geolocation-benchmarks/im2gps3k_places365/im2gps3ktest/508344507_a1015d1cca_230_33463080@N00.jpg  \n",
            "  inflating: /content/llms-for-image-geolocation-benchmarks/im2gps3k_places365/im2gps3ktest/509419851_e5ce616c39_210_7412395@N07.jpg  \n",
            "  inflating: /content/llms-for-image-geolocation-benchmarks/im2gps3k_places365/im2gps3ktest/509733934_86d61a4c33_221_7885919@N07.jpg  \n",
            "  inflating: /content/llms-for-image-geolocation-benchmarks/im2gps3k_places365/im2gps3ktest/509757181_585351b261_192_7885919@N07.jpg  \n",
            "  inflating: /content/llms-for-image-geolocation-benchmarks/im2gps3k_places365/im2gps3ktest/509964802_63d13dac86_200_90168643@N00.jpg  \n",
            "  inflating: /content/llms-for-image-geolocation-benchmarks/im2gps3k_places365/im2gps3ktest/509993263_5ea97ad1ff_213_90168643@N00.jpg  \n",
            "  inflating: /content/llms-for-image-geolocation-benchmarks/im2gps3k_places365/im2gps3ktest/510020600_10c02010e8_218_90168643@N00.jpg  \n",
            "  inflating: /content/llms-for-image-geolocation-benchmarks/im2gps3k_places365/im2gps3ktest/510101189_8f1f9c8498_189_90168643@N00.jpg  \n",
            "  inflating: /content/llms-for-image-geolocation-benchmarks/im2gps3k_places365/im2gps3ktest/510206635_d8c55451dc_219_77392231@N00.jpg  \n",
            "  inflating: /content/llms-for-image-geolocation-benchmarks/im2gps3k_places365/im2gps3ktest/510985613_e2d8a6ffc8_210_62126383@N00.jpg  \n",
            "  inflating: /content/llms-for-image-geolocation-benchmarks/im2gps3k_places365/im2gps3ktest/511011880_e037e14708_194_62126383@N00.jpg  \n",
            "  inflating: /content/llms-for-image-geolocation-benchmarks/im2gps3k_places365/im2gps3ktest/511218374_ffd511c10b_213_62126383@N00.jpg  \n",
            "  inflating: /content/llms-for-image-geolocation-benchmarks/im2gps3k_places365/im2gps3ktest/512851161_c25639142a_212_15376845@N00.jpg  \n",
            "  inflating: /content/llms-for-image-geolocation-benchmarks/im2gps3k_places365/im2gps3ktest/513229443_567342115b_197_78221228@N00.jpg  \n",
            "  inflating: /content/llms-for-image-geolocation-benchmarks/im2gps3k_places365/im2gps3ktest/513433290_f7a4b9ba3f_189_77392231@N00.jpg  \n",
            "  inflating: /content/llms-for-image-geolocation-benchmarks/im2gps3k_places365/im2gps3ktest/513453328_03108e034b_227_7665941@N08.jpg  \n",
            "  inflating: /content/llms-for-image-geolocation-benchmarks/im2gps3k_places365/im2gps3ktest/513619563_a02ef4b893_227_77392231@N00.jpg  \n",
            "  inflating: /content/llms-for-image-geolocation-benchmarks/im2gps3k_places365/im2gps3ktest/514155776_1e1d999aa9_194_62126383@N00.jpg  \n",
            "  inflating: /content/llms-for-image-geolocation-benchmarks/im2gps3k_places365/im2gps3ktest/514199752_603e772e1a_254_24311489@N00.jpg  \n",
            "  inflating: /content/llms-for-image-geolocation-benchmarks/im2gps3k_places365/im2gps3ktest/514234452_8824524fbe_243_59555137@N00.jpg  \n",
            "  inflating: /content/llms-for-image-geolocation-benchmarks/im2gps3k_places365/im2gps3ktest/514246671_382722c992_204_62126383@N00.jpg  \n",
            "  inflating: /content/llms-for-image-geolocation-benchmarks/im2gps3k_places365/im2gps3ktest/514257521_596115c6fb_193_62126383@N00.jpg  \n",
            "  inflating: /content/llms-for-image-geolocation-benchmarks/im2gps3k_places365/im2gps3ktest/514403184_90ada8c017_213_14491548@N00.jpg  \n",
            "  inflating: /content/llms-for-image-geolocation-benchmarks/im2gps3k_places365/im2gps3ktest/514769928_ba6d383a0a_250_36764971@N00.jpg  \n",
            "  inflating: /content/llms-for-image-geolocation-benchmarks/im2gps3k_places365/im2gps3ktest/515228175_f6e7d4b36a_249_14491548@N00.jpg  \n",
            "  inflating: /content/llms-for-image-geolocation-benchmarks/im2gps3k_places365/im2gps3ktest/515329274_3b230b2b46_223_77392231@N00.jpg  \n",
            "  inflating: /content/llms-for-image-geolocation-benchmarks/im2gps3k_places365/im2gps3ktest/515336129_772a6aeee1_203_77392231@N00.jpg  \n",
            "  inflating: /content/llms-for-image-geolocation-benchmarks/im2gps3k_places365/im2gps3ktest/515415850_e3a3aaa1ae_243_90168643@N00.jpg  \n",
            "  inflating: /content/llms-for-image-geolocation-benchmarks/im2gps3k_places365/im2gps3ktest/515440055_024bc75999_230_90168643@N00.jpg  \n",
            "  inflating: /content/llms-for-image-geolocation-benchmarks/im2gps3k_places365/im2gps3ktest/515444837_6ce30b9c77_229_90168643@N00.jpg  \n",
            "  inflating: /content/llms-for-image-geolocation-benchmarks/im2gps3k_places365/im2gps3ktest/515907272_ca7e322b7a_211_36764971@N00.jpg  \n",
            "  inflating: /content/llms-for-image-geolocation-benchmarks/im2gps3k_places365/im2gps3ktest/515928079_378dce0e48_246_36764971@N00.jpg  \n",
            "  inflating: /content/llms-for-image-geolocation-benchmarks/im2gps3k_places365/im2gps3ktest/515965057_daa4d4f3cb_219_77392231@N00.jpg  \n",
            "  inflating: /content/llms-for-image-geolocation-benchmarks/im2gps3k_places365/im2gps3ktest/516093992_bb6db23851_224_77392231@N00.jpg  \n",
            "  inflating: /content/llms-for-image-geolocation-benchmarks/im2gps3k_places365/im2gps3ktest/516111938_3db927d6d8_208_70323761@N00.jpg  \n",
            "  inflating: /content/llms-for-image-geolocation-benchmarks/im2gps3k_places365/im2gps3ktest/516247144_166a1f88c8_190_36764971@N00.jpg  \n",
            "  inflating: /content/llms-for-image-geolocation-benchmarks/im2gps3k_places365/im2gps3ktest/516260063_f911d5d540_220_77392231@N00.jpg  \n",
            "  inflating: /content/llms-for-image-geolocation-benchmarks/im2gps3k_places365/im2gps3ktest/516265388_23dc2a8660_224_77392231@N00.jpg  \n",
            "  inflating: /content/llms-for-image-geolocation-benchmarks/im2gps3k_places365/im2gps3ktest/516399701_1ce0c241d0_226_36764971@N00.jpg  \n",
            "  inflating: /content/llms-for-image-geolocation-benchmarks/im2gps3k_places365/im2gps3ktest/516535503_9eba8e366c_217_24311489@N00.jpg  \n",
            "  inflating: /content/llms-for-image-geolocation-benchmarks/im2gps3k_places365/im2gps3ktest/516605197_12b65bc555_192_24311489@N00.jpg  \n",
            "  inflating: /content/llms-for-image-geolocation-benchmarks/im2gps3k_places365/im2gps3ktest/516726629_56a97a2b1c_240_41315423@N00.jpg  \n",
            "  inflating: /content/llms-for-image-geolocation-benchmarks/im2gps3k_places365/im2gps3ktest/517461637_c024760a7b_222_15632944@N00.jpg  \n",
            "  inflating: /content/llms-for-image-geolocation-benchmarks/im2gps3k_places365/im2gps3ktest/517764000_ec7bfe285b_215_79039156@N00.jpg  \n",
            "  inflating: /content/llms-for-image-geolocation-benchmarks/im2gps3k_places365/im2gps3ktest/517790025_691fdae8ca_201_79039156@N00.jpg  \n",
            "  inflating: /content/llms-for-image-geolocation-benchmarks/im2gps3k_places365/im2gps3ktest/517839578_b7ad071121_227_78841376@N00.jpg  \n",
            "  inflating: /content/llms-for-image-geolocation-benchmarks/im2gps3k_places365/im2gps3ktest/517885569_ff35e80659_236_51162504@N00.jpg  \n",
            "  inflating: /content/llms-for-image-geolocation-benchmarks/im2gps3k_places365/im2gps3ktest/518524241_2e8d28653a_199_36887937@N00.jpg  \n",
            "  inflating: /content/llms-for-image-geolocation-benchmarks/im2gps3k_places365/im2gps3ktest/520371104_8d344a6cca_207_15632944@N00.jpg  \n",
            "  inflating: /content/llms-for-image-geolocation-benchmarks/im2gps3k_places365/im2gps3ktest/520721897_11b0c68892_243_70323761@N00.jpg  \n",
            "  inflating: /content/llms-for-image-geolocation-benchmarks/im2gps3k_places365/im2gps3ktest/521324374_96290dd123_234_7132415@N03.jpg  \n",
            "  inflating: /content/llms-for-image-geolocation-benchmarks/im2gps3k_places365/im2gps3ktest/521492794_594ee36866_196_72526577@N00.jpg  \n",
            "  inflating: /content/llms-for-image-geolocation-benchmarks/im2gps3k_places365/im2gps3ktest/522146989_f3d24c3af7_197_89904893@N00.jpg  \n",
            "  inflating: /content/llms-for-image-geolocation-benchmarks/im2gps3k_places365/im2gps3ktest/522352784_c7bed80f30_190_61819159@N00.jpg  \n",
            "  inflating: /content/llms-for-image-geolocation-benchmarks/im2gps3k_places365/im2gps3ktest/522353135_0c8a7fccd5_207_61819159@N00.jpg  \n",
            "  inflating: /content/llms-for-image-geolocation-benchmarks/im2gps3k_places365/im2gps3ktest/522359457_1ee595e7ff_237_61819159@N00.jpg  \n",
            "  inflating: /content/llms-for-image-geolocation-benchmarks/im2gps3k_places365/im2gps3ktest/522365741_fdde31405e_196_61819159@N00.jpg  \n",
            "  inflating: /content/llms-for-image-geolocation-benchmarks/im2gps3k_places365/im2gps3ktest/522373149_12fd8cd706_246_61819159@N00.jpg  \n",
            "  inflating: /content/llms-for-image-geolocation-benchmarks/im2gps3k_places365/im2gps3ktest/522442470_18df9208d0_191_61819159@N00.jpg  \n",
            "  inflating: /content/llms-for-image-geolocation-benchmarks/im2gps3k_places365/im2gps3ktest/522457904_8be307d8dd_250_61819159@N00.jpg  \n",
            "  inflating: /content/llms-for-image-geolocation-benchmarks/im2gps3k_places365/im2gps3ktest/522458424_090d6fc78b_254_61819159@N00.jpg  \n",
            "  inflating: /content/llms-for-image-geolocation-benchmarks/im2gps3k_places365/im2gps3ktest/522458704_fb92e7f6e3_232_61819159@N00.jpg  \n",
            "  inflating: /content/llms-for-image-geolocation-benchmarks/im2gps3k_places365/im2gps3ktest/522493350_d9a845e836_240_61819159@N00.jpg  \n",
            "  inflating: /content/llms-for-image-geolocation-benchmarks/im2gps3k_places365/im2gps3ktest/522503678_d890e18189_238_61819159@N00.jpg  \n",
            "  inflating: /content/llms-for-image-geolocation-benchmarks/im2gps3k_places365/im2gps3ktest/522520876_5704206dda_206_61819159@N00.jpg  \n",
            "  inflating: /content/llms-for-image-geolocation-benchmarks/im2gps3k_places365/im2gps3ktest/522541314_95c3793313_216_61819159@N00.jpg  \n",
            "  inflating: /content/llms-for-image-geolocation-benchmarks/im2gps3k_places365/im2gps3ktest/523184139_a67f3e9222_204_51035632501@N01.jpg  \n",
            "  inflating: /content/llms-for-image-geolocation-benchmarks/im2gps3k_places365/im2gps3ktest/523223836_a75155bf3c_200_51035632501@N01.jpg  \n",
            "  inflating: /content/llms-for-image-geolocation-benchmarks/im2gps3k_places365/im2gps3ktest/523656350_d017c4c0c0_203_51035632501@N01.jpg  \n",
            "  inflating: /content/llms-for-image-geolocation-benchmarks/im2gps3k_places365/im2gps3ktest/523815048_d11248f6c1_251_51035632501@N01.jpg  \n",
            "  inflating: /content/llms-for-image-geolocation-benchmarks/im2gps3k_places365/im2gps3ktest/523882906_8593329b96_198_51035632501@N01.jpg  \n",
            "  inflating: /content/llms-for-image-geolocation-benchmarks/im2gps3k_places365/im2gps3ktest/524802813_8278db8da6_214_61819159@N00.jpg  \n",
            "  inflating: /content/llms-for-image-geolocation-benchmarks/im2gps3k_places365/im2gps3ktest/524999707_5413fe3302_246_80246871@N00.jpg  \n",
            "  inflating: /content/llms-for-image-geolocation-benchmarks/im2gps3k_places365/im2gps3ktest/525908730_76edc9cf91_1131_51035632501@N01.jpg  \n",
            "  inflating: /content/llms-for-image-geolocation-benchmarks/im2gps3k_places365/im2gps3ktest/525950643_479ea495f5_1113_51035632501@N01.jpg  \n",
            "  inflating: /content/llms-for-image-geolocation-benchmarks/im2gps3k_places365/im2gps3ktest/526275876_7b751d7336_1169_51035632501@N01.jpg  \n",
            "  inflating: /content/llms-for-image-geolocation-benchmarks/im2gps3k_places365/im2gps3ktest/526336263_51ce3b1509_1082_51035632501@N01.jpg  \n",
            "  inflating: /content/llms-for-image-geolocation-benchmarks/im2gps3k_places365/im2gps3ktest/526505259_16f94e0e28_1189_8504005@N07.jpg  \n",
            "  inflating: /content/llms-for-image-geolocation-benchmarks/im2gps3k_places365/im2gps3ktest/526522859_51c9eda7c1_195_51035632501@N01.jpg  \n",
            "  inflating: /content/llms-for-image-geolocation-benchmarks/im2gps3k_places365/im2gps3ktest/526692216_e114c8af6a_1190_51035632501@N01.jpg  \n",
            "  inflating: /content/llms-for-image-geolocation-benchmarks/im2gps3k_places365/im2gps3ktest/526710598_e2a4884500_231_8159033@N04.jpg  \n",
            "  inflating: /content/llms-for-image-geolocation-benchmarks/im2gps3k_places365/im2gps3ktest/526735771_6e1e243caa_245_51035632501@N01.jpg  \n",
            "  inflating: /content/llms-for-image-geolocation-benchmarks/im2gps3k_places365/im2gps3ktest/526767142_ef3de1674b_1197_51035632501@N01.jpg  \n",
            "  inflating: /content/llms-for-image-geolocation-benchmarks/im2gps3k_places365/im2gps3ktest/526834487_cdce290644_195_51035632501@N01.jpg  \n",
            "  inflating: /content/llms-for-image-geolocation-benchmarks/im2gps3k_places365/im2gps3ktest/526838553_57fa7b99dd_242_51035632501@N01.jpg  \n",
            "  inflating: /content/llms-for-image-geolocation-benchmarks/im2gps3k_places365/im2gps3ktest/527537168_57b097c843_203_15632944@N00.jpg  \n",
            "  inflating: /content/llms-for-image-geolocation-benchmarks/im2gps3k_places365/im2gps3ktest/527733347_125e0ab464_1007_7412395@N07.jpg  \n",
            "  inflating: /content/llms-for-image-geolocation-benchmarks/im2gps3k_places365/im2gps3ktest/528008398_d85c0301e5_235_78247883@N00.jpg  \n",
            "  inflating: /content/llms-for-image-geolocation-benchmarks/im2gps3k_places365/im2gps3ktest/528068846_6940f4bb60_1204_96928198@N00.jpg  \n",
            "  inflating: /content/llms-for-image-geolocation-benchmarks/im2gps3k_places365/im2gps3ktest/528375711_98c10b937d_1141_37476307@N00.jpg  \n",
            "  inflating: /content/llms-for-image-geolocation-benchmarks/im2gps3k_places365/im2gps3ktest/528683885_1d11fed95e_1249_42126397@N00.jpg  \n",
            "  inflating: /content/llms-for-image-geolocation-benchmarks/im2gps3k_places365/im2gps3ktest/529344717_1c18ad31b2_1201_7132415@N03.jpg  \n",
            "  inflating: /content/llms-for-image-geolocation-benchmarks/im2gps3k_places365/im2gps3ktest/529821616_49dc772ee4_1100_26519935@N00.jpg  \n",
            "  inflating: /content/llms-for-image-geolocation-benchmarks/im2gps3k_places365/im2gps3ktest/529887618_45d3d159e5_1035_7132415@N03.jpg  \n",
            "  inflating: /content/llms-for-image-geolocation-benchmarks/im2gps3k_places365/im2gps3ktest/529898734_c59d91efba_1115_7132415@N03.jpg  \n",
            "  inflating: /content/llms-for-image-geolocation-benchmarks/im2gps3k_places365/im2gps3ktest/529909526_c9dca47f96_1190_7132415@N03.jpg  \n",
            "  inflating: /content/llms-for-image-geolocation-benchmarks/im2gps3k_places365/im2gps3ktest/530000433_0fb9da3887_1123_7132415@N03.jpg  \n",
            "  inflating: /content/llms-for-image-geolocation-benchmarks/im2gps3k_places365/im2gps3ktest/530100467_e829a97737_1187_30571787@N00.jpg  \n",
            "  inflating: /content/llms-for-image-geolocation-benchmarks/im2gps3k_places365/im2gps3ktest/531104457_35b1f33bda_1037_79756109@N00.jpg  \n",
            "  inflating: /content/llms-for-image-geolocation-benchmarks/im2gps3k_places365/im2gps3ktest/531216797_0c5e29f669_1428_79756109@N00.jpg  \n",
            "  inflating: /content/llms-for-image-geolocation-benchmarks/im2gps3k_places365/im2gps3ktest/531250845_144104c9b4_1135_79756109@N00.jpg  \n",
            "  inflating: /content/llms-for-image-geolocation-benchmarks/im2gps3k_places365/im2gps3ktest/531619057_2dc05d2d78_1165_79756109@N00.jpg  \n",
            "  inflating: /content/llms-for-image-geolocation-benchmarks/im2gps3k_places365/im2gps3ktest/531648479_e0b05f9991_1363_79756109@N00.jpg  \n",
            "  inflating: /content/llms-for-image-geolocation-benchmarks/im2gps3k_places365/im2gps3ktest/531842222_c37c8331b5_1130_42126397@N00.jpg  \n",
            "  inflating: /content/llms-for-image-geolocation-benchmarks/im2gps3k_places365/im2gps3ktest/532055519_5ca9666626_1400_79756109@N00.jpg  \n",
            "  inflating: /content/llms-for-image-geolocation-benchmarks/im2gps3k_places365/im2gps3ktest/532074512_d42c58c826_1060_79756109@N00.jpg  \n",
            "  inflating: /content/llms-for-image-geolocation-benchmarks/im2gps3k_places365/im2gps3ktest/532153498_f85923b008_1120_79756109@N00.jpg  \n",
            "  inflating: /content/llms-for-image-geolocation-benchmarks/im2gps3k_places365/im2gps3ktest/532155227_7857c80bf9_1403_7885919@N07.jpg  \n",
            "  inflating: /content/llms-for-image-geolocation-benchmarks/im2gps3k_places365/im2gps3ktest/532221139_ebb24faff3_1337_79756109@N00.jpg  \n",
            "  inflating: /content/llms-for-image-geolocation-benchmarks/im2gps3k_places365/im2gps3ktest/532270685_35d8687efb_1300_79756109@N00.jpg  \n",
            "  inflating: /content/llms-for-image-geolocation-benchmarks/im2gps3k_places365/im2gps3ktest/532284703_1552750aa3_1160_79756109@N00.jpg  \n",
            "  inflating: /content/llms-for-image-geolocation-benchmarks/im2gps3k_places365/im2gps3ktest/532386352_ee598a8139_1240_79756109@N00.jpg  \n",
            "  inflating: /content/llms-for-image-geolocation-benchmarks/im2gps3k_places365/im2gps3ktest/532402794_a4bd0cfc3b_1333_79756109@N00.jpg  \n",
            "  inflating: /content/llms-for-image-geolocation-benchmarks/im2gps3k_places365/im2gps3ktest/532414158_f4abdc6291_1420_79756109@N00.jpg  \n",
            "  inflating: /content/llms-for-image-geolocation-benchmarks/im2gps3k_places365/im2gps3ktest/532483747_3853b3af27_1222_79756109@N00.jpg  \n",
            "  inflating: /content/llms-for-image-geolocation-benchmarks/im2gps3k_places365/im2gps3ktest/532567783_382f9f5d22_1348_79756109@N00.jpg  \n",
            "  inflating: /content/llms-for-image-geolocation-benchmarks/im2gps3k_places365/im2gps3ktest/533118626_53d02b9624_1180_79756109@N00.jpg  \n",
            "  inflating: /content/llms-for-image-geolocation-benchmarks/im2gps3k_places365/im2gps3ktest/533120780_026034cad8_1222_7412395@N07.jpg  \n",
            "  inflating: /content/llms-for-image-geolocation-benchmarks/im2gps3k_places365/im2gps3ktest/533144796_829337190b_1114_79756109@N00.jpg  \n",
            "  inflating: /content/llms-for-image-geolocation-benchmarks/im2gps3k_places365/im2gps3ktest/533209985_1216dd455e_1171_79756109@N00.jpg  \n",
            "  inflating: /content/llms-for-image-geolocation-benchmarks/im2gps3k_places365/im2gps3ktest/533717877_91aae19911_1342_40279823@N00.jpg  \n",
            "  inflating: /content/llms-for-image-geolocation-benchmarks/im2gps3k_places365/im2gps3ktest/533758420_86692c6bda_1311_79756109@N00.jpg  \n",
            "  inflating: /content/llms-for-image-geolocation-benchmarks/im2gps3k_places365/im2gps3ktest/533866405_2a941a3b4a_1438_8159033@N04.jpg  \n",
            "  inflating: /content/llms-for-image-geolocation-benchmarks/im2gps3k_places365/im2gps3ktest/533878456_9b2695be8f_1351_79756109@N00.jpg  \n",
            "  inflating: /content/llms-for-image-geolocation-benchmarks/im2gps3k_places365/im2gps3ktest/533880615_92490f7f00_1084_79756109@N00.jpg  \n",
            "  inflating: /content/llms-for-image-geolocation-benchmarks/im2gps3k_places365/im2gps3ktest/534016660_7eb3d16375_1218_79756109@N00.jpg  \n",
            "  inflating: /content/llms-for-image-geolocation-benchmarks/im2gps3k_places365/im2gps3ktest/534068538_d2e02706f4_1203_79756109@N00.jpg  \n",
            "  inflating: /content/llms-for-image-geolocation-benchmarks/im2gps3k_places365/im2gps3ktest/534084314_59474f8048_1384_79756109@N00.jpg  \n",
            "  inflating: /content/llms-for-image-geolocation-benchmarks/im2gps3k_places365/im2gps3ktest/534206172_05de2121b8_1274_79756109@N00.jpg  \n",
            "  inflating: /content/llms-for-image-geolocation-benchmarks/im2gps3k_places365/im2gps3ktest/534304469_ba1296b5af_1039_79756109@N00.jpg  \n",
            "  inflating: /content/llms-for-image-geolocation-benchmarks/im2gps3k_places365/im2gps3ktest/534511510_f872cd7a2c_1341_79756109@N00.jpg  \n",
            "  inflating: /content/llms-for-image-geolocation-benchmarks/im2gps3k_places365/im2gps3ktest/534535838_6d20ff5077_1334_79756109@N00.jpg  \n",
            "  inflating: /content/llms-for-image-geolocation-benchmarks/im2gps3k_places365/im2gps3ktest/534612101_1a6ef80e04_1306_79756109@N00.jpg  \n",
            "  inflating: /content/llms-for-image-geolocation-benchmarks/im2gps3k_places365/im2gps3ktest/534657711_dc2aa849a8_1333_72154266@N00.jpg  \n",
            "  inflating: /content/llms-for-image-geolocation-benchmarks/im2gps3k_places365/im2gps3ktest/534859620_c8044024d1_1404_33463080@N00.jpg  \n",
            "  inflating: /content/llms-for-image-geolocation-benchmarks/im2gps3k_places365/im2gps3ktest/535440332_ccf9987b2f_250_79756109@N00.jpg  \n",
            "  inflating: /content/llms-for-image-geolocation-benchmarks/im2gps3k_places365/im2gps3ktest/53545516_e9507b64ee_27_74196805@N00.jpg  \n",
            "  inflating: /content/llms-for-image-geolocation-benchmarks/im2gps3k_places365/im2gps3ktest/535581177_2e9d33f346_239_79756109@N00.jpg  \n",
            "  inflating: /content/llms-for-image-geolocation-benchmarks/im2gps3k_places365/im2gps3ktest/535584419_9b111af0b3_226_79756109@N00.jpg  \n",
            "  inflating: /content/llms-for-image-geolocation-benchmarks/im2gps3k_places365/im2gps3ktest/535638544_bc60a49e90_200_15632944@N00.jpg  \n",
            "  inflating: /content/llms-for-image-geolocation-benchmarks/im2gps3k_places365/im2gps3ktest/535812317_e5a810714b_218_15632944@N00.jpg  \n",
            "  inflating: /content/llms-for-image-geolocation-benchmarks/im2gps3k_places365/im2gps3ktest/536025765_3d9d788b85_249_72154266@N00.jpg  \n",
            "  inflating: /content/llms-for-image-geolocation-benchmarks/im2gps3k_places365/im2gps3ktest/536101198_9259f93e31_1276_50994135@N00.jpg  \n",
            "  inflating: /content/llms-for-image-geolocation-benchmarks/im2gps3k_places365/im2gps3ktest/536709290_d8065a325f_1377_79756109@N00.jpg  \n",
            "  inflating: /content/llms-for-image-geolocation-benchmarks/im2gps3k_places365/im2gps3ktest/536756820_e79699aac5_1098_79756109@N00.jpg  \n",
            "  inflating: /content/llms-for-image-geolocation-benchmarks/im2gps3k_places365/im2gps3ktest/536760558_32572c5bd4_1416_79756109@N00.jpg  \n",
            "  inflating: /content/llms-for-image-geolocation-benchmarks/im2gps3k_places365/im2gps3ktest/536809607_071f1e0046_1210_79756109@N00.jpg  \n",
            "  inflating: /content/llms-for-image-geolocation-benchmarks/im2gps3k_places365/im2gps3ktest/536859723_c51b54e63d_1042_79756109@N00.jpg  \n",
            "  inflating: /content/llms-for-image-geolocation-benchmarks/im2gps3k_places365/im2gps3ktest/536939015_4c11d49ea3_1188_79756109@N00.jpg  \n",
            "  inflating: /content/llms-for-image-geolocation-benchmarks/im2gps3k_places365/im2gps3ktest/536943773_1c41fafa3f_1122_79756109@N00.jpg  \n",
            "  inflating: /content/llms-for-image-geolocation-benchmarks/im2gps3k_places365/im2gps3ktest/537171537_206788e6e9_1287_15632944@N00.jpg  \n",
            "  inflating: /content/llms-for-image-geolocation-benchmarks/im2gps3k_places365/im2gps3ktest/537892629_f83a379dde_1355_11114422@N00.jpg  \n",
            "  inflating: /content/llms-for-image-geolocation-benchmarks/im2gps3k_places365/im2gps3ktest/537931107_ba483a3413_1383_11114422@N00.jpg  \n",
            "  inflating: /content/llms-for-image-geolocation-benchmarks/im2gps3k_places365/im2gps3ktest/538497676_c4ae7aba0b_1003_42126397@N00.jpg  \n",
            "  inflating: /content/llms-for-image-geolocation-benchmarks/im2gps3k_places365/im2gps3ktest/538718229_8309e9a75a_1329_42126397@N00.jpg  \n",
            "  inflating: /content/llms-for-image-geolocation-benchmarks/im2gps3k_places365/im2gps3ktest/538966704_244433e285_1327_30571787@N00.jpg  \n",
            "  inflating: /content/llms-for-image-geolocation-benchmarks/im2gps3k_places365/im2gps3ktest/539088749_171a7f7983_1433_30571787@N00.jpg  \n",
            "  inflating: /content/llms-for-image-geolocation-benchmarks/im2gps3k_places365/im2gps3ktest/541015227_71f8357cd6_1415_47311799@N00.jpg  \n",
            "  inflating: /content/llms-for-image-geolocation-benchmarks/im2gps3k_places365/im2gps3ktest/541019211_5a72935cd2_1427_47311799@N00.jpg  \n",
            "  inflating: /content/llms-for-image-geolocation-benchmarks/im2gps3k_places365/im2gps3ktest/541091742_a2e7a1b315_1176_14491548@N00.jpg  \n",
            "  inflating: /content/llms-for-image-geolocation-benchmarks/im2gps3k_places365/im2gps3ktest/541263256_42b18e4eeb_1318_93455345@N00.jpg  \n",
            "  inflating: /content/llms-for-image-geolocation-benchmarks/im2gps3k_places365/im2gps3ktest/541509625_c14cb5fed3_1254_70323761@N00.jpg  \n",
            "  inflating: /content/llms-for-image-geolocation-benchmarks/im2gps3k_places365/im2gps3ktest/541826920_7871e39bc9_1288_79756109@N00.jpg  \n",
            "  inflating: /content/llms-for-image-geolocation-benchmarks/im2gps3k_places365/im2gps3ktest/541906623_b712546926_1152_70323761@N00.jpg  \n",
            "  inflating: /content/llms-for-image-geolocation-benchmarks/im2gps3k_places365/im2gps3ktest/541908990_87426edd62_1057_79756109@N00.jpg  \n",
            "  inflating: /content/llms-for-image-geolocation-benchmarks/im2gps3k_places365/im2gps3ktest/541944988_f36c029161_1120_65367662@N00.jpg  \n",
            "  inflating: /content/llms-for-image-geolocation-benchmarks/im2gps3k_places365/im2gps3ktest/541981779_70d42fb79b_1225_79756109@N00.jpg  \n",
            "  inflating: /content/llms-for-image-geolocation-benchmarks/im2gps3k_places365/im2gps3ktest/542156360_9ff0ceadd9_1013_7729101@N03.jpg  \n",
            "  inflating: /content/llms-for-image-geolocation-benchmarks/im2gps3k_places365/im2gps3ktest/542194419_6f4aded0e2_1334_47311799@N00.jpg  \n",
            "  inflating: /content/llms-for-image-geolocation-benchmarks/im2gps3k_places365/im2gps3ktest/542231917_eae78d26bd_1006_79039156@N00.jpg  \n",
            "  inflating: /content/llms-for-image-geolocation-benchmarks/im2gps3k_places365/im2gps3ktest/542282055_bbda58ef3e_1224_7729101@N03.jpg  \n",
            "  inflating: /content/llms-for-image-geolocation-benchmarks/im2gps3k_places365/im2gps3ktest/542404930_ee23905b86_1226_25159586@N00.jpg  \n",
            "  inflating: /content/llms-for-image-geolocation-benchmarks/im2gps3k_places365/im2gps3ktest/544311061_e6fdf30e15_1237_78841376@N00.jpg  \n",
            "  inflating: /content/llms-for-image-geolocation-benchmarks/im2gps3k_places365/im2gps3ktest/544323514_4b62c6abb0_1228_98908999@N00.jpg  \n",
            "  inflating: /content/llms-for-image-geolocation-benchmarks/im2gps3k_places365/im2gps3ktest/544712822_5d3f873de6_1040_78841376@N00.jpg  \n",
            "  inflating: /content/llms-for-image-geolocation-benchmarks/im2gps3k_places365/im2gps3ktest/544968579_5d226913ed_1067_78841376@N00.jpg  \n",
            "  inflating: /content/llms-for-image-geolocation-benchmarks/im2gps3k_places365/im2gps3ktest/548574623_cb1fd32ee8_1154_53364390@N00.jpg  \n",
            "  inflating: /content/llms-for-image-geolocation-benchmarks/im2gps3k_places365/im2gps3ktest/550674421_f1d748d428_199_50435419@N00.jpg  \n",
            "  inflating: /content/llms-for-image-geolocation-benchmarks/im2gps3k_places365/im2gps3ktest/556912526_b00c48cad4_1136_7885919@N07.jpg  \n",
            "  inflating: /content/llms-for-image-geolocation-benchmarks/im2gps3k_places365/im2gps3ktest/557791386_b6e514c1d3_1425_41894197861@N01.jpg  \n",
            "  inflating: /content/llms-for-image-geolocation-benchmarks/im2gps3k_places365/im2gps3ktest/558188034_264aad3587_1354_61819159@N00.jpg  \n",
            "  inflating: /content/llms-for-image-geolocation-benchmarks/im2gps3k_places365/im2gps3ktest/558319330_f6e59aedd2_1184_24311489@N00.jpg  \n",
            "  inflating: /content/llms-for-image-geolocation-benchmarks/im2gps3k_places365/im2gps3ktest/558496619_38f31b8dc2_1172_61819159@N00.jpg  \n",
            "  inflating: /content/llms-for-image-geolocation-benchmarks/im2gps3k_places365/im2gps3ktest/558500829_3ab35d117e_1185_61819159@N00.jpg  \n",
            "  inflating: /content/llms-for-image-geolocation-benchmarks/im2gps3k_places365/im2gps3ktest/558503213_4e12296cd9_1226_61819159@N00.jpg  \n",
            "  inflating: /content/llms-for-image-geolocation-benchmarks/im2gps3k_places365/im2gps3ktest/558523675_a5390c42fb_1307_61819159@N00.jpg  \n",
            "  inflating: /content/llms-for-image-geolocation-benchmarks/im2gps3k_places365/im2gps3ktest/558528935_e5ac4b3d12_1438_61819159@N00.jpg  \n",
            "  inflating: /content/llms-for-image-geolocation-benchmarks/im2gps3k_places365/im2gps3ktest/558661068_6986ab49b8_1409_53364390@N00.jpg  \n",
            "  inflating: /content/llms-for-image-geolocation-benchmarks/im2gps3k_places365/im2gps3ktest/558911701_b5af6c5cb2_1035_53364390@N00.jpg  \n",
            "  inflating: /content/llms-for-image-geolocation-benchmarks/im2gps3k_places365/im2gps3ktest/559597119_029ec31923_1110_91728102@N00.jpg  \n",
            "  inflating: /content/llms-for-image-geolocation-benchmarks/im2gps3k_places365/im2gps3ktest/559702153_632d7e5682_1248_91728102@N00.jpg  \n",
            "  inflating: /content/llms-for-image-geolocation-benchmarks/im2gps3k_places365/im2gps3ktest/560704935_a9098ccf83_1272_97522422@N00.jpg  \n",
            "  inflating: /content/llms-for-image-geolocation-benchmarks/im2gps3k_places365/im2gps3ktest/561996222_774334f886_1323_7132415@N03.jpg  \n",
            "  inflating: /content/llms-for-image-geolocation-benchmarks/im2gps3k_places365/im2gps3ktest/562977252_f48de5630c_1236_70323761@N00.jpg  \n",
            "  inflating: /content/llms-for-image-geolocation-benchmarks/im2gps3k_places365/im2gps3ktest/563933928_6d5f7e019f_1415_35468147630@N01.jpg  \n",
            "  inflating: /content/llms-for-image-geolocation-benchmarks/im2gps3k_places365/im2gps3ktest/56841609_50e523afbb_24_84498284@N00.jpg  \n",
            "  inflating: /content/llms-for-image-geolocation-benchmarks/im2gps3k_places365/im2gps3ktest/568788960_e9b0a6e37a_1436_48264126@N00.jpg  \n",
            "  inflating: /content/llms-for-image-geolocation-benchmarks/im2gps3k_places365/im2gps3ktest/568911998_069c2ea207_1315_48264126@N00.jpg  \n",
            "  inflating: /content/llms-for-image-geolocation-benchmarks/im2gps3k_places365/im2gps3ktest/569280183_8e650bd68d_1164_48264126@N00.jpg  \n",
            "  inflating: /content/llms-for-image-geolocation-benchmarks/im2gps3k_places365/im2gps3ktest/57068888_d1ff522c7e_33_18684820@N00.jpg  \n",
            "  inflating: /content/llms-for-image-geolocation-benchmarks/im2gps3k_places365/im2gps3ktest/571148593_3b40a8d891_1281_44067110@N00.jpg  \n",
            "  inflating: /content/llms-for-image-geolocation-benchmarks/im2gps3k_places365/im2gps3ktest/572930210_7ec9507b92_1130_70323761@N00.jpg  \n",
            "  inflating: /content/llms-for-image-geolocation-benchmarks/im2gps3k_places365/im2gps3ktest/576274401_e313ee0b89_1022_26519935@N00.jpg  \n",
            "  inflating: /content/llms-for-image-geolocation-benchmarks/im2gps3k_places365/im2gps3ktest/578616857_4900f0587d_1126_70323761@N00.jpg  \n",
            "  inflating: /content/llms-for-image-geolocation-benchmarks/im2gps3k_places365/im2gps3ktest/579275754_39ca197d32_1438_22941966@N00.jpg  \n",
            "  inflating: /content/llms-for-image-geolocation-benchmarks/im2gps3k_places365/im2gps3ktest/579671974_4654b43778_1074_7412395@N07.jpg  \n",
            "  inflating: /content/llms-for-image-geolocation-benchmarks/im2gps3k_places365/im2gps3ktest/581750449_9bdbab0aa8_1424_75452460@N00.jpg  \n",
            "  inflating: /content/llms-for-image-geolocation-benchmarks/im2gps3k_places365/im2gps3ktest/582657546_73b5aa28f4_1361_73293249@N00.jpg  \n",
            "  inflating: /content/llms-for-image-geolocation-benchmarks/im2gps3k_places365/im2gps3ktest/589396207_16afc84d4b_1288_88483799@N00.jpg  \n",
            "  inflating: /content/llms-for-image-geolocation-benchmarks/im2gps3k_places365/im2gps3ktest/589979589_79ee5c320d_1215_26519935@N00.jpg  \n",
            "  inflating: /content/llms-for-image-geolocation-benchmarks/im2gps3k_places365/im2gps3ktest/603984246_2c6a8e6993_1082_50994135@N00.jpg  \n",
            "  inflating: /content/llms-for-image-geolocation-benchmarks/im2gps3k_places365/im2gps3ktest/607385663_77abc9f5aa_1258_15376845@N00.jpg  \n",
            "  inflating: /content/llms-for-image-geolocation-benchmarks/im2gps3k_places365/im2gps3ktest/607432150_e4c78e0cda_1069_15376845@N00.jpg  \n",
            "  inflating: /content/llms-for-image-geolocation-benchmarks/im2gps3k_places365/im2gps3ktest/611060457_7bb64a25b2_1369_24311489@N00.jpg  \n",
            "  inflating: /content/llms-for-image-geolocation-benchmarks/im2gps3k_places365/im2gps3ktest/611517765_6aec1b67e9_1027_85417391@N00.jpg  \n",
            "  inflating: /content/llms-for-image-geolocation-benchmarks/im2gps3k_places365/im2gps3ktest/612062783_7fa828b8e1_1334_85417391@N00.jpg  \n",
            "  inflating: /content/llms-for-image-geolocation-benchmarks/im2gps3k_places365/im2gps3ktest/612790440_539331ffff_1089_82927779@N00.jpg  \n",
            "  inflating: /content/llms-for-image-geolocation-benchmarks/im2gps3k_places365/im2gps3ktest/615266552_d539045e07_1317_72526577@N00.jpg  \n",
            "  inflating: /content/llms-for-image-geolocation-benchmarks/im2gps3k_places365/im2gps3ktest/615287594_adc8563c63_1360_85417391@N00.jpg  \n",
            "  inflating: /content/llms-for-image-geolocation-benchmarks/im2gps3k_places365/im2gps3ktest/615948712_438e11a1f7_1433_72526577@N00.jpg  \n",
            "  inflating: /content/llms-for-image-geolocation-benchmarks/im2gps3k_places365/im2gps3ktest/616388941_1dbd82435f_1135_70323761@N00.jpg  \n",
            "  inflating: /content/llms-for-image-geolocation-benchmarks/im2gps3k_places365/im2gps3ktest/617018192_9feb1e2f55_1168_70323761@N00.jpg  \n",
            "  inflating: /content/llms-for-image-geolocation-benchmarks/im2gps3k_places365/im2gps3ktest/618322292_fd80e5bd73_1023_15376845@N00.jpg  \n",
            "  inflating: /content/llms-for-image-geolocation-benchmarks/im2gps3k_places365/im2gps3ktest/619352795_954928f297_1328_7412395@N07.jpg  \n",
            "  inflating: /content/llms-for-image-geolocation-benchmarks/im2gps3k_places365/im2gps3ktest/61956892_5cd5f47ad7_27_63163416@N00.jpg  \n",
            "  inflating: /content/llms-for-image-geolocation-benchmarks/im2gps3k_places365/im2gps3ktest/61956894_0909ce1889_25_63163416@N00.jpg  \n",
            "  inflating: /content/llms-for-image-geolocation-benchmarks/im2gps3k_places365/im2gps3ktest/619966179_4ebe10adc8_1075_81421684@N00.jpg  \n",
            "  inflating: /content/llms-for-image-geolocation-benchmarks/im2gps3k_places365/im2gps3ktest/62013645_c50732262f_29_63163416@N00.jpg  \n",
            "  inflating: /content/llms-for-image-geolocation-benchmarks/im2gps3k_places365/im2gps3ktest/62355895_fd04859bea_28_18684820@N00.jpg  \n",
            "  inflating: /content/llms-for-image-geolocation-benchmarks/im2gps3k_places365/im2gps3ktest/62417115_59ed7ab033_26_56945335@N00.jpg  \n",
            "  inflating: /content/llms-for-image-geolocation-benchmarks/im2gps3k_places365/im2gps3ktest/628184053_403e17efac_1438_7412395@N07.jpg  \n",
            "  inflating: /content/llms-for-image-geolocation-benchmarks/im2gps3k_places365/im2gps3ktest/629586190_4c75db0db3_1078_93455345@N00.jpg  \n",
            "  inflating: /content/llms-for-image-geolocation-benchmarks/im2gps3k_places365/im2gps3ktest/632329273_40d2eb3a9e_1247_50994135@N00.jpg  \n",
            "  inflating: /content/llms-for-image-geolocation-benchmarks/im2gps3k_places365/im2gps3ktest/638236087_41855e7be5_1244_86122102@N00.jpg  \n",
            "  inflating: /content/llms-for-image-geolocation-benchmarks/im2gps3k_places365/im2gps3ktest/64548480_301cfb4e2a_34_63163416@N00.jpg  \n",
            "  inflating: /content/llms-for-image-geolocation-benchmarks/im2gps3k_places365/im2gps3ktest/64659673_9b669388ce_26_57253263@N00.jpg  \n",
            "  inflating: /content/llms-for-image-geolocation-benchmarks/im2gps3k_places365/im2gps3ktest/649887521_bdfae031b7_1317_7885919@N07.jpg  \n",
            "  inflating: /content/llms-for-image-geolocation-benchmarks/im2gps3k_places365/im2gps3ktest/658358355_d7eb1adb5e_1300_14542551@N00.jpg  \n",
            "  inflating: /content/llms-for-image-geolocation-benchmarks/im2gps3k_places365/im2gps3ktest/659660691_76158f34ea_1305_7412395@N07.jpg  \n",
            "  inflating: /content/llms-for-image-geolocation-benchmarks/im2gps3k_places365/im2gps3ktest/663874441_645cd1668c_1038_77392231@N00.jpg  \n",
            "  inflating: /content/llms-for-image-geolocation-benchmarks/im2gps3k_places365/im2gps3ktest/664183003_ace9ffb884_1136_15376845@N00.jpg  \n",
            "  inflating: /content/llms-for-image-geolocation-benchmarks/im2gps3k_places365/im2gps3ktest/668488293_1b39338210_1369_81421684@N00.jpg  \n",
            "  inflating: /content/llms-for-image-geolocation-benchmarks/im2gps3k_places365/im2gps3ktest/673081582_f822333e60_1196_7412395@N07.jpg  \n",
            "  inflating: /content/llms-for-image-geolocation-benchmarks/im2gps3k_places365/im2gps3ktest/674882167_7436dfa39e_1434_79756109@N00.jpg  \n",
            "  inflating: /content/llms-for-image-geolocation-benchmarks/im2gps3k_places365/im2gps3ktest/675928519_1f97d85c9f_1211_8159033@N04.jpg  \n",
            "  inflating: /content/llms-for-image-geolocation-benchmarks/im2gps3k_places365/im2gps3ktest/676594668_8ec19c2d13_1184_8159033@N04.jpg  \n",
            "  inflating: /content/llms-for-image-geolocation-benchmarks/im2gps3k_places365/im2gps3ktest/676663392_bd51046720_1268_8159033@N04.jpg  \n",
            "  inflating: /content/llms-for-image-geolocation-benchmarks/im2gps3k_places365/im2gps3ktest/676748878_c4a5fc0f3c_1063_8159033@N04.jpg  \n",
            "  inflating: /content/llms-for-image-geolocation-benchmarks/im2gps3k_places365/im2gps3ktest/67821537_2fc8fcce4f_31_90833046@N00.jpg  \n",
            "  inflating: /content/llms-for-image-geolocation-benchmarks/im2gps3k_places365/im2gps3ktest/67821545_c588dbe6c0_31_90833046@N00.jpg  \n",
            "  inflating: /content/llms-for-image-geolocation-benchmarks/im2gps3k_places365/im2gps3ktest/680737569_1cbc2a6d17_1049_99437479@N00.jpg  \n",
            "  inflating: /content/llms-for-image-geolocation-benchmarks/im2gps3k_places365/im2gps3ktest/683194672_ec9ad2a2f9_1418_8159033@N04.jpg  \n",
            "  inflating: /content/llms-for-image-geolocation-benchmarks/im2gps3k_places365/im2gps3ktest/683997779_c9ad869f7a_1253_7885919@N07.jpg  \n",
            "  inflating: /content/llms-for-image-geolocation-benchmarks/im2gps3k_places365/im2gps3ktest/684671283_96291098a8_1395_77392231@N00.jpg  \n",
            "  inflating: /content/llms-for-image-geolocation-benchmarks/im2gps3k_places365/im2gps3ktest/68809354_60c7d9a003_12_97324495@N00.jpg  \n",
            "  inflating: /content/llms-for-image-geolocation-benchmarks/im2gps3k_places365/im2gps3ktest/688605964_5e6a447c89_1073_77392231@N00.jpg  \n",
            "  inflating: /content/llms-for-image-geolocation-benchmarks/im2gps3k_places365/im2gps3ktest/68997452_1f179dafbb_34_97324495@N00.jpg  \n",
            "  inflating: /content/llms-for-image-geolocation-benchmarks/im2gps3k_places365/im2gps3ktest/68999405_6dc1a614db_6_97324495@N00.jpg  \n",
            "  inflating: /content/llms-for-image-geolocation-benchmarks/im2gps3k_places365/im2gps3ktest/69002581_051b9ae759_15_97324495@N00.jpg  \n",
            "  inflating: /content/llms-for-image-geolocation-benchmarks/im2gps3k_places365/im2gps3ktest/698923311_57f919b95a_1096_8078991@N04.jpg  \n",
            "  inflating: /content/llms-for-image-geolocation-benchmarks/im2gps3k_places365/im2gps3ktest/698944837_d562cbf347_1266_8078991@N04.jpg  \n",
            "  inflating: /content/llms-for-image-geolocation-benchmarks/im2gps3k_places365/im2gps3ktest/698958317_4f35444c30_1183_8078991@N04.jpg  \n",
            "  inflating: /content/llms-for-image-geolocation-benchmarks/im2gps3k_places365/im2gps3ktest/699759540_378fc59a13_1033_8078991@N04.jpg  \n",
            "  inflating: /content/llms-for-image-geolocation-benchmarks/im2gps3k_places365/im2gps3ktest/699780960_26d1c14fcd_1324_8078991@N04.jpg  \n",
            "  inflating: /content/llms-for-image-geolocation-benchmarks/im2gps3k_places365/im2gps3ktest/69991386_7f3c5437d2_20_18684820@N00.jpg  \n",
            "  inflating: /content/llms-for-image-geolocation-benchmarks/im2gps3k_places365/im2gps3ktest/699943882_09c2e43ac3_1249_8078991@N04.jpg  \n",
            "  inflating: /content/llms-for-image-geolocation-benchmarks/im2gps3k_places365/im2gps3ktest/69997478_868eb06f34_12_18684820@N00.jpg  \n",
            "  inflating: /content/llms-for-image-geolocation-benchmarks/im2gps3k_places365/im2gps3ktest/702092844_81010e6494_1072_70323761@N00.jpg  \n",
            "  inflating: /content/llms-for-image-geolocation-benchmarks/im2gps3k_places365/im2gps3ktest/70283421_c04449c9c4_18_18684820@N00.jpg  \n",
            "  inflating: /content/llms-for-image-geolocation-benchmarks/im2gps3k_places365/im2gps3ktest/709445941_8f8fb9aa79_1162_94125865@N00.jpg  \n",
            "  inflating: /content/llms-for-image-geolocation-benchmarks/im2gps3k_places365/im2gps3ktest/709525561_60bfffebe4_1261_94125865@N00.jpg  \n",
            "  inflating: /content/llms-for-image-geolocation-benchmarks/im2gps3k_places365/im2gps3ktest/710448366_62a14256a2_1431_94125865@N00.jpg  \n",
            "  inflating: /content/llms-for-image-geolocation-benchmarks/im2gps3k_places365/im2gps3ktest/710953362_f143fbe27d_1401_78841376@N00.jpg  \n",
            "  inflating: /content/llms-for-image-geolocation-benchmarks/im2gps3k_places365/im2gps3ktest/711512171_90859d6cdd_1179_59615371@N00.jpg  \n",
            "  inflating: /content/llms-for-image-geolocation-benchmarks/im2gps3k_places365/im2gps3ktest/712096828_9b7778a3cd_1123_59615371@N00.jpg  \n",
            "  inflating: /content/llms-for-image-geolocation-benchmarks/im2gps3k_places365/im2gps3ktest/712329440_958b95cb91_1054_59615371@N00.jpg  \n",
            "  inflating: /content/llms-for-image-geolocation-benchmarks/im2gps3k_places365/im2gps3ktest/71630340_4bb2caff46_34_18684820@N00.jpg  \n",
            "  inflating: /content/llms-for-image-geolocation-benchmarks/im2gps3k_places365/im2gps3ktest/71782634_c3349c6b8d_33_18684820@N00.jpg  \n",
            "  inflating: /content/llms-for-image-geolocation-benchmarks/im2gps3k_places365/im2gps3ktest/71787974_4bd149b42f_34_18684820@N00.jpg  \n",
            "  inflating: /content/llms-for-image-geolocation-benchmarks/im2gps3k_places365/im2gps3ktest/71794237_d86349d2d8_35_18684820@N00.jpg  \n",
            "  inflating: /content/llms-for-image-geolocation-benchmarks/im2gps3k_places365/im2gps3ktest/71807788_2b6c93f13f_35_18684820@N00.jpg  \n",
            "  inflating: /content/llms-for-image-geolocation-benchmarks/im2gps3k_places365/im2gps3ktest/71812047_61e009056a_35_18684820@N00.jpg  \n",
            "  inflating: /content/llms-for-image-geolocation-benchmarks/im2gps3k_places365/im2gps3ktest/719601745_96666d2da1_1023_7132415@N03.jpg  \n",
            "  inflating: /content/llms-for-image-geolocation-benchmarks/im2gps3k_places365/im2gps3ktest/719620291_9a046d6069_1183_7132415@N03.jpg  \n",
            "  inflating: /content/llms-for-image-geolocation-benchmarks/im2gps3k_places365/im2gps3ktest/719864111_79743ec39e_1210_7132415@N03.jpg  \n",
            "  inflating: /content/llms-for-image-geolocation-benchmarks/im2gps3k_places365/im2gps3ktest/719875225_2da923b1d0_1146_7132415@N03.jpg  \n",
            "  inflating: /content/llms-for-image-geolocation-benchmarks/im2gps3k_places365/im2gps3ktest/720552408_1c65903796_1097_7132415@N03.jpg  \n",
            "  inflating: /content/llms-for-image-geolocation-benchmarks/im2gps3k_places365/im2gps3ktest/720614538_b876797c84_1294_7132415@N03.jpg  \n",
            "  inflating: /content/llms-for-image-geolocation-benchmarks/im2gps3k_places365/im2gps3ktest/722200843_92f212d3cd_1045_7665941@N08.jpg  \n",
            "  inflating: /content/llms-for-image-geolocation-benchmarks/im2gps3k_places365/im2gps3ktest/723199776_5b637a2753_1144_7665941@N08.jpg  \n",
            "  inflating: /content/llms-for-image-geolocation-benchmarks/im2gps3k_places365/im2gps3ktest/72918630_92eae2820d_35_41894197861@N01.jpg  \n",
            "  inflating: /content/llms-for-image-geolocation-benchmarks/im2gps3k_places365/im2gps3ktest/739128198_9df33d6371_1248_78841376@N00.jpg  \n",
            "  inflating: /content/llms-for-image-geolocation-benchmarks/im2gps3k_places365/im2gps3ktest/740062026_b27dbfb90e_1097_42126397@N00.jpg  \n",
            "  inflating: /content/llms-for-image-geolocation-benchmarks/im2gps3k_places365/im2gps3ktest/74067437_47448df473_20_18684820@N00.jpg  \n",
            "  inflating: /content/llms-for-image-geolocation-benchmarks/im2gps3k_places365/im2gps3ktest/743826473_7310a413fb_1075_26519935@N00.jpg  \n",
            "  inflating: /content/llms-for-image-geolocation-benchmarks/im2gps3k_places365/im2gps3ktest/744472458_ae4cf2b1dd_1055_26519935@N00.jpg  \n",
            "  inflating: /content/llms-for-image-geolocation-benchmarks/im2gps3k_places365/im2gps3ktest/744605216_2ec973a357_1235_26519935@N00.jpg  \n",
            "  inflating: /content/llms-for-image-geolocation-benchmarks/im2gps3k_places365/im2gps3ktest/746791136_8007013877_1266_7885919@N07.jpg  \n",
            "  inflating: /content/llms-for-image-geolocation-benchmarks/im2gps3k_places365/im2gps3ktest/75039630_6daaf6d6b1_36_18684820@N00.jpg  \n",
            "  inflating: /content/llms-for-image-geolocation-benchmarks/im2gps3k_places365/im2gps3ktest/75071297_004aed7315_37_18684820@N00.jpg  \n",
            "  inflating: /content/llms-for-image-geolocation-benchmarks/im2gps3k_places365/im2gps3ktest/75080675_049f8588f1_41_18684820@N00.jpg  \n",
            "  inflating: /content/llms-for-image-geolocation-benchmarks/im2gps3k_places365/im2gps3ktest/751432739_ad1d4f8b6e_1201_15376845@N00.jpg  \n",
            "  inflating: /content/llms-for-image-geolocation-benchmarks/im2gps3k_places365/im2gps3ktest/754228237_8c166ba325_1377_75653366@N00.jpg  \n",
            "  inflating: /content/llms-for-image-geolocation-benchmarks/im2gps3k_places365/im2gps3ktest/754780171_13ffd51dec_1229_78247883@N00.jpg  \n",
            "  inflating: /content/llms-for-image-geolocation-benchmarks/im2gps3k_places365/im2gps3ktest/754881567_128bec18c6_1427_78247883@N00.jpg  \n",
            "  inflating: /content/llms-for-image-geolocation-benchmarks/im2gps3k_places365/im2gps3ktest/755240489_f870fa2cbf_1192_7885919@N07.jpg  \n",
            "  inflating: /content/llms-for-image-geolocation-benchmarks/im2gps3k_places365/im2gps3ktest/755493174_041bf280fe_1002_9729483@N02.jpg  \n",
            "  inflating: /content/llms-for-image-geolocation-benchmarks/im2gps3k_places365/im2gps3ktest/755592362_c198cfa94b_1432_44067110@N00.jpg  \n",
            "  inflating: /content/llms-for-image-geolocation-benchmarks/im2gps3k_places365/im2gps3ktest/755668577_76782d26b6_1070_7980350@N08.jpg  \n",
            "  inflating: /content/llms-for-image-geolocation-benchmarks/im2gps3k_places365/im2gps3ktest/756531584_b1beb791ec_1074_7980350@N08.jpg  \n",
            "  inflating: /content/llms-for-image-geolocation-benchmarks/im2gps3k_places365/im2gps3ktest/758114922_f369e388f5_1324_41894169878@N01.jpg  \n",
            "  inflating: /content/llms-for-image-geolocation-benchmarks/im2gps3k_places365/im2gps3ktest/75846717_020275e00c_42_18684820@N00.jpg  \n",
            "  inflating: /content/llms-for-image-geolocation-benchmarks/im2gps3k_places365/im2gps3ktest/758529698_4bcbe635f1_1228_41894197861@N01.jpg  \n",
            "  inflating: /content/llms-for-image-geolocation-benchmarks/im2gps3k_places365/im2gps3ktest/76352739_f68793896f_38_41315423@N00.jpg  \n",
            "  inflating: /content/llms-for-image-geolocation-benchmarks/im2gps3k_places365/im2gps3ktest/764415775_53dda970d8_1231_16836474@N00.jpg  \n",
            "  inflating: /content/llms-for-image-geolocation-benchmarks/im2gps3k_places365/im2gps3ktest/765033054_1a9e7d2332_1184_70323761@N00.jpg  \n",
            "  inflating: /content/llms-for-image-geolocation-benchmarks/im2gps3k_places365/im2gps3ktest/766351079_af0294281f_1240_16836474@N00.jpg  \n",
            "  inflating: /content/llms-for-image-geolocation-benchmarks/im2gps3k_places365/im2gps3ktest/768100764_879c8aaf43_1194_7412395@N07.jpg  \n",
            "  inflating: /content/llms-for-image-geolocation-benchmarks/im2gps3k_places365/im2gps3ktest/768937096_14d87e6d44_1188_7412395@N07.jpg  \n",
            "  inflating: /content/llms-for-image-geolocation-benchmarks/im2gps3k_places365/im2gps3ktest/77298358_5b233ede85_42_36887937@N00.jpg  \n",
            "  inflating: /content/llms-for-image-geolocation-benchmarks/im2gps3k_places365/im2gps3ktest/778754121_54e1fe8fe9_1266_52057668@N00.jpg  \n",
            "  inflating: /content/llms-for-image-geolocation-benchmarks/im2gps3k_places365/im2gps3ktest/780072709_664cc2587d_1367_88971695@N00.jpg  \n",
            "  inflating: /content/llms-for-image-geolocation-benchmarks/im2gps3k_places365/im2gps3ktest/780984200_060a5d35b9_1431_88971695@N00.jpg  \n",
            "  inflating: /content/llms-for-image-geolocation-benchmarks/im2gps3k_places365/im2gps3ktest/78438814_717a8295f2_43_57253263@N00.jpg  \n",
            "  inflating: /content/llms-for-image-geolocation-benchmarks/im2gps3k_places365/im2gps3ktest/786627822_9dc03ca655_1343_78221228@N00.jpg  \n",
            "  inflating: /content/llms-for-image-geolocation-benchmarks/im2gps3k_places365/im2gps3ktest/787062593_8e5e021ae3_1409_7412395@N07.jpg  \n",
            "  inflating: /content/llms-for-image-geolocation-benchmarks/im2gps3k_places365/im2gps3ktest/791979325_a5dac353d6_1372_50994135@N00.jpg  \n",
            "  inflating: /content/llms-for-image-geolocation-benchmarks/im2gps3k_places365/im2gps3ktest/791983847_bbd273ddd8_1411_50994135@N00.jpg  \n",
            "  inflating: /content/llms-for-image-geolocation-benchmarks/im2gps3k_places365/im2gps3ktest/793376891_be64bee904_1060_88483799@N00.jpg  \n",
            "  inflating: /content/llms-for-image-geolocation-benchmarks/im2gps3k_places365/im2gps3ktest/793472927_23f5e860a1_1172_88483799@N00.jpg  \n",
            "  inflating: /content/llms-for-image-geolocation-benchmarks/im2gps3k_places365/im2gps3ktest/793683387_aded60fd6b_1202_88483799@N00.jpg  \n",
            "  inflating: /content/llms-for-image-geolocation-benchmarks/im2gps3k_places365/im2gps3ktest/79460655_2baf6a072c_43_56945335@N00.jpg  \n",
            "  inflating: /content/llms-for-image-geolocation-benchmarks/im2gps3k_places365/im2gps3ktest/79848007_08424b4a76_37_24311489@N00.jpg  \n",
            "  inflating: /content/llms-for-image-geolocation-benchmarks/im2gps3k_places365/im2gps3ktest/802688519_682b640435_1262_96928198@N00.jpg  \n",
            "  inflating: /content/llms-for-image-geolocation-benchmarks/im2gps3k_places365/im2gps3ktest/804712223_bf37f10a7d_1152_15376845@N00.jpg  \n",
            "  inflating: /content/llms-for-image-geolocation-benchmarks/im2gps3k_places365/im2gps3ktest/809416547_647a63be82_1246_15632944@N00.jpg  \n",
            "  inflating: /content/llms-for-image-geolocation-benchmarks/im2gps3k_places365/im2gps3ktest/810330463_890bf813a2_1326_15632944@N00.jpg  \n",
            "  inflating: /content/llms-for-image-geolocation-benchmarks/im2gps3k_places365/im2gps3ktest/812213401_e6efd2edc7_1382_96928198@N00.jpg  \n",
            "  inflating: /content/llms-for-image-geolocation-benchmarks/im2gps3k_places365/im2gps3ktest/815968929_ee36554bd7_1159_7885919@N07.jpg  \n",
            "  inflating: /content/llms-for-image-geolocation-benchmarks/im2gps3k_places365/im2gps3ktest/817626137_3a7d95a2ee_1323_57253263@N00.jpg  \n",
            "  inflating: /content/llms-for-image-geolocation-benchmarks/im2gps3k_places365/im2gps3ktest/819657413_fdcd20c2fe_1304_7885919@N07.jpg  \n",
            "  inflating: /content/llms-for-image-geolocation-benchmarks/im2gps3k_places365/im2gps3ktest/825605923_7964d6f822_1329_51162504@N00.jpg  \n",
            "  inflating: /content/llms-for-image-geolocation-benchmarks/im2gps3k_places365/im2gps3ktest/828267964_035543326a_1377_70323761@N00.jpg  \n",
            "  inflating: /content/llms-for-image-geolocation-benchmarks/im2gps3k_places365/im2gps3ktest/836369318_3775558000_1037_82927779@N00.jpg  \n",
            "  inflating: /content/llms-for-image-geolocation-benchmarks/im2gps3k_places365/im2gps3ktest/84239121_41b16be75f_39_14542551@N00.jpg  \n",
            "  inflating: /content/llms-for-image-geolocation-benchmarks/im2gps3k_places365/im2gps3ktest/84242369_05a98de26e_38_14542551@N00.jpg  \n",
            "  inflating: /content/llms-for-image-geolocation-benchmarks/im2gps3k_places365/im2gps3ktest/84243867_a077b17f1f_40_14542551@N00.jpg  \n",
            "  inflating: /content/llms-for-image-geolocation-benchmarks/im2gps3k_places365/im2gps3ktest/84250338_e862047f1c_36_14542551@N00.jpg  \n",
            "  inflating: /content/llms-for-image-geolocation-benchmarks/im2gps3k_places365/im2gps3ktest/843962291_319276183c_1410_96928198@N00.jpg  \n",
            "  inflating: /content/llms-for-image-geolocation-benchmarks/im2gps3k_places365/im2gps3ktest/844117341_25ecf3a54f_1350_76306992@N00.jpg  \n",
            "  inflating: /content/llms-for-image-geolocation-benchmarks/im2gps3k_places365/im2gps3ktest/844723735_5d3cc016fa_1163_76306992@N00.jpg  \n",
            "  inflating: /content/llms-for-image-geolocation-benchmarks/im2gps3k_places365/im2gps3ktest/844963249_27cd63a5ee_1270_76306992@N00.jpg  \n",
            "  inflating: /content/llms-for-image-geolocation-benchmarks/im2gps3k_places365/im2gps3ktest/845043982_19644270a3_1432_76306992@N00.jpg  \n",
            "  inflating: /content/llms-for-image-geolocation-benchmarks/im2gps3k_places365/im2gps3ktest/845194300_bec89d0c48_1235_76306992@N00.jpg  \n",
            "  inflating: /content/llms-for-image-geolocation-benchmarks/im2gps3k_places365/im2gps3ktest/847733166_0573338bfb_1321_89904893@N00.jpg  \n",
            "  inflating: /content/llms-for-image-geolocation-benchmarks/im2gps3k_places365/im2gps3ktest/852570112_965e603872_1027_7132415@N03.jpg  \n",
            "  inflating: /content/llms-for-image-geolocation-benchmarks/im2gps3k_places365/im2gps3ktest/854886418_943d8765d8_1317_78247883@N00.jpg  \n",
            "  inflating: /content/llms-for-image-geolocation-benchmarks/im2gps3k_places365/im2gps3ktest/85564514_97726138cc_6_11398209@N00.jpg  \n",
            "  inflating: /content/llms-for-image-geolocation-benchmarks/im2gps3k_places365/im2gps3ktest/863965187_d28f1f6342_1189_19953481@N00.jpg  \n",
            "  inflating: /content/llms-for-image-geolocation-benchmarks/im2gps3k_places365/im2gps3ktest/864479146_bb140307ed_1350_25304693@N00.jpg  \n",
            "  inflating: /content/llms-for-image-geolocation-benchmarks/im2gps3k_places365/im2gps3ktest/865162628_73711d50dc_1303_19953481@N00.jpg  \n",
            "  inflating: /content/llms-for-image-geolocation-benchmarks/im2gps3k_places365/im2gps3ktest/865326234_0c641c683c_1415_19953481@N00.jpg  \n",
            "  inflating: /content/llms-for-image-geolocation-benchmarks/im2gps3k_places365/im2gps3ktest/865659775_82c05d3878_1361_23707253@N00.jpg  \n",
            "  inflating: /content/llms-for-image-geolocation-benchmarks/im2gps3k_places365/im2gps3ktest/866797422_4f627e6235_1174_15632944@N00.jpg  \n",
            "  inflating: /content/llms-for-image-geolocation-benchmarks/im2gps3k_places365/im2gps3ktest/871458266_8cac41b3df_1331_15632944@N00.jpg  \n",
            "  inflating: /content/llms-for-image-geolocation-benchmarks/im2gps3k_places365/im2gps3ktest/871598336_63d649d94a_1394_15632944@N00.jpg  \n",
            "  inflating: /content/llms-for-image-geolocation-benchmarks/im2gps3k_places365/im2gps3ktest/871670829_c930438297_1116_85417391@N00.jpg  \n",
            "  inflating: /content/llms-for-image-geolocation-benchmarks/im2gps3k_places365/im2gps3ktest/872398841_aab729f79e_1277_9729483@N02.jpg  \n",
            "  inflating: /content/llms-for-image-geolocation-benchmarks/im2gps3k_places365/im2gps3ktest/872673086_65e8d5efe6_1239_9729483@N02.jpg  \n",
            "  inflating: /content/llms-for-image-geolocation-benchmarks/im2gps3k_places365/im2gps3ktest/872729137_64884ae2cb_1182_88483799@N00.jpg  \n",
            "  inflating: /content/llms-for-image-geolocation-benchmarks/im2gps3k_places365/im2gps3ktest/872841181_2ef32acf29_1371_66281185@N00.jpg  \n",
            "  inflating: /content/llms-for-image-geolocation-benchmarks/im2gps3k_places365/im2gps3ktest/872895920_865d506517_1057_9729483@N02.jpg  \n",
            "  inflating: /content/llms-for-image-geolocation-benchmarks/im2gps3k_places365/im2gps3ktest/872997496_781712636c_1143_70323761@N00.jpg  \n",
            "  inflating: /content/llms-for-image-geolocation-benchmarks/im2gps3k_places365/im2gps3ktest/873010122_2c74adfa62_1015_9729483@N02.jpg  \n",
            "  inflating: /content/llms-for-image-geolocation-benchmarks/im2gps3k_places365/im2gps3ktest/87329543_0dc6b7bb4d_36_69567805@N00.jpg  \n",
            "  inflating: /content/llms-for-image-geolocation-benchmarks/im2gps3k_places365/im2gps3ktest/873560860_5b7fd6044e_1314_88483799@N00.jpg  \n",
            "  inflating: /content/llms-for-image-geolocation-benchmarks/im2gps3k_places365/im2gps3ktest/873800256_2a99a4862b_1002_70323761@N00.jpg  \n",
            "  inflating: /content/llms-for-image-geolocation-benchmarks/im2gps3k_places365/im2gps3ktest/876438778_7c0cef320a_1036_15632944@N00.jpg  \n",
            "  inflating: /content/llms-for-image-geolocation-benchmarks/im2gps3k_places365/im2gps3ktest/876438822_6622dc001e_1220_15632944@N00.jpg  \n",
            "  inflating: /content/llms-for-image-geolocation-benchmarks/im2gps3k_places365/im2gps3ktest/877407386_e083c78701_1225_78841376@N00.jpg  \n",
            "  inflating: /content/llms-for-image-geolocation-benchmarks/im2gps3k_places365/im2gps3ktest/880710221_64f0fdd8f2_1137_85417391@N00.jpg  \n",
            "  inflating: /content/llms-for-image-geolocation-benchmarks/im2gps3k_places365/im2gps3ktest/883235088_b87323f114_1334_93487964@N00.jpg  \n",
            "  inflating: /content/llms-for-image-geolocation-benchmarks/im2gps3k_places365/im2gps3ktest/885651997_285ca80968_1170_61417564@N00.jpg  \n",
            "  inflating: /content/llms-for-image-geolocation-benchmarks/im2gps3k_places365/im2gps3ktest/88585744_926b069bf3_40_40279823@N00.jpg  \n",
            "  inflating: /content/llms-for-image-geolocation-benchmarks/im2gps3k_places365/im2gps3ktest/88595270_07cf7550a6_23_40279823@N00.jpg  \n",
            "  inflating: /content/llms-for-image-geolocation-benchmarks/im2gps3k_places365/im2gps3ktest/888917254_4dc81b435f_1330_89904893@N00.jpg  \n",
            "  inflating: /content/llms-for-image-geolocation-benchmarks/im2gps3k_places365/im2gps3ktest/89068925_6901e322ac_17_69567805@N00.jpg  \n",
            "  inflating: /content/llms-for-image-geolocation-benchmarks/im2gps3k_places365/im2gps3ktest/89073637_36d2bc270f_23_69567805@N00.jpg  \n",
            "  inflating: /content/llms-for-image-geolocation-benchmarks/im2gps3k_places365/im2gps3ktest/893439291_7f8963c066_1412_65367662@N00.jpg  \n",
            "  inflating: /content/llms-for-image-geolocation-benchmarks/im2gps3k_places365/im2gps3ktest/894010572_06a775d498_1297_65367662@N00.jpg  \n",
            "  inflating: /content/llms-for-image-geolocation-benchmarks/im2gps3k_places365/im2gps3ktest/896236293_fbc9685b17_1387_65367662@N00.jpg  \n",
            "  inflating: /content/llms-for-image-geolocation-benchmarks/im2gps3k_places365/im2gps3ktest/896907843_6aa48c6bc4_1065_98545448@N00.jpg  \n",
            "  inflating: /content/llms-for-image-geolocation-benchmarks/im2gps3k_places365/im2gps3ktest/897154037_326d166266_1217_15632944@N00.jpg  \n",
            "  inflating: /content/llms-for-image-geolocation-benchmarks/im2gps3k_places365/im2gps3ktest/89895256_3a74abd0ef_14_28026984@N00.jpg  \n",
            "  inflating: /content/llms-for-image-geolocation-benchmarks/im2gps3k_places365/im2gps3ktest/899235815_588087e69c_1422_98545448@N00.jpg  \n",
            "  inflating: /content/llms-for-image-geolocation-benchmarks/im2gps3k_places365/im2gps3ktest/907086920_b54a7fc89f_1329_26519935@N00.jpg  \n",
            "  inflating: /content/llms-for-image-geolocation-benchmarks/im2gps3k_places365/im2gps3ktest/910838365_d230fdd8e5_1356_9729483@N02.jpg  \n",
            "  inflating: /content/llms-for-image-geolocation-benchmarks/im2gps3k_places365/im2gps3ktest/911328833_4e124e7691_1263_50435419@N00.jpg  \n",
            "  inflating: /content/llms-for-image-geolocation-benchmarks/im2gps3k_places365/im2gps3ktest/911801310_5e1f8f5338_1117_9729483@N02.jpg  \n",
            "  inflating: /content/llms-for-image-geolocation-benchmarks/im2gps3k_places365/im2gps3ktest/91284673_fc384015c6_21_80528961@N00.jpg  \n",
            "  inflating: /content/llms-for-image-geolocation-benchmarks/im2gps3k_places365/im2gps3ktest/913280742_863e5c9641_1221_50435419@N00.jpg  \n",
            "  inflating: /content/llms-for-image-geolocation-benchmarks/im2gps3k_places365/im2gps3ktest/91383095_7618f1a207_19_83794921@N00.jpg  \n",
            "  inflating: /content/llms-for-image-geolocation-benchmarks/im2gps3k_places365/im2gps3ktest/913874131_e9cd391699_1181_36887937@N00.jpg  \n",
            "  inflating: /content/llms-for-image-geolocation-benchmarks/im2gps3k_places365/im2gps3ktest/91418816_1ba3c94a63_22_83794921@N00.jpg  \n",
            "  inflating: /content/llms-for-image-geolocation-benchmarks/im2gps3k_places365/im2gps3ktest/91447230_d9c034e5c2_14_83794921@N00.jpg  \n",
            "  inflating: /content/llms-for-image-geolocation-benchmarks/im2gps3k_places365/im2gps3ktest/91456180_e82f1ee09e_19_40279823@N00.jpg  \n",
            "  inflating: /content/llms-for-image-geolocation-benchmarks/im2gps3k_places365/im2gps3ktest/914664036_e8b4a378ba_1198_50435419@N00.jpg  \n",
            "  inflating: /content/llms-for-image-geolocation-benchmarks/im2gps3k_places365/im2gps3ktest/919126362_49e364686c_1300_50994135@N00.jpg  \n",
            "  inflating: /content/llms-for-image-geolocation-benchmarks/im2gps3k_places365/im2gps3ktest/91977946_24b719fd2d_26_16836474@N00.jpg  \n",
            "  inflating: /content/llms-for-image-geolocation-benchmarks/im2gps3k_places365/im2gps3ktest/928611855_e53550a64d_1094_19355699@N00.jpg  \n",
            "  inflating: /content/llms-for-image-geolocation-benchmarks/im2gps3k_places365/im2gps3ktest/929660326_553b12bf09_1169_78247883@N00.jpg  \n",
            "  inflating: /content/llms-for-image-geolocation-benchmarks/im2gps3k_places365/im2gps3ktest/929674188_902f7a7d7c_1427_19355699@N00.jpg  \n",
            "  inflating: /content/llms-for-image-geolocation-benchmarks/im2gps3k_places365/im2gps3ktest/929780960_4214c6aed4_1137_19355699@N00.jpg  \n",
            "  inflating: /content/llms-for-image-geolocation-benchmarks/im2gps3k_places365/im2gps3ktest/933041721_8eacf5adbb_1319_54699140@N00.jpg  \n",
            "  inflating: /content/llms-for-image-geolocation-benchmarks/im2gps3k_places365/im2gps3ktest/933895942_542d5501c9_1094_54699140@N00.jpg  \n",
            "  inflating: /content/llms-for-image-geolocation-benchmarks/im2gps3k_places365/im2gps3ktest/939001952_76043e4a1d_1066_78221228@N00.jpg  \n",
            "  inflating: /content/llms-for-image-geolocation-benchmarks/im2gps3k_places365/im2gps3ktest/940817031_d7a45ef727_1188_15632944@N00.jpg  \n",
            "  inflating: /content/llms-for-image-geolocation-benchmarks/im2gps3k_places365/im2gps3ktest/94108900_7ae6c48ca5_25_25159586@N00.jpg  \n",
            "  inflating: /content/llms-for-image-geolocation-benchmarks/im2gps3k_places365/im2gps3ktest/94109874_d31b3793e1_12_25159586@N00.jpg  \n",
            "  inflating: /content/llms-for-image-geolocation-benchmarks/im2gps3k_places365/im2gps3ktest/94311984_74b930ea7d_17_88483799@N00.jpg  \n",
            "  inflating: /content/llms-for-image-geolocation-benchmarks/im2gps3k_places365/im2gps3ktest/943507788_38e790787b_1268_15632944@N00.jpg  \n",
            "  inflating: /content/llms-for-image-geolocation-benchmarks/im2gps3k_places365/im2gps3ktest/945318460_ad872b33f1_1387_70323761@N00.jpg  \n",
            "  inflating: /content/llms-for-image-geolocation-benchmarks/im2gps3k_places365/im2gps3ktest/950136674_4b5aab6258_1394_97522422@N00.jpg  \n",
            "  inflating: /content/llms-for-image-geolocation-benchmarks/im2gps3k_places365/im2gps3ktest/952890665_1a89f27ab7_1088_78841376@N00.jpg  \n",
            "  inflating: /content/llms-for-image-geolocation-benchmarks/im2gps3k_places365/im2gps3ktest/952947179_04019a057e_1270_78841376@N00.jpg  \n",
            "  inflating: /content/llms-for-image-geolocation-benchmarks/im2gps3k_places365/im2gps3ktest/953550707_009c8bef9a_1201_78841376@N00.jpg  \n",
            "  inflating: /content/llms-for-image-geolocation-benchmarks/im2gps3k_places365/im2gps3ktest/953958988_a301167053_1139_78841376@N00.jpg  \n",
            "  inflating: /content/llms-for-image-geolocation-benchmarks/im2gps3k_places365/im2gps3ktest/954716319_e478023818_1280_78841376@N00.jpg  \n",
            "  inflating: /content/llms-for-image-geolocation-benchmarks/im2gps3k_places365/im2gps3ktest/954925061_d2929ee621_1207_89904893@N00.jpg  \n",
            "  inflating: /content/llms-for-image-geolocation-benchmarks/im2gps3k_places365/im2gps3ktest/955054254_dfe6d34d64_1315_97522422@N00.jpg  \n",
            "  inflating: /content/llms-for-image-geolocation-benchmarks/im2gps3k_places365/im2gps3ktest/955545250_71d0df1e16_1138_78841376@N00.jpg  \n",
            "  inflating: /content/llms-for-image-geolocation-benchmarks/im2gps3k_places365/im2gps3ktest/956386417_6f68bd5c46_1201_9729483@N02.jpg  \n",
            "  inflating: /content/llms-for-image-geolocation-benchmarks/im2gps3k_places365/im2gps3ktest/956468265_68068065f6_1434_9729483@N02.jpg  \n",
            "  inflating: /content/llms-for-image-geolocation-benchmarks/im2gps3k_places365/im2gps3ktest/957341654_3cb1b6ed56_1139_9729483@N02.jpg  \n",
            "  inflating: /content/llms-for-image-geolocation-benchmarks/im2gps3k_places365/im2gps3ktest/959354055_bc102ce3fe_1372_97522422@N00.jpg  \n",
            "  inflating: /content/llms-for-image-geolocation-benchmarks/im2gps3k_places365/im2gps3ktest/960188046_9e7673ee8d_1417_97522422@N00.jpg  \n",
            "  inflating: /content/llms-for-image-geolocation-benchmarks/im2gps3k_places365/im2gps3ktest/960251886_d8b86a66ce_1325_97522422@N00.jpg  \n",
            "  inflating: /content/llms-for-image-geolocation-benchmarks/im2gps3k_places365/im2gps3ktest/96425940_40ecbcecd1_19_56945335@N00.jpg  \n",
            "  inflating: /content/llms-for-image-geolocation-benchmarks/im2gps3k_places365/im2gps3ktest/965205747_3522beb52f_1233_98545448@N00.jpg  \n",
            "  inflating: /content/llms-for-image-geolocation-benchmarks/im2gps3k_places365/im2gps3ktest/965623826_37436a1a1f_1234_98545448@N00.jpg  \n",
            "  inflating: /content/llms-for-image-geolocation-benchmarks/im2gps3k_places365/im2gps3ktest/969599827_165961a2f6_1352_9729483@N02.jpg  \n",
            "  inflating: /content/llms-for-image-geolocation-benchmarks/im2gps3k_places365/im2gps3ktest/970434820_4f1f864dcc_1376_9729483@N02.jpg  \n",
            "  inflating: /content/llms-for-image-geolocation-benchmarks/im2gps3k_places365/im2gps3ktest/970466868_c72b51d4fa_1360_9729483@N02.jpg  \n",
            "  inflating: /content/llms-for-image-geolocation-benchmarks/im2gps3k_places365/im2gps3ktest/97322000_3a43673d93_36_77325609@N00.jpg  \n",
            "  inflating: /content/llms-for-image-geolocation-benchmarks/im2gps3k_places365/im2gps3ktest/97322117_834324881b_40_77325609@N00.jpg  \n",
            "  inflating: /content/llms-for-image-geolocation-benchmarks/im2gps3k_places365/im2gps3ktest/97329660_404c13cc16_36_77325609@N00.jpg  \n",
            "  inflating: /content/llms-for-image-geolocation-benchmarks/im2gps3k_places365/im2gps3ktest/97329780_a468851447_22_77325609@N00.jpg  \n",
            "  inflating: /content/llms-for-image-geolocation-benchmarks/im2gps3k_places365/im2gps3ktest/97344146_71de07ecb7_39_77325609@N00.jpg  \n",
            "  inflating: /content/llms-for-image-geolocation-benchmarks/im2gps3k_places365/im2gps3ktest/97344347_2cc71e92fa_31_77325609@N00.jpg  \n",
            "  inflating: /content/llms-for-image-geolocation-benchmarks/im2gps3k_places365/im2gps3ktest/977680330_76d890164e_1283_32377115@N00.jpg  \n",
            "  inflating: /content/llms-for-image-geolocation-benchmarks/im2gps3k_places365/im2gps3ktest/980797937_eb871fed74_1418_9729483@N02.jpg  \n",
            "  inflating: /content/llms-for-image-geolocation-benchmarks/im2gps3k_places365/im2gps3ktest/981399894_91c3cea73e_1160_9729483@N02.jpg  \n",
            "  inflating: /content/llms-for-image-geolocation-benchmarks/im2gps3k_places365/im2gps3ktest/98358747_a658e693b5_29_83794921@N00.jpg  \n",
            "  inflating: /content/llms-for-image-geolocation-benchmarks/im2gps3k_places365/im2gps3ktest/985776966_be5cb76e0b_1239_23707253@N00.jpg  \n",
            "  inflating: /content/llms-for-image-geolocation-benchmarks/im2gps3k_places365/im2gps3ktest/98906596_9253c76237_43_41894169878@N01.jpg  \n",
            "  inflating: /content/llms-for-image-geolocation-benchmarks/im2gps3k_places365/im2gps3ktest/99060686_1703e6da35_41_44972214@N00.jpg  \n",
            "  inflating: /content/llms-for-image-geolocation-benchmarks/im2gps3k_places365/im2gps3ktest/99078324_9d8e7a3975_28_44972214@N00.jpg  \n",
            "  inflating: /content/llms-for-image-geolocation-benchmarks/im2gps3k_places365/im2gps3ktest/99101189_a518846673_43_50517642@N00.jpg  \n",
            "  inflating: /content/llms-for-image-geolocation-benchmarks/im2gps3k_places365/im2gps3ktest/99115715_1bdd45ca71_19_50517642@N00.jpg  \n",
            "  inflating: /content/llms-for-image-geolocation-benchmarks/im2gps3k_places365/im2gps3ktest/995674057_2360a67996_1182_98545448@N00.jpg  \n",
            "  inflating: /content/llms-for-image-geolocation-benchmarks/im2gps3k_places365/im2gps3ktest/995764493_f8128f77c1_1226_98545448@N00.jpg  \n",
            "  inflating: /content/llms-for-image-geolocation-benchmarks/yfcc4k/yfcc4k/yfcc4k.txt  \n",
            "  inflating: /content/llms-for-image-geolocation-benchmarks/yfcc4k/yfcc4k/yfcc4k/10003206806.jpg  \n",
            "  inflating: /content/llms-for-image-geolocation-benchmarks/yfcc4k/yfcc4k/yfcc4k/10008911015.jpg  \n",
            "  inflating: /content/llms-for-image-geolocation-benchmarks/yfcc4k/yfcc4k/yfcc4k/10008921046.jpg  \n",
            "  inflating: /content/llms-for-image-geolocation-benchmarks/yfcc4k/yfcc4k/yfcc4k/10024082366.jpg  \n",
            "  inflating: /content/llms-for-image-geolocation-benchmarks/yfcc4k/yfcc4k/yfcc4k/10024265006.jpg  \n",
            "  inflating: /content/llms-for-image-geolocation-benchmarks/yfcc4k/yfcc4k/yfcc4k/10034213766.jpg  \n",
            "  inflating: /content/llms-for-image-geolocation-benchmarks/yfcc4k/yfcc4k/yfcc4k/10039243763.jpg  \n",
            "  inflating: /content/llms-for-image-geolocation-benchmarks/yfcc4k/yfcc4k/yfcc4k/10055317133.jpg  \n",
            "  inflating: /content/llms-for-image-geolocation-benchmarks/yfcc4k/yfcc4k/yfcc4k/10056108614.jpg  \n",
            "  inflating: /content/llms-for-image-geolocation-benchmarks/yfcc4k/yfcc4k/yfcc4k/10082270546.jpg  \n",
            "  inflating: /content/llms-for-image-geolocation-benchmarks/yfcc4k/yfcc4k/yfcc4k/10087873066.jpg  \n",
            "  inflating: /content/llms-for-image-geolocation-benchmarks/yfcc4k/yfcc4k/yfcc4k/10087878803.jpg  \n",
            "  inflating: /content/llms-for-image-geolocation-benchmarks/yfcc4k/yfcc4k/yfcc4k/10088248896.jpg  \n",
            "  inflating: /content/llms-for-image-geolocation-benchmarks/yfcc4k/yfcc4k/yfcc4k/10092016655.jpg  \n",
            "  inflating: /content/llms-for-image-geolocation-benchmarks/yfcc4k/yfcc4k/yfcc4k/10095202894.jpg  \n",
            "  inflating: /content/llms-for-image-geolocation-benchmarks/yfcc4k/yfcc4k/yfcc4k/10096195633.jpg  \n",
            "  inflating: /content/llms-for-image-geolocation-benchmarks/yfcc4k/yfcc4k/yfcc4k/10104595695.jpg  \n",
            "  inflating: /content/llms-for-image-geolocation-benchmarks/yfcc4k/yfcc4k/yfcc4k/10108232324.jpg  \n",
            "  inflating: /content/llms-for-image-geolocation-benchmarks/yfcc4k/yfcc4k/yfcc4k/10115503696.jpg  \n",
            "  inflating: /content/llms-for-image-geolocation-benchmarks/yfcc4k/yfcc4k/yfcc4k/10135493734.jpg  \n",
            "  inflating: /content/llms-for-image-geolocation-benchmarks/yfcc4k/yfcc4k/yfcc4k/10161480566.jpg  \n",
            "  inflating: /content/llms-for-image-geolocation-benchmarks/yfcc4k/yfcc4k/yfcc4k/10165024485.jpg  \n",
            "  inflating: /content/llms-for-image-geolocation-benchmarks/yfcc4k/yfcc4k/yfcc4k/10173061783.jpg  \n",
            "  inflating: /content/llms-for-image-geolocation-benchmarks/yfcc4k/yfcc4k/yfcc4k/10180769305.jpg  \n",
            "  inflating: /content/llms-for-image-geolocation-benchmarks/yfcc4k/yfcc4k/yfcc4k/10200406944.jpg  \n",
            "  inflating: /content/llms-for-image-geolocation-benchmarks/yfcc4k/yfcc4k/yfcc4k/10201275523.jpg  \n",
            "  inflating: /content/llms-for-image-geolocation-benchmarks/yfcc4k/yfcc4k/yfcc4k/10206454296.jpg  \n",
            "  inflating: /content/llms-for-image-geolocation-benchmarks/yfcc4k/yfcc4k/yfcc4k/10207263263.jpg  \n",
            "  inflating: /content/llms-for-image-geolocation-benchmarks/yfcc4k/yfcc4k/yfcc4k/10207934705.jpg  \n",
            "  inflating: /content/llms-for-image-geolocation-benchmarks/yfcc4k/yfcc4k/yfcc4k/10209453304.jpg  \n",
            "  inflating: /content/llms-for-image-geolocation-benchmarks/yfcc4k/yfcc4k/yfcc4k/10240863174.jpg  \n",
            "  inflating: /content/llms-for-image-geolocation-benchmarks/yfcc4k/yfcc4k/yfcc4k/10242634074.jpg  \n",
            "  inflating: /content/llms-for-image-geolocation-benchmarks/yfcc4k/yfcc4k/yfcc4k/10246771045.jpg  \n",
            "  inflating: /content/llms-for-image-geolocation-benchmarks/yfcc4k/yfcc4k/yfcc4k/10260624044.jpg  \n",
            "  inflating: /content/llms-for-image-geolocation-benchmarks/yfcc4k/yfcc4k/yfcc4k/1027698036.jpg  \n",
            "  inflating: /content/llms-for-image-geolocation-benchmarks/yfcc4k/yfcc4k/yfcc4k/10286226576.jpg  \n",
            "  inflating: /content/llms-for-image-geolocation-benchmarks/yfcc4k/yfcc4k/yfcc4k/10293269073.jpg  \n",
            "  inflating: /content/llms-for-image-geolocation-benchmarks/yfcc4k/yfcc4k/yfcc4k/10293996006.jpg  \n",
            "  inflating: /content/llms-for-image-geolocation-benchmarks/yfcc4k/yfcc4k/yfcc4k/10300709926.jpg  \n",
            "  inflating: /content/llms-for-image-geolocation-benchmarks/yfcc4k/yfcc4k/yfcc4k/10304422024.jpg  \n",
            "  inflating: /content/llms-for-image-geolocation-benchmarks/yfcc4k/yfcc4k/yfcc4k/10316186035.jpg  \n",
            "  inflating: /content/llms-for-image-geolocation-benchmarks/yfcc4k/yfcc4k/yfcc4k/10321309023.jpg  \n",
            "  inflating: /content/llms-for-image-geolocation-benchmarks/yfcc4k/yfcc4k/yfcc4k/10322784153.jpg  \n",
            "  inflating: /content/llms-for-image-geolocation-benchmarks/yfcc4k/yfcc4k/yfcc4k/10397992083.jpg  \n",
            "  inflating: /content/llms-for-image-geolocation-benchmarks/yfcc4k/yfcc4k/yfcc4k/10399892043.jpg  \n",
            "  inflating: /content/llms-for-image-geolocation-benchmarks/yfcc4k/yfcc4k/yfcc4k/10401922445.jpg  \n",
            "  inflating: /content/llms-for-image-geolocation-benchmarks/yfcc4k/yfcc4k/yfcc4k/10410223126.jpg  \n",
            "  inflating: /content/llms-for-image-geolocation-benchmarks/yfcc4k/yfcc4k/yfcc4k/10411118775.jpg  \n",
            "  inflating: /content/llms-for-image-geolocation-benchmarks/yfcc4k/yfcc4k/yfcc4k/1041980979.jpg  \n",
            "  inflating: /content/llms-for-image-geolocation-benchmarks/yfcc4k/yfcc4k/yfcc4k/10425144806.jpg  \n",
            "  inflating: /content/llms-for-image-geolocation-benchmarks/yfcc4k/yfcc4k/yfcc4k/10459022813.jpg  \n",
            "  inflating: /content/llms-for-image-geolocation-benchmarks/yfcc4k/yfcc4k/yfcc4k/10466338064.jpg  \n",
            "  inflating: /content/llms-for-image-geolocation-benchmarks/yfcc4k/yfcc4k/yfcc4k/10488772426.jpg  \n",
            "  inflating: /content/llms-for-image-geolocation-benchmarks/yfcc4k/yfcc4k/yfcc4k/10490868984.jpg  \n",
            "  inflating: /content/llms-for-image-geolocation-benchmarks/yfcc4k/yfcc4k/yfcc4k/1049921616.jpg  \n",
            "  inflating: /content/llms-for-image-geolocation-benchmarks/yfcc4k/yfcc4k/yfcc4k/10537366026.jpg  \n",
            "  inflating: /content/llms-for-image-geolocation-benchmarks/yfcc4k/yfcc4k/yfcc4k/10543498845.jpg  \n",
            "  inflating: /content/llms-for-image-geolocation-benchmarks/yfcc4k/yfcc4k/yfcc4k/10557058054.jpg  \n",
            "  inflating: /content/llms-for-image-geolocation-benchmarks/yfcc4k/yfcc4k/yfcc4k/10557294334.jpg  \n",
            "  inflating: /content/llms-for-image-geolocation-benchmarks/yfcc4k/yfcc4k/yfcc4k/10558976775.jpg  \n",
            "  inflating: /content/llms-for-image-geolocation-benchmarks/yfcc4k/yfcc4k/yfcc4k/10580294083.jpg  \n",
            "  inflating: /content/llms-for-image-geolocation-benchmarks/yfcc4k/yfcc4k/yfcc4k/10580793474.jpg  \n",
            "  inflating: /content/llms-for-image-geolocation-benchmarks/yfcc4k/yfcc4k/yfcc4k/10593624805.jpg  \n",
            "  inflating: /content/llms-for-image-geolocation-benchmarks/yfcc4k/yfcc4k/yfcc4k/10594910555.jpg  \n",
            "  inflating: /content/llms-for-image-geolocation-benchmarks/yfcc4k/yfcc4k/yfcc4k/10623186856.jpg  \n",
            "  inflating: /content/llms-for-image-geolocation-benchmarks/yfcc4k/yfcc4k/yfcc4k/1064004307.jpg  \n",
            "  inflating: /content/llms-for-image-geolocation-benchmarks/yfcc4k/yfcc4k/yfcc4k/10644134743.jpg  \n",
            "  inflating: /content/llms-for-image-geolocation-benchmarks/yfcc4k/yfcc4k/yfcc4k/10647448093.jpg  \n",
            "  inflating: /content/llms-for-image-geolocation-benchmarks/yfcc4k/yfcc4k/yfcc4k/10662920275.jpg  \n",
            "  inflating: /content/llms-for-image-geolocation-benchmarks/yfcc4k/yfcc4k/yfcc4k/1066580745.jpg  \n",
            "  inflating: /content/llms-for-image-geolocation-benchmarks/yfcc4k/yfcc4k/yfcc4k/10666582604.jpg  \n",
            "  inflating: /content/llms-for-image-geolocation-benchmarks/yfcc4k/yfcc4k/yfcc4k/10674335495.jpg  \n",
            "  inflating: /content/llms-for-image-geolocation-benchmarks/yfcc4k/yfcc4k/yfcc4k/10674361853.jpg  \n",
            "  inflating: /content/llms-for-image-geolocation-benchmarks/yfcc4k/yfcc4k/yfcc4k/10717657626.jpg  \n",
            "  inflating: /content/llms-for-image-geolocation-benchmarks/yfcc4k/yfcc4k/yfcc4k/10722950263.jpg  \n",
            "  inflating: /content/llms-for-image-geolocation-benchmarks/yfcc4k/yfcc4k/yfcc4k/10726924076.jpg  \n",
            "  inflating: /content/llms-for-image-geolocation-benchmarks/yfcc4k/yfcc4k/yfcc4k/10728351393.jpg  \n",
            "  inflating: /content/llms-for-image-geolocation-benchmarks/yfcc4k/yfcc4k/yfcc4k/10735218284.jpg  \n",
            "  inflating: /content/llms-for-image-geolocation-benchmarks/yfcc4k/yfcc4k/yfcc4k/10744499306.jpg  \n",
            "  inflating: /content/llms-for-image-geolocation-benchmarks/yfcc4k/yfcc4k/yfcc4k/10745738505.jpg  \n",
            "  inflating: /content/llms-for-image-geolocation-benchmarks/yfcc4k/yfcc4k/yfcc4k/1075018111.jpg  \n",
            "  inflating: /content/llms-for-image-geolocation-benchmarks/yfcc4k/yfcc4k/yfcc4k/10762329536.jpg  \n",
            "  inflating: /content/llms-for-image-geolocation-benchmarks/yfcc4k/yfcc4k/yfcc4k/10785585824.jpg  \n",
            "  inflating: /content/llms-for-image-geolocation-benchmarks/yfcc4k/yfcc4k/yfcc4k/10794801586.jpg  \n",
            "  inflating: /content/llms-for-image-geolocation-benchmarks/yfcc4k/yfcc4k/yfcc4k/10821622644.jpg  \n",
            "  inflating: /content/llms-for-image-geolocation-benchmarks/yfcc4k/yfcc4k/yfcc4k/10822450044.jpg  \n",
            "  inflating: /content/llms-for-image-geolocation-benchmarks/yfcc4k/yfcc4k/yfcc4k/10831224574.jpg  \n",
            "  inflating: /content/llms-for-image-geolocation-benchmarks/yfcc4k/yfcc4k/yfcc4k/10848702735.jpg  \n",
            "  inflating: /content/llms-for-image-geolocation-benchmarks/yfcc4k/yfcc4k/yfcc4k/10853483214.jpg  \n",
            "  inflating: /content/llms-for-image-geolocation-benchmarks/yfcc4k/yfcc4k/yfcc4k/10867612325.jpg  \n",
            "  inflating: /content/llms-for-image-geolocation-benchmarks/yfcc4k/yfcc4k/yfcc4k/10875335353.jpg  \n",
            "  inflating: /content/llms-for-image-geolocation-benchmarks/yfcc4k/yfcc4k/yfcc4k/10884555755.jpg  \n",
            "  inflating: /content/llms-for-image-geolocation-benchmarks/yfcc4k/yfcc4k/yfcc4k/10887288124.jpg  \n",
            "  inflating: /content/llms-for-image-geolocation-benchmarks/yfcc4k/yfcc4k/yfcc4k/10887691415.jpg  \n",
            "  inflating: /content/llms-for-image-geolocation-benchmarks/yfcc4k/yfcc4k/yfcc4k/10888967684.jpg  \n",
            "  inflating: /content/llms-for-image-geolocation-benchmarks/yfcc4k/yfcc4k/yfcc4k/10916131976.jpg  \n",
            "  inflating: /content/llms-for-image-geolocation-benchmarks/yfcc4k/yfcc4k/yfcc4k/10924169113.jpg  \n",
            "  inflating: /content/llms-for-image-geolocation-benchmarks/yfcc4k/yfcc4k/yfcc4k/10945766006.jpg  \n",
            "  inflating: /content/llms-for-image-geolocation-benchmarks/yfcc4k/yfcc4k/yfcc4k/10964641156.jpg  \n",
            "  inflating: /content/llms-for-image-geolocation-benchmarks/yfcc4k/yfcc4k/yfcc4k/10977505143.jpg  \n",
            "  inflating: /content/llms-for-image-geolocation-benchmarks/yfcc4k/yfcc4k/yfcc4k/10990476484.jpg  \n",
            "  inflating: /content/llms-for-image-geolocation-benchmarks/yfcc4k/yfcc4k/yfcc4k/11002978346.jpg  \n",
            "  inflating: /content/llms-for-image-geolocation-benchmarks/yfcc4k/yfcc4k/yfcc4k/11016735633.jpg  \n",
            "  inflating: /content/llms-for-image-geolocation-benchmarks/yfcc4k/yfcc4k/yfcc4k/11034422753.jpg  \n",
            "  inflating: /content/llms-for-image-geolocation-benchmarks/yfcc4k/yfcc4k/yfcc4k/11041410715.jpg  \n",
            "  inflating: /content/llms-for-image-geolocation-benchmarks/yfcc4k/yfcc4k/yfcc4k/11080170865.jpg  \n",
            "  inflating: /content/llms-for-image-geolocation-benchmarks/yfcc4k/yfcc4k/yfcc4k/1108495188.jpg  \n",
            "  inflating: /content/llms-for-image-geolocation-benchmarks/yfcc4k/yfcc4k/yfcc4k/11091784836.jpg  \n",
            "  inflating: /content/llms-for-image-geolocation-benchmarks/yfcc4k/yfcc4k/yfcc4k/11103484436.jpg  \n",
            "  inflating: /content/llms-for-image-geolocation-benchmarks/yfcc4k/yfcc4k/yfcc4k/11108553534.jpg  \n",
            "  inflating: /content/llms-for-image-geolocation-benchmarks/yfcc4k/yfcc4k/yfcc4k/11110293423.jpg  \n",
            "  inflating: /content/llms-for-image-geolocation-benchmarks/yfcc4k/yfcc4k/yfcc4k/11112851676.jpg  \n",
            "  inflating: /content/llms-for-image-geolocation-benchmarks/yfcc4k/yfcc4k/yfcc4k/11124013046.jpg  \n",
            "  inflating: /content/llms-for-image-geolocation-benchmarks/yfcc4k/yfcc4k/yfcc4k/11124376326.jpg  \n",
            "  inflating: /content/llms-for-image-geolocation-benchmarks/yfcc4k/yfcc4k/yfcc4k/11125122203.jpg  \n",
            "  inflating: /content/llms-for-image-geolocation-benchmarks/yfcc4k/yfcc4k/yfcc4k/11127482213.jpg  \n",
            "  inflating: /content/llms-for-image-geolocation-benchmarks/yfcc4k/yfcc4k/yfcc4k/11127625566.jpg  \n",
            "  inflating: /content/llms-for-image-geolocation-benchmarks/yfcc4k/yfcc4k/yfcc4k/11127893783.jpg  \n",
            "  inflating: /content/llms-for-image-geolocation-benchmarks/yfcc4k/yfcc4k/yfcc4k/11144289745.jpg  \n",
            "  inflating: /content/llms-for-image-geolocation-benchmarks/yfcc4k/yfcc4k/yfcc4k/11153163056.jpg  \n",
            "  inflating: /content/llms-for-image-geolocation-benchmarks/yfcc4k/yfcc4k/yfcc4k/11156373134.jpg  \n",
            "  inflating: /content/llms-for-image-geolocation-benchmarks/yfcc4k/yfcc4k/yfcc4k/1116311888.jpg  \n",
            "  inflating: /content/llms-for-image-geolocation-benchmarks/yfcc4k/yfcc4k/yfcc4k/11227499375.jpg  \n",
            "  inflating: /content/llms-for-image-geolocation-benchmarks/yfcc4k/yfcc4k/yfcc4k/11231145535.jpg  \n",
            "  inflating: /content/llms-for-image-geolocation-benchmarks/yfcc4k/yfcc4k/yfcc4k/11246070084.jpg  \n",
            "  inflating: /content/llms-for-image-geolocation-benchmarks/yfcc4k/yfcc4k/yfcc4k/11252873213.jpg  \n",
            "  inflating: /content/llms-for-image-geolocation-benchmarks/yfcc4k/yfcc4k/yfcc4k/11257553013.jpg  \n",
            "  inflating: /content/llms-for-image-geolocation-benchmarks/yfcc4k/yfcc4k/yfcc4k/11261485353.jpg  \n",
            "  inflating: /content/llms-for-image-geolocation-benchmarks/yfcc4k/yfcc4k/yfcc4k/11264092035.jpg  \n",
            "  inflating: /content/llms-for-image-geolocation-benchmarks/yfcc4k/yfcc4k/yfcc4k/11297855326.jpg  \n",
            "  inflating: /content/llms-for-image-geolocation-benchmarks/yfcc4k/yfcc4k/yfcc4k/11307967295.jpg  \n",
            "  inflating: /content/llms-for-image-geolocation-benchmarks/yfcc4k/yfcc4k/yfcc4k/11308120333.jpg  \n",
            "  inflating: /content/llms-for-image-geolocation-benchmarks/yfcc4k/yfcc4k/yfcc4k/11331099515.jpg  \n",
            "  inflating: /content/llms-for-image-geolocation-benchmarks/yfcc4k/yfcc4k/yfcc4k/11340709986.jpg  \n",
            "  inflating: /content/llms-for-image-geolocation-benchmarks/yfcc4k/yfcc4k/yfcc4k/11372911803.jpg  \n",
            "  inflating: /content/llms-for-image-geolocation-benchmarks/yfcc4k/yfcc4k/yfcc4k/11375857803.jpg  \n",
            "  inflating: /content/llms-for-image-geolocation-benchmarks/yfcc4k/yfcc4k/yfcc4k/11376882813.jpg  \n",
            "  inflating: /content/llms-for-image-geolocation-benchmarks/yfcc4k/yfcc4k/yfcc4k/11385773654.jpg  \n",
            "  inflating: /content/llms-for-image-geolocation-benchmarks/yfcc4k/yfcc4k/yfcc4k/11396560394.jpg  \n",
            "  inflating: /content/llms-for-image-geolocation-benchmarks/yfcc4k/yfcc4k/yfcc4k/11408152604.jpg  \n",
            "  inflating: /content/llms-for-image-geolocation-benchmarks/yfcc4k/yfcc4k/yfcc4k/11423740823.jpg  \n",
            "  inflating: /content/llms-for-image-geolocation-benchmarks/yfcc4k/yfcc4k/yfcc4k/11424783615.jpg  \n",
            "  inflating: /content/llms-for-image-geolocation-benchmarks/yfcc4k/yfcc4k/yfcc4k/11439370863.jpg  \n",
            "  inflating: /content/llms-for-image-geolocation-benchmarks/yfcc4k/yfcc4k/yfcc4k/11440245164.jpg  \n",
            "  inflating: /content/llms-for-image-geolocation-benchmarks/yfcc4k/yfcc4k/yfcc4k/11443242853.jpg  \n",
            "  inflating: /content/llms-for-image-geolocation-benchmarks/yfcc4k/yfcc4k/yfcc4k/11486258096.jpg  \n",
            "  inflating: /content/llms-for-image-geolocation-benchmarks/yfcc4k/yfcc4k/yfcc4k/11497548836.jpg  \n",
            "  inflating: /content/llms-for-image-geolocation-benchmarks/yfcc4k/yfcc4k/yfcc4k/1150005782.jpg  \n",
            "  inflating: /content/llms-for-image-geolocation-benchmarks/yfcc4k/yfcc4k/yfcc4k/11565795195.jpg  \n",
            "  inflating: /content/llms-for-image-geolocation-benchmarks/yfcc4k/yfcc4k/yfcc4k/11574965165.jpg  \n",
            "  inflating: /content/llms-for-image-geolocation-benchmarks/yfcc4k/yfcc4k/yfcc4k/11580084243.jpg  \n",
            "  inflating: /content/llms-for-image-geolocation-benchmarks/yfcc4k/yfcc4k/yfcc4k/11582176714.jpg  \n",
            "  inflating: /content/llms-for-image-geolocation-benchmarks/yfcc4k/yfcc4k/yfcc4k/11584102405.jpg  \n",
            "  inflating: /content/llms-for-image-geolocation-benchmarks/yfcc4k/yfcc4k/yfcc4k/11610248756.jpg  \n",
            "  inflating: /content/llms-for-image-geolocation-benchmarks/yfcc4k/yfcc4k/yfcc4k/11645576844.jpg  \n",
            "  inflating: /content/llms-for-image-geolocation-benchmarks/yfcc4k/yfcc4k/yfcc4k/11649200584.jpg  \n",
            "  inflating: /content/llms-for-image-geolocation-benchmarks/yfcc4k/yfcc4k/yfcc4k/11652168615.jpg  \n",
            "  inflating: /content/llms-for-image-geolocation-benchmarks/yfcc4k/yfcc4k/yfcc4k/11653184393.jpg  \n",
            "  inflating: /content/llms-for-image-geolocation-benchmarks/yfcc4k/yfcc4k/yfcc4k/11660259034.jpg  \n",
            "  inflating: /content/llms-for-image-geolocation-benchmarks/yfcc4k/yfcc4k/yfcc4k/11666288945.jpg  \n",
            "  inflating: /content/llms-for-image-geolocation-benchmarks/yfcc4k/yfcc4k/yfcc4k/11668664266.jpg  \n",
            "  inflating: /content/llms-for-image-geolocation-benchmarks/yfcc4k/yfcc4k/yfcc4k/11673695765.jpg  \n",
            "  inflating: /content/llms-for-image-geolocation-benchmarks/yfcc4k/yfcc4k/yfcc4k/11693344423.jpg  \n",
            "  inflating: /content/llms-for-image-geolocation-benchmarks/yfcc4k/yfcc4k/yfcc4k/11714195856.jpg  \n",
            "  inflating: /content/llms-for-image-geolocation-benchmarks/yfcc4k/yfcc4k/yfcc4k/11729127153.jpg  \n",
            "  inflating: /content/llms-for-image-geolocation-benchmarks/yfcc4k/yfcc4k/yfcc4k/11748707685.jpg  \n",
            "  inflating: /content/llms-for-image-geolocation-benchmarks/yfcc4k/yfcc4k/yfcc4k/11768113036.jpg  \n",
            "  inflating: /content/llms-for-image-geolocation-benchmarks/yfcc4k/yfcc4k/yfcc4k/11772331254.jpg  \n",
            "  inflating: /content/llms-for-image-geolocation-benchmarks/yfcc4k/yfcc4k/yfcc4k/11774188036.jpg  \n",
            "  inflating: /content/llms-for-image-geolocation-benchmarks/yfcc4k/yfcc4k/yfcc4k/11784278006.jpg  \n",
            "  inflating: /content/llms-for-image-geolocation-benchmarks/yfcc4k/yfcc4k/yfcc4k/11799646275.jpg  \n",
            "  inflating: /content/llms-for-image-geolocation-benchmarks/yfcc4k/yfcc4k/yfcc4k/11805292944.jpg  \n",
            "  inflating: /content/llms-for-image-geolocation-benchmarks/yfcc4k/yfcc4k/yfcc4k/11834385036.jpg  \n",
            "  inflating: /content/llms-for-image-geolocation-benchmarks/yfcc4k/yfcc4k/yfcc4k/11838397123.jpg  \n",
            "  inflating: /content/llms-for-image-geolocation-benchmarks/yfcc4k/yfcc4k/yfcc4k/1184148743.jpg  \n",
            "  inflating: /content/llms-for-image-geolocation-benchmarks/yfcc4k/yfcc4k/yfcc4k/11865831233.jpg  \n",
            "  inflating: /content/llms-for-image-geolocation-benchmarks/yfcc4k/yfcc4k/yfcc4k/11870147393.jpg  \n",
            "  inflating: /content/llms-for-image-geolocation-benchmarks/yfcc4k/yfcc4k/yfcc4k/11871954684.jpg  \n",
            "  inflating: /content/llms-for-image-geolocation-benchmarks/yfcc4k/yfcc4k/yfcc4k/11894574114.jpg  \n",
            "  inflating: /content/llms-for-image-geolocation-benchmarks/yfcc4k/yfcc4k/yfcc4k/11918017873.jpg  \n",
            "  inflating: /content/llms-for-image-geolocation-benchmarks/yfcc4k/yfcc4k/yfcc4k/11932769964.jpg  \n",
            "  inflating: /content/llms-for-image-geolocation-benchmarks/yfcc4k/yfcc4k/yfcc4k/11934225586.jpg  \n",
            "  inflating: /content/llms-for-image-geolocation-benchmarks/yfcc4k/yfcc4k/yfcc4k/1195771989.jpg  \n",
            "  inflating: /content/llms-for-image-geolocation-benchmarks/yfcc4k/yfcc4k/yfcc4k/11984416586.jpg  \n",
            "  inflating: /content/llms-for-image-geolocation-benchmarks/yfcc4k/yfcc4k/yfcc4k/12006239283.jpg  \n",
            "  inflating: /content/llms-for-image-geolocation-benchmarks/yfcc4k/yfcc4k/yfcc4k/12007277393.jpg  \n",
            "  inflating: /content/llms-for-image-geolocation-benchmarks/yfcc4k/yfcc4k/yfcc4k/12022358535.jpg  \n",
            "  inflating: /content/llms-for-image-geolocation-benchmarks/yfcc4k/yfcc4k/yfcc4k/12041550886.jpg  \n",
            "  inflating: /content/llms-for-image-geolocation-benchmarks/yfcc4k/yfcc4k/yfcc4k/12069920616.jpg  \n",
            "  inflating: /content/llms-for-image-geolocation-benchmarks/yfcc4k/yfcc4k/yfcc4k/12076643476.jpg  \n",
            "  inflating: /content/llms-for-image-geolocation-benchmarks/yfcc4k/yfcc4k/yfcc4k/12083546496.jpg  \n",
            "  inflating: /content/llms-for-image-geolocation-benchmarks/yfcc4k/yfcc4k/yfcc4k/12120228076.jpg  \n",
            "  inflating: /content/llms-for-image-geolocation-benchmarks/yfcc4k/yfcc4k/yfcc4k/12123914743.jpg  \n",
            "  inflating: /content/llms-for-image-geolocation-benchmarks/yfcc4k/yfcc4k/yfcc4k/12138201714.jpg  \n",
            "  inflating: /content/llms-for-image-geolocation-benchmarks/yfcc4k/yfcc4k/yfcc4k/1214254749.jpg  \n",
            "  inflating: /content/llms-for-image-geolocation-benchmarks/yfcc4k/yfcc4k/yfcc4k/12150510976.jpg  \n",
            "  inflating: /content/llms-for-image-geolocation-benchmarks/yfcc4k/yfcc4k/yfcc4k/12179301516.jpg  \n",
            "  inflating: /content/llms-for-image-geolocation-benchmarks/yfcc4k/yfcc4k/yfcc4k/1219194152.jpg  \n",
            "  inflating: /content/llms-for-image-geolocation-benchmarks/yfcc4k/yfcc4k/yfcc4k/12227368446.jpg  \n",
            "  inflating: /content/llms-for-image-geolocation-benchmarks/yfcc4k/yfcc4k/yfcc4k/12229843144.jpg  \n",
            "  inflating: /content/llms-for-image-geolocation-benchmarks/yfcc4k/yfcc4k/yfcc4k/12242414713.jpg  \n",
            "  inflating: /content/llms-for-image-geolocation-benchmarks/yfcc4k/yfcc4k/yfcc4k/12247961386.jpg  \n",
            "  inflating: /content/llms-for-image-geolocation-benchmarks/yfcc4k/yfcc4k/yfcc4k/12253855916.jpg  \n",
            "  inflating: /content/llms-for-image-geolocation-benchmarks/yfcc4k/yfcc4k/yfcc4k/12256408963.jpg  \n",
            "  inflating: /content/llms-for-image-geolocation-benchmarks/yfcc4k/yfcc4k/yfcc4k/12260507735.jpg  \n",
            "  inflating: /content/llms-for-image-geolocation-benchmarks/yfcc4k/yfcc4k/yfcc4k/1226373192.jpg  \n",
            "  inflating: /content/llms-for-image-geolocation-benchmarks/yfcc4k/yfcc4k/yfcc4k/12285394434.jpg  \n",
            "  inflating: /content/llms-for-image-geolocation-benchmarks/yfcc4k/yfcc4k/yfcc4k/12289367033.jpg  \n",
            "  inflating: /content/llms-for-image-geolocation-benchmarks/yfcc4k/yfcc4k/yfcc4k/12294411284.jpg  \n",
            "  inflating: /content/llms-for-image-geolocation-benchmarks/yfcc4k/yfcc4k/yfcc4k/12295788973.jpg  \n",
            "  inflating: /content/llms-for-image-geolocation-benchmarks/yfcc4k/yfcc4k/yfcc4k/12299537826.jpg  \n",
            "  inflating: /content/llms-for-image-geolocation-benchmarks/yfcc4k/yfcc4k/yfcc4k/12311837393.jpg  \n",
            "  inflating: /content/llms-for-image-geolocation-benchmarks/yfcc4k/yfcc4k/yfcc4k/12328264743.jpg  \n",
            "  inflating: /content/llms-for-image-geolocation-benchmarks/yfcc4k/yfcc4k/yfcc4k/12351232215.jpg  \n",
            "  inflating: /content/llms-for-image-geolocation-benchmarks/yfcc4k/yfcc4k/yfcc4k/12366060613.jpg  \n",
            "  inflating: /content/llms-for-image-geolocation-benchmarks/yfcc4k/yfcc4k/yfcc4k/12369003224.jpg  \n",
            "  inflating: /content/llms-for-image-geolocation-benchmarks/yfcc4k/yfcc4k/yfcc4k/12370713433.jpg  \n",
            "  inflating: /content/llms-for-image-geolocation-benchmarks/yfcc4k/yfcc4k/yfcc4k/12379980555.jpg  \n",
            "  inflating: /content/llms-for-image-geolocation-benchmarks/yfcc4k/yfcc4k/yfcc4k/12381733713.jpg  \n",
            "  inflating: /content/llms-for-image-geolocation-benchmarks/yfcc4k/yfcc4k/yfcc4k/12382987725.jpg  \n",
            "  inflating: /content/llms-for-image-geolocation-benchmarks/yfcc4k/yfcc4k/yfcc4k/12412125193.jpg  \n",
            "  inflating: /content/llms-for-image-geolocation-benchmarks/yfcc4k/yfcc4k/yfcc4k/12415035403.jpg  \n",
            "  inflating: /content/llms-for-image-geolocation-benchmarks/yfcc4k/yfcc4k/yfcc4k/12420828.jpg  \n",
            "  inflating: /content/llms-for-image-geolocation-benchmarks/yfcc4k/yfcc4k/yfcc4k/12429396784.jpg  \n",
            "  inflating: /content/llms-for-image-geolocation-benchmarks/yfcc4k/yfcc4k/yfcc4k/12439917625.jpg  \n",
            "  inflating: /content/llms-for-image-geolocation-benchmarks/yfcc4k/yfcc4k/yfcc4k/12485048114.jpg  \n",
            "  inflating: /content/llms-for-image-geolocation-benchmarks/yfcc4k/yfcc4k/yfcc4k/1251260035.jpg  \n",
            "  inflating: /content/llms-for-image-geolocation-benchmarks/yfcc4k/yfcc4k/yfcc4k/1253895720.jpg  \n",
            "  inflating: /content/llms-for-image-geolocation-benchmarks/yfcc4k/yfcc4k/yfcc4k/12545448003.jpg  \n",
            "  inflating: /content/llms-for-image-geolocation-benchmarks/yfcc4k/yfcc4k/yfcc4k/1254546625.jpg  \n",
            "  inflating: /content/llms-for-image-geolocation-benchmarks/yfcc4k/yfcc4k/yfcc4k/12570425405.jpg  \n",
            "  inflating: /content/llms-for-image-geolocation-benchmarks/yfcc4k/yfcc4k/yfcc4k/12571990985.jpg  \n",
            "  inflating: /content/llms-for-image-geolocation-benchmarks/yfcc4k/yfcc4k/yfcc4k/12614242463.jpg  \n",
            "  inflating: /content/llms-for-image-geolocation-benchmarks/yfcc4k/yfcc4k/yfcc4k/12624585124.jpg  \n",
            "  inflating: /content/llms-for-image-geolocation-benchmarks/yfcc4k/yfcc4k/yfcc4k/12654241324.jpg  \n",
            "  inflating: /content/llms-for-image-geolocation-benchmarks/yfcc4k/yfcc4k/yfcc4k/12683991833.jpg  \n",
            "  inflating: /content/llms-for-image-geolocation-benchmarks/yfcc4k/yfcc4k/yfcc4k/12690517124.jpg  \n",
            "  inflating: /content/llms-for-image-geolocation-benchmarks/yfcc4k/yfcc4k/yfcc4k/12699982133.jpg  \n",
            "  inflating: /content/llms-for-image-geolocation-benchmarks/yfcc4k/yfcc4k/yfcc4k/127006007.jpg  \n",
            "  inflating: /content/llms-for-image-geolocation-benchmarks/yfcc4k/yfcc4k/yfcc4k/12708748323.jpg  \n",
            "  inflating: /content/llms-for-image-geolocation-benchmarks/yfcc4k/yfcc4k/yfcc4k/12715114804.jpg  \n",
            "  inflating: /content/llms-for-image-geolocation-benchmarks/yfcc4k/yfcc4k/yfcc4k/1271975797.jpg  \n",
            "  inflating: /content/llms-for-image-geolocation-benchmarks/yfcc4k/yfcc4k/yfcc4k/12722206353.jpg  \n",
            "  inflating: /content/llms-for-image-geolocation-benchmarks/yfcc4k/yfcc4k/yfcc4k/12733208643.jpg  \n",
            "  inflating: /content/llms-for-image-geolocation-benchmarks/yfcc4k/yfcc4k/yfcc4k/12733268155.jpg  \n",
            "  inflating: /content/llms-for-image-geolocation-benchmarks/yfcc4k/yfcc4k/yfcc4k/12733524263.jpg  \n",
            "  inflating: /content/llms-for-image-geolocation-benchmarks/yfcc4k/yfcc4k/yfcc4k/12735373403.jpg  \n",
            "  inflating: /content/llms-for-image-geolocation-benchmarks/yfcc4k/yfcc4k/yfcc4k/1274038080.jpg  \n",
            "  inflating: /content/llms-for-image-geolocation-benchmarks/yfcc4k/yfcc4k/yfcc4k/12759068604.jpg  \n",
            "  inflating: /content/llms-for-image-geolocation-benchmarks/yfcc4k/yfcc4k/yfcc4k/12772930295.jpg  \n",
            "  inflating: /content/llms-for-image-geolocation-benchmarks/yfcc4k/yfcc4k/yfcc4k/12775708034.jpg  \n",
            "  inflating: /content/llms-for-image-geolocation-benchmarks/yfcc4k/yfcc4k/yfcc4k/12778219585.jpg  \n",
            "  inflating: /content/llms-for-image-geolocation-benchmarks/yfcc4k/yfcc4k/yfcc4k/12793094093.jpg  \n",
            "  inflating: /content/llms-for-image-geolocation-benchmarks/yfcc4k/yfcc4k/yfcc4k/12805310003.jpg  \n",
            "  inflating: /content/llms-for-image-geolocation-benchmarks/yfcc4k/yfcc4k/yfcc4k/12814375283.jpg  \n",
            "  inflating: /content/llms-for-image-geolocation-benchmarks/yfcc4k/yfcc4k/yfcc4k/12818545833.jpg  \n",
            "  inflating: /content/llms-for-image-geolocation-benchmarks/yfcc4k/yfcc4k/yfcc4k/12854804325.jpg  \n",
            "  inflating: /content/llms-for-image-geolocation-benchmarks/yfcc4k/yfcc4k/yfcc4k/12875855873.jpg  \n",
            "  inflating: /content/llms-for-image-geolocation-benchmarks/yfcc4k/yfcc4k/yfcc4k/12889320923.jpg  \n",
            "  inflating: /content/llms-for-image-geolocation-benchmarks/yfcc4k/yfcc4k/yfcc4k/12891556093.jpg  \n",
            "  inflating: /content/llms-for-image-geolocation-benchmarks/yfcc4k/yfcc4k/yfcc4k/12902149745.jpg  \n",
            "  inflating: /content/llms-for-image-geolocation-benchmarks/yfcc4k/yfcc4k/yfcc4k/12910007253.jpg  \n",
            "  inflating: /content/llms-for-image-geolocation-benchmarks/yfcc4k/yfcc4k/yfcc4k/12912116753.jpg  \n",
            "  inflating: /content/llms-for-image-geolocation-benchmarks/yfcc4k/yfcc4k/yfcc4k/12912780415.jpg  \n",
            "  inflating: /content/llms-for-image-geolocation-benchmarks/yfcc4k/yfcc4k/yfcc4k/12922766464.jpg  \n",
            "  inflating: /content/llms-for-image-geolocation-benchmarks/yfcc4k/yfcc4k/yfcc4k/12925746095.jpg  \n",
            "  inflating: /content/llms-for-image-geolocation-benchmarks/yfcc4k/yfcc4k/yfcc4k/12972521105.jpg  \n",
            "  inflating: /content/llms-for-image-geolocation-benchmarks/yfcc4k/yfcc4k/yfcc4k/12977135085.jpg  \n",
            "  inflating: /content/llms-for-image-geolocation-benchmarks/yfcc4k/yfcc4k/yfcc4k/12978615984.jpg  \n",
            "  inflating: /content/llms-for-image-geolocation-benchmarks/yfcc4k/yfcc4k/yfcc4k/12996282154.jpg  \n",
            "  inflating: /content/llms-for-image-geolocation-benchmarks/yfcc4k/yfcc4k/yfcc4k/13001260475.jpg  \n",
            "  inflating: /content/llms-for-image-geolocation-benchmarks/yfcc4k/yfcc4k/yfcc4k/1301281947.jpg  \n",
            "  inflating: /content/llms-for-image-geolocation-benchmarks/yfcc4k/yfcc4k/yfcc4k/13015559824.jpg  \n",
            "  inflating: /content/llms-for-image-geolocation-benchmarks/yfcc4k/yfcc4k/yfcc4k/13018413104.jpg  \n",
            "  inflating: /content/llms-for-image-geolocation-benchmarks/yfcc4k/yfcc4k/yfcc4k/13028160415.jpg  \n",
            "  inflating: /content/llms-for-image-geolocation-benchmarks/yfcc4k/yfcc4k/yfcc4k/13036502945.jpg  \n",
            "  inflating: /content/llms-for-image-geolocation-benchmarks/yfcc4k/yfcc4k/yfcc4k/13046586125.jpg  \n",
            "  inflating: /content/llms-for-image-geolocation-benchmarks/yfcc4k/yfcc4k/yfcc4k/13047149884.jpg  \n",
            "  inflating: /content/llms-for-image-geolocation-benchmarks/yfcc4k/yfcc4k/yfcc4k/13047264863.jpg  \n",
            "  inflating: /content/llms-for-image-geolocation-benchmarks/yfcc4k/yfcc4k/yfcc4k/13064069654.jpg  \n",
            "  inflating: /content/llms-for-image-geolocation-benchmarks/yfcc4k/yfcc4k/yfcc4k/13069300583.jpg  \n",
            "  inflating: /content/llms-for-image-geolocation-benchmarks/yfcc4k/yfcc4k/yfcc4k/13071986305.jpg  \n",
            "  inflating: /content/llms-for-image-geolocation-benchmarks/yfcc4k/yfcc4k/yfcc4k/13081138545.jpg  \n",
            "  inflating: /content/llms-for-image-geolocation-benchmarks/yfcc4k/yfcc4k/yfcc4k/13128013445.jpg  \n",
            "  inflating: /content/llms-for-image-geolocation-benchmarks/yfcc4k/yfcc4k/yfcc4k/13130456615.jpg  \n",
            "  inflating: /content/llms-for-image-geolocation-benchmarks/yfcc4k/yfcc4k/yfcc4k/1313656316.jpg  \n",
            "  inflating: /content/llms-for-image-geolocation-benchmarks/yfcc4k/yfcc4k/yfcc4k/13137609893.jpg  \n",
            "  inflating: /content/llms-for-image-geolocation-benchmarks/yfcc4k/yfcc4k/yfcc4k/13150330363.jpg  \n",
            "  inflating: /content/llms-for-image-geolocation-benchmarks/yfcc4k/yfcc4k/yfcc4k/13152654134.jpg  \n",
            "  inflating: /content/llms-for-image-geolocation-benchmarks/yfcc4k/yfcc4k/yfcc4k/13152713384.jpg  \n",
            "  inflating: /content/llms-for-image-geolocation-benchmarks/yfcc4k/yfcc4k/yfcc4k/13154299234.jpg  \n",
            "  inflating: /content/llms-for-image-geolocation-benchmarks/yfcc4k/yfcc4k/yfcc4k/13156905423.jpg  \n",
            "  inflating: /content/llms-for-image-geolocation-benchmarks/yfcc4k/yfcc4k/yfcc4k/13161511704.jpg  \n",
            "  inflating: /content/llms-for-image-geolocation-benchmarks/yfcc4k/yfcc4k/yfcc4k/13181005363.jpg  \n",
            "  inflating: /content/llms-for-image-geolocation-benchmarks/yfcc4k/yfcc4k/yfcc4k/13181161424.jpg  \n",
            "  inflating: /content/llms-for-image-geolocation-benchmarks/yfcc4k/yfcc4k/yfcc4k/13191858764.jpg  \n",
            "  inflating: /content/llms-for-image-geolocation-benchmarks/yfcc4k/yfcc4k/yfcc4k/13194229063.jpg  \n",
            "  inflating: /content/llms-for-image-geolocation-benchmarks/yfcc4k/yfcc4k/yfcc4k/13197599363.jpg  \n",
            "  inflating: /content/llms-for-image-geolocation-benchmarks/yfcc4k/yfcc4k/yfcc4k/13200316494.jpg  \n",
            "  inflating: /content/llms-for-image-geolocation-benchmarks/yfcc4k/yfcc4k/yfcc4k/13221938215.jpg  \n",
            "  inflating: /content/llms-for-image-geolocation-benchmarks/yfcc4k/yfcc4k/yfcc4k/13222615154.jpg  \n",
            "  inflating: /content/llms-for-image-geolocation-benchmarks/yfcc4k/yfcc4k/yfcc4k/13274905195.jpg  \n",
            "  inflating: /content/llms-for-image-geolocation-benchmarks/yfcc4k/yfcc4k/yfcc4k/13282462384.jpg  \n",
            "  inflating: /content/llms-for-image-geolocation-benchmarks/yfcc4k/yfcc4k/yfcc4k/1329847183.jpg  \n",
            "  inflating: /content/llms-for-image-geolocation-benchmarks/yfcc4k/yfcc4k/yfcc4k/13308108223.jpg  \n",
            "  inflating: /content/llms-for-image-geolocation-benchmarks/yfcc4k/yfcc4k/yfcc4k/13323755075.jpg  \n",
            "  inflating: /content/llms-for-image-geolocation-benchmarks/yfcc4k/yfcc4k/yfcc4k/13324525693.jpg  \n",
            "  inflating: /content/llms-for-image-geolocation-benchmarks/yfcc4k/yfcc4k/yfcc4k/13324793853.jpg  \n",
            "  inflating: /content/llms-for-image-geolocation-benchmarks/yfcc4k/yfcc4k/yfcc4k/13333162204.jpg  \n",
            "  inflating: /content/llms-for-image-geolocation-benchmarks/yfcc4k/yfcc4k/yfcc4k/13352356485.jpg  \n",
            "  inflating: /content/llms-for-image-geolocation-benchmarks/yfcc4k/yfcc4k/yfcc4k/13388934313.jpg  \n",
            "  inflating: /content/llms-for-image-geolocation-benchmarks/yfcc4k/yfcc4k/yfcc4k/13390245075.jpg  \n",
            "  inflating: /content/llms-for-image-geolocation-benchmarks/yfcc4k/yfcc4k/yfcc4k/1339230993.jpg  \n",
            "  inflating: /content/llms-for-image-geolocation-benchmarks/yfcc4k/yfcc4k/yfcc4k/13429941383.jpg  \n",
            "  inflating: /content/llms-for-image-geolocation-benchmarks/yfcc4k/yfcc4k/yfcc4k/13445233754.jpg  \n",
            "  inflating: /content/llms-for-image-geolocation-benchmarks/yfcc4k/yfcc4k/yfcc4k/13455051694.jpg  \n",
            "  inflating: /content/llms-for-image-geolocation-benchmarks/yfcc4k/yfcc4k/yfcc4k/13464931203.jpg  \n",
            "  inflating: /content/llms-for-image-geolocation-benchmarks/yfcc4k/yfcc4k/yfcc4k/13471541254.jpg  \n",
            "  inflating: /content/llms-for-image-geolocation-benchmarks/yfcc4k/yfcc4k/yfcc4k/1348319351.jpg  \n",
            "  inflating: /content/llms-for-image-geolocation-benchmarks/yfcc4k/yfcc4k/yfcc4k/1350460845.jpg  \n",
            "  inflating: /content/llms-for-image-geolocation-benchmarks/yfcc4k/yfcc4k/yfcc4k/1350704318.jpg  \n",
            "  inflating: /content/llms-for-image-geolocation-benchmarks/yfcc4k/yfcc4k/yfcc4k/13519417935.jpg  \n",
            "  inflating: /content/llms-for-image-geolocation-benchmarks/yfcc4k/yfcc4k/yfcc4k/13521777703.jpg  \n",
            "  inflating: /content/llms-for-image-geolocation-benchmarks/yfcc4k/yfcc4k/yfcc4k/1352610054.jpg  \n",
            "  inflating: /content/llms-for-image-geolocation-benchmarks/yfcc4k/yfcc4k/yfcc4k/13527233663.jpg  \n",
            "  inflating: /content/llms-for-image-geolocation-benchmarks/yfcc4k/yfcc4k/yfcc4k/1353801965.jpg  \n",
            "  inflating: /content/llms-for-image-geolocation-benchmarks/yfcc4k/yfcc4k/yfcc4k/13553573764.jpg  \n",
            "  inflating: /content/llms-for-image-geolocation-benchmarks/yfcc4k/yfcc4k/yfcc4k/1357812635.jpg  \n",
            "  inflating: /content/llms-for-image-geolocation-benchmarks/yfcc4k/yfcc4k/yfcc4k/13597867313.jpg  \n",
            "  inflating: /content/llms-for-image-geolocation-benchmarks/yfcc4k/yfcc4k/yfcc4k/1360572212.jpg  \n",
            "  inflating: /content/llms-for-image-geolocation-benchmarks/yfcc4k/yfcc4k/yfcc4k/13681484174.jpg  \n",
            "  inflating: /content/llms-for-image-geolocation-benchmarks/yfcc4k/yfcc4k/yfcc4k/13712188623.jpg  \n",
            "  inflating: /content/llms-for-image-geolocation-benchmarks/yfcc4k/yfcc4k/yfcc4k/13723751943.jpg  \n",
            "  inflating: /content/llms-for-image-geolocation-benchmarks/yfcc4k/yfcc4k/yfcc4k/13731878463.jpg  \n",
            "  inflating: /content/llms-for-image-geolocation-benchmarks/yfcc4k/yfcc4k/yfcc4k/13734759134.jpg  \n",
            "  inflating: /content/llms-for-image-geolocation-benchmarks/yfcc4k/yfcc4k/yfcc4k/13753433255.jpg  \n",
            "  inflating: /content/llms-for-image-geolocation-benchmarks/yfcc4k/yfcc4k/yfcc4k/13764283225.jpg  \n",
            "  inflating: /content/llms-for-image-geolocation-benchmarks/yfcc4k/yfcc4k/yfcc4k/13769175295.jpg  \n",
            "  inflating: /content/llms-for-image-geolocation-benchmarks/yfcc4k/yfcc4k/yfcc4k/13775735394.jpg  \n",
            "  inflating: /content/llms-for-image-geolocation-benchmarks/yfcc4k/yfcc4k/yfcc4k/13776343645.jpg  \n",
            "  inflating: /content/llms-for-image-geolocation-benchmarks/yfcc4k/yfcc4k/yfcc4k/13782018355.jpg  \n",
            "  inflating: /content/llms-for-image-geolocation-benchmarks/yfcc4k/yfcc4k/yfcc4k/13802639345.jpg  \n",
            "  inflating: /content/llms-for-image-geolocation-benchmarks/yfcc4k/yfcc4k/yfcc4k/13805056525.jpg  \n",
            "  inflating: /content/llms-for-image-geolocation-benchmarks/yfcc4k/yfcc4k/yfcc4k/13813877895.jpg  \n",
            "  inflating: /content/llms-for-image-geolocation-benchmarks/yfcc4k/yfcc4k/yfcc4k/13846833833.jpg  \n",
            "  inflating: /content/llms-for-image-geolocation-benchmarks/yfcc4k/yfcc4k/yfcc4k/13858487695.jpg  \n",
            "  inflating: /content/llms-for-image-geolocation-benchmarks/yfcc4k/yfcc4k/yfcc4k/13862786315.jpg  \n",
            "  inflating: /content/llms-for-image-geolocation-benchmarks/yfcc4k/yfcc4k/yfcc4k/13874447454.jpg  \n",
            "  inflating: /content/llms-for-image-geolocation-benchmarks/yfcc4k/yfcc4k/yfcc4k/1388858483.jpg  \n",
            "  inflating: /content/llms-for-image-geolocation-benchmarks/yfcc4k/yfcc4k/yfcc4k/13893729702.jpg  \n",
            "  inflating: /content/llms-for-image-geolocation-benchmarks/yfcc4k/yfcc4k/yfcc4k/13900213922.jpg  \n",
            "  inflating: /content/llms-for-image-geolocation-benchmarks/yfcc4k/yfcc4k/yfcc4k/13904302434.jpg  \n",
            "  inflating: /content/llms-for-image-geolocation-benchmarks/yfcc4k/yfcc4k/yfcc4k/13907544713.jpg  \n",
            "  inflating: /content/llms-for-image-geolocation-benchmarks/yfcc4k/yfcc4k/yfcc4k/13916022354.jpg  \n",
            "  inflating: /content/llms-for-image-geolocation-benchmarks/yfcc4k/yfcc4k/yfcc4k/13916618566.jpg  \n",
            "  inflating: /content/llms-for-image-geolocation-benchmarks/yfcc4k/yfcc4k/yfcc4k/13936679063.jpg  \n",
            "  inflating: /content/llms-for-image-geolocation-benchmarks/yfcc4k/yfcc4k/yfcc4k/13949049321.jpg  \n",
            "  inflating: /content/llms-for-image-geolocation-benchmarks/yfcc4k/yfcc4k/yfcc4k/13953342555.jpg  \n",
            "  inflating: /content/llms-for-image-geolocation-benchmarks/yfcc4k/yfcc4k/yfcc4k/13956871484.jpg  \n",
            "  inflating: /content/llms-for-image-geolocation-benchmarks/yfcc4k/yfcc4k/yfcc4k/13958936725.jpg  \n",
            "  inflating: /content/llms-for-image-geolocation-benchmarks/yfcc4k/yfcc4k/yfcc4k/13978097925.jpg  \n",
            "  inflating: /content/llms-for-image-geolocation-benchmarks/yfcc4k/yfcc4k/yfcc4k/13979394872.jpg  \n",
            "  inflating: /content/llms-for-image-geolocation-benchmarks/yfcc4k/yfcc4k/yfcc4k/13981887726.jpg  \n",
            "  inflating: /content/llms-for-image-geolocation-benchmarks/yfcc4k/yfcc4k/yfcc4k/13982705183.jpg  \n",
            "  inflating: /content/llms-for-image-geolocation-benchmarks/yfcc4k/yfcc4k/yfcc4k/13984960291.jpg  \n",
            "  inflating: /content/llms-for-image-geolocation-benchmarks/yfcc4k/yfcc4k/yfcc4k/13988005001.jpg  \n",
            "  inflating: /content/llms-for-image-geolocation-benchmarks/yfcc4k/yfcc4k/yfcc4k/13989025434.jpg  \n",
            "  inflating: /content/llms-for-image-geolocation-benchmarks/yfcc4k/yfcc4k/yfcc4k/13992233026.jpg  \n",
            "  inflating: /content/llms-for-image-geolocation-benchmarks/yfcc4k/yfcc4k/yfcc4k/14000541065.jpg  \n",
            "  inflating: /content/llms-for-image-geolocation-benchmarks/yfcc4k/yfcc4k/yfcc4k/14004225651.jpg  \n",
            "  inflating: /content/llms-for-image-geolocation-benchmarks/yfcc4k/yfcc4k/yfcc4k/14007561583.jpg  \n",
            "  inflating: /content/llms-for-image-geolocation-benchmarks/yfcc4k/yfcc4k/yfcc4k/14010060531.jpg  \n",
            "  inflating: /content/llms-for-image-geolocation-benchmarks/yfcc4k/yfcc4k/yfcc4k/14015276623.jpg  \n",
            "  inflating: /content/llms-for-image-geolocation-benchmarks/yfcc4k/yfcc4k/yfcc4k/1401760739.jpg  \n",
            "  inflating: /content/llms-for-image-geolocation-benchmarks/yfcc4k/yfcc4k/yfcc4k/14017841261.jpg  \n",
            "  inflating: /content/llms-for-image-geolocation-benchmarks/yfcc4k/yfcc4k/yfcc4k/14019884323.jpg  \n",
            "  inflating: /content/llms-for-image-geolocation-benchmarks/yfcc4k/yfcc4k/yfcc4k/1403061248.jpg  \n",
            "  inflating: /content/llms-for-image-geolocation-benchmarks/yfcc4k/yfcc4k/yfcc4k/14041661643.jpg  \n",
            "  inflating: /content/llms-for-image-geolocation-benchmarks/yfcc4k/yfcc4k/yfcc4k/141559944.jpg  \n",
            "  inflating: /content/llms-for-image-geolocation-benchmarks/yfcc4k/yfcc4k/yfcc4k/1415803578.jpg  \n",
            "  inflating: /content/llms-for-image-geolocation-benchmarks/yfcc4k/yfcc4k/yfcc4k/141735913.jpg  \n",
            "  inflating: /content/llms-for-image-geolocation-benchmarks/yfcc4k/yfcc4k/yfcc4k/1423307087.jpg  \n",
            "  inflating: /content/llms-for-image-geolocation-benchmarks/yfcc4k/yfcc4k/yfcc4k/1430877985.jpg  \n",
            "  inflating: /content/llms-for-image-geolocation-benchmarks/yfcc4k/yfcc4k/yfcc4k/1436600848.jpg  \n",
            "  inflating: /content/llms-for-image-geolocation-benchmarks/yfcc4k/yfcc4k/yfcc4k/1439911340.jpg  \n",
            "  inflating: /content/llms-for-image-geolocation-benchmarks/yfcc4k/yfcc4k/yfcc4k/1444753204.jpg  \n",
            "  inflating: /content/llms-for-image-geolocation-benchmarks/yfcc4k/yfcc4k/yfcc4k/1456354726.jpg  \n",
            "  inflating: /content/llms-for-image-geolocation-benchmarks/yfcc4k/yfcc4k/yfcc4k/1458945701.jpg  \n",
            "  inflating: /content/llms-for-image-geolocation-benchmarks/yfcc4k/yfcc4k/yfcc4k/1460386861.jpg  \n",
            "  inflating: /content/llms-for-image-geolocation-benchmarks/yfcc4k/yfcc4k/yfcc4k/1470213637.jpg  \n",
            "  inflating: /content/llms-for-image-geolocation-benchmarks/yfcc4k/yfcc4k/yfcc4k/1476458555.jpg  \n",
            "  inflating: /content/llms-for-image-geolocation-benchmarks/yfcc4k/yfcc4k/yfcc4k/1483848467.jpg  \n",
            "  inflating: /content/llms-for-image-geolocation-benchmarks/yfcc4k/yfcc4k/yfcc4k/1488708025.jpg  \n",
            "  inflating: /content/llms-for-image-geolocation-benchmarks/yfcc4k/yfcc4k/yfcc4k/1506797002.jpg  \n",
            "  inflating: /content/llms-for-image-geolocation-benchmarks/yfcc4k/yfcc4k/yfcc4k/1509370220.jpg  \n",
            "  inflating: /content/llms-for-image-geolocation-benchmarks/yfcc4k/yfcc4k/yfcc4k/1517671549.jpg  \n",
            "  inflating: /content/llms-for-image-geolocation-benchmarks/yfcc4k/yfcc4k/yfcc4k/1537967109.jpg  \n",
            "  inflating: /content/llms-for-image-geolocation-benchmarks/yfcc4k/yfcc4k/yfcc4k/1542459129.jpg  \n",
            "  inflating: /content/llms-for-image-geolocation-benchmarks/yfcc4k/yfcc4k/yfcc4k/1552235258.jpg  \n",
            "  inflating: /content/llms-for-image-geolocation-benchmarks/yfcc4k/yfcc4k/yfcc4k/1557879041.jpg  \n",
            "  inflating: /content/llms-for-image-geolocation-benchmarks/yfcc4k/yfcc4k/yfcc4k/158078339.jpg  \n",
            "  inflating: /content/llms-for-image-geolocation-benchmarks/yfcc4k/yfcc4k/yfcc4k/1584568410.jpg  \n",
            "  inflating: /content/llms-for-image-geolocation-benchmarks/yfcc4k/yfcc4k/yfcc4k/1594279840.jpg  \n",
            "  inflating: /content/llms-for-image-geolocation-benchmarks/yfcc4k/yfcc4k/yfcc4k/1617800180.jpg  \n",
            "  inflating: /content/llms-for-image-geolocation-benchmarks/yfcc4k/yfcc4k/yfcc4k/1618827261.jpg  \n",
            "  inflating: /content/llms-for-image-geolocation-benchmarks/yfcc4k/yfcc4k/yfcc4k/1645521425.jpg  \n",
            "  inflating: /content/llms-for-image-geolocation-benchmarks/yfcc4k/yfcc4k/yfcc4k/164961282.jpg  \n",
            "  inflating: /content/llms-for-image-geolocation-benchmarks/yfcc4k/yfcc4k/yfcc4k/1659477928.jpg  \n",
            "  inflating: /content/llms-for-image-geolocation-benchmarks/yfcc4k/yfcc4k/yfcc4k/1667688840.jpg  \n",
            "  inflating: /content/llms-for-image-geolocation-benchmarks/yfcc4k/yfcc4k/yfcc4k/1668116260.jpg  \n",
            "  inflating: /content/llms-for-image-geolocation-benchmarks/yfcc4k/yfcc4k/yfcc4k/1677155939.jpg  \n",
            "  inflating: /content/llms-for-image-geolocation-benchmarks/yfcc4k/yfcc4k/yfcc4k/169867285.jpg  \n",
            "  inflating: /content/llms-for-image-geolocation-benchmarks/yfcc4k/yfcc4k/yfcc4k/1705013145.jpg  \n",
            "  inflating: /content/llms-for-image-geolocation-benchmarks/yfcc4k/yfcc4k/yfcc4k/1706121860.jpg  \n",
            "  inflating: /content/llms-for-image-geolocation-benchmarks/yfcc4k/yfcc4k/yfcc4k/1731776927.jpg  \n",
            "  inflating: /content/llms-for-image-geolocation-benchmarks/yfcc4k/yfcc4k/yfcc4k/1732276605.jpg  \n",
            "  inflating: /content/llms-for-image-geolocation-benchmarks/yfcc4k/yfcc4k/yfcc4k/1732740294.jpg  \n",
            "  inflating: /content/llms-for-image-geolocation-benchmarks/yfcc4k/yfcc4k/yfcc4k/173846924.jpg  \n",
            "  inflating: /content/llms-for-image-geolocation-benchmarks/yfcc4k/yfcc4k/yfcc4k/174030514.jpg  \n",
            "  inflating: /content/llms-for-image-geolocation-benchmarks/yfcc4k/yfcc4k/yfcc4k/1751300812.jpg  \n",
            "  inflating: /content/llms-for-image-geolocation-benchmarks/yfcc4k/yfcc4k/yfcc4k/1759811385.jpg  \n",
            "  inflating: /content/llms-for-image-geolocation-benchmarks/yfcc4k/yfcc4k/yfcc4k/1794296613.jpg  \n",
            "  inflating: /content/llms-for-image-geolocation-benchmarks/yfcc4k/yfcc4k/yfcc4k/1801399949.jpg  \n",
            "  inflating: /content/llms-for-image-geolocation-benchmarks/yfcc4k/yfcc4k/yfcc4k/1811531620.jpg  \n",
            "  inflating: /content/llms-for-image-geolocation-benchmarks/yfcc4k/yfcc4k/yfcc4k/181679983.jpg  \n",
            "  inflating: /content/llms-for-image-geolocation-benchmarks/yfcc4k/yfcc4k/yfcc4k/1825349061.jpg  \n",
            "  inflating: /content/llms-for-image-geolocation-benchmarks/yfcc4k/yfcc4k/yfcc4k/184847566.jpg  \n",
            "  inflating: /content/llms-for-image-geolocation-benchmarks/yfcc4k/yfcc4k/yfcc4k/184879067.jpg  \n",
            "  inflating: /content/llms-for-image-geolocation-benchmarks/yfcc4k/yfcc4k/yfcc4k/1852690707.jpg  \n",
            "  inflating: /content/llms-for-image-geolocation-benchmarks/yfcc4k/yfcc4k/yfcc4k/1860237050.jpg  \n",
            "  inflating: /content/llms-for-image-geolocation-benchmarks/yfcc4k/yfcc4k/yfcc4k/1867365411.jpg  \n",
            "  inflating: /content/llms-for-image-geolocation-benchmarks/yfcc4k/yfcc4k/yfcc4k/191684963.jpg  \n",
            "  inflating: /content/llms-for-image-geolocation-benchmarks/yfcc4k/yfcc4k/yfcc4k/193615262.jpg  \n",
            "  inflating: /content/llms-for-image-geolocation-benchmarks/yfcc4k/yfcc4k/yfcc4k/193907931.jpg  \n",
            "  inflating: /content/llms-for-image-geolocation-benchmarks/yfcc4k/yfcc4k/yfcc4k/195142831.jpg  \n",
            "  inflating: /content/llms-for-image-geolocation-benchmarks/yfcc4k/yfcc4k/yfcc4k/1957338024.jpg  \n",
            "  inflating: /content/llms-for-image-geolocation-benchmarks/yfcc4k/yfcc4k/yfcc4k/1959922547.jpg  \n",
            "  inflating: /content/llms-for-image-geolocation-benchmarks/yfcc4k/yfcc4k/yfcc4k/196044558.jpg  \n",
            "  inflating: /content/llms-for-image-geolocation-benchmarks/yfcc4k/yfcc4k/yfcc4k/1980694458.jpg  \n",
            "  inflating: /content/llms-for-image-geolocation-benchmarks/yfcc4k/yfcc4k/yfcc4k/1989512262.jpg  \n",
            "  inflating: /content/llms-for-image-geolocation-benchmarks/yfcc4k/yfcc4k/yfcc4k/1991596532.jpg  \n",
            "  inflating: /content/llms-for-image-geolocation-benchmarks/yfcc4k/yfcc4k/yfcc4k/2004772549.jpg  \n",
            "  inflating: /content/llms-for-image-geolocation-benchmarks/yfcc4k/yfcc4k/yfcc4k/2006838607.jpg  \n",
            "  inflating: /content/llms-for-image-geolocation-benchmarks/yfcc4k/yfcc4k/yfcc4k/20102588.jpg  \n",
            "  inflating: /content/llms-for-image-geolocation-benchmarks/yfcc4k/yfcc4k/yfcc4k/2023445895.jpg  \n",
            "  inflating: /content/llms-for-image-geolocation-benchmarks/yfcc4k/yfcc4k/yfcc4k/2031226762.jpg  \n",
            "  inflating: /content/llms-for-image-geolocation-benchmarks/yfcc4k/yfcc4k/yfcc4k/2037622293.jpg  \n",
            "  inflating: /content/llms-for-image-geolocation-benchmarks/yfcc4k/yfcc4k/yfcc4k/2039507515.jpg  \n",
            "  inflating: /content/llms-for-image-geolocation-benchmarks/yfcc4k/yfcc4k/yfcc4k/20403993.jpg  \n",
            "  inflating: /content/llms-for-image-geolocation-benchmarks/yfcc4k/yfcc4k/yfcc4k/2042741333.jpg  \n",
            "  inflating: /content/llms-for-image-geolocation-benchmarks/yfcc4k/yfcc4k/yfcc4k/2044721414.jpg  \n",
            "  inflating: /content/llms-for-image-geolocation-benchmarks/yfcc4k/yfcc4k/yfcc4k/2047401653.jpg  \n",
            "  inflating: /content/llms-for-image-geolocation-benchmarks/yfcc4k/yfcc4k/yfcc4k/2047821459.jpg  \n",
            "  inflating: /content/llms-for-image-geolocation-benchmarks/yfcc4k/yfcc4k/yfcc4k/2050631495.jpg  \n",
            "  inflating: /content/llms-for-image-geolocation-benchmarks/yfcc4k/yfcc4k/yfcc4k/2052053410.jpg  \n",
            "  inflating: /content/llms-for-image-geolocation-benchmarks/yfcc4k/yfcc4k/yfcc4k/2052743802.jpg  \n",
            "  inflating: /content/llms-for-image-geolocation-benchmarks/yfcc4k/yfcc4k/yfcc4k/2053503500.jpg  \n",
            "  inflating: /content/llms-for-image-geolocation-benchmarks/yfcc4k/yfcc4k/yfcc4k/2056168502.jpg  \n",
            "  inflating: /content/llms-for-image-geolocation-benchmarks/yfcc4k/yfcc4k/yfcc4k/2056254108.jpg  \n",
            "  inflating: /content/llms-for-image-geolocation-benchmarks/yfcc4k/yfcc4k/yfcc4k/2056312069.jpg  \n",
            "  inflating: /content/llms-for-image-geolocation-benchmarks/yfcc4k/yfcc4k/yfcc4k/2056613073.jpg  \n",
            "  inflating: /content/llms-for-image-geolocation-benchmarks/yfcc4k/yfcc4k/yfcc4k/2061249534.jpg  \n",
            "  inflating: /content/llms-for-image-geolocation-benchmarks/yfcc4k/yfcc4k/yfcc4k/2062896237.jpg  \n",
            "  inflating: /content/llms-for-image-geolocation-benchmarks/yfcc4k/yfcc4k/yfcc4k/2062901157.jpg  \n",
            "  inflating: /content/llms-for-image-geolocation-benchmarks/yfcc4k/yfcc4k/yfcc4k/206355906.jpg  \n",
            "  inflating: /content/llms-for-image-geolocation-benchmarks/yfcc4k/yfcc4k/yfcc4k/2064566497.jpg  \n",
            "  inflating: /content/llms-for-image-geolocation-benchmarks/yfcc4k/yfcc4k/yfcc4k/2065382466.jpg  \n",
            "  inflating: /content/llms-for-image-geolocation-benchmarks/yfcc4k/yfcc4k/yfcc4k/2065997096.jpg  \n",
            "  inflating: /content/llms-for-image-geolocation-benchmarks/yfcc4k/yfcc4k/yfcc4k/206843229.jpg  \n",
            "  inflating: /content/llms-for-image-geolocation-benchmarks/yfcc4k/yfcc4k/yfcc4k/2068721324.jpg  \n",
            "  inflating: /content/llms-for-image-geolocation-benchmarks/yfcc4k/yfcc4k/yfcc4k/206952130.jpg  \n",
            "  inflating: /content/llms-for-image-geolocation-benchmarks/yfcc4k/yfcc4k/yfcc4k/2074563346.jpg  \n",
            "  inflating: /content/llms-for-image-geolocation-benchmarks/yfcc4k/yfcc4k/yfcc4k/2077484139.jpg  \n",
            "  inflating: /content/llms-for-image-geolocation-benchmarks/yfcc4k/yfcc4k/yfcc4k/2081927805.jpg  \n",
            "  inflating: /content/llms-for-image-geolocation-benchmarks/yfcc4k/yfcc4k/yfcc4k/2087769529.jpg  \n",
            "  inflating: /content/llms-for-image-geolocation-benchmarks/yfcc4k/yfcc4k/yfcc4k/2087872955.jpg  \n",
            "  inflating: /content/llms-for-image-geolocation-benchmarks/yfcc4k/yfcc4k/yfcc4k/2088734126.jpg  \n",
            "  inflating: /content/llms-for-image-geolocation-benchmarks/yfcc4k/yfcc4k/yfcc4k/2090206802.jpg  \n",
            "  inflating: /content/llms-for-image-geolocation-benchmarks/yfcc4k/yfcc4k/yfcc4k/2091078584.jpg  \n",
            "  inflating: /content/llms-for-image-geolocation-benchmarks/yfcc4k/yfcc4k/yfcc4k/2092198926.jpg  \n",
            "  inflating: /content/llms-for-image-geolocation-benchmarks/yfcc4k/yfcc4k/yfcc4k/2094015084.jpg  \n",
            "  inflating: /content/llms-for-image-geolocation-benchmarks/yfcc4k/yfcc4k/yfcc4k/2094040610.jpg  \n",
            "  inflating: /content/llms-for-image-geolocation-benchmarks/yfcc4k/yfcc4k/yfcc4k/2094118584.jpg  \n",
            "  inflating: /content/llms-for-image-geolocation-benchmarks/yfcc4k/yfcc4k/yfcc4k/2095096023.jpg  \n",
            "  inflating: /content/llms-for-image-geolocation-benchmarks/yfcc4k/yfcc4k/yfcc4k/2095666323.jpg  \n",
            "  inflating: /content/llms-for-image-geolocation-benchmarks/yfcc4k/yfcc4k/yfcc4k/2096678117.jpg  \n",
            "  inflating: /content/llms-for-image-geolocation-benchmarks/yfcc4k/yfcc4k/yfcc4k/2098314512.jpg  \n",
            "  inflating: /content/llms-for-image-geolocation-benchmarks/yfcc4k/yfcc4k/yfcc4k/210257078.jpg  \n",
            "  inflating: /content/llms-for-image-geolocation-benchmarks/yfcc4k/yfcc4k/yfcc4k/210894339.jpg  \n",
            "  inflating: /content/llms-for-image-geolocation-benchmarks/yfcc4k/yfcc4k/yfcc4k/2111400646.jpg  \n",
            "  inflating: /content/llms-for-image-geolocation-benchmarks/yfcc4k/yfcc4k/yfcc4k/2113063060.jpg  \n",
            "  inflating: /content/llms-for-image-geolocation-benchmarks/yfcc4k/yfcc4k/yfcc4k/2120623946.jpg  \n",
            "  inflating: /content/llms-for-image-geolocation-benchmarks/yfcc4k/yfcc4k/yfcc4k/2125064519.jpg  \n",
            "  inflating: /content/llms-for-image-geolocation-benchmarks/yfcc4k/yfcc4k/yfcc4k/2129515738.jpg  \n",
            "  inflating: /content/llms-for-image-geolocation-benchmarks/yfcc4k/yfcc4k/yfcc4k/2130444101.jpg  \n",
            "  inflating: /content/llms-for-image-geolocation-benchmarks/yfcc4k/yfcc4k/yfcc4k/2136024968.jpg  \n",
            "  inflating: /content/llms-for-image-geolocation-benchmarks/yfcc4k/yfcc4k/yfcc4k/2138514338.jpg  \n",
            "  inflating: /content/llms-for-image-geolocation-benchmarks/yfcc4k/yfcc4k/yfcc4k/2147844654.jpg  \n",
            "  inflating: /content/llms-for-image-geolocation-benchmarks/yfcc4k/yfcc4k/yfcc4k/2148362637.jpg  \n",
            "  inflating: /content/llms-for-image-geolocation-benchmarks/yfcc4k/yfcc4k/yfcc4k/2152165732.jpg  \n",
            "  inflating: /content/llms-for-image-geolocation-benchmarks/yfcc4k/yfcc4k/yfcc4k/215391185.jpg  \n",
            "  inflating: /content/llms-for-image-geolocation-benchmarks/yfcc4k/yfcc4k/yfcc4k/2154241491.jpg  \n",
            "  inflating: /content/llms-for-image-geolocation-benchmarks/yfcc4k/yfcc4k/yfcc4k/215431565.jpg  \n",
            "  inflating: /content/llms-for-image-geolocation-benchmarks/yfcc4k/yfcc4k/yfcc4k/2154647463.jpg  \n",
            "  inflating: /content/llms-for-image-geolocation-benchmarks/yfcc4k/yfcc4k/yfcc4k/2155581077.jpg  \n",
            "  inflating: /content/llms-for-image-geolocation-benchmarks/yfcc4k/yfcc4k/yfcc4k/2158698661.jpg  \n",
            "  inflating: /content/llms-for-image-geolocation-benchmarks/yfcc4k/yfcc4k/yfcc4k/2164006612.jpg  \n",
            "  inflating: /content/llms-for-image-geolocation-benchmarks/yfcc4k/yfcc4k/yfcc4k/216885820.jpg  \n",
            "  inflating: /content/llms-for-image-geolocation-benchmarks/yfcc4k/yfcc4k/yfcc4k/2169824208.jpg  \n",
            "  inflating: /content/llms-for-image-geolocation-benchmarks/yfcc4k/yfcc4k/yfcc4k/2171184435.jpg  \n",
            "  inflating: /content/llms-for-image-geolocation-benchmarks/yfcc4k/yfcc4k/yfcc4k/2175883475.jpg  \n",
            "  inflating: /content/llms-for-image-geolocation-benchmarks/yfcc4k/yfcc4k/yfcc4k/2176441064.jpg  \n",
            "  inflating: /content/llms-for-image-geolocation-benchmarks/yfcc4k/yfcc4k/yfcc4k/218161683.jpg  \n",
            "  inflating: /content/llms-for-image-geolocation-benchmarks/yfcc4k/yfcc4k/yfcc4k/2188402815.jpg  \n",
            "  inflating: /content/llms-for-image-geolocation-benchmarks/yfcc4k/yfcc4k/yfcc4k/2191413492.jpg  \n",
            "  inflating: /content/llms-for-image-geolocation-benchmarks/yfcc4k/yfcc4k/yfcc4k/2193899800.jpg  \n",
            "  inflating: /content/llms-for-image-geolocation-benchmarks/yfcc4k/yfcc4k/yfcc4k/2193953277.jpg  \n",
            "  inflating: /content/llms-for-image-geolocation-benchmarks/yfcc4k/yfcc4k/yfcc4k/2204203153.jpg  \n",
            "  inflating: /content/llms-for-image-geolocation-benchmarks/yfcc4k/yfcc4k/yfcc4k/2205503679.jpg  \n",
            "  inflating: /content/llms-for-image-geolocation-benchmarks/yfcc4k/yfcc4k/yfcc4k/220593608.jpg  \n",
            "  inflating: /content/llms-for-image-geolocation-benchmarks/yfcc4k/yfcc4k/yfcc4k/2206311719.jpg  \n",
            "  inflating: /content/llms-for-image-geolocation-benchmarks/yfcc4k/yfcc4k/yfcc4k/2207547980.jpg  \n",
            "  inflating: /content/llms-for-image-geolocation-benchmarks/yfcc4k/yfcc4k/yfcc4k/2208434405.jpg  \n",
            "  inflating: /content/llms-for-image-geolocation-benchmarks/yfcc4k/yfcc4k/yfcc4k/2212373875.jpg  \n",
            "  inflating: /content/llms-for-image-geolocation-benchmarks/yfcc4k/yfcc4k/yfcc4k/2212489241.jpg  \n",
            "  inflating: /content/llms-for-image-geolocation-benchmarks/yfcc4k/yfcc4k/yfcc4k/2212820126.jpg  \n",
            "  inflating: /content/llms-for-image-geolocation-benchmarks/yfcc4k/yfcc4k/yfcc4k/2220843123.jpg  \n",
            "  inflating: /content/llms-for-image-geolocation-benchmarks/yfcc4k/yfcc4k/yfcc4k/2224663927.jpg  \n",
            "  inflating: /content/llms-for-image-geolocation-benchmarks/yfcc4k/yfcc4k/yfcc4k/2224673184.jpg  \n",
            "  inflating: /content/llms-for-image-geolocation-benchmarks/yfcc4k/yfcc4k/yfcc4k/2225012553.jpg  \n",
            "  inflating: /content/llms-for-image-geolocation-benchmarks/yfcc4k/yfcc4k/yfcc4k/2225516342.jpg  \n",
            "  inflating: /content/llms-for-image-geolocation-benchmarks/yfcc4k/yfcc4k/yfcc4k/2225790036.jpg  \n",
            "  inflating: /content/llms-for-image-geolocation-benchmarks/yfcc4k/yfcc4k/yfcc4k/2229243954.jpg  \n",
            "  inflating: /content/llms-for-image-geolocation-benchmarks/yfcc4k/yfcc4k/yfcc4k/2229568558.jpg  \n",
            "  inflating: /content/llms-for-image-geolocation-benchmarks/yfcc4k/yfcc4k/yfcc4k/2229589557.jpg  \n",
            "  inflating: /content/llms-for-image-geolocation-benchmarks/yfcc4k/yfcc4k/yfcc4k/2231331388.jpg  \n",
            "  inflating: /content/llms-for-image-geolocation-benchmarks/yfcc4k/yfcc4k/yfcc4k/2231570854.jpg  \n",
            "  inflating: /content/llms-for-image-geolocation-benchmarks/yfcc4k/yfcc4k/yfcc4k/2231781786.jpg  \n",
            "  inflating: /content/llms-for-image-geolocation-benchmarks/yfcc4k/yfcc4k/yfcc4k/2232591644.jpg  \n",
            "  inflating: /content/llms-for-image-geolocation-benchmarks/yfcc4k/yfcc4k/yfcc4k/2233556762.jpg  \n",
            "  inflating: /content/llms-for-image-geolocation-benchmarks/yfcc4k/yfcc4k/yfcc4k/2234191849.jpg  \n",
            "  inflating: /content/llms-for-image-geolocation-benchmarks/yfcc4k/yfcc4k/yfcc4k/2234450001.jpg  \n",
            "  inflating: /content/llms-for-image-geolocation-benchmarks/yfcc4k/yfcc4k/yfcc4k/2236257095.jpg  \n",
            "  inflating: /content/llms-for-image-geolocation-benchmarks/yfcc4k/yfcc4k/yfcc4k/2240060778.jpg  \n",
            "  inflating: /content/llms-for-image-geolocation-benchmarks/yfcc4k/yfcc4k/yfcc4k/2240852947.jpg  \n",
            "  inflating: /content/llms-for-image-geolocation-benchmarks/yfcc4k/yfcc4k/yfcc4k/2242259168.jpg  \n",
            "  inflating: /content/llms-for-image-geolocation-benchmarks/yfcc4k/yfcc4k/yfcc4k/2247385167.jpg  \n",
            "  inflating: /content/llms-for-image-geolocation-benchmarks/yfcc4k/yfcc4k/yfcc4k/2255239478.jpg  \n",
            "  inflating: /content/llms-for-image-geolocation-benchmarks/yfcc4k/yfcc4k/yfcc4k/2256335192.jpg  \n",
            "  inflating: /content/llms-for-image-geolocation-benchmarks/yfcc4k/yfcc4k/yfcc4k/2259713535.jpg  \n",
            "  inflating: /content/llms-for-image-geolocation-benchmarks/yfcc4k/yfcc4k/yfcc4k/2260283869.jpg  \n",
            "  inflating: /content/llms-for-image-geolocation-benchmarks/yfcc4k/yfcc4k/yfcc4k/2262565200.jpg  \n",
            "  inflating: /content/llms-for-image-geolocation-benchmarks/yfcc4k/yfcc4k/yfcc4k/226389285.jpg  \n",
            "  inflating: /content/llms-for-image-geolocation-benchmarks/yfcc4k/yfcc4k/yfcc4k/2269047206.jpg  \n",
            "  inflating: /content/llms-for-image-geolocation-benchmarks/yfcc4k/yfcc4k/yfcc4k/226996462.jpg  \n",
            "  inflating: /content/llms-for-image-geolocation-benchmarks/yfcc4k/yfcc4k/yfcc4k/2270717628.jpg  \n",
            "  inflating: /content/llms-for-image-geolocation-benchmarks/yfcc4k/yfcc4k/yfcc4k/2276690267.jpg  \n",
            "  inflating: /content/llms-for-image-geolocation-benchmarks/yfcc4k/yfcc4k/yfcc4k/2281241280.jpg  \n",
            "  inflating: /content/llms-for-image-geolocation-benchmarks/yfcc4k/yfcc4k/yfcc4k/2285253238.jpg  \n",
            "  inflating: /content/llms-for-image-geolocation-benchmarks/yfcc4k/yfcc4k/yfcc4k/2285286535.jpg  \n",
            "  inflating: /content/llms-for-image-geolocation-benchmarks/yfcc4k/yfcc4k/yfcc4k/2287091772.jpg  \n",
            "  inflating: /content/llms-for-image-geolocation-benchmarks/yfcc4k/yfcc4k/yfcc4k/2288276173.jpg  \n",
            "  inflating: /content/llms-for-image-geolocation-benchmarks/yfcc4k/yfcc4k/yfcc4k/2290285769.jpg  \n",
            "  inflating: /content/llms-for-image-geolocation-benchmarks/yfcc4k/yfcc4k/yfcc4k/2292797583.jpg  \n",
            "  inflating: /content/llms-for-image-geolocation-benchmarks/yfcc4k/yfcc4k/yfcc4k/229502948.jpg  \n",
            "  inflating: /content/llms-for-image-geolocation-benchmarks/yfcc4k/yfcc4k/yfcc4k/2297957412.jpg  \n",
            "  inflating: /content/llms-for-image-geolocation-benchmarks/yfcc4k/yfcc4k/yfcc4k/2299224293.jpg  \n",
            "  inflating: /content/llms-for-image-geolocation-benchmarks/yfcc4k/yfcc4k/yfcc4k/2299782057.jpg  \n",
            "  inflating: /content/llms-for-image-geolocation-benchmarks/yfcc4k/yfcc4k/yfcc4k/2301709628.jpg  \n",
            "  inflating: /content/llms-for-image-geolocation-benchmarks/yfcc4k/yfcc4k/yfcc4k/2301786634.jpg  \n",
            "  inflating: /content/llms-for-image-geolocation-benchmarks/yfcc4k/yfcc4k/yfcc4k/2302146832.jpg  \n",
            "  inflating: /content/llms-for-image-geolocation-benchmarks/yfcc4k/yfcc4k/yfcc4k/230701555.jpg  \n",
            "  inflating: /content/llms-for-image-geolocation-benchmarks/yfcc4k/yfcc4k/yfcc4k/2322289278.jpg  \n",
            "  inflating: /content/llms-for-image-geolocation-benchmarks/yfcc4k/yfcc4k/yfcc4k/2322999871.jpg  \n",
            "  inflating: /content/llms-for-image-geolocation-benchmarks/yfcc4k/yfcc4k/yfcc4k/2325838318.jpg  \n",
            "  inflating: /content/llms-for-image-geolocation-benchmarks/yfcc4k/yfcc4k/yfcc4k/2334054985.jpg  \n",
            "  inflating: /content/llms-for-image-geolocation-benchmarks/yfcc4k/yfcc4k/yfcc4k/2335017637.jpg  \n",
            "  inflating: /content/llms-for-image-geolocation-benchmarks/yfcc4k/yfcc4k/yfcc4k/2336543667.jpg  \n",
            "  inflating: /content/llms-for-image-geolocation-benchmarks/yfcc4k/yfcc4k/yfcc4k/2337753762.jpg  \n",
            "  inflating: /content/llms-for-image-geolocation-benchmarks/yfcc4k/yfcc4k/yfcc4k/2337875259.jpg  \n",
            "  inflating: /content/llms-for-image-geolocation-benchmarks/yfcc4k/yfcc4k/yfcc4k/2338027619.jpg  \n",
            "  inflating: /content/llms-for-image-geolocation-benchmarks/yfcc4k/yfcc4k/yfcc4k/2340344650.jpg  \n",
            "  inflating: /content/llms-for-image-geolocation-benchmarks/yfcc4k/yfcc4k/yfcc4k/2342552483.jpg  \n",
            "  inflating: /content/llms-for-image-geolocation-benchmarks/yfcc4k/yfcc4k/yfcc4k/2344123546.jpg  \n",
            "  inflating: /content/llms-for-image-geolocation-benchmarks/yfcc4k/yfcc4k/yfcc4k/2349843362.jpg  \n",
            "  inflating: /content/llms-for-image-geolocation-benchmarks/yfcc4k/yfcc4k/yfcc4k/2349850757.jpg  \n",
            "  inflating: /content/llms-for-image-geolocation-benchmarks/yfcc4k/yfcc4k/yfcc4k/2353231693.jpg  \n",
            "  inflating: /content/llms-for-image-geolocation-benchmarks/yfcc4k/yfcc4k/yfcc4k/2356540937.jpg  \n",
            "  inflating: /content/llms-for-image-geolocation-benchmarks/yfcc4k/yfcc4k/yfcc4k/2357852775.jpg  \n",
            "  inflating: /content/llms-for-image-geolocation-benchmarks/yfcc4k/yfcc4k/yfcc4k/23580251.jpg  \n",
            "  inflating: /content/llms-for-image-geolocation-benchmarks/yfcc4k/yfcc4k/yfcc4k/2358340656.jpg  \n",
            "  inflating: /content/llms-for-image-geolocation-benchmarks/yfcc4k/yfcc4k/yfcc4k/2360762087.jpg  \n",
            "  inflating: /content/llms-for-image-geolocation-benchmarks/yfcc4k/yfcc4k/yfcc4k/2367396909.jpg  \n",
            "  inflating: /content/llms-for-image-geolocation-benchmarks/yfcc4k/yfcc4k/yfcc4k/2368272046.jpg  \n",
            "  inflating: /content/llms-for-image-geolocation-benchmarks/yfcc4k/yfcc4k/yfcc4k/2370108583.jpg  \n",
            "  inflating: /content/llms-for-image-geolocation-benchmarks/yfcc4k/yfcc4k/yfcc4k/2372479741.jpg  \n",
            "  inflating: /content/llms-for-image-geolocation-benchmarks/yfcc4k/yfcc4k/yfcc4k/2373007605.jpg  \n",
            "  inflating: /content/llms-for-image-geolocation-benchmarks/yfcc4k/yfcc4k/yfcc4k/2373998135.jpg  \n",
            "  inflating: /content/llms-for-image-geolocation-benchmarks/yfcc4k/yfcc4k/yfcc4k/237717488.jpg  \n",
            "  inflating: /content/llms-for-image-geolocation-benchmarks/yfcc4k/yfcc4k/yfcc4k/2378355677.jpg  \n",
            "  inflating: /content/llms-for-image-geolocation-benchmarks/yfcc4k/yfcc4k/yfcc4k/2378869389.jpg  \n",
            "  inflating: /content/llms-for-image-geolocation-benchmarks/yfcc4k/yfcc4k/yfcc4k/2383824088.jpg  \n",
            "  inflating: /content/llms-for-image-geolocation-benchmarks/yfcc4k/yfcc4k/yfcc4k/2390178298.jpg  \n",
            "  inflating: /content/llms-for-image-geolocation-benchmarks/yfcc4k/yfcc4k/yfcc4k/2392139318.jpg  \n",
            "  inflating: /content/llms-for-image-geolocation-benchmarks/yfcc4k/yfcc4k/yfcc4k/2392807943.jpg  \n",
            "  inflating: /content/llms-for-image-geolocation-benchmarks/yfcc4k/yfcc4k/yfcc4k/2394273712.jpg  \n",
            "  inflating: /content/llms-for-image-geolocation-benchmarks/yfcc4k/yfcc4k/yfcc4k/2396138859.jpg  \n",
            "  inflating: /content/llms-for-image-geolocation-benchmarks/yfcc4k/yfcc4k/yfcc4k/2397482849.jpg  \n",
            "  inflating: /content/llms-for-image-geolocation-benchmarks/yfcc4k/yfcc4k/yfcc4k/2398155134.jpg  \n",
            "  inflating: /content/llms-for-image-geolocation-benchmarks/yfcc4k/yfcc4k/yfcc4k/2404373562.jpg  \n",
            "  inflating: /content/llms-for-image-geolocation-benchmarks/yfcc4k/yfcc4k/yfcc4k/2407234000.jpg  \n",
            "  inflating: /content/llms-for-image-geolocation-benchmarks/yfcc4k/yfcc4k/yfcc4k/240806483.jpg  \n",
            "  inflating: /content/llms-for-image-geolocation-benchmarks/yfcc4k/yfcc4k/yfcc4k/2408374505.jpg  \n",
            "  inflating: /content/llms-for-image-geolocation-benchmarks/yfcc4k/yfcc4k/yfcc4k/2410287978.jpg  \n",
            "  inflating: /content/llms-for-image-geolocation-benchmarks/yfcc4k/yfcc4k/yfcc4k/241248152.jpg  \n",
            "  inflating: /content/llms-for-image-geolocation-benchmarks/yfcc4k/yfcc4k/yfcc4k/2412894098.jpg  \n",
            "  inflating: /content/llms-for-image-geolocation-benchmarks/yfcc4k/yfcc4k/yfcc4k/2413884286.jpg  \n",
            "  inflating: /content/llms-for-image-geolocation-benchmarks/yfcc4k/yfcc4k/yfcc4k/2414043132.jpg  \n",
            "  inflating: /content/llms-for-image-geolocation-benchmarks/yfcc4k/yfcc4k/yfcc4k/2416080818.jpg  \n",
            "  inflating: /content/llms-for-image-geolocation-benchmarks/yfcc4k/yfcc4k/yfcc4k/2416503457.jpg  \n",
            "  inflating: /content/llms-for-image-geolocation-benchmarks/yfcc4k/yfcc4k/yfcc4k/2416841436.jpg  \n",
            "  inflating: /content/llms-for-image-geolocation-benchmarks/yfcc4k/yfcc4k/yfcc4k/2417103210.jpg  \n",
            "  inflating: /content/llms-for-image-geolocation-benchmarks/yfcc4k/yfcc4k/yfcc4k/2417974350.jpg  \n",
            "  inflating: /content/llms-for-image-geolocation-benchmarks/yfcc4k/yfcc4k/yfcc4k/2422514509.jpg  \n",
            "  inflating: /content/llms-for-image-geolocation-benchmarks/yfcc4k/yfcc4k/yfcc4k/2424702883.jpg  \n",
            "  inflating: /content/llms-for-image-geolocation-benchmarks/yfcc4k/yfcc4k/yfcc4k/2425196729.jpg  \n",
            "  inflating: /content/llms-for-image-geolocation-benchmarks/yfcc4k/yfcc4k/yfcc4k/2427104501.jpg  \n",
            "  inflating: /content/llms-for-image-geolocation-benchmarks/yfcc4k/yfcc4k/yfcc4k/2431640420.jpg  \n",
            "  inflating: /content/llms-for-image-geolocation-benchmarks/yfcc4k/yfcc4k/yfcc4k/2433052741.jpg  \n",
            "  inflating: /content/llms-for-image-geolocation-benchmarks/yfcc4k/yfcc4k/yfcc4k/243359346.jpg  \n",
            "  inflating: /content/llms-for-image-geolocation-benchmarks/yfcc4k/yfcc4k/yfcc4k/2436734464.jpg  \n",
            "  inflating: /content/llms-for-image-geolocation-benchmarks/yfcc4k/yfcc4k/yfcc4k/2438845176.jpg  \n",
            "  inflating: /content/llms-for-image-geolocation-benchmarks/yfcc4k/yfcc4k/yfcc4k/2442702852.jpg  \n",
            "  inflating: /content/llms-for-image-geolocation-benchmarks/yfcc4k/yfcc4k/yfcc4k/2442899574.jpg  \n",
            "  inflating: /content/llms-for-image-geolocation-benchmarks/yfcc4k/yfcc4k/yfcc4k/2443656152.jpg  \n",
            "  inflating: /content/llms-for-image-geolocation-benchmarks/yfcc4k/yfcc4k/yfcc4k/2446360338.jpg  \n",
            "  inflating: /content/llms-for-image-geolocation-benchmarks/yfcc4k/yfcc4k/yfcc4k/2446905174.jpg  \n",
            "  inflating: /content/llms-for-image-geolocation-benchmarks/yfcc4k/yfcc4k/yfcc4k/2450074736.jpg  \n",
            "  inflating: /content/llms-for-image-geolocation-benchmarks/yfcc4k/yfcc4k/yfcc4k/2452575802.jpg  \n",
            "  inflating: /content/llms-for-image-geolocation-benchmarks/yfcc4k/yfcc4k/yfcc4k/2458287156.jpg  \n",
            "  inflating: /content/llms-for-image-geolocation-benchmarks/yfcc4k/yfcc4k/yfcc4k/2458677475.jpg  \n",
            "  inflating: /content/llms-for-image-geolocation-benchmarks/yfcc4k/yfcc4k/yfcc4k/2459975723.jpg  \n",
            "  inflating: /content/llms-for-image-geolocation-benchmarks/yfcc4k/yfcc4k/yfcc4k/246001842.jpg  \n",
            "  inflating: /content/llms-for-image-geolocation-benchmarks/yfcc4k/yfcc4k/yfcc4k/2460699483.jpg  \n",
            "  inflating: /content/llms-for-image-geolocation-benchmarks/yfcc4k/yfcc4k/yfcc4k/2461696353.jpg  \n",
            "  inflating: /content/llms-for-image-geolocation-benchmarks/yfcc4k/yfcc4k/yfcc4k/2462101858.jpg  \n",
            "  inflating: /content/llms-for-image-geolocation-benchmarks/yfcc4k/yfcc4k/yfcc4k/2463623526.jpg  \n",
            "  inflating: /content/llms-for-image-geolocation-benchmarks/yfcc4k/yfcc4k/yfcc4k/2464662883.jpg  \n",
            "  inflating: /content/llms-for-image-geolocation-benchmarks/yfcc4k/yfcc4k/yfcc4k/2465277674.jpg  \n",
            "  inflating: /content/llms-for-image-geolocation-benchmarks/yfcc4k/yfcc4k/yfcc4k/2466223096.jpg  \n",
            "  inflating: /content/llms-for-image-geolocation-benchmarks/yfcc4k/yfcc4k/yfcc4k/2472356404.jpg  \n",
            "  inflating: /content/llms-for-image-geolocation-benchmarks/yfcc4k/yfcc4k/yfcc4k/2473175246.jpg  \n",
            "  inflating: /content/llms-for-image-geolocation-benchmarks/yfcc4k/yfcc4k/yfcc4k/2474812770.jpg  \n",
            "  inflating: /content/llms-for-image-geolocation-benchmarks/yfcc4k/yfcc4k/yfcc4k/2475768407.jpg  \n",
            "  inflating: /content/llms-for-image-geolocation-benchmarks/yfcc4k/yfcc4k/yfcc4k/2480921502.jpg  \n",
            "  inflating: /content/llms-for-image-geolocation-benchmarks/yfcc4k/yfcc4k/yfcc4k/2481973828.jpg  \n",
            "  inflating: /content/llms-for-image-geolocation-benchmarks/yfcc4k/yfcc4k/yfcc4k/2483252880.jpg  \n",
            "  inflating: /content/llms-for-image-geolocation-benchmarks/yfcc4k/yfcc4k/yfcc4k/2484546588.jpg  \n",
            "  inflating: /content/llms-for-image-geolocation-benchmarks/yfcc4k/yfcc4k/yfcc4k/2485257197.jpg  \n",
            "  inflating: /content/llms-for-image-geolocation-benchmarks/yfcc4k/yfcc4k/yfcc4k/2488646901.jpg  \n",
            "  inflating: /content/llms-for-image-geolocation-benchmarks/yfcc4k/yfcc4k/yfcc4k/2489625453.jpg  \n",
            "  inflating: /content/llms-for-image-geolocation-benchmarks/yfcc4k/yfcc4k/yfcc4k/2490240804.jpg  \n",
            "  inflating: /content/llms-for-image-geolocation-benchmarks/yfcc4k/yfcc4k/yfcc4k/2490272453.jpg  \n",
            "  inflating: /content/llms-for-image-geolocation-benchmarks/yfcc4k/yfcc4k/yfcc4k/2493434963.jpg  \n",
            "  inflating: /content/llms-for-image-geolocation-benchmarks/yfcc4k/yfcc4k/yfcc4k/2493867066.jpg  \n",
            "  inflating: /content/llms-for-image-geolocation-benchmarks/yfcc4k/yfcc4k/yfcc4k/249587994.jpg  \n",
            "  inflating: /content/llms-for-image-geolocation-benchmarks/yfcc4k/yfcc4k/yfcc4k/2496107560.jpg  \n",
            "  inflating: /content/llms-for-image-geolocation-benchmarks/yfcc4k/yfcc4k/yfcc4k/2497626176.jpg  \n",
            "  inflating: /content/llms-for-image-geolocation-benchmarks/yfcc4k/yfcc4k/yfcc4k/2497840790.jpg  \n",
            "  inflating: /content/llms-for-image-geolocation-benchmarks/yfcc4k/yfcc4k/yfcc4k/2498375715.jpg  \n",
            "  inflating: /content/llms-for-image-geolocation-benchmarks/yfcc4k/yfcc4k/yfcc4k/2501170149.jpg  \n",
            "  inflating: /content/llms-for-image-geolocation-benchmarks/yfcc4k/yfcc4k/yfcc4k/2502286216.jpg  \n",
            "  inflating: /content/llms-for-image-geolocation-benchmarks/yfcc4k/yfcc4k/yfcc4k/2503790536.jpg  \n",
            "  inflating: /content/llms-for-image-geolocation-benchmarks/yfcc4k/yfcc4k/yfcc4k/2508775362.jpg  \n",
            "  inflating: /content/llms-for-image-geolocation-benchmarks/yfcc4k/yfcc4k/yfcc4k/2509250888.jpg  \n",
            "  inflating: /content/llms-for-image-geolocation-benchmarks/yfcc4k/yfcc4k/yfcc4k/2513433317.jpg  \n",
            "  inflating: /content/llms-for-image-geolocation-benchmarks/yfcc4k/yfcc4k/yfcc4k/2516355590.jpg  \n",
            "  inflating: /content/llms-for-image-geolocation-benchmarks/yfcc4k/yfcc4k/yfcc4k/2517733186.jpg  \n",
            "  inflating: /content/llms-for-image-geolocation-benchmarks/yfcc4k/yfcc4k/yfcc4k/2519150959.jpg  \n",
            "  inflating: /content/llms-for-image-geolocation-benchmarks/yfcc4k/yfcc4k/yfcc4k/2525787807.jpg  \n",
            "  inflating: /content/llms-for-image-geolocation-benchmarks/yfcc4k/yfcc4k/yfcc4k/2526385070.jpg  \n",
            "  inflating: /content/llms-for-image-geolocation-benchmarks/yfcc4k/yfcc4k/yfcc4k/2526575788.jpg  \n",
            "  inflating: /content/llms-for-image-geolocation-benchmarks/yfcc4k/yfcc4k/yfcc4k/2528368215.jpg  \n",
            "  inflating: /content/llms-for-image-geolocation-benchmarks/yfcc4k/yfcc4k/yfcc4k/2528658825.jpg  \n",
            "  inflating: /content/llms-for-image-geolocation-benchmarks/yfcc4k/yfcc4k/yfcc4k/2529026512.jpg  \n",
            "  inflating: /content/llms-for-image-geolocation-benchmarks/yfcc4k/yfcc4k/yfcc4k/2529956114.jpg  \n",
            "  inflating: /content/llms-for-image-geolocation-benchmarks/yfcc4k/yfcc4k/yfcc4k/2532908290.jpg  \n",
            "  inflating: /content/llms-for-image-geolocation-benchmarks/yfcc4k/yfcc4k/yfcc4k/2533214069.jpg  \n",
            "  inflating: /content/llms-for-image-geolocation-benchmarks/yfcc4k/yfcc4k/yfcc4k/2534706676.jpg  \n",
            "  inflating: /content/llms-for-image-geolocation-benchmarks/yfcc4k/yfcc4k/yfcc4k/2540092049.jpg  \n",
            "  inflating: /content/llms-for-image-geolocation-benchmarks/yfcc4k/yfcc4k/yfcc4k/2540939944.jpg  \n",
            "  inflating: /content/llms-for-image-geolocation-benchmarks/yfcc4k/yfcc4k/yfcc4k/2541932512.jpg  \n",
            "  inflating: /content/llms-for-image-geolocation-benchmarks/yfcc4k/yfcc4k/yfcc4k/2542447344.jpg  \n",
            "  inflating: /content/llms-for-image-geolocation-benchmarks/yfcc4k/yfcc4k/yfcc4k/2545746901.jpg  \n",
            "  inflating: /content/llms-for-image-geolocation-benchmarks/yfcc4k/yfcc4k/yfcc4k/2550871722.jpg  \n",
            "  inflating: /content/llms-for-image-geolocation-benchmarks/yfcc4k/yfcc4k/yfcc4k/2552345279.jpg  \n",
            "  inflating: /content/llms-for-image-geolocation-benchmarks/yfcc4k/yfcc4k/yfcc4k/2553600852.jpg  \n",
            "  inflating: /content/llms-for-image-geolocation-benchmarks/yfcc4k/yfcc4k/yfcc4k/2565472747.jpg  \n",
            "  inflating: /content/llms-for-image-geolocation-benchmarks/yfcc4k/yfcc4k/yfcc4k/2567520285.jpg  \n",
            "  inflating: /content/llms-for-image-geolocation-benchmarks/yfcc4k/yfcc4k/yfcc4k/2567547061.jpg  \n",
            "  inflating: /content/llms-for-image-geolocation-benchmarks/yfcc4k/yfcc4k/yfcc4k/2568540679.jpg  \n",
            "  inflating: /content/llms-for-image-geolocation-benchmarks/yfcc4k/yfcc4k/yfcc4k/2569331230.jpg  \n",
            "  inflating: /content/llms-for-image-geolocation-benchmarks/yfcc4k/yfcc4k/yfcc4k/2573256743.jpg  \n",
            "  inflating: /content/llms-for-image-geolocation-benchmarks/yfcc4k/yfcc4k/yfcc4k/2574968390.jpg  \n",
            "  inflating: /content/llms-for-image-geolocation-benchmarks/yfcc4k/yfcc4k/yfcc4k/2575880348.jpg  \n",
            "  inflating: /content/llms-for-image-geolocation-benchmarks/yfcc4k/yfcc4k/yfcc4k/2576783429.jpg  \n",
            "  inflating: /content/llms-for-image-geolocation-benchmarks/yfcc4k/yfcc4k/yfcc4k/2578705815.jpg  \n",
            "  inflating: /content/llms-for-image-geolocation-benchmarks/yfcc4k/yfcc4k/yfcc4k/2580719887.jpg  \n",
            "  inflating: /content/llms-for-image-geolocation-benchmarks/yfcc4k/yfcc4k/yfcc4k/2582403656.jpg  \n",
            "  inflating: /content/llms-for-image-geolocation-benchmarks/yfcc4k/yfcc4k/yfcc4k/2582899267.jpg  \n",
            "  inflating: /content/llms-for-image-geolocation-benchmarks/yfcc4k/yfcc4k/yfcc4k/2583803277.jpg  \n",
            "  inflating: /content/llms-for-image-geolocation-benchmarks/yfcc4k/yfcc4k/yfcc4k/2589244273.jpg  \n",
            "  inflating: /content/llms-for-image-geolocation-benchmarks/yfcc4k/yfcc4k/yfcc4k/25935894.jpg  \n",
            "  inflating: /content/llms-for-image-geolocation-benchmarks/yfcc4k/yfcc4k/yfcc4k/2594029588.jpg  \n",
            "  inflating: /content/llms-for-image-geolocation-benchmarks/yfcc4k/yfcc4k/yfcc4k/259566032.jpg  \n",
            "  inflating: /content/llms-for-image-geolocation-benchmarks/yfcc4k/yfcc4k/yfcc4k/2597510331.jpg  \n",
            "  inflating: /content/llms-for-image-geolocation-benchmarks/yfcc4k/yfcc4k/yfcc4k/2597731920.jpg  \n",
            "  inflating: /content/llms-for-image-geolocation-benchmarks/yfcc4k/yfcc4k/yfcc4k/2598193228.jpg  \n",
            "  inflating: /content/llms-for-image-geolocation-benchmarks/yfcc4k/yfcc4k/yfcc4k/2599735063.jpg  \n",
            "  inflating: /content/llms-for-image-geolocation-benchmarks/yfcc4k/yfcc4k/yfcc4k/2601024295.jpg  \n",
            "  inflating: /content/llms-for-image-geolocation-benchmarks/yfcc4k/yfcc4k/yfcc4k/260430401.jpg  \n",
            "  inflating: /content/llms-for-image-geolocation-benchmarks/yfcc4k/yfcc4k/yfcc4k/260884317.jpg  \n",
            "  inflating: /content/llms-for-image-geolocation-benchmarks/yfcc4k/yfcc4k/yfcc4k/261415588.jpg  \n",
            "  inflating: /content/llms-for-image-geolocation-benchmarks/yfcc4k/yfcc4k/yfcc4k/2616501080.jpg  \n",
            "  inflating: /content/llms-for-image-geolocation-benchmarks/yfcc4k/yfcc4k/yfcc4k/2616994612.jpg  \n",
            "  inflating: /content/llms-for-image-geolocation-benchmarks/yfcc4k/yfcc4k/yfcc4k/2621264573.jpg  \n",
            "  inflating: /content/llms-for-image-geolocation-benchmarks/yfcc4k/yfcc4k/yfcc4k/2622047032.jpg  \n",
            "  inflating: /content/llms-for-image-geolocation-benchmarks/yfcc4k/yfcc4k/yfcc4k/2622312389.jpg  \n",
            "  inflating: /content/llms-for-image-geolocation-benchmarks/yfcc4k/yfcc4k/yfcc4k/2623421324.jpg  \n",
            "  inflating: /content/llms-for-image-geolocation-benchmarks/yfcc4k/yfcc4k/yfcc4k/2624299512.jpg  \n",
            "  inflating: /content/llms-for-image-geolocation-benchmarks/yfcc4k/yfcc4k/yfcc4k/2625302730.jpg  \n",
            "  inflating: /content/llms-for-image-geolocation-benchmarks/yfcc4k/yfcc4k/yfcc4k/2626558268.jpg  \n",
            "  inflating: /content/llms-for-image-geolocation-benchmarks/yfcc4k/yfcc4k/yfcc4k/2626589388.jpg  \n",
            "  inflating: /content/llms-for-image-geolocation-benchmarks/yfcc4k/yfcc4k/yfcc4k/2626798795.jpg  \n",
            "  inflating: /content/llms-for-image-geolocation-benchmarks/yfcc4k/yfcc4k/yfcc4k/2627541699.jpg  \n",
            "  inflating: /content/llms-for-image-geolocation-benchmarks/yfcc4k/yfcc4k/yfcc4k/2627906281.jpg  \n",
            "  inflating: /content/llms-for-image-geolocation-benchmarks/yfcc4k/yfcc4k/yfcc4k/2632108654.jpg  \n",
            "  inflating: /content/llms-for-image-geolocation-benchmarks/yfcc4k/yfcc4k/yfcc4k/2636860201.jpg  \n",
            "  inflating: /content/llms-for-image-geolocation-benchmarks/yfcc4k/yfcc4k/yfcc4k/2639139585.jpg  \n",
            "  inflating: /content/llms-for-image-geolocation-benchmarks/yfcc4k/yfcc4k/yfcc4k/2641081042.jpg  \n",
            "  inflating: /content/llms-for-image-geolocation-benchmarks/yfcc4k/yfcc4k/yfcc4k/2642699655.jpg  \n",
            "  inflating: /content/llms-for-image-geolocation-benchmarks/yfcc4k/yfcc4k/yfcc4k/2642730844.jpg  \n",
            "  inflating: /content/llms-for-image-geolocation-benchmarks/yfcc4k/yfcc4k/yfcc4k/2643824068.jpg  \n",
            "  inflating: /content/llms-for-image-geolocation-benchmarks/yfcc4k/yfcc4k/yfcc4k/2644738217.jpg  \n",
            "  inflating: /content/llms-for-image-geolocation-benchmarks/yfcc4k/yfcc4k/yfcc4k/2645565596.jpg  \n",
            "  inflating: /content/llms-for-image-geolocation-benchmarks/yfcc4k/yfcc4k/yfcc4k/2647865284.jpg  \n",
            "  inflating: /content/llms-for-image-geolocation-benchmarks/yfcc4k/yfcc4k/yfcc4k/2652190729.jpg  \n",
            "  inflating: /content/llms-for-image-geolocation-benchmarks/yfcc4k/yfcc4k/yfcc4k/2655454790.jpg  \n",
            "  inflating: /content/llms-for-image-geolocation-benchmarks/yfcc4k/yfcc4k/yfcc4k/2655588804.jpg  \n",
            "  inflating: /content/llms-for-image-geolocation-benchmarks/yfcc4k/yfcc4k/yfcc4k/2657768833.jpg  \n",
            "  inflating: /content/llms-for-image-geolocation-benchmarks/yfcc4k/yfcc4k/yfcc4k/2657874399.jpg  \n",
            "  inflating: /content/llms-for-image-geolocation-benchmarks/yfcc4k/yfcc4k/yfcc4k/2661710482.jpg  \n",
            "  inflating: /content/llms-for-image-geolocation-benchmarks/yfcc4k/yfcc4k/yfcc4k/2661770317.jpg  \n",
            "  inflating: /content/llms-for-image-geolocation-benchmarks/yfcc4k/yfcc4k/yfcc4k/2663869507.jpg  \n",
            "  inflating: /content/llms-for-image-geolocation-benchmarks/yfcc4k/yfcc4k/yfcc4k/2664384089.jpg  \n",
            "  inflating: /content/llms-for-image-geolocation-benchmarks/yfcc4k/yfcc4k/yfcc4k/2664395509.jpg  \n",
            "  inflating: /content/llms-for-image-geolocation-benchmarks/yfcc4k/yfcc4k/yfcc4k/2664985439.jpg  \n",
            "  inflating: /content/llms-for-image-geolocation-benchmarks/yfcc4k/yfcc4k/yfcc4k/2666313166.jpg  \n",
            "  inflating: /content/llms-for-image-geolocation-benchmarks/yfcc4k/yfcc4k/yfcc4k/2666349665.jpg  \n",
            "  inflating: /content/llms-for-image-geolocation-benchmarks/yfcc4k/yfcc4k/yfcc4k/2667030141.jpg  \n",
            "  inflating: /content/llms-for-image-geolocation-benchmarks/yfcc4k/yfcc4k/yfcc4k/2670014496.jpg  \n",
            "  inflating: /content/llms-for-image-geolocation-benchmarks/yfcc4k/yfcc4k/yfcc4k/2670548603.jpg  \n",
            "  inflating: /content/llms-for-image-geolocation-benchmarks/yfcc4k/yfcc4k/yfcc4k/2679781172.jpg  \n",
            "  inflating: /content/llms-for-image-geolocation-benchmarks/yfcc4k/yfcc4k/yfcc4k/2681465345.jpg  \n",
            "  inflating: /content/llms-for-image-geolocation-benchmarks/yfcc4k/yfcc4k/yfcc4k/2682533892.jpg  \n",
            "  inflating: /content/llms-for-image-geolocation-benchmarks/yfcc4k/yfcc4k/yfcc4k/2694655194.jpg  \n",
            "  inflating: /content/llms-for-image-geolocation-benchmarks/yfcc4k/yfcc4k/yfcc4k/2695557257.jpg  \n",
            "  inflating: /content/llms-for-image-geolocation-benchmarks/yfcc4k/yfcc4k/yfcc4k/2695622032.jpg  \n",
            "  inflating: /content/llms-for-image-geolocation-benchmarks/yfcc4k/yfcc4k/yfcc4k/2698402902.jpg  \n",
            "  inflating: /content/llms-for-image-geolocation-benchmarks/yfcc4k/yfcc4k/yfcc4k/2701079432.jpg  \n",
            "  inflating: /content/llms-for-image-geolocation-benchmarks/yfcc4k/yfcc4k/yfcc4k/2702196273.jpg  \n",
            "  inflating: /content/llms-for-image-geolocation-benchmarks/yfcc4k/yfcc4k/yfcc4k/2704842470.jpg  \n",
            "  inflating: /content/llms-for-image-geolocation-benchmarks/yfcc4k/yfcc4k/yfcc4k/2705045008.jpg  \n",
            "  inflating: /content/llms-for-image-geolocation-benchmarks/yfcc4k/yfcc4k/yfcc4k/2705141703.jpg  \n",
            "  inflating: /content/llms-for-image-geolocation-benchmarks/yfcc4k/yfcc4k/yfcc4k/2708830005.jpg  \n",
            "  inflating: /content/llms-for-image-geolocation-benchmarks/yfcc4k/yfcc4k/yfcc4k/2709567989.jpg  \n",
            "  inflating: /content/llms-for-image-geolocation-benchmarks/yfcc4k/yfcc4k/yfcc4k/2715441368.jpg  \n",
            "  inflating: /content/llms-for-image-geolocation-benchmarks/yfcc4k/yfcc4k/yfcc4k/2719633930.jpg  \n",
            "  inflating: /content/llms-for-image-geolocation-benchmarks/yfcc4k/yfcc4k/yfcc4k/2726957637.jpg  \n",
            "  inflating: /content/llms-for-image-geolocation-benchmarks/yfcc4k/yfcc4k/yfcc4k/2729672264.jpg  \n",
            "  inflating: /content/llms-for-image-geolocation-benchmarks/yfcc4k/yfcc4k/yfcc4k/2730924415.jpg  \n",
            "  inflating: /content/llms-for-image-geolocation-benchmarks/yfcc4k/yfcc4k/yfcc4k/2731604083.jpg  \n",
            "  inflating: /content/llms-for-image-geolocation-benchmarks/yfcc4k/yfcc4k/yfcc4k/2731636253.jpg  \n",
            "  inflating: /content/llms-for-image-geolocation-benchmarks/yfcc4k/yfcc4k/yfcc4k/2732460690.jpg  \n",
            "  inflating: /content/llms-for-image-geolocation-benchmarks/yfcc4k/yfcc4k/yfcc4k/2732811639.jpg  \n",
            "  inflating: /content/llms-for-image-geolocation-benchmarks/yfcc4k/yfcc4k/yfcc4k/2735803433.jpg  \n",
            "  inflating: /content/llms-for-image-geolocation-benchmarks/yfcc4k/yfcc4k/yfcc4k/2736759157.jpg  \n",
            "  inflating: /content/llms-for-image-geolocation-benchmarks/yfcc4k/yfcc4k/yfcc4k/2737861674.jpg  \n",
            "  inflating: /content/llms-for-image-geolocation-benchmarks/yfcc4k/yfcc4k/yfcc4k/2737906414.jpg  \n",
            "  inflating: /content/llms-for-image-geolocation-benchmarks/yfcc4k/yfcc4k/yfcc4k/2738258697.jpg  \n",
            "  inflating: /content/llms-for-image-geolocation-benchmarks/yfcc4k/yfcc4k/yfcc4k/2740446471.jpg  \n",
            "  inflating: /content/llms-for-image-geolocation-benchmarks/yfcc4k/yfcc4k/yfcc4k/2740450456.jpg  \n",
            "  inflating: /content/llms-for-image-geolocation-benchmarks/yfcc4k/yfcc4k/yfcc4k/2741148211.jpg  \n",
            "  inflating: /content/llms-for-image-geolocation-benchmarks/yfcc4k/yfcc4k/yfcc4k/2745437899.jpg  \n",
            "  inflating: /content/llms-for-image-geolocation-benchmarks/yfcc4k/yfcc4k/yfcc4k/2750046730.jpg  \n",
            "  inflating: /content/llms-for-image-geolocation-benchmarks/yfcc4k/yfcc4k/yfcc4k/2750471145.jpg  \n",
            "  inflating: /content/llms-for-image-geolocation-benchmarks/yfcc4k/yfcc4k/yfcc4k/2753977988.jpg  \n",
            "  inflating: /content/llms-for-image-geolocation-benchmarks/yfcc4k/yfcc4k/yfcc4k/2754274725.jpg  \n",
            "  inflating: /content/llms-for-image-geolocation-benchmarks/yfcc4k/yfcc4k/yfcc4k/2754768635.jpg  \n",
            "  inflating: /content/llms-for-image-geolocation-benchmarks/yfcc4k/yfcc4k/yfcc4k/2756182249.jpg  \n",
            "  inflating: /content/llms-for-image-geolocation-benchmarks/yfcc4k/yfcc4k/yfcc4k/2757304196.jpg  \n",
            "  inflating: /content/llms-for-image-geolocation-benchmarks/yfcc4k/yfcc4k/yfcc4k/2760079853.jpg  \n",
            "  inflating: /content/llms-for-image-geolocation-benchmarks/yfcc4k/yfcc4k/yfcc4k/2760895723.jpg  \n",
            "  inflating: /content/llms-for-image-geolocation-benchmarks/yfcc4k/yfcc4k/yfcc4k/2764207927.jpg  \n",
            "  inflating: /content/llms-for-image-geolocation-benchmarks/yfcc4k/yfcc4k/yfcc4k/2764520341.jpg  \n",
            "  inflating: /content/llms-for-image-geolocation-benchmarks/yfcc4k/yfcc4k/yfcc4k/2765285511.jpg  \n",
            "  inflating: /content/llms-for-image-geolocation-benchmarks/yfcc4k/yfcc4k/yfcc4k/2765405915.jpg  \n",
            "  inflating: /content/llms-for-image-geolocation-benchmarks/yfcc4k/yfcc4k/yfcc4k/2765966267.jpg  \n",
            "  inflating: /content/llms-for-image-geolocation-benchmarks/yfcc4k/yfcc4k/yfcc4k/2766660672.jpg  \n",
            "  inflating: /content/llms-for-image-geolocation-benchmarks/yfcc4k/yfcc4k/yfcc4k/2766973541.jpg  \n",
            "  inflating: /content/llms-for-image-geolocation-benchmarks/yfcc4k/yfcc4k/yfcc4k/2769576763.jpg  \n",
            "  inflating: /content/llms-for-image-geolocation-benchmarks/yfcc4k/yfcc4k/yfcc4k/2770506597.jpg  \n",
            "  inflating: /content/llms-for-image-geolocation-benchmarks/yfcc4k/yfcc4k/yfcc4k/2770817821.jpg  \n",
            "  inflating: /content/llms-for-image-geolocation-benchmarks/yfcc4k/yfcc4k/yfcc4k/2773742761.jpg  \n",
            "  inflating: /content/llms-for-image-geolocation-benchmarks/yfcc4k/yfcc4k/yfcc4k/2774464085.jpg  \n",
            "  inflating: /content/llms-for-image-geolocation-benchmarks/yfcc4k/yfcc4k/yfcc4k/2777739972.jpg  \n",
            "  inflating: /content/llms-for-image-geolocation-benchmarks/yfcc4k/yfcc4k/yfcc4k/2778645137.jpg  \n",
            "  inflating: /content/llms-for-image-geolocation-benchmarks/yfcc4k/yfcc4k/yfcc4k/2781350339.jpg  \n",
            "  inflating: /content/llms-for-image-geolocation-benchmarks/yfcc4k/yfcc4k/yfcc4k/2781776849.jpg  \n",
            "  inflating: /content/llms-for-image-geolocation-benchmarks/yfcc4k/yfcc4k/yfcc4k/2783277956.jpg  \n",
            "  inflating: /content/llms-for-image-geolocation-benchmarks/yfcc4k/yfcc4k/yfcc4k/2788661135.jpg  \n",
            "  inflating: /content/llms-for-image-geolocation-benchmarks/yfcc4k/yfcc4k/yfcc4k/2788861769.jpg  \n",
            "  inflating: /content/llms-for-image-geolocation-benchmarks/yfcc4k/yfcc4k/yfcc4k/2789278098.jpg  \n",
            "  inflating: /content/llms-for-image-geolocation-benchmarks/yfcc4k/yfcc4k/yfcc4k/2791428226.jpg  \n",
            "  inflating: /content/llms-for-image-geolocation-benchmarks/yfcc4k/yfcc4k/yfcc4k/2792085539.jpg  \n",
            "  inflating: /content/llms-for-image-geolocation-benchmarks/yfcc4k/yfcc4k/yfcc4k/2792929547.jpg  \n",
            "  inflating: /content/llms-for-image-geolocation-benchmarks/yfcc4k/yfcc4k/yfcc4k/2792964771.jpg  \n",
            "  inflating: /content/llms-for-image-geolocation-benchmarks/yfcc4k/yfcc4k/yfcc4k/2797655534.jpg  \n",
            "  inflating: /content/llms-for-image-geolocation-benchmarks/yfcc4k/yfcc4k/yfcc4k/2798126146.jpg  \n",
            "  inflating: /content/llms-for-image-geolocation-benchmarks/yfcc4k/yfcc4k/yfcc4k/2800828861.jpg  \n",
            "  inflating: /content/llms-for-image-geolocation-benchmarks/yfcc4k/yfcc4k/yfcc4k/2802785688.jpg  \n",
            "  inflating: /content/llms-for-image-geolocation-benchmarks/yfcc4k/yfcc4k/yfcc4k/2804138764.jpg  \n",
            "  inflating: /content/llms-for-image-geolocation-benchmarks/yfcc4k/yfcc4k/yfcc4k/2806006405.jpg  \n",
            "  inflating: /content/llms-for-image-geolocation-benchmarks/yfcc4k/yfcc4k/yfcc4k/2806312876.jpg  \n",
            "  inflating: /content/llms-for-image-geolocation-benchmarks/yfcc4k/yfcc4k/yfcc4k/2810760423.jpg  \n",
            "  inflating: /content/llms-for-image-geolocation-benchmarks/yfcc4k/yfcc4k/yfcc4k/2811424336.jpg  \n",
            "  inflating: /content/llms-for-image-geolocation-benchmarks/yfcc4k/yfcc4k/yfcc4k/2813564870.jpg  \n",
            "  inflating: /content/llms-for-image-geolocation-benchmarks/yfcc4k/yfcc4k/yfcc4k/2813905044.jpg  \n",
            "  inflating: /content/llms-for-image-geolocation-benchmarks/yfcc4k/yfcc4k/yfcc4k/2814349186.jpg  \n",
            "  inflating: /content/llms-for-image-geolocation-benchmarks/yfcc4k/yfcc4k/yfcc4k/2815484248.jpg  \n",
            "  inflating: /content/llms-for-image-geolocation-benchmarks/yfcc4k/yfcc4k/yfcc4k/2816703806.jpg  \n",
            "  inflating: /content/llms-for-image-geolocation-benchmarks/yfcc4k/yfcc4k/yfcc4k/2816781314.jpg  \n",
            "  inflating: /content/llms-for-image-geolocation-benchmarks/yfcc4k/yfcc4k/yfcc4k/2817605008.jpg  \n",
            "  inflating: /content/llms-for-image-geolocation-benchmarks/yfcc4k/yfcc4k/yfcc4k/2819224315.jpg  \n",
            "  inflating: /content/llms-for-image-geolocation-benchmarks/yfcc4k/yfcc4k/yfcc4k/2822259864.jpg  \n",
            "  inflating: /content/llms-for-image-geolocation-benchmarks/yfcc4k/yfcc4k/yfcc4k/2823608235.jpg  \n",
            "  inflating: /content/llms-for-image-geolocation-benchmarks/yfcc4k/yfcc4k/yfcc4k/28267884.jpg  \n",
            "  inflating: /content/llms-for-image-geolocation-benchmarks/yfcc4k/yfcc4k/yfcc4k/2828340801.jpg  \n",
            "  inflating: /content/llms-for-image-geolocation-benchmarks/yfcc4k/yfcc4k/yfcc4k/2828713011.jpg  \n",
            "  inflating: /content/llms-for-image-geolocation-benchmarks/yfcc4k/yfcc4k/yfcc4k/28292442.jpg  \n",
            "  inflating: /content/llms-for-image-geolocation-benchmarks/yfcc4k/yfcc4k/yfcc4k/2829944935.jpg  \n",
            "  inflating: /content/llms-for-image-geolocation-benchmarks/yfcc4k/yfcc4k/yfcc4k/2830634498.jpg  \n",
            "  inflating: /content/llms-for-image-geolocation-benchmarks/yfcc4k/yfcc4k/yfcc4k/2830853027.jpg  \n",
            "  inflating: /content/llms-for-image-geolocation-benchmarks/yfcc4k/yfcc4k/yfcc4k/2836094934.jpg  \n",
            "  inflating: /content/llms-for-image-geolocation-benchmarks/yfcc4k/yfcc4k/yfcc4k/2837257168.jpg  \n",
            "  inflating: /content/llms-for-image-geolocation-benchmarks/yfcc4k/yfcc4k/yfcc4k/2837391162.jpg  \n",
            "  inflating: /content/llms-for-image-geolocation-benchmarks/yfcc4k/yfcc4k/yfcc4k/2844750869.jpg  \n",
            "  inflating: /content/llms-for-image-geolocation-benchmarks/yfcc4k/yfcc4k/yfcc4k/2845217898.jpg  \n",
            "  inflating: /content/llms-for-image-geolocation-benchmarks/yfcc4k/yfcc4k/yfcc4k/2848891388.jpg  \n",
            "  inflating: /content/llms-for-image-geolocation-benchmarks/yfcc4k/yfcc4k/yfcc4k/2849510968.jpg  \n",
            "  inflating: /content/llms-for-image-geolocation-benchmarks/yfcc4k/yfcc4k/yfcc4k/2850524666.jpg  \n",
            "  inflating: /content/llms-for-image-geolocation-benchmarks/yfcc4k/yfcc4k/yfcc4k/2853088956.jpg  \n",
            "  inflating: /content/llms-for-image-geolocation-benchmarks/yfcc4k/yfcc4k/yfcc4k/2853152963.jpg  \n",
            "  inflating: /content/llms-for-image-geolocation-benchmarks/yfcc4k/yfcc4k/yfcc4k/2853461337.jpg  \n",
            "  inflating: /content/llms-for-image-geolocation-benchmarks/yfcc4k/yfcc4k/yfcc4k/2854844099.jpg  \n",
            "  inflating: /content/llms-for-image-geolocation-benchmarks/yfcc4k/yfcc4k/yfcc4k/2856724746.jpg  \n",
            "  inflating: /content/llms-for-image-geolocation-benchmarks/yfcc4k/yfcc4k/yfcc4k/2858358687.jpg  \n",
            "  inflating: /content/llms-for-image-geolocation-benchmarks/yfcc4k/yfcc4k/yfcc4k/2859003906.jpg  \n",
            "  inflating: /content/llms-for-image-geolocation-benchmarks/yfcc4k/yfcc4k/yfcc4k/2860570987.jpg  \n",
            "  inflating: /content/llms-for-image-geolocation-benchmarks/yfcc4k/yfcc4k/yfcc4k/2863229758.jpg  \n",
            "  inflating: /content/llms-for-image-geolocation-benchmarks/yfcc4k/yfcc4k/yfcc4k/2865341610.jpg  \n",
            "  inflating: /content/llms-for-image-geolocation-benchmarks/yfcc4k/yfcc4k/yfcc4k/2866566029.jpg  \n",
            "  inflating: /content/llms-for-image-geolocation-benchmarks/yfcc4k/yfcc4k/yfcc4k/2867408525.jpg  \n",
            "  inflating: /content/llms-for-image-geolocation-benchmarks/yfcc4k/yfcc4k/yfcc4k/2868731190.jpg  \n",
            "  inflating: /content/llms-for-image-geolocation-benchmarks/yfcc4k/yfcc4k/yfcc4k/2868791337.jpg  \n",
            "  inflating: /content/llms-for-image-geolocation-benchmarks/yfcc4k/yfcc4k/yfcc4k/2870042281.jpg  \n",
            "  inflating: /content/llms-for-image-geolocation-benchmarks/yfcc4k/yfcc4k/yfcc4k/2873230160.jpg  \n",
            "  inflating: /content/llms-for-image-geolocation-benchmarks/yfcc4k/yfcc4k/yfcc4k/2878350521.jpg  \n",
            "  inflating: /content/llms-for-image-geolocation-benchmarks/yfcc4k/yfcc4k/yfcc4k/2878860272.jpg  \n",
            "  inflating: /content/llms-for-image-geolocation-benchmarks/yfcc4k/yfcc4k/yfcc4k/2879992180.jpg  \n",
            "  inflating: /content/llms-for-image-geolocation-benchmarks/yfcc4k/yfcc4k/yfcc4k/2887011215.jpg  \n",
            "  inflating: /content/llms-for-image-geolocation-benchmarks/yfcc4k/yfcc4k/yfcc4k/2887893983.jpg  \n",
            "  inflating: /content/llms-for-image-geolocation-benchmarks/yfcc4k/yfcc4k/yfcc4k/2888506965.jpg  \n",
            "  inflating: /content/llms-for-image-geolocation-benchmarks/yfcc4k/yfcc4k/yfcc4k/2890794930.jpg  \n",
            "  inflating: /content/llms-for-image-geolocation-benchmarks/yfcc4k/yfcc4k/yfcc4k/2891722397.jpg  \n",
            "  inflating: /content/llms-for-image-geolocation-benchmarks/yfcc4k/yfcc4k/yfcc4k/2891802491.jpg  \n",
            "  inflating: /content/llms-for-image-geolocation-benchmarks/yfcc4k/yfcc4k/yfcc4k/2895681267.jpg  \n",
            "  inflating: /content/llms-for-image-geolocation-benchmarks/yfcc4k/yfcc4k/yfcc4k/2895736589.jpg  \n",
            "  inflating: /content/llms-for-image-geolocation-benchmarks/yfcc4k/yfcc4k/yfcc4k/289685569.jpg  \n",
            "  inflating: /content/llms-for-image-geolocation-benchmarks/yfcc4k/yfcc4k/yfcc4k/2896958376.jpg  \n",
            "  inflating: /content/llms-for-image-geolocation-benchmarks/yfcc4k/yfcc4k/yfcc4k/2899780516.jpg  \n",
            "  inflating: /content/llms-for-image-geolocation-benchmarks/yfcc4k/yfcc4k/yfcc4k/2900220995.jpg  \n",
            "  inflating: /content/llms-for-image-geolocation-benchmarks/yfcc4k/yfcc4k/yfcc4k/2901155745.jpg  \n",
            "  inflating: /content/llms-for-image-geolocation-benchmarks/yfcc4k/yfcc4k/yfcc4k/2902211566.jpg  \n",
            "  inflating: /content/llms-for-image-geolocation-benchmarks/yfcc4k/yfcc4k/yfcc4k/2902900480.jpg  \n",
            "  inflating: /content/llms-for-image-geolocation-benchmarks/yfcc4k/yfcc4k/yfcc4k/2905146203.jpg  \n",
            "  inflating: /content/llms-for-image-geolocation-benchmarks/yfcc4k/yfcc4k/yfcc4k/2906182342.jpg  \n",
            "  inflating: /content/llms-for-image-geolocation-benchmarks/yfcc4k/yfcc4k/yfcc4k/2909157113.jpg  \n",
            "  inflating: /content/llms-for-image-geolocation-benchmarks/yfcc4k/yfcc4k/yfcc4k/2909835769.jpg  \n",
            "  inflating: /content/llms-for-image-geolocation-benchmarks/yfcc4k/yfcc4k/yfcc4k/2913338527.jpg  \n",
            "  inflating: /content/llms-for-image-geolocation-benchmarks/yfcc4k/yfcc4k/yfcc4k/2917371605.jpg  \n",
            "  inflating: /content/llms-for-image-geolocation-benchmarks/yfcc4k/yfcc4k/yfcc4k/2924316558.jpg  \n",
            "  inflating: /content/llms-for-image-geolocation-benchmarks/yfcc4k/yfcc4k/yfcc4k/2926342409.jpg  \n",
            "  inflating: /content/llms-for-image-geolocation-benchmarks/yfcc4k/yfcc4k/yfcc4k/2926401030.jpg  \n",
            "  inflating: /content/llms-for-image-geolocation-benchmarks/yfcc4k/yfcc4k/yfcc4k/2927445370.jpg  \n",
            "  inflating: /content/llms-for-image-geolocation-benchmarks/yfcc4k/yfcc4k/yfcc4k/2935809422.jpg  \n",
            "  inflating: /content/llms-for-image-geolocation-benchmarks/yfcc4k/yfcc4k/yfcc4k/2936566727.jpg  \n",
            "  inflating: /content/llms-for-image-geolocation-benchmarks/yfcc4k/yfcc4k/yfcc4k/2939073272.jpg  \n",
            "  inflating: /content/llms-for-image-geolocation-benchmarks/yfcc4k/yfcc4k/yfcc4k/2940949687.jpg  \n",
            "  inflating: /content/llms-for-image-geolocation-benchmarks/yfcc4k/yfcc4k/yfcc4k/2942689043.jpg  \n",
            "  inflating: /content/llms-for-image-geolocation-benchmarks/yfcc4k/yfcc4k/yfcc4k/2945255874.jpg  \n",
            "  inflating: /content/llms-for-image-geolocation-benchmarks/yfcc4k/yfcc4k/yfcc4k/2946091142.jpg  \n",
            "  inflating: /content/llms-for-image-geolocation-benchmarks/yfcc4k/yfcc4k/yfcc4k/294715103.jpg  \n",
            "  inflating: /content/llms-for-image-geolocation-benchmarks/yfcc4k/yfcc4k/yfcc4k/2947800504.jpg  \n",
            "  inflating: /content/llms-for-image-geolocation-benchmarks/yfcc4k/yfcc4k/yfcc4k/2948179071.jpg  \n",
            "  inflating: /content/llms-for-image-geolocation-benchmarks/yfcc4k/yfcc4k/yfcc4k/2948872710.jpg  \n",
            "  inflating: /content/llms-for-image-geolocation-benchmarks/yfcc4k/yfcc4k/yfcc4k/2950918491.jpg  \n",
            "  inflating: /content/llms-for-image-geolocation-benchmarks/yfcc4k/yfcc4k/yfcc4k/2953243633.jpg  \n",
            "  inflating: /content/llms-for-image-geolocation-benchmarks/yfcc4k/yfcc4k/yfcc4k/2954718055.jpg  \n",
            "  inflating: /content/llms-for-image-geolocation-benchmarks/yfcc4k/yfcc4k/yfcc4k/2956422931.jpg  \n",
            "  inflating: /content/llms-for-image-geolocation-benchmarks/yfcc4k/yfcc4k/yfcc4k/2956745554.jpg  \n",
            "  inflating: /content/llms-for-image-geolocation-benchmarks/yfcc4k/yfcc4k/yfcc4k/2957551566.jpg  \n",
            "  inflating: /content/llms-for-image-geolocation-benchmarks/yfcc4k/yfcc4k/yfcc4k/2957981431.jpg  \n",
            "  inflating: /content/llms-for-image-geolocation-benchmarks/yfcc4k/yfcc4k/yfcc4k/2958521898.jpg  \n",
            "  inflating: /content/llms-for-image-geolocation-benchmarks/yfcc4k/yfcc4k/yfcc4k/2959317367.jpg  \n",
            "  inflating: /content/llms-for-image-geolocation-benchmarks/yfcc4k/yfcc4k/yfcc4k/2959492201.jpg  \n",
            "  inflating: /content/llms-for-image-geolocation-benchmarks/yfcc4k/yfcc4k/yfcc4k/2962073703.jpg  \n",
            "  inflating: /content/llms-for-image-geolocation-benchmarks/yfcc4k/yfcc4k/yfcc4k/2964321478.jpg  \n",
            "  inflating: /content/llms-for-image-geolocation-benchmarks/yfcc4k/yfcc4k/yfcc4k/2965808083.jpg  \n",
            "  inflating: /content/llms-for-image-geolocation-benchmarks/yfcc4k/yfcc4k/yfcc4k/2969061532.jpg  \n",
            "  inflating: /content/llms-for-image-geolocation-benchmarks/yfcc4k/yfcc4k/yfcc4k/2971664261.jpg  \n",
            "  inflating: /content/llms-for-image-geolocation-benchmarks/yfcc4k/yfcc4k/yfcc4k/2973010025.jpg  \n",
            "  inflating: /content/llms-for-image-geolocation-benchmarks/yfcc4k/yfcc4k/yfcc4k/2974863850.jpg  \n",
            "  inflating: /content/llms-for-image-geolocation-benchmarks/yfcc4k/yfcc4k/yfcc4k/2975184775.jpg  \n",
            "  inflating: /content/llms-for-image-geolocation-benchmarks/yfcc4k/yfcc4k/yfcc4k/2975495658.jpg  \n",
            "  inflating: /content/llms-for-image-geolocation-benchmarks/yfcc4k/yfcc4k/yfcc4k/2976505703.jpg  \n",
            "  inflating: /content/llms-for-image-geolocation-benchmarks/yfcc4k/yfcc4k/yfcc4k/2976895917.jpg  \n",
            "  inflating: /content/llms-for-image-geolocation-benchmarks/yfcc4k/yfcc4k/yfcc4k/2978076676.jpg  \n",
            "  inflating: /content/llms-for-image-geolocation-benchmarks/yfcc4k/yfcc4k/yfcc4k/2988808771.jpg  \n",
            "  inflating: /content/llms-for-image-geolocation-benchmarks/yfcc4k/yfcc4k/yfcc4k/2990512327.jpg  \n",
            "  inflating: /content/llms-for-image-geolocation-benchmarks/yfcc4k/yfcc4k/yfcc4k/2990791700.jpg  \n",
            "  inflating: /content/llms-for-image-geolocation-benchmarks/yfcc4k/yfcc4k/yfcc4k/299111806.jpg  \n",
            "  inflating: /content/llms-for-image-geolocation-benchmarks/yfcc4k/yfcc4k/yfcc4k/2993869175.jpg  \n",
            "  inflating: /content/llms-for-image-geolocation-benchmarks/yfcc4k/yfcc4k/yfcc4k/2994254261.jpg  \n",
            "  inflating: /content/llms-for-image-geolocation-benchmarks/yfcc4k/yfcc4k/yfcc4k/299587385.jpg  \n",
            "  inflating: /content/llms-for-image-geolocation-benchmarks/yfcc4k/yfcc4k/yfcc4k/2995917864.jpg  \n",
            "  inflating: /content/llms-for-image-geolocation-benchmarks/yfcc4k/yfcc4k/yfcc4k/2996050255.jpg  \n",
            "  inflating: /content/llms-for-image-geolocation-benchmarks/yfcc4k/yfcc4k/yfcc4k/2997727622.jpg  \n",
            "  inflating: /content/llms-for-image-geolocation-benchmarks/yfcc4k/yfcc4k/yfcc4k/2998047946.jpg  \n",
            "  inflating: /content/llms-for-image-geolocation-benchmarks/yfcc4k/yfcc4k/yfcc4k/2999038787.jpg  \n",
            "  inflating: /content/llms-for-image-geolocation-benchmarks/yfcc4k/yfcc4k/yfcc4k/3002349255.jpg  \n",
            "  inflating: /content/llms-for-image-geolocation-benchmarks/yfcc4k/yfcc4k/yfcc4k/3004802847.jpg  \n",
            "  inflating: /content/llms-for-image-geolocation-benchmarks/yfcc4k/yfcc4k/yfcc4k/3006285032.jpg  \n",
            "  inflating: /content/llms-for-image-geolocation-benchmarks/yfcc4k/yfcc4k/yfcc4k/3009173841.jpg  \n",
            "  inflating: /content/llms-for-image-geolocation-benchmarks/yfcc4k/yfcc4k/yfcc4k/3010478583.jpg  \n",
            "  inflating: /content/llms-for-image-geolocation-benchmarks/yfcc4k/yfcc4k/yfcc4k/3010513871.jpg  \n",
            "  inflating: /content/llms-for-image-geolocation-benchmarks/yfcc4k/yfcc4k/yfcc4k/3011590647.jpg  \n",
            "  inflating: /content/llms-for-image-geolocation-benchmarks/yfcc4k/yfcc4k/yfcc4k/3011954090.jpg  \n",
            "  inflating: /content/llms-for-image-geolocation-benchmarks/yfcc4k/yfcc4k/yfcc4k/3012254383.jpg  \n",
            "  inflating: /content/llms-for-image-geolocation-benchmarks/yfcc4k/yfcc4k/yfcc4k/3012465419.jpg  \n",
            "  inflating: /content/llms-for-image-geolocation-benchmarks/yfcc4k/yfcc4k/yfcc4k/3012708559.jpg  \n",
            "  inflating: /content/llms-for-image-geolocation-benchmarks/yfcc4k/yfcc4k/yfcc4k/3012752514.jpg  \n",
            "  inflating: /content/llms-for-image-geolocation-benchmarks/yfcc4k/yfcc4k/yfcc4k/3013645313.jpg  \n",
            "  inflating: /content/llms-for-image-geolocation-benchmarks/yfcc4k/yfcc4k/yfcc4k/3013675546.jpg  \n",
            "  inflating: /content/llms-for-image-geolocation-benchmarks/yfcc4k/yfcc4k/yfcc4k/3014414656.jpg  \n",
            "  inflating: /content/llms-for-image-geolocation-benchmarks/yfcc4k/yfcc4k/yfcc4k/3014424511.jpg  \n",
            "  inflating: /content/llms-for-image-geolocation-benchmarks/yfcc4k/yfcc4k/yfcc4k/3014926654.jpg  \n",
            "  inflating: /content/llms-for-image-geolocation-benchmarks/yfcc4k/yfcc4k/yfcc4k/3015194102.jpg  \n",
            "  inflating: /content/llms-for-image-geolocation-benchmarks/yfcc4k/yfcc4k/yfcc4k/3015307893.jpg  \n",
            "  inflating: /content/llms-for-image-geolocation-benchmarks/yfcc4k/yfcc4k/yfcc4k/3015430368.jpg  \n",
            "  inflating: /content/llms-for-image-geolocation-benchmarks/yfcc4k/yfcc4k/yfcc4k/3017502331.jpg  \n",
            "  inflating: /content/llms-for-image-geolocation-benchmarks/yfcc4k/yfcc4k/yfcc4k/3021375715.jpg  \n",
            "  inflating: /content/llms-for-image-geolocation-benchmarks/yfcc4k/yfcc4k/yfcc4k/3022158168.jpg  \n",
            "  inflating: /content/llms-for-image-geolocation-benchmarks/yfcc4k/yfcc4k/yfcc4k/3025562937.jpg  \n",
            "  inflating: /content/llms-for-image-geolocation-benchmarks/yfcc4k/yfcc4k/yfcc4k/3027957089.jpg  \n",
            "  inflating: /content/llms-for-image-geolocation-benchmarks/yfcc4k/yfcc4k/yfcc4k/3028255128.jpg  \n",
            "  inflating: /content/llms-for-image-geolocation-benchmarks/yfcc4k/yfcc4k/yfcc4k/3030429488.jpg  \n",
            "  inflating: /content/llms-for-image-geolocation-benchmarks/yfcc4k/yfcc4k/yfcc4k/3037598125.jpg  \n",
            "  inflating: /content/llms-for-image-geolocation-benchmarks/yfcc4k/yfcc4k/yfcc4k/3039103078.jpg  \n",
            "  inflating: /content/llms-for-image-geolocation-benchmarks/yfcc4k/yfcc4k/yfcc4k/3042595148.jpg  \n",
            "  inflating: /content/llms-for-image-geolocation-benchmarks/yfcc4k/yfcc4k/yfcc4k/3043511878.jpg  \n",
            "  inflating: /content/llms-for-image-geolocation-benchmarks/yfcc4k/yfcc4k/yfcc4k/3045266993.jpg  \n",
            "  inflating: /content/llms-for-image-geolocation-benchmarks/yfcc4k/yfcc4k/yfcc4k/3046018982.jpg  \n",
            "  inflating: /content/llms-for-image-geolocation-benchmarks/yfcc4k/yfcc4k/yfcc4k/3048642827.jpg  \n",
            "  inflating: /content/llms-for-image-geolocation-benchmarks/yfcc4k/yfcc4k/yfcc4k/3049826993.jpg  \n",
            "  inflating: /content/llms-for-image-geolocation-benchmarks/yfcc4k/yfcc4k/yfcc4k/3052495242.jpg  \n",
            "  inflating: /content/llms-for-image-geolocation-benchmarks/yfcc4k/yfcc4k/yfcc4k/3052882649.jpg  \n",
            "  inflating: /content/llms-for-image-geolocation-benchmarks/yfcc4k/yfcc4k/yfcc4k/3053778094.jpg  \n",
            "  inflating: /content/llms-for-image-geolocation-benchmarks/yfcc4k/yfcc4k/yfcc4k/3055827863.jpg  \n",
            "  inflating: /content/llms-for-image-geolocation-benchmarks/yfcc4k/yfcc4k/yfcc4k/3056054027.jpg  \n",
            "  inflating: /content/llms-for-image-geolocation-benchmarks/yfcc4k/yfcc4k/yfcc4k/3056426802.jpg  \n",
            "  inflating: /content/llms-for-image-geolocation-benchmarks/yfcc4k/yfcc4k/yfcc4k/3056833891.jpg  \n",
            "  inflating: /content/llms-for-image-geolocation-benchmarks/yfcc4k/yfcc4k/yfcc4k/3060587168.jpg  \n",
            "  inflating: /content/llms-for-image-geolocation-benchmarks/yfcc4k/yfcc4k/yfcc4k/3060827371.jpg  \n",
            "  inflating: /content/llms-for-image-geolocation-benchmarks/yfcc4k/yfcc4k/yfcc4k/3061036081.jpg  \n",
            "  inflating: /content/llms-for-image-geolocation-benchmarks/yfcc4k/yfcc4k/yfcc4k/3061657029.jpg  \n",
            "  inflating: /content/llms-for-image-geolocation-benchmarks/yfcc4k/yfcc4k/yfcc4k/3062498852.jpg  \n",
            "  inflating: /content/llms-for-image-geolocation-benchmarks/yfcc4k/yfcc4k/yfcc4k/3070385128.jpg  \n",
            "  inflating: /content/llms-for-image-geolocation-benchmarks/yfcc4k/yfcc4k/yfcc4k/3070628794.jpg  \n",
            "  inflating: /content/llms-for-image-geolocation-benchmarks/yfcc4k/yfcc4k/yfcc4k/307096702.jpg  \n",
            "  inflating: /content/llms-for-image-geolocation-benchmarks/yfcc4k/yfcc4k/yfcc4k/3073389765.jpg  \n",
            "  inflating: /content/llms-for-image-geolocation-benchmarks/yfcc4k/yfcc4k/yfcc4k/3074118057.jpg  \n",
            "  inflating: /content/llms-for-image-geolocation-benchmarks/yfcc4k/yfcc4k/yfcc4k/3076281206.jpg  \n",
            "  inflating: /content/llms-for-image-geolocation-benchmarks/yfcc4k/yfcc4k/yfcc4k/3080062614.jpg  \n",
            "  inflating: /content/llms-for-image-geolocation-benchmarks/yfcc4k/yfcc4k/yfcc4k/3080703702.jpg  \n",
            "  inflating: /content/llms-for-image-geolocation-benchmarks/yfcc4k/yfcc4k/yfcc4k/3087197111.jpg  \n",
            "  inflating: /content/llms-for-image-geolocation-benchmarks/yfcc4k/yfcc4k/yfcc4k/3089081676.jpg  \n",
            "  inflating: /content/llms-for-image-geolocation-benchmarks/yfcc4k/yfcc4k/yfcc4k/3089348891.jpg  \n",
            "  inflating: /content/llms-for-image-geolocation-benchmarks/yfcc4k/yfcc4k/yfcc4k/3091222678.jpg  \n",
            "  inflating: /content/llms-for-image-geolocation-benchmarks/yfcc4k/yfcc4k/yfcc4k/3092147326.jpg  \n",
            "  inflating: /content/llms-for-image-geolocation-benchmarks/yfcc4k/yfcc4k/yfcc4k/3093314406.jpg  \n",
            "  inflating: /content/llms-for-image-geolocation-benchmarks/yfcc4k/yfcc4k/yfcc4k/3094721320.jpg  \n",
            "  inflating: /content/llms-for-image-geolocation-benchmarks/yfcc4k/yfcc4k/yfcc4k/3095071939.jpg  \n",
            "  inflating: /content/llms-for-image-geolocation-benchmarks/yfcc4k/yfcc4k/yfcc4k/3096391177.jpg  \n",
            "  inflating: /content/llms-for-image-geolocation-benchmarks/yfcc4k/yfcc4k/yfcc4k/3097510577.jpg  \n",
            "  inflating: /content/llms-for-image-geolocation-benchmarks/yfcc4k/yfcc4k/yfcc4k/3097912997.jpg  \n",
            "  inflating: /content/llms-for-image-geolocation-benchmarks/yfcc4k/yfcc4k/yfcc4k/3104617111.jpg  \n",
            "  inflating: /content/llms-for-image-geolocation-benchmarks/yfcc4k/yfcc4k/yfcc4k/3105136517.jpg  \n",
            "  inflating: /content/llms-for-image-geolocation-benchmarks/yfcc4k/yfcc4k/yfcc4k/3105910588.jpg  \n",
            "  inflating: /content/llms-for-image-geolocation-benchmarks/yfcc4k/yfcc4k/yfcc4k/3106466965.jpg  \n",
            "  inflating: /content/llms-for-image-geolocation-benchmarks/yfcc4k/yfcc4k/yfcc4k/3106830959.jpg  \n",
            "  inflating: /content/llms-for-image-geolocation-benchmarks/yfcc4k/yfcc4k/yfcc4k/3108271518.jpg  \n",
            "  inflating: /content/llms-for-image-geolocation-benchmarks/yfcc4k/yfcc4k/yfcc4k/3108954838.jpg  \n",
            "  inflating: /content/llms-for-image-geolocation-benchmarks/yfcc4k/yfcc4k/yfcc4k/3109023281.jpg  \n",
            "  inflating: /content/llms-for-image-geolocation-benchmarks/yfcc4k/yfcc4k/yfcc4k/3110339194.jpg  \n",
            "  inflating: /content/llms-for-image-geolocation-benchmarks/yfcc4k/yfcc4k/yfcc4k/3112264817.jpg  \n",
            "  inflating: /content/llms-for-image-geolocation-benchmarks/yfcc4k/yfcc4k/yfcc4k/3113707767.jpg  \n",
            "  inflating: /content/llms-for-image-geolocation-benchmarks/yfcc4k/yfcc4k/yfcc4k/3115204490.jpg  \n",
            "  inflating: /content/llms-for-image-geolocation-benchmarks/yfcc4k/yfcc4k/yfcc4k/3115590009.jpg  \n",
            "  inflating: /content/llms-for-image-geolocation-benchmarks/yfcc4k/yfcc4k/yfcc4k/3120411696.jpg  \n",
            "  inflating: /content/llms-for-image-geolocation-benchmarks/yfcc4k/yfcc4k/yfcc4k/3123314819.jpg  \n",
            "  inflating: /content/llms-for-image-geolocation-benchmarks/yfcc4k/yfcc4k/yfcc4k/3123779645.jpg  \n",
            "  inflating: /content/llms-for-image-geolocation-benchmarks/yfcc4k/yfcc4k/yfcc4k/3123807177.jpg  \n",
            "  inflating: /content/llms-for-image-geolocation-benchmarks/yfcc4k/yfcc4k/yfcc4k/3126085444.jpg  \n",
            "  inflating: /content/llms-for-image-geolocation-benchmarks/yfcc4k/yfcc4k/yfcc4k/3127072902.jpg  \n",
            "  inflating: /content/llms-for-image-geolocation-benchmarks/yfcc4k/yfcc4k/yfcc4k/3127280151.jpg  \n",
            "  inflating: /content/llms-for-image-geolocation-benchmarks/yfcc4k/yfcc4k/yfcc4k/3128904280.jpg  \n",
            "  inflating: /content/llms-for-image-geolocation-benchmarks/yfcc4k/yfcc4k/yfcc4k/3129533599.jpg  \n",
            "  inflating: /content/llms-for-image-geolocation-benchmarks/yfcc4k/yfcc4k/yfcc4k/3132014983.jpg  \n",
            "  inflating: /content/llms-for-image-geolocation-benchmarks/yfcc4k/yfcc4k/yfcc4k/3141039871.jpg  \n",
            "  inflating: /content/llms-for-image-geolocation-benchmarks/yfcc4k/yfcc4k/yfcc4k/3141231450.jpg  \n",
            "  inflating: /content/llms-for-image-geolocation-benchmarks/yfcc4k/yfcc4k/yfcc4k/3144202261.jpg  \n",
            "  inflating: /content/llms-for-image-geolocation-benchmarks/yfcc4k/yfcc4k/yfcc4k/3144585108.jpg  \n",
            "  inflating: /content/llms-for-image-geolocation-benchmarks/yfcc4k/yfcc4k/yfcc4k/314689574.jpg  \n",
            "  inflating: /content/llms-for-image-geolocation-benchmarks/yfcc4k/yfcc4k/yfcc4k/3148940166.jpg  \n",
            "  inflating: /content/llms-for-image-geolocation-benchmarks/yfcc4k/yfcc4k/yfcc4k/3149725827.jpg  \n",
            "  inflating: /content/llms-for-image-geolocation-benchmarks/yfcc4k/yfcc4k/yfcc4k/3150517671.jpg  \n",
            "  inflating: /content/llms-for-image-geolocation-benchmarks/yfcc4k/yfcc4k/yfcc4k/3151385397.jpg  \n",
            "  inflating: /content/llms-for-image-geolocation-benchmarks/yfcc4k/yfcc4k/yfcc4k/3153263615.jpg  \n",
            "  inflating: /content/llms-for-image-geolocation-benchmarks/yfcc4k/yfcc4k/yfcc4k/3153309102.jpg  \n",
            "  inflating: /content/llms-for-image-geolocation-benchmarks/yfcc4k/yfcc4k/yfcc4k/3157694243.jpg  \n",
            "  inflating: /content/llms-for-image-geolocation-benchmarks/yfcc4k/yfcc4k/yfcc4k/3159418114.jpg  \n",
            "  inflating: /content/llms-for-image-geolocation-benchmarks/yfcc4k/yfcc4k/yfcc4k/3164462954.jpg  \n",
            "  inflating: /content/llms-for-image-geolocation-benchmarks/yfcc4k/yfcc4k/yfcc4k/3164878513.jpg  \n",
            "  inflating: /content/llms-for-image-geolocation-benchmarks/yfcc4k/yfcc4k/yfcc4k/3166399222.jpg  \n",
            "  inflating: /content/llms-for-image-geolocation-benchmarks/yfcc4k/yfcc4k/yfcc4k/316748988.jpg  \n",
            "  inflating: /content/llms-for-image-geolocation-benchmarks/yfcc4k/yfcc4k/yfcc4k/3168125362.jpg  \n",
            "  inflating: /content/llms-for-image-geolocation-benchmarks/yfcc4k/yfcc4k/yfcc4k/3170311544.jpg  \n",
            "  inflating: /content/llms-for-image-geolocation-benchmarks/yfcc4k/yfcc4k/yfcc4k/3170414780.jpg  \n",
            "  inflating: /content/llms-for-image-geolocation-benchmarks/yfcc4k/yfcc4k/yfcc4k/3171871006.jpg  \n",
            "  inflating: /content/llms-for-image-geolocation-benchmarks/yfcc4k/yfcc4k/yfcc4k/3175913111.jpg  \n",
            "  inflating: /content/llms-for-image-geolocation-benchmarks/yfcc4k/yfcc4k/yfcc4k/3182197241.jpg  \n",
            "  inflating: /content/llms-for-image-geolocation-benchmarks/yfcc4k/yfcc4k/yfcc4k/3184290635.jpg  \n",
            "  inflating: /content/llms-for-image-geolocation-benchmarks/yfcc4k/yfcc4k/yfcc4k/3184495347.jpg  \n",
            "  inflating: /content/llms-for-image-geolocation-benchmarks/yfcc4k/yfcc4k/yfcc4k/3184524968.jpg  \n",
            "  inflating: /content/llms-for-image-geolocation-benchmarks/yfcc4k/yfcc4k/yfcc4k/3186051616.jpg  \n",
            "  inflating: /content/llms-for-image-geolocation-benchmarks/yfcc4k/yfcc4k/yfcc4k/3186777860.jpg  \n",
            "  inflating: /content/llms-for-image-geolocation-benchmarks/yfcc4k/yfcc4k/yfcc4k/3187624601.jpg  \n",
            "  inflating: /content/llms-for-image-geolocation-benchmarks/yfcc4k/yfcc4k/yfcc4k/3188449688.jpg  \n",
            "  inflating: /content/llms-for-image-geolocation-benchmarks/yfcc4k/yfcc4k/yfcc4k/3189706489.jpg  \n",
            "  inflating: /content/llms-for-image-geolocation-benchmarks/yfcc4k/yfcc4k/yfcc4k/3193143932.jpg  \n",
            "  inflating: /content/llms-for-image-geolocation-benchmarks/yfcc4k/yfcc4k/yfcc4k/319432800.jpg  \n",
            "  inflating: /content/llms-for-image-geolocation-benchmarks/yfcc4k/yfcc4k/yfcc4k/3198582217.jpg  \n",
            "  inflating: /content/llms-for-image-geolocation-benchmarks/yfcc4k/yfcc4k/yfcc4k/3199319198.jpg  \n",
            "  inflating: /content/llms-for-image-geolocation-benchmarks/yfcc4k/yfcc4k/yfcc4k/3199374349.jpg  \n",
            "  inflating: /content/llms-for-image-geolocation-benchmarks/yfcc4k/yfcc4k/yfcc4k/3201560600.jpg  \n",
            "  inflating: /content/llms-for-image-geolocation-benchmarks/yfcc4k/yfcc4k/yfcc4k/3201709272.jpg  \n",
            "  inflating: /content/llms-for-image-geolocation-benchmarks/yfcc4k/yfcc4k/yfcc4k/3201713902.jpg  \n",
            "  inflating: /content/llms-for-image-geolocation-benchmarks/yfcc4k/yfcc4k/yfcc4k/3201984965.jpg  \n",
            "  inflating: /content/llms-for-image-geolocation-benchmarks/yfcc4k/yfcc4k/yfcc4k/320637153.jpg  \n",
            "  inflating: /content/llms-for-image-geolocation-benchmarks/yfcc4k/yfcc4k/yfcc4k/3209038866.jpg  \n",
            "  inflating: /content/llms-for-image-geolocation-benchmarks/yfcc4k/yfcc4k/yfcc4k/3209603301.jpg  \n",
            "  inflating: /content/llms-for-image-geolocation-benchmarks/yfcc4k/yfcc4k/yfcc4k/3210449646.jpg  \n",
            "  inflating: /content/llms-for-image-geolocation-benchmarks/yfcc4k/yfcc4k/yfcc4k/3211510011.jpg  \n",
            "  inflating: /content/llms-for-image-geolocation-benchmarks/yfcc4k/yfcc4k/yfcc4k/3212222845.jpg  \n",
            "  inflating: /content/llms-for-image-geolocation-benchmarks/yfcc4k/yfcc4k/yfcc4k/3219817417.jpg  \n",
            "  inflating: /content/llms-for-image-geolocation-benchmarks/yfcc4k/yfcc4k/yfcc4k/3222715183.jpg  \n",
            "  inflating: /content/llms-for-image-geolocation-benchmarks/yfcc4k/yfcc4k/yfcc4k/3223303378.jpg  \n",
            "  inflating: /content/llms-for-image-geolocation-benchmarks/yfcc4k/yfcc4k/yfcc4k/3224198865.jpg  \n",
            "  inflating: /content/llms-for-image-geolocation-benchmarks/yfcc4k/yfcc4k/yfcc4k/3224759045.jpg  \n",
            "  inflating: /content/llms-for-image-geolocation-benchmarks/yfcc4k/yfcc4k/yfcc4k/32261756.jpg  \n",
            "  inflating: /content/llms-for-image-geolocation-benchmarks/yfcc4k/yfcc4k/yfcc4k/3228060678.jpg  \n",
            "  inflating: /content/llms-for-image-geolocation-benchmarks/yfcc4k/yfcc4k/yfcc4k/3230001369.jpg  \n",
            "  inflating: /content/llms-for-image-geolocation-benchmarks/yfcc4k/yfcc4k/yfcc4k/3232604116.jpg  \n",
            "  inflating: /content/llms-for-image-geolocation-benchmarks/yfcc4k/yfcc4k/yfcc4k/3243321991.jpg  \n",
            "  inflating: /content/llms-for-image-geolocation-benchmarks/yfcc4k/yfcc4k/yfcc4k/3246266542.jpg  \n",
            "  inflating: /content/llms-for-image-geolocation-benchmarks/yfcc4k/yfcc4k/yfcc4k/3247511947.jpg  \n",
            "  inflating: /content/llms-for-image-geolocation-benchmarks/yfcc4k/yfcc4k/yfcc4k/3253617042.jpg  \n",
            "  inflating: /content/llms-for-image-geolocation-benchmarks/yfcc4k/yfcc4k/yfcc4k/3256145526.jpg  \n",
            "  inflating: /content/llms-for-image-geolocation-benchmarks/yfcc4k/yfcc4k/yfcc4k/3257193167.jpg  \n",
            "  inflating: /content/llms-for-image-geolocation-benchmarks/yfcc4k/yfcc4k/yfcc4k/3260241052.jpg  \n",
            "  inflating: /content/llms-for-image-geolocation-benchmarks/yfcc4k/yfcc4k/yfcc4k/3260774598.jpg  \n",
            "  inflating: /content/llms-for-image-geolocation-benchmarks/yfcc4k/yfcc4k/yfcc4k/3264626011.jpg  \n",
            "  inflating: /content/llms-for-image-geolocation-benchmarks/yfcc4k/yfcc4k/yfcc4k/3265068228.jpg  \n",
            "  inflating: /content/llms-for-image-geolocation-benchmarks/yfcc4k/yfcc4k/yfcc4k/3265874814.jpg  \n",
            "  inflating: /content/llms-for-image-geolocation-benchmarks/yfcc4k/yfcc4k/yfcc4k/326721787.jpg  \n",
            "  inflating: /content/llms-for-image-geolocation-benchmarks/yfcc4k/yfcc4k/yfcc4k/3267500509.jpg  \n",
            "  inflating: /content/llms-for-image-geolocation-benchmarks/yfcc4k/yfcc4k/yfcc4k/3269823678.jpg  \n",
            "  inflating: /content/llms-for-image-geolocation-benchmarks/yfcc4k/yfcc4k/yfcc4k/3270276957.jpg  \n",
            "  inflating: /content/llms-for-image-geolocation-benchmarks/yfcc4k/yfcc4k/yfcc4k/3272316251.jpg  \n",
            "  inflating: /content/llms-for-image-geolocation-benchmarks/yfcc4k/yfcc4k/yfcc4k/3272867557.jpg  \n",
            "  inflating: /content/llms-for-image-geolocation-benchmarks/yfcc4k/yfcc4k/yfcc4k/3274857283.jpg  \n",
            "  inflating: /content/llms-for-image-geolocation-benchmarks/yfcc4k/yfcc4k/yfcc4k/3275838408.jpg  \n",
            "  inflating: /content/llms-for-image-geolocation-benchmarks/yfcc4k/yfcc4k/yfcc4k/3276731635.jpg  \n",
            "  inflating: /content/llms-for-image-geolocation-benchmarks/yfcc4k/yfcc4k/yfcc4k/3280585360.jpg  \n",
            "  inflating: /content/llms-for-image-geolocation-benchmarks/yfcc4k/yfcc4k/yfcc4k/3280982200.jpg  \n",
            "  inflating: /content/llms-for-image-geolocation-benchmarks/yfcc4k/yfcc4k/yfcc4k/3283035708.jpg  \n",
            "  inflating: /content/llms-for-image-geolocation-benchmarks/yfcc4k/yfcc4k/yfcc4k/328314221.jpg  \n",
            "  inflating: /content/llms-for-image-geolocation-benchmarks/yfcc4k/yfcc4k/yfcc4k/3283867241.jpg  \n",
            "  inflating: /content/llms-for-image-geolocation-benchmarks/yfcc4k/yfcc4k/yfcc4k/3284652194.jpg  \n",
            "  inflating: /content/llms-for-image-geolocation-benchmarks/yfcc4k/yfcc4k/yfcc4k/3285236567.jpg  \n",
            "  inflating: /content/llms-for-image-geolocation-benchmarks/yfcc4k/yfcc4k/yfcc4k/3288168798.jpg  \n",
            "  inflating: /content/llms-for-image-geolocation-benchmarks/yfcc4k/yfcc4k/yfcc4k/3288288923.jpg  \n",
            "  inflating: /content/llms-for-image-geolocation-benchmarks/yfcc4k/yfcc4k/yfcc4k/3288756732.jpg  \n",
            "  inflating: /content/llms-for-image-geolocation-benchmarks/yfcc4k/yfcc4k/yfcc4k/3296578426.jpg  \n",
            "  inflating: /content/llms-for-image-geolocation-benchmarks/yfcc4k/yfcc4k/yfcc4k/3298251016.jpg  \n",
            "  inflating: /content/llms-for-image-geolocation-benchmarks/yfcc4k/yfcc4k/yfcc4k/3300132851.jpg  \n",
            "  inflating: /content/llms-for-image-geolocation-benchmarks/yfcc4k/yfcc4k/yfcc4k/3300312656.jpg  \n",
            "  inflating: /content/llms-for-image-geolocation-benchmarks/yfcc4k/yfcc4k/yfcc4k/3306467445.jpg  \n",
            "  inflating: /content/llms-for-image-geolocation-benchmarks/yfcc4k/yfcc4k/yfcc4k/3306632750.jpg  \n",
            "  inflating: /content/llms-for-image-geolocation-benchmarks/yfcc4k/yfcc4k/yfcc4k/3307604196.jpg  \n",
            "  inflating: /content/llms-for-image-geolocation-benchmarks/yfcc4k/yfcc4k/yfcc4k/3309005583.jpg  \n",
            "  inflating: /content/llms-for-image-geolocation-benchmarks/yfcc4k/yfcc4k/yfcc4k/3309121215.jpg  \n",
            "  inflating: /content/llms-for-image-geolocation-benchmarks/yfcc4k/yfcc4k/yfcc4k/3312338855.jpg  \n",
            "  inflating: /content/llms-for-image-geolocation-benchmarks/yfcc4k/yfcc4k/yfcc4k/3315579162.jpg  \n",
            "  inflating: /content/llms-for-image-geolocation-benchmarks/yfcc4k/yfcc4k/yfcc4k/3316008005.jpg  \n",
            "  inflating: /content/llms-for-image-geolocation-benchmarks/yfcc4k/yfcc4k/yfcc4k/3317838394.jpg  \n",
            "  inflating: /content/llms-for-image-geolocation-benchmarks/yfcc4k/yfcc4k/yfcc4k/3318185508.jpg  \n",
            "  inflating: /content/llms-for-image-geolocation-benchmarks/yfcc4k/yfcc4k/yfcc4k/3319830290.jpg  \n",
            "  inflating: /content/llms-for-image-geolocation-benchmarks/yfcc4k/yfcc4k/yfcc4k/3320208977.jpg  \n",
            "  inflating: /content/llms-for-image-geolocation-benchmarks/yfcc4k/yfcc4k/yfcc4k/3322694990.jpg  \n",
            "  inflating: /content/llms-for-image-geolocation-benchmarks/yfcc4k/yfcc4k/yfcc4k/3323389636.jpg  \n",
            "  inflating: /content/llms-for-image-geolocation-benchmarks/yfcc4k/yfcc4k/yfcc4k/3323397173.jpg  \n",
            "  inflating: /content/llms-for-image-geolocation-benchmarks/yfcc4k/yfcc4k/yfcc4k/3324400628.jpg  \n",
            "  inflating: /content/llms-for-image-geolocation-benchmarks/yfcc4k/yfcc4k/yfcc4k/3327822184.jpg  \n",
            "  inflating: /content/llms-for-image-geolocation-benchmarks/yfcc4k/yfcc4k/yfcc4k/3328847424.jpg  \n",
            "  inflating: /content/llms-for-image-geolocation-benchmarks/yfcc4k/yfcc4k/yfcc4k/3329492816.jpg  \n",
            "  inflating: /content/llms-for-image-geolocation-benchmarks/yfcc4k/yfcc4k/yfcc4k/3332279406.jpg  \n",
            "  inflating: /content/llms-for-image-geolocation-benchmarks/yfcc4k/yfcc4k/yfcc4k/3334002348.jpg  \n",
            "  inflating: /content/llms-for-image-geolocation-benchmarks/yfcc4k/yfcc4k/yfcc4k/3336776464.jpg  \n",
            "  inflating: /content/llms-for-image-geolocation-benchmarks/yfcc4k/yfcc4k/yfcc4k/3337750981.jpg  \n",
            "  inflating: /content/llms-for-image-geolocation-benchmarks/yfcc4k/yfcc4k/yfcc4k/3339759164.jpg  \n",
            "  inflating: /content/llms-for-image-geolocation-benchmarks/yfcc4k/yfcc4k/yfcc4k/3342179069.jpg  \n",
            "  inflating: /content/llms-for-image-geolocation-benchmarks/yfcc4k/yfcc4k/yfcc4k/3342479196.jpg  \n",
            "  inflating: /content/llms-for-image-geolocation-benchmarks/yfcc4k/yfcc4k/yfcc4k/3342645841.jpg  \n",
            "  inflating: /content/llms-for-image-geolocation-benchmarks/yfcc4k/yfcc4k/yfcc4k/3345544588.jpg  \n",
            "  inflating: /content/llms-for-image-geolocation-benchmarks/yfcc4k/yfcc4k/yfcc4k/3345665455.jpg  \n",
            "  inflating: /content/llms-for-image-geolocation-benchmarks/yfcc4k/yfcc4k/yfcc4k/334651114.jpg  \n",
            "  inflating: /content/llms-for-image-geolocation-benchmarks/yfcc4k/yfcc4k/yfcc4k/3346766747.jpg  \n",
            "  inflating: /content/llms-for-image-geolocation-benchmarks/yfcc4k/yfcc4k/yfcc4k/3348783001.jpg  \n",
            "  inflating: /content/llms-for-image-geolocation-benchmarks/yfcc4k/yfcc4k/yfcc4k/3349065582.jpg  \n",
            "  inflating: /content/llms-for-image-geolocation-benchmarks/yfcc4k/yfcc4k/yfcc4k/3354652052.jpg  \n",
            "  inflating: /content/llms-for-image-geolocation-benchmarks/yfcc4k/yfcc4k/yfcc4k/3354781104.jpg  \n",
            "  inflating: /content/llms-for-image-geolocation-benchmarks/yfcc4k/yfcc4k/yfcc4k/3355192096.jpg  \n",
            "  inflating: /content/llms-for-image-geolocation-benchmarks/yfcc4k/yfcc4k/yfcc4k/3355471826.jpg  \n",
            "  inflating: /content/llms-for-image-geolocation-benchmarks/yfcc4k/yfcc4k/yfcc4k/3355811908.jpg  \n",
            "  inflating: /content/llms-for-image-geolocation-benchmarks/yfcc4k/yfcc4k/yfcc4k/3357978465.jpg  \n",
            "  inflating: /content/llms-for-image-geolocation-benchmarks/yfcc4k/yfcc4k/yfcc4k/3358307228.jpg  \n",
            "  inflating: /content/llms-for-image-geolocation-benchmarks/yfcc4k/yfcc4k/yfcc4k/3360773052.jpg  \n",
            "  inflating: /content/llms-for-image-geolocation-benchmarks/yfcc4k/yfcc4k/yfcc4k/3364299684.jpg  \n",
            "  inflating: /content/llms-for-image-geolocation-benchmarks/yfcc4k/yfcc4k/yfcc4k/3365245769.jpg  \n",
            "  inflating: /content/llms-for-image-geolocation-benchmarks/yfcc4k/yfcc4k/yfcc4k/3370940788.jpg  \n",
            "  inflating: /content/llms-for-image-geolocation-benchmarks/yfcc4k/yfcc4k/yfcc4k/3373061651.jpg  \n",
            "  inflating: /content/llms-for-image-geolocation-benchmarks/yfcc4k/yfcc4k/yfcc4k/3375239486.jpg  \n",
            "  inflating: /content/llms-for-image-geolocation-benchmarks/yfcc4k/yfcc4k/yfcc4k/3379242967.jpg  \n",
            "  inflating: /content/llms-for-image-geolocation-benchmarks/yfcc4k/yfcc4k/yfcc4k/3383923898.jpg  \n",
            "  inflating: /content/llms-for-image-geolocation-benchmarks/yfcc4k/yfcc4k/yfcc4k/3385797006.jpg  \n",
            "  inflating: /content/llms-for-image-geolocation-benchmarks/yfcc4k/yfcc4k/yfcc4k/3385947273.jpg  \n",
            "  inflating: /content/llms-for-image-geolocation-benchmarks/yfcc4k/yfcc4k/yfcc4k/3388387532.jpg  \n",
            "  inflating: /content/llms-for-image-geolocation-benchmarks/yfcc4k/yfcc4k/yfcc4k/3391531732.jpg  \n",
            "  inflating: /content/llms-for-image-geolocation-benchmarks/yfcc4k/yfcc4k/yfcc4k/3391950666.jpg  \n",
            "  inflating: /content/llms-for-image-geolocation-benchmarks/yfcc4k/yfcc4k/yfcc4k/3393382838.jpg  \n",
            "  inflating: /content/llms-for-image-geolocation-benchmarks/yfcc4k/yfcc4k/yfcc4k/3393676198.jpg  \n",
            "  inflating: /content/llms-for-image-geolocation-benchmarks/yfcc4k/yfcc4k/yfcc4k/3395184791.jpg  \n",
            "  inflating: /content/llms-for-image-geolocation-benchmarks/yfcc4k/yfcc4k/yfcc4k/3395853967.jpg  \n",
            "  inflating: /content/llms-for-image-geolocation-benchmarks/yfcc4k/yfcc4k/yfcc4k/3396632918.jpg  \n",
            "  inflating: /content/llms-for-image-geolocation-benchmarks/yfcc4k/yfcc4k/yfcc4k/3396961370.jpg  \n",
            "  inflating: /content/llms-for-image-geolocation-benchmarks/yfcc4k/yfcc4k/yfcc4k/3397212113.jpg  \n",
            "  inflating: /content/llms-for-image-geolocation-benchmarks/yfcc4k/yfcc4k/yfcc4k/339789508.jpg  \n",
            "  inflating: /content/llms-for-image-geolocation-benchmarks/yfcc4k/yfcc4k/yfcc4k/3398726774.jpg  \n",
            "  inflating: /content/llms-for-image-geolocation-benchmarks/yfcc4k/yfcc4k/yfcc4k/3399721114.jpg  \n",
            "  inflating: /content/llms-for-image-geolocation-benchmarks/yfcc4k/yfcc4k/yfcc4k/340029791.jpg  \n",
            "  inflating: /content/llms-for-image-geolocation-benchmarks/yfcc4k/yfcc4k/yfcc4k/3401938040.jpg  \n",
            "  inflating: /content/llms-for-image-geolocation-benchmarks/yfcc4k/yfcc4k/yfcc4k/3402422559.jpg  \n",
            "  inflating: /content/llms-for-image-geolocation-benchmarks/yfcc4k/yfcc4k/yfcc4k/3405277734.jpg  \n",
            "  inflating: /content/llms-for-image-geolocation-benchmarks/yfcc4k/yfcc4k/yfcc4k/3405778253.jpg  \n",
            "  inflating: /content/llms-for-image-geolocation-benchmarks/yfcc4k/yfcc4k/yfcc4k/3411014710.jpg  \n",
            "  inflating: /content/llms-for-image-geolocation-benchmarks/yfcc4k/yfcc4k/yfcc4k/3414238237.jpg  \n",
            "  inflating: /content/llms-for-image-geolocation-benchmarks/yfcc4k/yfcc4k/yfcc4k/3414569273.jpg  \n",
            "  inflating: /content/llms-for-image-geolocation-benchmarks/yfcc4k/yfcc4k/yfcc4k/3414768484.jpg  \n",
            "  inflating: /content/llms-for-image-geolocation-benchmarks/yfcc4k/yfcc4k/yfcc4k/3420376904.jpg  \n",
            "  inflating: /content/llms-for-image-geolocation-benchmarks/yfcc4k/yfcc4k/yfcc4k/3422800036.jpg  \n",
            "  inflating: /content/llms-for-image-geolocation-benchmarks/yfcc4k/yfcc4k/yfcc4k/3424195146.jpg  \n",
            "  inflating: /content/llms-for-image-geolocation-benchmarks/yfcc4k/yfcc4k/yfcc4k/3424985158.jpg  \n",
            "  inflating: /content/llms-for-image-geolocation-benchmarks/yfcc4k/yfcc4k/yfcc4k/3425986790.jpg  \n",
            "  inflating: /content/llms-for-image-geolocation-benchmarks/yfcc4k/yfcc4k/yfcc4k/3426986567.jpg  \n",
            "  inflating: /content/llms-for-image-geolocation-benchmarks/yfcc4k/yfcc4k/yfcc4k/3427341325.jpg  \n",
            "  inflating: /content/llms-for-image-geolocation-benchmarks/yfcc4k/yfcc4k/yfcc4k/3429144389.jpg  \n",
            "  inflating: /content/llms-for-image-geolocation-benchmarks/yfcc4k/yfcc4k/yfcc4k/3432815624.jpg  \n",
            "  inflating: /content/llms-for-image-geolocation-benchmarks/yfcc4k/yfcc4k/yfcc4k/3433239604.jpg  \n",
            "  inflating: /content/llms-for-image-geolocation-benchmarks/yfcc4k/yfcc4k/yfcc4k/3433507871.jpg  \n",
            "  inflating: /content/llms-for-image-geolocation-benchmarks/yfcc4k/yfcc4k/yfcc4k/3434193744.jpg  \n",
            "  inflating: /content/llms-for-image-geolocation-benchmarks/yfcc4k/yfcc4k/yfcc4k/3436283926.jpg  \n",
            "  inflating: /content/llms-for-image-geolocation-benchmarks/yfcc4k/yfcc4k/yfcc4k/3441232158.jpg  \n",
            "  inflating: /content/llms-for-image-geolocation-benchmarks/yfcc4k/yfcc4k/yfcc4k/3445170269.jpg  \n",
            "  inflating: /content/llms-for-image-geolocation-benchmarks/yfcc4k/yfcc4k/yfcc4k/3445929495.jpg  \n",
            "  inflating: /content/llms-for-image-geolocation-benchmarks/yfcc4k/yfcc4k/yfcc4k/3447919538.jpg  \n",
            "  inflating: /content/llms-for-image-geolocation-benchmarks/yfcc4k/yfcc4k/yfcc4k/3448203657.jpg  \n",
            "  inflating: /content/llms-for-image-geolocation-benchmarks/yfcc4k/yfcc4k/yfcc4k/3448383855.jpg  \n",
            "  inflating: /content/llms-for-image-geolocation-benchmarks/yfcc4k/yfcc4k/yfcc4k/3449964157.jpg  \n",
            "  inflating: /content/llms-for-image-geolocation-benchmarks/yfcc4k/yfcc4k/yfcc4k/3450153053.jpg  \n",
            "  inflating: /content/llms-for-image-geolocation-benchmarks/yfcc4k/yfcc4k/yfcc4k/3451091879.jpg  \n",
            "  inflating: /content/llms-for-image-geolocation-benchmarks/yfcc4k/yfcc4k/yfcc4k/3451415242.jpg  \n",
            "  inflating: /content/llms-for-image-geolocation-benchmarks/yfcc4k/yfcc4k/yfcc4k/3454357130.jpg  \n",
            "  inflating: /content/llms-for-image-geolocation-benchmarks/yfcc4k/yfcc4k/yfcc4k/3458013548.jpg  \n",
            "  inflating: /content/llms-for-image-geolocation-benchmarks/yfcc4k/yfcc4k/yfcc4k/3458282140.jpg  \n",
            "  inflating: /content/llms-for-image-geolocation-benchmarks/yfcc4k/yfcc4k/yfcc4k/3461827525.jpg  \n",
            "  inflating: /content/llms-for-image-geolocation-benchmarks/yfcc4k/yfcc4k/yfcc4k/3463166842.jpg  \n",
            "  inflating: /content/llms-for-image-geolocation-benchmarks/yfcc4k/yfcc4k/yfcc4k/3463462139.jpg  \n",
            "  inflating: /content/llms-for-image-geolocation-benchmarks/yfcc4k/yfcc4k/yfcc4k/3467314706.jpg  \n",
            "  inflating: /content/llms-for-image-geolocation-benchmarks/yfcc4k/yfcc4k/yfcc4k/3470460868.jpg  \n",
            "  inflating: /content/llms-for-image-geolocation-benchmarks/yfcc4k/yfcc4k/yfcc4k/3470576599.jpg  \n",
            "  inflating: /content/llms-for-image-geolocation-benchmarks/yfcc4k/yfcc4k/yfcc4k/3470696878.jpg  \n",
            "  inflating: /content/llms-for-image-geolocation-benchmarks/yfcc4k/yfcc4k/yfcc4k/3473202072.jpg  \n",
            "  inflating: /content/llms-for-image-geolocation-benchmarks/yfcc4k/yfcc4k/yfcc4k/347483774.jpg  \n",
            "  inflating: /content/llms-for-image-geolocation-benchmarks/yfcc4k/yfcc4k/yfcc4k/3476969477.jpg  \n",
            "  inflating: /content/llms-for-image-geolocation-benchmarks/yfcc4k/yfcc4k/yfcc4k/3480426118.jpg  \n",
            "  inflating: /content/llms-for-image-geolocation-benchmarks/yfcc4k/yfcc4k/yfcc4k/3481432387.jpg  \n",
            "  inflating: /content/llms-for-image-geolocation-benchmarks/yfcc4k/yfcc4k/yfcc4k/3481617786.jpg  \n",
            "  inflating: /content/llms-for-image-geolocation-benchmarks/yfcc4k/yfcc4k/yfcc4k/3484920747.jpg  \n",
            "  inflating: /content/llms-for-image-geolocation-benchmarks/yfcc4k/yfcc4k/yfcc4k/3488367654.jpg  \n",
            "  inflating: /content/llms-for-image-geolocation-benchmarks/yfcc4k/yfcc4k/yfcc4k/3488765504.jpg  \n",
            "  inflating: /content/llms-for-image-geolocation-benchmarks/yfcc4k/yfcc4k/yfcc4k/3489002799.jpg  \n",
            "  inflating: /content/llms-for-image-geolocation-benchmarks/yfcc4k/yfcc4k/yfcc4k/3492534402.jpg  \n",
            "  inflating: /content/llms-for-image-geolocation-benchmarks/yfcc4k/yfcc4k/yfcc4k/3494012090.jpg  \n",
            "  inflating: /content/llms-for-image-geolocation-benchmarks/yfcc4k/yfcc4k/yfcc4k/3495571761.jpg  \n",
            "  inflating: /content/llms-for-image-geolocation-benchmarks/yfcc4k/yfcc4k/yfcc4k/3496580235.jpg  \n",
            "  inflating: /content/llms-for-image-geolocation-benchmarks/yfcc4k/yfcc4k/yfcc4k/3497462399.jpg  \n",
            "  inflating: /content/llms-for-image-geolocation-benchmarks/yfcc4k/yfcc4k/yfcc4k/3497658939.jpg  \n",
            "  inflating: /content/llms-for-image-geolocation-benchmarks/yfcc4k/yfcc4k/yfcc4k/3498281634.jpg  \n",
            "  inflating: /content/llms-for-image-geolocation-benchmarks/yfcc4k/yfcc4k/yfcc4k/3498359978.jpg  \n",
            "  inflating: /content/llms-for-image-geolocation-benchmarks/yfcc4k/yfcc4k/yfcc4k/3498600400.jpg  \n",
            "  inflating: /content/llms-for-image-geolocation-benchmarks/yfcc4k/yfcc4k/yfcc4k/3499030590.jpg  \n",
            "  inflating: /content/llms-for-image-geolocation-benchmarks/yfcc4k/yfcc4k/yfcc4k/3503515043.jpg  \n",
            "  inflating: /content/llms-for-image-geolocation-benchmarks/yfcc4k/yfcc4k/yfcc4k/3503651977.jpg  \n",
            "  inflating: /content/llms-for-image-geolocation-benchmarks/yfcc4k/yfcc4k/yfcc4k/3507386434.jpg  \n",
            "  inflating: /content/llms-for-image-geolocation-benchmarks/yfcc4k/yfcc4k/yfcc4k/3507638766.jpg  \n",
            "  inflating: /content/llms-for-image-geolocation-benchmarks/yfcc4k/yfcc4k/yfcc4k/3507831173.jpg  \n",
            "  inflating: /content/llms-for-image-geolocation-benchmarks/yfcc4k/yfcc4k/yfcc4k/350806802.jpg  \n",
            "  inflating: /content/llms-for-image-geolocation-benchmarks/yfcc4k/yfcc4k/yfcc4k/3512738234.jpg  \n",
            "  inflating: /content/llms-for-image-geolocation-benchmarks/yfcc4k/yfcc4k/yfcc4k/3513196147.jpg  \n",
            "  inflating: /content/llms-for-image-geolocation-benchmarks/yfcc4k/yfcc4k/yfcc4k/3513297612.jpg  \n",
            "  inflating: /content/llms-for-image-geolocation-benchmarks/yfcc4k/yfcc4k/yfcc4k/3515017516.jpg  \n",
            "  inflating: /content/llms-for-image-geolocation-benchmarks/yfcc4k/yfcc4k/yfcc4k/3518017777.jpg  \n",
            "  inflating: /content/llms-for-image-geolocation-benchmarks/yfcc4k/yfcc4k/yfcc4k/3518135907.jpg  \n",
            "  inflating: /content/llms-for-image-geolocation-benchmarks/yfcc4k/yfcc4k/yfcc4k/3520071802.jpg  \n",
            "  inflating: /content/llms-for-image-geolocation-benchmarks/yfcc4k/yfcc4k/yfcc4k/3522323462.jpg  \n",
            "  inflating: /content/llms-for-image-geolocation-benchmarks/yfcc4k/yfcc4k/yfcc4k/3522773667.jpg  \n",
            "  inflating: /content/llms-for-image-geolocation-benchmarks/yfcc4k/yfcc4k/yfcc4k/3526226545.jpg  \n",
            "  inflating: /content/llms-for-image-geolocation-benchmarks/yfcc4k/yfcc4k/yfcc4k/3526448594.jpg  \n",
            "  inflating: /content/llms-for-image-geolocation-benchmarks/yfcc4k/yfcc4k/yfcc4k/3529551820.jpg  \n",
            "  inflating: /content/llms-for-image-geolocation-benchmarks/yfcc4k/yfcc4k/yfcc4k/3531789933.jpg  \n",
            "  inflating: /content/llms-for-image-geolocation-benchmarks/yfcc4k/yfcc4k/yfcc4k/3533096191.jpg  \n",
            "  inflating: /content/llms-for-image-geolocation-benchmarks/yfcc4k/yfcc4k/yfcc4k/3534156921.jpg  \n",
            "  inflating: /content/llms-for-image-geolocation-benchmarks/yfcc4k/yfcc4k/yfcc4k/3538642204.jpg  \n",
            "  inflating: /content/llms-for-image-geolocation-benchmarks/yfcc4k/yfcc4k/yfcc4k/3539325016.jpg  \n",
            "  inflating: /content/llms-for-image-geolocation-benchmarks/yfcc4k/yfcc4k/yfcc4k/3539669846.jpg  \n",
            "  inflating: /content/llms-for-image-geolocation-benchmarks/yfcc4k/yfcc4k/yfcc4k/3540264911.jpg  \n",
            "  inflating: /content/llms-for-image-geolocation-benchmarks/yfcc4k/yfcc4k/yfcc4k/354172384.jpg  \n",
            "  inflating: /content/llms-for-image-geolocation-benchmarks/yfcc4k/yfcc4k/yfcc4k/3544096867.jpg  \n",
            "  inflating: /content/llms-for-image-geolocation-benchmarks/yfcc4k/yfcc4k/yfcc4k/3545441699.jpg  \n",
            "  inflating: /content/llms-for-image-geolocation-benchmarks/yfcc4k/yfcc4k/yfcc4k/3546930820.jpg  \n",
            "  inflating: /content/llms-for-image-geolocation-benchmarks/yfcc4k/yfcc4k/yfcc4k/3547580857.jpg  \n",
            "  inflating: /content/llms-for-image-geolocation-benchmarks/yfcc4k/yfcc4k/yfcc4k/3547590206.jpg  \n",
            "  inflating: /content/llms-for-image-geolocation-benchmarks/yfcc4k/yfcc4k/yfcc4k/3550936920.jpg  \n",
            "  inflating: /content/llms-for-image-geolocation-benchmarks/yfcc4k/yfcc4k/yfcc4k/3552539992.jpg  \n",
            "  inflating: /content/llms-for-image-geolocation-benchmarks/yfcc4k/yfcc4k/yfcc4k/3558567017.jpg  \n",
            "  inflating: /content/llms-for-image-geolocation-benchmarks/yfcc4k/yfcc4k/yfcc4k/3559820549.jpg  \n",
            "  inflating: /content/llms-for-image-geolocation-benchmarks/yfcc4k/yfcc4k/yfcc4k/3561947162.jpg  \n",
            "  inflating: /content/llms-for-image-geolocation-benchmarks/yfcc4k/yfcc4k/yfcc4k/3562751691.jpg  \n",
            "  inflating: /content/llms-for-image-geolocation-benchmarks/yfcc4k/yfcc4k/yfcc4k/3565485738.jpg  \n",
            "  inflating: /content/llms-for-image-geolocation-benchmarks/yfcc4k/yfcc4k/yfcc4k/3565782358.jpg  \n",
            "  inflating: /content/llms-for-image-geolocation-benchmarks/yfcc4k/yfcc4k/yfcc4k/3571033100.jpg  \n",
            "  inflating: /content/llms-for-image-geolocation-benchmarks/yfcc4k/yfcc4k/yfcc4k/3571256798.jpg  \n",
            "  inflating: /content/llms-for-image-geolocation-benchmarks/yfcc4k/yfcc4k/yfcc4k/3571385746.jpg  \n",
            "  inflating: /content/llms-for-image-geolocation-benchmarks/yfcc4k/yfcc4k/yfcc4k/3571511662.jpg  \n",
            "  inflating: /content/llms-for-image-geolocation-benchmarks/yfcc4k/yfcc4k/yfcc4k/3573722852.jpg  \n",
            "  inflating: /content/llms-for-image-geolocation-benchmarks/yfcc4k/yfcc4k/yfcc4k/3575814415.jpg  \n",
            "  inflating: /content/llms-for-image-geolocation-benchmarks/yfcc4k/yfcc4k/yfcc4k/3576577783.jpg  \n",
            "  inflating: /content/llms-for-image-geolocation-benchmarks/yfcc4k/yfcc4k/yfcc4k/3578723479.jpg  \n",
            "  inflating: /content/llms-for-image-geolocation-benchmarks/yfcc4k/yfcc4k/yfcc4k/3579052129.jpg  \n",
            "  inflating: /content/llms-for-image-geolocation-benchmarks/yfcc4k/yfcc4k/yfcc4k/3580816739.jpg  \n",
            "  inflating: /content/llms-for-image-geolocation-benchmarks/yfcc4k/yfcc4k/yfcc4k/3580965621.jpg  \n",
            "  inflating: /content/llms-for-image-geolocation-benchmarks/yfcc4k/yfcc4k/yfcc4k/3581531492.jpg  \n",
            "  inflating: /content/llms-for-image-geolocation-benchmarks/yfcc4k/yfcc4k/yfcc4k/3581709275.jpg  \n",
            "  inflating: /content/llms-for-image-geolocation-benchmarks/yfcc4k/yfcc4k/yfcc4k/3581935013.jpg  \n",
            "  inflating: /content/llms-for-image-geolocation-benchmarks/yfcc4k/yfcc4k/yfcc4k/3582377838.jpg  \n",
            "  inflating: /content/llms-for-image-geolocation-benchmarks/yfcc4k/yfcc4k/yfcc4k/3583134745.jpg  \n",
            "  inflating: /content/llms-for-image-geolocation-benchmarks/yfcc4k/yfcc4k/yfcc4k/3583987335.jpg  \n",
            "  inflating: /content/llms-for-image-geolocation-benchmarks/yfcc4k/yfcc4k/yfcc4k/3584263202.jpg  \n",
            "  inflating: /content/llms-for-image-geolocation-benchmarks/yfcc4k/yfcc4k/yfcc4k/3589957410.jpg  \n",
            "  inflating: /content/llms-for-image-geolocation-benchmarks/yfcc4k/yfcc4k/yfcc4k/3590761156.jpg  \n",
            "  inflating: /content/llms-for-image-geolocation-benchmarks/yfcc4k/yfcc4k/yfcc4k/3593058862.jpg  \n",
            "  inflating: /content/llms-for-image-geolocation-benchmarks/yfcc4k/yfcc4k/yfcc4k/3594185466.jpg  \n",
            "  inflating: /content/llms-for-image-geolocation-benchmarks/yfcc4k/yfcc4k/yfcc4k/3599052533.jpg  \n",
            "  inflating: /content/llms-for-image-geolocation-benchmarks/yfcc4k/yfcc4k/yfcc4k/3600454715.jpg  \n",
            "  inflating: /content/llms-for-image-geolocation-benchmarks/yfcc4k/yfcc4k/yfcc4k/3602410303.jpg  \n",
            "  inflating: /content/llms-for-image-geolocation-benchmarks/yfcc4k/yfcc4k/yfcc4k/3607303173.jpg  \n",
            "  inflating: /content/llms-for-image-geolocation-benchmarks/yfcc4k/yfcc4k/yfcc4k/3608734852.jpg  \n",
            "  inflating: /content/llms-for-image-geolocation-benchmarks/yfcc4k/yfcc4k/yfcc4k/3610546129.jpg  \n",
            "  inflating: /content/llms-for-image-geolocation-benchmarks/yfcc4k/yfcc4k/yfcc4k/3610609681.jpg  \n",
            "  inflating: /content/llms-for-image-geolocation-benchmarks/yfcc4k/yfcc4k/yfcc4k/3610899300.jpg  \n",
            "  inflating: /content/llms-for-image-geolocation-benchmarks/yfcc4k/yfcc4k/yfcc4k/3612103553.jpg  \n",
            "  inflating: /content/llms-for-image-geolocation-benchmarks/yfcc4k/yfcc4k/yfcc4k/3612744909.jpg  \n",
            "  inflating: /content/llms-for-image-geolocation-benchmarks/yfcc4k/yfcc4k/yfcc4k/3614644828.jpg  \n",
            "  inflating: /content/llms-for-image-geolocation-benchmarks/yfcc4k/yfcc4k/yfcc4k/3615319354.jpg  \n",
            "  inflating: /content/llms-for-image-geolocation-benchmarks/yfcc4k/yfcc4k/yfcc4k/3621150297.jpg  \n",
            "  inflating: /content/llms-for-image-geolocation-benchmarks/yfcc4k/yfcc4k/yfcc4k/3621185516.jpg  \n",
            "  inflating: /content/llms-for-image-geolocation-benchmarks/yfcc4k/yfcc4k/yfcc4k/3621992465.jpg  \n",
            "  inflating: /content/llms-for-image-geolocation-benchmarks/yfcc4k/yfcc4k/yfcc4k/3624786817.jpg  \n",
            "  inflating: /content/llms-for-image-geolocation-benchmarks/yfcc4k/yfcc4k/yfcc4k/3625819232.jpg  \n",
            "  inflating: /content/llms-for-image-geolocation-benchmarks/yfcc4k/yfcc4k/yfcc4k/3629392411.jpg  \n",
            "  inflating: /content/llms-for-image-geolocation-benchmarks/yfcc4k/yfcc4k/yfcc4k/3630890429.jpg  \n",
            "  inflating: /content/llms-for-image-geolocation-benchmarks/yfcc4k/yfcc4k/yfcc4k/3639449739.jpg  \n",
            "  inflating: /content/llms-for-image-geolocation-benchmarks/yfcc4k/yfcc4k/yfcc4k/3640660.jpg  \n",
            "  inflating: /content/llms-for-image-geolocation-benchmarks/yfcc4k/yfcc4k/yfcc4k/3640699318.jpg  \n",
            "  inflating: /content/llms-for-image-geolocation-benchmarks/yfcc4k/yfcc4k/yfcc4k/3641477400.jpg  \n",
            "  inflating: /content/llms-for-image-geolocation-benchmarks/yfcc4k/yfcc4k/yfcc4k/3641518435.jpg  \n",
            "  inflating: /content/llms-for-image-geolocation-benchmarks/yfcc4k/yfcc4k/yfcc4k/3641623343.jpg  \n",
            "  inflating: /content/llms-for-image-geolocation-benchmarks/yfcc4k/yfcc4k/yfcc4k/3642443397.jpg  \n",
            "  inflating: /content/llms-for-image-geolocation-benchmarks/yfcc4k/yfcc4k/yfcc4k/3644687239.jpg  \n",
            "  inflating: /content/llms-for-image-geolocation-benchmarks/yfcc4k/yfcc4k/yfcc4k/3655334723.jpg  \n",
            "  inflating: /content/llms-for-image-geolocation-benchmarks/yfcc4k/yfcc4k/yfcc4k/3655719190.jpg  \n",
            "  inflating: /content/llms-for-image-geolocation-benchmarks/yfcc4k/yfcc4k/yfcc4k/365864022.jpg  \n",
            "  inflating: /content/llms-for-image-geolocation-benchmarks/yfcc4k/yfcc4k/yfcc4k/3662667509.jpg  \n",
            "  inflating: /content/llms-for-image-geolocation-benchmarks/yfcc4k/yfcc4k/yfcc4k/3663751470.jpg  \n",
            "  inflating: /content/llms-for-image-geolocation-benchmarks/yfcc4k/yfcc4k/yfcc4k/3665224916.jpg  \n",
            "  inflating: /content/llms-for-image-geolocation-benchmarks/yfcc4k/yfcc4k/yfcc4k/3665676367.jpg  \n",
            "  inflating: /content/llms-for-image-geolocation-benchmarks/yfcc4k/yfcc4k/yfcc4k/3666968641.jpg  \n",
            "  inflating: /content/llms-for-image-geolocation-benchmarks/yfcc4k/yfcc4k/yfcc4k/3667196937.jpg  \n",
            "  inflating: /content/llms-for-image-geolocation-benchmarks/yfcc4k/yfcc4k/yfcc4k/3674595737.jpg  \n",
            "  inflating: /content/llms-for-image-geolocation-benchmarks/yfcc4k/yfcc4k/yfcc4k/3675226314.jpg  \n",
            "  inflating: /content/llms-for-image-geolocation-benchmarks/yfcc4k/yfcc4k/yfcc4k/3676055551.jpg  \n",
            "  inflating: /content/llms-for-image-geolocation-benchmarks/yfcc4k/yfcc4k/yfcc4k/3676837862.jpg  \n",
            "  inflating: /content/llms-for-image-geolocation-benchmarks/yfcc4k/yfcc4k/yfcc4k/368082658.jpg  \n",
            "  inflating: /content/llms-for-image-geolocation-benchmarks/yfcc4k/yfcc4k/yfcc4k/3685480775.jpg  \n",
            "  inflating: /content/llms-for-image-geolocation-benchmarks/yfcc4k/yfcc4k/yfcc4k/3686182690.jpg  \n",
            "  inflating: /content/llms-for-image-geolocation-benchmarks/yfcc4k/yfcc4k/yfcc4k/3687089337.jpg  \n",
            "  inflating: /content/llms-for-image-geolocation-benchmarks/yfcc4k/yfcc4k/yfcc4k/3688883897.jpg  \n",
            "  inflating: /content/llms-for-image-geolocation-benchmarks/yfcc4k/yfcc4k/yfcc4k/3689713556.jpg  \n",
            "  inflating: /content/llms-for-image-geolocation-benchmarks/yfcc4k/yfcc4k/yfcc4k/3689861901.jpg  \n",
            "  inflating: /content/llms-for-image-geolocation-benchmarks/yfcc4k/yfcc4k/yfcc4k/3689881503.jpg  \n",
            "  inflating: /content/llms-for-image-geolocation-benchmarks/yfcc4k/yfcc4k/yfcc4k/3690477651.jpg  \n",
            "  inflating: /content/llms-for-image-geolocation-benchmarks/yfcc4k/yfcc4k/yfcc4k/3691313284.jpg  \n",
            "  inflating: /content/llms-for-image-geolocation-benchmarks/yfcc4k/yfcc4k/yfcc4k/3693603936.jpg  \n",
            "  inflating: /content/llms-for-image-geolocation-benchmarks/yfcc4k/yfcc4k/yfcc4k/3693983728.jpg  \n",
            "  inflating: /content/llms-for-image-geolocation-benchmarks/yfcc4k/yfcc4k/yfcc4k/3696869977.jpg  \n",
            "  inflating: /content/llms-for-image-geolocation-benchmarks/yfcc4k/yfcc4k/yfcc4k/3697245924.jpg  \n",
            "  inflating: /content/llms-for-image-geolocation-benchmarks/yfcc4k/yfcc4k/yfcc4k/3700081759.jpg  \n",
            "  inflating: /content/llms-for-image-geolocation-benchmarks/yfcc4k/yfcc4k/yfcc4k/3700240758.jpg  \n",
            "  inflating: /content/llms-for-image-geolocation-benchmarks/yfcc4k/yfcc4k/yfcc4k/3701557939.jpg  \n",
            "  inflating: /content/llms-for-image-geolocation-benchmarks/yfcc4k/yfcc4k/yfcc4k/3701992276.jpg  \n",
            "  inflating: /content/llms-for-image-geolocation-benchmarks/yfcc4k/yfcc4k/yfcc4k/3704360916.jpg  \n",
            "  inflating: /content/llms-for-image-geolocation-benchmarks/yfcc4k/yfcc4k/yfcc4k/3706234871.jpg  \n",
            "  inflating: /content/llms-for-image-geolocation-benchmarks/yfcc4k/yfcc4k/yfcc4k/3709079361.jpg  \n",
            "  inflating: /content/llms-for-image-geolocation-benchmarks/yfcc4k/yfcc4k/yfcc4k/3709314675.jpg  \n",
            "  inflating: /content/llms-for-image-geolocation-benchmarks/yfcc4k/yfcc4k/yfcc4k/3710735092.jpg  \n",
            "  inflating: /content/llms-for-image-geolocation-benchmarks/yfcc4k/yfcc4k/yfcc4k/3712962511.jpg  \n",
            "  inflating: /content/llms-for-image-geolocation-benchmarks/yfcc4k/yfcc4k/yfcc4k/3714699651.jpg  \n",
            "  inflating: /content/llms-for-image-geolocation-benchmarks/yfcc4k/yfcc4k/yfcc4k/3716232749.jpg  \n",
            "  inflating: /content/llms-for-image-geolocation-benchmarks/yfcc4k/yfcc4k/yfcc4k/3721487912.jpg  \n",
            "  inflating: /content/llms-for-image-geolocation-benchmarks/yfcc4k/yfcc4k/yfcc4k/3723509937.jpg  \n",
            "  inflating: /content/llms-for-image-geolocation-benchmarks/yfcc4k/yfcc4k/yfcc4k/3724981820.jpg  \n",
            "  inflating: /content/llms-for-image-geolocation-benchmarks/yfcc4k/yfcc4k/yfcc4k/3725659394.jpg  \n",
            "  inflating: /content/llms-for-image-geolocation-benchmarks/yfcc4k/yfcc4k/yfcc4k/3725841660.jpg  \n",
            "  inflating: /content/llms-for-image-geolocation-benchmarks/yfcc4k/yfcc4k/yfcc4k/3728079534.jpg  \n",
            "  inflating: /content/llms-for-image-geolocation-benchmarks/yfcc4k/yfcc4k/yfcc4k/3728181479.jpg  \n",
            "  inflating: /content/llms-for-image-geolocation-benchmarks/yfcc4k/yfcc4k/yfcc4k/3729406535.jpg  \n",
            "  inflating: /content/llms-for-image-geolocation-benchmarks/yfcc4k/yfcc4k/yfcc4k/3730177941.jpg  \n",
            "  inflating: /content/llms-for-image-geolocation-benchmarks/yfcc4k/yfcc4k/yfcc4k/3732442875.jpg  \n",
            "  inflating: /content/llms-for-image-geolocation-benchmarks/yfcc4k/yfcc4k/yfcc4k/3733962194.jpg  \n",
            "  inflating: /content/llms-for-image-geolocation-benchmarks/yfcc4k/yfcc4k/yfcc4k/3735264122.jpg  \n",
            "  inflating: /content/llms-for-image-geolocation-benchmarks/yfcc4k/yfcc4k/yfcc4k/3735334467.jpg  \n",
            "  inflating: /content/llms-for-image-geolocation-benchmarks/yfcc4k/yfcc4k/yfcc4k/373557744.jpg  \n",
            "  inflating: /content/llms-for-image-geolocation-benchmarks/yfcc4k/yfcc4k/yfcc4k/3736461532.jpg  \n",
            "  inflating: /content/llms-for-image-geolocation-benchmarks/yfcc4k/yfcc4k/yfcc4k/3737460690.jpg  \n",
            "  inflating: /content/llms-for-image-geolocation-benchmarks/yfcc4k/yfcc4k/yfcc4k/3737904629.jpg  \n",
            "  inflating: /content/llms-for-image-geolocation-benchmarks/yfcc4k/yfcc4k/yfcc4k/3738067281.jpg  \n",
            "  inflating: /content/llms-for-image-geolocation-benchmarks/yfcc4k/yfcc4k/yfcc4k/3739885733.jpg  \n",
            "  inflating: /content/llms-for-image-geolocation-benchmarks/yfcc4k/yfcc4k/yfcc4k/3740106362.jpg  \n",
            "  inflating: /content/llms-for-image-geolocation-benchmarks/yfcc4k/yfcc4k/yfcc4k/3741613982.jpg  \n",
            "  inflating: /content/llms-for-image-geolocation-benchmarks/yfcc4k/yfcc4k/yfcc4k/3741779142.jpg  \n",
            "  inflating: /content/llms-for-image-geolocation-benchmarks/yfcc4k/yfcc4k/yfcc4k/3743833662.jpg  \n",
            "  inflating: /content/llms-for-image-geolocation-benchmarks/yfcc4k/yfcc4k/yfcc4k/3748008326.jpg  \n",
            "  inflating: /content/llms-for-image-geolocation-benchmarks/yfcc4k/yfcc4k/yfcc4k/3749128615.jpg  \n",
            "  inflating: /content/llms-for-image-geolocation-benchmarks/yfcc4k/yfcc4k/yfcc4k/3755130861.jpg  \n",
            "  inflating: /content/llms-for-image-geolocation-benchmarks/yfcc4k/yfcc4k/yfcc4k/3755862827.jpg  \n",
            "  inflating: /content/llms-for-image-geolocation-benchmarks/yfcc4k/yfcc4k/yfcc4k/3756460898.jpg  \n",
            "  inflating: /content/llms-for-image-geolocation-benchmarks/yfcc4k/yfcc4k/yfcc4k/3756885040.jpg  \n",
            "  inflating: /content/llms-for-image-geolocation-benchmarks/yfcc4k/yfcc4k/yfcc4k/3758715707.jpg  \n",
            "  inflating: /content/llms-for-image-geolocation-benchmarks/yfcc4k/yfcc4k/yfcc4k/3762012265.jpg  \n",
            "  inflating: /content/llms-for-image-geolocation-benchmarks/yfcc4k/yfcc4k/yfcc4k/3766115960.jpg  \n",
            "  inflating: /content/llms-for-image-geolocation-benchmarks/yfcc4k/yfcc4k/yfcc4k/3767651914.jpg  \n",
            "  inflating: /content/llms-for-image-geolocation-benchmarks/yfcc4k/yfcc4k/yfcc4k/376808198.jpg  \n",
            "  inflating: /content/llms-for-image-geolocation-benchmarks/yfcc4k/yfcc4k/yfcc4k/3770564753.jpg  \n",
            "  inflating: /content/llms-for-image-geolocation-benchmarks/yfcc4k/yfcc4k/yfcc4k/3772157397.jpg  \n",
            "  inflating: /content/llms-for-image-geolocation-benchmarks/yfcc4k/yfcc4k/yfcc4k/3777412529.jpg  \n",
            "  inflating: /content/llms-for-image-geolocation-benchmarks/yfcc4k/yfcc4k/yfcc4k/3779030961.jpg  \n",
            "  inflating: /content/llms-for-image-geolocation-benchmarks/yfcc4k/yfcc4k/yfcc4k/3779988145.jpg  \n",
            "  inflating: /content/llms-for-image-geolocation-benchmarks/yfcc4k/yfcc4k/yfcc4k/3780672193.jpg  \n",
            "  inflating: /content/llms-for-image-geolocation-benchmarks/yfcc4k/yfcc4k/yfcc4k/3782246180.jpg  \n",
            "  inflating: /content/llms-for-image-geolocation-benchmarks/yfcc4k/yfcc4k/yfcc4k/3786430773.jpg  \n",
            "  inflating: /content/llms-for-image-geolocation-benchmarks/yfcc4k/yfcc4k/yfcc4k/3786994484.jpg  \n",
            "  inflating: /content/llms-for-image-geolocation-benchmarks/yfcc4k/yfcc4k/yfcc4k/3787334648.jpg  \n",
            "  inflating: /content/llms-for-image-geolocation-benchmarks/yfcc4k/yfcc4k/yfcc4k/3788097225.jpg  \n",
            "  inflating: /content/llms-for-image-geolocation-benchmarks/yfcc4k/yfcc4k/yfcc4k/3792522243.jpg  \n",
            "  inflating: /content/llms-for-image-geolocation-benchmarks/yfcc4k/yfcc4k/yfcc4k/3793140738.jpg  \n",
            "  inflating: /content/llms-for-image-geolocation-benchmarks/yfcc4k/yfcc4k/yfcc4k/3794471673.jpg  \n",
            "  inflating: /content/llms-for-image-geolocation-benchmarks/yfcc4k/yfcc4k/yfcc4k/3795532080.jpg  \n",
            "  inflating: /content/llms-for-image-geolocation-benchmarks/yfcc4k/yfcc4k/yfcc4k/3795601422.jpg  \n",
            "  inflating: /content/llms-for-image-geolocation-benchmarks/yfcc4k/yfcc4k/yfcc4k/3797570603.jpg  \n",
            "  inflating: /content/llms-for-image-geolocation-benchmarks/yfcc4k/yfcc4k/yfcc4k/3800095997.jpg  \n",
            "  inflating: /content/llms-for-image-geolocation-benchmarks/yfcc4k/yfcc4k/yfcc4k/3801171812.jpg  \n",
            "  inflating: /content/llms-for-image-geolocation-benchmarks/yfcc4k/yfcc4k/yfcc4k/3802854057.jpg  \n",
            "  inflating: /content/llms-for-image-geolocation-benchmarks/yfcc4k/yfcc4k/yfcc4k/3804845364.jpg  \n",
            "  inflating: /content/llms-for-image-geolocation-benchmarks/yfcc4k/yfcc4k/yfcc4k/3805498267.jpg  \n",
            "  inflating: /content/llms-for-image-geolocation-benchmarks/yfcc4k/yfcc4k/yfcc4k/3806714412.jpg  \n",
            "  inflating: /content/llms-for-image-geolocation-benchmarks/yfcc4k/yfcc4k/yfcc4k/3807119215.jpg  \n",
            "  inflating: /content/llms-for-image-geolocation-benchmarks/yfcc4k/yfcc4k/yfcc4k/3808394253.jpg  \n",
            "  inflating: /content/llms-for-image-geolocation-benchmarks/yfcc4k/yfcc4k/yfcc4k/3811416983.jpg  \n",
            "  inflating: /content/llms-for-image-geolocation-benchmarks/yfcc4k/yfcc4k/yfcc4k/3814096237.jpg  \n",
            "  inflating: /content/llms-for-image-geolocation-benchmarks/yfcc4k/yfcc4k/yfcc4k/3814447686.jpg  \n",
            "  inflating: /content/llms-for-image-geolocation-benchmarks/yfcc4k/yfcc4k/yfcc4k/3816488601.jpg  \n",
            "  inflating: /content/llms-for-image-geolocation-benchmarks/yfcc4k/yfcc4k/yfcc4k/3822497046.jpg  \n",
            "  inflating: /content/llms-for-image-geolocation-benchmarks/yfcc4k/yfcc4k/yfcc4k/3823034693.jpg  \n",
            "  inflating: /content/llms-for-image-geolocation-benchmarks/yfcc4k/yfcc4k/yfcc4k/3825462189.jpg  \n",
            "  inflating: /content/llms-for-image-geolocation-benchmarks/yfcc4k/yfcc4k/yfcc4k/3826873209.jpg  \n",
            "  inflating: /content/llms-for-image-geolocation-benchmarks/yfcc4k/yfcc4k/yfcc4k/3830105632.jpg  \n",
            "  inflating: /content/llms-for-image-geolocation-benchmarks/yfcc4k/yfcc4k/yfcc4k/383027017.jpg  \n",
            "  inflating: /content/llms-for-image-geolocation-benchmarks/yfcc4k/yfcc4k/yfcc4k/3830481023.jpg  \n",
            "  inflating: /content/llms-for-image-geolocation-benchmarks/yfcc4k/yfcc4k/yfcc4k/3830705088.jpg  \n",
            "  inflating: /content/llms-for-image-geolocation-benchmarks/yfcc4k/yfcc4k/yfcc4k/3832726616.jpg  \n",
            "  inflating: /content/llms-for-image-geolocation-benchmarks/yfcc4k/yfcc4k/yfcc4k/3836478860.jpg  \n",
            "  inflating: /content/llms-for-image-geolocation-benchmarks/yfcc4k/yfcc4k/yfcc4k/3839253188.jpg  \n",
            "  inflating: /content/llms-for-image-geolocation-benchmarks/yfcc4k/yfcc4k/yfcc4k/3841185844.jpg  \n",
            "  inflating: /content/llms-for-image-geolocation-benchmarks/yfcc4k/yfcc4k/yfcc4k/3843226901.jpg  \n",
            "  inflating: /content/llms-for-image-geolocation-benchmarks/yfcc4k/yfcc4k/yfcc4k/3844614093.jpg  \n",
            "  inflating: /content/llms-for-image-geolocation-benchmarks/yfcc4k/yfcc4k/yfcc4k/3846928992.jpg  \n",
            "  inflating: /content/llms-for-image-geolocation-benchmarks/yfcc4k/yfcc4k/yfcc4k/3848099811.jpg  \n",
            "  inflating: /content/llms-for-image-geolocation-benchmarks/yfcc4k/yfcc4k/yfcc4k/3850532258.jpg  \n",
            "  inflating: /content/llms-for-image-geolocation-benchmarks/yfcc4k/yfcc4k/yfcc4k/3852312013.jpg  \n",
            "  inflating: /content/llms-for-image-geolocation-benchmarks/yfcc4k/yfcc4k/yfcc4k/3852806721.jpg  \n",
            "  inflating: /content/llms-for-image-geolocation-benchmarks/yfcc4k/yfcc4k/yfcc4k/3852951128.jpg  \n",
            "  inflating: /content/llms-for-image-geolocation-benchmarks/yfcc4k/yfcc4k/yfcc4k/3853963001.jpg  \n",
            "  inflating: /content/llms-for-image-geolocation-benchmarks/yfcc4k/yfcc4k/yfcc4k/3856151314.jpg  \n",
            "  inflating: /content/llms-for-image-geolocation-benchmarks/yfcc4k/yfcc4k/yfcc4k/3861153619.jpg  \n",
            "  inflating: /content/llms-for-image-geolocation-benchmarks/yfcc4k/yfcc4k/yfcc4k/3866040046.jpg  \n",
            "  inflating: /content/llms-for-image-geolocation-benchmarks/yfcc4k/yfcc4k/yfcc4k/3866589063.jpg  \n",
            "  inflating: /content/llms-for-image-geolocation-benchmarks/yfcc4k/yfcc4k/yfcc4k/3866879767.jpg  \n",
            "  inflating: /content/llms-for-image-geolocation-benchmarks/yfcc4k/yfcc4k/yfcc4k/3869540465.jpg  \n",
            "  inflating: /content/llms-for-image-geolocation-benchmarks/yfcc4k/yfcc4k/yfcc4k/3870130541.jpg  \n",
            "  inflating: /content/llms-for-image-geolocation-benchmarks/yfcc4k/yfcc4k/yfcc4k/3870815742.jpg  \n",
            "  inflating: /content/llms-for-image-geolocation-benchmarks/yfcc4k/yfcc4k/yfcc4k/3871482773.jpg  \n",
            "  inflating: /content/llms-for-image-geolocation-benchmarks/yfcc4k/yfcc4k/yfcc4k/3872793902.jpg  \n",
            "  inflating: /content/llms-for-image-geolocation-benchmarks/yfcc4k/yfcc4k/yfcc4k/3876612274.jpg  \n",
            "  inflating: /content/llms-for-image-geolocation-benchmarks/yfcc4k/yfcc4k/yfcc4k/3878269579.jpg  \n",
            "  inflating: /content/llms-for-image-geolocation-benchmarks/yfcc4k/yfcc4k/yfcc4k/3878763161.jpg  \n",
            "  inflating: /content/llms-for-image-geolocation-benchmarks/yfcc4k/yfcc4k/yfcc4k/3879157630.jpg  \n",
            "  inflating: /content/llms-for-image-geolocation-benchmarks/yfcc4k/yfcc4k/yfcc4k/3886185352.jpg  \n",
            "  inflating: /content/llms-for-image-geolocation-benchmarks/yfcc4k/yfcc4k/yfcc4k/3886283076.jpg  \n",
            "  inflating: /content/llms-for-image-geolocation-benchmarks/yfcc4k/yfcc4k/yfcc4k/3887798241.jpg  \n",
            "  inflating: /content/llms-for-image-geolocation-benchmarks/yfcc4k/yfcc4k/yfcc4k/3889226614.jpg  \n",
            "  inflating: /content/llms-for-image-geolocation-benchmarks/yfcc4k/yfcc4k/yfcc4k/3889493965.jpg  \n",
            "  inflating: /content/llms-for-image-geolocation-benchmarks/yfcc4k/yfcc4k/yfcc4k/3889583810.jpg  \n",
            "  inflating: /content/llms-for-image-geolocation-benchmarks/yfcc4k/yfcc4k/yfcc4k/3892533509.jpg  \n",
            "  inflating: /content/llms-for-image-geolocation-benchmarks/yfcc4k/yfcc4k/yfcc4k/3893272010.jpg  \n",
            "  inflating: /content/llms-for-image-geolocation-benchmarks/yfcc4k/yfcc4k/yfcc4k/3894229961.jpg  \n",
            "  inflating: /content/llms-for-image-geolocation-benchmarks/yfcc4k/yfcc4k/yfcc4k/3896395366.jpg  \n",
            "  inflating: /content/llms-for-image-geolocation-benchmarks/yfcc4k/yfcc4k/yfcc4k/3896757920.jpg  \n",
            "  inflating: /content/llms-for-image-geolocation-benchmarks/yfcc4k/yfcc4k/yfcc4k/3897500844.jpg  \n",
            "  inflating: /content/llms-for-image-geolocation-benchmarks/yfcc4k/yfcc4k/yfcc4k/3905584273.jpg  \n",
            "  inflating: /content/llms-for-image-geolocation-benchmarks/yfcc4k/yfcc4k/yfcc4k/3905668023.jpg  \n",
            "  inflating: /content/llms-for-image-geolocation-benchmarks/yfcc4k/yfcc4k/yfcc4k/3906424835.jpg  \n",
            "  inflating: /content/llms-for-image-geolocation-benchmarks/yfcc4k/yfcc4k/yfcc4k/3907592545.jpg  \n",
            "  inflating: /content/llms-for-image-geolocation-benchmarks/yfcc4k/yfcc4k/yfcc4k/3908761921.jpg  \n",
            "  inflating: /content/llms-for-image-geolocation-benchmarks/yfcc4k/yfcc4k/yfcc4k/3909799496.jpg  \n",
            "  inflating: /content/llms-for-image-geolocation-benchmarks/yfcc4k/yfcc4k/yfcc4k/3912120693.jpg  \n",
            "  inflating: /content/llms-for-image-geolocation-benchmarks/yfcc4k/yfcc4k/yfcc4k/3913728994.jpg  \n",
            "  inflating: /content/llms-for-image-geolocation-benchmarks/yfcc4k/yfcc4k/yfcc4k/3922398702.jpg  \n",
            "  inflating: /content/llms-for-image-geolocation-benchmarks/yfcc4k/yfcc4k/yfcc4k/3924700448.jpg  \n",
            "  inflating: /content/llms-for-image-geolocation-benchmarks/yfcc4k/yfcc4k/yfcc4k/3925018607.jpg  \n",
            "  inflating: /content/llms-for-image-geolocation-benchmarks/yfcc4k/yfcc4k/yfcc4k/3925131207.jpg  \n",
            "  inflating: /content/llms-for-image-geolocation-benchmarks/yfcc4k/yfcc4k/yfcc4k/3927742278.jpg  \n",
            "  inflating: /content/llms-for-image-geolocation-benchmarks/yfcc4k/yfcc4k/yfcc4k/3927787593.jpg  \n",
            "  inflating: /content/llms-for-image-geolocation-benchmarks/yfcc4k/yfcc4k/yfcc4k/3928840670.jpg  \n",
            "  inflating: /content/llms-for-image-geolocation-benchmarks/yfcc4k/yfcc4k/yfcc4k/3931212911.jpg  \n",
            "  inflating: /content/llms-for-image-geolocation-benchmarks/yfcc4k/yfcc4k/yfcc4k/3933613224.jpg  \n",
            "  inflating: /content/llms-for-image-geolocation-benchmarks/yfcc4k/yfcc4k/yfcc4k/3936134355.jpg  \n",
            "  inflating: /content/llms-for-image-geolocation-benchmarks/yfcc4k/yfcc4k/yfcc4k/3940039676.jpg  \n",
            "  inflating: /content/llms-for-image-geolocation-benchmarks/yfcc4k/yfcc4k/yfcc4k/3943096956.jpg  \n",
            "  inflating: /content/llms-for-image-geolocation-benchmarks/yfcc4k/yfcc4k/yfcc4k/3944029118.jpg  \n",
            "  inflating: /content/llms-for-image-geolocation-benchmarks/yfcc4k/yfcc4k/yfcc4k/3946286902.jpg  \n",
            "  inflating: /content/llms-for-image-geolocation-benchmarks/yfcc4k/yfcc4k/yfcc4k/3946744992.jpg  \n",
            "  inflating: /content/llms-for-image-geolocation-benchmarks/yfcc4k/yfcc4k/yfcc4k/3948060003.jpg  \n",
            "  inflating: /content/llms-for-image-geolocation-benchmarks/yfcc4k/yfcc4k/yfcc4k/3948505454.jpg  \n",
            "  inflating: /content/llms-for-image-geolocation-benchmarks/yfcc4k/yfcc4k/yfcc4k/3951077494.jpg  \n",
            "  inflating: /content/llms-for-image-geolocation-benchmarks/yfcc4k/yfcc4k/yfcc4k/3955611210.jpg  \n",
            "  inflating: /content/llms-for-image-geolocation-benchmarks/yfcc4k/yfcc4k/yfcc4k/3955701862.jpg  \n",
            "  inflating: /content/llms-for-image-geolocation-benchmarks/yfcc4k/yfcc4k/yfcc4k/3958435058.jpg  \n",
            "  inflating: /content/llms-for-image-geolocation-benchmarks/yfcc4k/yfcc4k/yfcc4k/3958645297.jpg  \n",
            "  inflating: /content/llms-for-image-geolocation-benchmarks/yfcc4k/yfcc4k/yfcc4k/3961547224.jpg  \n",
            "  inflating: /content/llms-for-image-geolocation-benchmarks/yfcc4k/yfcc4k/yfcc4k/3962384052.jpg  \n",
            "  inflating: /content/llms-for-image-geolocation-benchmarks/yfcc4k/yfcc4k/yfcc4k/3962483853.jpg  \n",
            "  inflating: /content/llms-for-image-geolocation-benchmarks/yfcc4k/yfcc4k/yfcc4k/3963519703.jpg  \n",
            "  inflating: /content/llms-for-image-geolocation-benchmarks/yfcc4k/yfcc4k/yfcc4k/3964023068.jpg  \n",
            "  inflating: /content/llms-for-image-geolocation-benchmarks/yfcc4k/yfcc4k/yfcc4k/3964554396.jpg  \n",
            "  inflating: /content/llms-for-image-geolocation-benchmarks/yfcc4k/yfcc4k/yfcc4k/3965458856.jpg  \n",
            "  inflating: /content/llms-for-image-geolocation-benchmarks/yfcc4k/yfcc4k/yfcc4k/396862099.jpg  \n",
            "  inflating: /content/llms-for-image-geolocation-benchmarks/yfcc4k/yfcc4k/yfcc4k/3970092306.jpg  \n",
            "  inflating: /content/llms-for-image-geolocation-benchmarks/yfcc4k/yfcc4k/yfcc4k/3970476970.jpg  \n",
            "  inflating: /content/llms-for-image-geolocation-benchmarks/yfcc4k/yfcc4k/yfcc4k/3970507172.jpg  \n",
            "  inflating: /content/llms-for-image-geolocation-benchmarks/yfcc4k/yfcc4k/yfcc4k/3972379200.jpg  \n",
            "  inflating: /content/llms-for-image-geolocation-benchmarks/yfcc4k/yfcc4k/yfcc4k/3977526775.jpg  \n",
            "  inflating: /content/llms-for-image-geolocation-benchmarks/yfcc4k/yfcc4k/yfcc4k/3978600376.jpg  \n",
            "  inflating: /content/llms-for-image-geolocation-benchmarks/yfcc4k/yfcc4k/yfcc4k/3979620341.jpg  \n",
            "  inflating: /content/llms-for-image-geolocation-benchmarks/yfcc4k/yfcc4k/yfcc4k/3982934904.jpg  \n",
            "  inflating: /content/llms-for-image-geolocation-benchmarks/yfcc4k/yfcc4k/yfcc4k/3985803925.jpg  \n",
            "  inflating: /content/llms-for-image-geolocation-benchmarks/yfcc4k/yfcc4k/yfcc4k/3987828610.jpg  \n",
            "  inflating: /content/llms-for-image-geolocation-benchmarks/yfcc4k/yfcc4k/yfcc4k/3990495185.jpg  \n",
            "  inflating: /content/llms-for-image-geolocation-benchmarks/yfcc4k/yfcc4k/yfcc4k/3992534156.jpg  \n",
            "  inflating: /content/llms-for-image-geolocation-benchmarks/yfcc4k/yfcc4k/yfcc4k/3992606427.jpg  \n",
            "  inflating: /content/llms-for-image-geolocation-benchmarks/yfcc4k/yfcc4k/yfcc4k/3993363938.jpg  \n",
            "  inflating: /content/llms-for-image-geolocation-benchmarks/yfcc4k/yfcc4k/yfcc4k/3996525995.jpg  \n",
            "  inflating: /content/llms-for-image-geolocation-benchmarks/yfcc4k/yfcc4k/yfcc4k/4000368079.jpg  \n",
            "  inflating: /content/llms-for-image-geolocation-benchmarks/yfcc4k/yfcc4k/yfcc4k/4001903501.jpg  \n",
            "  inflating: /content/llms-for-image-geolocation-benchmarks/yfcc4k/yfcc4k/yfcc4k/4005927342.jpg  \n",
            "  inflating: /content/llms-for-image-geolocation-benchmarks/yfcc4k/yfcc4k/yfcc4k/4007661771.jpg  \n",
            "  inflating: /content/llms-for-image-geolocation-benchmarks/yfcc4k/yfcc4k/yfcc4k/4010714020.jpg  \n",
            "  inflating: /content/llms-for-image-geolocation-benchmarks/yfcc4k/yfcc4k/yfcc4k/4014709525.jpg  \n",
            "  inflating: /content/llms-for-image-geolocation-benchmarks/yfcc4k/yfcc4k/yfcc4k/4015060088.jpg  \n",
            "  inflating: /content/llms-for-image-geolocation-benchmarks/yfcc4k/yfcc4k/yfcc4k/4016193550.jpg  \n",
            "  inflating: /content/llms-for-image-geolocation-benchmarks/yfcc4k/yfcc4k/yfcc4k/4016777484.jpg  \n",
            "  inflating: /content/llms-for-image-geolocation-benchmarks/yfcc4k/yfcc4k/yfcc4k/4017929518.jpg  \n",
            "  inflating: /content/llms-for-image-geolocation-benchmarks/yfcc4k/yfcc4k/yfcc4k/4018000706.jpg  \n",
            "  inflating: /content/llms-for-image-geolocation-benchmarks/yfcc4k/yfcc4k/yfcc4k/4027128344.jpg  \n",
            "  inflating: /content/llms-for-image-geolocation-benchmarks/yfcc4k/yfcc4k/yfcc4k/4029300510.jpg  \n",
            "  inflating: /content/llms-for-image-geolocation-benchmarks/yfcc4k/yfcc4k/yfcc4k/4029934636.jpg  \n",
            "  inflating: /content/llms-for-image-geolocation-benchmarks/yfcc4k/yfcc4k/yfcc4k/4030681603.jpg  \n",
            "  inflating: /content/llms-for-image-geolocation-benchmarks/yfcc4k/yfcc4k/yfcc4k/4037260802.jpg  \n",
            "  inflating: /content/llms-for-image-geolocation-benchmarks/yfcc4k/yfcc4k/yfcc4k/4039105989.jpg  \n",
            "  inflating: /content/llms-for-image-geolocation-benchmarks/yfcc4k/yfcc4k/yfcc4k/4046054255.jpg  \n",
            "  inflating: /content/llms-for-image-geolocation-benchmarks/yfcc4k/yfcc4k/yfcc4k/4048030915.jpg  \n",
            "  inflating: /content/llms-for-image-geolocation-benchmarks/yfcc4k/yfcc4k/yfcc4k/4049524312.jpg  \n",
            "  inflating: /content/llms-for-image-geolocation-benchmarks/yfcc4k/yfcc4k/yfcc4k/4049553244.jpg  \n",
            "  inflating: /content/llms-for-image-geolocation-benchmarks/yfcc4k/yfcc4k/yfcc4k/4050927028.jpg  \n",
            "  inflating: /content/llms-for-image-geolocation-benchmarks/yfcc4k/yfcc4k/yfcc4k/4051372402.jpg  \n",
            "  inflating: /content/llms-for-image-geolocation-benchmarks/yfcc4k/yfcc4k/yfcc4k/4056825990.jpg  \n",
            "  inflating: /content/llms-for-image-geolocation-benchmarks/yfcc4k/yfcc4k/yfcc4k/4058644779.jpg  \n",
            "  inflating: /content/llms-for-image-geolocation-benchmarks/yfcc4k/yfcc4k/yfcc4k/4060855330.jpg  \n",
            "  inflating: /content/llms-for-image-geolocation-benchmarks/yfcc4k/yfcc4k/yfcc4k/4060941639.jpg  \n",
            "  inflating: /content/llms-for-image-geolocation-benchmarks/yfcc4k/yfcc4k/yfcc4k/4065949198.jpg  \n",
            "  inflating: /content/llms-for-image-geolocation-benchmarks/yfcc4k/yfcc4k/yfcc4k/4066177321.jpg  \n",
            "  inflating: /content/llms-for-image-geolocation-benchmarks/yfcc4k/yfcc4k/yfcc4k/406624531.jpg  \n",
            "  inflating: /content/llms-for-image-geolocation-benchmarks/yfcc4k/yfcc4k/yfcc4k/4070528064.jpg  \n",
            "  inflating: /content/llms-for-image-geolocation-benchmarks/yfcc4k/yfcc4k/yfcc4k/4071441416.jpg  \n",
            "  inflating: /content/llms-for-image-geolocation-benchmarks/yfcc4k/yfcc4k/yfcc4k/4075694836.jpg  \n",
            "  inflating: /content/llms-for-image-geolocation-benchmarks/yfcc4k/yfcc4k/yfcc4k/4076300060.jpg  \n",
            "  inflating: /content/llms-for-image-geolocation-benchmarks/yfcc4k/yfcc4k/yfcc4k/4080266973.jpg  \n",
            "  inflating: /content/llms-for-image-geolocation-benchmarks/yfcc4k/yfcc4k/yfcc4k/4083638870.jpg  \n",
            "  inflating: /content/llms-for-image-geolocation-benchmarks/yfcc4k/yfcc4k/yfcc4k/4088653379.jpg  \n",
            "  inflating: /content/llms-for-image-geolocation-benchmarks/yfcc4k/yfcc4k/yfcc4k/408996966.jpg  \n",
            "  inflating: /content/llms-for-image-geolocation-benchmarks/yfcc4k/yfcc4k/yfcc4k/4090135598.jpg  \n",
            "  inflating: /content/llms-for-image-geolocation-benchmarks/yfcc4k/yfcc4k/yfcc4k/409784755.jpg  \n",
            "  inflating: /content/llms-for-image-geolocation-benchmarks/yfcc4k/yfcc4k/yfcc4k/4099536913.jpg  \n",
            "  inflating: /content/llms-for-image-geolocation-benchmarks/yfcc4k/yfcc4k/yfcc4k/4105314942.jpg  \n",
            "  inflating: /content/llms-for-image-geolocation-benchmarks/yfcc4k/yfcc4k/yfcc4k/4105384208.jpg  \n",
            "  inflating: /content/llms-for-image-geolocation-benchmarks/yfcc4k/yfcc4k/yfcc4k/4105691359.jpg  \n",
            "  inflating: /content/llms-for-image-geolocation-benchmarks/yfcc4k/yfcc4k/yfcc4k/4106927081.jpg  \n",
            "  inflating: /content/llms-for-image-geolocation-benchmarks/yfcc4k/yfcc4k/yfcc4k/4107026981.jpg  \n",
            "  inflating: /content/llms-for-image-geolocation-benchmarks/yfcc4k/yfcc4k/yfcc4k/4108588560.jpg  \n",
            "  inflating: /content/llms-for-image-geolocation-benchmarks/yfcc4k/yfcc4k/yfcc4k/4109710141.jpg  \n",
            "  inflating: /content/llms-for-image-geolocation-benchmarks/yfcc4k/yfcc4k/yfcc4k/4113842097.jpg  \n",
            "  inflating: /content/llms-for-image-geolocation-benchmarks/yfcc4k/yfcc4k/yfcc4k/4116063624.jpg  \n",
            "  inflating: /content/llms-for-image-geolocation-benchmarks/yfcc4k/yfcc4k/yfcc4k/4121599937.jpg  \n",
            "  inflating: /content/llms-for-image-geolocation-benchmarks/yfcc4k/yfcc4k/yfcc4k/4125080709.jpg  \n",
            "  inflating: /content/llms-for-image-geolocation-benchmarks/yfcc4k/yfcc4k/yfcc4k/4126228661.jpg  \n",
            "  inflating: /content/llms-for-image-geolocation-benchmarks/yfcc4k/yfcc4k/yfcc4k/4127110798.jpg  \n",
            "  inflating: /content/llms-for-image-geolocation-benchmarks/yfcc4k/yfcc4k/yfcc4k/4128397065.jpg  \n",
            "  inflating: /content/llms-for-image-geolocation-benchmarks/yfcc4k/yfcc4k/yfcc4k/4130047722.jpg  \n",
            "  inflating: /content/llms-for-image-geolocation-benchmarks/yfcc4k/yfcc4k/yfcc4k/4132067042.jpg  \n",
            "  inflating: /content/llms-for-image-geolocation-benchmarks/yfcc4k/yfcc4k/yfcc4k/4132303953.jpg  \n",
            "  inflating: /content/llms-for-image-geolocation-benchmarks/yfcc4k/yfcc4k/yfcc4k/4132612622.jpg  \n",
            "  inflating: /content/llms-for-image-geolocation-benchmarks/yfcc4k/yfcc4k/yfcc4k/4134663298.jpg  \n",
            "  inflating: /content/llms-for-image-geolocation-benchmarks/yfcc4k/yfcc4k/yfcc4k/4137358711.jpg  \n",
            "  inflating: /content/llms-for-image-geolocation-benchmarks/yfcc4k/yfcc4k/yfcc4k/4138415776.jpg  \n",
            "  inflating: /content/llms-for-image-geolocation-benchmarks/yfcc4k/yfcc4k/yfcc4k/4139865201.jpg  \n",
            "  inflating: /content/llms-for-image-geolocation-benchmarks/yfcc4k/yfcc4k/yfcc4k/4140252657.jpg  \n",
            "  inflating: /content/llms-for-image-geolocation-benchmarks/yfcc4k/yfcc4k/yfcc4k/4141682403.jpg  \n",
            "  inflating: /content/llms-for-image-geolocation-benchmarks/yfcc4k/yfcc4k/yfcc4k/4145266303.jpg  \n",
            "  inflating: /content/llms-for-image-geolocation-benchmarks/yfcc4k/yfcc4k/yfcc4k/4145607135.jpg  \n",
            "  inflating: /content/llms-for-image-geolocation-benchmarks/yfcc4k/yfcc4k/yfcc4k/4146193002.jpg  \n",
            "  inflating: /content/llms-for-image-geolocation-benchmarks/yfcc4k/yfcc4k/yfcc4k/4146999366.jpg  \n",
            "  inflating: /content/llms-for-image-geolocation-benchmarks/yfcc4k/yfcc4k/yfcc4k/4151523612.jpg  \n",
            "  inflating: /content/llms-for-image-geolocation-benchmarks/yfcc4k/yfcc4k/yfcc4k/4152380936.jpg  \n",
            "  inflating: /content/llms-for-image-geolocation-benchmarks/yfcc4k/yfcc4k/yfcc4k/4155598182.jpg  \n",
            "  inflating: /content/llms-for-image-geolocation-benchmarks/yfcc4k/yfcc4k/yfcc4k/4159967199.jpg  \n",
            "  inflating: /content/llms-for-image-geolocation-benchmarks/yfcc4k/yfcc4k/yfcc4k/4164256906.jpg  \n",
            "  inflating: /content/llms-for-image-geolocation-benchmarks/yfcc4k/yfcc4k/yfcc4k/4166381995.jpg  \n",
            "  inflating: /content/llms-for-image-geolocation-benchmarks/yfcc4k/yfcc4k/yfcc4k/4167131073.jpg  \n",
            "  inflating: /content/llms-for-image-geolocation-benchmarks/yfcc4k/yfcc4k/yfcc4k/41673772.jpg  \n",
            "  inflating: /content/llms-for-image-geolocation-benchmarks/yfcc4k/yfcc4k/yfcc4k/4168061777.jpg  \n",
            "  inflating: /content/llms-for-image-geolocation-benchmarks/yfcc4k/yfcc4k/yfcc4k/4174044532.jpg  \n",
            "  inflating: /content/llms-for-image-geolocation-benchmarks/yfcc4k/yfcc4k/yfcc4k/417572119.jpg  \n",
            "  inflating: /content/llms-for-image-geolocation-benchmarks/yfcc4k/yfcc4k/yfcc4k/4176333363.jpg  \n",
            "  inflating: /content/llms-for-image-geolocation-benchmarks/yfcc4k/yfcc4k/yfcc4k/4182389236.jpg  \n",
            "  inflating: /content/llms-for-image-geolocation-benchmarks/yfcc4k/yfcc4k/yfcc4k/4185305840.jpg  \n",
            "  inflating: /content/llms-for-image-geolocation-benchmarks/yfcc4k/yfcc4k/yfcc4k/4185379610.jpg  \n",
            "  inflating: /content/llms-for-image-geolocation-benchmarks/yfcc4k/yfcc4k/yfcc4k/4186384966.jpg  \n",
            "  inflating: /content/llms-for-image-geolocation-benchmarks/yfcc4k/yfcc4k/yfcc4k/4186510541.jpg  \n",
            "  inflating: /content/llms-for-image-geolocation-benchmarks/yfcc4k/yfcc4k/yfcc4k/4191055624.jpg  \n",
            "  inflating: /content/llms-for-image-geolocation-benchmarks/yfcc4k/yfcc4k/yfcc4k/4191450369.jpg  \n",
            "  inflating: /content/llms-for-image-geolocation-benchmarks/yfcc4k/yfcc4k/yfcc4k/4192860445.jpg  \n",
            "  inflating: /content/llms-for-image-geolocation-benchmarks/yfcc4k/yfcc4k/yfcc4k/4193878004.jpg  \n",
            "  inflating: /content/llms-for-image-geolocation-benchmarks/yfcc4k/yfcc4k/yfcc4k/4196816100.jpg  \n",
            "  inflating: /content/llms-for-image-geolocation-benchmarks/yfcc4k/yfcc4k/yfcc4k/4199993946.jpg  \n",
            "  inflating: /content/llms-for-image-geolocation-benchmarks/yfcc4k/yfcc4k/yfcc4k/4202902741.jpg  \n",
            "  inflating: /content/llms-for-image-geolocation-benchmarks/yfcc4k/yfcc4k/yfcc4k/4206140172.jpg  \n",
            "  inflating: /content/llms-for-image-geolocation-benchmarks/yfcc4k/yfcc4k/yfcc4k/4207027713.jpg  \n",
            "  inflating: /content/llms-for-image-geolocation-benchmarks/yfcc4k/yfcc4k/yfcc4k/420704284.jpg  \n",
            "  inflating: /content/llms-for-image-geolocation-benchmarks/yfcc4k/yfcc4k/yfcc4k/4207890164.jpg  \n",
            "  inflating: /content/llms-for-image-geolocation-benchmarks/yfcc4k/yfcc4k/yfcc4k/4213601571.jpg  \n",
            "  inflating: /content/llms-for-image-geolocation-benchmarks/yfcc4k/yfcc4k/yfcc4k/4217997828.jpg  \n",
            "  inflating: /content/llms-for-image-geolocation-benchmarks/yfcc4k/yfcc4k/yfcc4k/4219257518.jpg  \n",
            "  inflating: /content/llms-for-image-geolocation-benchmarks/yfcc4k/yfcc4k/yfcc4k/4223650712.jpg  \n",
            "  inflating: /content/llms-for-image-geolocation-benchmarks/yfcc4k/yfcc4k/yfcc4k/4224177264.jpg  \n",
            "  inflating: /content/llms-for-image-geolocation-benchmarks/yfcc4k/yfcc4k/yfcc4k/4230543596.jpg  \n",
            "  inflating: /content/llms-for-image-geolocation-benchmarks/yfcc4k/yfcc4k/yfcc4k/4232309518.jpg  \n",
            "  inflating: /content/llms-for-image-geolocation-benchmarks/yfcc4k/yfcc4k/yfcc4k/4232357772.jpg  \n",
            "  inflating: /content/llms-for-image-geolocation-benchmarks/yfcc4k/yfcc4k/yfcc4k/4233738131.jpg  \n",
            "  inflating: /content/llms-for-image-geolocation-benchmarks/yfcc4k/yfcc4k/yfcc4k/4236605634.jpg  \n",
            "  inflating: /content/llms-for-image-geolocation-benchmarks/yfcc4k/yfcc4k/yfcc4k/4237422247.jpg  \n",
            "  inflating: /content/llms-for-image-geolocation-benchmarks/yfcc4k/yfcc4k/yfcc4k/4241431024.jpg  \n",
            "  inflating: /content/llms-for-image-geolocation-benchmarks/yfcc4k/yfcc4k/yfcc4k/4243412747.jpg  \n",
            "  inflating: /content/llms-for-image-geolocation-benchmarks/yfcc4k/yfcc4k/yfcc4k/4243787770.jpg  \n",
            "  inflating: /content/llms-for-image-geolocation-benchmarks/yfcc4k/yfcc4k/yfcc4k/4245584840.jpg  \n",
            "  inflating: /content/llms-for-image-geolocation-benchmarks/yfcc4k/yfcc4k/yfcc4k/4254344219.jpg  \n",
            "  inflating: /content/llms-for-image-geolocation-benchmarks/yfcc4k/yfcc4k/yfcc4k/425587126.jpg  \n",
            "  inflating: /content/llms-for-image-geolocation-benchmarks/yfcc4k/yfcc4k/yfcc4k/4256011759.jpg  \n",
            "  inflating: /content/llms-for-image-geolocation-benchmarks/yfcc4k/yfcc4k/yfcc4k/4256300163.jpg  \n",
            "  inflating: /content/llms-for-image-geolocation-benchmarks/yfcc4k/yfcc4k/yfcc4k/4256363529.jpg  \n",
            "  inflating: /content/llms-for-image-geolocation-benchmarks/yfcc4k/yfcc4k/yfcc4k/4257858293.jpg  \n",
            "  inflating: /content/llms-for-image-geolocation-benchmarks/yfcc4k/yfcc4k/yfcc4k/4260026703.jpg  \n",
            "  inflating: /content/llms-for-image-geolocation-benchmarks/yfcc4k/yfcc4k/yfcc4k/4260128859.jpg  \n",
            "  inflating: /content/llms-for-image-geolocation-benchmarks/yfcc4k/yfcc4k/yfcc4k/4260532717.jpg  \n",
            "  inflating: /content/llms-for-image-geolocation-benchmarks/yfcc4k/yfcc4k/yfcc4k/4262121927.jpg  \n",
            "  inflating: /content/llms-for-image-geolocation-benchmarks/yfcc4k/yfcc4k/yfcc4k/4262376245.jpg  \n",
            "  inflating: /content/llms-for-image-geolocation-benchmarks/yfcc4k/yfcc4k/yfcc4k/4263979537.jpg  \n",
            "  inflating: /content/llms-for-image-geolocation-benchmarks/yfcc4k/yfcc4k/yfcc4k/4264117841.jpg  \n",
            "  inflating: /content/llms-for-image-geolocation-benchmarks/yfcc4k/yfcc4k/yfcc4k/4267245089.jpg  \n",
            "  inflating: /content/llms-for-image-geolocation-benchmarks/yfcc4k/yfcc4k/yfcc4k/4268610979.jpg  \n",
            "  inflating: /content/llms-for-image-geolocation-benchmarks/yfcc4k/yfcc4k/yfcc4k/4268854270.jpg  \n",
            "  inflating: /content/llms-for-image-geolocation-benchmarks/yfcc4k/yfcc4k/yfcc4k/4272303739.jpg  \n",
            "  inflating: /content/llms-for-image-geolocation-benchmarks/yfcc4k/yfcc4k/yfcc4k/4272534635.jpg  \n",
            "  inflating: /content/llms-for-image-geolocation-benchmarks/yfcc4k/yfcc4k/yfcc4k/4272656756.jpg  \n",
            "  inflating: /content/llms-for-image-geolocation-benchmarks/yfcc4k/yfcc4k/yfcc4k/4273195030.jpg  \n",
            "  inflating: /content/llms-for-image-geolocation-benchmarks/yfcc4k/yfcc4k/yfcc4k/4279136766.jpg  \n",
            "  inflating: /content/llms-for-image-geolocation-benchmarks/yfcc4k/yfcc4k/yfcc4k/4281591620.jpg  \n",
            "  inflating: /content/llms-for-image-geolocation-benchmarks/yfcc4k/yfcc4k/yfcc4k/4294343789.jpg  \n",
            "  inflating: /content/llms-for-image-geolocation-benchmarks/yfcc4k/yfcc4k/yfcc4k/4295051871.jpg  \n",
            "  inflating: /content/llms-for-image-geolocation-benchmarks/yfcc4k/yfcc4k/yfcc4k/4295747985.jpg  \n",
            "  inflating: /content/llms-for-image-geolocation-benchmarks/yfcc4k/yfcc4k/yfcc4k/4298451284.jpg  \n",
            "  inflating: /content/llms-for-image-geolocation-benchmarks/yfcc4k/yfcc4k/yfcc4k/4299227016.jpg  \n",
            "  inflating: /content/llms-for-image-geolocation-benchmarks/yfcc4k/yfcc4k/yfcc4k/4300098998.jpg  \n",
            "  inflating: /content/llms-for-image-geolocation-benchmarks/yfcc4k/yfcc4k/yfcc4k/4300565477.jpg  \n",
            "  inflating: /content/llms-for-image-geolocation-benchmarks/yfcc4k/yfcc4k/yfcc4k/4303841732.jpg  \n",
            "  inflating: /content/llms-for-image-geolocation-benchmarks/yfcc4k/yfcc4k/yfcc4k/4311844877.jpg  \n",
            "  inflating: /content/llms-for-image-geolocation-benchmarks/yfcc4k/yfcc4k/yfcc4k/4312402226.jpg  \n",
            "  inflating: /content/llms-for-image-geolocation-benchmarks/yfcc4k/yfcc4k/yfcc4k/4312945755.jpg  \n",
            "  inflating: /content/llms-for-image-geolocation-benchmarks/yfcc4k/yfcc4k/yfcc4k/4315580617.jpg  \n",
            "  inflating: /content/llms-for-image-geolocation-benchmarks/yfcc4k/yfcc4k/yfcc4k/4315605506.jpg  \n",
            "  inflating: /content/llms-for-image-geolocation-benchmarks/yfcc4k/yfcc4k/yfcc4k/4316065688.jpg  \n",
            "  inflating: /content/llms-for-image-geolocation-benchmarks/yfcc4k/yfcc4k/yfcc4k/4322845952.jpg  \n",
            "  inflating: /content/llms-for-image-geolocation-benchmarks/yfcc4k/yfcc4k/yfcc4k/4324437747.jpg  \n",
            "  inflating: /content/llms-for-image-geolocation-benchmarks/yfcc4k/yfcc4k/yfcc4k/4325565406.jpg  \n",
            "  inflating: /content/llms-for-image-geolocation-benchmarks/yfcc4k/yfcc4k/yfcc4k/4330344660.jpg  \n",
            "  inflating: /content/llms-for-image-geolocation-benchmarks/yfcc4k/yfcc4k/yfcc4k/4332362502.jpg  \n",
            "  inflating: /content/llms-for-image-geolocation-benchmarks/yfcc4k/yfcc4k/yfcc4k/4333169643.jpg  \n",
            "  inflating: /content/llms-for-image-geolocation-benchmarks/yfcc4k/yfcc4k/yfcc4k/4333959296.jpg  \n",
            "  inflating: /content/llms-for-image-geolocation-benchmarks/yfcc4k/yfcc4k/yfcc4k/4336943896.jpg  \n",
            "  inflating: /content/llms-for-image-geolocation-benchmarks/yfcc4k/yfcc4k/yfcc4k/4338185170.jpg  \n",
            "  inflating: /content/llms-for-image-geolocation-benchmarks/yfcc4k/yfcc4k/yfcc4k/4338770177.jpg  \n",
            "  inflating: /content/llms-for-image-geolocation-benchmarks/yfcc4k/yfcc4k/yfcc4k/4338811130.jpg  \n",
            "  inflating: /content/llms-for-image-geolocation-benchmarks/yfcc4k/yfcc4k/yfcc4k/4338876672.jpg  \n",
            "  inflating: /content/llms-for-image-geolocation-benchmarks/yfcc4k/yfcc4k/yfcc4k/4343797961.jpg  \n",
            "  inflating: /content/llms-for-image-geolocation-benchmarks/yfcc4k/yfcc4k/yfcc4k/4349295488.jpg  \n",
            "  inflating: /content/llms-for-image-geolocation-benchmarks/yfcc4k/yfcc4k/yfcc4k/4350999447.jpg  \n",
            "  inflating: /content/llms-for-image-geolocation-benchmarks/yfcc4k/yfcc4k/yfcc4k/4352727903.jpg  \n",
            "  inflating: /content/llms-for-image-geolocation-benchmarks/yfcc4k/yfcc4k/yfcc4k/435437464.jpg  \n",
            "  inflating: /content/llms-for-image-geolocation-benchmarks/yfcc4k/yfcc4k/yfcc4k/4356979591.jpg  \n",
            "  inflating: /content/llms-for-image-geolocation-benchmarks/yfcc4k/yfcc4k/yfcc4k/4357605756.jpg  \n",
            "  inflating: /content/llms-for-image-geolocation-benchmarks/yfcc4k/yfcc4k/yfcc4k/4366063513.jpg  \n",
            "  inflating: /content/llms-for-image-geolocation-benchmarks/yfcc4k/yfcc4k/yfcc4k/4366605523.jpg  \n",
            "  inflating: /content/llms-for-image-geolocation-benchmarks/yfcc4k/yfcc4k/yfcc4k/4372369727.jpg  \n",
            "  inflating: /content/llms-for-image-geolocation-benchmarks/yfcc4k/yfcc4k/yfcc4k/4373767878.jpg  \n",
            "  inflating: /content/llms-for-image-geolocation-benchmarks/yfcc4k/yfcc4k/yfcc4k/4376279820.jpg  \n",
            "  inflating: /content/llms-for-image-geolocation-benchmarks/yfcc4k/yfcc4k/yfcc4k/4377349075.jpg  \n",
            "  inflating: /content/llms-for-image-geolocation-benchmarks/yfcc4k/yfcc4k/yfcc4k/4378012050.jpg  \n",
            "  inflating: /content/llms-for-image-geolocation-benchmarks/yfcc4k/yfcc4k/yfcc4k/4380066734.jpg  \n",
            "  inflating: /content/llms-for-image-geolocation-benchmarks/yfcc4k/yfcc4k/yfcc4k/438024129.jpg  \n",
            "  inflating: /content/llms-for-image-geolocation-benchmarks/yfcc4k/yfcc4k/yfcc4k/4387938491.jpg  \n",
            "  inflating: /content/llms-for-image-geolocation-benchmarks/yfcc4k/yfcc4k/yfcc4k/4389551546.jpg  \n",
            "  inflating: /content/llms-for-image-geolocation-benchmarks/yfcc4k/yfcc4k/yfcc4k/4389975333.jpg  \n",
            "  inflating: /content/llms-for-image-geolocation-benchmarks/yfcc4k/yfcc4k/yfcc4k/4390025556.jpg  \n",
            "  inflating: /content/llms-for-image-geolocation-benchmarks/yfcc4k/yfcc4k/yfcc4k/4390873396.jpg  \n",
            "  inflating: /content/llms-for-image-geolocation-benchmarks/yfcc4k/yfcc4k/yfcc4k/4392679032.jpg  \n",
            "  inflating: /content/llms-for-image-geolocation-benchmarks/yfcc4k/yfcc4k/yfcc4k/4393195326.jpg  \n",
            "  inflating: /content/llms-for-image-geolocation-benchmarks/yfcc4k/yfcc4k/yfcc4k/4394347126.jpg  \n",
            "  inflating: /content/llms-for-image-geolocation-benchmarks/yfcc4k/yfcc4k/yfcc4k/4397112488.jpg  \n",
            "  inflating: /content/llms-for-image-geolocation-benchmarks/yfcc4k/yfcc4k/yfcc4k/4399539166.jpg  \n",
            "  inflating: /content/llms-for-image-geolocation-benchmarks/yfcc4k/yfcc4k/yfcc4k/4401492575.jpg  \n",
            "  inflating: /content/llms-for-image-geolocation-benchmarks/yfcc4k/yfcc4k/yfcc4k/4406031067.jpg  \n",
            "  inflating: /content/llms-for-image-geolocation-benchmarks/yfcc4k/yfcc4k/yfcc4k/4409985788.jpg  \n",
            "  inflating: /content/llms-for-image-geolocation-benchmarks/yfcc4k/yfcc4k/yfcc4k/4411308499.jpg  \n",
            "  inflating: /content/llms-for-image-geolocation-benchmarks/yfcc4k/yfcc4k/yfcc4k/4414381524.jpg  \n",
            "  inflating: /content/llms-for-image-geolocation-benchmarks/yfcc4k/yfcc4k/yfcc4k/441603053.jpg  \n",
            "  inflating: /content/llms-for-image-geolocation-benchmarks/yfcc4k/yfcc4k/yfcc4k/4417859336.jpg  \n",
            "  inflating: /content/llms-for-image-geolocation-benchmarks/yfcc4k/yfcc4k/yfcc4k/4422966952.jpg  \n",
            "  inflating: /content/llms-for-image-geolocation-benchmarks/yfcc4k/yfcc4k/yfcc4k/4423605048.jpg  \n",
            "  inflating: /content/llms-for-image-geolocation-benchmarks/yfcc4k/yfcc4k/yfcc4k/4423784708.jpg  \n",
            "  inflating: /content/llms-for-image-geolocation-benchmarks/yfcc4k/yfcc4k/yfcc4k/4431170095.jpg  \n",
            "  inflating: /content/llms-for-image-geolocation-benchmarks/yfcc4k/yfcc4k/yfcc4k/4432020625.jpg  \n",
            "  inflating: /content/llms-for-image-geolocation-benchmarks/yfcc4k/yfcc4k/yfcc4k/4432365973.jpg  \n",
            "  inflating: /content/llms-for-image-geolocation-benchmarks/yfcc4k/yfcc4k/yfcc4k/4436578151.jpg  \n",
            "  inflating: /content/llms-for-image-geolocation-benchmarks/yfcc4k/yfcc4k/yfcc4k/4437598233.jpg  \n",
            "  inflating: /content/llms-for-image-geolocation-benchmarks/yfcc4k/yfcc4k/yfcc4k/4441179970.jpg  \n",
            "  inflating: /content/llms-for-image-geolocation-benchmarks/yfcc4k/yfcc4k/yfcc4k/4442459079.jpg  \n",
            "  inflating: /content/llms-for-image-geolocation-benchmarks/yfcc4k/yfcc4k/yfcc4k/4442527364.jpg  \n",
            "  inflating: /content/llms-for-image-geolocation-benchmarks/yfcc4k/yfcc4k/yfcc4k/4442893075.jpg  \n",
            "  inflating: /content/llms-for-image-geolocation-benchmarks/yfcc4k/yfcc4k/yfcc4k/4443266826.jpg  \n",
            "  inflating: /content/llms-for-image-geolocation-benchmarks/yfcc4k/yfcc4k/yfcc4k/4444896294.jpg  \n",
            "  inflating: /content/llms-for-image-geolocation-benchmarks/yfcc4k/yfcc4k/yfcc4k/4445018322.jpg  \n",
            "  inflating: /content/llms-for-image-geolocation-benchmarks/yfcc4k/yfcc4k/yfcc4k/444515678.jpg  \n",
            "  inflating: /content/llms-for-image-geolocation-benchmarks/yfcc4k/yfcc4k/yfcc4k/4448114504.jpg  \n",
            "  inflating: /content/llms-for-image-geolocation-benchmarks/yfcc4k/yfcc4k/yfcc4k/4449171413.jpg  \n",
            "  inflating: /content/llms-for-image-geolocation-benchmarks/yfcc4k/yfcc4k/yfcc4k/4449326771.jpg  \n",
            "  inflating: /content/llms-for-image-geolocation-benchmarks/yfcc4k/yfcc4k/yfcc4k/4449371004.jpg  \n",
            "  inflating: /content/llms-for-image-geolocation-benchmarks/yfcc4k/yfcc4k/yfcc4k/4449491855.jpg  \n",
            "  inflating: /content/llms-for-image-geolocation-benchmarks/yfcc4k/yfcc4k/yfcc4k/4449821224.jpg  \n",
            "  inflating: /content/llms-for-image-geolocation-benchmarks/yfcc4k/yfcc4k/yfcc4k/4451242329.jpg  \n",
            "  inflating: /content/llms-for-image-geolocation-benchmarks/yfcc4k/yfcc4k/yfcc4k/4453499249.jpg  \n",
            "  inflating: /content/llms-for-image-geolocation-benchmarks/yfcc4k/yfcc4k/yfcc4k/4454028627.jpg  \n",
            "  inflating: /content/llms-for-image-geolocation-benchmarks/yfcc4k/yfcc4k/yfcc4k/4456137580.jpg  \n",
            "  inflating: /content/llms-for-image-geolocation-benchmarks/yfcc4k/yfcc4k/yfcc4k/4456325971.jpg  \n",
            "  inflating: /content/llms-for-image-geolocation-benchmarks/yfcc4k/yfcc4k/yfcc4k/4458034972.jpg  \n",
            "  inflating: /content/llms-for-image-geolocation-benchmarks/yfcc4k/yfcc4k/yfcc4k/4458624782.jpg  \n",
            "  inflating: /content/llms-for-image-geolocation-benchmarks/yfcc4k/yfcc4k/yfcc4k/4461276733.jpg  \n",
            "  inflating: /content/llms-for-image-geolocation-benchmarks/yfcc4k/yfcc4k/yfcc4k/4461533010.jpg  \n",
            "  inflating: /content/llms-for-image-geolocation-benchmarks/yfcc4k/yfcc4k/yfcc4k/4462488946.jpg  \n",
            "  inflating: /content/llms-for-image-geolocation-benchmarks/yfcc4k/yfcc4k/yfcc4k/4463983504.jpg  \n",
            "  inflating: /content/llms-for-image-geolocation-benchmarks/yfcc4k/yfcc4k/yfcc4k/4464845529.jpg  \n",
            "  inflating: /content/llms-for-image-geolocation-benchmarks/yfcc4k/yfcc4k/yfcc4k/4466131929.jpg  \n",
            "  inflating: /content/llms-for-image-geolocation-benchmarks/yfcc4k/yfcc4k/yfcc4k/4466603191.jpg  \n",
            "  inflating: /content/llms-for-image-geolocation-benchmarks/yfcc4k/yfcc4k/yfcc4k/4469543180.jpg  \n",
            "  inflating: /content/llms-for-image-geolocation-benchmarks/yfcc4k/yfcc4k/yfcc4k/4470252069.jpg  \n",
            "  inflating: /content/llms-for-image-geolocation-benchmarks/yfcc4k/yfcc4k/yfcc4k/4470682109.jpg  \n",
            "  inflating: /content/llms-for-image-geolocation-benchmarks/yfcc4k/yfcc4k/yfcc4k/4473417921.jpg  \n",
            "  inflating: /content/llms-for-image-geolocation-benchmarks/yfcc4k/yfcc4k/yfcc4k/4473767460.jpg  \n",
            "  inflating: /content/llms-for-image-geolocation-benchmarks/yfcc4k/yfcc4k/yfcc4k/4475575344.jpg  \n",
            "  inflating: /content/llms-for-image-geolocation-benchmarks/yfcc4k/yfcc4k/yfcc4k/4476898144.jpg  \n",
            "  inflating: /content/llms-for-image-geolocation-benchmarks/yfcc4k/yfcc4k/yfcc4k/4479874957.jpg  \n",
            "  inflating: /content/llms-for-image-geolocation-benchmarks/yfcc4k/yfcc4k/yfcc4k/4482942666.jpg  \n",
            "  inflating: /content/llms-for-image-geolocation-benchmarks/yfcc4k/yfcc4k/yfcc4k/4487159570.jpg  \n",
            "  inflating: /content/llms-for-image-geolocation-benchmarks/yfcc4k/yfcc4k/yfcc4k/4492277947.jpg  \n",
            "  inflating: /content/llms-for-image-geolocation-benchmarks/yfcc4k/yfcc4k/yfcc4k/4492520519.jpg  \n",
            "  inflating: /content/llms-for-image-geolocation-benchmarks/yfcc4k/yfcc4k/yfcc4k/4494878768.jpg  \n",
            "  inflating: /content/llms-for-image-geolocation-benchmarks/yfcc4k/yfcc4k/yfcc4k/4501614453.jpg  \n",
            "  inflating: /content/llms-for-image-geolocation-benchmarks/yfcc4k/yfcc4k/yfcc4k/4504277127.jpg  \n",
            "  inflating: /content/llms-for-image-geolocation-benchmarks/yfcc4k/yfcc4k/yfcc4k/4508049668.jpg  \n",
            "  inflating: /content/llms-for-image-geolocation-benchmarks/yfcc4k/yfcc4k/yfcc4k/4508077458.jpg  \n",
            "  inflating: /content/llms-for-image-geolocation-benchmarks/yfcc4k/yfcc4k/yfcc4k/4509567625.jpg  \n",
            "  inflating: /content/llms-for-image-geolocation-benchmarks/yfcc4k/yfcc4k/yfcc4k/4510711346.jpg  \n",
            "  inflating: /content/llms-for-image-geolocation-benchmarks/yfcc4k/yfcc4k/yfcc4k/4513743574.jpg  \n",
            "  inflating: /content/llms-for-image-geolocation-benchmarks/yfcc4k/yfcc4k/yfcc4k/4514110401.jpg  \n",
            "  inflating: /content/llms-for-image-geolocation-benchmarks/yfcc4k/yfcc4k/yfcc4k/4514909176.jpg  \n",
            "  inflating: /content/llms-for-image-geolocation-benchmarks/yfcc4k/yfcc4k/yfcc4k/4514979499.jpg  \n",
            "  inflating: /content/llms-for-image-geolocation-benchmarks/yfcc4k/yfcc4k/yfcc4k/4521822057.jpg  \n",
            "  inflating: /content/llms-for-image-geolocation-benchmarks/yfcc4k/yfcc4k/yfcc4k/4523515621.jpg  \n",
            "  inflating: /content/llms-for-image-geolocation-benchmarks/yfcc4k/yfcc4k/yfcc4k/4524139349.jpg  \n",
            "  inflating: /content/llms-for-image-geolocation-benchmarks/yfcc4k/yfcc4k/yfcc4k/4524815629.jpg  \n",
            "  inflating: /content/llms-for-image-geolocation-benchmarks/yfcc4k/yfcc4k/yfcc4k/4524873811.jpg  \n",
            "  inflating: /content/llms-for-image-geolocation-benchmarks/yfcc4k/yfcc4k/yfcc4k/4525874253.jpg  \n",
            "  inflating: /content/llms-for-image-geolocation-benchmarks/yfcc4k/yfcc4k/yfcc4k/4526305333.jpg  \n",
            "  inflating: /content/llms-for-image-geolocation-benchmarks/yfcc4k/yfcc4k/yfcc4k/4527364321.jpg  \n",
            "  inflating: /content/llms-for-image-geolocation-benchmarks/yfcc4k/yfcc4k/yfcc4k/4529830482.jpg  \n",
            "  inflating: /content/llms-for-image-geolocation-benchmarks/yfcc4k/yfcc4k/yfcc4k/4530919810.jpg  \n",
            "  inflating: /content/llms-for-image-geolocation-benchmarks/yfcc4k/yfcc4k/yfcc4k/4531015498.jpg  \n",
            "  inflating: /content/llms-for-image-geolocation-benchmarks/yfcc4k/yfcc4k/yfcc4k/4532907573.jpg  \n",
            "  inflating: /content/llms-for-image-geolocation-benchmarks/yfcc4k/yfcc4k/yfcc4k/4533053129.jpg  \n",
            "  inflating: /content/llms-for-image-geolocation-benchmarks/yfcc4k/yfcc4k/yfcc4k/4533064321.jpg  \n",
            "  inflating: /content/llms-for-image-geolocation-benchmarks/yfcc4k/yfcc4k/yfcc4k/4534817394.jpg  \n",
            "  inflating: /content/llms-for-image-geolocation-benchmarks/yfcc4k/yfcc4k/yfcc4k/4536427493.jpg  \n",
            "  inflating: /content/llms-for-image-geolocation-benchmarks/yfcc4k/yfcc4k/yfcc4k/4538918812.jpg  \n",
            "  inflating: /content/llms-for-image-geolocation-benchmarks/yfcc4k/yfcc4k/yfcc4k/4539501738.jpg  \n",
            "  inflating: /content/llms-for-image-geolocation-benchmarks/yfcc4k/yfcc4k/yfcc4k/4540214918.jpg  \n",
            "  inflating: /content/llms-for-image-geolocation-benchmarks/yfcc4k/yfcc4k/yfcc4k/4540552071.jpg  \n",
            "  inflating: /content/llms-for-image-geolocation-benchmarks/yfcc4k/yfcc4k/yfcc4k/4540565608.jpg  \n",
            "  inflating: /content/llms-for-image-geolocation-benchmarks/yfcc4k/yfcc4k/yfcc4k/4542118666.jpg  \n",
            "  inflating: /content/llms-for-image-geolocation-benchmarks/yfcc4k/yfcc4k/yfcc4k/4542915080.jpg  \n",
            "  inflating: /content/llms-for-image-geolocation-benchmarks/yfcc4k/yfcc4k/yfcc4k/4543042757.jpg  \n",
            "  inflating: /content/llms-for-image-geolocation-benchmarks/yfcc4k/yfcc4k/yfcc4k/4543358981.jpg  \n",
            "  inflating: /content/llms-for-image-geolocation-benchmarks/yfcc4k/yfcc4k/yfcc4k/45447623.jpg  \n",
            "  inflating: /content/llms-for-image-geolocation-benchmarks/yfcc4k/yfcc4k/yfcc4k/4548376924.jpg  \n",
            "  inflating: /content/llms-for-image-geolocation-benchmarks/yfcc4k/yfcc4k/yfcc4k/4548574744.jpg  \n",
            "  inflating: /content/llms-for-image-geolocation-benchmarks/yfcc4k/yfcc4k/yfcc4k/4550070560.jpg  \n",
            "  inflating: /content/llms-for-image-geolocation-benchmarks/yfcc4k/yfcc4k/yfcc4k/4553966075.jpg  \n",
            "  inflating: /content/llms-for-image-geolocation-benchmarks/yfcc4k/yfcc4k/yfcc4k/455403475.jpg  \n",
            "  inflating: /content/llms-for-image-geolocation-benchmarks/yfcc4k/yfcc4k/yfcc4k/4554853878.jpg  \n",
            "  inflating: /content/llms-for-image-geolocation-benchmarks/yfcc4k/yfcc4k/yfcc4k/4555227729.jpg  \n",
            "  inflating: /content/llms-for-image-geolocation-benchmarks/yfcc4k/yfcc4k/yfcc4k/4556029047.jpg  \n",
            "  inflating: /content/llms-for-image-geolocation-benchmarks/yfcc4k/yfcc4k/yfcc4k/4558917153.jpg  \n",
            "  inflating: /content/llms-for-image-geolocation-benchmarks/yfcc4k/yfcc4k/yfcc4k/4559013993.jpg  \n",
            "  inflating: /content/llms-for-image-geolocation-benchmarks/yfcc4k/yfcc4k/yfcc4k/4564848971.jpg  \n",
            "  inflating: /content/llms-for-image-geolocation-benchmarks/yfcc4k/yfcc4k/yfcc4k/4566202935.jpg  \n",
            "  inflating: /content/llms-for-image-geolocation-benchmarks/yfcc4k/yfcc4k/yfcc4k/4568371092.jpg  \n",
            "  inflating: /content/llms-for-image-geolocation-benchmarks/yfcc4k/yfcc4k/yfcc4k/4572998878.jpg  \n",
            "  inflating: /content/llms-for-image-geolocation-benchmarks/yfcc4k/yfcc4k/yfcc4k/4574501997.jpg  \n",
            "  inflating: /content/llms-for-image-geolocation-benchmarks/yfcc4k/yfcc4k/yfcc4k/4575331333.jpg  \n",
            "  inflating: /content/llms-for-image-geolocation-benchmarks/yfcc4k/yfcc4k/yfcc4k/4576406784.jpg  \n",
            "  inflating: /content/llms-for-image-geolocation-benchmarks/yfcc4k/yfcc4k/yfcc4k/457897555.jpg  \n",
            "  inflating: /content/llms-for-image-geolocation-benchmarks/yfcc4k/yfcc4k/yfcc4k/4581419127.jpg  \n",
            "  inflating: /content/llms-for-image-geolocation-benchmarks/yfcc4k/yfcc4k/yfcc4k/4582430040.jpg  \n",
            "  inflating: /content/llms-for-image-geolocation-benchmarks/yfcc4k/yfcc4k/yfcc4k/458253601.jpg  \n",
            "  inflating: /content/llms-for-image-geolocation-benchmarks/yfcc4k/yfcc4k/yfcc4k/4582978647.jpg  \n",
            "  inflating: /content/llms-for-image-geolocation-benchmarks/yfcc4k/yfcc4k/yfcc4k/4585535029.jpg  \n",
            "  inflating: /content/llms-for-image-geolocation-benchmarks/yfcc4k/yfcc4k/yfcc4k/4588649255.jpg  \n",
            "  inflating: /content/llms-for-image-geolocation-benchmarks/yfcc4k/yfcc4k/yfcc4k/4593427481.jpg  \n",
            "  inflating: /content/llms-for-image-geolocation-benchmarks/yfcc4k/yfcc4k/yfcc4k/4595464362.jpg  \n",
            "  inflating: /content/llms-for-image-geolocation-benchmarks/yfcc4k/yfcc4k/yfcc4k/4602688619.jpg  \n",
            "  inflating: /content/llms-for-image-geolocation-benchmarks/yfcc4k/yfcc4k/yfcc4k/460308752.jpg  \n",
            "  inflating: /content/llms-for-image-geolocation-benchmarks/yfcc4k/yfcc4k/yfcc4k/4604996281.jpg  \n",
            "  inflating: /content/llms-for-image-geolocation-benchmarks/yfcc4k/yfcc4k/yfcc4k/460819311.jpg  \n",
            "  inflating: /content/llms-for-image-geolocation-benchmarks/yfcc4k/yfcc4k/yfcc4k/4610589702.jpg  \n",
            "  inflating: /content/llms-for-image-geolocation-benchmarks/yfcc4k/yfcc4k/yfcc4k/4612929711.jpg  \n",
            "  inflating: /content/llms-for-image-geolocation-benchmarks/yfcc4k/yfcc4k/yfcc4k/4615321626.jpg  \n",
            "  inflating: /content/llms-for-image-geolocation-benchmarks/yfcc4k/yfcc4k/yfcc4k/4615776168.jpg  \n",
            "  inflating: /content/llms-for-image-geolocation-benchmarks/yfcc4k/yfcc4k/yfcc4k/4615821589.jpg  \n",
            "  inflating: /content/llms-for-image-geolocation-benchmarks/yfcc4k/yfcc4k/yfcc4k/461823910.jpg  \n",
            "  inflating: /content/llms-for-image-geolocation-benchmarks/yfcc4k/yfcc4k/yfcc4k/4618626157.jpg  \n",
            "  inflating: /content/llms-for-image-geolocation-benchmarks/yfcc4k/yfcc4k/yfcc4k/46212100.jpg  \n",
            "  inflating: /content/llms-for-image-geolocation-benchmarks/yfcc4k/yfcc4k/yfcc4k/4622677117.jpg  \n",
            "  inflating: /content/llms-for-image-geolocation-benchmarks/yfcc4k/yfcc4k/yfcc4k/4623113163.jpg  \n",
            "  inflating: /content/llms-for-image-geolocation-benchmarks/yfcc4k/yfcc4k/yfcc4k/4623314243.jpg  \n",
            "  inflating: /content/llms-for-image-geolocation-benchmarks/yfcc4k/yfcc4k/yfcc4k/4629292239.jpg  \n",
            "  inflating: /content/llms-for-image-geolocation-benchmarks/yfcc4k/yfcc4k/yfcc4k/4630237581.jpg  \n",
            "  inflating: /content/llms-for-image-geolocation-benchmarks/yfcc4k/yfcc4k/yfcc4k/4630414608.jpg  \n",
            "  inflating: /content/llms-for-image-geolocation-benchmarks/yfcc4k/yfcc4k/yfcc4k/4630828927.jpg  \n",
            "  inflating: /content/llms-for-image-geolocation-benchmarks/yfcc4k/yfcc4k/yfcc4k/4631267811.jpg  \n",
            "  inflating: /content/llms-for-image-geolocation-benchmarks/yfcc4k/yfcc4k/yfcc4k/463348928.jpg  \n",
            "  inflating: /content/llms-for-image-geolocation-benchmarks/yfcc4k/yfcc4k/yfcc4k/4633574973.jpg  \n",
            "  inflating: /content/llms-for-image-geolocation-benchmarks/yfcc4k/yfcc4k/yfcc4k/4634183435.jpg  \n",
            "  inflating: /content/llms-for-image-geolocation-benchmarks/yfcc4k/yfcc4k/yfcc4k/463607324.jpg  \n",
            "  inflating: /content/llms-for-image-geolocation-benchmarks/yfcc4k/yfcc4k/yfcc4k/4636587278.jpg  \n",
            "  inflating: /content/llms-for-image-geolocation-benchmarks/yfcc4k/yfcc4k/yfcc4k/4640084936.jpg  \n",
            "  inflating: /content/llms-for-image-geolocation-benchmarks/yfcc4k/yfcc4k/yfcc4k/4642020388.jpg  \n",
            "  inflating: /content/llms-for-image-geolocation-benchmarks/yfcc4k/yfcc4k/yfcc4k/4642199948.jpg  \n",
            "  inflating: /content/llms-for-image-geolocation-benchmarks/yfcc4k/yfcc4k/yfcc4k/4649365193.jpg  \n",
            "  inflating: /content/llms-for-image-geolocation-benchmarks/yfcc4k/yfcc4k/yfcc4k/4649838266.jpg  \n",
            "  inflating: /content/llms-for-image-geolocation-benchmarks/yfcc4k/yfcc4k/yfcc4k/4649954569.jpg  \n",
            "  inflating: /content/llms-for-image-geolocation-benchmarks/yfcc4k/yfcc4k/yfcc4k/4650143817.jpg  \n",
            "  inflating: /content/llms-for-image-geolocation-benchmarks/yfcc4k/yfcc4k/yfcc4k/4654689459.jpg  \n",
            "  inflating: /content/llms-for-image-geolocation-benchmarks/yfcc4k/yfcc4k/yfcc4k/4655775688.jpg  \n",
            "  inflating: /content/llms-for-image-geolocation-benchmarks/yfcc4k/yfcc4k/yfcc4k/4658047585.jpg  \n",
            "  inflating: /content/llms-for-image-geolocation-benchmarks/yfcc4k/yfcc4k/yfcc4k/4658213134.jpg  \n",
            "  inflating: /content/llms-for-image-geolocation-benchmarks/yfcc4k/yfcc4k/yfcc4k/4658223046.jpg  \n",
            "  inflating: /content/llms-for-image-geolocation-benchmarks/yfcc4k/yfcc4k/yfcc4k/4659612993.jpg  \n",
            "  inflating: /content/llms-for-image-geolocation-benchmarks/yfcc4k/yfcc4k/yfcc4k/4662476290.jpg  \n",
            "  inflating: /content/llms-for-image-geolocation-benchmarks/yfcc4k/yfcc4k/yfcc4k/4663564817.jpg  \n",
            "  inflating: /content/llms-for-image-geolocation-benchmarks/yfcc4k/yfcc4k/yfcc4k/4665584008.jpg  \n",
            "  inflating: /content/llms-for-image-geolocation-benchmarks/yfcc4k/yfcc4k/yfcc4k/4665996779.jpg  \n",
            "  inflating: /content/llms-for-image-geolocation-benchmarks/yfcc4k/yfcc4k/yfcc4k/4666397992.jpg  \n",
            "  inflating: /content/llms-for-image-geolocation-benchmarks/yfcc4k/yfcc4k/yfcc4k/4667183589.jpg  \n",
            "  inflating: /content/llms-for-image-geolocation-benchmarks/yfcc4k/yfcc4k/yfcc4k/4668397280.jpg  \n",
            "  inflating: /content/llms-for-image-geolocation-benchmarks/yfcc4k/yfcc4k/yfcc4k/4670788753.jpg  \n",
            "  inflating: /content/llms-for-image-geolocation-benchmarks/yfcc4k/yfcc4k/yfcc4k/4671759963.jpg  \n",
            "  inflating: /content/llms-for-image-geolocation-benchmarks/yfcc4k/yfcc4k/yfcc4k/4672989265.jpg  \n",
            "  inflating: /content/llms-for-image-geolocation-benchmarks/yfcc4k/yfcc4k/yfcc4k/4675105964.jpg  \n",
            "  inflating: /content/llms-for-image-geolocation-benchmarks/yfcc4k/yfcc4k/yfcc4k/4676268170.jpg  \n",
            "  inflating: /content/llms-for-image-geolocation-benchmarks/yfcc4k/yfcc4k/yfcc4k/4676930451.jpg  \n",
            "  inflating: /content/llms-for-image-geolocation-benchmarks/yfcc4k/yfcc4k/yfcc4k/4681315164.jpg  \n",
            "  inflating: /content/llms-for-image-geolocation-benchmarks/yfcc4k/yfcc4k/yfcc4k/4681441105.jpg  \n",
            "  inflating: /content/llms-for-image-geolocation-benchmarks/yfcc4k/yfcc4k/yfcc4k/4684204212.jpg  \n",
            "  inflating: /content/llms-for-image-geolocation-benchmarks/yfcc4k/yfcc4k/yfcc4k/4684825156.jpg  \n",
            "  inflating: /content/llms-for-image-geolocation-benchmarks/yfcc4k/yfcc4k/yfcc4k/4686307274.jpg  \n",
            "  inflating: /content/llms-for-image-geolocation-benchmarks/yfcc4k/yfcc4k/yfcc4k/4687018018.jpg  \n",
            "  inflating: /content/llms-for-image-geolocation-benchmarks/yfcc4k/yfcc4k/yfcc4k/4688632758.jpg  \n",
            "  inflating: /content/llms-for-image-geolocation-benchmarks/yfcc4k/yfcc4k/yfcc4k/468992590.jpg  \n",
            "  inflating: /content/llms-for-image-geolocation-benchmarks/yfcc4k/yfcc4k/yfcc4k/4689929266.jpg  \n",
            "  inflating: /content/llms-for-image-geolocation-benchmarks/yfcc4k/yfcc4k/yfcc4k/4691074315.jpg  \n",
            "  inflating: /content/llms-for-image-geolocation-benchmarks/yfcc4k/yfcc4k/yfcc4k/4691119089.jpg  \n",
            "  inflating: /content/llms-for-image-geolocation-benchmarks/yfcc4k/yfcc4k/yfcc4k/4693157623.jpg  \n",
            "  inflating: /content/llms-for-image-geolocation-benchmarks/yfcc4k/yfcc4k/yfcc4k/4693667877.jpg  \n",
            "  inflating: /content/llms-for-image-geolocation-benchmarks/yfcc4k/yfcc4k/yfcc4k/4698062015.jpg  \n",
            "  inflating: /content/llms-for-image-geolocation-benchmarks/yfcc4k/yfcc4k/yfcc4k/469822512.jpg  \n",
            "  inflating: /content/llms-for-image-geolocation-benchmarks/yfcc4k/yfcc4k/yfcc4k/4699006770.jpg  \n",
            "  inflating: /content/llms-for-image-geolocation-benchmarks/yfcc4k/yfcc4k/yfcc4k/4701854383.jpg  \n",
            "  inflating: /content/llms-for-image-geolocation-benchmarks/yfcc4k/yfcc4k/yfcc4k/4703145205.jpg  \n",
            "  inflating: /content/llms-for-image-geolocation-benchmarks/yfcc4k/yfcc4k/yfcc4k/4704273852.jpg  \n",
            "  inflating: /content/llms-for-image-geolocation-benchmarks/yfcc4k/yfcc4k/yfcc4k/4706720158.jpg  \n",
            "  inflating: /content/llms-for-image-geolocation-benchmarks/yfcc4k/yfcc4k/yfcc4k/4706783836.jpg  \n",
            "  inflating: /content/llms-for-image-geolocation-benchmarks/yfcc4k/yfcc4k/yfcc4k/4707213769.jpg  \n",
            "  inflating: /content/llms-for-image-geolocation-benchmarks/yfcc4k/yfcc4k/yfcc4k/4709750782.jpg  \n",
            "  inflating: /content/llms-for-image-geolocation-benchmarks/yfcc4k/yfcc4k/yfcc4k/4710501494.jpg  \n",
            "  inflating: /content/llms-for-image-geolocation-benchmarks/yfcc4k/yfcc4k/yfcc4k/4711947888.jpg  \n",
            "  inflating: /content/llms-for-image-geolocation-benchmarks/yfcc4k/yfcc4k/yfcc4k/4715695322.jpg  \n",
            "  inflating: /content/llms-for-image-geolocation-benchmarks/yfcc4k/yfcc4k/yfcc4k/4716134008.jpg  \n",
            "  inflating: /content/llms-for-image-geolocation-benchmarks/yfcc4k/yfcc4k/yfcc4k/4718871884.jpg  \n",
            "  inflating: /content/llms-for-image-geolocation-benchmarks/yfcc4k/yfcc4k/yfcc4k/4718925511.jpg  \n",
            "  inflating: /content/llms-for-image-geolocation-benchmarks/yfcc4k/yfcc4k/yfcc4k/4720616580.jpg  \n",
            "  inflating: /content/llms-for-image-geolocation-benchmarks/yfcc4k/yfcc4k/yfcc4k/4721790397.jpg  \n",
            "  inflating: /content/llms-for-image-geolocation-benchmarks/yfcc4k/yfcc4k/yfcc4k/4723760036.jpg  \n",
            "  inflating: /content/llms-for-image-geolocation-benchmarks/yfcc4k/yfcc4k/yfcc4k/4724098742.jpg  \n",
            "  inflating: /content/llms-for-image-geolocation-benchmarks/yfcc4k/yfcc4k/yfcc4k/4726231685.jpg  \n",
            "  inflating: /content/llms-for-image-geolocation-benchmarks/yfcc4k/yfcc4k/yfcc4k/4726301033.jpg  \n",
            "  inflating: /content/llms-for-image-geolocation-benchmarks/yfcc4k/yfcc4k/yfcc4k/4727450800.jpg  \n",
            "  inflating: /content/llms-for-image-geolocation-benchmarks/yfcc4k/yfcc4k/yfcc4k/4728661359.jpg  \n",
            "  inflating: /content/llms-for-image-geolocation-benchmarks/yfcc4k/yfcc4k/yfcc4k/4729538959.jpg  \n",
            "  inflating: /content/llms-for-image-geolocation-benchmarks/yfcc4k/yfcc4k/yfcc4k/4730920241.jpg  \n",
            "  inflating: /content/llms-for-image-geolocation-benchmarks/yfcc4k/yfcc4k/yfcc4k/4731078606.jpg  \n",
            "  inflating: /content/llms-for-image-geolocation-benchmarks/yfcc4k/yfcc4k/yfcc4k/4732310112.jpg  \n",
            "  inflating: /content/llms-for-image-geolocation-benchmarks/yfcc4k/yfcc4k/yfcc4k/4734927095.jpg  \n",
            "  inflating: /content/llms-for-image-geolocation-benchmarks/yfcc4k/yfcc4k/yfcc4k/4737205492.jpg  \n",
            "  inflating: /content/llms-for-image-geolocation-benchmarks/yfcc4k/yfcc4k/yfcc4k/4744139130.jpg  \n",
            "  inflating: /content/llms-for-image-geolocation-benchmarks/yfcc4k/yfcc4k/yfcc4k/4744754421.jpg  \n",
            "  inflating: /content/llms-for-image-geolocation-benchmarks/yfcc4k/yfcc4k/yfcc4k/474583496.jpg  \n",
            "  inflating: /content/llms-for-image-geolocation-benchmarks/yfcc4k/yfcc4k/yfcc4k/4747662584.jpg  \n",
            "  inflating: /content/llms-for-image-geolocation-benchmarks/yfcc4k/yfcc4k/yfcc4k/4748568275.jpg  \n",
            "  inflating: /content/llms-for-image-geolocation-benchmarks/yfcc4k/yfcc4k/yfcc4k/4750085557.jpg  \n",
            "  inflating: /content/llms-for-image-geolocation-benchmarks/yfcc4k/yfcc4k/yfcc4k/4750810381.jpg  \n",
            "  inflating: /content/llms-for-image-geolocation-benchmarks/yfcc4k/yfcc4k/yfcc4k/4751089046.jpg  \n",
            "  inflating: /content/llms-for-image-geolocation-benchmarks/yfcc4k/yfcc4k/yfcc4k/4752287397.jpg  \n",
            "  inflating: /content/llms-for-image-geolocation-benchmarks/yfcc4k/yfcc4k/yfcc4k/4752378690.jpg  \n",
            "  inflating: /content/llms-for-image-geolocation-benchmarks/yfcc4k/yfcc4k/yfcc4k/4758627670.jpg  \n",
            "  inflating: /content/llms-for-image-geolocation-benchmarks/yfcc4k/yfcc4k/yfcc4k/4759384524.jpg  \n",
            "  inflating: /content/llms-for-image-geolocation-benchmarks/yfcc4k/yfcc4k/yfcc4k/4760995689.jpg  \n",
            "  inflating: /content/llms-for-image-geolocation-benchmarks/yfcc4k/yfcc4k/yfcc4k/4761360192.jpg  \n",
            "  inflating: /content/llms-for-image-geolocation-benchmarks/yfcc4k/yfcc4k/yfcc4k/4761386379.jpg  \n",
            "  inflating: /content/llms-for-image-geolocation-benchmarks/yfcc4k/yfcc4k/yfcc4k/4763171705.jpg  \n",
            "  inflating: /content/llms-for-image-geolocation-benchmarks/yfcc4k/yfcc4k/yfcc4k/4767353129.jpg  \n",
            "  inflating: /content/llms-for-image-geolocation-benchmarks/yfcc4k/yfcc4k/yfcc4k/4767795645.jpg  \n",
            "  inflating: /content/llms-for-image-geolocation-benchmarks/yfcc4k/yfcc4k/yfcc4k/4769639096.jpg  \n",
            "  inflating: /content/llms-for-image-geolocation-benchmarks/yfcc4k/yfcc4k/yfcc4k/4769838137.jpg  \n",
            "  inflating: /content/llms-for-image-geolocation-benchmarks/yfcc4k/yfcc4k/yfcc4k/4771303231.jpg  \n",
            "  inflating: /content/llms-for-image-geolocation-benchmarks/yfcc4k/yfcc4k/yfcc4k/4771660768.jpg  \n",
            "  inflating: /content/llms-for-image-geolocation-benchmarks/yfcc4k/yfcc4k/yfcc4k/4772737107.jpg  \n",
            "  inflating: /content/llms-for-image-geolocation-benchmarks/yfcc4k/yfcc4k/yfcc4k/4775084167.jpg  \n",
            "  inflating: /content/llms-for-image-geolocation-benchmarks/yfcc4k/yfcc4k/yfcc4k/4775877504.jpg  \n",
            "  inflating: /content/llms-for-image-geolocation-benchmarks/yfcc4k/yfcc4k/yfcc4k/4778350400.jpg  \n",
            "  inflating: /content/llms-for-image-geolocation-benchmarks/yfcc4k/yfcc4k/yfcc4k/4778838283.jpg  \n",
            "  inflating: /content/llms-for-image-geolocation-benchmarks/yfcc4k/yfcc4k/yfcc4k/4780264522.jpg  \n",
            "  inflating: /content/llms-for-image-geolocation-benchmarks/yfcc4k/yfcc4k/yfcc4k/4781123502.jpg  \n",
            "  inflating: /content/llms-for-image-geolocation-benchmarks/yfcc4k/yfcc4k/yfcc4k/4783514973.jpg  \n",
            "  inflating: /content/llms-for-image-geolocation-benchmarks/yfcc4k/yfcc4k/yfcc4k/4783757649.jpg  \n",
            "  inflating: /content/llms-for-image-geolocation-benchmarks/yfcc4k/yfcc4k/yfcc4k/4786831348.jpg  \n",
            "  inflating: /content/llms-for-image-geolocation-benchmarks/yfcc4k/yfcc4k/yfcc4k/4787983479.jpg  \n",
            "  inflating: /content/llms-for-image-geolocation-benchmarks/yfcc4k/yfcc4k/yfcc4k/4794369110.jpg  \n",
            "  inflating: /content/llms-for-image-geolocation-benchmarks/yfcc4k/yfcc4k/yfcc4k/4796383105.jpg  \n",
            "  inflating: /content/llms-for-image-geolocation-benchmarks/yfcc4k/yfcc4k/yfcc4k/4796484843.jpg  \n",
            "  inflating: /content/llms-for-image-geolocation-benchmarks/yfcc4k/yfcc4k/yfcc4k/4799221458.jpg  \n",
            "  inflating: /content/llms-for-image-geolocation-benchmarks/yfcc4k/yfcc4k/yfcc4k/4800937451.jpg  \n",
            "  inflating: /content/llms-for-image-geolocation-benchmarks/yfcc4k/yfcc4k/yfcc4k/4800991252.jpg  \n",
            "  inflating: /content/llms-for-image-geolocation-benchmarks/yfcc4k/yfcc4k/yfcc4k/4802820110.jpg  \n",
            "  inflating: /content/llms-for-image-geolocation-benchmarks/yfcc4k/yfcc4k/yfcc4k/4804582174.jpg  \n",
            "  inflating: /content/llms-for-image-geolocation-benchmarks/yfcc4k/yfcc4k/yfcc4k/4805085704.jpg  \n",
            "  inflating: /content/llms-for-image-geolocation-benchmarks/yfcc4k/yfcc4k/yfcc4k/4805240427.jpg  \n",
            "  inflating: /content/llms-for-image-geolocation-benchmarks/yfcc4k/yfcc4k/yfcc4k/4805272261.jpg  \n",
            "  inflating: /content/llms-for-image-geolocation-benchmarks/yfcc4k/yfcc4k/yfcc4k/4807880541.jpg  \n",
            "  inflating: /content/llms-for-image-geolocation-benchmarks/yfcc4k/yfcc4k/yfcc4k/4808521008.jpg  \n",
            "  inflating: /content/llms-for-image-geolocation-benchmarks/yfcc4k/yfcc4k/yfcc4k/4809657725.jpg  \n",
            "  inflating: /content/llms-for-image-geolocation-benchmarks/yfcc4k/yfcc4k/yfcc4k/4811473485.jpg  \n",
            "  inflating: /content/llms-for-image-geolocation-benchmarks/yfcc4k/yfcc4k/yfcc4k/4811750972.jpg  \n",
            "  inflating: /content/llms-for-image-geolocation-benchmarks/yfcc4k/yfcc4k/yfcc4k/4814470464.jpg  \n",
            "  inflating: /content/llms-for-image-geolocation-benchmarks/yfcc4k/yfcc4k/yfcc4k/4817992741.jpg  \n",
            "  inflating: /content/llms-for-image-geolocation-benchmarks/yfcc4k/yfcc4k/yfcc4k/4820272692.jpg  \n",
            "  inflating: /content/llms-for-image-geolocation-benchmarks/yfcc4k/yfcc4k/yfcc4k/4820837489.jpg  \n",
            "  inflating: /content/llms-for-image-geolocation-benchmarks/yfcc4k/yfcc4k/yfcc4k/4821490180.jpg  \n",
            "  inflating: /content/llms-for-image-geolocation-benchmarks/yfcc4k/yfcc4k/yfcc4k/4821677563.jpg  \n",
            "  inflating: /content/llms-for-image-geolocation-benchmarks/yfcc4k/yfcc4k/yfcc4k/4825046087.jpg  \n",
            "  inflating: /content/llms-for-image-geolocation-benchmarks/yfcc4k/yfcc4k/yfcc4k/4827448199.jpg  \n",
            "  inflating: /content/llms-for-image-geolocation-benchmarks/yfcc4k/yfcc4k/yfcc4k/4828938366.jpg  \n",
            "  inflating: /content/llms-for-image-geolocation-benchmarks/yfcc4k/yfcc4k/yfcc4k/4832090815.jpg  \n",
            "  inflating: /content/llms-for-image-geolocation-benchmarks/yfcc4k/yfcc4k/yfcc4k/4833133937.jpg  \n",
            "  inflating: /content/llms-for-image-geolocation-benchmarks/yfcc4k/yfcc4k/yfcc4k/4834129097.jpg  \n",
            "  inflating: /content/llms-for-image-geolocation-benchmarks/yfcc4k/yfcc4k/yfcc4k/4836732013.jpg  \n",
            "  inflating: /content/llms-for-image-geolocation-benchmarks/yfcc4k/yfcc4k/yfcc4k/4840323254.jpg  \n",
            "  inflating: /content/llms-for-image-geolocation-benchmarks/yfcc4k/yfcc4k/yfcc4k/4844697532.jpg  \n",
            "  inflating: /content/llms-for-image-geolocation-benchmarks/yfcc4k/yfcc4k/yfcc4k/4845347954.jpg  \n",
            "  inflating: /content/llms-for-image-geolocation-benchmarks/yfcc4k/yfcc4k/yfcc4k/4848322242.jpg  \n",
            "  inflating: /content/llms-for-image-geolocation-benchmarks/yfcc4k/yfcc4k/yfcc4k/4849242149.jpg  \n",
            "  inflating: /content/llms-for-image-geolocation-benchmarks/yfcc4k/yfcc4k/yfcc4k/4849840015.jpg  \n",
            "  inflating: /content/llms-for-image-geolocation-benchmarks/yfcc4k/yfcc4k/yfcc4k/4850973108.jpg  \n",
            "  inflating: /content/llms-for-image-geolocation-benchmarks/yfcc4k/yfcc4k/yfcc4k/4852844163.jpg  \n",
            "  inflating: /content/llms-for-image-geolocation-benchmarks/yfcc4k/yfcc4k/yfcc4k/4855503685.jpg  \n",
            "  inflating: /content/llms-for-image-geolocation-benchmarks/yfcc4k/yfcc4k/yfcc4k/4856891360.jpg  \n",
            "  inflating: /content/llms-for-image-geolocation-benchmarks/yfcc4k/yfcc4k/yfcc4k/4857233612.jpg  \n",
            "  inflating: /content/llms-for-image-geolocation-benchmarks/yfcc4k/yfcc4k/yfcc4k/4857253644.jpg  \n",
            "  inflating: /content/llms-for-image-geolocation-benchmarks/yfcc4k/yfcc4k/yfcc4k/4859715714.jpg  \n",
            "  inflating: /content/llms-for-image-geolocation-benchmarks/yfcc4k/yfcc4k/yfcc4k/4859807920.jpg  \n",
            "  inflating: /content/llms-for-image-geolocation-benchmarks/yfcc4k/yfcc4k/yfcc4k/4859913621.jpg  \n",
            "  inflating: /content/llms-for-image-geolocation-benchmarks/yfcc4k/yfcc4k/yfcc4k/485991669.jpg  \n",
            "  inflating: /content/llms-for-image-geolocation-benchmarks/yfcc4k/yfcc4k/yfcc4k/4861023057.jpg  \n",
            "  inflating: /content/llms-for-image-geolocation-benchmarks/yfcc4k/yfcc4k/yfcc4k/4863895176.jpg  \n",
            "  inflating: /content/llms-for-image-geolocation-benchmarks/yfcc4k/yfcc4k/yfcc4k/4864524364.jpg  \n",
            "  inflating: /content/llms-for-image-geolocation-benchmarks/yfcc4k/yfcc4k/yfcc4k/4865617285.jpg  \n",
            "  inflating: /content/llms-for-image-geolocation-benchmarks/yfcc4k/yfcc4k/yfcc4k/4866250753.jpg  \n",
            "  inflating: /content/llms-for-image-geolocation-benchmarks/yfcc4k/yfcc4k/yfcc4k/4869481647.jpg  \n",
            "  inflating: /content/llms-for-image-geolocation-benchmarks/yfcc4k/yfcc4k/yfcc4k/4871462205.jpg  \n",
            "  inflating: /content/llms-for-image-geolocation-benchmarks/yfcc4k/yfcc4k/yfcc4k/4876126041.jpg  \n",
            "  inflating: /content/llms-for-image-geolocation-benchmarks/yfcc4k/yfcc4k/yfcc4k/4876758574.jpg  \n",
            "  inflating: /content/llms-for-image-geolocation-benchmarks/yfcc4k/yfcc4k/yfcc4k/4877979189.jpg  \n",
            "  inflating: /content/llms-for-image-geolocation-benchmarks/yfcc4k/yfcc4k/yfcc4k/4879029473.jpg  \n",
            "  inflating: /content/llms-for-image-geolocation-benchmarks/yfcc4k/yfcc4k/yfcc4k/4880372849.jpg  \n",
            "  inflating: /content/llms-for-image-geolocation-benchmarks/yfcc4k/yfcc4k/yfcc4k/4882620567.jpg  \n",
            "  inflating: /content/llms-for-image-geolocation-benchmarks/yfcc4k/yfcc4k/yfcc4k/4888237854.jpg  \n",
            "  inflating: /content/llms-for-image-geolocation-benchmarks/yfcc4k/yfcc4k/yfcc4k/4888503213.jpg  \n",
            "  inflating: /content/llms-for-image-geolocation-benchmarks/yfcc4k/yfcc4k/yfcc4k/4889326679.jpg  \n",
            "  inflating: /content/llms-for-image-geolocation-benchmarks/yfcc4k/yfcc4k/yfcc4k/4889964540.jpg  \n",
            "  inflating: /content/llms-for-image-geolocation-benchmarks/yfcc4k/yfcc4k/yfcc4k/4891734557.jpg  \n",
            "  inflating: /content/llms-for-image-geolocation-benchmarks/yfcc4k/yfcc4k/yfcc4k/4891844509.jpg  \n",
            "  inflating: /content/llms-for-image-geolocation-benchmarks/yfcc4k/yfcc4k/yfcc4k/4896737076.jpg  \n",
            "  inflating: /content/llms-for-image-geolocation-benchmarks/yfcc4k/yfcc4k/yfcc4k/4901336429.jpg  \n",
            "  inflating: /content/llms-for-image-geolocation-benchmarks/yfcc4k/yfcc4k/yfcc4k/4902165309.jpg  \n",
            "  inflating: /content/llms-for-image-geolocation-benchmarks/yfcc4k/yfcc4k/yfcc4k/4906188924.jpg  \n",
            "  inflating: /content/llms-for-image-geolocation-benchmarks/yfcc4k/yfcc4k/yfcc4k/4906549885.jpg  \n",
            "  inflating: /content/llms-for-image-geolocation-benchmarks/yfcc4k/yfcc4k/yfcc4k/4907475241.jpg  \n",
            "  inflating: /content/llms-for-image-geolocation-benchmarks/yfcc4k/yfcc4k/yfcc4k/4907535472.jpg  \n",
            "  inflating: /content/llms-for-image-geolocation-benchmarks/yfcc4k/yfcc4k/yfcc4k/4908911826.jpg  \n",
            "  inflating: /content/llms-for-image-geolocation-benchmarks/yfcc4k/yfcc4k/yfcc4k/4909272937.jpg  \n",
            "  inflating: /content/llms-for-image-geolocation-benchmarks/yfcc4k/yfcc4k/yfcc4k/4910681945.jpg  \n",
            "  inflating: /content/llms-for-image-geolocation-benchmarks/yfcc4k/yfcc4k/yfcc4k/4911120909.jpg  \n",
            "  inflating: /content/llms-for-image-geolocation-benchmarks/yfcc4k/yfcc4k/yfcc4k/4913023813.jpg  \n",
            "  inflating: /content/llms-for-image-geolocation-benchmarks/yfcc4k/yfcc4k/yfcc4k/491480142.jpg  \n",
            "  inflating: /content/llms-for-image-geolocation-benchmarks/yfcc4k/yfcc4k/yfcc4k/4916969136.jpg  \n",
            "  inflating: /content/llms-for-image-geolocation-benchmarks/yfcc4k/yfcc4k/yfcc4k/4916980076.jpg  \n",
            "  inflating: /content/llms-for-image-geolocation-benchmarks/yfcc4k/yfcc4k/yfcc4k/4917172759.jpg  \n",
            "  inflating: /content/llms-for-image-geolocation-benchmarks/yfcc4k/yfcc4k/yfcc4k/4918779993.jpg  \n",
            "  inflating: /content/llms-for-image-geolocation-benchmarks/yfcc4k/yfcc4k/yfcc4k/4923401337.jpg  \n",
            "  inflating: /content/llms-for-image-geolocation-benchmarks/yfcc4k/yfcc4k/yfcc4k/4924592256.jpg  \n",
            "  inflating: /content/llms-for-image-geolocation-benchmarks/yfcc4k/yfcc4k/yfcc4k/4925835542.jpg  \n",
            "  inflating: /content/llms-for-image-geolocation-benchmarks/yfcc4k/yfcc4k/yfcc4k/4929298332.jpg  \n",
            "  inflating: /content/llms-for-image-geolocation-benchmarks/yfcc4k/yfcc4k/yfcc4k/4929706966.jpg  \n",
            "  inflating: /content/llms-for-image-geolocation-benchmarks/yfcc4k/yfcc4k/yfcc4k/4932213950.jpg  \n",
            "  inflating: /content/llms-for-image-geolocation-benchmarks/yfcc4k/yfcc4k/yfcc4k/4934388829.jpg  \n",
            "  inflating: /content/llms-for-image-geolocation-benchmarks/yfcc4k/yfcc4k/yfcc4k/4935592901.jpg  \n",
            "  inflating: /content/llms-for-image-geolocation-benchmarks/yfcc4k/yfcc4k/yfcc4k/4936254472.jpg  \n",
            "  inflating: /content/llms-for-image-geolocation-benchmarks/yfcc4k/yfcc4k/yfcc4k/4937786528.jpg  \n",
            "  inflating: /content/llms-for-image-geolocation-benchmarks/yfcc4k/yfcc4k/yfcc4k/4937975485.jpg  \n",
            "  inflating: /content/llms-for-image-geolocation-benchmarks/yfcc4k/yfcc4k/yfcc4k/4938701118.jpg  \n",
            "  inflating: /content/llms-for-image-geolocation-benchmarks/yfcc4k/yfcc4k/yfcc4k/4940038644.jpg  \n",
            "  inflating: /content/llms-for-image-geolocation-benchmarks/yfcc4k/yfcc4k/yfcc4k/4940470642.jpg  \n",
            "  inflating: /content/llms-for-image-geolocation-benchmarks/yfcc4k/yfcc4k/yfcc4k/4942329355.jpg  \n",
            "  inflating: /content/llms-for-image-geolocation-benchmarks/yfcc4k/yfcc4k/yfcc4k/4944760562.jpg  \n",
            "  inflating: /content/llms-for-image-geolocation-benchmarks/yfcc4k/yfcc4k/yfcc4k/4946953487.jpg  \n",
            "  inflating: /content/llms-for-image-geolocation-benchmarks/yfcc4k/yfcc4k/yfcc4k/4949622209.jpg  \n",
            "  inflating: /content/llms-for-image-geolocation-benchmarks/yfcc4k/yfcc4k/yfcc4k/4953019070.jpg  \n",
            "  inflating: /content/llms-for-image-geolocation-benchmarks/yfcc4k/yfcc4k/yfcc4k/4955680769.jpg  \n",
            "  inflating: /content/llms-for-image-geolocation-benchmarks/yfcc4k/yfcc4k/yfcc4k/4957740599.jpg  \n",
            "  inflating: /content/llms-for-image-geolocation-benchmarks/yfcc4k/yfcc4k/yfcc4k/4959748239.jpg  \n",
            "  inflating: /content/llms-for-image-geolocation-benchmarks/yfcc4k/yfcc4k/yfcc4k/4962010796.jpg  \n",
            "  inflating: /content/llms-for-image-geolocation-benchmarks/yfcc4k/yfcc4k/yfcc4k/4964003605.jpg  \n",
            "  inflating: /content/llms-for-image-geolocation-benchmarks/yfcc4k/yfcc4k/yfcc4k/4965261251.jpg  \n",
            "  inflating: /content/llms-for-image-geolocation-benchmarks/yfcc4k/yfcc4k/yfcc4k/4966326926.jpg  \n",
            "  inflating: /content/llms-for-image-geolocation-benchmarks/yfcc4k/yfcc4k/yfcc4k/496702130.jpg  \n",
            "  inflating: /content/llms-for-image-geolocation-benchmarks/yfcc4k/yfcc4k/yfcc4k/4967204512.jpg  \n",
            "  inflating: /content/llms-for-image-geolocation-benchmarks/yfcc4k/yfcc4k/yfcc4k/4967544014.jpg  \n",
            "  inflating: /content/llms-for-image-geolocation-benchmarks/yfcc4k/yfcc4k/yfcc4k/4971951302.jpg  \n",
            "  inflating: /content/llms-for-image-geolocation-benchmarks/yfcc4k/yfcc4k/yfcc4k/4974178608.jpg  \n",
            "  inflating: /content/llms-for-image-geolocation-benchmarks/yfcc4k/yfcc4k/yfcc4k/4975224669.jpg  \n",
            "  inflating: /content/llms-for-image-geolocation-benchmarks/yfcc4k/yfcc4k/yfcc4k/4975538956.jpg  \n",
            "  inflating: /content/llms-for-image-geolocation-benchmarks/yfcc4k/yfcc4k/yfcc4k/4977680537.jpg  \n",
            "  inflating: /content/llms-for-image-geolocation-benchmarks/yfcc4k/yfcc4k/yfcc4k/4977813981.jpg  \n",
            "  inflating: /content/llms-for-image-geolocation-benchmarks/yfcc4k/yfcc4k/yfcc4k/4978824437.jpg  \n",
            "  inflating: /content/llms-for-image-geolocation-benchmarks/yfcc4k/yfcc4k/yfcc4k/4980549423.jpg  \n",
            "  inflating: /content/llms-for-image-geolocation-benchmarks/yfcc4k/yfcc4k/yfcc4k/4980550174.jpg  \n",
            "  inflating: /content/llms-for-image-geolocation-benchmarks/yfcc4k/yfcc4k/yfcc4k/4980555408.jpg  \n",
            "  inflating: /content/llms-for-image-geolocation-benchmarks/yfcc4k/yfcc4k/yfcc4k/4982065357.jpg  \n",
            "  inflating: /content/llms-for-image-geolocation-benchmarks/yfcc4k/yfcc4k/yfcc4k/4984768063.jpg  \n",
            "  inflating: /content/llms-for-image-geolocation-benchmarks/yfcc4k/yfcc4k/yfcc4k/4986147822.jpg  \n",
            "  inflating: /content/llms-for-image-geolocation-benchmarks/yfcc4k/yfcc4k/yfcc4k/4987073249.jpg  \n",
            "  inflating: /content/llms-for-image-geolocation-benchmarks/yfcc4k/yfcc4k/yfcc4k/4990090467.jpg  \n",
            "  inflating: /content/llms-for-image-geolocation-benchmarks/yfcc4k/yfcc4k/yfcc4k/4994013589.jpg  \n",
            "  inflating: /content/llms-for-image-geolocation-benchmarks/yfcc4k/yfcc4k/yfcc4k/4994340667.jpg  \n",
            "  inflating: /content/llms-for-image-geolocation-benchmarks/yfcc4k/yfcc4k/yfcc4k/5001199147.jpg  \n",
            "  inflating: /content/llms-for-image-geolocation-benchmarks/yfcc4k/yfcc4k/yfcc4k/5003203020.jpg  \n",
            "  inflating: /content/llms-for-image-geolocation-benchmarks/yfcc4k/yfcc4k/yfcc4k/5003636410.jpg  \n",
            "  inflating: /content/llms-for-image-geolocation-benchmarks/yfcc4k/yfcc4k/yfcc4k/500454030.jpg  \n",
            "  inflating: /content/llms-for-image-geolocation-benchmarks/yfcc4k/yfcc4k/yfcc4k/5005834086.jpg  \n",
            "  inflating: /content/llms-for-image-geolocation-benchmarks/yfcc4k/yfcc4k/yfcc4k/5006198512.jpg  \n",
            "  inflating: /content/llms-for-image-geolocation-benchmarks/yfcc4k/yfcc4k/yfcc4k/5006518121.jpg  \n",
            "  inflating: /content/llms-for-image-geolocation-benchmarks/yfcc4k/yfcc4k/yfcc4k/5008427375.jpg  \n",
            "  inflating: /content/llms-for-image-geolocation-benchmarks/yfcc4k/yfcc4k/yfcc4k/5010655633.jpg  \n",
            "  inflating: /content/llms-for-image-geolocation-benchmarks/yfcc4k/yfcc4k/yfcc4k/5013842490.jpg  \n",
            "  inflating: /content/llms-for-image-geolocation-benchmarks/yfcc4k/yfcc4k/yfcc4k/5014045667.jpg  \n",
            "  inflating: /content/llms-for-image-geolocation-benchmarks/yfcc4k/yfcc4k/yfcc4k/5014499468.jpg  \n",
            "  inflating: /content/llms-for-image-geolocation-benchmarks/yfcc4k/yfcc4k/yfcc4k/5019441087.jpg  \n",
            "  inflating: /content/llms-for-image-geolocation-benchmarks/yfcc4k/yfcc4k/yfcc4k/5020799287.jpg  \n",
            "  inflating: /content/llms-for-image-geolocation-benchmarks/yfcc4k/yfcc4k/yfcc4k/5021061206.jpg  \n",
            "  inflating: /content/llms-for-image-geolocation-benchmarks/yfcc4k/yfcc4k/yfcc4k/5025226584.jpg  \n",
            "  inflating: /content/llms-for-image-geolocation-benchmarks/yfcc4k/yfcc4k/yfcc4k/5026818367.jpg  \n",
            "  inflating: /content/llms-for-image-geolocation-benchmarks/yfcc4k/yfcc4k/yfcc4k/5026907609.jpg  \n",
            "  inflating: /content/llms-for-image-geolocation-benchmarks/yfcc4k/yfcc4k/yfcc4k/5027379465.jpg  \n",
            "  inflating: /content/llms-for-image-geolocation-benchmarks/yfcc4k/yfcc4k/yfcc4k/5028185114.jpg  \n",
            "  inflating: /content/llms-for-image-geolocation-benchmarks/yfcc4k/yfcc4k/yfcc4k/5029597460.jpg  \n",
            "  inflating: /content/llms-for-image-geolocation-benchmarks/yfcc4k/yfcc4k/yfcc4k/5029869899.jpg  \n",
            "  inflating: /content/llms-for-image-geolocation-benchmarks/yfcc4k/yfcc4k/yfcc4k/5031123919.jpg  \n",
            "  inflating: /content/llms-for-image-geolocation-benchmarks/yfcc4k/yfcc4k/yfcc4k/5032087030.jpg  \n",
            "  inflating: /content/llms-for-image-geolocation-benchmarks/yfcc4k/yfcc4k/yfcc4k/5032324949.jpg  \n",
            "  inflating: /content/llms-for-image-geolocation-benchmarks/yfcc4k/yfcc4k/yfcc4k/5033216250.jpg  \n",
            "  inflating: /content/llms-for-image-geolocation-benchmarks/yfcc4k/yfcc4k/yfcc4k/5034153774.jpg  \n",
            "  inflating: /content/llms-for-image-geolocation-benchmarks/yfcc4k/yfcc4k/yfcc4k/5036395520.jpg  \n",
            "  inflating: /content/llms-for-image-geolocation-benchmarks/yfcc4k/yfcc4k/yfcc4k/5037026515.jpg  \n",
            "  inflating: /content/llms-for-image-geolocation-benchmarks/yfcc4k/yfcc4k/yfcc4k/5038442539.jpg  \n",
            "  inflating: /content/llms-for-image-geolocation-benchmarks/yfcc4k/yfcc4k/yfcc4k/50390882.jpg  \n",
            "  inflating: /content/llms-for-image-geolocation-benchmarks/yfcc4k/yfcc4k/yfcc4k/5040100163.jpg  \n",
            "  inflating: /content/llms-for-image-geolocation-benchmarks/yfcc4k/yfcc4k/yfcc4k/5042025731.jpg  \n",
            "  inflating: /content/llms-for-image-geolocation-benchmarks/yfcc4k/yfcc4k/yfcc4k/5044188757.jpg  \n",
            "  inflating: /content/llms-for-image-geolocation-benchmarks/yfcc4k/yfcc4k/yfcc4k/5045412470.jpg  \n",
            "  inflating: /content/llms-for-image-geolocation-benchmarks/yfcc4k/yfcc4k/yfcc4k/5046382784.jpg  \n",
            "  inflating: /content/llms-for-image-geolocation-benchmarks/yfcc4k/yfcc4k/yfcc4k/5049175248.jpg  \n",
            "  inflating: /content/llms-for-image-geolocation-benchmarks/yfcc4k/yfcc4k/yfcc4k/505149106.jpg  \n",
            "  inflating: /content/llms-for-image-geolocation-benchmarks/yfcc4k/yfcc4k/yfcc4k/5052866068.jpg  \n",
            "  inflating: /content/llms-for-image-geolocation-benchmarks/yfcc4k/yfcc4k/yfcc4k/5054353582.jpg  \n",
            "  inflating: /content/llms-for-image-geolocation-benchmarks/yfcc4k/yfcc4k/yfcc4k/5057329560.jpg  \n",
            "  inflating: /content/llms-for-image-geolocation-benchmarks/yfcc4k/yfcc4k/yfcc4k/5060179568.jpg  \n",
            "  inflating: /content/llms-for-image-geolocation-benchmarks/yfcc4k/yfcc4k/yfcc4k/506162329.jpg  \n",
            "  inflating: /content/llms-for-image-geolocation-benchmarks/yfcc4k/yfcc4k/yfcc4k/5062873627.jpg  \n",
            "  inflating: /content/llms-for-image-geolocation-benchmarks/yfcc4k/yfcc4k/yfcc4k/5064253338.jpg  \n",
            "  inflating: /content/llms-for-image-geolocation-benchmarks/yfcc4k/yfcc4k/yfcc4k/5065420937.jpg  \n",
            "  inflating: /content/llms-for-image-geolocation-benchmarks/yfcc4k/yfcc4k/yfcc4k/5067953138.jpg  \n",
            "  inflating: /content/llms-for-image-geolocation-benchmarks/yfcc4k/yfcc4k/yfcc4k/5068135309.jpg  \n",
            "  inflating: /content/llms-for-image-geolocation-benchmarks/yfcc4k/yfcc4k/yfcc4k/5069427362.jpg  \n",
            "  inflating: /content/llms-for-image-geolocation-benchmarks/yfcc4k/yfcc4k/yfcc4k/5072175944.jpg  \n",
            "  inflating: /content/llms-for-image-geolocation-benchmarks/yfcc4k/yfcc4k/yfcc4k/5072906348.jpg  \n",
            "  inflating: /content/llms-for-image-geolocation-benchmarks/yfcc4k/yfcc4k/yfcc4k/5074571526.jpg  \n",
            "  inflating: /content/llms-for-image-geolocation-benchmarks/yfcc4k/yfcc4k/yfcc4k/5075499479.jpg  \n",
            "  inflating: /content/llms-for-image-geolocation-benchmarks/yfcc4k/yfcc4k/yfcc4k/5075830719.jpg  \n",
            "  inflating: /content/llms-for-image-geolocation-benchmarks/yfcc4k/yfcc4k/yfcc4k/5076784106.jpg  \n",
            "  inflating: /content/llms-for-image-geolocation-benchmarks/yfcc4k/yfcc4k/yfcc4k/5077445230.jpg  \n",
            "  inflating: /content/llms-for-image-geolocation-benchmarks/yfcc4k/yfcc4k/yfcc4k/5079452106.jpg  \n",
            "  inflating: /content/llms-for-image-geolocation-benchmarks/yfcc4k/yfcc4k/yfcc4k/5082201444.jpg  \n",
            "  inflating: /content/llms-for-image-geolocation-benchmarks/yfcc4k/yfcc4k/yfcc4k/5083741678.jpg  \n",
            "  inflating: /content/llms-for-image-geolocation-benchmarks/yfcc4k/yfcc4k/yfcc4k/5086021192.jpg  \n",
            "  inflating: /content/llms-for-image-geolocation-benchmarks/yfcc4k/yfcc4k/yfcc4k/5086755718.jpg  \n",
            "  inflating: /content/llms-for-image-geolocation-benchmarks/yfcc4k/yfcc4k/yfcc4k/5087717640.jpg  \n",
            "  inflating: /content/llms-for-image-geolocation-benchmarks/yfcc4k/yfcc4k/yfcc4k/5089903551.jpg  \n",
            "  inflating: /content/llms-for-image-geolocation-benchmarks/yfcc4k/yfcc4k/yfcc4k/5092774784.jpg  \n",
            "  inflating: /content/llms-for-image-geolocation-benchmarks/yfcc4k/yfcc4k/yfcc4k/5094605535.jpg  \n",
            "  inflating: /content/llms-for-image-geolocation-benchmarks/yfcc4k/yfcc4k/yfcc4k/5095976454.jpg  \n",
            "  inflating: /content/llms-for-image-geolocation-benchmarks/yfcc4k/yfcc4k/yfcc4k/5099847760.jpg  \n",
            "  inflating: /content/llms-for-image-geolocation-benchmarks/yfcc4k/yfcc4k/yfcc4k/5100254219.jpg  \n",
            "  inflating: /content/llms-for-image-geolocation-benchmarks/yfcc4k/yfcc4k/yfcc4k/5105083694.jpg  \n",
            "  inflating: /content/llms-for-image-geolocation-benchmarks/yfcc4k/yfcc4k/yfcc4k/5105212557.jpg  \n",
            "  inflating: /content/llms-for-image-geolocation-benchmarks/yfcc4k/yfcc4k/yfcc4k/5105778532.jpg  \n",
            "  inflating: /content/llms-for-image-geolocation-benchmarks/yfcc4k/yfcc4k/yfcc4k/5106234121.jpg  \n",
            "  inflating: /content/llms-for-image-geolocation-benchmarks/yfcc4k/yfcc4k/yfcc4k/5106602069.jpg  \n",
            "  inflating: /content/llms-for-image-geolocation-benchmarks/yfcc4k/yfcc4k/yfcc4k/5108037387.jpg  \n",
            "  inflating: /content/llms-for-image-geolocation-benchmarks/yfcc4k/yfcc4k/yfcc4k/5108627124.jpg  \n",
            "  inflating: /content/llms-for-image-geolocation-benchmarks/yfcc4k/yfcc4k/yfcc4k/510990758.jpg  \n",
            "  inflating: /content/llms-for-image-geolocation-benchmarks/yfcc4k/yfcc4k/yfcc4k/5110105790.jpg  \n",
            "  inflating: /content/llms-for-image-geolocation-benchmarks/yfcc4k/yfcc4k/yfcc4k/5111226965.jpg  \n",
            "  inflating: /content/llms-for-image-geolocation-benchmarks/yfcc4k/yfcc4k/yfcc4k/5111304383.jpg  \n",
            "  inflating: /content/llms-for-image-geolocation-benchmarks/yfcc4k/yfcc4k/yfcc4k/5111309630.jpg  \n",
            "  inflating: /content/llms-for-image-geolocation-benchmarks/yfcc4k/yfcc4k/yfcc4k/5112083883.jpg  \n",
            "  inflating: /content/llms-for-image-geolocation-benchmarks/yfcc4k/yfcc4k/yfcc4k/5112181517.jpg  \n",
            "  inflating: /content/llms-for-image-geolocation-benchmarks/yfcc4k/yfcc4k/yfcc4k/5113566098.jpg  \n",
            "  inflating: /content/llms-for-image-geolocation-benchmarks/yfcc4k/yfcc4k/yfcc4k/5116259938.jpg  \n",
            "  inflating: /content/llms-for-image-geolocation-benchmarks/yfcc4k/yfcc4k/yfcc4k/5122668155.jpg  \n",
            "  inflating: /content/llms-for-image-geolocation-benchmarks/yfcc4k/yfcc4k/yfcc4k/5123014736.jpg  \n",
            "  inflating: /content/llms-for-image-geolocation-benchmarks/yfcc4k/yfcc4k/yfcc4k/5123604884.jpg  \n",
            "  inflating: /content/llms-for-image-geolocation-benchmarks/yfcc4k/yfcc4k/yfcc4k/5126472592.jpg  \n",
            "  inflating: /content/llms-for-image-geolocation-benchmarks/yfcc4k/yfcc4k/yfcc4k/512886613.jpg  \n",
            "  inflating: /content/llms-for-image-geolocation-benchmarks/yfcc4k/yfcc4k/yfcc4k/512988499.jpg  \n",
            "  inflating: /content/llms-for-image-geolocation-benchmarks/yfcc4k/yfcc4k/yfcc4k/5130272847.jpg  \n",
            "  inflating: /content/llms-for-image-geolocation-benchmarks/yfcc4k/yfcc4k/yfcc4k/5130801643.jpg  \n",
            "  inflating: /content/llms-for-image-geolocation-benchmarks/yfcc4k/yfcc4k/yfcc4k/5131621775.jpg  \n",
            "  inflating: /content/llms-for-image-geolocation-benchmarks/yfcc4k/yfcc4k/yfcc4k/5132826487.jpg  \n",
            "  inflating: /content/llms-for-image-geolocation-benchmarks/yfcc4k/yfcc4k/yfcc4k/5133298122.jpg  \n",
            "  inflating: /content/llms-for-image-geolocation-benchmarks/yfcc4k/yfcc4k/yfcc4k/5135019924.jpg  \n",
            "  inflating: /content/llms-for-image-geolocation-benchmarks/yfcc4k/yfcc4k/yfcc4k/514188850.jpg  \n",
            "  inflating: /content/llms-for-image-geolocation-benchmarks/yfcc4k/yfcc4k/yfcc4k/5144759050.jpg  \n",
            "  inflating: /content/llms-for-image-geolocation-benchmarks/yfcc4k/yfcc4k/yfcc4k/5146038793.jpg  \n",
            "  inflating: /content/llms-for-image-geolocation-benchmarks/yfcc4k/yfcc4k/yfcc4k/5149999827.jpg  \n",
            "  inflating: /content/llms-for-image-geolocation-benchmarks/yfcc4k/yfcc4k/yfcc4k/5150370478.jpg  \n",
            "  inflating: /content/llms-for-image-geolocation-benchmarks/yfcc4k/yfcc4k/yfcc4k/5150531640.jpg  \n",
            "  inflating: /content/llms-for-image-geolocation-benchmarks/yfcc4k/yfcc4k/yfcc4k/5151222239.jpg  \n",
            "  inflating: /content/llms-for-image-geolocation-benchmarks/yfcc4k/yfcc4k/yfcc4k/5158648858.jpg  \n",
            "  inflating: /content/llms-for-image-geolocation-benchmarks/yfcc4k/yfcc4k/yfcc4k/5161456359.jpg  \n",
            "  inflating: /content/llms-for-image-geolocation-benchmarks/yfcc4k/yfcc4k/yfcc4k/5161976937.jpg  \n",
            "  inflating: /content/llms-for-image-geolocation-benchmarks/yfcc4k/yfcc4k/yfcc4k/5164275092.jpg  \n",
            "  inflating: /content/llms-for-image-geolocation-benchmarks/yfcc4k/yfcc4k/yfcc4k/5165163575.jpg  \n",
            "  inflating: /content/llms-for-image-geolocation-benchmarks/yfcc4k/yfcc4k/yfcc4k/5166938085.jpg  \n",
            "  inflating: /content/llms-for-image-geolocation-benchmarks/yfcc4k/yfcc4k/yfcc4k/5167662753.jpg  \n",
            "  inflating: /content/llms-for-image-geolocation-benchmarks/yfcc4k/yfcc4k/yfcc4k/5171357420.jpg  \n",
            "  inflating: /content/llms-for-image-geolocation-benchmarks/yfcc4k/yfcc4k/yfcc4k/5171521029.jpg  \n",
            "  inflating: /content/llms-for-image-geolocation-benchmarks/yfcc4k/yfcc4k/yfcc4k/5172454314.jpg  \n",
            "  inflating: /content/llms-for-image-geolocation-benchmarks/yfcc4k/yfcc4k/yfcc4k/5172618357.jpg  \n",
            "  inflating: /content/llms-for-image-geolocation-benchmarks/yfcc4k/yfcc4k/yfcc4k/5173153218.jpg  \n",
            "  inflating: /content/llms-for-image-geolocation-benchmarks/yfcc4k/yfcc4k/yfcc4k/5175941140.jpg  \n",
            "  inflating: /content/llms-for-image-geolocation-benchmarks/yfcc4k/yfcc4k/yfcc4k/5176491505.jpg  \n",
            "  inflating: /content/llms-for-image-geolocation-benchmarks/yfcc4k/yfcc4k/yfcc4k/5177710552.jpg  \n",
            "  inflating: /content/llms-for-image-geolocation-benchmarks/yfcc4k/yfcc4k/yfcc4k/5177878695.jpg  \n",
            "  inflating: /content/llms-for-image-geolocation-benchmarks/yfcc4k/yfcc4k/yfcc4k/5177920967.jpg  \n",
            "  inflating: /content/llms-for-image-geolocation-benchmarks/yfcc4k/yfcc4k/yfcc4k/5178322518.jpg  \n",
            "  inflating: /content/llms-for-image-geolocation-benchmarks/yfcc4k/yfcc4k/yfcc4k/5178358016.jpg  \n",
            "  inflating: /content/llms-for-image-geolocation-benchmarks/yfcc4k/yfcc4k/yfcc4k/5178482008.jpg  \n",
            "  inflating: /content/llms-for-image-geolocation-benchmarks/yfcc4k/yfcc4k/yfcc4k/5178687784.jpg  \n",
            "  inflating: /content/llms-for-image-geolocation-benchmarks/yfcc4k/yfcc4k/yfcc4k/5179043288.jpg  \n",
            "  inflating: /content/llms-for-image-geolocation-benchmarks/yfcc4k/yfcc4k/yfcc4k/5179046602.jpg  \n",
            "  inflating: /content/llms-for-image-geolocation-benchmarks/yfcc4k/yfcc4k/yfcc4k/5179317696.jpg  \n",
            "  inflating: /content/llms-for-image-geolocation-benchmarks/yfcc4k/yfcc4k/yfcc4k/5179576196.jpg  \n",
            "  inflating: /content/llms-for-image-geolocation-benchmarks/yfcc4k/yfcc4k/yfcc4k/5179772230.jpg  \n",
            "  inflating: /content/llms-for-image-geolocation-benchmarks/yfcc4k/yfcc4k/yfcc4k/5179893750.jpg  \n",
            "  inflating: /content/llms-for-image-geolocation-benchmarks/yfcc4k/yfcc4k/yfcc4k/5179908310.jpg  \n",
            "  inflating: /content/llms-for-image-geolocation-benchmarks/yfcc4k/yfcc4k/yfcc4k/5180099860.jpg  \n",
            "  inflating: /content/llms-for-image-geolocation-benchmarks/yfcc4k/yfcc4k/yfcc4k/5180107310.jpg  \n",
            "  inflating: /content/llms-for-image-geolocation-benchmarks/yfcc4k/yfcc4k/yfcc4k/5180781341.jpg  \n",
            "  inflating: /content/llms-for-image-geolocation-benchmarks/yfcc4k/yfcc4k/yfcc4k/5182200778.jpg  \n",
            "  inflating: /content/llms-for-image-geolocation-benchmarks/yfcc4k/yfcc4k/yfcc4k/5182672405.jpg  \n",
            "  inflating: /content/llms-for-image-geolocation-benchmarks/yfcc4k/yfcc4k/yfcc4k/5182758234.jpg  \n",
            "  inflating: /content/llms-for-image-geolocation-benchmarks/yfcc4k/yfcc4k/yfcc4k/5184718940.jpg  \n",
            "  inflating: /content/llms-for-image-geolocation-benchmarks/yfcc4k/yfcc4k/yfcc4k/5186142072.jpg  \n",
            "  inflating: /content/llms-for-image-geolocation-benchmarks/yfcc4k/yfcc4k/yfcc4k/5187315532.jpg  \n",
            "  inflating: /content/llms-for-image-geolocation-benchmarks/yfcc4k/yfcc4k/yfcc4k/5188747577.jpg  \n",
            "  inflating: /content/llms-for-image-geolocation-benchmarks/yfcc4k/yfcc4k/yfcc4k/5189263875.jpg  \n",
            "  inflating: /content/llms-for-image-geolocation-benchmarks/yfcc4k/yfcc4k/yfcc4k/5190573998.jpg  \n",
            "  inflating: /content/llms-for-image-geolocation-benchmarks/yfcc4k/yfcc4k/yfcc4k/5194195712.jpg  \n",
            "  inflating: /content/llms-for-image-geolocation-benchmarks/yfcc4k/yfcc4k/yfcc4k/5194203648.jpg  \n",
            "  inflating: /content/llms-for-image-geolocation-benchmarks/yfcc4k/yfcc4k/yfcc4k/5196913460.jpg  \n",
            "  inflating: /content/llms-for-image-geolocation-benchmarks/yfcc4k/yfcc4k/yfcc4k/5199307116.jpg  \n",
            "  inflating: /content/llms-for-image-geolocation-benchmarks/yfcc4k/yfcc4k/yfcc4k/5200089542.jpg  \n",
            "  inflating: /content/llms-for-image-geolocation-benchmarks/yfcc4k/yfcc4k/yfcc4k/5200094734.jpg  \n",
            "  inflating: /content/llms-for-image-geolocation-benchmarks/yfcc4k/yfcc4k/yfcc4k/5200347602.jpg  \n",
            "  inflating: /content/llms-for-image-geolocation-benchmarks/yfcc4k/yfcc4k/yfcc4k/5200368182.jpg  \n",
            "  inflating: /content/llms-for-image-geolocation-benchmarks/yfcc4k/yfcc4k/yfcc4k/5202715329.jpg  \n",
            "  inflating: /content/llms-for-image-geolocation-benchmarks/yfcc4k/yfcc4k/yfcc4k/5203992620.jpg  \n",
            "  inflating: /content/llms-for-image-geolocation-benchmarks/yfcc4k/yfcc4k/yfcc4k/5204704187.jpg  \n",
            "  inflating: /content/llms-for-image-geolocation-benchmarks/yfcc4k/yfcc4k/yfcc4k/5205796279.jpg  \n",
            "  inflating: /content/llms-for-image-geolocation-benchmarks/yfcc4k/yfcc4k/yfcc4k/5207961172.jpg  \n",
            "  inflating: /content/llms-for-image-geolocation-benchmarks/yfcc4k/yfcc4k/yfcc4k/5208184891.jpg  \n",
            "  inflating: /content/llms-for-image-geolocation-benchmarks/yfcc4k/yfcc4k/yfcc4k/5210704901.jpg  \n",
            "  inflating: /content/llms-for-image-geolocation-benchmarks/yfcc4k/yfcc4k/yfcc4k/5210754375.jpg  \n",
            "  inflating: /content/llms-for-image-geolocation-benchmarks/yfcc4k/yfcc4k/yfcc4k/5211068814.jpg  \n",
            "  inflating: /content/llms-for-image-geolocation-benchmarks/yfcc4k/yfcc4k/yfcc4k/5214020596.jpg  \n",
            "  inflating: /content/llms-for-image-geolocation-benchmarks/yfcc4k/yfcc4k/yfcc4k/5214722776.jpg  \n",
            "  inflating: /content/llms-for-image-geolocation-benchmarks/yfcc4k/yfcc4k/yfcc4k/52148992.jpg  \n",
            "  inflating: /content/llms-for-image-geolocation-benchmarks/yfcc4k/yfcc4k/yfcc4k/5215526343.jpg  \n",
            "  inflating: /content/llms-for-image-geolocation-benchmarks/yfcc4k/yfcc4k/yfcc4k/5215973450.jpg  \n",
            "  inflating: /content/llms-for-image-geolocation-benchmarks/yfcc4k/yfcc4k/yfcc4k/5216220224.jpg  \n",
            "  inflating: /content/llms-for-image-geolocation-benchmarks/yfcc4k/yfcc4k/yfcc4k/5216595109.jpg  \n",
            "  inflating: /content/llms-for-image-geolocation-benchmarks/yfcc4k/yfcc4k/yfcc4k/5219647169.jpg  \n",
            "  inflating: /content/llms-for-image-geolocation-benchmarks/yfcc4k/yfcc4k/yfcc4k/5223637186.jpg  \n",
            "  inflating: /content/llms-for-image-geolocation-benchmarks/yfcc4k/yfcc4k/yfcc4k/5223971117.jpg  \n",
            "  inflating: /content/llms-for-image-geolocation-benchmarks/yfcc4k/yfcc4k/yfcc4k/5224241287.jpg  \n",
            "  inflating: /content/llms-for-image-geolocation-benchmarks/yfcc4k/yfcc4k/yfcc4k/5228552547.jpg  \n",
            "  inflating: /content/llms-for-image-geolocation-benchmarks/yfcc4k/yfcc4k/yfcc4k/5228701089.jpg  \n",
            "  inflating: /content/llms-for-image-geolocation-benchmarks/yfcc4k/yfcc4k/yfcc4k/5230227458.jpg  \n",
            "  inflating: /content/llms-for-image-geolocation-benchmarks/yfcc4k/yfcc4k/yfcc4k/5232317777.jpg  \n",
            "  inflating: /content/llms-for-image-geolocation-benchmarks/yfcc4k/yfcc4k/yfcc4k/5233400276.jpg  \n",
            "  inflating: /content/llms-for-image-geolocation-benchmarks/yfcc4k/yfcc4k/yfcc4k/5233797935.jpg  \n",
            "  inflating: /content/llms-for-image-geolocation-benchmarks/yfcc4k/yfcc4k/yfcc4k/5234516.jpg  \n",
            "  inflating: /content/llms-for-image-geolocation-benchmarks/yfcc4k/yfcc4k/yfcc4k/5235881828.jpg  \n",
            "  inflating: /content/llms-for-image-geolocation-benchmarks/yfcc4k/yfcc4k/yfcc4k/5236226803.jpg  \n",
            "  inflating: /content/llms-for-image-geolocation-benchmarks/yfcc4k/yfcc4k/yfcc4k/5238322049.jpg  \n",
            "  inflating: /content/llms-for-image-geolocation-benchmarks/yfcc4k/yfcc4k/yfcc4k/5238432774.jpg  \n",
            "  inflating: /content/llms-for-image-geolocation-benchmarks/yfcc4k/yfcc4k/yfcc4k/5239137373.jpg  \n",
            "  inflating: /content/llms-for-image-geolocation-benchmarks/yfcc4k/yfcc4k/yfcc4k/5240447300.jpg  \n",
            "  inflating: /content/llms-for-image-geolocation-benchmarks/yfcc4k/yfcc4k/yfcc4k/5243256870.jpg  \n",
            "  inflating: /content/llms-for-image-geolocation-benchmarks/yfcc4k/yfcc4k/yfcc4k/5247256165.jpg  \n",
            "  inflating: /content/llms-for-image-geolocation-benchmarks/yfcc4k/yfcc4k/yfcc4k/5249882772.jpg  \n",
            "  inflating: /content/llms-for-image-geolocation-benchmarks/yfcc4k/yfcc4k/yfcc4k/5249924279.jpg  \n",
            "  inflating: /content/llms-for-image-geolocation-benchmarks/yfcc4k/yfcc4k/yfcc4k/5252114293.jpg  \n",
            "  inflating: /content/llms-for-image-geolocation-benchmarks/yfcc4k/yfcc4k/yfcc4k/5252259386.jpg  \n",
            "  inflating: /content/llms-for-image-geolocation-benchmarks/yfcc4k/yfcc4k/yfcc4k/5253258650.jpg  \n",
            "  inflating: /content/llms-for-image-geolocation-benchmarks/yfcc4k/yfcc4k/yfcc4k/5253853924.jpg  \n",
            "  inflating: /content/llms-for-image-geolocation-benchmarks/yfcc4k/yfcc4k/yfcc4k/5253917535.jpg  \n",
            "  inflating: /content/llms-for-image-geolocation-benchmarks/yfcc4k/yfcc4k/yfcc4k/5256529811.jpg  \n",
            "  inflating: /content/llms-for-image-geolocation-benchmarks/yfcc4k/yfcc4k/yfcc4k/5259488883.jpg  \n",
            "  inflating: /content/llms-for-image-geolocation-benchmarks/yfcc4k/yfcc4k/yfcc4k/5259590986.jpg  \n",
            "  inflating: /content/llms-for-image-geolocation-benchmarks/yfcc4k/yfcc4k/yfcc4k/5259613038.jpg  \n",
            "  inflating: /content/llms-for-image-geolocation-benchmarks/yfcc4k/yfcc4k/yfcc4k/5260101836.jpg  \n",
            "  inflating: /content/llms-for-image-geolocation-benchmarks/yfcc4k/yfcc4k/yfcc4k/5260360200.jpg  \n",
            "  inflating: /content/llms-for-image-geolocation-benchmarks/yfcc4k/yfcc4k/yfcc4k/5262191045.jpg  \n",
            "  inflating: /content/llms-for-image-geolocation-benchmarks/yfcc4k/yfcc4k/yfcc4k/5265229662.jpg  \n",
            "  inflating: /content/llms-for-image-geolocation-benchmarks/yfcc4k/yfcc4k/yfcc4k/5268499023.jpg  \n",
            "  inflating: /content/llms-for-image-geolocation-benchmarks/yfcc4k/yfcc4k/yfcc4k/5268694133.jpg  \n",
            "  inflating: /content/llms-for-image-geolocation-benchmarks/yfcc4k/yfcc4k/yfcc4k/5270893012.jpg  \n",
            "  inflating: /content/llms-for-image-geolocation-benchmarks/yfcc4k/yfcc4k/yfcc4k/5271567337.jpg  \n",
            "  inflating: /content/llms-for-image-geolocation-benchmarks/yfcc4k/yfcc4k/yfcc4k/5272466093.jpg  \n",
            "  inflating: /content/llms-for-image-geolocation-benchmarks/yfcc4k/yfcc4k/yfcc4k/5273705329.jpg  \n",
            "  inflating: /content/llms-for-image-geolocation-benchmarks/yfcc4k/yfcc4k/yfcc4k/5274394245.jpg  \n",
            "  inflating: /content/llms-for-image-geolocation-benchmarks/yfcc4k/yfcc4k/yfcc4k/5275207031.jpg  \n",
            "  inflating: /content/llms-for-image-geolocation-benchmarks/yfcc4k/yfcc4k/yfcc4k/5277194081.jpg  \n",
            "  inflating: /content/llms-for-image-geolocation-benchmarks/yfcc4k/yfcc4k/yfcc4k/5277355644.jpg  \n",
            "  inflating: /content/llms-for-image-geolocation-benchmarks/yfcc4k/yfcc4k/yfcc4k/527870187.jpg  \n",
            "  inflating: /content/llms-for-image-geolocation-benchmarks/yfcc4k/yfcc4k/yfcc4k/5279301838.jpg  \n",
            "  inflating: /content/llms-for-image-geolocation-benchmarks/yfcc4k/yfcc4k/yfcc4k/5283179210.jpg  \n",
            "  inflating: /content/llms-for-image-geolocation-benchmarks/yfcc4k/yfcc4k/yfcc4k/5283307083.jpg  \n",
            "  inflating: /content/llms-for-image-geolocation-benchmarks/yfcc4k/yfcc4k/yfcc4k/5283480635.jpg  \n",
            "  inflating: /content/llms-for-image-geolocation-benchmarks/yfcc4k/yfcc4k/yfcc4k/5284442545.jpg  \n",
            "  inflating: /content/llms-for-image-geolocation-benchmarks/yfcc4k/yfcc4k/yfcc4k/5284737091.jpg  \n",
            "  inflating: /content/llms-for-image-geolocation-benchmarks/yfcc4k/yfcc4k/yfcc4k/5285117736.jpg  \n",
            "  inflating: /content/llms-for-image-geolocation-benchmarks/yfcc4k/yfcc4k/yfcc4k/5289438185.jpg  \n",
            "  inflating: /content/llms-for-image-geolocation-benchmarks/yfcc4k/yfcc4k/yfcc4k/529141508.jpg  \n",
            "  inflating: /content/llms-for-image-geolocation-benchmarks/yfcc4k/yfcc4k/yfcc4k/5292540094.jpg  \n",
            "  inflating: /content/llms-for-image-geolocation-benchmarks/yfcc4k/yfcc4k/yfcc4k/5293335092.jpg  \n",
            "  inflating: /content/llms-for-image-geolocation-benchmarks/yfcc4k/yfcc4k/yfcc4k/5293584162.jpg  \n",
            "  inflating: /content/llms-for-image-geolocation-benchmarks/yfcc4k/yfcc4k/yfcc4k/5295836223.jpg  \n",
            "  inflating: /content/llms-for-image-geolocation-benchmarks/yfcc4k/yfcc4k/yfcc4k/5296029128.jpg  \n",
            "  inflating: /content/llms-for-image-geolocation-benchmarks/yfcc4k/yfcc4k/yfcc4k/5312496877.jpg  \n",
            "  inflating: /content/llms-for-image-geolocation-benchmarks/yfcc4k/yfcc4k/yfcc4k/5313080176.jpg  \n",
            "  inflating: /content/llms-for-image-geolocation-benchmarks/yfcc4k/yfcc4k/yfcc4k/5314010496.jpg  \n",
            "  inflating: /content/llms-for-image-geolocation-benchmarks/yfcc4k/yfcc4k/yfcc4k/5314519767.jpg  \n",
            "  inflating: /content/llms-for-image-geolocation-benchmarks/yfcc4k/yfcc4k/yfcc4k/5315626098.jpg  \n",
            "  inflating: /content/llms-for-image-geolocation-benchmarks/yfcc4k/yfcc4k/yfcc4k/5316737243.jpg  \n",
            "  inflating: /content/llms-for-image-geolocation-benchmarks/yfcc4k/yfcc4k/yfcc4k/5318823304.jpg  \n",
            "  inflating: /content/llms-for-image-geolocation-benchmarks/yfcc4k/yfcc4k/yfcc4k/5318990866.jpg  \n",
            "  inflating: /content/llms-for-image-geolocation-benchmarks/yfcc4k/yfcc4k/yfcc4k/5319156305.jpg  \n",
            "  inflating: /content/llms-for-image-geolocation-benchmarks/yfcc4k/yfcc4k/yfcc4k/532164633.jpg  \n",
            "  inflating: /content/llms-for-image-geolocation-benchmarks/yfcc4k/yfcc4k/yfcc4k/5323034579.jpg  \n",
            "  inflating: /content/llms-for-image-geolocation-benchmarks/yfcc4k/yfcc4k/yfcc4k/5324836204.jpg  \n",
            "  inflating: /content/llms-for-image-geolocation-benchmarks/yfcc4k/yfcc4k/yfcc4k/5328392033.jpg  \n",
            "  inflating: /content/llms-for-image-geolocation-benchmarks/yfcc4k/yfcc4k/yfcc4k/5332686664.jpg  \n",
            "  inflating: /content/llms-for-image-geolocation-benchmarks/yfcc4k/yfcc4k/yfcc4k/5332986902.jpg  \n",
            "  inflating: /content/llms-for-image-geolocation-benchmarks/yfcc4k/yfcc4k/yfcc4k/5336501375.jpg  \n",
            "  inflating: /content/llms-for-image-geolocation-benchmarks/yfcc4k/yfcc4k/yfcc4k/5342958304.jpg  \n",
            "  inflating: /content/llms-for-image-geolocation-benchmarks/yfcc4k/yfcc4k/yfcc4k/5343212885.jpg  \n",
            "  inflating: /content/llms-for-image-geolocation-benchmarks/yfcc4k/yfcc4k/yfcc4k/5343703091.jpg  \n",
            "  inflating: /content/llms-for-image-geolocation-benchmarks/yfcc4k/yfcc4k/yfcc4k/5343931825.jpg  \n",
            "  inflating: /content/llms-for-image-geolocation-benchmarks/yfcc4k/yfcc4k/yfcc4k/5344681936.jpg  \n",
            "  inflating: /content/llms-for-image-geolocation-benchmarks/yfcc4k/yfcc4k/yfcc4k/5345919296.jpg  \n",
            "  inflating: /content/llms-for-image-geolocation-benchmarks/yfcc4k/yfcc4k/yfcc4k/5347155446.jpg  \n",
            "  inflating: /content/llms-for-image-geolocation-benchmarks/yfcc4k/yfcc4k/yfcc4k/5347221257.jpg  \n",
            "  inflating: /content/llms-for-image-geolocation-benchmarks/yfcc4k/yfcc4k/yfcc4k/5347447908.jpg  \n",
            "  inflating: /content/llms-for-image-geolocation-benchmarks/yfcc4k/yfcc4k/yfcc4k/5348266763.jpg  \n",
            "  inflating: /content/llms-for-image-geolocation-benchmarks/yfcc4k/yfcc4k/yfcc4k/535164207.jpg  \n",
            "  inflating: /content/llms-for-image-geolocation-benchmarks/yfcc4k/yfcc4k/yfcc4k/5353933068.jpg  \n",
            "  inflating: /content/llms-for-image-geolocation-benchmarks/yfcc4k/yfcc4k/yfcc4k/5354049770.jpg  \n",
            "  inflating: /content/llms-for-image-geolocation-benchmarks/yfcc4k/yfcc4k/yfcc4k/5354804952.jpg  \n",
            "  inflating: /content/llms-for-image-geolocation-benchmarks/yfcc4k/yfcc4k/yfcc4k/5355169690.jpg  \n",
            "  inflating: /content/llms-for-image-geolocation-benchmarks/yfcc4k/yfcc4k/yfcc4k/5355846891.jpg  \n",
            "  inflating: /content/llms-for-image-geolocation-benchmarks/yfcc4k/yfcc4k/yfcc4k/5364272251.jpg  \n",
            "  inflating: /content/llms-for-image-geolocation-benchmarks/yfcc4k/yfcc4k/yfcc4k/5365150692.jpg  \n",
            "  inflating: /content/llms-for-image-geolocation-benchmarks/yfcc4k/yfcc4k/yfcc4k/5365632276.jpg  \n",
            "  inflating: /content/llms-for-image-geolocation-benchmarks/yfcc4k/yfcc4k/yfcc4k/5366840325.jpg  \n",
            "  inflating: /content/llms-for-image-geolocation-benchmarks/yfcc4k/yfcc4k/yfcc4k/5368831250.jpg  \n",
            "  inflating: /content/llms-for-image-geolocation-benchmarks/yfcc4k/yfcc4k/yfcc4k/5369229583.jpg  \n",
            "  inflating: /content/llms-for-image-geolocation-benchmarks/yfcc4k/yfcc4k/yfcc4k/5369677962.jpg  \n",
            "  inflating: /content/llms-for-image-geolocation-benchmarks/yfcc4k/yfcc4k/yfcc4k/5371210955.jpg  \n",
            "  inflating: /content/llms-for-image-geolocation-benchmarks/yfcc4k/yfcc4k/yfcc4k/5372596670.jpg  \n",
            "  inflating: /content/llms-for-image-geolocation-benchmarks/yfcc4k/yfcc4k/yfcc4k/5372730168.jpg  \n",
            "  inflating: /content/llms-for-image-geolocation-benchmarks/yfcc4k/yfcc4k/yfcc4k/5376271001.jpg  \n",
            "  inflating: /content/llms-for-image-geolocation-benchmarks/yfcc4k/yfcc4k/yfcc4k/5376627831.jpg  \n",
            "  inflating: /content/llms-for-image-geolocation-benchmarks/yfcc4k/yfcc4k/yfcc4k/5376673035.jpg  \n",
            "  inflating: /content/llms-for-image-geolocation-benchmarks/yfcc4k/yfcc4k/yfcc4k/5377063928.jpg  \n",
            "  inflating: /content/llms-for-image-geolocation-benchmarks/yfcc4k/yfcc4k/yfcc4k/5377142291.jpg  \n",
            "  inflating: /content/llms-for-image-geolocation-benchmarks/yfcc4k/yfcc4k/yfcc4k/5377288276.jpg  \n",
            "  inflating: /content/llms-for-image-geolocation-benchmarks/yfcc4k/yfcc4k/yfcc4k/5377580962.jpg  \n",
            "  inflating: /content/llms-for-image-geolocation-benchmarks/yfcc4k/yfcc4k/yfcc4k/5380773202.jpg  \n",
            "  inflating: /content/llms-for-image-geolocation-benchmarks/yfcc4k/yfcc4k/yfcc4k/5381502622.jpg  \n",
            "  inflating: /content/llms-for-image-geolocation-benchmarks/yfcc4k/yfcc4k/yfcc4k/5381650268.jpg  \n",
            "  inflating: /content/llms-for-image-geolocation-benchmarks/yfcc4k/yfcc4k/yfcc4k/5382023348.jpg  \n",
            "  inflating: /content/llms-for-image-geolocation-benchmarks/yfcc4k/yfcc4k/yfcc4k/5382559184.jpg  \n",
            "  inflating: /content/llms-for-image-geolocation-benchmarks/yfcc4k/yfcc4k/yfcc4k/5383163050.jpg  \n",
            "  inflating: /content/llms-for-image-geolocation-benchmarks/yfcc4k/yfcc4k/yfcc4k/5384763398.jpg  \n",
            "  inflating: /content/llms-for-image-geolocation-benchmarks/yfcc4k/yfcc4k/yfcc4k/5385319328.jpg  \n",
            "  inflating: /content/llms-for-image-geolocation-benchmarks/yfcc4k/yfcc4k/yfcc4k/5390648368.jpg  \n",
            "  inflating: /content/llms-for-image-geolocation-benchmarks/yfcc4k/yfcc4k/yfcc4k/5393270358.jpg  \n",
            "  inflating: /content/llms-for-image-geolocation-benchmarks/yfcc4k/yfcc4k/yfcc4k/5395039226.jpg  \n",
            "  inflating: /content/llms-for-image-geolocation-benchmarks/yfcc4k/yfcc4k/yfcc4k/5399954648.jpg  \n",
            "  inflating: /content/llms-for-image-geolocation-benchmarks/yfcc4k/yfcc4k/yfcc4k/5400863458.jpg  \n",
            "  inflating: /content/llms-for-image-geolocation-benchmarks/yfcc4k/yfcc4k/yfcc4k/5401003387.jpg  \n",
            "  inflating: /content/llms-for-image-geolocation-benchmarks/yfcc4k/yfcc4k/yfcc4k/540323791.jpg  \n",
            "  inflating: /content/llms-for-image-geolocation-benchmarks/yfcc4k/yfcc4k/yfcc4k/5410068479.jpg  \n",
            "  inflating: /content/llms-for-image-geolocation-benchmarks/yfcc4k/yfcc4k/yfcc4k/5410885852.jpg  \n",
            "  inflating: /content/llms-for-image-geolocation-benchmarks/yfcc4k/yfcc4k/yfcc4k/5415699503.jpg  \n",
            "  inflating: /content/llms-for-image-geolocation-benchmarks/yfcc4k/yfcc4k/yfcc4k/5420986936.jpg  \n",
            "  inflating: /content/llms-for-image-geolocation-benchmarks/yfcc4k/yfcc4k/yfcc4k/5422443578.jpg  \n",
            "  inflating: /content/llms-for-image-geolocation-benchmarks/yfcc4k/yfcc4k/yfcc4k/5422513826.jpg  \n",
            "  inflating: /content/llms-for-image-geolocation-benchmarks/yfcc4k/yfcc4k/yfcc4k/5422921840.jpg  \n",
            "  inflating: /content/llms-for-image-geolocation-benchmarks/yfcc4k/yfcc4k/yfcc4k/5423842789.jpg  \n",
            "  inflating: /content/llms-for-image-geolocation-benchmarks/yfcc4k/yfcc4k/yfcc4k/5426642656.jpg  \n",
            "  inflating: /content/llms-for-image-geolocation-benchmarks/yfcc4k/yfcc4k/yfcc4k/5426844375.jpg  \n",
            "  inflating: /content/llms-for-image-geolocation-benchmarks/yfcc4k/yfcc4k/yfcc4k/5428225532.jpg  \n",
            "  inflating: /content/llms-for-image-geolocation-benchmarks/yfcc4k/yfcc4k/yfcc4k/5429434167.jpg  \n",
            "  inflating: /content/llms-for-image-geolocation-benchmarks/yfcc4k/yfcc4k/yfcc4k/5429833582.jpg  \n",
            "  inflating: /content/llms-for-image-geolocation-benchmarks/yfcc4k/yfcc4k/yfcc4k/5430361099.jpg  \n",
            "  inflating: /content/llms-for-image-geolocation-benchmarks/yfcc4k/yfcc4k/yfcc4k/5431393309.jpg  \n",
            "  inflating: /content/llms-for-image-geolocation-benchmarks/yfcc4k/yfcc4k/yfcc4k/5433608644.jpg  \n",
            "  inflating: /content/llms-for-image-geolocation-benchmarks/yfcc4k/yfcc4k/yfcc4k/5434252597.jpg  \n",
            "  inflating: /content/llms-for-image-geolocation-benchmarks/yfcc4k/yfcc4k/yfcc4k/5434343003.jpg  \n",
            "  inflating: /content/llms-for-image-geolocation-benchmarks/yfcc4k/yfcc4k/yfcc4k/5434435230.jpg  \n",
            "  inflating: /content/llms-for-image-geolocation-benchmarks/yfcc4k/yfcc4k/yfcc4k/5434819262.jpg  \n",
            "  inflating: /content/llms-for-image-geolocation-benchmarks/yfcc4k/yfcc4k/yfcc4k/5434953020.jpg  \n",
            "  inflating: /content/llms-for-image-geolocation-benchmarks/yfcc4k/yfcc4k/yfcc4k/5436129753.jpg  \n",
            "  inflating: /content/llms-for-image-geolocation-benchmarks/yfcc4k/yfcc4k/yfcc4k/5438409633.jpg  \n",
            "  inflating: /content/llms-for-image-geolocation-benchmarks/yfcc4k/yfcc4k/yfcc4k/5438672974.jpg  \n",
            "  inflating: /content/llms-for-image-geolocation-benchmarks/yfcc4k/yfcc4k/yfcc4k/5441757512.jpg  \n",
            "  inflating: /content/llms-for-image-geolocation-benchmarks/yfcc4k/yfcc4k/yfcc4k/5443093620.jpg  \n",
            "  inflating: /content/llms-for-image-geolocation-benchmarks/yfcc4k/yfcc4k/yfcc4k/5443584908.jpg  \n",
            "  inflating: /content/llms-for-image-geolocation-benchmarks/yfcc4k/yfcc4k/yfcc4k/5445521757.jpg  \n",
            "  inflating: /content/llms-for-image-geolocation-benchmarks/yfcc4k/yfcc4k/yfcc4k/5445604814.jpg  \n",
            "  inflating: /content/llms-for-image-geolocation-benchmarks/yfcc4k/yfcc4k/yfcc4k/5446483053.jpg  \n",
            "  inflating: /content/llms-for-image-geolocation-benchmarks/yfcc4k/yfcc4k/yfcc4k/5448317091.jpg  \n",
            "  inflating: /content/llms-for-image-geolocation-benchmarks/yfcc4k/yfcc4k/yfcc4k/5451685114.jpg  \n",
            "  inflating: /content/llms-for-image-geolocation-benchmarks/yfcc4k/yfcc4k/yfcc4k/5453364851.jpg  \n",
            "  inflating: /content/llms-for-image-geolocation-benchmarks/yfcc4k/yfcc4k/yfcc4k/5454340955.jpg  \n",
            "  inflating: /content/llms-for-image-geolocation-benchmarks/yfcc4k/yfcc4k/yfcc4k/5454611571.jpg  \n",
            "  inflating: /content/llms-for-image-geolocation-benchmarks/yfcc4k/yfcc4k/yfcc4k/5455193200.jpg  \n",
            "  inflating: /content/llms-for-image-geolocation-benchmarks/yfcc4k/yfcc4k/yfcc4k/5457415350.jpg  \n",
            "  inflating: /content/llms-for-image-geolocation-benchmarks/yfcc4k/yfcc4k/yfcc4k/5460523415.jpg  \n",
            "  inflating: /content/llms-for-image-geolocation-benchmarks/yfcc4k/yfcc4k/yfcc4k/5461241765.jpg  \n",
            "  inflating: /content/llms-for-image-geolocation-benchmarks/yfcc4k/yfcc4k/yfcc4k/5461713620.jpg  \n",
            "  inflating: /content/llms-for-image-geolocation-benchmarks/yfcc4k/yfcc4k/yfcc4k/5461878823.jpg  \n",
            "  inflating: /content/llms-for-image-geolocation-benchmarks/yfcc4k/yfcc4k/yfcc4k/5463631721.jpg  \n",
            "  inflating: /content/llms-for-image-geolocation-benchmarks/yfcc4k/yfcc4k/yfcc4k/5464939394.jpg  \n",
            "  inflating: /content/llms-for-image-geolocation-benchmarks/yfcc4k/yfcc4k/yfcc4k/5465421614.jpg  \n",
            "  inflating: /content/llms-for-image-geolocation-benchmarks/yfcc4k/yfcc4k/yfcc4k/5465764498.jpg  \n",
            "  inflating: /content/llms-for-image-geolocation-benchmarks/yfcc4k/yfcc4k/yfcc4k/5469991500.jpg  \n",
            "  inflating: /content/llms-for-image-geolocation-benchmarks/yfcc4k/yfcc4k/yfcc4k/5470172039.jpg  \n",
            "  inflating: /content/llms-for-image-geolocation-benchmarks/yfcc4k/yfcc4k/yfcc4k/5470200185.jpg  \n",
            "  inflating: /content/llms-for-image-geolocation-benchmarks/yfcc4k/yfcc4k/yfcc4k/5470807308.jpg  \n",
            "  inflating: /content/llms-for-image-geolocation-benchmarks/yfcc4k/yfcc4k/yfcc4k/5472051055.jpg  \n",
            "  inflating: /content/llms-for-image-geolocation-benchmarks/yfcc4k/yfcc4k/yfcc4k/5473858623.jpg  \n",
            "  inflating: /content/llms-for-image-geolocation-benchmarks/yfcc4k/yfcc4k/yfcc4k/5474334961.jpg  \n",
            "  inflating: /content/llms-for-image-geolocation-benchmarks/yfcc4k/yfcc4k/yfcc4k/5474784405.jpg  \n",
            "  inflating: /content/llms-for-image-geolocation-benchmarks/yfcc4k/yfcc4k/yfcc4k/5474875411.jpg  \n",
            "  inflating: /content/llms-for-image-geolocation-benchmarks/yfcc4k/yfcc4k/yfcc4k/5475270166.jpg  \n",
            "  inflating: /content/llms-for-image-geolocation-benchmarks/yfcc4k/yfcc4k/yfcc4k/5476069778.jpg  \n",
            "  inflating: /content/llms-for-image-geolocation-benchmarks/yfcc4k/yfcc4k/yfcc4k/5477965541.jpg  \n",
            "  inflating: /content/llms-for-image-geolocation-benchmarks/yfcc4k/yfcc4k/yfcc4k/5479921058.jpg  \n",
            "  inflating: /content/llms-for-image-geolocation-benchmarks/yfcc4k/yfcc4k/yfcc4k/5480016313.jpg  \n",
            "  inflating: /content/llms-for-image-geolocation-benchmarks/yfcc4k/yfcc4k/yfcc4k/548157828.jpg  \n",
            "  inflating: /content/llms-for-image-geolocation-benchmarks/yfcc4k/yfcc4k/yfcc4k/5481961530.jpg  \n",
            "  inflating: /content/llms-for-image-geolocation-benchmarks/yfcc4k/yfcc4k/yfcc4k/5482012321.jpg  \n",
            "  inflating: /content/llms-for-image-geolocation-benchmarks/yfcc4k/yfcc4k/yfcc4k/5484482393.jpg  \n",
            "  inflating: /content/llms-for-image-geolocation-benchmarks/yfcc4k/yfcc4k/yfcc4k/5485675608.jpg  \n",
            "  inflating: /content/llms-for-image-geolocation-benchmarks/yfcc4k/yfcc4k/yfcc4k/5486278354.jpg  \n",
            "  inflating: /content/llms-for-image-geolocation-benchmarks/yfcc4k/yfcc4k/yfcc4k/5486480999.jpg  \n",
            "  inflating: /content/llms-for-image-geolocation-benchmarks/yfcc4k/yfcc4k/yfcc4k/5486606339.jpg  \n",
            "  inflating: /content/llms-for-image-geolocation-benchmarks/yfcc4k/yfcc4k/yfcc4k/5497376227.jpg  \n",
            "  inflating: /content/llms-for-image-geolocation-benchmarks/yfcc4k/yfcc4k/yfcc4k/5498145220.jpg  \n",
            "  inflating: /content/llms-for-image-geolocation-benchmarks/yfcc4k/yfcc4k/yfcc4k/5501579674.jpg  \n",
            "  inflating: /content/llms-for-image-geolocation-benchmarks/yfcc4k/yfcc4k/yfcc4k/5503367558.jpg  \n",
            "  inflating: /content/llms-for-image-geolocation-benchmarks/yfcc4k/yfcc4k/yfcc4k/5503994195.jpg  \n",
            "  inflating: /content/llms-for-image-geolocation-benchmarks/yfcc4k/yfcc4k/yfcc4k/5507336422.jpg  \n",
            "  inflating: /content/llms-for-image-geolocation-benchmarks/yfcc4k/yfcc4k/yfcc4k/5509489942.jpg  \n",
            "  inflating: /content/llms-for-image-geolocation-benchmarks/yfcc4k/yfcc4k/yfcc4k/5509836613.jpg  \n",
            "  inflating: /content/llms-for-image-geolocation-benchmarks/yfcc4k/yfcc4k/yfcc4k/5511575021.jpg  \n",
            "  inflating: /content/llms-for-image-geolocation-benchmarks/yfcc4k/yfcc4k/yfcc4k/5511591826.jpg  \n",
            "  inflating: /content/llms-for-image-geolocation-benchmarks/yfcc4k/yfcc4k/yfcc4k/5513263097.jpg  \n",
            "  inflating: /content/llms-for-image-geolocation-benchmarks/yfcc4k/yfcc4k/yfcc4k/5514467699.jpg  \n",
            "  inflating: /content/llms-for-image-geolocation-benchmarks/yfcc4k/yfcc4k/yfcc4k/5516597458.jpg  \n",
            "  inflating: /content/llms-for-image-geolocation-benchmarks/yfcc4k/yfcc4k/yfcc4k/5520507037.jpg  \n",
            "  inflating: /content/llms-for-image-geolocation-benchmarks/yfcc4k/yfcc4k/yfcc4k/5525569801.jpg  \n",
            "  inflating: /content/llms-for-image-geolocation-benchmarks/yfcc4k/yfcc4k/yfcc4k/5528558511.jpg  \n",
            "  inflating: /content/llms-for-image-geolocation-benchmarks/yfcc4k/yfcc4k/yfcc4k/5528799870.jpg  \n",
            "  inflating: /content/llms-for-image-geolocation-benchmarks/yfcc4k/yfcc4k/yfcc4k/5529098527.jpg  \n",
            "  inflating: /content/llms-for-image-geolocation-benchmarks/yfcc4k/yfcc4k/yfcc4k/5532999215.jpg  \n",
            "  inflating: /content/llms-for-image-geolocation-benchmarks/yfcc4k/yfcc4k/yfcc4k/5533178564.jpg  \n",
            "  inflating: /content/llms-for-image-geolocation-benchmarks/yfcc4k/yfcc4k/yfcc4k/5534246982.jpg  \n",
            "  inflating: /content/llms-for-image-geolocation-benchmarks/yfcc4k/yfcc4k/yfcc4k/5535400554.jpg  \n",
            "  inflating: /content/llms-for-image-geolocation-benchmarks/yfcc4k/yfcc4k/yfcc4k/5536413595.jpg  \n",
            "  inflating: /content/llms-for-image-geolocation-benchmarks/yfcc4k/yfcc4k/yfcc4k/5536895555.jpg  \n",
            "  inflating: /content/llms-for-image-geolocation-benchmarks/yfcc4k/yfcc4k/yfcc4k/5538120629.jpg  \n",
            "  inflating: /content/llms-for-image-geolocation-benchmarks/yfcc4k/yfcc4k/yfcc4k/5538132703.jpg  \n",
            "  inflating: /content/llms-for-image-geolocation-benchmarks/yfcc4k/yfcc4k/yfcc4k/5538346539.jpg  \n",
            "  inflating: /content/llms-for-image-geolocation-benchmarks/yfcc4k/yfcc4k/yfcc4k/5540443108.jpg  \n",
            "  inflating: /content/llms-for-image-geolocation-benchmarks/yfcc4k/yfcc4k/yfcc4k/5541985880.jpg  \n",
            "  inflating: /content/llms-for-image-geolocation-benchmarks/yfcc4k/yfcc4k/yfcc4k/5543245769.jpg  \n",
            "  inflating: /content/llms-for-image-geolocation-benchmarks/yfcc4k/yfcc4k/yfcc4k/5543627961.jpg  \n",
            "  inflating: /content/llms-for-image-geolocation-benchmarks/yfcc4k/yfcc4k/yfcc4k/5545165559.jpg  \n",
            "  inflating: /content/llms-for-image-geolocation-benchmarks/yfcc4k/yfcc4k/yfcc4k/5545757142.jpg  \n",
            "  inflating: /content/llms-for-image-geolocation-benchmarks/yfcc4k/yfcc4k/yfcc4k/5546056222.jpg  \n",
            "  inflating: /content/llms-for-image-geolocation-benchmarks/yfcc4k/yfcc4k/yfcc4k/5546152733.jpg  \n",
            "  inflating: /content/llms-for-image-geolocation-benchmarks/yfcc4k/yfcc4k/yfcc4k/5548423806.jpg  \n",
            "  inflating: /content/llms-for-image-geolocation-benchmarks/yfcc4k/yfcc4k/yfcc4k/5548510439.jpg  \n",
            "  inflating: /content/llms-for-image-geolocation-benchmarks/yfcc4k/yfcc4k/yfcc4k/5551483681.jpg  \n",
            "  inflating: /content/llms-for-image-geolocation-benchmarks/yfcc4k/yfcc4k/yfcc4k/5551918599.jpg  \n",
            "  inflating: /content/llms-for-image-geolocation-benchmarks/yfcc4k/yfcc4k/yfcc4k/5552028943.jpg  \n",
            "  inflating: /content/llms-for-image-geolocation-benchmarks/yfcc4k/yfcc4k/yfcc4k/5552742965.jpg  \n",
            "  inflating: /content/llms-for-image-geolocation-benchmarks/yfcc4k/yfcc4k/yfcc4k/5553264935.jpg  \n",
            "  inflating: /content/llms-for-image-geolocation-benchmarks/yfcc4k/yfcc4k/yfcc4k/5553554096.jpg  \n",
            "  inflating: /content/llms-for-image-geolocation-benchmarks/yfcc4k/yfcc4k/yfcc4k/5554293618.jpg  \n",
            "  inflating: /content/llms-for-image-geolocation-benchmarks/yfcc4k/yfcc4k/yfcc4k/5554431641.jpg  \n",
            "  inflating: /content/llms-for-image-geolocation-benchmarks/yfcc4k/yfcc4k/yfcc4k/5554784856.jpg  \n",
            "  inflating: /content/llms-for-image-geolocation-benchmarks/yfcc4k/yfcc4k/yfcc4k/5555921851.jpg  \n",
            "  inflating: /content/llms-for-image-geolocation-benchmarks/yfcc4k/yfcc4k/yfcc4k/5556162793.jpg  \n",
            "  inflating: /content/llms-for-image-geolocation-benchmarks/yfcc4k/yfcc4k/yfcc4k/5557031802.jpg  \n",
            "  inflating: /content/llms-for-image-geolocation-benchmarks/yfcc4k/yfcc4k/yfcc4k/5558253851.jpg  \n",
            "  inflating: /content/llms-for-image-geolocation-benchmarks/yfcc4k/yfcc4k/yfcc4k/5561558516.jpg  \n",
            "  inflating: /content/llms-for-image-geolocation-benchmarks/yfcc4k/yfcc4k/yfcc4k/5561779793.jpg  \n",
            "  inflating: /content/llms-for-image-geolocation-benchmarks/yfcc4k/yfcc4k/yfcc4k/556199541.jpg  \n",
            "  inflating: /content/llms-for-image-geolocation-benchmarks/yfcc4k/yfcc4k/yfcc4k/5562314575.jpg  \n",
            "  inflating: /content/llms-for-image-geolocation-benchmarks/yfcc4k/yfcc4k/yfcc4k/5562636283.jpg  \n",
            "  inflating: /content/llms-for-image-geolocation-benchmarks/yfcc4k/yfcc4k/yfcc4k/5562836806.jpg  \n",
            "  inflating: /content/llms-for-image-geolocation-benchmarks/yfcc4k/yfcc4k/yfcc4k/5564641547.jpg  \n",
            "  inflating: /content/llms-for-image-geolocation-benchmarks/yfcc4k/yfcc4k/yfcc4k/5565910941.jpg  \n",
            "  inflating: /content/llms-for-image-geolocation-benchmarks/yfcc4k/yfcc4k/yfcc4k/5567374184.jpg  \n",
            "  inflating: /content/llms-for-image-geolocation-benchmarks/yfcc4k/yfcc4k/yfcc4k/5568371897.jpg  \n",
            "  inflating: /content/llms-for-image-geolocation-benchmarks/yfcc4k/yfcc4k/yfcc4k/5568746908.jpg  \n",
            "  inflating: /content/llms-for-image-geolocation-benchmarks/yfcc4k/yfcc4k/yfcc4k/5569475005.jpg  \n",
            "  inflating: /content/llms-for-image-geolocation-benchmarks/yfcc4k/yfcc4k/yfcc4k/5569928062.jpg  \n",
            "  inflating: /content/llms-for-image-geolocation-benchmarks/yfcc4k/yfcc4k/yfcc4k/5571756165.jpg  \n",
            "  inflating: /content/llms-for-image-geolocation-benchmarks/yfcc4k/yfcc4k/yfcc4k/5571795252.jpg  \n",
            "  inflating: /content/llms-for-image-geolocation-benchmarks/yfcc4k/yfcc4k/yfcc4k/5573741280.jpg  \n",
            "  inflating: /content/llms-for-image-geolocation-benchmarks/yfcc4k/yfcc4k/yfcc4k/5574398835.jpg  \n",
            "  inflating: /content/llms-for-image-geolocation-benchmarks/yfcc4k/yfcc4k/yfcc4k/5576004260.jpg  \n",
            "  inflating: /content/llms-for-image-geolocation-benchmarks/yfcc4k/yfcc4k/yfcc4k/5577601568.jpg  \n",
            "  inflating: /content/llms-for-image-geolocation-benchmarks/yfcc4k/yfcc4k/yfcc4k/5579878005.jpg  \n",
            "  inflating: /content/llms-for-image-geolocation-benchmarks/yfcc4k/yfcc4k/yfcc4k/5581458562.jpg  \n",
            "  inflating: /content/llms-for-image-geolocation-benchmarks/yfcc4k/yfcc4k/yfcc4k/5581616117.jpg  \n",
            "  inflating: /content/llms-for-image-geolocation-benchmarks/yfcc4k/yfcc4k/yfcc4k/5581797913.jpg  \n",
            "  inflating: /content/llms-for-image-geolocation-benchmarks/yfcc4k/yfcc4k/yfcc4k/5583108612.jpg  \n",
            "  inflating: /content/llms-for-image-geolocation-benchmarks/yfcc4k/yfcc4k/yfcc4k/5586655690.jpg  \n",
            "  inflating: /content/llms-for-image-geolocation-benchmarks/yfcc4k/yfcc4k/yfcc4k/5589357278.jpg  \n",
            "  inflating: /content/llms-for-image-geolocation-benchmarks/yfcc4k/yfcc4k/yfcc4k/5590333357.jpg  \n",
            "  inflating: /content/llms-for-image-geolocation-benchmarks/yfcc4k/yfcc4k/yfcc4k/5590469313.jpg  \n",
            "  inflating: /content/llms-for-image-geolocation-benchmarks/yfcc4k/yfcc4k/yfcc4k/5593928652.jpg  \n",
            "  inflating: /content/llms-for-image-geolocation-benchmarks/yfcc4k/yfcc4k/yfcc4k/5594536147.jpg  \n",
            "  inflating: /content/llms-for-image-geolocation-benchmarks/yfcc4k/yfcc4k/yfcc4k/5595122987.jpg  \n",
            "  inflating: /content/llms-for-image-geolocation-benchmarks/yfcc4k/yfcc4k/yfcc4k/5595998892.jpg  \n",
            "  inflating: /content/llms-for-image-geolocation-benchmarks/yfcc4k/yfcc4k/yfcc4k/5596849799.jpg  \n",
            "  inflating: /content/llms-for-image-geolocation-benchmarks/yfcc4k/yfcc4k/yfcc4k/5598004716.jpg  \n",
            "  inflating: /content/llms-for-image-geolocation-benchmarks/yfcc4k/yfcc4k/yfcc4k/5601959835.jpg  \n",
            "  inflating: /content/llms-for-image-geolocation-benchmarks/yfcc4k/yfcc4k/yfcc4k/5602061140.jpg  \n",
            "  inflating: /content/llms-for-image-geolocation-benchmarks/yfcc4k/yfcc4k/yfcc4k/5605792094.jpg  \n",
            "  inflating: /content/llms-for-image-geolocation-benchmarks/yfcc4k/yfcc4k/yfcc4k/5606980511.jpg  \n",
            "  inflating: /content/llms-for-image-geolocation-benchmarks/yfcc4k/yfcc4k/yfcc4k/5607345876.jpg  \n",
            "  inflating: /content/llms-for-image-geolocation-benchmarks/yfcc4k/yfcc4k/yfcc4k/5607376993.jpg  \n",
            "  inflating: /content/llms-for-image-geolocation-benchmarks/yfcc4k/yfcc4k/yfcc4k/5609042841.jpg  \n",
            "  inflating: /content/llms-for-image-geolocation-benchmarks/yfcc4k/yfcc4k/yfcc4k/5609265861.jpg  \n",
            "  inflating: /content/llms-for-image-geolocation-benchmarks/yfcc4k/yfcc4k/yfcc4k/5609639430.jpg  \n",
            "  inflating: /content/llms-for-image-geolocation-benchmarks/yfcc4k/yfcc4k/yfcc4k/5612350259.jpg  \n",
            "  inflating: /content/llms-for-image-geolocation-benchmarks/yfcc4k/yfcc4k/yfcc4k/5613103057.jpg  \n",
            "  inflating: /content/llms-for-image-geolocation-benchmarks/yfcc4k/yfcc4k/yfcc4k/5613241326.jpg  \n",
            "  inflating: /content/llms-for-image-geolocation-benchmarks/yfcc4k/yfcc4k/yfcc4k/5613484041.jpg  \n",
            "  inflating: /content/llms-for-image-geolocation-benchmarks/yfcc4k/yfcc4k/yfcc4k/561422839.jpg  \n",
            "  inflating: /content/llms-for-image-geolocation-benchmarks/yfcc4k/yfcc4k/yfcc4k/5617974246.jpg  \n",
            "  inflating: /content/llms-for-image-geolocation-benchmarks/yfcc4k/yfcc4k/yfcc4k/5618933644.jpg  \n",
            "  inflating: /content/llms-for-image-geolocation-benchmarks/yfcc4k/yfcc4k/yfcc4k/5619533259.jpg  \n",
            "  inflating: /content/llms-for-image-geolocation-benchmarks/yfcc4k/yfcc4k/yfcc4k/5619549154.jpg  \n",
            "  inflating: /content/llms-for-image-geolocation-benchmarks/yfcc4k/yfcc4k/yfcc4k/5620478360.jpg  \n",
            "  inflating: /content/llms-for-image-geolocation-benchmarks/yfcc4k/yfcc4k/yfcc4k/5622524241.jpg  \n",
            "  inflating: /content/llms-for-image-geolocation-benchmarks/yfcc4k/yfcc4k/yfcc4k/5622798430.jpg  \n",
            "  inflating: /content/llms-for-image-geolocation-benchmarks/yfcc4k/yfcc4k/yfcc4k/5623082341.jpg  \n",
            "  inflating: /content/llms-for-image-geolocation-benchmarks/yfcc4k/yfcc4k/yfcc4k/5624732449.jpg  \n",
            "  inflating: /content/llms-for-image-geolocation-benchmarks/yfcc4k/yfcc4k/yfcc4k/5624978360.jpg  \n",
            "  inflating: /content/llms-for-image-geolocation-benchmarks/yfcc4k/yfcc4k/yfcc4k/5625491684.jpg  \n",
            "  inflating: /content/llms-for-image-geolocation-benchmarks/yfcc4k/yfcc4k/yfcc4k/5625941281.jpg  \n",
            "  inflating: /content/llms-for-image-geolocation-benchmarks/yfcc4k/yfcc4k/yfcc4k/5626791110.jpg  \n",
            "  inflating: /content/llms-for-image-geolocation-benchmarks/yfcc4k/yfcc4k/yfcc4k/5628614932.jpg  \n",
            "  inflating: /content/llms-for-image-geolocation-benchmarks/yfcc4k/yfcc4k/yfcc4k/5628690825.jpg  \n",
            "  inflating: /content/llms-for-image-geolocation-benchmarks/yfcc4k/yfcc4k/yfcc4k/5629348878.jpg  \n",
            "  inflating: /content/llms-for-image-geolocation-benchmarks/yfcc4k/yfcc4k/yfcc4k/5631140764.jpg  \n",
            "  inflating: /content/llms-for-image-geolocation-benchmarks/yfcc4k/yfcc4k/yfcc4k/5631201986.jpg  \n",
            "  inflating: /content/llms-for-image-geolocation-benchmarks/yfcc4k/yfcc4k/yfcc4k/5631657949.jpg  \n",
            "  inflating: /content/llms-for-image-geolocation-benchmarks/yfcc4k/yfcc4k/yfcc4k/5637257237.jpg  \n",
            "  inflating: /content/llms-for-image-geolocation-benchmarks/yfcc4k/yfcc4k/yfcc4k/5639532893.jpg  \n",
            "  inflating: /content/llms-for-image-geolocation-benchmarks/yfcc4k/yfcc4k/yfcc4k/5640385395.jpg  \n",
            "  inflating: /content/llms-for-image-geolocation-benchmarks/yfcc4k/yfcc4k/yfcc4k/5640596723.jpg  \n",
            "  inflating: /content/llms-for-image-geolocation-benchmarks/yfcc4k/yfcc4k/yfcc4k/5642883884.jpg  \n",
            "  inflating: /content/llms-for-image-geolocation-benchmarks/yfcc4k/yfcc4k/yfcc4k/5644337572.jpg  \n",
            "  inflating: /content/llms-for-image-geolocation-benchmarks/yfcc4k/yfcc4k/yfcc4k/5645366543.jpg  \n",
            "  inflating: /content/llms-for-image-geolocation-benchmarks/yfcc4k/yfcc4k/yfcc4k/5645686547.jpg  \n",
            "  inflating: /content/llms-for-image-geolocation-benchmarks/yfcc4k/yfcc4k/yfcc4k/5649342359.jpg  \n",
            "  inflating: /content/llms-for-image-geolocation-benchmarks/yfcc4k/yfcc4k/yfcc4k/5649387301.jpg  \n",
            "  inflating: /content/llms-for-image-geolocation-benchmarks/yfcc4k/yfcc4k/yfcc4k/5653121597.jpg  \n",
            "  inflating: /content/llms-for-image-geolocation-benchmarks/yfcc4k/yfcc4k/yfcc4k/5653220171.jpg  \n",
            "  inflating: /content/llms-for-image-geolocation-benchmarks/yfcc4k/yfcc4k/yfcc4k/5653802055.jpg  \n",
            "  inflating: /content/llms-for-image-geolocation-benchmarks/yfcc4k/yfcc4k/yfcc4k/5653828449.jpg  \n",
            "  inflating: /content/llms-for-image-geolocation-benchmarks/yfcc4k/yfcc4k/yfcc4k/565519767.jpg  \n",
            "  inflating: /content/llms-for-image-geolocation-benchmarks/yfcc4k/yfcc4k/yfcc4k/5655200189.jpg  \n",
            "  inflating: /content/llms-for-image-geolocation-benchmarks/yfcc4k/yfcc4k/yfcc4k/5656824925.jpg  \n",
            "  inflating: /content/llms-for-image-geolocation-benchmarks/yfcc4k/yfcc4k/yfcc4k/5658518787.jpg  \n",
            "  inflating: /content/llms-for-image-geolocation-benchmarks/yfcc4k/yfcc4k/yfcc4k/5660878634.jpg  \n",
            "  inflating: /content/llms-for-image-geolocation-benchmarks/yfcc4k/yfcc4k/yfcc4k/5661028940.jpg  \n",
            "  inflating: /content/llms-for-image-geolocation-benchmarks/yfcc4k/yfcc4k/yfcc4k/5661795591.jpg  \n",
            "  inflating: /content/llms-for-image-geolocation-benchmarks/yfcc4k/yfcc4k/yfcc4k/5662697925.jpg  \n",
            "  inflating: /content/llms-for-image-geolocation-benchmarks/yfcc4k/yfcc4k/yfcc4k/5663088443.jpg  \n",
            "  inflating: /content/llms-for-image-geolocation-benchmarks/yfcc4k/yfcc4k/yfcc4k/5663282773.jpg  \n",
            "  inflating: /content/llms-for-image-geolocation-benchmarks/yfcc4k/yfcc4k/yfcc4k/5665257981.jpg  \n",
            "  inflating: /content/llms-for-image-geolocation-benchmarks/yfcc4k/yfcc4k/yfcc4k/5665376097.jpg  \n",
            "  inflating: /content/llms-for-image-geolocation-benchmarks/yfcc4k/yfcc4k/yfcc4k/5668866915.jpg  \n",
            "  inflating: /content/llms-for-image-geolocation-benchmarks/yfcc4k/yfcc4k/yfcc4k/5670712920.jpg  \n",
            "  inflating: /content/llms-for-image-geolocation-benchmarks/yfcc4k/yfcc4k/yfcc4k/5672016459.jpg  \n",
            "  inflating: /content/llms-for-image-geolocation-benchmarks/yfcc4k/yfcc4k/yfcc4k/5672039403.jpg  \n",
            "  inflating: /content/llms-for-image-geolocation-benchmarks/yfcc4k/yfcc4k/yfcc4k/5673302827.jpg  \n",
            "  inflating: /content/llms-for-image-geolocation-benchmarks/yfcc4k/yfcc4k/yfcc4k/5673972124.jpg  \n",
            "  inflating: /content/llms-for-image-geolocation-benchmarks/yfcc4k/yfcc4k/yfcc4k/5674303129.jpg  \n",
            "  inflating: /content/llms-for-image-geolocation-benchmarks/yfcc4k/yfcc4k/yfcc4k/5674423330.jpg  \n",
            "  inflating: /content/llms-for-image-geolocation-benchmarks/yfcc4k/yfcc4k/yfcc4k/5674892443.jpg  \n",
            "  inflating: /content/llms-for-image-geolocation-benchmarks/yfcc4k/yfcc4k/yfcc4k/5676047434.jpg  \n",
            "  inflating: /content/llms-for-image-geolocation-benchmarks/yfcc4k/yfcc4k/yfcc4k/5677277293.jpg  \n",
            "  inflating: /content/llms-for-image-geolocation-benchmarks/yfcc4k/yfcc4k/yfcc4k/5677649736.jpg  \n",
            "  inflating: /content/llms-for-image-geolocation-benchmarks/yfcc4k/yfcc4k/yfcc4k/5678015628.jpg  \n",
            "  inflating: /content/llms-for-image-geolocation-benchmarks/yfcc4k/yfcc4k/yfcc4k/5680580126.jpg  \n",
            "  inflating: /content/llms-for-image-geolocation-benchmarks/yfcc4k/yfcc4k/yfcc4k/5680994670.jpg  \n",
            "  inflating: /content/llms-for-image-geolocation-benchmarks/yfcc4k/yfcc4k/yfcc4k/5682310514.jpg  \n",
            "  inflating: /content/llms-for-image-geolocation-benchmarks/yfcc4k/yfcc4k/yfcc4k/5683817619.jpg  \n",
            "  inflating: /content/llms-for-image-geolocation-benchmarks/yfcc4k/yfcc4k/yfcc4k/5685113657.jpg  \n",
            "  inflating: /content/llms-for-image-geolocation-benchmarks/yfcc4k/yfcc4k/yfcc4k/5685313220.jpg  \n",
            "  inflating: /content/llms-for-image-geolocation-benchmarks/yfcc4k/yfcc4k/yfcc4k/5686046730.jpg  \n",
            "  inflating: /content/llms-for-image-geolocation-benchmarks/yfcc4k/yfcc4k/yfcc4k/5686867319.jpg  \n",
            "  inflating: /content/llms-for-image-geolocation-benchmarks/yfcc4k/yfcc4k/yfcc4k/5690580847.jpg  \n",
            "  inflating: /content/llms-for-image-geolocation-benchmarks/yfcc4k/yfcc4k/yfcc4k/5692514751.jpg  \n",
            "  inflating: /content/llms-for-image-geolocation-benchmarks/yfcc4k/yfcc4k/yfcc4k/5693793834.jpg  \n",
            "  inflating: /content/llms-for-image-geolocation-benchmarks/yfcc4k/yfcc4k/yfcc4k/5693920537.jpg  \n",
            "  inflating: /content/llms-for-image-geolocation-benchmarks/yfcc4k/yfcc4k/yfcc4k/5694656736.jpg  \n",
            "  inflating: /content/llms-for-image-geolocation-benchmarks/yfcc4k/yfcc4k/yfcc4k/5694916102.jpg  \n",
            "  inflating: /content/llms-for-image-geolocation-benchmarks/yfcc4k/yfcc4k/yfcc4k/5696215756.jpg  \n",
            "  inflating: /content/llms-for-image-geolocation-benchmarks/yfcc4k/yfcc4k/yfcc4k/5696673810.jpg  \n",
            "  inflating: /content/llms-for-image-geolocation-benchmarks/yfcc4k/yfcc4k/yfcc4k/5696680234.jpg  \n",
            "  inflating: /content/llms-for-image-geolocation-benchmarks/yfcc4k/yfcc4k/yfcc4k/5696916163.jpg  \n",
            "  inflating: /content/llms-for-image-geolocation-benchmarks/yfcc4k/yfcc4k/yfcc4k/5697158314.jpg  \n",
            "  inflating: /content/llms-for-image-geolocation-benchmarks/yfcc4k/yfcc4k/yfcc4k/5697642702.jpg  \n",
            "  inflating: /content/llms-for-image-geolocation-benchmarks/yfcc4k/yfcc4k/yfcc4k/5698949761.jpg  \n",
            "  inflating: /content/llms-for-image-geolocation-benchmarks/yfcc4k/yfcc4k/yfcc4k/5701998041.jpg  \n",
            "  inflating: /content/llms-for-image-geolocation-benchmarks/yfcc4k/yfcc4k/yfcc4k/5703013770.jpg  \n",
            "  inflating: /content/llms-for-image-geolocation-benchmarks/yfcc4k/yfcc4k/yfcc4k/5703344752.jpg  \n",
            "  inflating: /content/llms-for-image-geolocation-benchmarks/yfcc4k/yfcc4k/yfcc4k/5705773651.jpg  \n",
            "  inflating: /content/llms-for-image-geolocation-benchmarks/yfcc4k/yfcc4k/yfcc4k/5707535119.jpg  \n",
            "  inflating: /content/llms-for-image-geolocation-benchmarks/yfcc4k/yfcc4k/yfcc4k/5709040391.jpg  \n",
            "  inflating: /content/llms-for-image-geolocation-benchmarks/yfcc4k/yfcc4k/yfcc4k/5711864941.jpg  \n",
            "  inflating: /content/llms-for-image-geolocation-benchmarks/yfcc4k/yfcc4k/yfcc4k/5711925722.jpg  \n",
            "  inflating: /content/llms-for-image-geolocation-benchmarks/yfcc4k/yfcc4k/yfcc4k/5714525081.jpg  \n",
            "  inflating: /content/llms-for-image-geolocation-benchmarks/yfcc4k/yfcc4k/yfcc4k/5715945088.jpg  \n",
            "  inflating: /content/llms-for-image-geolocation-benchmarks/yfcc4k/yfcc4k/yfcc4k/5718121833.jpg  \n",
            "  inflating: /content/llms-for-image-geolocation-benchmarks/yfcc4k/yfcc4k/yfcc4k/571873692.jpg  \n",
            "  inflating: /content/llms-for-image-geolocation-benchmarks/yfcc4k/yfcc4k/yfcc4k/5720589120.jpg  \n",
            "  inflating: /content/llms-for-image-geolocation-benchmarks/yfcc4k/yfcc4k/yfcc4k/5721245779.jpg  \n",
            "  inflating: /content/llms-for-image-geolocation-benchmarks/yfcc4k/yfcc4k/yfcc4k/5722769560.jpg  \n",
            "  inflating: /content/llms-for-image-geolocation-benchmarks/yfcc4k/yfcc4k/yfcc4k/5725118190.jpg  \n",
            "  inflating: /content/llms-for-image-geolocation-benchmarks/yfcc4k/yfcc4k/yfcc4k/5726166691.jpg  \n",
            "  inflating: /content/llms-for-image-geolocation-benchmarks/yfcc4k/yfcc4k/yfcc4k/5726363714.jpg  \n",
            "  inflating: /content/llms-for-image-geolocation-benchmarks/yfcc4k/yfcc4k/yfcc4k/5727544850.jpg  \n",
            "  inflating: /content/llms-for-image-geolocation-benchmarks/yfcc4k/yfcc4k/yfcc4k/5727587585.jpg  \n",
            "  inflating: /content/llms-for-image-geolocation-benchmarks/yfcc4k/yfcc4k/yfcc4k/5728333291.jpg  \n",
            "  inflating: /content/llms-for-image-geolocation-benchmarks/yfcc4k/yfcc4k/yfcc4k/5731234096.jpg  \n",
            "  inflating: /content/llms-for-image-geolocation-benchmarks/yfcc4k/yfcc4k/yfcc4k/5732024379.jpg  \n",
            "  inflating: /content/llms-for-image-geolocation-benchmarks/yfcc4k/yfcc4k/yfcc4k/5732347907.jpg  \n",
            "  inflating: /content/llms-for-image-geolocation-benchmarks/yfcc4k/yfcc4k/yfcc4k/5732801737.jpg  \n",
            "  inflating: /content/llms-for-image-geolocation-benchmarks/yfcc4k/yfcc4k/yfcc4k/5733136595.jpg  \n",
            "  inflating: /content/llms-for-image-geolocation-benchmarks/yfcc4k/yfcc4k/yfcc4k/5733800550.jpg  \n",
            "  inflating: /content/llms-for-image-geolocation-benchmarks/yfcc4k/yfcc4k/yfcc4k/5734132659.jpg  \n",
            "  inflating: /content/llms-for-image-geolocation-benchmarks/yfcc4k/yfcc4k/yfcc4k/5735237614.jpg  \n",
            "  inflating: /content/llms-for-image-geolocation-benchmarks/yfcc4k/yfcc4k/yfcc4k/5737998743.jpg  \n",
            "  inflating: /content/llms-for-image-geolocation-benchmarks/yfcc4k/yfcc4k/yfcc4k/5739672507.jpg  \n",
            "  inflating: /content/llms-for-image-geolocation-benchmarks/yfcc4k/yfcc4k/yfcc4k/5740024370.jpg  \n",
            "  inflating: /content/llms-for-image-geolocation-benchmarks/yfcc4k/yfcc4k/yfcc4k/5742394961.jpg  \n",
            "  inflating: /content/llms-for-image-geolocation-benchmarks/yfcc4k/yfcc4k/yfcc4k/5743117395.jpg  \n",
            "  inflating: /content/llms-for-image-geolocation-benchmarks/yfcc4k/yfcc4k/yfcc4k/5743519248.jpg  \n",
            "  inflating: /content/llms-for-image-geolocation-benchmarks/yfcc4k/yfcc4k/yfcc4k/5743728295.jpg  \n",
            "  inflating: /content/llms-for-image-geolocation-benchmarks/yfcc4k/yfcc4k/yfcc4k/5744418320.jpg  \n",
            "  inflating: /content/llms-for-image-geolocation-benchmarks/yfcc4k/yfcc4k/yfcc4k/5744853737.jpg  \n",
            "  inflating: /content/llms-for-image-geolocation-benchmarks/yfcc4k/yfcc4k/yfcc4k/5746273497.jpg  \n",
            "  inflating: /content/llms-for-image-geolocation-benchmarks/yfcc4k/yfcc4k/yfcc4k/5749163419.jpg  \n",
            "  inflating: /content/llms-for-image-geolocation-benchmarks/yfcc4k/yfcc4k/yfcc4k/5752022422.jpg  \n",
            "  inflating: /content/llms-for-image-geolocation-benchmarks/yfcc4k/yfcc4k/yfcc4k/5752738710.jpg  \n",
            "  inflating: /content/llms-for-image-geolocation-benchmarks/yfcc4k/yfcc4k/yfcc4k/5754156274.jpg  \n",
            "  inflating: /content/llms-for-image-geolocation-benchmarks/yfcc4k/yfcc4k/yfcc4k/5754752788.jpg  \n",
            "  inflating: /content/llms-for-image-geolocation-benchmarks/yfcc4k/yfcc4k/yfcc4k/5755794034.jpg  \n",
            "  inflating: /content/llms-for-image-geolocation-benchmarks/yfcc4k/yfcc4k/yfcc4k/5756166409.jpg  \n",
            "  inflating: /content/llms-for-image-geolocation-benchmarks/yfcc4k/yfcc4k/yfcc4k/5759000681.jpg  \n",
            "  inflating: /content/llms-for-image-geolocation-benchmarks/yfcc4k/yfcc4k/yfcc4k/5759146493.jpg  \n",
            "  inflating: /content/llms-for-image-geolocation-benchmarks/yfcc4k/yfcc4k/yfcc4k/5761884318.jpg  \n",
            "  inflating: /content/llms-for-image-geolocation-benchmarks/yfcc4k/yfcc4k/yfcc4k/5762507455.jpg  \n",
            "  inflating: /content/llms-for-image-geolocation-benchmarks/yfcc4k/yfcc4k/yfcc4k/5763131038.jpg  \n",
            "  inflating: /content/llms-for-image-geolocation-benchmarks/yfcc4k/yfcc4k/yfcc4k/5763373041.jpg  \n",
            "  inflating: /content/llms-for-image-geolocation-benchmarks/yfcc4k/yfcc4k/yfcc4k/5764309756.jpg  \n",
            "  inflating: /content/llms-for-image-geolocation-benchmarks/yfcc4k/yfcc4k/yfcc4k/5767574438.jpg  \n",
            "  inflating: /content/llms-for-image-geolocation-benchmarks/yfcc4k/yfcc4k/yfcc4k/5767950864.jpg  \n",
            "  inflating: /content/llms-for-image-geolocation-benchmarks/yfcc4k/yfcc4k/yfcc4k/5768673742.jpg  \n",
            "  inflating: /content/llms-for-image-geolocation-benchmarks/yfcc4k/yfcc4k/yfcc4k/5769971331.jpg  \n",
            "  inflating: /content/llms-for-image-geolocation-benchmarks/yfcc4k/yfcc4k/yfcc4k/5772750244.jpg  \n",
            "  inflating: /content/llms-for-image-geolocation-benchmarks/yfcc4k/yfcc4k/yfcc4k/5775790259.jpg  \n",
            "  inflating: /content/llms-for-image-geolocation-benchmarks/yfcc4k/yfcc4k/yfcc4k/577802786.jpg  \n",
            "  inflating: /content/llms-for-image-geolocation-benchmarks/yfcc4k/yfcc4k/yfcc4k/5778843321.jpg  \n",
            "  inflating: /content/llms-for-image-geolocation-benchmarks/yfcc4k/yfcc4k/yfcc4k/5779010725.jpg  \n",
            "  inflating: /content/llms-for-image-geolocation-benchmarks/yfcc4k/yfcc4k/yfcc4k/5779632350.jpg  \n",
            "  inflating: /content/llms-for-image-geolocation-benchmarks/yfcc4k/yfcc4k/yfcc4k/5780747158.jpg  \n",
            "  inflating: /content/llms-for-image-geolocation-benchmarks/yfcc4k/yfcc4k/yfcc4k/5782964090.jpg  \n",
            "  inflating: /content/llms-for-image-geolocation-benchmarks/yfcc4k/yfcc4k/yfcc4k/5783281863.jpg  \n",
            "  inflating: /content/llms-for-image-geolocation-benchmarks/yfcc4k/yfcc4k/yfcc4k/5785328757.jpg  \n",
            "  inflating: /content/llms-for-image-geolocation-benchmarks/yfcc4k/yfcc4k/yfcc4k/5788167414.jpg  \n",
            "  inflating: /content/llms-for-image-geolocation-benchmarks/yfcc4k/yfcc4k/yfcc4k/5790701364.jpg  \n",
            "  inflating: /content/llms-for-image-geolocation-benchmarks/yfcc4k/yfcc4k/yfcc4k/5793589333.jpg  \n",
            "  inflating: /content/llms-for-image-geolocation-benchmarks/yfcc4k/yfcc4k/yfcc4k/5793653608.jpg  \n",
            "  inflating: /content/llms-for-image-geolocation-benchmarks/yfcc4k/yfcc4k/yfcc4k/5795908807.jpg  \n",
            "  inflating: /content/llms-for-image-geolocation-benchmarks/yfcc4k/yfcc4k/yfcc4k/5799240770.jpg  \n",
            "  inflating: /content/llms-for-image-geolocation-benchmarks/yfcc4k/yfcc4k/yfcc4k/5799461563.jpg  \n",
            "  inflating: /content/llms-for-image-geolocation-benchmarks/yfcc4k/yfcc4k/yfcc4k/5800361108.jpg  \n",
            "  inflating: /content/llms-for-image-geolocation-benchmarks/yfcc4k/yfcc4k/yfcc4k/5803885624.jpg  \n",
            "  inflating: /content/llms-for-image-geolocation-benchmarks/yfcc4k/yfcc4k/yfcc4k/5804021175.jpg  \n",
            "  inflating: /content/llms-for-image-geolocation-benchmarks/yfcc4k/yfcc4k/yfcc4k/5807387101.jpg  \n",
            "  inflating: /content/llms-for-image-geolocation-benchmarks/yfcc4k/yfcc4k/yfcc4k/5807713058.jpg  \n",
            "  inflating: /content/llms-for-image-geolocation-benchmarks/yfcc4k/yfcc4k/yfcc4k/5808813298.jpg  \n",
            "  inflating: /content/llms-for-image-geolocation-benchmarks/yfcc4k/yfcc4k/yfcc4k/5809261360.jpg  \n",
            "  inflating: /content/llms-for-image-geolocation-benchmarks/yfcc4k/yfcc4k/yfcc4k/5811588200.jpg  \n",
            "  inflating: /content/llms-for-image-geolocation-benchmarks/yfcc4k/yfcc4k/yfcc4k/5811815449.jpg  \n",
            "  inflating: /content/llms-for-image-geolocation-benchmarks/yfcc4k/yfcc4k/yfcc4k/5812245447.jpg  \n",
            "  inflating: /content/llms-for-image-geolocation-benchmarks/yfcc4k/yfcc4k/yfcc4k/5813328154.jpg  \n",
            "  inflating: /content/llms-for-image-geolocation-benchmarks/yfcc4k/yfcc4k/yfcc4k/5814045225.jpg  \n",
            "  inflating: /content/llms-for-image-geolocation-benchmarks/yfcc4k/yfcc4k/yfcc4k/5814167167.jpg  \n",
            "  inflating: /content/llms-for-image-geolocation-benchmarks/yfcc4k/yfcc4k/yfcc4k/5815041510.jpg  \n",
            "  inflating: /content/llms-for-image-geolocation-benchmarks/yfcc4k/yfcc4k/yfcc4k/5818060509.jpg  \n",
            "  inflating: /content/llms-for-image-geolocation-benchmarks/yfcc4k/yfcc4k/yfcc4k/5819504305.jpg  \n",
            "  inflating: /content/llms-for-image-geolocation-benchmarks/yfcc4k/yfcc4k/yfcc4k/5820168086.jpg  \n",
            "  inflating: /content/llms-for-image-geolocation-benchmarks/yfcc4k/yfcc4k/yfcc4k/5822431276.jpg  \n",
            "  inflating: /content/llms-for-image-geolocation-benchmarks/yfcc4k/yfcc4k/yfcc4k/5822721586.jpg  \n",
            "  inflating: /content/llms-for-image-geolocation-benchmarks/yfcc4k/yfcc4k/yfcc4k/5824511940.jpg  \n",
            "  inflating: /content/llms-for-image-geolocation-benchmarks/yfcc4k/yfcc4k/yfcc4k/5825101968.jpg  \n",
            "  inflating: /content/llms-for-image-geolocation-benchmarks/yfcc4k/yfcc4k/yfcc4k/5825797758.jpg  \n",
            "  inflating: /content/llms-for-image-geolocation-benchmarks/yfcc4k/yfcc4k/yfcc4k/5826011615.jpg  \n",
            "  inflating: /content/llms-for-image-geolocation-benchmarks/yfcc4k/yfcc4k/yfcc4k/5826061040.jpg  \n",
            "  inflating: /content/llms-for-image-geolocation-benchmarks/yfcc4k/yfcc4k/yfcc4k/5827130671.jpg  \n",
            "  inflating: /content/llms-for-image-geolocation-benchmarks/yfcc4k/yfcc4k/yfcc4k/5835855654.jpg  \n",
            "  inflating: /content/llms-for-image-geolocation-benchmarks/yfcc4k/yfcc4k/yfcc4k/5836124927.jpg  \n",
            "  inflating: /content/llms-for-image-geolocation-benchmarks/yfcc4k/yfcc4k/yfcc4k/5836446140.jpg  \n",
            "  inflating: /content/llms-for-image-geolocation-benchmarks/yfcc4k/yfcc4k/yfcc4k/5836466023.jpg  \n",
            "  inflating: /content/llms-for-image-geolocation-benchmarks/yfcc4k/yfcc4k/yfcc4k/5843337403.jpg  \n",
            "  inflating: /content/llms-for-image-geolocation-benchmarks/yfcc4k/yfcc4k/yfcc4k/5845076971.jpg  \n",
            "  inflating: /content/llms-for-image-geolocation-benchmarks/yfcc4k/yfcc4k/yfcc4k/5846514755.jpg  \n",
            "  inflating: /content/llms-for-image-geolocation-benchmarks/yfcc4k/yfcc4k/yfcc4k/5848117405.jpg  \n",
            "  inflating: /content/llms-for-image-geolocation-benchmarks/yfcc4k/yfcc4k/yfcc4k/5848982530.jpg  \n",
            "  inflating: /content/llms-for-image-geolocation-benchmarks/yfcc4k/yfcc4k/yfcc4k/5849111706.jpg  \n",
            "  inflating: /content/llms-for-image-geolocation-benchmarks/yfcc4k/yfcc4k/yfcc4k/5849417254.jpg  \n",
            "  inflating: /content/llms-for-image-geolocation-benchmarks/yfcc4k/yfcc4k/yfcc4k/5852234624.jpg  \n",
            "  inflating: /content/llms-for-image-geolocation-benchmarks/yfcc4k/yfcc4k/yfcc4k/5854093667.jpg  \n",
            "  inflating: /content/llms-for-image-geolocation-benchmarks/yfcc4k/yfcc4k/yfcc4k/5854167794.jpg  \n",
            "  inflating: /content/llms-for-image-geolocation-benchmarks/yfcc4k/yfcc4k/yfcc4k/5854548582.jpg  \n",
            "  inflating: /content/llms-for-image-geolocation-benchmarks/yfcc4k/yfcc4k/yfcc4k/5855642621.jpg  \n",
            "  inflating: /content/llms-for-image-geolocation-benchmarks/yfcc4k/yfcc4k/yfcc4k/5858382724.jpg  \n",
            "  inflating: /content/llms-for-image-geolocation-benchmarks/yfcc4k/yfcc4k/yfcc4k/5858575765.jpg  \n",
            "  inflating: /content/llms-for-image-geolocation-benchmarks/yfcc4k/yfcc4k/yfcc4k/5862873516.jpg  \n",
            "  inflating: /content/llms-for-image-geolocation-benchmarks/yfcc4k/yfcc4k/yfcc4k/5863283610.jpg  \n",
            "  inflating: /content/llms-for-image-geolocation-benchmarks/yfcc4k/yfcc4k/yfcc4k/5865457978.jpg  \n",
            "  inflating: /content/llms-for-image-geolocation-benchmarks/yfcc4k/yfcc4k/yfcc4k/5866372087.jpg  \n",
            "  inflating: /content/llms-for-image-geolocation-benchmarks/yfcc4k/yfcc4k/yfcc4k/5868007757.jpg  \n",
            "  inflating: /content/llms-for-image-geolocation-benchmarks/yfcc4k/yfcc4k/yfcc4k/5868187063.jpg  \n",
            "  inflating: /content/llms-for-image-geolocation-benchmarks/yfcc4k/yfcc4k/yfcc4k/5869846815.jpg  \n",
            "  inflating: /content/llms-for-image-geolocation-benchmarks/yfcc4k/yfcc4k/yfcc4k/5870749285.jpg  \n",
            "  inflating: /content/llms-for-image-geolocation-benchmarks/yfcc4k/yfcc4k/yfcc4k/5870853045.jpg  \n",
            "  inflating: /content/llms-for-image-geolocation-benchmarks/yfcc4k/yfcc4k/yfcc4k/5871755151.jpg  \n",
            "  inflating: /content/llms-for-image-geolocation-benchmarks/yfcc4k/yfcc4k/yfcc4k/5872802098.jpg  \n",
            "  inflating: /content/llms-for-image-geolocation-benchmarks/yfcc4k/yfcc4k/yfcc4k/5873331668.jpg  \n",
            "  inflating: /content/llms-for-image-geolocation-benchmarks/yfcc4k/yfcc4k/yfcc4k/5875266574.jpg  \n",
            "  inflating: /content/llms-for-image-geolocation-benchmarks/yfcc4k/yfcc4k/yfcc4k/5876233012.jpg  \n",
            "  inflating: /content/llms-for-image-geolocation-benchmarks/yfcc4k/yfcc4k/yfcc4k/5877432581.jpg  \n",
            "  inflating: /content/llms-for-image-geolocation-benchmarks/yfcc4k/yfcc4k/yfcc4k/5877470597.jpg  \n",
            "  inflating: /content/llms-for-image-geolocation-benchmarks/yfcc4k/yfcc4k/yfcc4k/5878068408.jpg  \n",
            "  inflating: /content/llms-for-image-geolocation-benchmarks/yfcc4k/yfcc4k/yfcc4k/5882773732.jpg  \n",
            "  inflating: /content/llms-for-image-geolocation-benchmarks/yfcc4k/yfcc4k/yfcc4k/5883754368.jpg  \n",
            "  inflating: /content/llms-for-image-geolocation-benchmarks/yfcc4k/yfcc4k/yfcc4k/5886263133.jpg  \n",
            "  inflating: /content/llms-for-image-geolocation-benchmarks/yfcc4k/yfcc4k/yfcc4k/5889779089.jpg  \n",
            "  inflating: /content/llms-for-image-geolocation-benchmarks/yfcc4k/yfcc4k/yfcc4k/5890704938.jpg  \n",
            "  inflating: /content/llms-for-image-geolocation-benchmarks/yfcc4k/yfcc4k/yfcc4k/5894107324.jpg  \n",
            "  inflating: /content/llms-for-image-geolocation-benchmarks/yfcc4k/yfcc4k/yfcc4k/5895749281.jpg  \n",
            "  inflating: /content/llms-for-image-geolocation-benchmarks/yfcc4k/yfcc4k/yfcc4k/5896609884.jpg  \n",
            "  inflating: /content/llms-for-image-geolocation-benchmarks/yfcc4k/yfcc4k/yfcc4k/5899718730.jpg  \n",
            "  inflating: /content/llms-for-image-geolocation-benchmarks/yfcc4k/yfcc4k/yfcc4k/5900934653.jpg  \n",
            "  inflating: /content/llms-for-image-geolocation-benchmarks/yfcc4k/yfcc4k/yfcc4k/5902738648.jpg  \n",
            "  inflating: /content/llms-for-image-geolocation-benchmarks/yfcc4k/yfcc4k/yfcc4k/5903291013.jpg  \n",
            "  inflating: /content/llms-for-image-geolocation-benchmarks/yfcc4k/yfcc4k/yfcc4k/5908041850.jpg  \n",
            "  inflating: /content/llms-for-image-geolocation-benchmarks/yfcc4k/yfcc4k/yfcc4k/5909168337.jpg  \n",
            "  inflating: /content/llms-for-image-geolocation-benchmarks/yfcc4k/yfcc4k/yfcc4k/5909505657.jpg  \n",
            "  inflating: /content/llms-for-image-geolocation-benchmarks/yfcc4k/yfcc4k/yfcc4k/5909542175.jpg  \n",
            "  inflating: /content/llms-for-image-geolocation-benchmarks/yfcc4k/yfcc4k/yfcc4k/5913898542.jpg  \n",
            "  inflating: /content/llms-for-image-geolocation-benchmarks/yfcc4k/yfcc4k/yfcc4k/5914557348.jpg  \n",
            "  inflating: /content/llms-for-image-geolocation-benchmarks/yfcc4k/yfcc4k/yfcc4k/5916908303.jpg  \n",
            "  inflating: /content/llms-for-image-geolocation-benchmarks/yfcc4k/yfcc4k/yfcc4k/5916935894.jpg  \n",
            "  inflating: /content/llms-for-image-geolocation-benchmarks/yfcc4k/yfcc4k/yfcc4k/5917860223.jpg  \n",
            "  inflating: /content/llms-for-image-geolocation-benchmarks/yfcc4k/yfcc4k/yfcc4k/5919695087.jpg  \n",
            "  inflating: /content/llms-for-image-geolocation-benchmarks/yfcc4k/yfcc4k/yfcc4k/5920718833.jpg  \n",
            "  inflating: /content/llms-for-image-geolocation-benchmarks/yfcc4k/yfcc4k/yfcc4k/5921139789.jpg  \n",
            "  inflating: /content/llms-for-image-geolocation-benchmarks/yfcc4k/yfcc4k/yfcc4k/5922602279.jpg  \n",
            "  inflating: /content/llms-for-image-geolocation-benchmarks/yfcc4k/yfcc4k/yfcc4k/5922645460.jpg  \n",
            "  inflating: /content/llms-for-image-geolocation-benchmarks/yfcc4k/yfcc4k/yfcc4k/5923624371.jpg  \n",
            "  inflating: /content/llms-for-image-geolocation-benchmarks/yfcc4k/yfcc4k/yfcc4k/5923900530.jpg  \n",
            "  inflating: /content/llms-for-image-geolocation-benchmarks/yfcc4k/yfcc4k/yfcc4k/5925093769.jpg  \n",
            "  inflating: /content/llms-for-image-geolocation-benchmarks/yfcc4k/yfcc4k/yfcc4k/5929751263.jpg  \n",
            "  inflating: /content/llms-for-image-geolocation-benchmarks/yfcc4k/yfcc4k/yfcc4k/5929756387.jpg  \n",
            "  inflating: /content/llms-for-image-geolocation-benchmarks/yfcc4k/yfcc4k/yfcc4k/5935660692.jpg  \n",
            "  inflating: /content/llms-for-image-geolocation-benchmarks/yfcc4k/yfcc4k/yfcc4k/5936170505.jpg  \n",
            "  inflating: /content/llms-for-image-geolocation-benchmarks/yfcc4k/yfcc4k/yfcc4k/5936968619.jpg  \n",
            "  inflating: /content/llms-for-image-geolocation-benchmarks/yfcc4k/yfcc4k/yfcc4k/5937418183.jpg  \n",
            "  inflating: /content/llms-for-image-geolocation-benchmarks/yfcc4k/yfcc4k/yfcc4k/5937475657.jpg  \n",
            "  inflating: /content/llms-for-image-geolocation-benchmarks/yfcc4k/yfcc4k/yfcc4k/5938538935.jpg  \n",
            "  inflating: /content/llms-for-image-geolocation-benchmarks/yfcc4k/yfcc4k/yfcc4k/5938660446.jpg  \n",
            "  inflating: /content/llms-for-image-geolocation-benchmarks/yfcc4k/yfcc4k/yfcc4k/5940145597.jpg  \n",
            "  inflating: /content/llms-for-image-geolocation-benchmarks/yfcc4k/yfcc4k/yfcc4k/5941125958.jpg  \n",
            "  inflating: /content/llms-for-image-geolocation-benchmarks/yfcc4k/yfcc4k/yfcc4k/5941322069.jpg  \n",
            "  inflating: /content/llms-for-image-geolocation-benchmarks/yfcc4k/yfcc4k/yfcc4k/5941642080.jpg  \n",
            "  inflating: /content/llms-for-image-geolocation-benchmarks/yfcc4k/yfcc4k/yfcc4k/5943125503.jpg  \n",
            "  inflating: /content/llms-for-image-geolocation-benchmarks/yfcc4k/yfcc4k/yfcc4k/5947183906.jpg  \n",
            "  inflating: /content/llms-for-image-geolocation-benchmarks/yfcc4k/yfcc4k/yfcc4k/5947211951.jpg  \n",
            "  inflating: /content/llms-for-image-geolocation-benchmarks/yfcc4k/yfcc4k/yfcc4k/5947777949.jpg  \n",
            "  inflating: /content/llms-for-image-geolocation-benchmarks/yfcc4k/yfcc4k/yfcc4k/5948238083.jpg  \n",
            "  inflating: /content/llms-for-image-geolocation-benchmarks/yfcc4k/yfcc4k/yfcc4k/5948645435.jpg  \n",
            "  inflating: /content/llms-for-image-geolocation-benchmarks/yfcc4k/yfcc4k/yfcc4k/5949792298.jpg  \n",
            "  inflating: /content/llms-for-image-geolocation-benchmarks/yfcc4k/yfcc4k/yfcc4k/5949976579.jpg  \n",
            "  inflating: /content/llms-for-image-geolocation-benchmarks/yfcc4k/yfcc4k/yfcc4k/5951789139.jpg  \n",
            "  inflating: /content/llms-for-image-geolocation-benchmarks/yfcc4k/yfcc4k/yfcc4k/5952473770.jpg  \n",
            "  inflating: /content/llms-for-image-geolocation-benchmarks/yfcc4k/yfcc4k/yfcc4k/5954153054.jpg  \n",
            "  inflating: /content/llms-for-image-geolocation-benchmarks/yfcc4k/yfcc4k/yfcc4k/5954604137.jpg  \n",
            "  inflating: /content/llms-for-image-geolocation-benchmarks/yfcc4k/yfcc4k/yfcc4k/5955415539.jpg  \n",
            "  inflating: /content/llms-for-image-geolocation-benchmarks/yfcc4k/yfcc4k/yfcc4k/5955431575.jpg  \n",
            "  inflating: /content/llms-for-image-geolocation-benchmarks/yfcc4k/yfcc4k/yfcc4k/5960974464.jpg  \n",
            "  inflating: /content/llms-for-image-geolocation-benchmarks/yfcc4k/yfcc4k/yfcc4k/5968286041.jpg  \n",
            "  inflating: /content/llms-for-image-geolocation-benchmarks/yfcc4k/yfcc4k/yfcc4k/5971455692.jpg  \n",
            "  inflating: /content/llms-for-image-geolocation-benchmarks/yfcc4k/yfcc4k/yfcc4k/5973719343.jpg  \n",
            "  inflating: /content/llms-for-image-geolocation-benchmarks/yfcc4k/yfcc4k/yfcc4k/5973729693.jpg  \n",
            "  inflating: /content/llms-for-image-geolocation-benchmarks/yfcc4k/yfcc4k/yfcc4k/5974815038.jpg  \n",
            "  inflating: /content/llms-for-image-geolocation-benchmarks/yfcc4k/yfcc4k/yfcc4k/5974916702.jpg  \n",
            "  inflating: /content/llms-for-image-geolocation-benchmarks/yfcc4k/yfcc4k/yfcc4k/5975942632.jpg  \n",
            "  inflating: /content/llms-for-image-geolocation-benchmarks/yfcc4k/yfcc4k/yfcc4k/5976786488.jpg  \n",
            "  inflating: /content/llms-for-image-geolocation-benchmarks/yfcc4k/yfcc4k/yfcc4k/5977779955.jpg  \n",
            "  inflating: /content/llms-for-image-geolocation-benchmarks/yfcc4k/yfcc4k/yfcc4k/5979862705.jpg  \n",
            "  inflating: /content/llms-for-image-geolocation-benchmarks/yfcc4k/yfcc4k/yfcc4k/5982428132.jpg  \n",
            "  inflating: /content/llms-for-image-geolocation-benchmarks/yfcc4k/yfcc4k/yfcc4k/5983655759.jpg  \n",
            "  inflating: /content/llms-for-image-geolocation-benchmarks/yfcc4k/yfcc4k/yfcc4k/5986136942.jpg  \n",
            "  inflating: /content/llms-for-image-geolocation-benchmarks/yfcc4k/yfcc4k/yfcc4k/5986769383.jpg  \n",
            "  inflating: /content/llms-for-image-geolocation-benchmarks/yfcc4k/yfcc4k/yfcc4k/5988227993.jpg  \n",
            "  inflating: /content/llms-for-image-geolocation-benchmarks/yfcc4k/yfcc4k/yfcc4k/5991151483.jpg  \n",
            "  inflating: /content/llms-for-image-geolocation-benchmarks/yfcc4k/yfcc4k/yfcc4k/5992071022.jpg  \n",
            "  inflating: /content/llms-for-image-geolocation-benchmarks/yfcc4k/yfcc4k/yfcc4k/5992621491.jpg  \n",
            "  inflating: /content/llms-for-image-geolocation-benchmarks/yfcc4k/yfcc4k/yfcc4k/5993448674.jpg  \n",
            "  inflating: /content/llms-for-image-geolocation-benchmarks/yfcc4k/yfcc4k/yfcc4k/59940103.jpg  \n",
            "  inflating: /content/llms-for-image-geolocation-benchmarks/yfcc4k/yfcc4k/yfcc4k/5995831206.jpg  \n",
            "  inflating: /content/llms-for-image-geolocation-benchmarks/yfcc4k/yfcc4k/yfcc4k/5997117252.jpg  \n",
            "  inflating: /content/llms-for-image-geolocation-benchmarks/yfcc4k/yfcc4k/yfcc4k/5997705197.jpg  \n",
            "  inflating: /content/llms-for-image-geolocation-benchmarks/yfcc4k/yfcc4k/yfcc4k/5997803183.jpg  \n",
            "  inflating: /content/llms-for-image-geolocation-benchmarks/yfcc4k/yfcc4k/yfcc4k/5997985314.jpg  \n",
            "  inflating: /content/llms-for-image-geolocation-benchmarks/yfcc4k/yfcc4k/yfcc4k/5998045057.jpg  \n",
            "  inflating: /content/llms-for-image-geolocation-benchmarks/yfcc4k/yfcc4k/yfcc4k/6002559536.jpg  \n",
            "  inflating: /content/llms-for-image-geolocation-benchmarks/yfcc4k/yfcc4k/yfcc4k/6003676942.jpg  \n",
            "  inflating: /content/llms-for-image-geolocation-benchmarks/yfcc4k/yfcc4k/yfcc4k/6003917164.jpg  \n",
            "  inflating: /content/llms-for-image-geolocation-benchmarks/yfcc4k/yfcc4k/yfcc4k/6006516090.jpg  \n",
            "  inflating: /content/llms-for-image-geolocation-benchmarks/yfcc4k/yfcc4k/yfcc4k/6008491455.jpg  \n",
            "  inflating: /content/llms-for-image-geolocation-benchmarks/yfcc4k/yfcc4k/yfcc4k/6013340353.jpg  \n",
            "  inflating: /content/llms-for-image-geolocation-benchmarks/yfcc4k/yfcc4k/yfcc4k/6013379477.jpg  \n",
            "  inflating: /content/llms-for-image-geolocation-benchmarks/yfcc4k/yfcc4k/yfcc4k/6015197942.jpg  \n",
            "  inflating: /content/llms-for-image-geolocation-benchmarks/yfcc4k/yfcc4k/yfcc4k/6016529076.jpg  \n",
            "  inflating: /content/llms-for-image-geolocation-benchmarks/yfcc4k/yfcc4k/yfcc4k/6016550394.jpg  \n",
            "  inflating: /content/llms-for-image-geolocation-benchmarks/yfcc4k/yfcc4k/yfcc4k/6017487676.jpg  \n",
            "  inflating: /content/llms-for-image-geolocation-benchmarks/yfcc4k/yfcc4k/yfcc4k/6018676085.jpg  \n",
            "  inflating: /content/llms-for-image-geolocation-benchmarks/yfcc4k/yfcc4k/yfcc4k/6018981766.jpg  \n",
            "  inflating: /content/llms-for-image-geolocation-benchmarks/yfcc4k/yfcc4k/yfcc4k/6019125698.jpg  \n",
            "  inflating: /content/llms-for-image-geolocation-benchmarks/yfcc4k/yfcc4k/yfcc4k/6019320131.jpg  \n",
            "  inflating: /content/llms-for-image-geolocation-benchmarks/yfcc4k/yfcc4k/yfcc4k/6020138984.jpg  \n",
            "  inflating: /content/llms-for-image-geolocation-benchmarks/yfcc4k/yfcc4k/yfcc4k/6020536647.jpg  \n",
            "  inflating: /content/llms-for-image-geolocation-benchmarks/yfcc4k/yfcc4k/yfcc4k/6022518177.jpg  \n",
            "  inflating: /content/llms-for-image-geolocation-benchmarks/yfcc4k/yfcc4k/yfcc4k/6023375892.jpg  \n",
            "  inflating: /content/llms-for-image-geolocation-benchmarks/yfcc4k/yfcc4k/yfcc4k/6023592554.jpg  \n",
            "  inflating: /content/llms-for-image-geolocation-benchmarks/yfcc4k/yfcc4k/yfcc4k/6025002485.jpg  \n",
            "  inflating: /content/llms-for-image-geolocation-benchmarks/yfcc4k/yfcc4k/yfcc4k/6025983324.jpg  \n",
            "  inflating: /content/llms-for-image-geolocation-benchmarks/yfcc4k/yfcc4k/yfcc4k/602778760.jpg  \n",
            "  inflating: /content/llms-for-image-geolocation-benchmarks/yfcc4k/yfcc4k/yfcc4k/6030943341.jpg  \n",
            "  inflating: /content/llms-for-image-geolocation-benchmarks/yfcc4k/yfcc4k/yfcc4k/6032762264.jpg  \n",
            "  inflating: /content/llms-for-image-geolocation-benchmarks/yfcc4k/yfcc4k/yfcc4k/6033697647.jpg  \n",
            "  inflating: /content/llms-for-image-geolocation-benchmarks/yfcc4k/yfcc4k/yfcc4k/6033775640.jpg  \n",
            "  inflating: /content/llms-for-image-geolocation-benchmarks/yfcc4k/yfcc4k/yfcc4k/6034768409.jpg  \n",
            "  inflating: /content/llms-for-image-geolocation-benchmarks/yfcc4k/yfcc4k/yfcc4k/6042778700.jpg  \n",
            "  inflating: /content/llms-for-image-geolocation-benchmarks/yfcc4k/yfcc4k/yfcc4k/6043737832.jpg  \n",
            "  inflating: /content/llms-for-image-geolocation-benchmarks/yfcc4k/yfcc4k/yfcc4k/6044151098.jpg  \n",
            "  inflating: /content/llms-for-image-geolocation-benchmarks/yfcc4k/yfcc4k/yfcc4k/6050151339.jpg  \n",
            "  inflating: /content/llms-for-image-geolocation-benchmarks/yfcc4k/yfcc4k/yfcc4k/6051942983.jpg  \n",
            "  inflating: /content/llms-for-image-geolocation-benchmarks/yfcc4k/yfcc4k/yfcc4k/6052792564.jpg  \n",
            "  inflating: /content/llms-for-image-geolocation-benchmarks/yfcc4k/yfcc4k/yfcc4k/6053374791.jpg  \n",
            "  inflating: /content/llms-for-image-geolocation-benchmarks/yfcc4k/yfcc4k/yfcc4k/605435276.jpg  \n",
            "  inflating: /content/llms-for-image-geolocation-benchmarks/yfcc4k/yfcc4k/yfcc4k/6055834674.jpg  \n",
            "  inflating: /content/llms-for-image-geolocation-benchmarks/yfcc4k/yfcc4k/yfcc4k/6056036156.jpg  \n",
            "  inflating: /content/llms-for-image-geolocation-benchmarks/yfcc4k/yfcc4k/yfcc4k/6058993749.jpg  \n",
            "  inflating: /content/llms-for-image-geolocation-benchmarks/yfcc4k/yfcc4k/yfcc4k/6059347516.jpg  \n",
            "  inflating: /content/llms-for-image-geolocation-benchmarks/yfcc4k/yfcc4k/yfcc4k/6059566888.jpg  \n",
            "  inflating: /content/llms-for-image-geolocation-benchmarks/yfcc4k/yfcc4k/yfcc4k/6061957690.jpg  \n",
            "  inflating: /content/llms-for-image-geolocation-benchmarks/yfcc4k/yfcc4k/yfcc4k/6063702784.jpg  \n",
            "  inflating: /content/llms-for-image-geolocation-benchmarks/yfcc4k/yfcc4k/yfcc4k/6067320768.jpg  \n",
            "  inflating: /content/llms-for-image-geolocation-benchmarks/yfcc4k/yfcc4k/yfcc4k/6068490524.jpg  \n",
            "  inflating: /content/llms-for-image-geolocation-benchmarks/yfcc4k/yfcc4k/yfcc4k/6069890504.jpg  \n",
            "  inflating: /content/llms-for-image-geolocation-benchmarks/yfcc4k/yfcc4k/yfcc4k/6070040623.jpg  \n",
            "  inflating: /content/llms-for-image-geolocation-benchmarks/yfcc4k/yfcc4k/yfcc4k/6070147188.jpg  \n",
            "  inflating: /content/llms-for-image-geolocation-benchmarks/yfcc4k/yfcc4k/yfcc4k/6070427729.jpg  \n",
            "  inflating: /content/llms-for-image-geolocation-benchmarks/yfcc4k/yfcc4k/yfcc4k/6072669640.jpg  \n",
            "  inflating: /content/llms-for-image-geolocation-benchmarks/yfcc4k/yfcc4k/yfcc4k/6072890868.jpg  \n",
            "  inflating: /content/llms-for-image-geolocation-benchmarks/yfcc4k/yfcc4k/yfcc4k/6072898381.jpg  \n",
            "  inflating: /content/llms-for-image-geolocation-benchmarks/yfcc4k/yfcc4k/yfcc4k/6073239056.jpg  \n",
            "  inflating: /content/llms-for-image-geolocation-benchmarks/yfcc4k/yfcc4k/yfcc4k/6073543970.jpg  \n",
            "  inflating: /content/llms-for-image-geolocation-benchmarks/yfcc4k/yfcc4k/yfcc4k/6073999812.jpg  \n",
            "  inflating: /content/llms-for-image-geolocation-benchmarks/yfcc4k/yfcc4k/yfcc4k/6074221361.jpg  \n",
            "  inflating: /content/llms-for-image-geolocation-benchmarks/yfcc4k/yfcc4k/yfcc4k/6077197206.jpg  \n",
            "  inflating: /content/llms-for-image-geolocation-benchmarks/yfcc4k/yfcc4k/yfcc4k/6077388796.jpg  \n",
            "  inflating: /content/llms-for-image-geolocation-benchmarks/yfcc4k/yfcc4k/yfcc4k/6077552058.jpg  \n",
            "  inflating: /content/llms-for-image-geolocation-benchmarks/yfcc4k/yfcc4k/yfcc4k/6080411556.jpg  \n",
            "  inflating: /content/llms-for-image-geolocation-benchmarks/yfcc4k/yfcc4k/yfcc4k/6081332687.jpg  \n",
            "  inflating: /content/llms-for-image-geolocation-benchmarks/yfcc4k/yfcc4k/yfcc4k/6082083236.jpg  \n",
            "  inflating: /content/llms-for-image-geolocation-benchmarks/yfcc4k/yfcc4k/yfcc4k/6085358893.jpg  \n",
            "  inflating: /content/llms-for-image-geolocation-benchmarks/yfcc4k/yfcc4k/yfcc4k/6088231240.jpg  \n",
            "  inflating: /content/llms-for-image-geolocation-benchmarks/yfcc4k/yfcc4k/yfcc4k/6089293993.jpg  \n",
            "  inflating: /content/llms-for-image-geolocation-benchmarks/yfcc4k/yfcc4k/yfcc4k/6090985849.jpg  \n",
            "  inflating: /content/llms-for-image-geolocation-benchmarks/yfcc4k/yfcc4k/yfcc4k/6093815258.jpg  \n",
            "  inflating: /content/llms-for-image-geolocation-benchmarks/yfcc4k/yfcc4k/yfcc4k/6093950239.jpg  \n",
            "  inflating: /content/llms-for-image-geolocation-benchmarks/yfcc4k/yfcc4k/yfcc4k/6094781216.jpg  \n",
            "  inflating: /content/llms-for-image-geolocation-benchmarks/yfcc4k/yfcc4k/yfcc4k/6095013836.jpg  \n",
            "  inflating: /content/llms-for-image-geolocation-benchmarks/yfcc4k/yfcc4k/yfcc4k/6097223493.jpg  \n",
            "  inflating: /content/llms-for-image-geolocation-benchmarks/yfcc4k/yfcc4k/yfcc4k/6098016215.jpg  \n",
            "  inflating: /content/llms-for-image-geolocation-benchmarks/yfcc4k/yfcc4k/yfcc4k/6099549451.jpg  \n",
            "  inflating: /content/llms-for-image-geolocation-benchmarks/yfcc4k/yfcc4k/yfcc4k/6104568180.jpg  \n",
            "  inflating: /content/llms-for-image-geolocation-benchmarks/yfcc4k/yfcc4k/yfcc4k/6104943900.jpg  \n",
            "  inflating: /content/llms-for-image-geolocation-benchmarks/yfcc4k/yfcc4k/yfcc4k/6106370529.jpg  \n",
            "  inflating: /content/llms-for-image-geolocation-benchmarks/yfcc4k/yfcc4k/yfcc4k/6112962920.jpg  \n",
            "  inflating: /content/llms-for-image-geolocation-benchmarks/yfcc4k/yfcc4k/yfcc4k/6118609892.jpg  \n",
            "  inflating: /content/llms-for-image-geolocation-benchmarks/yfcc4k/yfcc4k/yfcc4k/612055653.jpg  \n",
            "  inflating: /content/llms-for-image-geolocation-benchmarks/yfcc4k/yfcc4k/yfcc4k/6120621920.jpg  \n",
            "  inflating: /content/llms-for-image-geolocation-benchmarks/yfcc4k/yfcc4k/yfcc4k/6122900348.jpg  \n",
            "  inflating: /content/llms-for-image-geolocation-benchmarks/yfcc4k/yfcc4k/yfcc4k/6122922540.jpg  \n",
            "  inflating: /content/llms-for-image-geolocation-benchmarks/yfcc4k/yfcc4k/yfcc4k/6127226794.jpg  \n",
            "  inflating: /content/llms-for-image-geolocation-benchmarks/yfcc4k/yfcc4k/yfcc4k/6129947480.jpg  \n",
            "  inflating: /content/llms-for-image-geolocation-benchmarks/yfcc4k/yfcc4k/yfcc4k/6132479693.jpg  \n",
            "  inflating: /content/llms-for-image-geolocation-benchmarks/yfcc4k/yfcc4k/yfcc4k/6132860928.jpg  \n",
            "  inflating: /content/llms-for-image-geolocation-benchmarks/yfcc4k/yfcc4k/yfcc4k/6134905499.jpg  \n",
            "  inflating: /content/llms-for-image-geolocation-benchmarks/yfcc4k/yfcc4k/yfcc4k/6135715086.jpg  \n",
            "  inflating: /content/llms-for-image-geolocation-benchmarks/yfcc4k/yfcc4k/yfcc4k/6138129669.jpg  \n",
            "  inflating: /content/llms-for-image-geolocation-benchmarks/yfcc4k/yfcc4k/yfcc4k/6142184758.jpg  \n",
            "  inflating: /content/llms-for-image-geolocation-benchmarks/yfcc4k/yfcc4k/yfcc4k/6145125720.jpg  \n",
            "  inflating: /content/llms-for-image-geolocation-benchmarks/yfcc4k/yfcc4k/yfcc4k/6148238788.jpg  \n",
            "  inflating: /content/llms-for-image-geolocation-benchmarks/yfcc4k/yfcc4k/yfcc4k/6155433977.jpg  \n",
            "  inflating: /content/llms-for-image-geolocation-benchmarks/yfcc4k/yfcc4k/yfcc4k/6156156849.jpg  \n",
            "  inflating: /content/llms-for-image-geolocation-benchmarks/yfcc4k/yfcc4k/yfcc4k/6164193136.jpg  \n",
            "  inflating: /content/llms-for-image-geolocation-benchmarks/yfcc4k/yfcc4k/yfcc4k/61671905.jpg  \n",
            "  inflating: /content/llms-for-image-geolocation-benchmarks/yfcc4k/yfcc4k/yfcc4k/6169612725.jpg  \n",
            "  inflating: /content/llms-for-image-geolocation-benchmarks/yfcc4k/yfcc4k/yfcc4k/6170773194.jpg  \n",
            "  inflating: /content/llms-for-image-geolocation-benchmarks/yfcc4k/yfcc4k/yfcc4k/6170797304.jpg  \n",
            "  inflating: /content/llms-for-image-geolocation-benchmarks/yfcc4k/yfcc4k/yfcc4k/6171168508.jpg  \n",
            "  inflating: /content/llms-for-image-geolocation-benchmarks/yfcc4k/yfcc4k/yfcc4k/6174447591.jpg  \n",
            "  inflating: /content/llms-for-image-geolocation-benchmarks/yfcc4k/yfcc4k/yfcc4k/6174549022.jpg  \n",
            "  inflating: /content/llms-for-image-geolocation-benchmarks/yfcc4k/yfcc4k/yfcc4k/6175484431.jpg  \n",
            "  inflating: /content/llms-for-image-geolocation-benchmarks/yfcc4k/yfcc4k/yfcc4k/6177160668.jpg  \n",
            "  inflating: /content/llms-for-image-geolocation-benchmarks/yfcc4k/yfcc4k/yfcc4k/6177874953.jpg  \n",
            "  inflating: /content/llms-for-image-geolocation-benchmarks/yfcc4k/yfcc4k/yfcc4k/6178090349.jpg  \n",
            "  inflating: /content/llms-for-image-geolocation-benchmarks/yfcc4k/yfcc4k/yfcc4k/6178176860.jpg  \n",
            "  inflating: /content/llms-for-image-geolocation-benchmarks/yfcc4k/yfcc4k/yfcc4k/6181913517.jpg  \n",
            "  inflating: /content/llms-for-image-geolocation-benchmarks/yfcc4k/yfcc4k/yfcc4k/6181965313.jpg  \n",
            "  inflating: /content/llms-for-image-geolocation-benchmarks/yfcc4k/yfcc4k/yfcc4k/6183615340.jpg  \n",
            "  inflating: /content/llms-for-image-geolocation-benchmarks/yfcc4k/yfcc4k/yfcc4k/6184387672.jpg  \n",
            "  inflating: /content/llms-for-image-geolocation-benchmarks/yfcc4k/yfcc4k/yfcc4k/6186086758.jpg  \n",
            "  inflating: /content/llms-for-image-geolocation-benchmarks/yfcc4k/yfcc4k/yfcc4k/6186110942.jpg  \n",
            "  inflating: /content/llms-for-image-geolocation-benchmarks/yfcc4k/yfcc4k/yfcc4k/6189871016.jpg  \n",
            "  inflating: /content/llms-for-image-geolocation-benchmarks/yfcc4k/yfcc4k/yfcc4k/6191232325.jpg  \n",
            "  inflating: /content/llms-for-image-geolocation-benchmarks/yfcc4k/yfcc4k/yfcc4k/6193458572.jpg  \n",
            "  inflating: /content/llms-for-image-geolocation-benchmarks/yfcc4k/yfcc4k/yfcc4k/6193684856.jpg  \n",
            "  inflating: /content/llms-for-image-geolocation-benchmarks/yfcc4k/yfcc4k/yfcc4k/6194441716.jpg  \n",
            "  inflating: /content/llms-for-image-geolocation-benchmarks/yfcc4k/yfcc4k/yfcc4k/6195214708.jpg  \n",
            "  inflating: /content/llms-for-image-geolocation-benchmarks/yfcc4k/yfcc4k/yfcc4k/6195360476.jpg  \n",
            "  inflating: /content/llms-for-image-geolocation-benchmarks/yfcc4k/yfcc4k/yfcc4k/6196538724.jpg  \n",
            "  inflating: /content/llms-for-image-geolocation-benchmarks/yfcc4k/yfcc4k/yfcc4k/6196578631.jpg  \n",
            "  inflating: /content/llms-for-image-geolocation-benchmarks/yfcc4k/yfcc4k/yfcc4k/6199248662.jpg  \n",
            "  inflating: /content/llms-for-image-geolocation-benchmarks/yfcc4k/yfcc4k/yfcc4k/6199618095.jpg  \n",
            "  inflating: /content/llms-for-image-geolocation-benchmarks/yfcc4k/yfcc4k/yfcc4k/6199908137.jpg  \n",
            "  inflating: /content/llms-for-image-geolocation-benchmarks/yfcc4k/yfcc4k/yfcc4k/6200440829.jpg  \n",
            "  inflating: /content/llms-for-image-geolocation-benchmarks/yfcc4k/yfcc4k/yfcc4k/6202272031.jpg  \n",
            "  inflating: /content/llms-for-image-geolocation-benchmarks/yfcc4k/yfcc4k/yfcc4k/6202405767.jpg  \n",
            "  inflating: /content/llms-for-image-geolocation-benchmarks/yfcc4k/yfcc4k/yfcc4k/6203097431.jpg  \n",
            "  inflating: /content/llms-for-image-geolocation-benchmarks/yfcc4k/yfcc4k/yfcc4k/6203548174.jpg  \n",
            "  inflating: /content/llms-for-image-geolocation-benchmarks/yfcc4k/yfcc4k/yfcc4k/6203774276.jpg  \n",
            "  inflating: /content/llms-for-image-geolocation-benchmarks/yfcc4k/yfcc4k/yfcc4k/6208333532.jpg  \n",
            "  inflating: /content/llms-for-image-geolocation-benchmarks/yfcc4k/yfcc4k/yfcc4k/6209729815.jpg  \n",
            "  inflating: /content/llms-for-image-geolocation-benchmarks/yfcc4k/yfcc4k/yfcc4k/6212389026.jpg  \n",
            "  inflating: /content/llms-for-image-geolocation-benchmarks/yfcc4k/yfcc4k/yfcc4k/6215917710.jpg  \n",
            "  inflating: /content/llms-for-image-geolocation-benchmarks/yfcc4k/yfcc4k/yfcc4k/6217372312.jpg  \n",
            "  inflating: /content/llms-for-image-geolocation-benchmarks/yfcc4k/yfcc4k/yfcc4k/6218208500.jpg  \n",
            "  inflating: /content/llms-for-image-geolocation-benchmarks/yfcc4k/yfcc4k/yfcc4k/6220931845.jpg  \n",
            "  inflating: /content/llms-for-image-geolocation-benchmarks/yfcc4k/yfcc4k/yfcc4k/6221026029.jpg  \n",
            "  inflating: /content/llms-for-image-geolocation-benchmarks/yfcc4k/yfcc4k/yfcc4k/6224455828.jpg  \n",
            "  inflating: /content/llms-for-image-geolocation-benchmarks/yfcc4k/yfcc4k/yfcc4k/6226079915.jpg  \n",
            "  inflating: /content/llms-for-image-geolocation-benchmarks/yfcc4k/yfcc4k/yfcc4k/6226299384.jpg  \n",
            "  inflating: /content/llms-for-image-geolocation-benchmarks/yfcc4k/yfcc4k/yfcc4k/6226922755.jpg  \n",
            "  inflating: /content/llms-for-image-geolocation-benchmarks/yfcc4k/yfcc4k/yfcc4k/6227611498.jpg  \n",
            "  inflating: /content/llms-for-image-geolocation-benchmarks/yfcc4k/yfcc4k/yfcc4k/6228895289.jpg  \n",
            "  inflating: /content/llms-for-image-geolocation-benchmarks/yfcc4k/yfcc4k/yfcc4k/623013849.jpg  \n",
            "  inflating: /content/llms-for-image-geolocation-benchmarks/yfcc4k/yfcc4k/yfcc4k/6233214721.jpg  \n",
            "  inflating: /content/llms-for-image-geolocation-benchmarks/yfcc4k/yfcc4k/yfcc4k/6233658752.jpg  \n",
            "  inflating: /content/llms-for-image-geolocation-benchmarks/yfcc4k/yfcc4k/yfcc4k/6236460903.jpg  \n",
            "  inflating: /content/llms-for-image-geolocation-benchmarks/yfcc4k/yfcc4k/yfcc4k/6240381059.jpg  \n",
            "  inflating: /content/llms-for-image-geolocation-benchmarks/yfcc4k/yfcc4k/yfcc4k/6240428053.jpg  \n",
            "  inflating: /content/llms-for-image-geolocation-benchmarks/yfcc4k/yfcc4k/yfcc4k/6243255316.jpg  \n",
            "  inflating: /content/llms-for-image-geolocation-benchmarks/yfcc4k/yfcc4k/yfcc4k/6245196330.jpg  \n",
            "  inflating: /content/llms-for-image-geolocation-benchmarks/yfcc4k/yfcc4k/yfcc4k/6247749454.jpg  \n",
            "  inflating: /content/llms-for-image-geolocation-benchmarks/yfcc4k/yfcc4k/yfcc4k/6248247338.jpg  \n",
            "  inflating: /content/llms-for-image-geolocation-benchmarks/yfcc4k/yfcc4k/yfcc4k/6248256933.jpg  \n",
            "  inflating: /content/llms-for-image-geolocation-benchmarks/yfcc4k/yfcc4k/yfcc4k/6249598006.jpg  \n",
            "  inflating: /content/llms-for-image-geolocation-benchmarks/yfcc4k/yfcc4k/yfcc4k/6251612460.jpg  \n",
            "  inflating: /content/llms-for-image-geolocation-benchmarks/yfcc4k/yfcc4k/yfcc4k/6252419899.jpg  \n",
            "  inflating: /content/llms-for-image-geolocation-benchmarks/yfcc4k/yfcc4k/yfcc4k/6253299609.jpg  \n",
            "  inflating: /content/llms-for-image-geolocation-benchmarks/yfcc4k/yfcc4k/yfcc4k/6256072732.jpg  \n",
            "  inflating: /content/llms-for-image-geolocation-benchmarks/yfcc4k/yfcc4k/yfcc4k/6260887657.jpg  \n",
            "  inflating: /content/llms-for-image-geolocation-benchmarks/yfcc4k/yfcc4k/yfcc4k/6261011643.jpg  \n",
            "  inflating: /content/llms-for-image-geolocation-benchmarks/yfcc4k/yfcc4k/yfcc4k/6262408326.jpg  \n",
            "  inflating: /content/llms-for-image-geolocation-benchmarks/yfcc4k/yfcc4k/yfcc4k/6263503498.jpg  \n",
            "  inflating: /content/llms-for-image-geolocation-benchmarks/yfcc4k/yfcc4k/yfcc4k/6263918595.jpg  \n",
            "  inflating: /content/llms-for-image-geolocation-benchmarks/yfcc4k/yfcc4k/yfcc4k/6265502591.jpg  \n",
            "  inflating: /content/llms-for-image-geolocation-benchmarks/yfcc4k/yfcc4k/yfcc4k/6265842957.jpg  \n",
            "  inflating: /content/llms-for-image-geolocation-benchmarks/yfcc4k/yfcc4k/yfcc4k/6265923716.jpg  \n",
            "  inflating: /content/llms-for-image-geolocation-benchmarks/yfcc4k/yfcc4k/yfcc4k/6269148496.jpg  \n",
            "  inflating: /content/llms-for-image-geolocation-benchmarks/yfcc4k/yfcc4k/yfcc4k/6270582424.jpg  \n",
            "  inflating: /content/llms-for-image-geolocation-benchmarks/yfcc4k/yfcc4k/yfcc4k/6270776348.jpg  \n",
            "  inflating: /content/llms-for-image-geolocation-benchmarks/yfcc4k/yfcc4k/yfcc4k/6272006842.jpg  \n",
            "  inflating: /content/llms-for-image-geolocation-benchmarks/yfcc4k/yfcc4k/yfcc4k/6272830384.jpg  \n",
            "  inflating: /content/llms-for-image-geolocation-benchmarks/yfcc4k/yfcc4k/yfcc4k/6272904090.jpg  \n",
            "  inflating: /content/llms-for-image-geolocation-benchmarks/yfcc4k/yfcc4k/yfcc4k/6274189246.jpg  \n",
            "  inflating: /content/llms-for-image-geolocation-benchmarks/yfcc4k/yfcc4k/yfcc4k/6274957040.jpg  \n",
            "  inflating: /content/llms-for-image-geolocation-benchmarks/yfcc4k/yfcc4k/yfcc4k/6275033842.jpg  \n",
            "  inflating: /content/llms-for-image-geolocation-benchmarks/yfcc4k/yfcc4k/yfcc4k/6275492319.jpg  \n",
            "  inflating: /content/llms-for-image-geolocation-benchmarks/yfcc4k/yfcc4k/yfcc4k/6275585779.jpg  \n",
            "  inflating: /content/llms-for-image-geolocation-benchmarks/yfcc4k/yfcc4k/yfcc4k/6276252638.jpg  \n",
            "  inflating: /content/llms-for-image-geolocation-benchmarks/yfcc4k/yfcc4k/yfcc4k/6279789879.jpg  \n",
            "  inflating: /content/llms-for-image-geolocation-benchmarks/yfcc4k/yfcc4k/yfcc4k/6280338958.jpg  \n",
            "  inflating: /content/llms-for-image-geolocation-benchmarks/yfcc4k/yfcc4k/yfcc4k/6280711665.jpg  \n",
            "  inflating: /content/llms-for-image-geolocation-benchmarks/yfcc4k/yfcc4k/yfcc4k/6281203011.jpg  \n",
            "  inflating: /content/llms-for-image-geolocation-benchmarks/yfcc4k/yfcc4k/yfcc4k/6281827061.jpg  \n",
            "  inflating: /content/llms-for-image-geolocation-benchmarks/yfcc4k/yfcc4k/yfcc4k/6283158837.jpg  \n",
            "  inflating: /content/llms-for-image-geolocation-benchmarks/yfcc4k/yfcc4k/yfcc4k/6284554468.jpg  \n",
            "  inflating: /content/llms-for-image-geolocation-benchmarks/yfcc4k/yfcc4k/yfcc4k/6285000930.jpg  \n",
            "  inflating: /content/llms-for-image-geolocation-benchmarks/yfcc4k/yfcc4k/yfcc4k/6286762891.jpg  \n",
            "  inflating: /content/llms-for-image-geolocation-benchmarks/yfcc4k/yfcc4k/yfcc4k/6287373097.jpg  \n",
            "  inflating: /content/llms-for-image-geolocation-benchmarks/yfcc4k/yfcc4k/yfcc4k/6289094362.jpg  \n",
            "  inflating: /content/llms-for-image-geolocation-benchmarks/yfcc4k/yfcc4k/yfcc4k/6291561128.jpg  \n",
            "  inflating: /content/llms-for-image-geolocation-benchmarks/yfcc4k/yfcc4k/yfcc4k/6292826.jpg  \n",
            "  inflating: /content/llms-for-image-geolocation-benchmarks/yfcc4k/yfcc4k/yfcc4k/6293247732.jpg  \n",
            "  inflating: /content/llms-for-image-geolocation-benchmarks/yfcc4k/yfcc4k/yfcc4k/6293719298.jpg  \n",
            "  inflating: /content/llms-for-image-geolocation-benchmarks/yfcc4k/yfcc4k/yfcc4k/6294881679.jpg  \n",
            "  inflating: /content/llms-for-image-geolocation-benchmarks/yfcc4k/yfcc4k/yfcc4k/6295278595.jpg  \n",
            "  inflating: /content/llms-for-image-geolocation-benchmarks/yfcc4k/yfcc4k/yfcc4k/6295982812.jpg  \n",
            "  inflating: /content/llms-for-image-geolocation-benchmarks/yfcc4k/yfcc4k/yfcc4k/6297538963.jpg  \n",
            "  inflating: /content/llms-for-image-geolocation-benchmarks/yfcc4k/yfcc4k/yfcc4k/6300490611.jpg  \n",
            "  inflating: /content/llms-for-image-geolocation-benchmarks/yfcc4k/yfcc4k/yfcc4k/6301251463.jpg  \n",
            "  inflating: /content/llms-for-image-geolocation-benchmarks/yfcc4k/yfcc4k/yfcc4k/6307380477.jpg  \n",
            "  inflating: /content/llms-for-image-geolocation-benchmarks/yfcc4k/yfcc4k/yfcc4k/6308931194.jpg  \n",
            "  inflating: /content/llms-for-image-geolocation-benchmarks/yfcc4k/yfcc4k/yfcc4k/6311250417.jpg  \n",
            "  inflating: /content/llms-for-image-geolocation-benchmarks/yfcc4k/yfcc4k/yfcc4k/6311753481.jpg  \n",
            "  inflating: /content/llms-for-image-geolocation-benchmarks/yfcc4k/yfcc4k/yfcc4k/6315784034.jpg  \n",
            "  inflating: /content/llms-for-image-geolocation-benchmarks/yfcc4k/yfcc4k/yfcc4k/6318333539.jpg  \n",
            "  inflating: /content/llms-for-image-geolocation-benchmarks/yfcc4k/yfcc4k/yfcc4k/6321778773.jpg  \n",
            "  inflating: /content/llms-for-image-geolocation-benchmarks/yfcc4k/yfcc4k/yfcc4k/6323696459.jpg  \n",
            "  inflating: /content/llms-for-image-geolocation-benchmarks/yfcc4k/yfcc4k/yfcc4k/6324386263.jpg  \n",
            "  inflating: /content/llms-for-image-geolocation-benchmarks/yfcc4k/yfcc4k/yfcc4k/6325257789.jpg  \n",
            "  inflating: /content/llms-for-image-geolocation-benchmarks/yfcc4k/yfcc4k/yfcc4k/63253036.jpg  \n",
            "  inflating: /content/llms-for-image-geolocation-benchmarks/yfcc4k/yfcc4k/yfcc4k/6325727670.jpg  \n",
            "  inflating: /content/llms-for-image-geolocation-benchmarks/yfcc4k/yfcc4k/yfcc4k/6327114677.jpg  \n",
            "  inflating: /content/llms-for-image-geolocation-benchmarks/yfcc4k/yfcc4k/yfcc4k/6329517843.jpg  \n",
            "  inflating: /content/llms-for-image-geolocation-benchmarks/yfcc4k/yfcc4k/yfcc4k/6329764640.jpg  \n",
            "  inflating: /content/llms-for-image-geolocation-benchmarks/yfcc4k/yfcc4k/yfcc4k/6335057165.jpg  \n",
            "  inflating: /content/llms-for-image-geolocation-benchmarks/yfcc4k/yfcc4k/yfcc4k/6336173875.jpg  \n",
            "  inflating: /content/llms-for-image-geolocation-benchmarks/yfcc4k/yfcc4k/yfcc4k/6336923118.jpg  \n",
            "  inflating: /content/llms-for-image-geolocation-benchmarks/yfcc4k/yfcc4k/yfcc4k/6338685695.jpg  \n",
            "  inflating: /content/llms-for-image-geolocation-benchmarks/yfcc4k/yfcc4k/yfcc4k/6340732247.jpg  \n",
            "  inflating: /content/llms-for-image-geolocation-benchmarks/yfcc4k/yfcc4k/yfcc4k/6341179138.jpg  \n",
            "  inflating: /content/llms-for-image-geolocation-benchmarks/yfcc4k/yfcc4k/yfcc4k/6342112635.jpg  \n",
            "  inflating: /content/llms-for-image-geolocation-benchmarks/yfcc4k/yfcc4k/yfcc4k/6345717036.jpg  \n",
            "  inflating: /content/llms-for-image-geolocation-benchmarks/yfcc4k/yfcc4k/yfcc4k/6346105690.jpg  \n",
            "  inflating: /content/llms-for-image-geolocation-benchmarks/yfcc4k/yfcc4k/yfcc4k/6347126160.jpg  \n",
            "  inflating: /content/llms-for-image-geolocation-benchmarks/yfcc4k/yfcc4k/yfcc4k/6348803963.jpg  \n",
            "  inflating: /content/llms-for-image-geolocation-benchmarks/yfcc4k/yfcc4k/yfcc4k/6350222613.jpg  \n",
            "  inflating: /content/llms-for-image-geolocation-benchmarks/yfcc4k/yfcc4k/yfcc4k/6356237897.jpg  \n",
            "  inflating: /content/llms-for-image-geolocation-benchmarks/yfcc4k/yfcc4k/yfcc4k/6358527369.jpg  \n",
            "  inflating: /content/llms-for-image-geolocation-benchmarks/yfcc4k/yfcc4k/yfcc4k/6361380835.jpg  \n",
            "  inflating: /content/llms-for-image-geolocation-benchmarks/yfcc4k/yfcc4k/yfcc4k/6361529777.jpg  \n",
            "  inflating: /content/llms-for-image-geolocation-benchmarks/yfcc4k/yfcc4k/yfcc4k/6364237595.jpg  \n",
            "  inflating: /content/llms-for-image-geolocation-benchmarks/yfcc4k/yfcc4k/yfcc4k/6366992053.jpg  \n",
            "  inflating: /content/llms-for-image-geolocation-benchmarks/yfcc4k/yfcc4k/yfcc4k/6367970783.jpg  \n",
            "  inflating: /content/llms-for-image-geolocation-benchmarks/yfcc4k/yfcc4k/yfcc4k/6368227719.jpg  \n",
            "  inflating: /content/llms-for-image-geolocation-benchmarks/yfcc4k/yfcc4k/yfcc4k/6370451349.jpg  \n",
            "  inflating: /content/llms-for-image-geolocation-benchmarks/yfcc4k/yfcc4k/yfcc4k/6372549291.jpg  \n",
            "  inflating: /content/llms-for-image-geolocation-benchmarks/yfcc4k/yfcc4k/yfcc4k/6373435073.jpg  \n",
            "  inflating: /content/llms-for-image-geolocation-benchmarks/yfcc4k/yfcc4k/yfcc4k/6373995571.jpg  \n",
            "  inflating: /content/llms-for-image-geolocation-benchmarks/yfcc4k/yfcc4k/yfcc4k/6376170331.jpg  \n",
            "  inflating: /content/llms-for-image-geolocation-benchmarks/yfcc4k/yfcc4k/yfcc4k/6376967251.jpg  \n",
            "  inflating: /content/llms-for-image-geolocation-benchmarks/yfcc4k/yfcc4k/yfcc4k/6380241107.jpg  \n",
            "  inflating: /content/llms-for-image-geolocation-benchmarks/yfcc4k/yfcc4k/yfcc4k/6383542043.jpg  \n",
            "  inflating: /content/llms-for-image-geolocation-benchmarks/yfcc4k/yfcc4k/yfcc4k/638990262.jpg  \n",
            "  inflating: /content/llms-for-image-geolocation-benchmarks/yfcc4k/yfcc4k/yfcc4k/6390825337.jpg  \n",
            "  inflating: /content/llms-for-image-geolocation-benchmarks/yfcc4k/yfcc4k/yfcc4k/6393864811.jpg  \n",
            "  inflating: /content/llms-for-image-geolocation-benchmarks/yfcc4k/yfcc4k/yfcc4k/6395870303.jpg  \n",
            "  inflating: /content/llms-for-image-geolocation-benchmarks/yfcc4k/yfcc4k/yfcc4k/6402240641.jpg  \n",
            "  inflating: /content/llms-for-image-geolocation-benchmarks/yfcc4k/yfcc4k/yfcc4k/6403764049.jpg  \n",
            "  inflating: /content/llms-for-image-geolocation-benchmarks/yfcc4k/yfcc4k/yfcc4k/6410290183.jpg  \n",
            "  inflating: /content/llms-for-image-geolocation-benchmarks/yfcc4k/yfcc4k/yfcc4k/641154722.jpg  \n",
            "  inflating: /content/llms-for-image-geolocation-benchmarks/yfcc4k/yfcc4k/yfcc4k/641173028.jpg  \n",
            "  inflating: /content/llms-for-image-geolocation-benchmarks/yfcc4k/yfcc4k/yfcc4k/6412535227.jpg  \n",
            "  inflating: /content/llms-for-image-geolocation-benchmarks/yfcc4k/yfcc4k/yfcc4k/6415752099.jpg  \n",
            "  inflating: /content/llms-for-image-geolocation-benchmarks/yfcc4k/yfcc4k/yfcc4k/6418172035.jpg  \n",
            "  inflating: /content/llms-for-image-geolocation-benchmarks/yfcc4k/yfcc4k/yfcc4k/6420610055.jpg  \n",
            "  inflating: /content/llms-for-image-geolocation-benchmarks/yfcc4k/yfcc4k/yfcc4k/6421007911.jpg  \n",
            "  inflating: /content/llms-for-image-geolocation-benchmarks/yfcc4k/yfcc4k/yfcc4k/6423810853.jpg  \n",
            "  inflating: /content/llms-for-image-geolocation-benchmarks/yfcc4k/yfcc4k/yfcc4k/6425090213.jpg  \n",
            "  inflating: /content/llms-for-image-geolocation-benchmarks/yfcc4k/yfcc4k/yfcc4k/6429512477.jpg  \n",
            "  inflating: /content/llms-for-image-geolocation-benchmarks/yfcc4k/yfcc4k/yfcc4k/6429858311.jpg  \n",
            "  inflating: /content/llms-for-image-geolocation-benchmarks/yfcc4k/yfcc4k/yfcc4k/6430097353.jpg  \n",
            "  inflating: /content/llms-for-image-geolocation-benchmarks/yfcc4k/yfcc4k/yfcc4k/64341603.jpg  \n",
            "  inflating: /content/llms-for-image-geolocation-benchmarks/yfcc4k/yfcc4k/yfcc4k/6434535893.jpg  \n",
            "  inflating: /content/llms-for-image-geolocation-benchmarks/yfcc4k/yfcc4k/yfcc4k/6437363241.jpg  \n",
            "  inflating: /content/llms-for-image-geolocation-benchmarks/yfcc4k/yfcc4k/yfcc4k/6437756833.jpg  \n",
            "  inflating: /content/llms-for-image-geolocation-benchmarks/yfcc4k/yfcc4k/yfcc4k/6438673471.jpg  \n",
            "  inflating: /content/llms-for-image-geolocation-benchmarks/yfcc4k/yfcc4k/yfcc4k/6439491975.jpg  \n",
            "  inflating: /content/llms-for-image-geolocation-benchmarks/yfcc4k/yfcc4k/yfcc4k/6441481743.jpg  \n",
            "  inflating: /content/llms-for-image-geolocation-benchmarks/yfcc4k/yfcc4k/yfcc4k/644242466.jpg  \n",
            "  inflating: /content/llms-for-image-geolocation-benchmarks/yfcc4k/yfcc4k/yfcc4k/6443730767.jpg  \n",
            "  inflating: /content/llms-for-image-geolocation-benchmarks/yfcc4k/yfcc4k/yfcc4k/6448707003.jpg  \n",
            "  inflating: /content/llms-for-image-geolocation-benchmarks/yfcc4k/yfcc4k/yfcc4k/6453876677.jpg  \n",
            "  inflating: /content/llms-for-image-geolocation-benchmarks/yfcc4k/yfcc4k/yfcc4k/6453915851.jpg  \n",
            "  inflating: /content/llms-for-image-geolocation-benchmarks/yfcc4k/yfcc4k/yfcc4k/6458106003.jpg  \n",
            "  inflating: /content/llms-for-image-geolocation-benchmarks/yfcc4k/yfcc4k/yfcc4k/6459354911.jpg  \n",
            "  inflating: /content/llms-for-image-geolocation-benchmarks/yfcc4k/yfcc4k/yfcc4k/6464183169.jpg  \n",
            "  inflating: /content/llms-for-image-geolocation-benchmarks/yfcc4k/yfcc4k/yfcc4k/6464286529.jpg  \n",
            "  inflating: /content/llms-for-image-geolocation-benchmarks/yfcc4k/yfcc4k/yfcc4k/6478594215.jpg  \n",
            "  inflating: /content/llms-for-image-geolocation-benchmarks/yfcc4k/yfcc4k/yfcc4k/6480504033.jpg  \n",
            "  inflating: /content/llms-for-image-geolocation-benchmarks/yfcc4k/yfcc4k/yfcc4k/6481390141.jpg  \n",
            "  inflating: /content/llms-for-image-geolocation-benchmarks/yfcc4k/yfcc4k/yfcc4k/6496861747.jpg  \n",
            "  inflating: /content/llms-for-image-geolocation-benchmarks/yfcc4k/yfcc4k/yfcc4k/6497202921.jpg  \n",
            "  inflating: /content/llms-for-image-geolocation-benchmarks/yfcc4k/yfcc4k/yfcc4k/6499083997.jpg  \n",
            "  inflating: /content/llms-for-image-geolocation-benchmarks/yfcc4k/yfcc4k/yfcc4k/6510750829.jpg  \n",
            "  inflating: /content/llms-for-image-geolocation-benchmarks/yfcc4k/yfcc4k/yfcc4k/6517593297.jpg  \n",
            "  inflating: /content/llms-for-image-geolocation-benchmarks/yfcc4k/yfcc4k/yfcc4k/6518362779.jpg  \n",
            "  inflating: /content/llms-for-image-geolocation-benchmarks/yfcc4k/yfcc4k/yfcc4k/6519925269.jpg  \n",
            "  inflating: /content/llms-for-image-geolocation-benchmarks/yfcc4k/yfcc4k/yfcc4k/6524964427.jpg  \n",
            "  inflating: /content/llms-for-image-geolocation-benchmarks/yfcc4k/yfcc4k/yfcc4k/6528262305.jpg  \n",
            "  inflating: /content/llms-for-image-geolocation-benchmarks/yfcc4k/yfcc4k/yfcc4k/6532434739.jpg  \n",
            "  inflating: /content/llms-for-image-geolocation-benchmarks/yfcc4k/yfcc4k/yfcc4k/6537177665.jpg  \n",
            "  inflating: /content/llms-for-image-geolocation-benchmarks/yfcc4k/yfcc4k/yfcc4k/6538456769.jpg  \n",
            "  inflating: /content/llms-for-image-geolocation-benchmarks/yfcc4k/yfcc4k/yfcc4k/6542603435.jpg  \n",
            "  inflating: /content/llms-for-image-geolocation-benchmarks/yfcc4k/yfcc4k/yfcc4k/6543792655.jpg  \n",
            "  inflating: /content/llms-for-image-geolocation-benchmarks/yfcc4k/yfcc4k/yfcc4k/6550890455.jpg  \n",
            "  inflating: /content/llms-for-image-geolocation-benchmarks/yfcc4k/yfcc4k/yfcc4k/6555021885.jpg  \n",
            "  inflating: /content/llms-for-image-geolocation-benchmarks/yfcc4k/yfcc4k/yfcc4k/6560010177.jpg  \n",
            "  inflating: /content/llms-for-image-geolocation-benchmarks/yfcc4k/yfcc4k/yfcc4k/6566123123.jpg  \n",
            "  inflating: /content/llms-for-image-geolocation-benchmarks/yfcc4k/yfcc4k/yfcc4k/6570624701.jpg  \n",
            "  inflating: /content/llms-for-image-geolocation-benchmarks/yfcc4k/yfcc4k/yfcc4k/6573840151.jpg  \n",
            "  inflating: /content/llms-for-image-geolocation-benchmarks/yfcc4k/yfcc4k/yfcc4k/6575594273.jpg  \n",
            "  inflating: /content/llms-for-image-geolocation-benchmarks/yfcc4k/yfcc4k/yfcc4k/6583675463.jpg  \n",
            "  inflating: /content/llms-for-image-geolocation-benchmarks/yfcc4k/yfcc4k/yfcc4k/6587602265.jpg  \n",
            "  inflating: /content/llms-for-image-geolocation-benchmarks/yfcc4k/yfcc4k/yfcc4k/6587905137.jpg  \n",
            "  inflating: /content/llms-for-image-geolocation-benchmarks/yfcc4k/yfcc4k/yfcc4k/6592296343.jpg  \n",
            "  inflating: /content/llms-for-image-geolocation-benchmarks/yfcc4k/yfcc4k/yfcc4k/6597907987.jpg  \n",
            "  inflating: /content/llms-for-image-geolocation-benchmarks/yfcc4k/yfcc4k/yfcc4k/6600163115.jpg  \n",
            "  inflating: /content/llms-for-image-geolocation-benchmarks/yfcc4k/yfcc4k/yfcc4k/6600755193.jpg  \n",
            "  inflating: /content/llms-for-image-geolocation-benchmarks/yfcc4k/yfcc4k/yfcc4k/6602734997.jpg  \n",
            "  inflating: /content/llms-for-image-geolocation-benchmarks/yfcc4k/yfcc4k/yfcc4k/661902697.jpg  \n",
            "  inflating: /content/llms-for-image-geolocation-benchmarks/yfcc4k/yfcc4k/yfcc4k/6619376657.jpg  \n",
            "  inflating: /content/llms-for-image-geolocation-benchmarks/yfcc4k/yfcc4k/yfcc4k/6620205357.jpg  \n",
            "  inflating: /content/llms-for-image-geolocation-benchmarks/yfcc4k/yfcc4k/yfcc4k/6621410399.jpg  \n",
            "  inflating: /content/llms-for-image-geolocation-benchmarks/yfcc4k/yfcc4k/yfcc4k/6627093471.jpg  \n",
            "  inflating: /content/llms-for-image-geolocation-benchmarks/yfcc4k/yfcc4k/yfcc4k/6636277331.jpg  \n",
            "  inflating: /content/llms-for-image-geolocation-benchmarks/yfcc4k/yfcc4k/yfcc4k/6644084029.jpg  \n",
            "  inflating: /content/llms-for-image-geolocation-benchmarks/yfcc4k/yfcc4k/yfcc4k/6644308477.jpg  \n",
            "  inflating: /content/llms-for-image-geolocation-benchmarks/yfcc4k/yfcc4k/yfcc4k/6649495313.jpg  \n",
            "  inflating: /content/llms-for-image-geolocation-benchmarks/yfcc4k/yfcc4k/yfcc4k/6650095093.jpg  \n",
            "  inflating: /content/llms-for-image-geolocation-benchmarks/yfcc4k/yfcc4k/yfcc4k/6653109579.jpg  \n",
            "  inflating: /content/llms-for-image-geolocation-benchmarks/yfcc4k/yfcc4k/yfcc4k/6660767951.jpg  \n",
            "  inflating: /content/llms-for-image-geolocation-benchmarks/yfcc4k/yfcc4k/yfcc4k/6664180319.jpg  \n",
            "  inflating: /content/llms-for-image-geolocation-benchmarks/yfcc4k/yfcc4k/yfcc4k/6666427569.jpg  \n",
            "  inflating: /content/llms-for-image-geolocation-benchmarks/yfcc4k/yfcc4k/yfcc4k/6669415903.jpg  \n",
            "  inflating: /content/llms-for-image-geolocation-benchmarks/yfcc4k/yfcc4k/yfcc4k/6669438787.jpg  \n",
            "  inflating: /content/llms-for-image-geolocation-benchmarks/yfcc4k/yfcc4k/yfcc4k/6672739903.jpg  \n",
            "  inflating: /content/llms-for-image-geolocation-benchmarks/yfcc4k/yfcc4k/yfcc4k/6683804657.jpg  \n",
            "  inflating: /content/llms-for-image-geolocation-benchmarks/yfcc4k/yfcc4k/yfcc4k/6683809175.jpg  \n",
            "  inflating: /content/llms-for-image-geolocation-benchmarks/yfcc4k/yfcc4k/yfcc4k/6686168067.jpg  \n",
            "  inflating: /content/llms-for-image-geolocation-benchmarks/yfcc4k/yfcc4k/yfcc4k/6687626415.jpg  \n",
            "  inflating: /content/llms-for-image-geolocation-benchmarks/yfcc4k/yfcc4k/yfcc4k/6690731995.jpg  \n",
            "  inflating: /content/llms-for-image-geolocation-benchmarks/yfcc4k/yfcc4k/yfcc4k/6694816175.jpg  \n",
            "  inflating: /content/llms-for-image-geolocation-benchmarks/yfcc4k/yfcc4k/yfcc4k/6698310483.jpg  \n",
            "  inflating: /content/llms-for-image-geolocation-benchmarks/yfcc4k/yfcc4k/yfcc4k/6701309381.jpg  \n",
            "  inflating: /content/llms-for-image-geolocation-benchmarks/yfcc4k/yfcc4k/yfcc4k/6701959999.jpg  \n",
            "  inflating: /content/llms-for-image-geolocation-benchmarks/yfcc4k/yfcc4k/yfcc4k/6707881119.jpg  \n",
            "  inflating: /content/llms-for-image-geolocation-benchmarks/yfcc4k/yfcc4k/yfcc4k/6719281123.jpg  \n",
            "  inflating: /content/llms-for-image-geolocation-benchmarks/yfcc4k/yfcc4k/yfcc4k/6722234909.jpg  \n",
            "  inflating: /content/llms-for-image-geolocation-benchmarks/yfcc4k/yfcc4k/yfcc4k/6727873675.jpg  \n",
            "  inflating: /content/llms-for-image-geolocation-benchmarks/yfcc4k/yfcc4k/yfcc4k/6730210015.jpg  \n",
            "  inflating: /content/llms-for-image-geolocation-benchmarks/yfcc4k/yfcc4k/yfcc4k/6733537879.jpg  \n",
            "  inflating: /content/llms-for-image-geolocation-benchmarks/yfcc4k/yfcc4k/yfcc4k/6737347497.jpg  \n",
            "  inflating: /content/llms-for-image-geolocation-benchmarks/yfcc4k/yfcc4k/yfcc4k/6740400719.jpg  \n",
            "  inflating: /content/llms-for-image-geolocation-benchmarks/yfcc4k/yfcc4k/yfcc4k/6742795189.jpg  \n",
            "  inflating: /content/llms-for-image-geolocation-benchmarks/yfcc4k/yfcc4k/yfcc4k/6746692487.jpg  \n",
            "  inflating: /content/llms-for-image-geolocation-benchmarks/yfcc4k/yfcc4k/yfcc4k/6748178623.jpg  \n",
            "  inflating: /content/llms-for-image-geolocation-benchmarks/yfcc4k/yfcc4k/yfcc4k/6750472801.jpg  \n",
            "  inflating: /content/llms-for-image-geolocation-benchmarks/yfcc4k/yfcc4k/yfcc4k/6756027611.jpg  \n",
            "  inflating: /content/llms-for-image-geolocation-benchmarks/yfcc4k/yfcc4k/yfcc4k/6765305735.jpg  \n",
            "  inflating: /content/llms-for-image-geolocation-benchmarks/yfcc4k/yfcc4k/yfcc4k/6765326463.jpg  \n",
            "  inflating: /content/llms-for-image-geolocation-benchmarks/yfcc4k/yfcc4k/yfcc4k/6771185501.jpg  \n",
            "  inflating: /content/llms-for-image-geolocation-benchmarks/yfcc4k/yfcc4k/yfcc4k/6775033065.jpg  \n",
            "  inflating: /content/llms-for-image-geolocation-benchmarks/yfcc4k/yfcc4k/yfcc4k/6775268716.jpg  \n",
            "  inflating: /content/llms-for-image-geolocation-benchmarks/yfcc4k/yfcc4k/yfcc4k/6775544069.jpg  \n",
            "  inflating: /content/llms-for-image-geolocation-benchmarks/yfcc4k/yfcc4k/yfcc4k/6776889111.jpg  \n",
            "  inflating: /content/llms-for-image-geolocation-benchmarks/yfcc4k/yfcc4k/yfcc4k/6777387837.jpg  \n",
            "  inflating: /content/llms-for-image-geolocation-benchmarks/yfcc4k/yfcc4k/yfcc4k/6777450851.jpg  \n",
            "  inflating: /content/llms-for-image-geolocation-benchmarks/yfcc4k/yfcc4k/yfcc4k/6777722742.jpg  \n",
            "  inflating: /content/llms-for-image-geolocation-benchmarks/yfcc4k/yfcc4k/yfcc4k/6778146246.jpg  \n",
            "  inflating: /content/llms-for-image-geolocation-benchmarks/yfcc4k/yfcc4k/yfcc4k/6779799981.jpg  \n",
            "  inflating: /content/llms-for-image-geolocation-benchmarks/yfcc4k/yfcc4k/yfcc4k/6781392747.jpg  \n",
            "  inflating: /content/llms-for-image-geolocation-benchmarks/yfcc4k/yfcc4k/yfcc4k/6783436347.jpg  \n",
            "  inflating: /content/llms-for-image-geolocation-benchmarks/yfcc4k/yfcc4k/yfcc4k/6783498486.jpg  \n",
            "  inflating: /content/llms-for-image-geolocation-benchmarks/yfcc4k/yfcc4k/yfcc4k/6783667533.jpg  \n",
            "  inflating: /content/llms-for-image-geolocation-benchmarks/yfcc4k/yfcc4k/yfcc4k/6784767834.jpg  \n",
            "  inflating: /content/llms-for-image-geolocation-benchmarks/yfcc4k/yfcc4k/yfcc4k/6789153387.jpg  \n",
            "  inflating: /content/llms-for-image-geolocation-benchmarks/yfcc4k/yfcc4k/yfcc4k/6789552601.jpg  \n",
            "  inflating: /content/llms-for-image-geolocation-benchmarks/yfcc4k/yfcc4k/yfcc4k/6789630416.jpg  \n",
            "  inflating: /content/llms-for-image-geolocation-benchmarks/yfcc4k/yfcc4k/yfcc4k/6789811194.jpg  \n",
            "  inflating: /content/llms-for-image-geolocation-benchmarks/yfcc4k/yfcc4k/yfcc4k/6790201476.jpg  \n",
            "  inflating: /content/llms-for-image-geolocation-benchmarks/yfcc4k/yfcc4k/yfcc4k/6791526205.jpg  \n",
            "  inflating: /content/llms-for-image-geolocation-benchmarks/yfcc4k/yfcc4k/yfcc4k/6793022738.jpg  \n",
            "  inflating: /content/llms-for-image-geolocation-benchmarks/yfcc4k/yfcc4k/yfcc4k/6795635308.jpg  \n",
            "  inflating: /content/llms-for-image-geolocation-benchmarks/yfcc4k/yfcc4k/yfcc4k/6796621230.jpg  \n",
            "  inflating: /content/llms-for-image-geolocation-benchmarks/yfcc4k/yfcc4k/yfcc4k/6797570711.jpg  \n",
            "  inflating: /content/llms-for-image-geolocation-benchmarks/yfcc4k/yfcc4k/yfcc4k/6801825395.jpg  \n",
            "  inflating: /content/llms-for-image-geolocation-benchmarks/yfcc4k/yfcc4k/yfcc4k/6801874577.jpg  \n",
            "  inflating: /content/llms-for-image-geolocation-benchmarks/yfcc4k/yfcc4k/yfcc4k/6803970453.jpg  \n",
            "  inflating: /content/llms-for-image-geolocation-benchmarks/yfcc4k/yfcc4k/yfcc4k/6805418850.jpg  \n",
            "  inflating: /content/llms-for-image-geolocation-benchmarks/yfcc4k/yfcc4k/yfcc4k/6805561503.jpg  \n",
            "  inflating: /content/llms-for-image-geolocation-benchmarks/yfcc4k/yfcc4k/yfcc4k/6806025598.jpg  \n",
            "  inflating: /content/llms-for-image-geolocation-benchmarks/yfcc4k/yfcc4k/yfcc4k/6806514834.jpg  \n",
            "  inflating: /content/llms-for-image-geolocation-benchmarks/yfcc4k/yfcc4k/yfcc4k/6807658935.jpg  \n",
            "  inflating: /content/llms-for-image-geolocation-benchmarks/yfcc4k/yfcc4k/yfcc4k/6808573293.jpg  \n",
            "  inflating: /content/llms-for-image-geolocation-benchmarks/yfcc4k/yfcc4k/yfcc4k/6809515311.jpg  \n",
            "  inflating: /content/llms-for-image-geolocation-benchmarks/yfcc4k/yfcc4k/yfcc4k/6811348227.jpg  \n",
            "  inflating: /content/llms-for-image-geolocation-benchmarks/yfcc4k/yfcc4k/yfcc4k/6812488952.jpg  \n",
            "  inflating: /content/llms-for-image-geolocation-benchmarks/yfcc4k/yfcc4k/yfcc4k/6814561337.jpg  \n",
            "  inflating: /content/llms-for-image-geolocation-benchmarks/yfcc4k/yfcc4k/yfcc4k/6814714607.jpg  \n",
            "  inflating: /content/llms-for-image-geolocation-benchmarks/yfcc4k/yfcc4k/yfcc4k/6814783175.jpg  \n",
            "  inflating: /content/llms-for-image-geolocation-benchmarks/yfcc4k/yfcc4k/yfcc4k/6816055512.jpg  \n",
            "  inflating: /content/llms-for-image-geolocation-benchmarks/yfcc4k/yfcc4k/yfcc4k/6816649516.jpg  \n",
            "  inflating: /content/llms-for-image-geolocation-benchmarks/yfcc4k/yfcc4k/yfcc4k/6819263632.jpg  \n",
            "  inflating: /content/llms-for-image-geolocation-benchmarks/yfcc4k/yfcc4k/yfcc4k/6819523871.jpg  \n",
            "  inflating: /content/llms-for-image-geolocation-benchmarks/yfcc4k/yfcc4k/yfcc4k/6821319811.jpg  \n",
            "  inflating: /content/llms-for-image-geolocation-benchmarks/yfcc4k/yfcc4k/yfcc4k/6822265440.jpg  \n",
            "  inflating: /content/llms-for-image-geolocation-benchmarks/yfcc4k/yfcc4k/yfcc4k/6825043125.jpg  \n",
            "  inflating: /content/llms-for-image-geolocation-benchmarks/yfcc4k/yfcc4k/yfcc4k/6831387586.jpg  \n",
            "  inflating: /content/llms-for-image-geolocation-benchmarks/yfcc4k/yfcc4k/yfcc4k/6831752962.jpg  \n",
            "  inflating: /content/llms-for-image-geolocation-benchmarks/yfcc4k/yfcc4k/yfcc4k/6831825319.jpg  \n",
            "  inflating: /content/llms-for-image-geolocation-benchmarks/yfcc4k/yfcc4k/yfcc4k/6833114500.jpg  \n",
            "  inflating: /content/llms-for-image-geolocation-benchmarks/yfcc4k/yfcc4k/yfcc4k/6836821953.jpg  \n",
            "  inflating: /content/llms-for-image-geolocation-benchmarks/yfcc4k/yfcc4k/yfcc4k/6836971506.jpg  \n",
            "  inflating: /content/llms-for-image-geolocation-benchmarks/yfcc4k/yfcc4k/yfcc4k/6842689606.jpg  \n",
            "  inflating: /content/llms-for-image-geolocation-benchmarks/yfcc4k/yfcc4k/yfcc4k/6842919649.jpg  \n",
            "  inflating: /content/llms-for-image-geolocation-benchmarks/yfcc4k/yfcc4k/yfcc4k/6843255355.jpg  \n",
            "  inflating: /content/llms-for-image-geolocation-benchmarks/yfcc4k/yfcc4k/yfcc4k/6846375784.jpg  \n",
            "  inflating: /content/llms-for-image-geolocation-benchmarks/yfcc4k/yfcc4k/yfcc4k/6846600627.jpg  \n",
            "  inflating: /content/llms-for-image-geolocation-benchmarks/yfcc4k/yfcc4k/yfcc4k/6846929353.jpg  \n",
            "  inflating: /content/llms-for-image-geolocation-benchmarks/yfcc4k/yfcc4k/yfcc4k/6847022564.jpg  \n",
            "  inflating: /content/llms-for-image-geolocation-benchmarks/yfcc4k/yfcc4k/yfcc4k/6847396428.jpg  \n",
            "  inflating: /content/llms-for-image-geolocation-benchmarks/yfcc4k/yfcc4k/yfcc4k/6848081861.jpg  \n",
            "  inflating: /content/llms-for-image-geolocation-benchmarks/yfcc4k/yfcc4k/yfcc4k/6850293.jpg  \n",
            "  inflating: /content/llms-for-image-geolocation-benchmarks/yfcc4k/yfcc4k/yfcc4k/6854195771.jpg  \n",
            "  inflating: /content/llms-for-image-geolocation-benchmarks/yfcc4k/yfcc4k/yfcc4k/6856896231.jpg  \n",
            "  inflating: /content/llms-for-image-geolocation-benchmarks/yfcc4k/yfcc4k/yfcc4k/6857546680.jpg  \n",
            "  inflating: /content/llms-for-image-geolocation-benchmarks/yfcc4k/yfcc4k/yfcc4k/6859160179.jpg  \n",
            "  inflating: /content/llms-for-image-geolocation-benchmarks/yfcc4k/yfcc4k/yfcc4k/6860474752.jpg  \n",
            "  inflating: /content/llms-for-image-geolocation-benchmarks/yfcc4k/yfcc4k/yfcc4k/6861744928.jpg  \n",
            "  inflating: /content/llms-for-image-geolocation-benchmarks/yfcc4k/yfcc4k/yfcc4k/6862076486.jpg  \n",
            "  inflating: /content/llms-for-image-geolocation-benchmarks/yfcc4k/yfcc4k/yfcc4k/6865797612.jpg  \n",
            "  inflating: /content/llms-for-image-geolocation-benchmarks/yfcc4k/yfcc4k/yfcc4k/6870444529.jpg  \n",
            "  inflating: /content/llms-for-image-geolocation-benchmarks/yfcc4k/yfcc4k/yfcc4k/6872224993.jpg  \n",
            "  inflating: /content/llms-for-image-geolocation-benchmarks/yfcc4k/yfcc4k/yfcc4k/6874576974.jpg  \n",
            "  inflating: /content/llms-for-image-geolocation-benchmarks/yfcc4k/yfcc4k/yfcc4k/6875708677.jpg  \n",
            "  inflating: /content/llms-for-image-geolocation-benchmarks/yfcc4k/yfcc4k/yfcc4k/6877187385.jpg  \n",
            "  inflating: /content/llms-for-image-geolocation-benchmarks/yfcc4k/yfcc4k/yfcc4k/6877288495.jpg  \n",
            "  inflating: /content/llms-for-image-geolocation-benchmarks/yfcc4k/yfcc4k/yfcc4k/6877811994.jpg  \n",
            "  inflating: /content/llms-for-image-geolocation-benchmarks/yfcc4k/yfcc4k/yfcc4k/6877985988.jpg  \n",
            "  inflating: /content/llms-for-image-geolocation-benchmarks/yfcc4k/yfcc4k/yfcc4k/6886566655.jpg  \n",
            "  inflating: /content/llms-for-image-geolocation-benchmarks/yfcc4k/yfcc4k/yfcc4k/6888281313.jpg  \n",
            "  inflating: /content/llms-for-image-geolocation-benchmarks/yfcc4k/yfcc4k/yfcc4k/6890412001.jpg  \n",
            "  inflating: /content/llms-for-image-geolocation-benchmarks/yfcc4k/yfcc4k/yfcc4k/6890923826.jpg  \n",
            "  inflating: /content/llms-for-image-geolocation-benchmarks/yfcc4k/yfcc4k/yfcc4k/6891469098.jpg  \n",
            "  inflating: /content/llms-for-image-geolocation-benchmarks/yfcc4k/yfcc4k/yfcc4k/6892871997.jpg  \n",
            "  inflating: /content/llms-for-image-geolocation-benchmarks/yfcc4k/yfcc4k/yfcc4k/6893661382.jpg  \n",
            "  inflating: /content/llms-for-image-geolocation-benchmarks/yfcc4k/yfcc4k/yfcc4k/6893776298.jpg  \n",
            "  inflating: /content/llms-for-image-geolocation-benchmarks/yfcc4k/yfcc4k/yfcc4k/6894538299.jpg  \n",
            "  inflating: /content/llms-for-image-geolocation-benchmarks/yfcc4k/yfcc4k/yfcc4k/6895263676.jpg  \n",
            "  inflating: /content/llms-for-image-geolocation-benchmarks/yfcc4k/yfcc4k/yfcc4k/6896905201.jpg  \n",
            "  inflating: /content/llms-for-image-geolocation-benchmarks/yfcc4k/yfcc4k/yfcc4k/6897071578.jpg  \n",
            "  inflating: /content/llms-for-image-geolocation-benchmarks/yfcc4k/yfcc4k/yfcc4k/6897601597.jpg  \n",
            "  inflating: /content/llms-for-image-geolocation-benchmarks/yfcc4k/yfcc4k/yfcc4k/6899901799.jpg  \n",
            "  inflating: /content/llms-for-image-geolocation-benchmarks/yfcc4k/yfcc4k/yfcc4k/6901130391.jpg  \n",
            "  inflating: /content/llms-for-image-geolocation-benchmarks/yfcc4k/yfcc4k/yfcc4k/6903083158.jpg  \n",
            "  inflating: /content/llms-for-image-geolocation-benchmarks/yfcc4k/yfcc4k/yfcc4k/6903783847.jpg  \n",
            "  inflating: /content/llms-for-image-geolocation-benchmarks/yfcc4k/yfcc4k/yfcc4k/6904684988.jpg  \n",
            "  inflating: /content/llms-for-image-geolocation-benchmarks/yfcc4k/yfcc4k/yfcc4k/6905552070.jpg  \n",
            "  inflating: /content/llms-for-image-geolocation-benchmarks/yfcc4k/yfcc4k/yfcc4k/6905741175.jpg  \n",
            "  inflating: /content/llms-for-image-geolocation-benchmarks/yfcc4k/yfcc4k/yfcc4k/6907949010.jpg  \n",
            "  inflating: /content/llms-for-image-geolocation-benchmarks/yfcc4k/yfcc4k/yfcc4k/6908982412.jpg  \n",
            "  inflating: /content/llms-for-image-geolocation-benchmarks/yfcc4k/yfcc4k/yfcc4k/6912044570.jpg  \n",
            "  inflating: /content/llms-for-image-geolocation-benchmarks/yfcc4k/yfcc4k/yfcc4k/6912273902.jpg  \n",
            "  inflating: /content/llms-for-image-geolocation-benchmarks/yfcc4k/yfcc4k/yfcc4k/6915540604.jpg  \n",
            "  inflating: /content/llms-for-image-geolocation-benchmarks/yfcc4k/yfcc4k/yfcc4k/6915869572.jpg  \n",
            "  inflating: /content/llms-for-image-geolocation-benchmarks/yfcc4k/yfcc4k/yfcc4k/6915990491.jpg  \n",
            "  inflating: /content/llms-for-image-geolocation-benchmarks/yfcc4k/yfcc4k/yfcc4k/6918891685.jpg  \n",
            "  inflating: /content/llms-for-image-geolocation-benchmarks/yfcc4k/yfcc4k/yfcc4k/6918943017.jpg  \n",
            "  inflating: /content/llms-for-image-geolocation-benchmarks/yfcc4k/yfcc4k/yfcc4k/6919870883.jpg  \n",
            "  inflating: /content/llms-for-image-geolocation-benchmarks/yfcc4k/yfcc4k/yfcc4k/6920118996.jpg  \n",
            "  inflating: /content/llms-for-image-geolocation-benchmarks/yfcc4k/yfcc4k/yfcc4k/6922208194.jpg  \n",
            "  inflating: /content/llms-for-image-geolocation-benchmarks/yfcc4k/yfcc4k/yfcc4k/6923757115.jpg  \n",
            "  inflating: /content/llms-for-image-geolocation-benchmarks/yfcc4k/yfcc4k/yfcc4k/6925027806.jpg  \n",
            "  inflating: /content/llms-for-image-geolocation-benchmarks/yfcc4k/yfcc4k/yfcc4k/6929767945.jpg  \n",
            "  inflating: /content/llms-for-image-geolocation-benchmarks/yfcc4k/yfcc4k/yfcc4k/6929914487.jpg  \n",
            "  inflating: /content/llms-for-image-geolocation-benchmarks/yfcc4k/yfcc4k/yfcc4k/6930261843.jpg  \n",
            "  inflating: /content/llms-for-image-geolocation-benchmarks/yfcc4k/yfcc4k/yfcc4k/6931196599.jpg  \n",
            "  inflating: /content/llms-for-image-geolocation-benchmarks/yfcc4k/yfcc4k/yfcc4k/6932008510.jpg  \n",
            "  inflating: /content/llms-for-image-geolocation-benchmarks/yfcc4k/yfcc4k/yfcc4k/6933598073.jpg  \n",
            "  inflating: /content/llms-for-image-geolocation-benchmarks/yfcc4k/yfcc4k/yfcc4k/6934052402.jpg  \n",
            "  inflating: /content/llms-for-image-geolocation-benchmarks/yfcc4k/yfcc4k/yfcc4k/6940407027.jpg  \n",
            "  inflating: /content/llms-for-image-geolocation-benchmarks/yfcc4k/yfcc4k/yfcc4k/6940752168.jpg  \n",
            "  inflating: /content/llms-for-image-geolocation-benchmarks/yfcc4k/yfcc4k/yfcc4k/6941678601.jpg  \n",
            "  inflating: /content/llms-for-image-geolocation-benchmarks/yfcc4k/yfcc4k/yfcc4k/6943725796.jpg  \n",
            "  inflating: /content/llms-for-image-geolocation-benchmarks/yfcc4k/yfcc4k/yfcc4k/6945202165.jpg  \n",
            "  inflating: /content/llms-for-image-geolocation-benchmarks/yfcc4k/yfcc4k/yfcc4k/6949555253.jpg  \n",
            "  inflating: /content/llms-for-image-geolocation-benchmarks/yfcc4k/yfcc4k/yfcc4k/6952815766.jpg  \n",
            "  inflating: /content/llms-for-image-geolocation-benchmarks/yfcc4k/yfcc4k/yfcc4k/6954290258.jpg  \n",
            "  inflating: /content/llms-for-image-geolocation-benchmarks/yfcc4k/yfcc4k/yfcc4k/6956112267.jpg  \n",
            "  inflating: /content/llms-for-image-geolocation-benchmarks/yfcc4k/yfcc4k/yfcc4k/6958671653.jpg  \n",
            "  inflating: /content/llms-for-image-geolocation-benchmarks/yfcc4k/yfcc4k/yfcc4k/6960827981.jpg  \n",
            "  inflating: /content/llms-for-image-geolocation-benchmarks/yfcc4k/yfcc4k/yfcc4k/6961556221.jpg  \n",
            "  inflating: /content/llms-for-image-geolocation-benchmarks/yfcc4k/yfcc4k/yfcc4k/6962604316.jpg  \n",
            "  inflating: /content/llms-for-image-geolocation-benchmarks/yfcc4k/yfcc4k/yfcc4k/6966361977.jpg  \n",
            "  inflating: /content/llms-for-image-geolocation-benchmarks/yfcc4k/yfcc4k/yfcc4k/6968172336.jpg  \n",
            "  inflating: /content/llms-for-image-geolocation-benchmarks/yfcc4k/yfcc4k/yfcc4k/6969454441.jpg  \n",
            "  inflating: /content/llms-for-image-geolocation-benchmarks/yfcc4k/yfcc4k/yfcc4k/6969659030.jpg  \n",
            "  inflating: /content/llms-for-image-geolocation-benchmarks/yfcc4k/yfcc4k/yfcc4k/6974286041.jpg  \n",
            "  inflating: /content/llms-for-image-geolocation-benchmarks/yfcc4k/yfcc4k/yfcc4k/6974478163.jpg  \n",
            "  inflating: /content/llms-for-image-geolocation-benchmarks/yfcc4k/yfcc4k/yfcc4k/6977661211.jpg  \n",
            "  inflating: /content/llms-for-image-geolocation-benchmarks/yfcc4k/yfcc4k/yfcc4k/6977765382.jpg  \n",
            "  inflating: /content/llms-for-image-geolocation-benchmarks/yfcc4k/yfcc4k/yfcc4k/6977833678.jpg  \n",
            "  inflating: /content/llms-for-image-geolocation-benchmarks/yfcc4k/yfcc4k/yfcc4k/6978069119.jpg  \n",
            "  inflating: /content/llms-for-image-geolocation-benchmarks/yfcc4k/yfcc4k/yfcc4k/6981036294.jpg  \n",
            "  inflating: /content/llms-for-image-geolocation-benchmarks/yfcc4k/yfcc4k/yfcc4k/6982811527.jpg  \n",
            "  inflating: /content/llms-for-image-geolocation-benchmarks/yfcc4k/yfcc4k/yfcc4k/6985438140.jpg  \n",
            "  inflating: /content/llms-for-image-geolocation-benchmarks/yfcc4k/yfcc4k/yfcc4k/6986080944.jpg  \n",
            "  inflating: /content/llms-for-image-geolocation-benchmarks/yfcc4k/yfcc4k/yfcc4k/6986434757.jpg  \n",
            "  inflating: /content/llms-for-image-geolocation-benchmarks/yfcc4k/yfcc4k/yfcc4k/6987170124.jpg  \n",
            "  inflating: /content/llms-for-image-geolocation-benchmarks/yfcc4k/yfcc4k/yfcc4k/6988360463.jpg  \n",
            "  inflating: /content/llms-for-image-geolocation-benchmarks/yfcc4k/yfcc4k/yfcc4k/6989072615.jpg  \n",
            "  inflating: /content/llms-for-image-geolocation-benchmarks/yfcc4k/yfcc4k/yfcc4k/6989109675.jpg  \n",
            "  inflating: /content/llms-for-image-geolocation-benchmarks/yfcc4k/yfcc4k/yfcc4k/6989331843.jpg  \n",
            "  inflating: /content/llms-for-image-geolocation-benchmarks/yfcc4k/yfcc4k/yfcc4k/6989419566.jpg  \n",
            "  inflating: /content/llms-for-image-geolocation-benchmarks/yfcc4k/yfcc4k/yfcc4k/6990618550.jpg  \n",
            "  inflating: /content/llms-for-image-geolocation-benchmarks/yfcc4k/yfcc4k/yfcc4k/6992099571.jpg  \n",
            "  inflating: /content/llms-for-image-geolocation-benchmarks/yfcc4k/yfcc4k/yfcc4k/6993275087.jpg  \n",
            "  inflating: /content/llms-for-image-geolocation-benchmarks/yfcc4k/yfcc4k/yfcc4k/6994060964.jpg  \n",
            "  inflating: /content/llms-for-image-geolocation-benchmarks/yfcc4k/yfcc4k/yfcc4k/6994208552.jpg  \n",
            "  inflating: /content/llms-for-image-geolocation-benchmarks/yfcc4k/yfcc4k/yfcc4k/6995122899.jpg  \n",
            "  inflating: /content/llms-for-image-geolocation-benchmarks/yfcc4k/yfcc4k/yfcc4k/6995289244.jpg  \n",
            "  inflating: /content/llms-for-image-geolocation-benchmarks/yfcc4k/yfcc4k/yfcc4k/6996366470.jpg  \n",
            "  inflating: /content/llms-for-image-geolocation-benchmarks/yfcc4k/yfcc4k/yfcc4k/7000875593.jpg  \n",
            "  inflating: /content/llms-for-image-geolocation-benchmarks/yfcc4k/yfcc4k/yfcc4k/7004333961.jpg  \n",
            "  inflating: /content/llms-for-image-geolocation-benchmarks/yfcc4k/yfcc4k/yfcc4k/7005455700.jpg  \n",
            "  inflating: /content/llms-for-image-geolocation-benchmarks/yfcc4k/yfcc4k/yfcc4k/7006293586.jpg  \n",
            "  inflating: /content/llms-for-image-geolocation-benchmarks/yfcc4k/yfcc4k/yfcc4k/7006913150.jpg  \n",
            "  inflating: /content/llms-for-image-geolocation-benchmarks/yfcc4k/yfcc4k/yfcc4k/7007098967.jpg  \n",
            "  inflating: /content/llms-for-image-geolocation-benchmarks/yfcc4k/yfcc4k/yfcc4k/7007305085.jpg  \n",
            "  inflating: /content/llms-for-image-geolocation-benchmarks/yfcc4k/yfcc4k/yfcc4k/7010047153.jpg  \n",
            "  inflating: /content/llms-for-image-geolocation-benchmarks/yfcc4k/yfcc4k/yfcc4k/7012457729.jpg  \n",
            "  inflating: /content/llms-for-image-geolocation-benchmarks/yfcc4k/yfcc4k/yfcc4k/7016083507.jpg  \n",
            "  inflating: /content/llms-for-image-geolocation-benchmarks/yfcc4k/yfcc4k/yfcc4k/7018205135.jpg  \n",
            "  inflating: /content/llms-for-image-geolocation-benchmarks/yfcc4k/yfcc4k/yfcc4k/7020612425.jpg  \n",
            "  inflating: /content/llms-for-image-geolocation-benchmarks/yfcc4k/yfcc4k/yfcc4k/7029385243.jpg  \n",
            "  inflating: /content/llms-for-image-geolocation-benchmarks/yfcc4k/yfcc4k/yfcc4k/7035142327.jpg  \n",
            "  inflating: /content/llms-for-image-geolocation-benchmarks/yfcc4k/yfcc4k/yfcc4k/7037488999.jpg  \n",
            "  inflating: /content/llms-for-image-geolocation-benchmarks/yfcc4k/yfcc4k/yfcc4k/7039924071.jpg  \n",
            "  inflating: /content/llms-for-image-geolocation-benchmarks/yfcc4k/yfcc4k/yfcc4k/7052064187.jpg  \n",
            "  inflating: /content/llms-for-image-geolocation-benchmarks/yfcc4k/yfcc4k/yfcc4k/7058346377.jpg  \n",
            "  inflating: /content/llms-for-image-geolocation-benchmarks/yfcc4k/yfcc4k/yfcc4k/7061845699.jpg  \n",
            "  inflating: /content/llms-for-image-geolocation-benchmarks/yfcc4k/yfcc4k/yfcc4k/7061863793.jpg  \n",
            "  inflating: /content/llms-for-image-geolocation-benchmarks/yfcc4k/yfcc4k/yfcc4k/7061995765.jpg  \n",
            "  inflating: /content/llms-for-image-geolocation-benchmarks/yfcc4k/yfcc4k/yfcc4k/7063460451.jpg  \n",
            "  inflating: /content/llms-for-image-geolocation-benchmarks/yfcc4k/yfcc4k/yfcc4k/7066751805.jpg  \n",
            "  inflating: /content/llms-for-image-geolocation-benchmarks/yfcc4k/yfcc4k/yfcc4k/7067550675.jpg  \n",
            "  inflating: /content/llms-for-image-geolocation-benchmarks/yfcc4k/yfcc4k/yfcc4k/7067695863.jpg  \n",
            "  inflating: /content/llms-for-image-geolocation-benchmarks/yfcc4k/yfcc4k/yfcc4k/7068807869.jpg  \n",
            "  inflating: /content/llms-for-image-geolocation-benchmarks/yfcc4k/yfcc4k/yfcc4k/7077609.jpg  \n",
            "  inflating: /content/llms-for-image-geolocation-benchmarks/yfcc4k/yfcc4k/yfcc4k/7078478749.jpg  \n",
            "  inflating: /content/llms-for-image-geolocation-benchmarks/yfcc4k/yfcc4k/yfcc4k/707901087.jpg  \n",
            "  inflating: /content/llms-for-image-geolocation-benchmarks/yfcc4k/yfcc4k/yfcc4k/7085701389.jpg  \n",
            "  inflating: /content/llms-for-image-geolocation-benchmarks/yfcc4k/yfcc4k/yfcc4k/7086145991.jpg  \n",
            "  inflating: /content/llms-for-image-geolocation-benchmarks/yfcc4k/yfcc4k/yfcc4k/7089111725.jpg  \n",
            "  inflating: /content/llms-for-image-geolocation-benchmarks/yfcc4k/yfcc4k/yfcc4k/7095171373.jpg  \n",
            "  inflating: /content/llms-for-image-geolocation-benchmarks/yfcc4k/yfcc4k/yfcc4k/7101041615.jpg  \n",
            "  inflating: /content/llms-for-image-geolocation-benchmarks/yfcc4k/yfcc4k/yfcc4k/7102649297.jpg  \n",
            "  inflating: /content/llms-for-image-geolocation-benchmarks/yfcc4k/yfcc4k/yfcc4k/7103935371.jpg  \n",
            "  inflating: /content/llms-for-image-geolocation-benchmarks/yfcc4k/yfcc4k/yfcc4k/7105775053.jpg  \n",
            "  inflating: /content/llms-for-image-geolocation-benchmarks/yfcc4k/yfcc4k/yfcc4k/7108912177.jpg  \n",
            "  inflating: /content/llms-for-image-geolocation-benchmarks/yfcc4k/yfcc4k/yfcc4k/7109134791.jpg  \n",
            "  inflating: /content/llms-for-image-geolocation-benchmarks/yfcc4k/yfcc4k/yfcc4k/7111005721.jpg  \n",
            "  inflating: /content/llms-for-image-geolocation-benchmarks/yfcc4k/yfcc4k/yfcc4k/7114408429.jpg  \n",
            "  inflating: /content/llms-for-image-geolocation-benchmarks/yfcc4k/yfcc4k/yfcc4k/7118496483.jpg  \n",
            "  inflating: /content/llms-for-image-geolocation-benchmarks/yfcc4k/yfcc4k/yfcc4k/7121572837.jpg  \n",
            "  inflating: /content/llms-for-image-geolocation-benchmarks/yfcc4k/yfcc4k/yfcc4k/7123455695.jpg  \n",
            "  inflating: /content/llms-for-image-geolocation-benchmarks/yfcc4k/yfcc4k/yfcc4k/7127688987.jpg  \n",
            "  inflating: /content/llms-for-image-geolocation-benchmarks/yfcc4k/yfcc4k/yfcc4k/7130802725.jpg  \n",
            "  inflating: /content/llms-for-image-geolocation-benchmarks/yfcc4k/yfcc4k/yfcc4k/7134312275.jpg  \n",
            "  inflating: /content/llms-for-image-geolocation-benchmarks/yfcc4k/yfcc4k/yfcc4k/7135008437.jpg  \n",
            "  inflating: /content/llms-for-image-geolocation-benchmarks/yfcc4k/yfcc4k/yfcc4k/7137002885.jpg  \n",
            "  inflating: /content/llms-for-image-geolocation-benchmarks/yfcc4k/yfcc4k/yfcc4k/7139464669.jpg  \n",
            "  inflating: /content/llms-for-image-geolocation-benchmarks/yfcc4k/yfcc4k/yfcc4k/7142182557.jpg  \n",
            "  inflating: /content/llms-for-image-geolocation-benchmarks/yfcc4k/yfcc4k/yfcc4k/7143158999.jpg  \n",
            "  inflating: /content/llms-for-image-geolocation-benchmarks/yfcc4k/yfcc4k/yfcc4k/7143812991.jpg  \n",
            "  inflating: /content/llms-for-image-geolocation-benchmarks/yfcc4k/yfcc4k/yfcc4k/7147530837.jpg  \n",
            "  inflating: /content/llms-for-image-geolocation-benchmarks/yfcc4k/yfcc4k/yfcc4k/7148306037.jpg  \n",
            "  inflating: /content/llms-for-image-geolocation-benchmarks/yfcc4k/yfcc4k/yfcc4k/7148495915.jpg  \n",
            "  inflating: /content/llms-for-image-geolocation-benchmarks/yfcc4k/yfcc4k/yfcc4k/7151575029.jpg  \n",
            "  inflating: /content/llms-for-image-geolocation-benchmarks/yfcc4k/yfcc4k/yfcc4k/7153846207.jpg  \n",
            "  inflating: /content/llms-for-image-geolocation-benchmarks/yfcc4k/yfcc4k/yfcc4k/7155509891.jpg  \n",
            "  inflating: /content/llms-for-image-geolocation-benchmarks/yfcc4k/yfcc4k/yfcc4k/7158230137.jpg  \n",
            "  inflating: /content/llms-for-image-geolocation-benchmarks/yfcc4k/yfcc4k/yfcc4k/7163909925.jpg  \n",
            "  inflating: /content/llms-for-image-geolocation-benchmarks/yfcc4k/yfcc4k/yfcc4k/7165555849.jpg  \n",
            "  inflating: /content/llms-for-image-geolocation-benchmarks/yfcc4k/yfcc4k/yfcc4k/7168608694.jpg  \n",
            "  inflating: /content/llms-for-image-geolocation-benchmarks/yfcc4k/yfcc4k/yfcc4k/7168622745.jpg  \n",
            "  inflating: /content/llms-for-image-geolocation-benchmarks/yfcc4k/yfcc4k/yfcc4k/7169559416.jpg  \n",
            "  inflating: /content/llms-for-image-geolocation-benchmarks/yfcc4k/yfcc4k/yfcc4k/7171803750.jpg  \n",
            "  inflating: /content/llms-for-image-geolocation-benchmarks/yfcc4k/yfcc4k/yfcc4k/7172537520.jpg  \n",
            "  inflating: /content/llms-for-image-geolocation-benchmarks/yfcc4k/yfcc4k/yfcc4k/7172818339.jpg  \n",
            "  inflating: /content/llms-for-image-geolocation-benchmarks/yfcc4k/yfcc4k/yfcc4k/7172859805.jpg  \n",
            "  inflating: /content/llms-for-image-geolocation-benchmarks/yfcc4k/yfcc4k/yfcc4k/7173129566.jpg  \n",
            "  inflating: /content/llms-for-image-geolocation-benchmarks/yfcc4k/yfcc4k/yfcc4k/7174110648.jpg  \n",
            "  inflating: /content/llms-for-image-geolocation-benchmarks/yfcc4k/yfcc4k/yfcc4k/7175536309.jpg  \n",
            "  inflating: /content/llms-for-image-geolocation-benchmarks/yfcc4k/yfcc4k/yfcc4k/7176166261.jpg  \n",
            "  inflating: /content/llms-for-image-geolocation-benchmarks/yfcc4k/yfcc4k/yfcc4k/7177491509.jpg  \n",
            "  inflating: /content/llms-for-image-geolocation-benchmarks/yfcc4k/yfcc4k/yfcc4k/7177804060.jpg  \n",
            "  inflating: /content/llms-for-image-geolocation-benchmarks/yfcc4k/yfcc4k/yfcc4k/7179754898.jpg  \n",
            "  inflating: /content/llms-for-image-geolocation-benchmarks/yfcc4k/yfcc4k/yfcc4k/7180702207.jpg  \n",
            "  inflating: /content/llms-for-image-geolocation-benchmarks/yfcc4k/yfcc4k/yfcc4k/7180850395.jpg  \n",
            "  inflating: /content/llms-for-image-geolocation-benchmarks/yfcc4k/yfcc4k/yfcc4k/7181730343.jpg  \n",
            "  inflating: /content/llms-for-image-geolocation-benchmarks/yfcc4k/yfcc4k/yfcc4k/7181756655.jpg  \n",
            "  inflating: /content/llms-for-image-geolocation-benchmarks/yfcc4k/yfcc4k/yfcc4k/7182587678.jpg  \n",
            "  inflating: /content/llms-for-image-geolocation-benchmarks/yfcc4k/yfcc4k/yfcc4k/7184601839.jpg  \n",
            "  inflating: /content/llms-for-image-geolocation-benchmarks/yfcc4k/yfcc4k/yfcc4k/7185364280.jpg  \n",
            "  inflating: /content/llms-for-image-geolocation-benchmarks/yfcc4k/yfcc4k/yfcc4k/7185963139.jpg  \n",
            "  inflating: /content/llms-for-image-geolocation-benchmarks/yfcc4k/yfcc4k/yfcc4k/7186971904.jpg  \n",
            "  inflating: /content/llms-for-image-geolocation-benchmarks/yfcc4k/yfcc4k/yfcc4k/7187099849.jpg  \n",
            "  inflating: /content/llms-for-image-geolocation-benchmarks/yfcc4k/yfcc4k/yfcc4k/7187773128.jpg  \n",
            "  inflating: /content/llms-for-image-geolocation-benchmarks/yfcc4k/yfcc4k/yfcc4k/7192911530.jpg  \n",
            "  inflating: /content/llms-for-image-geolocation-benchmarks/yfcc4k/yfcc4k/yfcc4k/7195097996.jpg  \n",
            "  inflating: /content/llms-for-image-geolocation-benchmarks/yfcc4k/yfcc4k/yfcc4k/7196543710.jpg  \n",
            "  inflating: /content/llms-for-image-geolocation-benchmarks/yfcc4k/yfcc4k/yfcc4k/7197439192.jpg  \n",
            "  inflating: /content/llms-for-image-geolocation-benchmarks/yfcc4k/yfcc4k/yfcc4k/7200883436.jpg  \n",
            "  inflating: /content/llms-for-image-geolocation-benchmarks/yfcc4k/yfcc4k/yfcc4k/7203634664.jpg  \n",
            "  inflating: /content/llms-for-image-geolocation-benchmarks/yfcc4k/yfcc4k/yfcc4k/7208300664.jpg  \n",
            "  inflating: /content/llms-for-image-geolocation-benchmarks/yfcc4k/yfcc4k/yfcc4k/7209775546.jpg  \n",
            "  inflating: /content/llms-for-image-geolocation-benchmarks/yfcc4k/yfcc4k/yfcc4k/7219678730.jpg  \n",
            "  inflating: /content/llms-for-image-geolocation-benchmarks/yfcc4k/yfcc4k/yfcc4k/7226544124.jpg  \n",
            "  inflating: /content/llms-for-image-geolocation-benchmarks/yfcc4k/yfcc4k/yfcc4k/7227286610.jpg  \n",
            "  inflating: /content/llms-for-image-geolocation-benchmarks/yfcc4k/yfcc4k/yfcc4k/7228222032.jpg  \n",
            "  inflating: /content/llms-for-image-geolocation-benchmarks/yfcc4k/yfcc4k/yfcc4k/7228846562.jpg  \n",
            "  inflating: /content/llms-for-image-geolocation-benchmarks/yfcc4k/yfcc4k/yfcc4k/7231686010.jpg  \n",
            "  inflating: /content/llms-for-image-geolocation-benchmarks/yfcc4k/yfcc4k/yfcc4k/7231887990.jpg  \n",
            "  inflating: /content/llms-for-image-geolocation-benchmarks/yfcc4k/yfcc4k/yfcc4k/7237002074.jpg  \n",
            "  inflating: /content/llms-for-image-geolocation-benchmarks/yfcc4k/yfcc4k/yfcc4k/7238580254.jpg  \n",
            "  inflating: /content/llms-for-image-geolocation-benchmarks/yfcc4k/yfcc4k/yfcc4k/7240362942.jpg  \n",
            "  inflating: /content/llms-for-image-geolocation-benchmarks/yfcc4k/yfcc4k/yfcc4k/7245352828.jpg  \n",
            "  inflating: /content/llms-for-image-geolocation-benchmarks/yfcc4k/yfcc4k/yfcc4k/7249793388.jpg  \n",
            "  inflating: /content/llms-for-image-geolocation-benchmarks/yfcc4k/yfcc4k/yfcc4k/7249801860.jpg  \n",
            "  inflating: /content/llms-for-image-geolocation-benchmarks/yfcc4k/yfcc4k/yfcc4k/7249825714.jpg  \n",
            "  inflating: /content/llms-for-image-geolocation-benchmarks/yfcc4k/yfcc4k/yfcc4k/7257612220.jpg  \n",
            "  inflating: /content/llms-for-image-geolocation-benchmarks/yfcc4k/yfcc4k/yfcc4k/7260679330.jpg  \n",
            "  inflating: /content/llms-for-image-geolocation-benchmarks/yfcc4k/yfcc4k/yfcc4k/7263792632.jpg  \n",
            "  inflating: /content/llms-for-image-geolocation-benchmarks/yfcc4k/yfcc4k/yfcc4k/7264168758.jpg  \n",
            "  inflating: /content/llms-for-image-geolocation-benchmarks/yfcc4k/yfcc4k/yfcc4k/7273912910.jpg  \n",
            "  inflating: /content/llms-for-image-geolocation-benchmarks/yfcc4k/yfcc4k/yfcc4k/7275092104.jpg  \n",
            "  inflating: /content/llms-for-image-geolocation-benchmarks/yfcc4k/yfcc4k/yfcc4k/7280779100.jpg  \n",
            "  inflating: /content/llms-for-image-geolocation-benchmarks/yfcc4k/yfcc4k/yfcc4k/7283162242.jpg  \n",
            "  inflating: /content/llms-for-image-geolocation-benchmarks/yfcc4k/yfcc4k/yfcc4k/7284870834.jpg  \n",
            "  inflating: /content/llms-for-image-geolocation-benchmarks/yfcc4k/yfcc4k/yfcc4k/7285237238.jpg  \n",
            "  inflating: /content/llms-for-image-geolocation-benchmarks/yfcc4k/yfcc4k/yfcc4k/7286171822.jpg  \n",
            "  inflating: /content/llms-for-image-geolocation-benchmarks/yfcc4k/yfcc4k/yfcc4k/7286650920.jpg  \n",
            "  inflating: /content/llms-for-image-geolocation-benchmarks/yfcc4k/yfcc4k/yfcc4k/7287995278.jpg  \n",
            "  inflating: /content/llms-for-image-geolocation-benchmarks/yfcc4k/yfcc4k/yfcc4k/7289030198.jpg  \n",
            "  inflating: /content/llms-for-image-geolocation-benchmarks/yfcc4k/yfcc4k/yfcc4k/7290592470.jpg  \n",
            "  inflating: /content/llms-for-image-geolocation-benchmarks/yfcc4k/yfcc4k/yfcc4k/7291335624.jpg  \n",
            "  inflating: /content/llms-for-image-geolocation-benchmarks/yfcc4k/yfcc4k/yfcc4k/7291968286.jpg  \n",
            "  inflating: /content/llms-for-image-geolocation-benchmarks/yfcc4k/yfcc4k/yfcc4k/7294576276.jpg  \n",
            "  inflating: /content/llms-for-image-geolocation-benchmarks/yfcc4k/yfcc4k/yfcc4k/7295701232.jpg  \n",
            "  inflating: /content/llms-for-image-geolocation-benchmarks/yfcc4k/yfcc4k/yfcc4k/7298777358.jpg  \n",
            "  inflating: /content/llms-for-image-geolocation-benchmarks/yfcc4k/yfcc4k/yfcc4k/7298891722.jpg  \n",
            "  inflating: /content/llms-for-image-geolocation-benchmarks/yfcc4k/yfcc4k/yfcc4k/7304618908.jpg  \n",
            "  inflating: /content/llms-for-image-geolocation-benchmarks/yfcc4k/yfcc4k/yfcc4k/7304737724.jpg  \n",
            "  inflating: /content/llms-for-image-geolocation-benchmarks/yfcc4k/yfcc4k/yfcc4k/7306241476.jpg  \n",
            "  inflating: /content/llms-for-image-geolocation-benchmarks/yfcc4k/yfcc4k/yfcc4k/7315864030.jpg  \n",
            "  inflating: /content/llms-for-image-geolocation-benchmarks/yfcc4k/yfcc4k/yfcc4k/7317463798.jpg  \n",
            "  inflating: /content/llms-for-image-geolocation-benchmarks/yfcc4k/yfcc4k/yfcc4k/7318725536.jpg  \n",
            "  inflating: /content/llms-for-image-geolocation-benchmarks/yfcc4k/yfcc4k/yfcc4k/7322405980.jpg  \n",
            "  inflating: /content/llms-for-image-geolocation-benchmarks/yfcc4k/yfcc4k/yfcc4k/7324561704.jpg  \n",
            "  inflating: /content/llms-for-image-geolocation-benchmarks/yfcc4k/yfcc4k/yfcc4k/7328700422.jpg  \n",
            "  inflating: /content/llms-for-image-geolocation-benchmarks/yfcc4k/yfcc4k/yfcc4k/7332548548.jpg  \n",
            "  inflating: /content/llms-for-image-geolocation-benchmarks/yfcc4k/yfcc4k/yfcc4k/7333462230.jpg  \n",
            "  inflating: /content/llms-for-image-geolocation-benchmarks/yfcc4k/yfcc4k/yfcc4k/7353703752.jpg  \n",
            "  inflating: /content/llms-for-image-geolocation-benchmarks/yfcc4k/yfcc4k/yfcc4k/7355684548.jpg  \n",
            "  inflating: /content/llms-for-image-geolocation-benchmarks/yfcc4k/yfcc4k/yfcc4k/7356034654.jpg  \n",
            "  inflating: /content/llms-for-image-geolocation-benchmarks/yfcc4k/yfcc4k/yfcc4k/7356388950.jpg  \n",
            "  inflating: /content/llms-for-image-geolocation-benchmarks/yfcc4k/yfcc4k/yfcc4k/7359121812.jpg  \n",
            "  inflating: /content/llms-for-image-geolocation-benchmarks/yfcc4k/yfcc4k/yfcc4k/7359192776.jpg  \n",
            "  inflating: /content/llms-for-image-geolocation-benchmarks/yfcc4k/yfcc4k/yfcc4k/7359227058.jpg  \n",
            "  inflating: /content/llms-for-image-geolocation-benchmarks/yfcc4k/yfcc4k/yfcc4k/7362581626.jpg  \n",
            "  inflating: /content/llms-for-image-geolocation-benchmarks/yfcc4k/yfcc4k/yfcc4k/7365080034.jpg  \n",
            "  inflating: /content/llms-for-image-geolocation-benchmarks/yfcc4k/yfcc4k/yfcc4k/7378385824.jpg  \n",
            "  inflating: /content/llms-for-image-geolocation-benchmarks/yfcc4k/yfcc4k/yfcc4k/7379098410.jpg  \n",
            "  inflating: /content/llms-for-image-geolocation-benchmarks/yfcc4k/yfcc4k/yfcc4k/7379518902.jpg  \n",
            "  inflating: /content/llms-for-image-geolocation-benchmarks/yfcc4k/yfcc4k/yfcc4k/7388947506.jpg  \n",
            "  inflating: /content/llms-for-image-geolocation-benchmarks/yfcc4k/yfcc4k/yfcc4k/7389171128.jpg  \n",
            "  inflating: /content/llms-for-image-geolocation-benchmarks/yfcc4k/yfcc4k/yfcc4k/7389291920.jpg  \n",
            "  inflating: /content/llms-for-image-geolocation-benchmarks/yfcc4k/yfcc4k/yfcc4k/7401360936.jpg  \n",
            "  inflating: /content/llms-for-image-geolocation-benchmarks/yfcc4k/yfcc4k/yfcc4k/7401969394.jpg  \n",
            "  inflating: /content/llms-for-image-geolocation-benchmarks/yfcc4k/yfcc4k/yfcc4k/7402397682.jpg  \n",
            "  inflating: /content/llms-for-image-geolocation-benchmarks/yfcc4k/yfcc4k/yfcc4k/7402476942.jpg  \n",
            "  inflating: /content/llms-for-image-geolocation-benchmarks/yfcc4k/yfcc4k/yfcc4k/7413044200.jpg  \n",
            "  inflating: /content/llms-for-image-geolocation-benchmarks/yfcc4k/yfcc4k/yfcc4k/7413825334.jpg  \n",
            "  inflating: /content/llms-for-image-geolocation-benchmarks/yfcc4k/yfcc4k/yfcc4k/7414396080.jpg  \n",
            "  inflating: /content/llms-for-image-geolocation-benchmarks/yfcc4k/yfcc4k/yfcc4k/7416913542.jpg  \n",
            "  inflating: /content/llms-for-image-geolocation-benchmarks/yfcc4k/yfcc4k/yfcc4k/7422123290.jpg  \n",
            "  inflating: /content/llms-for-image-geolocation-benchmarks/yfcc4k/yfcc4k/yfcc4k/7425154108.jpg  \n",
            "  inflating: /content/llms-for-image-geolocation-benchmarks/yfcc4k/yfcc4k/yfcc4k/7428982990.jpg  \n",
            "  inflating: /content/llms-for-image-geolocation-benchmarks/yfcc4k/yfcc4k/yfcc4k/7435411366.jpg  \n",
            "  inflating: /content/llms-for-image-geolocation-benchmarks/yfcc4k/yfcc4k/yfcc4k/7436205940.jpg  \n",
            "  inflating: /content/llms-for-image-geolocation-benchmarks/yfcc4k/yfcc4k/yfcc4k/7436866902.jpg  \n",
            "  inflating: /content/llms-for-image-geolocation-benchmarks/yfcc4k/yfcc4k/yfcc4k/7442728616.jpg  \n",
            "  inflating: /content/llms-for-image-geolocation-benchmarks/yfcc4k/yfcc4k/yfcc4k/7442914884.jpg  \n",
            "  inflating: /content/llms-for-image-geolocation-benchmarks/yfcc4k/yfcc4k/yfcc4k/7445445016.jpg  \n",
            "  inflating: /content/llms-for-image-geolocation-benchmarks/yfcc4k/yfcc4k/yfcc4k/7447396310.jpg  \n",
            "  inflating: /content/llms-for-image-geolocation-benchmarks/yfcc4k/yfcc4k/yfcc4k/7451637944.jpg  \n",
            "  inflating: /content/llms-for-image-geolocation-benchmarks/yfcc4k/yfcc4k/yfcc4k/7453539482.jpg  \n",
            "  inflating: /content/llms-for-image-geolocation-benchmarks/yfcc4k/yfcc4k/yfcc4k/7454149000.jpg  \n",
            "  inflating: /content/llms-for-image-geolocation-benchmarks/yfcc4k/yfcc4k/yfcc4k/7467448864.jpg  \n",
            "  inflating: /content/llms-for-image-geolocation-benchmarks/yfcc4k/yfcc4k/yfcc4k/7468668212.jpg  \n",
            "  inflating: /content/llms-for-image-geolocation-benchmarks/yfcc4k/yfcc4k/yfcc4k/7469133068.jpg  \n",
            "  inflating: /content/llms-for-image-geolocation-benchmarks/yfcc4k/yfcc4k/yfcc4k/7477429380.jpg  \n",
            "  inflating: /content/llms-for-image-geolocation-benchmarks/yfcc4k/yfcc4k/yfcc4k/7478471700.jpg  \n",
            "  inflating: /content/llms-for-image-geolocation-benchmarks/yfcc4k/yfcc4k/yfcc4k/7478969488.jpg  \n",
            "  inflating: /content/llms-for-image-geolocation-benchmarks/yfcc4k/yfcc4k/yfcc4k/7489646730.jpg  \n",
            "  inflating: /content/llms-for-image-geolocation-benchmarks/yfcc4k/yfcc4k/yfcc4k/7490487872.jpg  \n",
            "  inflating: /content/llms-for-image-geolocation-benchmarks/yfcc4k/yfcc4k/yfcc4k/7490847868.jpg  \n",
            "  inflating: /content/llms-for-image-geolocation-benchmarks/yfcc4k/yfcc4k/yfcc4k/7492163404.jpg  \n",
            "  inflating: /content/llms-for-image-geolocation-benchmarks/yfcc4k/yfcc4k/yfcc4k/7492596274.jpg  \n",
            "  inflating: /content/llms-for-image-geolocation-benchmarks/yfcc4k/yfcc4k/yfcc4k/7501188424.jpg  \n",
            "  inflating: /content/llms-for-image-geolocation-benchmarks/yfcc4k/yfcc4k/yfcc4k/7502309448.jpg  \n",
            "  inflating: /content/llms-for-image-geolocation-benchmarks/yfcc4k/yfcc4k/yfcc4k/7503669400.jpg  \n",
            "  inflating: /content/llms-for-image-geolocation-benchmarks/yfcc4k/yfcc4k/yfcc4k/7506210980.jpg  \n",
            "  inflating: /content/llms-for-image-geolocation-benchmarks/yfcc4k/yfcc4k/yfcc4k/7506510930.jpg  \n",
            "  inflating: /content/llms-for-image-geolocation-benchmarks/yfcc4k/yfcc4k/yfcc4k/7507137230.jpg  \n",
            "  inflating: /content/llms-for-image-geolocation-benchmarks/yfcc4k/yfcc4k/yfcc4k/7507214662.jpg  \n",
            "  inflating: /content/llms-for-image-geolocation-benchmarks/yfcc4k/yfcc4k/yfcc4k/7508042664.jpg  \n",
            "  inflating: /content/llms-for-image-geolocation-benchmarks/yfcc4k/yfcc4k/yfcc4k/7508462230.jpg  \n",
            "  inflating: /content/llms-for-image-geolocation-benchmarks/yfcc4k/yfcc4k/yfcc4k/7510624928.jpg  \n",
            "  inflating: /content/llms-for-image-geolocation-benchmarks/yfcc4k/yfcc4k/yfcc4k/7513595544.jpg  \n",
            "  inflating: /content/llms-for-image-geolocation-benchmarks/yfcc4k/yfcc4k/yfcc4k/7524263504.jpg  \n",
            "  inflating: /content/llms-for-image-geolocation-benchmarks/yfcc4k/yfcc4k/yfcc4k/7526476944.jpg  \n",
            "  inflating: /content/llms-for-image-geolocation-benchmarks/yfcc4k/yfcc4k/yfcc4k/7526913510.jpg  \n",
            "  inflating: /content/llms-for-image-geolocation-benchmarks/yfcc4k/yfcc4k/yfcc4k/7527152534.jpg  \n",
            "  inflating: /content/llms-for-image-geolocation-benchmarks/yfcc4k/yfcc4k/yfcc4k/7529936728.jpg  \n",
            "  inflating: /content/llms-for-image-geolocation-benchmarks/yfcc4k/yfcc4k/yfcc4k/7530339446.jpg  \n",
            "  inflating: /content/llms-for-image-geolocation-benchmarks/yfcc4k/yfcc4k/yfcc4k/7530390930.jpg  \n",
            "  inflating: /content/llms-for-image-geolocation-benchmarks/yfcc4k/yfcc4k/yfcc4k/7533226672.jpg  \n",
            "  inflating: /content/llms-for-image-geolocation-benchmarks/yfcc4k/yfcc4k/yfcc4k/7536385196.jpg  \n",
            "  inflating: /content/llms-for-image-geolocation-benchmarks/yfcc4k/yfcc4k/yfcc4k/7544055936.jpg  \n",
            "  inflating: /content/llms-for-image-geolocation-benchmarks/yfcc4k/yfcc4k/yfcc4k/7544145338.jpg  \n",
            "  inflating: /content/llms-for-image-geolocation-benchmarks/yfcc4k/yfcc4k/yfcc4k/7544370882.jpg  \n",
            "  inflating: /content/llms-for-image-geolocation-benchmarks/yfcc4k/yfcc4k/yfcc4k/7546207752.jpg  \n",
            "  inflating: /content/llms-for-image-geolocation-benchmarks/yfcc4k/yfcc4k/yfcc4k/7548797674.jpg  \n",
            "  inflating: /content/llms-for-image-geolocation-benchmarks/yfcc4k/yfcc4k/yfcc4k/7552034122.jpg  \n",
            "  inflating: /content/llms-for-image-geolocation-benchmarks/yfcc4k/yfcc4k/yfcc4k/7557056774.jpg  \n",
            "  inflating: /content/llms-for-image-geolocation-benchmarks/yfcc4k/yfcc4k/yfcc4k/7557789688.jpg  \n",
            "  inflating: /content/llms-for-image-geolocation-benchmarks/yfcc4k/yfcc4k/yfcc4k/7557876386.jpg  \n",
            "  inflating: /content/llms-for-image-geolocation-benchmarks/yfcc4k/yfcc4k/yfcc4k/7560984302.jpg  \n",
            "  inflating: /content/llms-for-image-geolocation-benchmarks/yfcc4k/yfcc4k/yfcc4k/756337163.jpg  \n",
            "  inflating: /content/llms-for-image-geolocation-benchmarks/yfcc4k/yfcc4k/yfcc4k/7565996306.jpg  \n",
            "  inflating: /content/llms-for-image-geolocation-benchmarks/yfcc4k/yfcc4k/yfcc4k/7569011604.jpg  \n",
            "  inflating: /content/llms-for-image-geolocation-benchmarks/yfcc4k/yfcc4k/yfcc4k/7570415532.jpg  \n",
            "  inflating: /content/llms-for-image-geolocation-benchmarks/yfcc4k/yfcc4k/yfcc4k/7570447234.jpg  \n",
            "  inflating: /content/llms-for-image-geolocation-benchmarks/yfcc4k/yfcc4k/yfcc4k/7570898944.jpg  \n",
            "  inflating: /content/llms-for-image-geolocation-benchmarks/yfcc4k/yfcc4k/yfcc4k/7571120338.jpg  \n",
            "  inflating: /content/llms-for-image-geolocation-benchmarks/yfcc4k/yfcc4k/yfcc4k/7571328980.jpg  \n",
            "  inflating: /content/llms-for-image-geolocation-benchmarks/yfcc4k/yfcc4k/yfcc4k/7572509280.jpg  \n",
            "  inflating: /content/llms-for-image-geolocation-benchmarks/yfcc4k/yfcc4k/yfcc4k/7572872378.jpg  \n",
            "  inflating: /content/llms-for-image-geolocation-benchmarks/yfcc4k/yfcc4k/yfcc4k/7574296646.jpg  \n",
            "  inflating: /content/llms-for-image-geolocation-benchmarks/yfcc4k/yfcc4k/yfcc4k/7577476812.jpg  \n",
            "  inflating: /content/llms-for-image-geolocation-benchmarks/yfcc4k/yfcc4k/yfcc4k/7578934684.jpg  \n",
            "  inflating: /content/llms-for-image-geolocation-benchmarks/yfcc4k/yfcc4k/yfcc4k/7582317846.jpg  \n",
            "  inflating: /content/llms-for-image-geolocation-benchmarks/yfcc4k/yfcc4k/yfcc4k/7582604852.jpg  \n",
            "  inflating: /content/llms-for-image-geolocation-benchmarks/yfcc4k/yfcc4k/yfcc4k/7592340524.jpg  \n",
            "  inflating: /content/llms-for-image-geolocation-benchmarks/yfcc4k/yfcc4k/yfcc4k/7600129598.jpg  \n",
            "  inflating: /content/llms-for-image-geolocation-benchmarks/yfcc4k/yfcc4k/yfcc4k/7600198540.jpg  \n",
            "  inflating: /content/llms-for-image-geolocation-benchmarks/yfcc4k/yfcc4k/yfcc4k/7605342540.jpg  \n",
            "  inflating: /content/llms-for-image-geolocation-benchmarks/yfcc4k/yfcc4k/yfcc4k/7609151110.jpg  \n",
            "  inflating: /content/llms-for-image-geolocation-benchmarks/yfcc4k/yfcc4k/yfcc4k/7614474326.jpg  \n",
            "  inflating: /content/llms-for-image-geolocation-benchmarks/yfcc4k/yfcc4k/yfcc4k/7615829634.jpg  \n",
            "  inflating: /content/llms-for-image-geolocation-benchmarks/yfcc4k/yfcc4k/yfcc4k/7615839108.jpg  \n",
            "  inflating: /content/llms-for-image-geolocation-benchmarks/yfcc4k/yfcc4k/yfcc4k/7616541086.jpg  \n",
            "  inflating: /content/llms-for-image-geolocation-benchmarks/yfcc4k/yfcc4k/yfcc4k/7618751562.jpg  \n",
            "  inflating: /content/llms-for-image-geolocation-benchmarks/yfcc4k/yfcc4k/yfcc4k/7620118012.jpg  \n",
            "  inflating: /content/llms-for-image-geolocation-benchmarks/yfcc4k/yfcc4k/yfcc4k/7624514554.jpg  \n",
            "  inflating: /content/llms-for-image-geolocation-benchmarks/yfcc4k/yfcc4k/yfcc4k/7624774648.jpg  \n",
            "  inflating: /content/llms-for-image-geolocation-benchmarks/yfcc4k/yfcc4k/yfcc4k/7630217260.jpg  \n",
            "  inflating: /content/llms-for-image-geolocation-benchmarks/yfcc4k/yfcc4k/yfcc4k/7637677184.jpg  \n",
            "  inflating: /content/llms-for-image-geolocation-benchmarks/yfcc4k/yfcc4k/yfcc4k/7639426112.jpg  \n",
            "  inflating: /content/llms-for-image-geolocation-benchmarks/yfcc4k/yfcc4k/yfcc4k/7641749888.jpg  \n",
            "  inflating: /content/llms-for-image-geolocation-benchmarks/yfcc4k/yfcc4k/yfcc4k/7653104072.jpg  \n",
            "  inflating: /content/llms-for-image-geolocation-benchmarks/yfcc4k/yfcc4k/yfcc4k/7656323252.jpg  \n",
            "  inflating: /content/llms-for-image-geolocation-benchmarks/yfcc4k/yfcc4k/yfcc4k/7658898714.jpg  \n",
            "  inflating: /content/llms-for-image-geolocation-benchmarks/yfcc4k/yfcc4k/yfcc4k/7665207914.jpg  \n",
            "  inflating: /content/llms-for-image-geolocation-benchmarks/yfcc4k/yfcc4k/yfcc4k/7668486392.jpg  \n",
            "  inflating: /content/llms-for-image-geolocation-benchmarks/yfcc4k/yfcc4k/yfcc4k/7671390964.jpg  \n",
            "  inflating: /content/llms-for-image-geolocation-benchmarks/yfcc4k/yfcc4k/yfcc4k/7674662184.jpg  \n",
            "  inflating: /content/llms-for-image-geolocation-benchmarks/yfcc4k/yfcc4k/yfcc4k/7680154132.jpg  \n",
            "  inflating: /content/llms-for-image-geolocation-benchmarks/yfcc4k/yfcc4k/yfcc4k/7680820176.jpg  \n",
            "  inflating: /content/llms-for-image-geolocation-benchmarks/yfcc4k/yfcc4k/yfcc4k/7684836702.jpg  \n",
            "  inflating: /content/llms-for-image-geolocation-benchmarks/yfcc4k/yfcc4k/yfcc4k/7698543610.jpg  \n",
            "  inflating: /content/llms-for-image-geolocation-benchmarks/yfcc4k/yfcc4k/yfcc4k/7699500192.jpg  \n",
            "  inflating: /content/llms-for-image-geolocation-benchmarks/yfcc4k/yfcc4k/yfcc4k/7701641746.jpg  \n",
            "  inflating: /content/llms-for-image-geolocation-benchmarks/yfcc4k/yfcc4k/yfcc4k/7701958264.jpg  \n",
            "  inflating: /content/llms-for-image-geolocation-benchmarks/yfcc4k/yfcc4k/yfcc4k/7704830106.jpg  \n",
            "  inflating: /content/llms-for-image-geolocation-benchmarks/yfcc4k/yfcc4k/yfcc4k/7707203616.jpg  \n",
            "  inflating: /content/llms-for-image-geolocation-benchmarks/yfcc4k/yfcc4k/yfcc4k/77074506.jpg  \n",
            "  inflating: /content/llms-for-image-geolocation-benchmarks/yfcc4k/yfcc4k/yfcc4k/7709307778.jpg  \n",
            "  inflating: /content/llms-for-image-geolocation-benchmarks/yfcc4k/yfcc4k/yfcc4k/7713765976.jpg  \n",
            "  inflating: /content/llms-for-image-geolocation-benchmarks/yfcc4k/yfcc4k/yfcc4k/7714238460.jpg  \n",
            "  inflating: /content/llms-for-image-geolocation-benchmarks/yfcc4k/yfcc4k/yfcc4k/7715035958.jpg  \n",
            "  inflating: /content/llms-for-image-geolocation-benchmarks/yfcc4k/yfcc4k/yfcc4k/7716416220.jpg  \n",
            "  inflating: /content/llms-for-image-geolocation-benchmarks/yfcc4k/yfcc4k/yfcc4k/7720943956.jpg  \n",
            "  inflating: /content/llms-for-image-geolocation-benchmarks/yfcc4k/yfcc4k/yfcc4k/7721578134.jpg  \n",
            "  inflating: /content/llms-for-image-geolocation-benchmarks/yfcc4k/yfcc4k/yfcc4k/7725940168.jpg  \n",
            "  inflating: /content/llms-for-image-geolocation-benchmarks/yfcc4k/yfcc4k/yfcc4k/7727120100.jpg  \n",
            "  inflating: /content/llms-for-image-geolocation-benchmarks/yfcc4k/yfcc4k/yfcc4k/7730622570.jpg  \n",
            "  inflating: /content/llms-for-image-geolocation-benchmarks/yfcc4k/yfcc4k/yfcc4k/7743614652.jpg  \n",
            "  inflating: /content/llms-for-image-geolocation-benchmarks/yfcc4k/yfcc4k/yfcc4k/7746284210.jpg  \n",
            "  inflating: /content/llms-for-image-geolocation-benchmarks/yfcc4k/yfcc4k/yfcc4k/7752218862.jpg  \n",
            "  inflating: /content/llms-for-image-geolocation-benchmarks/yfcc4k/yfcc4k/yfcc4k/7752875494.jpg  \n",
            "  inflating: /content/llms-for-image-geolocation-benchmarks/yfcc4k/yfcc4k/yfcc4k/7753237552.jpg  \n",
            "  inflating: /content/llms-for-image-geolocation-benchmarks/yfcc4k/yfcc4k/yfcc4k/7754718074.jpg  \n",
            "  inflating: /content/llms-for-image-geolocation-benchmarks/yfcc4k/yfcc4k/yfcc4k/7756247770.jpg  \n",
            "  inflating: /content/llms-for-image-geolocation-benchmarks/yfcc4k/yfcc4k/yfcc4k/7759313616.jpg  \n",
            "  inflating: /content/llms-for-image-geolocation-benchmarks/yfcc4k/yfcc4k/yfcc4k/7759523660.jpg  \n",
            "  inflating: /content/llms-for-image-geolocation-benchmarks/yfcc4k/yfcc4k/yfcc4k/7766129674.jpg  \n",
            "  inflating: /content/llms-for-image-geolocation-benchmarks/yfcc4k/yfcc4k/yfcc4k/7769010326.jpg  \n",
            "  inflating: /content/llms-for-image-geolocation-benchmarks/yfcc4k/yfcc4k/yfcc4k/7769217272.jpg  \n",
            "  inflating: /content/llms-for-image-geolocation-benchmarks/yfcc4k/yfcc4k/yfcc4k/7769850426.jpg  \n",
            "  inflating: /content/llms-for-image-geolocation-benchmarks/yfcc4k/yfcc4k/yfcc4k/7770624196.jpg  \n",
            "  inflating: /content/llms-for-image-geolocation-benchmarks/yfcc4k/yfcc4k/yfcc4k/7772681972.jpg  \n",
            "  inflating: /content/llms-for-image-geolocation-benchmarks/yfcc4k/yfcc4k/yfcc4k/7773020188.jpg  \n",
            "  inflating: /content/llms-for-image-geolocation-benchmarks/yfcc4k/yfcc4k/yfcc4k/7776127582.jpg  \n",
            "  inflating: /content/llms-for-image-geolocation-benchmarks/yfcc4k/yfcc4k/yfcc4k/7780239896.jpg  \n",
            "  inflating: /content/llms-for-image-geolocation-benchmarks/yfcc4k/yfcc4k/yfcc4k/7783425404.jpg  \n",
            "  inflating: /content/llms-for-image-geolocation-benchmarks/yfcc4k/yfcc4k/yfcc4k/7793425828.jpg  \n",
            "  inflating: /content/llms-for-image-geolocation-benchmarks/yfcc4k/yfcc4k/yfcc4k/7797471680.jpg  \n",
            "  inflating: /content/llms-for-image-geolocation-benchmarks/yfcc4k/yfcc4k/yfcc4k/7799153298.jpg  \n",
            "  inflating: /content/llms-for-image-geolocation-benchmarks/yfcc4k/yfcc4k/yfcc4k/7801177098.jpg  \n",
            "  inflating: /content/llms-for-image-geolocation-benchmarks/yfcc4k/yfcc4k/yfcc4k/7805554696.jpg  \n",
            "  inflating: /content/llms-for-image-geolocation-benchmarks/yfcc4k/yfcc4k/yfcc4k/7805715032.jpg  \n",
            "  inflating: /content/llms-for-image-geolocation-benchmarks/yfcc4k/yfcc4k/yfcc4k/7808421746.jpg  \n",
            "  inflating: /content/llms-for-image-geolocation-benchmarks/yfcc4k/yfcc4k/yfcc4k/7814805174.jpg  \n",
            "  inflating: /content/llms-for-image-geolocation-benchmarks/yfcc4k/yfcc4k/yfcc4k/7818731496.jpg  \n",
            "  inflating: /content/llms-for-image-geolocation-benchmarks/yfcc4k/yfcc4k/yfcc4k/7820211180.jpg  \n",
            "  inflating: /content/llms-for-image-geolocation-benchmarks/yfcc4k/yfcc4k/yfcc4k/7821060344.jpg  \n",
            "  inflating: /content/llms-for-image-geolocation-benchmarks/yfcc4k/yfcc4k/yfcc4k/7822253820.jpg  \n",
            "  inflating: /content/llms-for-image-geolocation-benchmarks/yfcc4k/yfcc4k/yfcc4k/7827843166.jpg  \n",
            "  inflating: /content/llms-for-image-geolocation-benchmarks/yfcc4k/yfcc4k/yfcc4k/7832592112.jpg  \n",
            "  inflating: /content/llms-for-image-geolocation-benchmarks/yfcc4k/yfcc4k/yfcc4k/7837223214.jpg  \n",
            "  inflating: /content/llms-for-image-geolocation-benchmarks/yfcc4k/yfcc4k/yfcc4k/7837590194.jpg  \n",
            "  inflating: /content/llms-for-image-geolocation-benchmarks/yfcc4k/yfcc4k/yfcc4k/7837913980.jpg  \n",
            "  inflating: /content/llms-for-image-geolocation-benchmarks/yfcc4k/yfcc4k/yfcc4k/7839576940.jpg  \n",
            "  inflating: /content/llms-for-image-geolocation-benchmarks/yfcc4k/yfcc4k/yfcc4k/7842823934.jpg  \n",
            "  inflating: /content/llms-for-image-geolocation-benchmarks/yfcc4k/yfcc4k/yfcc4k/7845747918.jpg  \n",
            "  inflating: /content/llms-for-image-geolocation-benchmarks/yfcc4k/yfcc4k/yfcc4k/7852110504.jpg  \n",
            "  inflating: /content/llms-for-image-geolocation-benchmarks/yfcc4k/yfcc4k/yfcc4k/7853463862.jpg  \n",
            "  inflating: /content/llms-for-image-geolocation-benchmarks/yfcc4k/yfcc4k/yfcc4k/7853853612.jpg  \n",
            "  inflating: /content/llms-for-image-geolocation-benchmarks/yfcc4k/yfcc4k/yfcc4k/7854360534.jpg  \n",
            "  inflating: /content/llms-for-image-geolocation-benchmarks/yfcc4k/yfcc4k/yfcc4k/7859308902.jpg  \n",
            "  inflating: /content/llms-for-image-geolocation-benchmarks/yfcc4k/yfcc4k/yfcc4k/7863297796.jpg  \n",
            "  inflating: /content/llms-for-image-geolocation-benchmarks/yfcc4k/yfcc4k/yfcc4k/7865251230.jpg  \n",
            "  inflating: /content/llms-for-image-geolocation-benchmarks/yfcc4k/yfcc4k/yfcc4k/7866323938.jpg  \n",
            "  inflating: /content/llms-for-image-geolocation-benchmarks/yfcc4k/yfcc4k/yfcc4k/78704977.jpg  \n",
            "  inflating: /content/llms-for-image-geolocation-benchmarks/yfcc4k/yfcc4k/yfcc4k/7874528548.jpg  \n",
            "  inflating: /content/llms-for-image-geolocation-benchmarks/yfcc4k/yfcc4k/yfcc4k/7879388060.jpg  \n",
            "  inflating: /content/llms-for-image-geolocation-benchmarks/yfcc4k/yfcc4k/yfcc4k/7885938974.jpg  \n",
            "  inflating: /content/llms-for-image-geolocation-benchmarks/yfcc4k/yfcc4k/yfcc4k/7887236728.jpg  \n",
            "  inflating: /content/llms-for-image-geolocation-benchmarks/yfcc4k/yfcc4k/yfcc4k/7897639618.jpg  \n",
            "  inflating: /content/llms-for-image-geolocation-benchmarks/yfcc4k/yfcc4k/yfcc4k/7903800798.jpg  \n",
            "  inflating: /content/llms-for-image-geolocation-benchmarks/yfcc4k/yfcc4k/yfcc4k/7913723546.jpg  \n",
            "  inflating: /content/llms-for-image-geolocation-benchmarks/yfcc4k/yfcc4k/yfcc4k/7917055232.jpg  \n",
            "  inflating: /content/llms-for-image-geolocation-benchmarks/yfcc4k/yfcc4k/yfcc4k/7925056016.jpg  \n",
            "  inflating: /content/llms-for-image-geolocation-benchmarks/yfcc4k/yfcc4k/yfcc4k/7927019126.jpg  \n",
            "  inflating: /content/llms-for-image-geolocation-benchmarks/yfcc4k/yfcc4k/yfcc4k/7928999592.jpg  \n",
            "  inflating: /content/llms-for-image-geolocation-benchmarks/yfcc4k/yfcc4k/yfcc4k/7930159888.jpg  \n",
            "  inflating: /content/llms-for-image-geolocation-benchmarks/yfcc4k/yfcc4k/yfcc4k/793549635.jpg  \n",
            "  inflating: /content/llms-for-image-geolocation-benchmarks/yfcc4k/yfcc4k/yfcc4k/7938977430.jpg  \n",
            "  inflating: /content/llms-for-image-geolocation-benchmarks/yfcc4k/yfcc4k/yfcc4k/7939656040.jpg  \n",
            "  inflating: /content/llms-for-image-geolocation-benchmarks/yfcc4k/yfcc4k/yfcc4k/7940977694.jpg  \n",
            "  inflating: /content/llms-for-image-geolocation-benchmarks/yfcc4k/yfcc4k/yfcc4k/7941867022.jpg  \n",
            "  inflating: /content/llms-for-image-geolocation-benchmarks/yfcc4k/yfcc4k/yfcc4k/7944952188.jpg  \n",
            "  inflating: /content/llms-for-image-geolocation-benchmarks/yfcc4k/yfcc4k/yfcc4k/7945788458.jpg  \n",
            "  inflating: /content/llms-for-image-geolocation-benchmarks/yfcc4k/yfcc4k/yfcc4k/7948787006.jpg  \n",
            "  inflating: /content/llms-for-image-geolocation-benchmarks/yfcc4k/yfcc4k/yfcc4k/7948857510.jpg  \n",
            "  inflating: /content/llms-for-image-geolocation-benchmarks/yfcc4k/yfcc4k/yfcc4k/7956051944.jpg  \n",
            "  inflating: /content/llms-for-image-geolocation-benchmarks/yfcc4k/yfcc4k/yfcc4k/796126334.jpg  \n",
            "  inflating: /content/llms-for-image-geolocation-benchmarks/yfcc4k/yfcc4k/yfcc4k/7961719846.jpg  \n",
            "  inflating: /content/llms-for-image-geolocation-benchmarks/yfcc4k/yfcc4k/yfcc4k/7962565236.jpg  \n",
            "  inflating: /content/llms-for-image-geolocation-benchmarks/yfcc4k/yfcc4k/yfcc4k/7962973752.jpg  \n",
            "  inflating: /content/llms-for-image-geolocation-benchmarks/yfcc4k/yfcc4k/yfcc4k/7966432062.jpg  \n",
            "  inflating: /content/llms-for-image-geolocation-benchmarks/yfcc4k/yfcc4k/yfcc4k/7973088474.jpg  \n",
            "  inflating: /content/llms-for-image-geolocation-benchmarks/yfcc4k/yfcc4k/yfcc4k/7973957950.jpg  \n",
            "  inflating: /content/llms-for-image-geolocation-benchmarks/yfcc4k/yfcc4k/yfcc4k/7976774673.jpg  \n",
            "  inflating: /content/llms-for-image-geolocation-benchmarks/yfcc4k/yfcc4k/yfcc4k/7977417972.jpg  \n",
            "  inflating: /content/llms-for-image-geolocation-benchmarks/yfcc4k/yfcc4k/yfcc4k/7978637759.jpg  \n",
            "  inflating: /content/llms-for-image-geolocation-benchmarks/yfcc4k/yfcc4k/yfcc4k/7978703060.jpg  \n",
            "  inflating: /content/llms-for-image-geolocation-benchmarks/yfcc4k/yfcc4k/yfcc4k/7979113775.jpg  \n",
            "  inflating: /content/llms-for-image-geolocation-benchmarks/yfcc4k/yfcc4k/yfcc4k/7981362691.jpg  \n",
            "  inflating: /content/llms-for-image-geolocation-benchmarks/yfcc4k/yfcc4k/yfcc4k/7981549110.jpg  \n",
            "  inflating: /content/llms-for-image-geolocation-benchmarks/yfcc4k/yfcc4k/yfcc4k/7983462902.jpg  \n",
            "  inflating: /content/llms-for-image-geolocation-benchmarks/yfcc4k/yfcc4k/yfcc4k/7984375482.jpg  \n",
            "  inflating: /content/llms-for-image-geolocation-benchmarks/yfcc4k/yfcc4k/yfcc4k/7985086892.jpg  \n",
            "  inflating: /content/llms-for-image-geolocation-benchmarks/yfcc4k/yfcc4k/yfcc4k/7986597145.jpg  \n",
            "  inflating: /content/llms-for-image-geolocation-benchmarks/yfcc4k/yfcc4k/yfcc4k/7989541496.jpg  \n",
            "  inflating: /content/llms-for-image-geolocation-benchmarks/yfcc4k/yfcc4k/yfcc4k/7991249011.jpg  \n",
            "  inflating: /content/llms-for-image-geolocation-benchmarks/yfcc4k/yfcc4k/yfcc4k/7992538786.jpg  \n",
            "  inflating: /content/llms-for-image-geolocation-benchmarks/yfcc4k/yfcc4k/yfcc4k/7993753837.jpg  \n",
            "  inflating: /content/llms-for-image-geolocation-benchmarks/yfcc4k/yfcc4k/yfcc4k/7994520914.jpg  \n",
            "  inflating: /content/llms-for-image-geolocation-benchmarks/yfcc4k/yfcc4k/yfcc4k/7995114402.jpg  \n",
            "  inflating: /content/llms-for-image-geolocation-benchmarks/yfcc4k/yfcc4k/yfcc4k/7995581984.jpg  \n",
            "  inflating: /content/llms-for-image-geolocation-benchmarks/yfcc4k/yfcc4k/yfcc4k/7995633872.jpg  \n",
            "  inflating: /content/llms-for-image-geolocation-benchmarks/yfcc4k/yfcc4k/yfcc4k/7996587161.jpg  \n",
            "  inflating: /content/llms-for-image-geolocation-benchmarks/yfcc4k/yfcc4k/yfcc4k/7997344380.jpg  \n",
            "  inflating: /content/llms-for-image-geolocation-benchmarks/yfcc4k/yfcc4k/yfcc4k/7997763844.jpg  \n",
            "  inflating: /content/llms-for-image-geolocation-benchmarks/yfcc4k/yfcc4k/yfcc4k/7998117524.jpg  \n",
            "  inflating: /content/llms-for-image-geolocation-benchmarks/yfcc4k/yfcc4k/yfcc4k/7999854019.jpg  \n",
            "  inflating: /content/llms-for-image-geolocation-benchmarks/yfcc4k/yfcc4k/yfcc4k/8001619758.jpg  \n",
            "  inflating: /content/llms-for-image-geolocation-benchmarks/yfcc4k/yfcc4k/yfcc4k/8005547203.jpg  \n",
            "  inflating: /content/llms-for-image-geolocation-benchmarks/yfcc4k/yfcc4k/yfcc4k/8008529155.jpg  \n",
            "  inflating: /content/llms-for-image-geolocation-benchmarks/yfcc4k/yfcc4k/yfcc4k/8015373904.jpg  \n",
            "  inflating: /content/llms-for-image-geolocation-benchmarks/yfcc4k/yfcc4k/yfcc4k/8015434057.jpg  \n",
            "  inflating: /content/llms-for-image-geolocation-benchmarks/yfcc4k/yfcc4k/yfcc4k/8015559895.jpg  \n",
            "  inflating: /content/llms-for-image-geolocation-benchmarks/yfcc4k/yfcc4k/yfcc4k/8016694085.jpg  \n",
            "  inflating: /content/llms-for-image-geolocation-benchmarks/yfcc4k/yfcc4k/yfcc4k/8018607438.jpg  \n",
            "  inflating: /content/llms-for-image-geolocation-benchmarks/yfcc4k/yfcc4k/yfcc4k/8019307098.jpg  \n",
            "  inflating: /content/llms-for-image-geolocation-benchmarks/yfcc4k/yfcc4k/yfcc4k/8020911025.jpg  \n",
            "  inflating: /content/llms-for-image-geolocation-benchmarks/yfcc4k/yfcc4k/yfcc4k/8022689153.jpg  \n",
            "  inflating: /content/llms-for-image-geolocation-benchmarks/yfcc4k/yfcc4k/yfcc4k/8023160217.jpg  \n",
            "  inflating: /content/llms-for-image-geolocation-benchmarks/yfcc4k/yfcc4k/yfcc4k/8023440093.jpg  \n",
            "  inflating: /content/llms-for-image-geolocation-benchmarks/yfcc4k/yfcc4k/yfcc4k/8029565493.jpg  \n",
            "  inflating: /content/llms-for-image-geolocation-benchmarks/yfcc4k/yfcc4k/yfcc4k/8038100860.jpg  \n",
            "  inflating: /content/llms-for-image-geolocation-benchmarks/yfcc4k/yfcc4k/yfcc4k/8038349811.jpg  \n",
            "  inflating: /content/llms-for-image-geolocation-benchmarks/yfcc4k/yfcc4k/yfcc4k/8040367837.jpg  \n",
            "  inflating: /content/llms-for-image-geolocation-benchmarks/yfcc4k/yfcc4k/yfcc4k/8040575053.jpg  \n",
            "  inflating: /content/llms-for-image-geolocation-benchmarks/yfcc4k/yfcc4k/yfcc4k/8040917880.jpg  \n",
            "  inflating: /content/llms-for-image-geolocation-benchmarks/yfcc4k/yfcc4k/yfcc4k/8041587809.jpg  \n",
            "  inflating: /content/llms-for-image-geolocation-benchmarks/yfcc4k/yfcc4k/yfcc4k/8042343438.jpg  \n",
            "  inflating: /content/llms-for-image-geolocation-benchmarks/yfcc4k/yfcc4k/yfcc4k/8043214943.jpg  \n",
            "  inflating: /content/llms-for-image-geolocation-benchmarks/yfcc4k/yfcc4k/yfcc4k/8045982788.jpg  \n",
            "  inflating: /content/llms-for-image-geolocation-benchmarks/yfcc4k/yfcc4k/yfcc4k/8052380396.jpg  \n",
            "  inflating: /content/llms-for-image-geolocation-benchmarks/yfcc4k/yfcc4k/yfcc4k/8056628847.jpg  \n",
            "  inflating: /content/llms-for-image-geolocation-benchmarks/yfcc4k/yfcc4k/yfcc4k/8058095593.jpg  \n",
            "  inflating: /content/llms-for-image-geolocation-benchmarks/yfcc4k/yfcc4k/yfcc4k/8060395750.jpg  \n",
            "  inflating: /content/llms-for-image-geolocation-benchmarks/yfcc4k/yfcc4k/yfcc4k/8060735888.jpg  \n",
            "  inflating: /content/llms-for-image-geolocation-benchmarks/yfcc4k/yfcc4k/yfcc4k/8062071325.jpg  \n",
            "  inflating: /content/llms-for-image-geolocation-benchmarks/yfcc4k/yfcc4k/yfcc4k/8062767460.jpg  \n",
            "  inflating: /content/llms-for-image-geolocation-benchmarks/yfcc4k/yfcc4k/yfcc4k/8063230602.jpg  \n",
            "  inflating: /content/llms-for-image-geolocation-benchmarks/yfcc4k/yfcc4k/yfcc4k/8063920174.jpg  \n",
            "  inflating: /content/llms-for-image-geolocation-benchmarks/yfcc4k/yfcc4k/yfcc4k/8068765400.jpg  \n",
            "  inflating: /content/llms-for-image-geolocation-benchmarks/yfcc4k/yfcc4k/yfcc4k/8070925503.jpg  \n",
            "  inflating: /content/llms-for-image-geolocation-benchmarks/yfcc4k/yfcc4k/yfcc4k/8071170869.jpg  \n",
            "  inflating: /content/llms-for-image-geolocation-benchmarks/yfcc4k/yfcc4k/yfcc4k/8073599501.jpg  \n",
            "  inflating: /content/llms-for-image-geolocation-benchmarks/yfcc4k/yfcc4k/yfcc4k/8073622102.jpg  \n",
            "  inflating: /content/llms-for-image-geolocation-benchmarks/yfcc4k/yfcc4k/yfcc4k/8074800372.jpg  \n",
            "  inflating: /content/llms-for-image-geolocation-benchmarks/yfcc4k/yfcc4k/yfcc4k/8081025619.jpg  \n",
            "  inflating: /content/llms-for-image-geolocation-benchmarks/yfcc4k/yfcc4k/yfcc4k/8082809184.jpg  \n",
            "  inflating: /content/llms-for-image-geolocation-benchmarks/yfcc4k/yfcc4k/yfcc4k/8084276410.jpg  \n",
            "  inflating: /content/llms-for-image-geolocation-benchmarks/yfcc4k/yfcc4k/yfcc4k/8084746906.jpg  \n",
            "  inflating: /content/llms-for-image-geolocation-benchmarks/yfcc4k/yfcc4k/yfcc4k/8085887834.jpg  \n",
            "  inflating: /content/llms-for-image-geolocation-benchmarks/yfcc4k/yfcc4k/yfcc4k/8086429228.jpg  \n",
            "  inflating: /content/llms-for-image-geolocation-benchmarks/yfcc4k/yfcc4k/yfcc4k/8086749050.jpg  \n",
            "  inflating: /content/llms-for-image-geolocation-benchmarks/yfcc4k/yfcc4k/yfcc4k/8087511155.jpg  \n",
            "  inflating: /content/llms-for-image-geolocation-benchmarks/yfcc4k/yfcc4k/yfcc4k/8090671837.jpg  \n",
            "  inflating: /content/llms-for-image-geolocation-benchmarks/yfcc4k/yfcc4k/yfcc4k/8091098404.jpg  \n",
            "  inflating: /content/llms-for-image-geolocation-benchmarks/yfcc4k/yfcc4k/yfcc4k/8091306276.jpg  \n",
            "  inflating: /content/llms-for-image-geolocation-benchmarks/yfcc4k/yfcc4k/yfcc4k/8091919028.jpg  \n",
            "  inflating: /content/llms-for-image-geolocation-benchmarks/yfcc4k/yfcc4k/yfcc4k/8091989921.jpg  \n",
            "  inflating: /content/llms-for-image-geolocation-benchmarks/yfcc4k/yfcc4k/yfcc4k/8092550004.jpg  \n",
            "  inflating: /content/llms-for-image-geolocation-benchmarks/yfcc4k/yfcc4k/yfcc4k/8095934402.jpg  \n",
            "  inflating: /content/llms-for-image-geolocation-benchmarks/yfcc4k/yfcc4k/yfcc4k/8097153888.jpg  \n",
            "  inflating: /content/llms-for-image-geolocation-benchmarks/yfcc4k/yfcc4k/yfcc4k/8097642483.jpg  \n",
            "  inflating: /content/llms-for-image-geolocation-benchmarks/yfcc4k/yfcc4k/yfcc4k/8097908201.jpg  \n",
            "  inflating: /content/llms-for-image-geolocation-benchmarks/yfcc4k/yfcc4k/yfcc4k/8099266343.jpg  \n",
            "  inflating: /content/llms-for-image-geolocation-benchmarks/yfcc4k/yfcc4k/yfcc4k/8100527460.jpg  \n",
            "  inflating: /content/llms-for-image-geolocation-benchmarks/yfcc4k/yfcc4k/yfcc4k/8101071226.jpg  \n",
            "  inflating: /content/llms-for-image-geolocation-benchmarks/yfcc4k/yfcc4k/yfcc4k/8101730351.jpg  \n",
            "  inflating: /content/llms-for-image-geolocation-benchmarks/yfcc4k/yfcc4k/yfcc4k/8102845547.jpg  \n",
            "  inflating: /content/llms-for-image-geolocation-benchmarks/yfcc4k/yfcc4k/yfcc4k/8102880388.jpg  \n",
            "  inflating: /content/llms-for-image-geolocation-benchmarks/yfcc4k/yfcc4k/yfcc4k/8104934257.jpg  \n",
            "  inflating: /content/llms-for-image-geolocation-benchmarks/yfcc4k/yfcc4k/yfcc4k/8106061946.jpg  \n",
            "  inflating: /content/llms-for-image-geolocation-benchmarks/yfcc4k/yfcc4k/yfcc4k/8106764691.jpg  \n",
            "  inflating: /content/llms-for-image-geolocation-benchmarks/yfcc4k/yfcc4k/yfcc4k/8106973578.jpg  \n",
            "  inflating: /content/llms-for-image-geolocation-benchmarks/yfcc4k/yfcc4k/yfcc4k/8109494808.jpg  \n",
            "  inflating: /content/llms-for-image-geolocation-benchmarks/yfcc4k/yfcc4k/yfcc4k/811079806.jpg  \n",
            "  inflating: /content/llms-for-image-geolocation-benchmarks/yfcc4k/yfcc4k/yfcc4k/8111267893.jpg  \n",
            "  inflating: /content/llms-for-image-geolocation-benchmarks/yfcc4k/yfcc4k/yfcc4k/8111658934.jpg  \n",
            "  inflating: /content/llms-for-image-geolocation-benchmarks/yfcc4k/yfcc4k/yfcc4k/8113639184.jpg  \n",
            "  inflating: /content/llms-for-image-geolocation-benchmarks/yfcc4k/yfcc4k/yfcc4k/8114393264.jpg  \n",
            "  inflating: /content/llms-for-image-geolocation-benchmarks/yfcc4k/yfcc4k/yfcc4k/8118655073.jpg  \n",
            "  inflating: /content/llms-for-image-geolocation-benchmarks/yfcc4k/yfcc4k/yfcc4k/8121254730.jpg  \n",
            "  inflating: /content/llms-for-image-geolocation-benchmarks/yfcc4k/yfcc4k/yfcc4k/8123140597.jpg  \n",
            "  inflating: /content/llms-for-image-geolocation-benchmarks/yfcc4k/yfcc4k/yfcc4k/8123196599.jpg  \n",
            "  inflating: /content/llms-for-image-geolocation-benchmarks/yfcc4k/yfcc4k/yfcc4k/81243447.jpg  \n",
            "  inflating: /content/llms-for-image-geolocation-benchmarks/yfcc4k/yfcc4k/yfcc4k/8125666403.jpg  \n",
            "  inflating: /content/llms-for-image-geolocation-benchmarks/yfcc4k/yfcc4k/yfcc4k/8127893327.jpg  \n",
            "  inflating: /content/llms-for-image-geolocation-benchmarks/yfcc4k/yfcc4k/yfcc4k/8127936077.jpg  \n",
            "  inflating: /content/llms-for-image-geolocation-benchmarks/yfcc4k/yfcc4k/yfcc4k/8128120462.jpg  \n",
            "  inflating: /content/llms-for-image-geolocation-benchmarks/yfcc4k/yfcc4k/yfcc4k/8128364650.jpg  \n",
            "  inflating: /content/llms-for-image-geolocation-benchmarks/yfcc4k/yfcc4k/yfcc4k/8130048067.jpg  \n",
            "  inflating: /content/llms-for-image-geolocation-benchmarks/yfcc4k/yfcc4k/yfcc4k/8130460527.jpg  \n",
            "  inflating: /content/llms-for-image-geolocation-benchmarks/yfcc4k/yfcc4k/yfcc4k/8130535631.jpg  \n",
            "  inflating: /content/llms-for-image-geolocation-benchmarks/yfcc4k/yfcc4k/yfcc4k/8130871474.jpg  \n",
            "  inflating: /content/llms-for-image-geolocation-benchmarks/yfcc4k/yfcc4k/yfcc4k/8132764680.jpg  \n",
            "  inflating: /content/llms-for-image-geolocation-benchmarks/yfcc4k/yfcc4k/yfcc4k/8133427933.jpg  \n",
            "  inflating: /content/llms-for-image-geolocation-benchmarks/yfcc4k/yfcc4k/yfcc4k/8134320161.jpg  \n",
            "  inflating: /content/llms-for-image-geolocation-benchmarks/yfcc4k/yfcc4k/yfcc4k/8134391103.jpg  \n",
            "  inflating: /content/llms-for-image-geolocation-benchmarks/yfcc4k/yfcc4k/yfcc4k/8139680651.jpg  \n",
            "  inflating: /content/llms-for-image-geolocation-benchmarks/yfcc4k/yfcc4k/yfcc4k/8142948806.jpg  \n",
            "  inflating: /content/llms-for-image-geolocation-benchmarks/yfcc4k/yfcc4k/yfcc4k/8144989721.jpg  \n",
            "  inflating: /content/llms-for-image-geolocation-benchmarks/yfcc4k/yfcc4k/yfcc4k/8148450196.jpg  \n",
            "  inflating: /content/llms-for-image-geolocation-benchmarks/yfcc4k/yfcc4k/yfcc4k/8149703474.jpg  \n",
            "  inflating: /content/llms-for-image-geolocation-benchmarks/yfcc4k/yfcc4k/yfcc4k/8153400379.jpg  \n",
            "  inflating: /content/llms-for-image-geolocation-benchmarks/yfcc4k/yfcc4k/yfcc4k/8161077669.jpg  \n",
            "  inflating: /content/llms-for-image-geolocation-benchmarks/yfcc4k/yfcc4k/yfcc4k/8161081550.jpg  \n",
            "  inflating: /content/llms-for-image-geolocation-benchmarks/yfcc4k/yfcc4k/yfcc4k/8164264809.jpg  \n",
            "  inflating: /content/llms-for-image-geolocation-benchmarks/yfcc4k/yfcc4k/yfcc4k/8167779635.jpg  \n",
            "  inflating: /content/llms-for-image-geolocation-benchmarks/yfcc4k/yfcc4k/yfcc4k/8170494545.jpg  \n",
            "  inflating: /content/llms-for-image-geolocation-benchmarks/yfcc4k/yfcc4k/yfcc4k/8170775663.jpg  \n",
            "  inflating: /content/llms-for-image-geolocation-benchmarks/yfcc4k/yfcc4k/yfcc4k/8173899086.jpg  \n",
            "  inflating: /content/llms-for-image-geolocation-benchmarks/yfcc4k/yfcc4k/yfcc4k/8174096509.jpg  \n",
            "  inflating: /content/llms-for-image-geolocation-benchmarks/yfcc4k/yfcc4k/yfcc4k/8174704852.jpg  \n",
            "  inflating: /content/llms-for-image-geolocation-benchmarks/yfcc4k/yfcc4k/yfcc4k/8174930098.jpg  \n",
            "  inflating: /content/llms-for-image-geolocation-benchmarks/yfcc4k/yfcc4k/yfcc4k/8175546768.jpg  \n",
            "  inflating: /content/llms-for-image-geolocation-benchmarks/yfcc4k/yfcc4k/yfcc4k/8175802939.jpg  \n",
            "  inflating: /content/llms-for-image-geolocation-benchmarks/yfcc4k/yfcc4k/yfcc4k/8180872913.jpg  \n",
            "  inflating: /content/llms-for-image-geolocation-benchmarks/yfcc4k/yfcc4k/yfcc4k/8181028979.jpg  \n",
            "  inflating: /content/llms-for-image-geolocation-benchmarks/yfcc4k/yfcc4k/yfcc4k/8181423985.jpg  \n",
            "  inflating: /content/llms-for-image-geolocation-benchmarks/yfcc4k/yfcc4k/yfcc4k/8181436061.jpg  \n",
            "  inflating: /content/llms-for-image-geolocation-benchmarks/yfcc4k/yfcc4k/yfcc4k/8181556217.jpg  \n",
            "  inflating: /content/llms-for-image-geolocation-benchmarks/yfcc4k/yfcc4k/yfcc4k/8182412780.jpg  \n",
            "  inflating: /content/llms-for-image-geolocation-benchmarks/yfcc4k/yfcc4k/yfcc4k/8182868735.jpg  \n",
            "  inflating: /content/llms-for-image-geolocation-benchmarks/yfcc4k/yfcc4k/yfcc4k/8186987071.jpg  \n",
            "  inflating: /content/llms-for-image-geolocation-benchmarks/yfcc4k/yfcc4k/yfcc4k/8190381173.jpg  \n",
            "  inflating: /content/llms-for-image-geolocation-benchmarks/yfcc4k/yfcc4k/yfcc4k/8192322308.jpg  \n",
            "  inflating: /content/llms-for-image-geolocation-benchmarks/yfcc4k/yfcc4k/yfcc4k/8195970368.jpg  \n",
            "  inflating: /content/llms-for-image-geolocation-benchmarks/yfcc4k/yfcc4k/yfcc4k/8196446103.jpg  \n",
            "  inflating: /content/llms-for-image-geolocation-benchmarks/yfcc4k/yfcc4k/yfcc4k/8196545190.jpg  \n",
            "  inflating: /content/llms-for-image-geolocation-benchmarks/yfcc4k/yfcc4k/yfcc4k/8197561054.jpg  \n",
            "  inflating: /content/llms-for-image-geolocation-benchmarks/yfcc4k/yfcc4k/yfcc4k/8197676842.jpg  \n",
            "  inflating: /content/llms-for-image-geolocation-benchmarks/yfcc4k/yfcc4k/yfcc4k/8200072670.jpg  \n",
            "  inflating: /content/llms-for-image-geolocation-benchmarks/yfcc4k/yfcc4k/yfcc4k/8200189819.jpg  \n",
            "  inflating: /content/llms-for-image-geolocation-benchmarks/yfcc4k/yfcc4k/yfcc4k/8200505839.jpg  \n",
            "  inflating: /content/llms-for-image-geolocation-benchmarks/yfcc4k/yfcc4k/yfcc4k/8207819388.jpg  \n",
            "  inflating: /content/llms-for-image-geolocation-benchmarks/yfcc4k/yfcc4k/yfcc4k/8208870767.jpg  \n",
            "  inflating: /content/llms-for-image-geolocation-benchmarks/yfcc4k/yfcc4k/yfcc4k/8208932904.jpg  \n",
            "  inflating: /content/llms-for-image-geolocation-benchmarks/yfcc4k/yfcc4k/yfcc4k/8211677677.jpg  \n",
            "  inflating: /content/llms-for-image-geolocation-benchmarks/yfcc4k/yfcc4k/yfcc4k/8212661587.jpg  \n",
            "  inflating: /content/llms-for-image-geolocation-benchmarks/yfcc4k/yfcc4k/yfcc4k/8213448165.jpg  \n",
            "  inflating: /content/llms-for-image-geolocation-benchmarks/yfcc4k/yfcc4k/yfcc4k/8214292767.jpg  \n",
            "  inflating: /content/llms-for-image-geolocation-benchmarks/yfcc4k/yfcc4k/yfcc4k/8215916152.jpg  \n",
            "  inflating: /content/llms-for-image-geolocation-benchmarks/yfcc4k/yfcc4k/yfcc4k/8216412689.jpg  \n",
            "  inflating: /content/llms-for-image-geolocation-benchmarks/yfcc4k/yfcc4k/yfcc4k/8219177052.jpg  \n",
            "  inflating: /content/llms-for-image-geolocation-benchmarks/yfcc4k/yfcc4k/yfcc4k/8222311005.jpg  \n",
            "  inflating: /content/llms-for-image-geolocation-benchmarks/yfcc4k/yfcc4k/yfcc4k/8228418871.jpg  \n",
            "  inflating: /content/llms-for-image-geolocation-benchmarks/yfcc4k/yfcc4k/yfcc4k/8232107945.jpg  \n",
            "  inflating: /content/llms-for-image-geolocation-benchmarks/yfcc4k/yfcc4k/yfcc4k/8232983795.jpg  \n",
            "  inflating: /content/llms-for-image-geolocation-benchmarks/yfcc4k/yfcc4k/yfcc4k/8235589892.jpg  \n",
            "  inflating: /content/llms-for-image-geolocation-benchmarks/yfcc4k/yfcc4k/yfcc4k/8236058714.jpg  \n",
            "  inflating: /content/llms-for-image-geolocation-benchmarks/yfcc4k/yfcc4k/yfcc4k/8236128546.jpg  \n",
            "  inflating: /content/llms-for-image-geolocation-benchmarks/yfcc4k/yfcc4k/yfcc4k/8238693995.jpg  \n",
            "  inflating: /content/llms-for-image-geolocation-benchmarks/yfcc4k/yfcc4k/yfcc4k/823949609.jpg  \n",
            "  inflating: /content/llms-for-image-geolocation-benchmarks/yfcc4k/yfcc4k/yfcc4k/8244624887.jpg  \n",
            "  inflating: /content/llms-for-image-geolocation-benchmarks/yfcc4k/yfcc4k/yfcc4k/8244630730.jpg  \n",
            "  inflating: /content/llms-for-image-geolocation-benchmarks/yfcc4k/yfcc4k/yfcc4k/8244883940.jpg  \n",
            "  inflating: /content/llms-for-image-geolocation-benchmarks/yfcc4k/yfcc4k/yfcc4k/8248709331.jpg  \n",
            "  inflating: /content/llms-for-image-geolocation-benchmarks/yfcc4k/yfcc4k/yfcc4k/8251381751.jpg  \n",
            "  inflating: /content/llms-for-image-geolocation-benchmarks/yfcc4k/yfcc4k/yfcc4k/8253564394.jpg  \n",
            "  inflating: /content/llms-for-image-geolocation-benchmarks/yfcc4k/yfcc4k/yfcc4k/8255025887.jpg  \n",
            "  inflating: /content/llms-for-image-geolocation-benchmarks/yfcc4k/yfcc4k/yfcc4k/8256594790.jpg  \n",
            "  inflating: /content/llms-for-image-geolocation-benchmarks/yfcc4k/yfcc4k/yfcc4k/8258109546.jpg  \n",
            "  inflating: /content/llms-for-image-geolocation-benchmarks/yfcc4k/yfcc4k/yfcc4k/8258515852.jpg  \n",
            "  inflating: /content/llms-for-image-geolocation-benchmarks/yfcc4k/yfcc4k/yfcc4k/8264009534.jpg  \n",
            "  inflating: /content/llms-for-image-geolocation-benchmarks/yfcc4k/yfcc4k/yfcc4k/8268348100.jpg  \n",
            "  inflating: /content/llms-for-image-geolocation-benchmarks/yfcc4k/yfcc4k/yfcc4k/8271249455.jpg  \n",
            "  inflating: /content/llms-for-image-geolocation-benchmarks/yfcc4k/yfcc4k/yfcc4k/8274893824.jpg  \n",
            "  inflating: /content/llms-for-image-geolocation-benchmarks/yfcc4k/yfcc4k/yfcc4k/8278144161.jpg  \n",
            "  inflating: /content/llms-for-image-geolocation-benchmarks/yfcc4k/yfcc4k/yfcc4k/8279192108.jpg  \n",
            "  inflating: /content/llms-for-image-geolocation-benchmarks/yfcc4k/yfcc4k/yfcc4k/827968291.jpg  \n",
            "  inflating: /content/llms-for-image-geolocation-benchmarks/yfcc4k/yfcc4k/yfcc4k/8283578718.jpg  \n",
            "  inflating: /content/llms-for-image-geolocation-benchmarks/yfcc4k/yfcc4k/yfcc4k/8284379607.jpg  \n",
            "  inflating: /content/llms-for-image-geolocation-benchmarks/yfcc4k/yfcc4k/yfcc4k/8287084427.jpg  \n",
            "  inflating: /content/llms-for-image-geolocation-benchmarks/yfcc4k/yfcc4k/yfcc4k/8287501567.jpg  \n",
            "  inflating: /content/llms-for-image-geolocation-benchmarks/yfcc4k/yfcc4k/yfcc4k/8288362669.jpg  \n",
            "  inflating: /content/llms-for-image-geolocation-benchmarks/yfcc4k/yfcc4k/yfcc4k/8288499309.jpg  \n",
            "  inflating: /content/llms-for-image-geolocation-benchmarks/yfcc4k/yfcc4k/yfcc4k/8289564222.jpg  \n",
            "  inflating: /content/llms-for-image-geolocation-benchmarks/yfcc4k/yfcc4k/yfcc4k/8292001517.jpg  \n",
            "  inflating: /content/llms-for-image-geolocation-benchmarks/yfcc4k/yfcc4k/yfcc4k/8294815824.jpg  \n",
            "  inflating: /content/llms-for-image-geolocation-benchmarks/yfcc4k/yfcc4k/yfcc4k/8295244893.jpg  \n",
            "  inflating: /content/llms-for-image-geolocation-benchmarks/yfcc4k/yfcc4k/yfcc4k/8295869987.jpg  \n",
            "  inflating: /content/llms-for-image-geolocation-benchmarks/yfcc4k/yfcc4k/yfcc4k/8296502526.jpg  \n",
            "  inflating: /content/llms-for-image-geolocation-benchmarks/yfcc4k/yfcc4k/yfcc4k/8296935537.jpg  \n",
            "  inflating: /content/llms-for-image-geolocation-benchmarks/yfcc4k/yfcc4k/yfcc4k/8297008436.jpg  \n",
            "  inflating: /content/llms-for-image-geolocation-benchmarks/yfcc4k/yfcc4k/yfcc4k/8298657447.jpg  \n",
            "  inflating: /content/llms-for-image-geolocation-benchmarks/yfcc4k/yfcc4k/yfcc4k/8298678167.jpg  \n",
            "  inflating: /content/llms-for-image-geolocation-benchmarks/yfcc4k/yfcc4k/yfcc4k/8300477043.jpg  \n",
            "  inflating: /content/llms-for-image-geolocation-benchmarks/yfcc4k/yfcc4k/yfcc4k/8301483007.jpg  \n",
            "  inflating: /content/llms-for-image-geolocation-benchmarks/yfcc4k/yfcc4k/yfcc4k/8301919986.jpg  \n",
            "  inflating: /content/llms-for-image-geolocation-benchmarks/yfcc4k/yfcc4k/yfcc4k/8302301749.jpg  \n",
            "  inflating: /content/llms-for-image-geolocation-benchmarks/yfcc4k/yfcc4k/yfcc4k/8302511102.jpg  \n",
            "  inflating: /content/llms-for-image-geolocation-benchmarks/yfcc4k/yfcc4k/yfcc4k/8303573944.jpg  \n",
            "  inflating: /content/llms-for-image-geolocation-benchmarks/yfcc4k/yfcc4k/yfcc4k/8304222955.jpg  \n",
            "  inflating: /content/llms-for-image-geolocation-benchmarks/yfcc4k/yfcc4k/yfcc4k/8309660357.jpg  \n",
            "  inflating: /content/llms-for-image-geolocation-benchmarks/yfcc4k/yfcc4k/yfcc4k/8309889621.jpg  \n",
            "  inflating: /content/llms-for-image-geolocation-benchmarks/yfcc4k/yfcc4k/yfcc4k/8313004680.jpg  \n",
            "  inflating: /content/llms-for-image-geolocation-benchmarks/yfcc4k/yfcc4k/yfcc4k/8315265624.jpg  \n",
            "  inflating: /content/llms-for-image-geolocation-benchmarks/yfcc4k/yfcc4k/yfcc4k/8315954470.jpg  \n",
            "  inflating: /content/llms-for-image-geolocation-benchmarks/yfcc4k/yfcc4k/yfcc4k/8317485377.jpg  \n",
            "  inflating: /content/llms-for-image-geolocation-benchmarks/yfcc4k/yfcc4k/yfcc4k/8321735195.jpg  \n",
            "  inflating: /content/llms-for-image-geolocation-benchmarks/yfcc4k/yfcc4k/yfcc4k/8322217408.jpg  \n",
            "  inflating: /content/llms-for-image-geolocation-benchmarks/yfcc4k/yfcc4k/yfcc4k/8325214723.jpg  \n",
            "  inflating: /content/llms-for-image-geolocation-benchmarks/yfcc4k/yfcc4k/yfcc4k/8326984716.jpg  \n",
            "  inflating: /content/llms-for-image-geolocation-benchmarks/yfcc4k/yfcc4k/yfcc4k/8330407602.jpg  \n",
            "  inflating: /content/llms-for-image-geolocation-benchmarks/yfcc4k/yfcc4k/yfcc4k/8333095126.jpg  \n",
            "  inflating: /content/llms-for-image-geolocation-benchmarks/yfcc4k/yfcc4k/yfcc4k/8338885539.jpg  \n",
            "  inflating: /content/llms-for-image-geolocation-benchmarks/yfcc4k/yfcc4k/yfcc4k/8339006844.jpg  \n",
            "  inflating: /content/llms-for-image-geolocation-benchmarks/yfcc4k/yfcc4k/yfcc4k/8342088366.jpg  \n",
            "  inflating: /content/llms-for-image-geolocation-benchmarks/yfcc4k/yfcc4k/yfcc4k/8350306270.jpg  \n",
            "  inflating: /content/llms-for-image-geolocation-benchmarks/yfcc4k/yfcc4k/yfcc4k/8350413255.jpg  \n",
            "  inflating: /content/llms-for-image-geolocation-benchmarks/yfcc4k/yfcc4k/yfcc4k/8358820898.jpg  \n",
            "  inflating: /content/llms-for-image-geolocation-benchmarks/yfcc4k/yfcc4k/yfcc4k/8367667857.jpg  \n",
            "  inflating: /content/llms-for-image-geolocation-benchmarks/yfcc4k/yfcc4k/yfcc4k/8368731398.jpg  \n",
            "  inflating: /content/llms-for-image-geolocation-benchmarks/yfcc4k/yfcc4k/yfcc4k/8369885049.jpg  \n",
            "  inflating: /content/llms-for-image-geolocation-benchmarks/yfcc4k/yfcc4k/yfcc4k/8373884622.jpg  \n",
            "  inflating: /content/llms-for-image-geolocation-benchmarks/yfcc4k/yfcc4k/yfcc4k/8376164819.jpg  \n",
            "  inflating: /content/llms-for-image-geolocation-benchmarks/yfcc4k/yfcc4k/yfcc4k/8378040697.jpg  \n",
            "  inflating: /content/llms-for-image-geolocation-benchmarks/yfcc4k/yfcc4k/yfcc4k/8380220530.jpg  \n",
            "  inflating: /content/llms-for-image-geolocation-benchmarks/yfcc4k/yfcc4k/yfcc4k/8383980578.jpg  \n",
            "  inflating: /content/llms-for-image-geolocation-benchmarks/yfcc4k/yfcc4k/yfcc4k/8389307329.jpg  \n",
            "  inflating: /content/llms-for-image-geolocation-benchmarks/yfcc4k/yfcc4k/yfcc4k/8390427886.jpg  \n",
            "  inflating: /content/llms-for-image-geolocation-benchmarks/yfcc4k/yfcc4k/yfcc4k/83920770.jpg  \n",
            "  inflating: /content/llms-for-image-geolocation-benchmarks/yfcc4k/yfcc4k/yfcc4k/8393521966.jpg  \n",
            "  inflating: /content/llms-for-image-geolocation-benchmarks/yfcc4k/yfcc4k/yfcc4k/8397024205.jpg  \n",
            "  inflating: /content/llms-for-image-geolocation-benchmarks/yfcc4k/yfcc4k/yfcc4k/8397165808.jpg  \n",
            "  inflating: /content/llms-for-image-geolocation-benchmarks/yfcc4k/yfcc4k/yfcc4k/8397419126.jpg  \n",
            "  inflating: /content/llms-for-image-geolocation-benchmarks/yfcc4k/yfcc4k/yfcc4k/8399517776.jpg  \n",
            "  inflating: /content/llms-for-image-geolocation-benchmarks/yfcc4k/yfcc4k/yfcc4k/8401086517.jpg  \n",
            "  inflating: /content/llms-for-image-geolocation-benchmarks/yfcc4k/yfcc4k/yfcc4k/8402494254.jpg  \n",
            "  inflating: /content/llms-for-image-geolocation-benchmarks/yfcc4k/yfcc4k/yfcc4k/8402508659.jpg  \n",
            "  inflating: /content/llms-for-image-geolocation-benchmarks/yfcc4k/yfcc4k/yfcc4k/8403460247.jpg  \n",
            "  inflating: /content/llms-for-image-geolocation-benchmarks/yfcc4k/yfcc4k/yfcc4k/8403819529.jpg  \n",
            "  inflating: /content/llms-for-image-geolocation-benchmarks/yfcc4k/yfcc4k/yfcc4k/8404261390.jpg  \n",
            "  inflating: /content/llms-for-image-geolocation-benchmarks/yfcc4k/yfcc4k/yfcc4k/8405172349.jpg  \n",
            "  inflating: /content/llms-for-image-geolocation-benchmarks/yfcc4k/yfcc4k/yfcc4k/8409446965.jpg  \n",
            "  inflating: /content/llms-for-image-geolocation-benchmarks/yfcc4k/yfcc4k/yfcc4k/8412573394.jpg  \n",
            "  inflating: /content/llms-for-image-geolocation-benchmarks/yfcc4k/yfcc4k/yfcc4k/8413225261.jpg  \n",
            "  inflating: /content/llms-for-image-geolocation-benchmarks/yfcc4k/yfcc4k/yfcc4k/8414359797.jpg  \n",
            "  inflating: /content/llms-for-image-geolocation-benchmarks/yfcc4k/yfcc4k/yfcc4k/8415976114.jpg  \n",
            "  inflating: /content/llms-for-image-geolocation-benchmarks/yfcc4k/yfcc4k/yfcc4k/8416586724.jpg  \n",
            "  inflating: /content/llms-for-image-geolocation-benchmarks/yfcc4k/yfcc4k/yfcc4k/8416996996.jpg  \n",
            "  inflating: /content/llms-for-image-geolocation-benchmarks/yfcc4k/yfcc4k/yfcc4k/8417217954.jpg  \n",
            "  inflating: /content/llms-for-image-geolocation-benchmarks/yfcc4k/yfcc4k/yfcc4k/8419450931.jpg  \n",
            "  inflating: /content/llms-for-image-geolocation-benchmarks/yfcc4k/yfcc4k/yfcc4k/8425646545.jpg  \n",
            "  inflating: /content/llms-for-image-geolocation-benchmarks/yfcc4k/yfcc4k/yfcc4k/8425767709.jpg  \n",
            "  inflating: /content/llms-for-image-geolocation-benchmarks/yfcc4k/yfcc4k/yfcc4k/8426713060.jpg  \n",
            "  inflating: /content/llms-for-image-geolocation-benchmarks/yfcc4k/yfcc4k/yfcc4k/8426767828.jpg  \n",
            "  inflating: /content/llms-for-image-geolocation-benchmarks/yfcc4k/yfcc4k/yfcc4k/8431314679.jpg  \n",
            "  inflating: /content/llms-for-image-geolocation-benchmarks/yfcc4k/yfcc4k/yfcc4k/8432398610.jpg  \n",
            "  inflating: /content/llms-for-image-geolocation-benchmarks/yfcc4k/yfcc4k/yfcc4k/8433863123.jpg  \n",
            "  inflating: /content/llms-for-image-geolocation-benchmarks/yfcc4k/yfcc4k/yfcc4k/8436461135.jpg  \n",
            "  inflating: /content/llms-for-image-geolocation-benchmarks/yfcc4k/yfcc4k/yfcc4k/8438088552.jpg  \n",
            "  inflating: /content/llms-for-image-geolocation-benchmarks/yfcc4k/yfcc4k/yfcc4k/8438111386.jpg  \n",
            "  inflating: /content/llms-for-image-geolocation-benchmarks/yfcc4k/yfcc4k/yfcc4k/8440096785.jpg  \n",
            "  inflating: /content/llms-for-image-geolocation-benchmarks/yfcc4k/yfcc4k/yfcc4k/8441360112.jpg  \n",
            "  inflating: /content/llms-for-image-geolocation-benchmarks/yfcc4k/yfcc4k/yfcc4k/8443328579.jpg  \n",
            "  inflating: /content/llms-for-image-geolocation-benchmarks/yfcc4k/yfcc4k/yfcc4k/8443451554.jpg  \n",
            "  inflating: /content/llms-for-image-geolocation-benchmarks/yfcc4k/yfcc4k/yfcc4k/8446256935.jpg  \n",
            "  inflating: /content/llms-for-image-geolocation-benchmarks/yfcc4k/yfcc4k/yfcc4k/8446891244.jpg  \n",
            "  inflating: /content/llms-for-image-geolocation-benchmarks/yfcc4k/yfcc4k/yfcc4k/8448701193.jpg  \n",
            "  inflating: /content/llms-for-image-geolocation-benchmarks/yfcc4k/yfcc4k/yfcc4k/8449578941.jpg  \n",
            "  inflating: /content/llms-for-image-geolocation-benchmarks/yfcc4k/yfcc4k/yfcc4k/8454547593.jpg  \n",
            "  inflating: /content/llms-for-image-geolocation-benchmarks/yfcc4k/yfcc4k/yfcc4k/8454679017.jpg  \n",
            "  inflating: /content/llms-for-image-geolocation-benchmarks/yfcc4k/yfcc4k/yfcc4k/8455244693.jpg  \n",
            "  inflating: /content/llms-for-image-geolocation-benchmarks/yfcc4k/yfcc4k/yfcc4k/8456299086.jpg  \n",
            "  inflating: /content/llms-for-image-geolocation-benchmarks/yfcc4k/yfcc4k/yfcc4k/8456755398.jpg  \n",
            "  inflating: /content/llms-for-image-geolocation-benchmarks/yfcc4k/yfcc4k/yfcc4k/8458742939.jpg  \n",
            "  inflating: /content/llms-for-image-geolocation-benchmarks/yfcc4k/yfcc4k/yfcc4k/8459366410.jpg  \n",
            "  inflating: /content/llms-for-image-geolocation-benchmarks/yfcc4k/yfcc4k/yfcc4k/8459830522.jpg  \n",
            "  inflating: /content/llms-for-image-geolocation-benchmarks/yfcc4k/yfcc4k/yfcc4k/8461389082.jpg  \n",
            "  inflating: /content/llms-for-image-geolocation-benchmarks/yfcc4k/yfcc4k/yfcc4k/8461659719.jpg  \n",
            "  inflating: /content/llms-for-image-geolocation-benchmarks/yfcc4k/yfcc4k/yfcc4k/8465231863.jpg  \n",
            "  inflating: /content/llms-for-image-geolocation-benchmarks/yfcc4k/yfcc4k/yfcc4k/8467339731.jpg  \n",
            "  inflating: /content/llms-for-image-geolocation-benchmarks/yfcc4k/yfcc4k/yfcc4k/8468346153.jpg  \n",
            "  inflating: /content/llms-for-image-geolocation-benchmarks/yfcc4k/yfcc4k/yfcc4k/8469258448.jpg  \n",
            "  inflating: /content/llms-for-image-geolocation-benchmarks/yfcc4k/yfcc4k/yfcc4k/8469638270.jpg  \n",
            "  inflating: /content/llms-for-image-geolocation-benchmarks/yfcc4k/yfcc4k/yfcc4k/8471731009.jpg  \n",
            "  inflating: /content/llms-for-image-geolocation-benchmarks/yfcc4k/yfcc4k/yfcc4k/8471778967.jpg  \n",
            "  inflating: /content/llms-for-image-geolocation-benchmarks/yfcc4k/yfcc4k/yfcc4k/8472289771.jpg  \n",
            "  inflating: /content/llms-for-image-geolocation-benchmarks/yfcc4k/yfcc4k/yfcc4k/8473016485.jpg  \n",
            "  inflating: /content/llms-for-image-geolocation-benchmarks/yfcc4k/yfcc4k/yfcc4k/8473825653.jpg  \n",
            "  inflating: /content/llms-for-image-geolocation-benchmarks/yfcc4k/yfcc4k/yfcc4k/8474673006.jpg  \n",
            "  inflating: /content/llms-for-image-geolocation-benchmarks/yfcc4k/yfcc4k/yfcc4k/8476297864.jpg  \n",
            "  inflating: /content/llms-for-image-geolocation-benchmarks/yfcc4k/yfcc4k/yfcc4k/8476334115.jpg  \n",
            "  inflating: /content/llms-for-image-geolocation-benchmarks/yfcc4k/yfcc4k/yfcc4k/8477314613.jpg  \n",
            "  inflating: /content/llms-for-image-geolocation-benchmarks/yfcc4k/yfcc4k/yfcc4k/8478236095.jpg  \n",
            "  inflating: /content/llms-for-image-geolocation-benchmarks/yfcc4k/yfcc4k/yfcc4k/8478395761.jpg  \n",
            "  inflating: /content/llms-for-image-geolocation-benchmarks/yfcc4k/yfcc4k/yfcc4k/8480059537.jpg  \n",
            "  inflating: /content/llms-for-image-geolocation-benchmarks/yfcc4k/yfcc4k/yfcc4k/8480837100.jpg  \n",
            "  inflating: /content/llms-for-image-geolocation-benchmarks/yfcc4k/yfcc4k/yfcc4k/8481728438.jpg  \n",
            "  inflating: /content/llms-for-image-geolocation-benchmarks/yfcc4k/yfcc4k/yfcc4k/8483580180.jpg  \n",
            "  inflating: /content/llms-for-image-geolocation-benchmarks/yfcc4k/yfcc4k/yfcc4k/8484715358.jpg  \n",
            "  inflating: /content/llms-for-image-geolocation-benchmarks/yfcc4k/yfcc4k/yfcc4k/8486203013.jpg  \n",
            "  inflating: /content/llms-for-image-geolocation-benchmarks/yfcc4k/yfcc4k/yfcc4k/8486566115.jpg  \n",
            "  inflating: /content/llms-for-image-geolocation-benchmarks/yfcc4k/yfcc4k/yfcc4k/8486716139.jpg  \n",
            "  inflating: /content/llms-for-image-geolocation-benchmarks/yfcc4k/yfcc4k/yfcc4k/8491365089.jpg  \n",
            "  inflating: /content/llms-for-image-geolocation-benchmarks/yfcc4k/yfcc4k/yfcc4k/8491479964.jpg  \n",
            "  inflating: /content/llms-for-image-geolocation-benchmarks/yfcc4k/yfcc4k/yfcc4k/8491770145.jpg  \n",
            "  inflating: /content/llms-for-image-geolocation-benchmarks/yfcc4k/yfcc4k/yfcc4k/8493859064.jpg  \n",
            "  inflating: /content/llms-for-image-geolocation-benchmarks/yfcc4k/yfcc4k/yfcc4k/8494127109.jpg  \n",
            "  inflating: /content/llms-for-image-geolocation-benchmarks/yfcc4k/yfcc4k/yfcc4k/8494535977.jpg  \n",
            "  inflating: /content/llms-for-image-geolocation-benchmarks/yfcc4k/yfcc4k/yfcc4k/8498234706.jpg  \n",
            "  inflating: /content/llms-for-image-geolocation-benchmarks/yfcc4k/yfcc4k/yfcc4k/8498274135.jpg  \n",
            "  inflating: /content/llms-for-image-geolocation-benchmarks/yfcc4k/yfcc4k/yfcc4k/8501636855.jpg  \n",
            "  inflating: /content/llms-for-image-geolocation-benchmarks/yfcc4k/yfcc4k/yfcc4k/8501976655.jpg  \n",
            "  inflating: /content/llms-for-image-geolocation-benchmarks/yfcc4k/yfcc4k/yfcc4k/8503299100.jpg  \n",
            "  inflating: /content/llms-for-image-geolocation-benchmarks/yfcc4k/yfcc4k/yfcc4k/8505320138.jpg  \n",
            "  inflating: /content/llms-for-image-geolocation-benchmarks/yfcc4k/yfcc4k/yfcc4k/8507316055.jpg  \n",
            "  inflating: /content/llms-for-image-geolocation-benchmarks/yfcc4k/yfcc4k/yfcc4k/8509037092.jpg  \n",
            "  inflating: /content/llms-for-image-geolocation-benchmarks/yfcc4k/yfcc4k/yfcc4k/8512110918.jpg  \n",
            "  inflating: /content/llms-for-image-geolocation-benchmarks/yfcc4k/yfcc4k/yfcc4k/8514918904.jpg  \n",
            "  inflating: /content/llms-for-image-geolocation-benchmarks/yfcc4k/yfcc4k/yfcc4k/8515183315.jpg  \n",
            "  inflating: /content/llms-for-image-geolocation-benchmarks/yfcc4k/yfcc4k/yfcc4k/8520739772.jpg  \n",
            "  inflating: /content/llms-for-image-geolocation-benchmarks/yfcc4k/yfcc4k/yfcc4k/8522888335.jpg  \n",
            "  inflating: /content/llms-for-image-geolocation-benchmarks/yfcc4k/yfcc4k/yfcc4k/8527391041.jpg  \n",
            "  inflating: /content/llms-for-image-geolocation-benchmarks/yfcc4k/yfcc4k/yfcc4k/8527736067.jpg  \n",
            "  inflating: /content/llms-for-image-geolocation-benchmarks/yfcc4k/yfcc4k/yfcc4k/8529388199.jpg  \n",
            "  inflating: /content/llms-for-image-geolocation-benchmarks/yfcc4k/yfcc4k/yfcc4k/8529932133.jpg  \n",
            "  inflating: /content/llms-for-image-geolocation-benchmarks/yfcc4k/yfcc4k/yfcc4k/8530208689.jpg  \n",
            "  inflating: /content/llms-for-image-geolocation-benchmarks/yfcc4k/yfcc4k/yfcc4k/8534209511.jpg  \n",
            "  inflating: /content/llms-for-image-geolocation-benchmarks/yfcc4k/yfcc4k/yfcc4k/8537527021.jpg  \n",
            "  inflating: /content/llms-for-image-geolocation-benchmarks/yfcc4k/yfcc4k/yfcc4k/8539041979.jpg  \n",
            "  inflating: /content/llms-for-image-geolocation-benchmarks/yfcc4k/yfcc4k/yfcc4k/8539083636.jpg  \n",
            "  inflating: /content/llms-for-image-geolocation-benchmarks/yfcc4k/yfcc4k/yfcc4k/8540415237.jpg  \n",
            "  inflating: /content/llms-for-image-geolocation-benchmarks/yfcc4k/yfcc4k/yfcc4k/8540841429.jpg  \n",
            "  inflating: /content/llms-for-image-geolocation-benchmarks/yfcc4k/yfcc4k/yfcc4k/854220375.jpg  \n",
            "  inflating: /content/llms-for-image-geolocation-benchmarks/yfcc4k/yfcc4k/yfcc4k/8546916044.jpg  \n",
            "  inflating: /content/llms-for-image-geolocation-benchmarks/yfcc4k/yfcc4k/yfcc4k/8548430570.jpg  \n",
            "  inflating: /content/llms-for-image-geolocation-benchmarks/yfcc4k/yfcc4k/yfcc4k/8550280937.jpg  \n",
            "  inflating: /content/llms-for-image-geolocation-benchmarks/yfcc4k/yfcc4k/yfcc4k/8554007041.jpg  \n",
            "  inflating: /content/llms-for-image-geolocation-benchmarks/yfcc4k/yfcc4k/yfcc4k/8555435653.jpg  \n",
            "  inflating: /content/llms-for-image-geolocation-benchmarks/yfcc4k/yfcc4k/yfcc4k/8555460190.jpg  \n",
            "  inflating: /content/llms-for-image-geolocation-benchmarks/yfcc4k/yfcc4k/yfcc4k/8559416342.jpg  \n",
            "  inflating: /content/llms-for-image-geolocation-benchmarks/yfcc4k/yfcc4k/yfcc4k/8560370528.jpg  \n",
            "  inflating: /content/llms-for-image-geolocation-benchmarks/yfcc4k/yfcc4k/yfcc4k/8561960580.jpg  \n",
            "  inflating: /content/llms-for-image-geolocation-benchmarks/yfcc4k/yfcc4k/yfcc4k/8562780685.jpg  \n",
            "  inflating: /content/llms-for-image-geolocation-benchmarks/yfcc4k/yfcc4k/yfcc4k/8563442967.jpg  \n",
            "  inflating: /content/llms-for-image-geolocation-benchmarks/yfcc4k/yfcc4k/yfcc4k/8563783199.jpg  \n",
            "  inflating: /content/llms-for-image-geolocation-benchmarks/yfcc4k/yfcc4k/yfcc4k/8564924905.jpg  \n",
            "  inflating: /content/llms-for-image-geolocation-benchmarks/yfcc4k/yfcc4k/yfcc4k/8565120737.jpg  \n",
            "  inflating: /content/llms-for-image-geolocation-benchmarks/yfcc4k/yfcc4k/yfcc4k/8568316875.jpg  \n",
            "  inflating: /content/llms-for-image-geolocation-benchmarks/yfcc4k/yfcc4k/yfcc4k/8570777199.jpg  \n",
            "  inflating: /content/llms-for-image-geolocation-benchmarks/yfcc4k/yfcc4k/yfcc4k/8570847069.jpg  \n",
            "  inflating: /content/llms-for-image-geolocation-benchmarks/yfcc4k/yfcc4k/yfcc4k/8571484994.jpg  \n",
            "  inflating: /content/llms-for-image-geolocation-benchmarks/yfcc4k/yfcc4k/yfcc4k/8573986820.jpg  \n",
            "  inflating: /content/llms-for-image-geolocation-benchmarks/yfcc4k/yfcc4k/yfcc4k/8580725160.jpg  \n",
            "  inflating: /content/llms-for-image-geolocation-benchmarks/yfcc4k/yfcc4k/yfcc4k/8582240324.jpg  \n",
            "  inflating: /content/llms-for-image-geolocation-benchmarks/yfcc4k/yfcc4k/yfcc4k/8582622403.jpg  \n",
            "  inflating: /content/llms-for-image-geolocation-benchmarks/yfcc4k/yfcc4k/yfcc4k/8583197820.jpg  \n",
            "  inflating: /content/llms-for-image-geolocation-benchmarks/yfcc4k/yfcc4k/yfcc4k/8584141894.jpg  \n",
            "  inflating: /content/llms-for-image-geolocation-benchmarks/yfcc4k/yfcc4k/yfcc4k/8585047395.jpg  \n",
            "  inflating: /content/llms-for-image-geolocation-benchmarks/yfcc4k/yfcc4k/yfcc4k/8585194513.jpg  \n",
            "  inflating: /content/llms-for-image-geolocation-benchmarks/yfcc4k/yfcc4k/yfcc4k/8588995945.jpg  \n",
            "  inflating: /content/llms-for-image-geolocation-benchmarks/yfcc4k/yfcc4k/yfcc4k/8589447445.jpg  \n",
            "  inflating: /content/llms-for-image-geolocation-benchmarks/yfcc4k/yfcc4k/yfcc4k/8590967122.jpg  \n",
            "  inflating: /content/llms-for-image-geolocation-benchmarks/yfcc4k/yfcc4k/yfcc4k/8591613754.jpg  \n",
            "  inflating: /content/llms-for-image-geolocation-benchmarks/yfcc4k/yfcc4k/yfcc4k/8592150396.jpg  \n",
            "  inflating: /content/llms-for-image-geolocation-benchmarks/yfcc4k/yfcc4k/yfcc4k/8592799590.jpg  \n",
            "  inflating: /content/llms-for-image-geolocation-benchmarks/yfcc4k/yfcc4k/yfcc4k/8593571587.jpg  \n",
            "  inflating: /content/llms-for-image-geolocation-benchmarks/yfcc4k/yfcc4k/yfcc4k/8594572733.jpg  \n",
            "  inflating: /content/llms-for-image-geolocation-benchmarks/yfcc4k/yfcc4k/yfcc4k/8594914291.jpg  \n",
            "  inflating: /content/llms-for-image-geolocation-benchmarks/yfcc4k/yfcc4k/yfcc4k/8596100202.jpg  \n",
            "  inflating: /content/llms-for-image-geolocation-benchmarks/yfcc4k/yfcc4k/yfcc4k/8596952248.jpg  \n",
            "  inflating: /content/llms-for-image-geolocation-benchmarks/yfcc4k/yfcc4k/yfcc4k/8601885748.jpg  \n",
            "  inflating: /content/llms-for-image-geolocation-benchmarks/yfcc4k/yfcc4k/yfcc4k/8603260545.jpg  \n",
            "  inflating: /content/llms-for-image-geolocation-benchmarks/yfcc4k/yfcc4k/yfcc4k/8606804022.jpg  \n",
            "  inflating: /content/llms-for-image-geolocation-benchmarks/yfcc4k/yfcc4k/yfcc4k/8610550.jpg  \n",
            "  inflating: /content/llms-for-image-geolocation-benchmarks/yfcc4k/yfcc4k/yfcc4k/8611111093.jpg  \n",
            "  inflating: /content/llms-for-image-geolocation-benchmarks/yfcc4k/yfcc4k/yfcc4k/8614868757.jpg  \n",
            "  inflating: /content/llms-for-image-geolocation-benchmarks/yfcc4k/yfcc4k/yfcc4k/8616527954.jpg  \n",
            "  inflating: /content/llms-for-image-geolocation-benchmarks/yfcc4k/yfcc4k/yfcc4k/8617899238.jpg  \n",
            "  inflating: /content/llms-for-image-geolocation-benchmarks/yfcc4k/yfcc4k/yfcc4k/8619687530.jpg  \n",
            "  inflating: /content/llms-for-image-geolocation-benchmarks/yfcc4k/yfcc4k/yfcc4k/8621475548.jpg  \n",
            "  inflating: /content/llms-for-image-geolocation-benchmarks/yfcc4k/yfcc4k/yfcc4k/8622237897.jpg  \n",
            "  inflating: /content/llms-for-image-geolocation-benchmarks/yfcc4k/yfcc4k/yfcc4k/8622261513.jpg  \n",
            "  inflating: /content/llms-for-image-geolocation-benchmarks/yfcc4k/yfcc4k/yfcc4k/8626268731.jpg  \n",
            "  inflating: /content/llms-for-image-geolocation-benchmarks/yfcc4k/yfcc4k/yfcc4k/8626323476.jpg  \n",
            "  inflating: /content/llms-for-image-geolocation-benchmarks/yfcc4k/yfcc4k/yfcc4k/8628094186.jpg  \n",
            "  inflating: /content/llms-for-image-geolocation-benchmarks/yfcc4k/yfcc4k/yfcc4k/8631681947.jpg  \n",
            "  inflating: /content/llms-for-image-geolocation-benchmarks/yfcc4k/yfcc4k/yfcc4k/8632674815.jpg  \n",
            "  inflating: /content/llms-for-image-geolocation-benchmarks/yfcc4k/yfcc4k/yfcc4k/8634311599.jpg  \n",
            "  inflating: /content/llms-for-image-geolocation-benchmarks/yfcc4k/yfcc4k/yfcc4k/8637561639.jpg  \n",
            "  inflating: /content/llms-for-image-geolocation-benchmarks/yfcc4k/yfcc4k/yfcc4k/8638121613.jpg  \n",
            "  inflating: /content/llms-for-image-geolocation-benchmarks/yfcc4k/yfcc4k/yfcc4k/8638370791.jpg  \n",
            "  inflating: /content/llms-for-image-geolocation-benchmarks/yfcc4k/yfcc4k/yfcc4k/8640492529.jpg  \n",
            "  inflating: /content/llms-for-image-geolocation-benchmarks/yfcc4k/yfcc4k/yfcc4k/864083726.jpg  \n",
            "  inflating: /content/llms-for-image-geolocation-benchmarks/yfcc4k/yfcc4k/yfcc4k/8642282001.jpg  \n",
            "  inflating: /content/llms-for-image-geolocation-benchmarks/yfcc4k/yfcc4k/yfcc4k/8642356924.jpg  \n",
            "  inflating: /content/llms-for-image-geolocation-benchmarks/yfcc4k/yfcc4k/yfcc4k/8644236680.jpg  \n",
            "  inflating: /content/llms-for-image-geolocation-benchmarks/yfcc4k/yfcc4k/yfcc4k/8645255256.jpg  \n",
            "  inflating: /content/llms-for-image-geolocation-benchmarks/yfcc4k/yfcc4k/yfcc4k/8645272118.jpg  \n",
            "  inflating: /content/llms-for-image-geolocation-benchmarks/yfcc4k/yfcc4k/yfcc4k/8645530859.jpg  \n",
            "  inflating: /content/llms-for-image-geolocation-benchmarks/yfcc4k/yfcc4k/yfcc4k/8646416025.jpg  \n",
            "  inflating: /content/llms-for-image-geolocation-benchmarks/yfcc4k/yfcc4k/yfcc4k/8647928450.jpg  \n",
            "  inflating: /content/llms-for-image-geolocation-benchmarks/yfcc4k/yfcc4k/yfcc4k/8648162190.jpg  \n",
            "  inflating: /content/llms-for-image-geolocation-benchmarks/yfcc4k/yfcc4k/yfcc4k/8650051616.jpg  \n",
            "  inflating: /content/llms-for-image-geolocation-benchmarks/yfcc4k/yfcc4k/yfcc4k/8650424901.jpg  \n",
            "  inflating: /content/llms-for-image-geolocation-benchmarks/yfcc4k/yfcc4k/yfcc4k/8651032037.jpg  \n",
            "  inflating: /content/llms-for-image-geolocation-benchmarks/yfcc4k/yfcc4k/yfcc4k/8652238822.jpg  \n",
            "  inflating: /content/llms-for-image-geolocation-benchmarks/yfcc4k/yfcc4k/yfcc4k/8653356896.jpg  \n",
            "  inflating: /content/llms-for-image-geolocation-benchmarks/yfcc4k/yfcc4k/yfcc4k/8653576742.jpg  \n",
            "  inflating: /content/llms-for-image-geolocation-benchmarks/yfcc4k/yfcc4k/yfcc4k/8653592504.jpg  \n",
            "  inflating: /content/llms-for-image-geolocation-benchmarks/yfcc4k/yfcc4k/yfcc4k/8656367626.jpg  \n",
            "  inflating: /content/llms-for-image-geolocation-benchmarks/yfcc4k/yfcc4k/yfcc4k/8656818278.jpg  \n",
            "  inflating: /content/llms-for-image-geolocation-benchmarks/yfcc4k/yfcc4k/yfcc4k/8660305609.jpg  \n",
            "  inflating: /content/llms-for-image-geolocation-benchmarks/yfcc4k/yfcc4k/yfcc4k/8663023945.jpg  \n",
            "  inflating: /content/llms-for-image-geolocation-benchmarks/yfcc4k/yfcc4k/yfcc4k/8663106297.jpg  \n",
            "  inflating: /content/llms-for-image-geolocation-benchmarks/yfcc4k/yfcc4k/yfcc4k/8663559972.jpg  \n",
            "  inflating: /content/llms-for-image-geolocation-benchmarks/yfcc4k/yfcc4k/yfcc4k/8664535165.jpg  \n",
            "  inflating: /content/llms-for-image-geolocation-benchmarks/yfcc4k/yfcc4k/yfcc4k/8668896405.jpg  \n",
            "  inflating: /content/llms-for-image-geolocation-benchmarks/yfcc4k/yfcc4k/yfcc4k/8671267837.jpg  \n",
            "  inflating: /content/llms-for-image-geolocation-benchmarks/yfcc4k/yfcc4k/yfcc4k/8671660514.jpg  \n",
            "  inflating: /content/llms-for-image-geolocation-benchmarks/yfcc4k/yfcc4k/yfcc4k/8674311330.jpg  \n",
            "  inflating: /content/llms-for-image-geolocation-benchmarks/yfcc4k/yfcc4k/yfcc4k/8675112451.jpg  \n",
            "  inflating: /content/llms-for-image-geolocation-benchmarks/yfcc4k/yfcc4k/yfcc4k/8676997957.jpg  \n",
            "  inflating: /content/llms-for-image-geolocation-benchmarks/yfcc4k/yfcc4k/yfcc4k/8682044042.jpg  \n",
            "  inflating: /content/llms-for-image-geolocation-benchmarks/yfcc4k/yfcc4k/yfcc4k/8686944201.jpg  \n",
            "  inflating: /content/llms-for-image-geolocation-benchmarks/yfcc4k/yfcc4k/yfcc4k/8687823797.jpg  \n",
            "  inflating: /content/llms-for-image-geolocation-benchmarks/yfcc4k/yfcc4k/yfcc4k/8688162602.jpg  \n",
            "  inflating: /content/llms-for-image-geolocation-benchmarks/yfcc4k/yfcc4k/yfcc4k/8690907526.jpg  \n",
            "  inflating: /content/llms-for-image-geolocation-benchmarks/yfcc4k/yfcc4k/yfcc4k/8691341954.jpg  \n",
            "  inflating: /content/llms-for-image-geolocation-benchmarks/yfcc4k/yfcc4k/yfcc4k/8693763961.jpg  \n",
            "  inflating: /content/llms-for-image-geolocation-benchmarks/yfcc4k/yfcc4k/yfcc4k/8693890485.jpg  \n",
            "  inflating: /content/llms-for-image-geolocation-benchmarks/yfcc4k/yfcc4k/yfcc4k/8696272020.jpg  \n",
            "  inflating: /content/llms-for-image-geolocation-benchmarks/yfcc4k/yfcc4k/yfcc4k/8698077459.jpg  \n",
            "  inflating: /content/llms-for-image-geolocation-benchmarks/yfcc4k/yfcc4k/yfcc4k/8699455025.jpg  \n",
            "  inflating: /content/llms-for-image-geolocation-benchmarks/yfcc4k/yfcc4k/yfcc4k/8702541847.jpg  \n",
            "  inflating: /content/llms-for-image-geolocation-benchmarks/yfcc4k/yfcc4k/yfcc4k/8703511258.jpg  \n",
            "  inflating: /content/llms-for-image-geolocation-benchmarks/yfcc4k/yfcc4k/yfcc4k/8703620657.jpg  \n",
            "  inflating: /content/llms-for-image-geolocation-benchmarks/yfcc4k/yfcc4k/yfcc4k/8705970673.jpg  \n",
            "  inflating: /content/llms-for-image-geolocation-benchmarks/yfcc4k/yfcc4k/yfcc4k/8706188357.jpg  \n",
            "  inflating: /content/llms-for-image-geolocation-benchmarks/yfcc4k/yfcc4k/yfcc4k/8709361761.jpg  \n",
            "  inflating: /content/llms-for-image-geolocation-benchmarks/yfcc4k/yfcc4k/yfcc4k/8709670836.jpg  \n",
            "  inflating: /content/llms-for-image-geolocation-benchmarks/yfcc4k/yfcc4k/yfcc4k/8712225510.jpg  \n",
            "  inflating: /content/llms-for-image-geolocation-benchmarks/yfcc4k/yfcc4k/yfcc4k/8713367320.jpg  \n",
            "  inflating: /content/llms-for-image-geolocation-benchmarks/yfcc4k/yfcc4k/yfcc4k/8715059551.jpg  \n",
            "  inflating: /content/llms-for-image-geolocation-benchmarks/yfcc4k/yfcc4k/yfcc4k/8715740191.jpg  \n",
            "  inflating: /content/llms-for-image-geolocation-benchmarks/yfcc4k/yfcc4k/yfcc4k/8716238426.jpg  \n",
            "  inflating: /content/llms-for-image-geolocation-benchmarks/yfcc4k/yfcc4k/yfcc4k/8716479494.jpg  \n",
            "  inflating: /content/llms-for-image-geolocation-benchmarks/yfcc4k/yfcc4k/yfcc4k/8717309389.jpg  \n",
            "  inflating: /content/llms-for-image-geolocation-benchmarks/yfcc4k/yfcc4k/yfcc4k/8717671018.jpg  \n",
            "  inflating: /content/llms-for-image-geolocation-benchmarks/yfcc4k/yfcc4k/yfcc4k/8718274328.jpg  \n",
            "  inflating: /content/llms-for-image-geolocation-benchmarks/yfcc4k/yfcc4k/yfcc4k/8719317254.jpg  \n",
            "  inflating: /content/llms-for-image-geolocation-benchmarks/yfcc4k/yfcc4k/yfcc4k/8719397131.jpg  \n",
            "  inflating: /content/llms-for-image-geolocation-benchmarks/yfcc4k/yfcc4k/yfcc4k/872177729.jpg  \n",
            "  inflating: /content/llms-for-image-geolocation-benchmarks/yfcc4k/yfcc4k/yfcc4k/8721921195.jpg  \n",
            "  inflating: /content/llms-for-image-geolocation-benchmarks/yfcc4k/yfcc4k/yfcc4k/8721970851.jpg  \n",
            "  inflating: /content/llms-for-image-geolocation-benchmarks/yfcc4k/yfcc4k/yfcc4k/8723114162.jpg  \n",
            "  inflating: /content/llms-for-image-geolocation-benchmarks/yfcc4k/yfcc4k/yfcc4k/8726666775.jpg  \n",
            "  inflating: /content/llms-for-image-geolocation-benchmarks/yfcc4k/yfcc4k/yfcc4k/8729933741.jpg  \n",
            "  inflating: /content/llms-for-image-geolocation-benchmarks/yfcc4k/yfcc4k/yfcc4k/8730523691.jpg  \n",
            "  inflating: /content/llms-for-image-geolocation-benchmarks/yfcc4k/yfcc4k/yfcc4k/8730772571.jpg  \n",
            "  inflating: /content/llms-for-image-geolocation-benchmarks/yfcc4k/yfcc4k/yfcc4k/8731220235.jpg  \n",
            "  inflating: /content/llms-for-image-geolocation-benchmarks/yfcc4k/yfcc4k/yfcc4k/8731793907.jpg  \n",
            "  inflating: /content/llms-for-image-geolocation-benchmarks/yfcc4k/yfcc4k/yfcc4k/8735389454.jpg  \n",
            "  inflating: /content/llms-for-image-geolocation-benchmarks/yfcc4k/yfcc4k/yfcc4k/8735453338.jpg  \n",
            "  inflating: /content/llms-for-image-geolocation-benchmarks/yfcc4k/yfcc4k/yfcc4k/8737297469.jpg  \n",
            "  inflating: /content/llms-for-image-geolocation-benchmarks/yfcc4k/yfcc4k/yfcc4k/8737407171.jpg  \n",
            "  inflating: /content/llms-for-image-geolocation-benchmarks/yfcc4k/yfcc4k/yfcc4k/8737719658.jpg  \n",
            "  inflating: /content/llms-for-image-geolocation-benchmarks/yfcc4k/yfcc4k/yfcc4k/8737931127.jpg  \n",
            "  inflating: /content/llms-for-image-geolocation-benchmarks/yfcc4k/yfcc4k/yfcc4k/8740598428.jpg  \n",
            "  inflating: /content/llms-for-image-geolocation-benchmarks/yfcc4k/yfcc4k/yfcc4k/8745979995.jpg  \n",
            "  inflating: /content/llms-for-image-geolocation-benchmarks/yfcc4k/yfcc4k/yfcc4k/8747314929.jpg  \n",
            "  inflating: /content/llms-for-image-geolocation-benchmarks/yfcc4k/yfcc4k/yfcc4k/8749562416.jpg  \n",
            "  inflating: /content/llms-for-image-geolocation-benchmarks/yfcc4k/yfcc4k/yfcc4k/8749681924.jpg  \n",
            "  inflating: /content/llms-for-image-geolocation-benchmarks/yfcc4k/yfcc4k/yfcc4k/8750093436.jpg  \n",
            "  inflating: /content/llms-for-image-geolocation-benchmarks/yfcc4k/yfcc4k/yfcc4k/8756296341.jpg  \n",
            "  inflating: /content/llms-for-image-geolocation-benchmarks/yfcc4k/yfcc4k/yfcc4k/8758077626.jpg  \n",
            "  inflating: /content/llms-for-image-geolocation-benchmarks/yfcc4k/yfcc4k/yfcc4k/8759415936.jpg  \n",
            "  inflating: /content/llms-for-image-geolocation-benchmarks/yfcc4k/yfcc4k/yfcc4k/8761132391.jpg  \n",
            "  inflating: /content/llms-for-image-geolocation-benchmarks/yfcc4k/yfcc4k/yfcc4k/8762762741.jpg  \n",
            "  inflating: /content/llms-for-image-geolocation-benchmarks/yfcc4k/yfcc4k/yfcc4k/8766057265.jpg  \n",
            "  inflating: /content/llms-for-image-geolocation-benchmarks/yfcc4k/yfcc4k/yfcc4k/8768554272.jpg  \n",
            "  inflating: /content/llms-for-image-geolocation-benchmarks/yfcc4k/yfcc4k/yfcc4k/8771519169.jpg  \n",
            "  inflating: /content/llms-for-image-geolocation-benchmarks/yfcc4k/yfcc4k/yfcc4k/8772171406.jpg  \n",
            "  inflating: /content/llms-for-image-geolocation-benchmarks/yfcc4k/yfcc4k/yfcc4k/8782344809.jpg  \n",
            "  inflating: /content/llms-for-image-geolocation-benchmarks/yfcc4k/yfcc4k/yfcc4k/8791742443.jpg  \n",
            "  inflating: /content/llms-for-image-geolocation-benchmarks/yfcc4k/yfcc4k/yfcc4k/8791965605.jpg  \n",
            "  inflating: /content/llms-for-image-geolocation-benchmarks/yfcc4k/yfcc4k/yfcc4k/8800271528.jpg  \n",
            "  inflating: /content/llms-for-image-geolocation-benchmarks/yfcc4k/yfcc4k/yfcc4k/8802965200.jpg  \n",
            "  inflating: /content/llms-for-image-geolocation-benchmarks/yfcc4k/yfcc4k/yfcc4k/8804526374.jpg  \n",
            "  inflating: /content/llms-for-image-geolocation-benchmarks/yfcc4k/yfcc4k/yfcc4k/8806890111.jpg  \n",
            "  inflating: /content/llms-for-image-geolocation-benchmarks/yfcc4k/yfcc4k/yfcc4k/8809076904.jpg  \n",
            "  inflating: /content/llms-for-image-geolocation-benchmarks/yfcc4k/yfcc4k/yfcc4k/8813772667.jpg  \n",
            "  inflating: /content/llms-for-image-geolocation-benchmarks/yfcc4k/yfcc4k/yfcc4k/8815795798.jpg  \n",
            "  inflating: /content/llms-for-image-geolocation-benchmarks/yfcc4k/yfcc4k/yfcc4k/8827971702.jpg  \n",
            "  inflating: /content/llms-for-image-geolocation-benchmarks/yfcc4k/yfcc4k/yfcc4k/8836600522.jpg  \n",
            "  inflating: /content/llms-for-image-geolocation-benchmarks/yfcc4k/yfcc4k/yfcc4k/8839261936.jpg  \n",
            "  inflating: /content/llms-for-image-geolocation-benchmarks/yfcc4k/yfcc4k/yfcc4k/8843277856.jpg  \n",
            "  inflating: /content/llms-for-image-geolocation-benchmarks/yfcc4k/yfcc4k/yfcc4k/8843697938.jpg  \n",
            "  inflating: /content/llms-for-image-geolocation-benchmarks/yfcc4k/yfcc4k/yfcc4k/8846313945.jpg  \n",
            "  inflating: /content/llms-for-image-geolocation-benchmarks/yfcc4k/yfcc4k/yfcc4k/885226770.jpg  \n",
            "  inflating: /content/llms-for-image-geolocation-benchmarks/yfcc4k/yfcc4k/yfcc4k/8858767665.jpg  \n",
            "  inflating: /content/llms-for-image-geolocation-benchmarks/yfcc4k/yfcc4k/yfcc4k/8859365296.jpg  \n",
            "  inflating: /content/llms-for-image-geolocation-benchmarks/yfcc4k/yfcc4k/yfcc4k/8860628707.jpg  \n",
            "  inflating: /content/llms-for-image-geolocation-benchmarks/yfcc4k/yfcc4k/yfcc4k/8866432745.jpg  \n",
            "  inflating: /content/llms-for-image-geolocation-benchmarks/yfcc4k/yfcc4k/yfcc4k/8867116252.jpg  \n",
            "  inflating: /content/llms-for-image-geolocation-benchmarks/yfcc4k/yfcc4k/yfcc4k/8870729089.jpg  \n",
            "  inflating: /content/llms-for-image-geolocation-benchmarks/yfcc4k/yfcc4k/yfcc4k/8883889207.jpg  \n",
            "  inflating: /content/llms-for-image-geolocation-benchmarks/yfcc4k/yfcc4k/yfcc4k/8888638901.jpg  \n",
            "  inflating: /content/llms-for-image-geolocation-benchmarks/yfcc4k/yfcc4k/yfcc4k/8895947540.jpg  \n",
            "  inflating: /content/llms-for-image-geolocation-benchmarks/yfcc4k/yfcc4k/yfcc4k/8915492482.jpg  \n",
            "  inflating: /content/llms-for-image-geolocation-benchmarks/yfcc4k/yfcc4k/yfcc4k/8921816651.jpg  \n",
            "  inflating: /content/llms-for-image-geolocation-benchmarks/yfcc4k/yfcc4k/yfcc4k/8922920105.jpg  \n",
            "  inflating: /content/llms-for-image-geolocation-benchmarks/yfcc4k/yfcc4k/yfcc4k/8923641477.jpg  \n",
            "  inflating: /content/llms-for-image-geolocation-benchmarks/yfcc4k/yfcc4k/yfcc4k/8925431030.jpg  \n",
            "  inflating: /content/llms-for-image-geolocation-benchmarks/yfcc4k/yfcc4k/yfcc4k/8927040679.jpg  \n",
            "  inflating: /content/llms-for-image-geolocation-benchmarks/yfcc4k/yfcc4k/yfcc4k/8928919049.jpg  \n",
            "  inflating: /content/llms-for-image-geolocation-benchmarks/yfcc4k/yfcc4k/yfcc4k/8935325397.jpg  \n",
            "  inflating: /content/llms-for-image-geolocation-benchmarks/yfcc4k/yfcc4k/yfcc4k/8938426139.jpg  \n",
            "  inflating: /content/llms-for-image-geolocation-benchmarks/yfcc4k/yfcc4k/yfcc4k/8941605142.jpg  \n",
            "  inflating: /content/llms-for-image-geolocation-benchmarks/yfcc4k/yfcc4k/yfcc4k/8945411389.jpg  \n",
            "  inflating: /content/llms-for-image-geolocation-benchmarks/yfcc4k/yfcc4k/yfcc4k/8951440625.jpg  \n",
            "  inflating: /content/llms-for-image-geolocation-benchmarks/yfcc4k/yfcc4k/yfcc4k/89581032.jpg  \n",
            "  inflating: /content/llms-for-image-geolocation-benchmarks/yfcc4k/yfcc4k/yfcc4k/8958349894.jpg  \n",
            "  inflating: /content/llms-for-image-geolocation-benchmarks/yfcc4k/yfcc4k/yfcc4k/8961534511.jpg  \n",
            "  inflating: /content/llms-for-image-geolocation-benchmarks/yfcc4k/yfcc4k/yfcc4k/8965743155.jpg  \n",
            "  inflating: /content/llms-for-image-geolocation-benchmarks/yfcc4k/yfcc4k/yfcc4k/897287364.jpg  \n",
            "  inflating: /content/llms-for-image-geolocation-benchmarks/yfcc4k/yfcc4k/yfcc4k/8985581001.jpg  \n",
            "  inflating: /content/llms-for-image-geolocation-benchmarks/yfcc4k/yfcc4k/yfcc4k/8988725802.jpg  \n",
            "  inflating: /content/llms-for-image-geolocation-benchmarks/yfcc4k/yfcc4k/yfcc4k/8990445618.jpg  \n",
            "  inflating: /content/llms-for-image-geolocation-benchmarks/yfcc4k/yfcc4k/yfcc4k/8991407719.jpg  \n",
            "  inflating: /content/llms-for-image-geolocation-benchmarks/yfcc4k/yfcc4k/yfcc4k/8996095447.jpg  \n",
            "  inflating: /content/llms-for-image-geolocation-benchmarks/yfcc4k/yfcc4k/yfcc4k/8997694204.jpg  \n",
            "  inflating: /content/llms-for-image-geolocation-benchmarks/yfcc4k/yfcc4k/yfcc4k/8999840199.jpg  \n",
            "  inflating: /content/llms-for-image-geolocation-benchmarks/yfcc4k/yfcc4k/yfcc4k/9001135290.jpg  \n",
            "  inflating: /content/llms-for-image-geolocation-benchmarks/yfcc4k/yfcc4k/yfcc4k/9005980331.jpg  \n",
            "  inflating: /content/llms-for-image-geolocation-benchmarks/yfcc4k/yfcc4k/yfcc4k/9008867398.jpg  \n",
            "  inflating: /content/llms-for-image-geolocation-benchmarks/yfcc4k/yfcc4k/yfcc4k/9009215057.jpg  \n",
            "  inflating: /content/llms-for-image-geolocation-benchmarks/yfcc4k/yfcc4k/yfcc4k/9009800710.jpg  \n",
            "  inflating: /content/llms-for-image-geolocation-benchmarks/yfcc4k/yfcc4k/yfcc4k/9010158950.jpg  \n",
            "  inflating: /content/llms-for-image-geolocation-benchmarks/yfcc4k/yfcc4k/yfcc4k/9012234569.jpg  \n",
            "  inflating: /content/llms-for-image-geolocation-benchmarks/yfcc4k/yfcc4k/yfcc4k/9012603528.jpg  \n",
            "  inflating: /content/llms-for-image-geolocation-benchmarks/yfcc4k/yfcc4k/yfcc4k/9031231108.jpg  \n",
            "  inflating: /content/llms-for-image-geolocation-benchmarks/yfcc4k/yfcc4k/yfcc4k/9043122886.jpg  \n",
            "  inflating: /content/llms-for-image-geolocation-benchmarks/yfcc4k/yfcc4k/yfcc4k/9047603229.jpg  \n",
            "  inflating: /content/llms-for-image-geolocation-benchmarks/yfcc4k/yfcc4k/yfcc4k/9047721345.jpg  \n",
            "  inflating: /content/llms-for-image-geolocation-benchmarks/yfcc4k/yfcc4k/yfcc4k/9050795409.jpg  \n",
            "  inflating: /content/llms-for-image-geolocation-benchmarks/yfcc4k/yfcc4k/yfcc4k/9060302907.jpg  \n",
            "  inflating: /content/llms-for-image-geolocation-benchmarks/yfcc4k/yfcc4k/yfcc4k/9060808894.jpg  \n",
            "  inflating: /content/llms-for-image-geolocation-benchmarks/yfcc4k/yfcc4k/yfcc4k/9072399538.jpg  \n",
            "  inflating: /content/llms-for-image-geolocation-benchmarks/yfcc4k/yfcc4k/yfcc4k/9072522664.jpg  \n",
            "  inflating: /content/llms-for-image-geolocation-benchmarks/yfcc4k/yfcc4k/yfcc4k/9073311450.jpg  \n",
            "  inflating: /content/llms-for-image-geolocation-benchmarks/yfcc4k/yfcc4k/yfcc4k/9076379844.jpg  \n",
            "  inflating: /content/llms-for-image-geolocation-benchmarks/yfcc4k/yfcc4k/yfcc4k/9077133885.jpg  \n",
            "  inflating: /content/llms-for-image-geolocation-benchmarks/yfcc4k/yfcc4k/yfcc4k/9078247666.jpg  \n",
            "  inflating: /content/llms-for-image-geolocation-benchmarks/yfcc4k/yfcc4k/yfcc4k/9085396749.jpg  \n",
            "  inflating: /content/llms-for-image-geolocation-benchmarks/yfcc4k/yfcc4k/yfcc4k/9090879865.jpg  \n",
            "  inflating: /content/llms-for-image-geolocation-benchmarks/yfcc4k/yfcc4k/yfcc4k/9092140278.jpg  \n",
            "  inflating: /content/llms-for-image-geolocation-benchmarks/yfcc4k/yfcc4k/yfcc4k/9096586050.jpg  \n",
            "  inflating: /content/llms-for-image-geolocation-benchmarks/yfcc4k/yfcc4k/yfcc4k/909736002.jpg  \n",
            "  inflating: /content/llms-for-image-geolocation-benchmarks/yfcc4k/yfcc4k/yfcc4k/909947742.jpg  \n",
            "  inflating: /content/llms-for-image-geolocation-benchmarks/yfcc4k/yfcc4k/yfcc4k/9099666459.jpg  \n",
            "  inflating: /content/llms-for-image-geolocation-benchmarks/yfcc4k/yfcc4k/yfcc4k/9108845080.jpg  \n",
            "  inflating: /content/llms-for-image-geolocation-benchmarks/yfcc4k/yfcc4k/yfcc4k/9109201923.jpg  \n",
            "  inflating: /content/llms-for-image-geolocation-benchmarks/yfcc4k/yfcc4k/yfcc4k/9112597056.jpg  \n",
            "  inflating: /content/llms-for-image-geolocation-benchmarks/yfcc4k/yfcc4k/yfcc4k/9112690748.jpg  \n",
            "  inflating: /content/llms-for-image-geolocation-benchmarks/yfcc4k/yfcc4k/yfcc4k/9114642813.jpg  \n",
            "  inflating: /content/llms-for-image-geolocation-benchmarks/yfcc4k/yfcc4k/yfcc4k/9114652481.jpg  \n",
            "  inflating: /content/llms-for-image-geolocation-benchmarks/yfcc4k/yfcc4k/yfcc4k/9117805239.jpg  \n",
            "  inflating: /content/llms-for-image-geolocation-benchmarks/yfcc4k/yfcc4k/yfcc4k/9118378784.jpg  \n",
            "  inflating: /content/llms-for-image-geolocation-benchmarks/yfcc4k/yfcc4k/yfcc4k/9118903522.jpg  \n",
            "  inflating: /content/llms-for-image-geolocation-benchmarks/yfcc4k/yfcc4k/yfcc4k/9121059553.jpg  \n",
            "  inflating: /content/llms-for-image-geolocation-benchmarks/yfcc4k/yfcc4k/yfcc4k/9130301294.jpg  \n",
            "  inflating: /content/llms-for-image-geolocation-benchmarks/yfcc4k/yfcc4k/yfcc4k/9132123438.jpg  \n",
            "  inflating: /content/llms-for-image-geolocation-benchmarks/yfcc4k/yfcc4k/yfcc4k/9150076641.jpg  \n",
            "  inflating: /content/llms-for-image-geolocation-benchmarks/yfcc4k/yfcc4k/yfcc4k/9152412013.jpg  \n",
            "  inflating: /content/llms-for-image-geolocation-benchmarks/yfcc4k/yfcc4k/yfcc4k/9160164557.jpg  \n",
            "  inflating: /content/llms-for-image-geolocation-benchmarks/yfcc4k/yfcc4k/yfcc4k/9160434199.jpg  \n",
            "  inflating: /content/llms-for-image-geolocation-benchmarks/yfcc4k/yfcc4k/yfcc4k/9161277647.jpg  \n",
            "  inflating: /content/llms-for-image-geolocation-benchmarks/yfcc4k/yfcc4k/yfcc4k/9162514090.jpg  \n",
            "  inflating: /content/llms-for-image-geolocation-benchmarks/yfcc4k/yfcc4k/yfcc4k/9162576596.jpg  \n",
            "  inflating: /content/llms-for-image-geolocation-benchmarks/yfcc4k/yfcc4k/yfcc4k/9164600173.jpg  \n",
            "  inflating: /content/llms-for-image-geolocation-benchmarks/yfcc4k/yfcc4k/yfcc4k/9167231400.jpg  \n",
            "  inflating: /content/llms-for-image-geolocation-benchmarks/yfcc4k/yfcc4k/yfcc4k/9168469121.jpg  \n",
            "  inflating: /content/llms-for-image-geolocation-benchmarks/yfcc4k/yfcc4k/yfcc4k/9168567019.jpg  \n",
            "  inflating: /content/llms-for-image-geolocation-benchmarks/yfcc4k/yfcc4k/yfcc4k/9169498892.jpg  \n",
            "  inflating: /content/llms-for-image-geolocation-benchmarks/yfcc4k/yfcc4k/yfcc4k/9175205302.jpg  \n",
            "  inflating: /content/llms-for-image-geolocation-benchmarks/yfcc4k/yfcc4k/yfcc4k/9177350502.jpg  \n",
            "  inflating: /content/llms-for-image-geolocation-benchmarks/yfcc4k/yfcc4k/yfcc4k/9177751795.jpg  \n",
            "  inflating: /content/llms-for-image-geolocation-benchmarks/yfcc4k/yfcc4k/yfcc4k/9179343348.jpg  \n",
            "  inflating: /content/llms-for-image-geolocation-benchmarks/yfcc4k/yfcc4k/yfcc4k/9183915650.jpg  \n",
            "  inflating: /content/llms-for-image-geolocation-benchmarks/yfcc4k/yfcc4k/yfcc4k/9186407414.jpg  \n",
            "  inflating: /content/llms-for-image-geolocation-benchmarks/yfcc4k/yfcc4k/yfcc4k/9196931420.jpg  \n",
            "  inflating: /content/llms-for-image-geolocation-benchmarks/yfcc4k/yfcc4k/yfcc4k/9197811408.jpg  \n",
            "  inflating: /content/llms-for-image-geolocation-benchmarks/yfcc4k/yfcc4k/yfcc4k/9198874365.jpg  \n",
            "  inflating: /content/llms-for-image-geolocation-benchmarks/yfcc4k/yfcc4k/yfcc4k/9216694115.jpg  \n",
            "  inflating: /content/llms-for-image-geolocation-benchmarks/yfcc4k/yfcc4k/yfcc4k/9227274467.jpg  \n",
            "  inflating: /content/llms-for-image-geolocation-benchmarks/yfcc4k/yfcc4k/yfcc4k/9232118743.jpg  \n",
            "  inflating: /content/llms-for-image-geolocation-benchmarks/yfcc4k/yfcc4k/yfcc4k/9232817964.jpg  \n",
            "  inflating: /content/llms-for-image-geolocation-benchmarks/yfcc4k/yfcc4k/yfcc4k/923853560.jpg  \n",
            "  inflating: /content/llms-for-image-geolocation-benchmarks/yfcc4k/yfcc4k/yfcc4k/9240207515.jpg  \n",
            "  inflating: /content/llms-for-image-geolocation-benchmarks/yfcc4k/yfcc4k/yfcc4k/9242784965.jpg  \n",
            "  inflating: /content/llms-for-image-geolocation-benchmarks/yfcc4k/yfcc4k/yfcc4k/9245030734.jpg  \n",
            "  inflating: /content/llms-for-image-geolocation-benchmarks/yfcc4k/yfcc4k/yfcc4k/9245117173.jpg  \n",
            "  inflating: /content/llms-for-image-geolocation-benchmarks/yfcc4k/yfcc4k/yfcc4k/9250281144.jpg  \n",
            "  inflating: /content/llms-for-image-geolocation-benchmarks/yfcc4k/yfcc4k/yfcc4k/9250640412.jpg  \n",
            "  inflating: /content/llms-for-image-geolocation-benchmarks/yfcc4k/yfcc4k/yfcc4k/9251923025.jpg  \n",
            "  inflating: /content/llms-for-image-geolocation-benchmarks/yfcc4k/yfcc4k/yfcc4k/9253646781.jpg  \n",
            "  inflating: /content/llms-for-image-geolocation-benchmarks/yfcc4k/yfcc4k/yfcc4k/9254610963.jpg  \n",
            "  inflating: /content/llms-for-image-geolocation-benchmarks/yfcc4k/yfcc4k/yfcc4k/9256717750.jpg  \n",
            "  inflating: /content/llms-for-image-geolocation-benchmarks/yfcc4k/yfcc4k/yfcc4k/9259016085.jpg  \n",
            "  inflating: /content/llms-for-image-geolocation-benchmarks/yfcc4k/yfcc4k/yfcc4k/9261019132.jpg  \n",
            "  inflating: /content/llms-for-image-geolocation-benchmarks/yfcc4k/yfcc4k/yfcc4k/9268583291.jpg  \n",
            "  inflating: /content/llms-for-image-geolocation-benchmarks/yfcc4k/yfcc4k/yfcc4k/9273957830.jpg  \n",
            "  inflating: /content/llms-for-image-geolocation-benchmarks/yfcc4k/yfcc4k/yfcc4k/9281319591.jpg  \n",
            "  inflating: /content/llms-for-image-geolocation-benchmarks/yfcc4k/yfcc4k/yfcc4k/9284634892.jpg  \n",
            "  inflating: /content/llms-for-image-geolocation-benchmarks/yfcc4k/yfcc4k/yfcc4k/9291483548.jpg  \n",
            "  inflating: /content/llms-for-image-geolocation-benchmarks/yfcc4k/yfcc4k/yfcc4k/9293634022.jpg  \n",
            "  inflating: /content/llms-for-image-geolocation-benchmarks/yfcc4k/yfcc4k/yfcc4k/9296670331.jpg  \n",
            "  inflating: /content/llms-for-image-geolocation-benchmarks/yfcc4k/yfcc4k/yfcc4k/9307191381.jpg  \n",
            "  inflating: /content/llms-for-image-geolocation-benchmarks/yfcc4k/yfcc4k/yfcc4k/9311863323.jpg  \n",
            "  inflating: /content/llms-for-image-geolocation-benchmarks/yfcc4k/yfcc4k/yfcc4k/9313407743.jpg  \n",
            "  inflating: /content/llms-for-image-geolocation-benchmarks/yfcc4k/yfcc4k/yfcc4k/9314102427.jpg  \n",
            "  inflating: /content/llms-for-image-geolocation-benchmarks/yfcc4k/yfcc4k/yfcc4k/9316493363.jpg  \n",
            "  inflating: /content/llms-for-image-geolocation-benchmarks/yfcc4k/yfcc4k/yfcc4k/9317551405.jpg  \n",
            "  inflating: /content/llms-for-image-geolocation-benchmarks/yfcc4k/yfcc4k/yfcc4k/9327722719.jpg  \n",
            "  inflating: /content/llms-for-image-geolocation-benchmarks/yfcc4k/yfcc4k/yfcc4k/932971154.jpg  \n",
            "  inflating: /content/llms-for-image-geolocation-benchmarks/yfcc4k/yfcc4k/yfcc4k/9331612556.jpg  \n",
            "  inflating: /content/llms-for-image-geolocation-benchmarks/yfcc4k/yfcc4k/yfcc4k/9336323868.jpg  \n",
            "  inflating: /content/llms-for-image-geolocation-benchmarks/yfcc4k/yfcc4k/yfcc4k/9341610179.jpg  \n",
            "  inflating: /content/llms-for-image-geolocation-benchmarks/yfcc4k/yfcc4k/yfcc4k/9344719841.jpg  \n",
            "  inflating: /content/llms-for-image-geolocation-benchmarks/yfcc4k/yfcc4k/yfcc4k/9345533550.jpg  \n",
            "  inflating: /content/llms-for-image-geolocation-benchmarks/yfcc4k/yfcc4k/yfcc4k/9348153256.jpg  \n",
            "  inflating: /content/llms-for-image-geolocation-benchmarks/yfcc4k/yfcc4k/yfcc4k/9348258854.jpg  \n",
            "  inflating: /content/llms-for-image-geolocation-benchmarks/yfcc4k/yfcc4k/yfcc4k/9349856297.jpg  \n",
            "  inflating: /content/llms-for-image-geolocation-benchmarks/yfcc4k/yfcc4k/yfcc4k/9351771542.jpg  \n",
            "  inflating: /content/llms-for-image-geolocation-benchmarks/yfcc4k/yfcc4k/yfcc4k/9351815247.jpg  \n",
            "  inflating: /content/llms-for-image-geolocation-benchmarks/yfcc4k/yfcc4k/yfcc4k/9352235220.jpg  \n",
            "  inflating: /content/llms-for-image-geolocation-benchmarks/yfcc4k/yfcc4k/yfcc4k/9354649811.jpg  \n",
            "  inflating: /content/llms-for-image-geolocation-benchmarks/yfcc4k/yfcc4k/yfcc4k/9355848740.jpg  \n",
            "  inflating: /content/llms-for-image-geolocation-benchmarks/yfcc4k/yfcc4k/yfcc4k/9357430341.jpg  \n",
            "  inflating: /content/llms-for-image-geolocation-benchmarks/yfcc4k/yfcc4k/yfcc4k/9359119011.jpg  \n",
            "  inflating: /content/llms-for-image-geolocation-benchmarks/yfcc4k/yfcc4k/yfcc4k/9364327437.jpg  \n",
            "  inflating: /content/llms-for-image-geolocation-benchmarks/yfcc4k/yfcc4k/yfcc4k/9368883793.jpg  \n",
            "  inflating: /content/llms-for-image-geolocation-benchmarks/yfcc4k/yfcc4k/yfcc4k/9375205329.jpg  \n",
            "  inflating: /content/llms-for-image-geolocation-benchmarks/yfcc4k/yfcc4k/yfcc4k/9375371674.jpg  \n",
            "  inflating: /content/llms-for-image-geolocation-benchmarks/yfcc4k/yfcc4k/yfcc4k/9386104200.jpg  \n",
            "  inflating: /content/llms-for-image-geolocation-benchmarks/yfcc4k/yfcc4k/yfcc4k/9386653773.jpg  \n",
            "  inflating: /content/llms-for-image-geolocation-benchmarks/yfcc4k/yfcc4k/yfcc4k/9388152316.jpg  \n",
            "  inflating: /content/llms-for-image-geolocation-benchmarks/yfcc4k/yfcc4k/yfcc4k/9390213496.jpg  \n",
            "  inflating: /content/llms-for-image-geolocation-benchmarks/yfcc4k/yfcc4k/yfcc4k/9399427099.jpg  \n",
            "  inflating: /content/llms-for-image-geolocation-benchmarks/yfcc4k/yfcc4k/yfcc4k/9400527571.jpg  \n",
            "  inflating: /content/llms-for-image-geolocation-benchmarks/yfcc4k/yfcc4k/yfcc4k/9409352285.jpg  \n",
            "  inflating: /content/llms-for-image-geolocation-benchmarks/yfcc4k/yfcc4k/yfcc4k/9409439064.jpg  \n",
            "  inflating: /content/llms-for-image-geolocation-benchmarks/yfcc4k/yfcc4k/yfcc4k/9411315194.jpg  \n",
            "  inflating: /content/llms-for-image-geolocation-benchmarks/yfcc4k/yfcc4k/yfcc4k/9413177485.jpg  \n",
            "  inflating: /content/llms-for-image-geolocation-benchmarks/yfcc4k/yfcc4k/yfcc4k/9415591834.jpg  \n",
            "  inflating: /content/llms-for-image-geolocation-benchmarks/yfcc4k/yfcc4k/yfcc4k/9416333934.jpg  \n",
            "  inflating: /content/llms-for-image-geolocation-benchmarks/yfcc4k/yfcc4k/yfcc4k/9419231868.jpg  \n",
            "  inflating: /content/llms-for-image-geolocation-benchmarks/yfcc4k/yfcc4k/yfcc4k/9420455827.jpg  \n",
            "  inflating: /content/llms-for-image-geolocation-benchmarks/yfcc4k/yfcc4k/yfcc4k/942070967.jpg  \n",
            "  inflating: /content/llms-for-image-geolocation-benchmarks/yfcc4k/yfcc4k/yfcc4k/9422845058.jpg  \n",
            "  inflating: /content/llms-for-image-geolocation-benchmarks/yfcc4k/yfcc4k/yfcc4k/9422881576.jpg  \n",
            "  inflating: /content/llms-for-image-geolocation-benchmarks/yfcc4k/yfcc4k/yfcc4k/9425692793.jpg  \n",
            "  inflating: /content/llms-for-image-geolocation-benchmarks/yfcc4k/yfcc4k/yfcc4k/9426531221.jpg  \n",
            "  inflating: /content/llms-for-image-geolocation-benchmarks/yfcc4k/yfcc4k/yfcc4k/9427206185.jpg  \n",
            "  inflating: /content/llms-for-image-geolocation-benchmarks/yfcc4k/yfcc4k/yfcc4k/9430932458.jpg  \n",
            "  inflating: /content/llms-for-image-geolocation-benchmarks/yfcc4k/yfcc4k/yfcc4k/9431952251.jpg  \n",
            "  inflating: /content/llms-for-image-geolocation-benchmarks/yfcc4k/yfcc4k/yfcc4k/9436317429.jpg  \n",
            "  inflating: /content/llms-for-image-geolocation-benchmarks/yfcc4k/yfcc4k/yfcc4k/9436515377.jpg  \n",
            "  inflating: /content/llms-for-image-geolocation-benchmarks/yfcc4k/yfcc4k/yfcc4k/9438481892.jpg  \n",
            "  inflating: /content/llms-for-image-geolocation-benchmarks/yfcc4k/yfcc4k/yfcc4k/9439954680.jpg  \n",
            "  inflating: /content/llms-for-image-geolocation-benchmarks/yfcc4k/yfcc4k/yfcc4k/9441102343.jpg  \n",
            "  inflating: /content/llms-for-image-geolocation-benchmarks/yfcc4k/yfcc4k/yfcc4k/9446855409.jpg  \n",
            "  inflating: /content/llms-for-image-geolocation-benchmarks/yfcc4k/yfcc4k/yfcc4k/944858161.jpg  \n",
            "  inflating: /content/llms-for-image-geolocation-benchmarks/yfcc4k/yfcc4k/yfcc4k/9452765112.jpg  \n",
            "  inflating: /content/llms-for-image-geolocation-benchmarks/yfcc4k/yfcc4k/yfcc4k/945283822.jpg  \n",
            "  inflating: /content/llms-for-image-geolocation-benchmarks/yfcc4k/yfcc4k/yfcc4k/9464949659.jpg  \n",
            "  inflating: /content/llms-for-image-geolocation-benchmarks/yfcc4k/yfcc4k/yfcc4k/9465766798.jpg  \n",
            "  inflating: /content/llms-for-image-geolocation-benchmarks/yfcc4k/yfcc4k/yfcc4k/9467614500.jpg  \n",
            "  inflating: /content/llms-for-image-geolocation-benchmarks/yfcc4k/yfcc4k/yfcc4k/9468464923.jpg  \n",
            "  inflating: /content/llms-for-image-geolocation-benchmarks/yfcc4k/yfcc4k/yfcc4k/9469805869.jpg  \n",
            "  inflating: /content/llms-for-image-geolocation-benchmarks/yfcc4k/yfcc4k/yfcc4k/9474999092.jpg  \n",
            "  inflating: /content/llms-for-image-geolocation-benchmarks/yfcc4k/yfcc4k/yfcc4k/9475850048.jpg  \n",
            "  inflating: /content/llms-for-image-geolocation-benchmarks/yfcc4k/yfcc4k/yfcc4k/9479232219.jpg  \n",
            "  inflating: /content/llms-for-image-geolocation-benchmarks/yfcc4k/yfcc4k/yfcc4k/9480431788.jpg  \n",
            "  inflating: /content/llms-for-image-geolocation-benchmarks/yfcc4k/yfcc4k/yfcc4k/9484089791.jpg  \n",
            "  inflating: /content/llms-for-image-geolocation-benchmarks/yfcc4k/yfcc4k/yfcc4k/9485442237.jpg  \n",
            "  inflating: /content/llms-for-image-geolocation-benchmarks/yfcc4k/yfcc4k/yfcc4k/9486825424.jpg  \n",
            "  inflating: /content/llms-for-image-geolocation-benchmarks/yfcc4k/yfcc4k/yfcc4k/9487579991.jpg  \n",
            "  inflating: /content/llms-for-image-geolocation-benchmarks/yfcc4k/yfcc4k/yfcc4k/9489588127.jpg  \n",
            "  inflating: /content/llms-for-image-geolocation-benchmarks/yfcc4k/yfcc4k/yfcc4k/9497444414.jpg  \n",
            "  inflating: /content/llms-for-image-geolocation-benchmarks/yfcc4k/yfcc4k/yfcc4k/9504483259.jpg  \n",
            "  inflating: /content/llms-for-image-geolocation-benchmarks/yfcc4k/yfcc4k/yfcc4k/9505029123.jpg  \n",
            "  inflating: /content/llms-for-image-geolocation-benchmarks/yfcc4k/yfcc4k/yfcc4k/9509655965.jpg  \n",
            "  inflating: /content/llms-for-image-geolocation-benchmarks/yfcc4k/yfcc4k/yfcc4k/9511304223.jpg  \n",
            "  inflating: /content/llms-for-image-geolocation-benchmarks/yfcc4k/yfcc4k/yfcc4k/9515956314.jpg  \n",
            "  inflating: /content/llms-for-image-geolocation-benchmarks/yfcc4k/yfcc4k/yfcc4k/9518592909.jpg  \n",
            "  inflating: /content/llms-for-image-geolocation-benchmarks/yfcc4k/yfcc4k/yfcc4k/9519014717.jpg  \n",
            "  inflating: /content/llms-for-image-geolocation-benchmarks/yfcc4k/yfcc4k/yfcc4k/9520655398.jpg  \n",
            "  inflating: /content/llms-for-image-geolocation-benchmarks/yfcc4k/yfcc4k/yfcc4k/9530089105.jpg  \n",
            "  inflating: /content/llms-for-image-geolocation-benchmarks/yfcc4k/yfcc4k/yfcc4k/9530494767.jpg  \n",
            "  inflating: /content/llms-for-image-geolocation-benchmarks/yfcc4k/yfcc4k/yfcc4k/9533082744.jpg  \n",
            "  inflating: /content/llms-for-image-geolocation-benchmarks/yfcc4k/yfcc4k/yfcc4k/9538735889.jpg  \n",
            "  inflating: /content/llms-for-image-geolocation-benchmarks/yfcc4k/yfcc4k/yfcc4k/9540952219.jpg  \n",
            "  inflating: /content/llms-for-image-geolocation-benchmarks/yfcc4k/yfcc4k/yfcc4k/9541525158.jpg  \n",
            "  inflating: /content/llms-for-image-geolocation-benchmarks/yfcc4k/yfcc4k/yfcc4k/9542516917.jpg  \n",
            "  inflating: /content/llms-for-image-geolocation-benchmarks/yfcc4k/yfcc4k/yfcc4k/9546733823.jpg  \n",
            "  inflating: /content/llms-for-image-geolocation-benchmarks/yfcc4k/yfcc4k/yfcc4k/9548733164.jpg  \n",
            "  inflating: /content/llms-for-image-geolocation-benchmarks/yfcc4k/yfcc4k/yfcc4k/9549460755.jpg  \n",
            "  inflating: /content/llms-for-image-geolocation-benchmarks/yfcc4k/yfcc4k/yfcc4k/9555377780.jpg  \n",
            "  inflating: /content/llms-for-image-geolocation-benchmarks/yfcc4k/yfcc4k/yfcc4k/9560329818.jpg  \n",
            "  inflating: /content/llms-for-image-geolocation-benchmarks/yfcc4k/yfcc4k/yfcc4k/9566573973.jpg  \n",
            "  inflating: /content/llms-for-image-geolocation-benchmarks/yfcc4k/yfcc4k/yfcc4k/9567791561.jpg  \n",
            "  inflating: /content/llms-for-image-geolocation-benchmarks/yfcc4k/yfcc4k/yfcc4k/9568347825.jpg  \n",
            "  inflating: /content/llms-for-image-geolocation-benchmarks/yfcc4k/yfcc4k/yfcc4k/9572384402.jpg  \n",
            "  inflating: /content/llms-for-image-geolocation-benchmarks/yfcc4k/yfcc4k/yfcc4k/9573856661.jpg  \n",
            "  inflating: /content/llms-for-image-geolocation-benchmarks/yfcc4k/yfcc4k/yfcc4k/9575731527.jpg  \n",
            "  inflating: /content/llms-for-image-geolocation-benchmarks/yfcc4k/yfcc4k/yfcc4k/9580401173.jpg  \n",
            "  inflating: /content/llms-for-image-geolocation-benchmarks/yfcc4k/yfcc4k/yfcc4k/9583739509.jpg  \n",
            "  inflating: /content/llms-for-image-geolocation-benchmarks/yfcc4k/yfcc4k/yfcc4k/9587770630.jpg  \n",
            "  inflating: /content/llms-for-image-geolocation-benchmarks/yfcc4k/yfcc4k/yfcc4k/9588963220.jpg  \n",
            "  inflating: /content/llms-for-image-geolocation-benchmarks/yfcc4k/yfcc4k/yfcc4k/9590206803.jpg  \n",
            "  inflating: /content/llms-for-image-geolocation-benchmarks/yfcc4k/yfcc4k/yfcc4k/9590889114.jpg  \n",
            "  inflating: /content/llms-for-image-geolocation-benchmarks/yfcc4k/yfcc4k/yfcc4k/9590972074.jpg  \n",
            "  inflating: /content/llms-for-image-geolocation-benchmarks/yfcc4k/yfcc4k/yfcc4k/9591354081.jpg  \n",
            "  inflating: /content/llms-for-image-geolocation-benchmarks/yfcc4k/yfcc4k/yfcc4k/959276023.jpg  \n",
            "  inflating: /content/llms-for-image-geolocation-benchmarks/yfcc4k/yfcc4k/yfcc4k/9593590540.jpg  \n",
            "  inflating: /content/llms-for-image-geolocation-benchmarks/yfcc4k/yfcc4k/yfcc4k/9593754576.jpg  \n",
            "  inflating: /content/llms-for-image-geolocation-benchmarks/yfcc4k/yfcc4k/yfcc4k/9595289368.jpg  \n",
            "  inflating: /content/llms-for-image-geolocation-benchmarks/yfcc4k/yfcc4k/yfcc4k/9605399483.jpg  \n",
            "  inflating: /content/llms-for-image-geolocation-benchmarks/yfcc4k/yfcc4k/yfcc4k/9607789163.jpg  \n",
            "  inflating: /content/llms-for-image-geolocation-benchmarks/yfcc4k/yfcc4k/yfcc4k/9609037868.jpg  \n",
            "  inflating: /content/llms-for-image-geolocation-benchmarks/yfcc4k/yfcc4k/yfcc4k/9609250337.jpg  \n",
            "  inflating: /content/llms-for-image-geolocation-benchmarks/yfcc4k/yfcc4k/yfcc4k/9611629663.jpg  \n",
            "  inflating: /content/llms-for-image-geolocation-benchmarks/yfcc4k/yfcc4k/yfcc4k/9613242707.jpg  \n",
            "  inflating: /content/llms-for-image-geolocation-benchmarks/yfcc4k/yfcc4k/yfcc4k/9613743206.jpg  \n",
            "  inflating: /content/llms-for-image-geolocation-benchmarks/yfcc4k/yfcc4k/yfcc4k/9614929180.jpg  \n",
            "  inflating: /content/llms-for-image-geolocation-benchmarks/yfcc4k/yfcc4k/yfcc4k/9625138420.jpg  \n",
            "  inflating: /content/llms-for-image-geolocation-benchmarks/yfcc4k/yfcc4k/yfcc4k/9634081483.jpg  \n",
            "  inflating: /content/llms-for-image-geolocation-benchmarks/yfcc4k/yfcc4k/yfcc4k/9635370913.jpg  \n",
            "  inflating: /content/llms-for-image-geolocation-benchmarks/yfcc4k/yfcc4k/yfcc4k/9635395807.jpg  \n",
            "  inflating: /content/llms-for-image-geolocation-benchmarks/yfcc4k/yfcc4k/yfcc4k/9636767285.jpg  \n",
            "  inflating: /content/llms-for-image-geolocation-benchmarks/yfcc4k/yfcc4k/yfcc4k/9639091362.jpg  \n",
            "  inflating: /content/llms-for-image-geolocation-benchmarks/yfcc4k/yfcc4k/yfcc4k/9642815165.jpg  \n",
            "  inflating: /content/llms-for-image-geolocation-benchmarks/yfcc4k/yfcc4k/yfcc4k/9643693889.jpg  \n",
            "  inflating: /content/llms-for-image-geolocation-benchmarks/yfcc4k/yfcc4k/yfcc4k/9646104996.jpg  \n",
            "  inflating: /content/llms-for-image-geolocation-benchmarks/yfcc4k/yfcc4k/yfcc4k/9647023064.jpg  \n",
            "  inflating: /content/llms-for-image-geolocation-benchmarks/yfcc4k/yfcc4k/yfcc4k/9648774259.jpg  \n",
            "  inflating: /content/llms-for-image-geolocation-benchmarks/yfcc4k/yfcc4k/yfcc4k/9652885426.jpg  \n",
            "  inflating: /content/llms-for-image-geolocation-benchmarks/yfcc4k/yfcc4k/yfcc4k/9653287226.jpg  \n",
            "  inflating: /content/llms-for-image-geolocation-benchmarks/yfcc4k/yfcc4k/yfcc4k/9653504483.jpg  \n",
            "  inflating: /content/llms-for-image-geolocation-benchmarks/yfcc4k/yfcc4k/yfcc4k/9653512731.jpg  \n",
            "  inflating: /content/llms-for-image-geolocation-benchmarks/yfcc4k/yfcc4k/yfcc4k/9655100677.jpg  \n",
            "  inflating: /content/llms-for-image-geolocation-benchmarks/yfcc4k/yfcc4k/yfcc4k/9657467218.jpg  \n",
            "  inflating: /content/llms-for-image-geolocation-benchmarks/yfcc4k/yfcc4k/yfcc4k/9661630328.jpg  \n",
            "  inflating: /content/llms-for-image-geolocation-benchmarks/yfcc4k/yfcc4k/yfcc4k/9670095621.jpg  \n",
            "  inflating: /content/llms-for-image-geolocation-benchmarks/yfcc4k/yfcc4k/yfcc4k/9674376669.jpg  \n",
            "  inflating: /content/llms-for-image-geolocation-benchmarks/yfcc4k/yfcc4k/yfcc4k/9674609367.jpg  \n",
            "  inflating: /content/llms-for-image-geolocation-benchmarks/yfcc4k/yfcc4k/yfcc4k/9679862967.jpg  \n",
            "  inflating: /content/llms-for-image-geolocation-benchmarks/yfcc4k/yfcc4k/yfcc4k/9684269405.jpg  \n",
            "  inflating: /content/llms-for-image-geolocation-benchmarks/yfcc4k/yfcc4k/yfcc4k/9695049517.jpg  \n",
            "  inflating: /content/llms-for-image-geolocation-benchmarks/yfcc4k/yfcc4k/yfcc4k/9701126034.jpg  \n",
            "  inflating: /content/llms-for-image-geolocation-benchmarks/yfcc4k/yfcc4k/yfcc4k/9701365927.jpg  \n",
            "  inflating: /content/llms-for-image-geolocation-benchmarks/yfcc4k/yfcc4k/yfcc4k/9701536290.jpg  \n",
            "  inflating: /content/llms-for-image-geolocation-benchmarks/yfcc4k/yfcc4k/yfcc4k/9709288862.jpg  \n",
            "  inflating: /content/llms-for-image-geolocation-benchmarks/yfcc4k/yfcc4k/yfcc4k/9711103027.jpg  \n",
            "  inflating: /content/llms-for-image-geolocation-benchmarks/yfcc4k/yfcc4k/yfcc4k/9714247071.jpg  \n",
            "  inflating: /content/llms-for-image-geolocation-benchmarks/yfcc4k/yfcc4k/yfcc4k/9714803911.jpg  \n",
            "  inflating: /content/llms-for-image-geolocation-benchmarks/yfcc4k/yfcc4k/yfcc4k/9720611328.jpg  \n",
            "  inflating: /content/llms-for-image-geolocation-benchmarks/yfcc4k/yfcc4k/yfcc4k/9731879617.jpg  \n",
            "  inflating: /content/llms-for-image-geolocation-benchmarks/yfcc4k/yfcc4k/yfcc4k/9733399100.jpg  \n",
            "  inflating: /content/llms-for-image-geolocation-benchmarks/yfcc4k/yfcc4k/yfcc4k/9735090743.jpg  \n",
            "  inflating: /content/llms-for-image-geolocation-benchmarks/yfcc4k/yfcc4k/yfcc4k/9740533650.jpg  \n",
            "  inflating: /content/llms-for-image-geolocation-benchmarks/yfcc4k/yfcc4k/yfcc4k/9743882380.jpg  \n",
            "  inflating: /content/llms-for-image-geolocation-benchmarks/yfcc4k/yfcc4k/yfcc4k/97512700.jpg  \n",
            "  inflating: /content/llms-for-image-geolocation-benchmarks/yfcc4k/yfcc4k/yfcc4k/9757136204.jpg  \n",
            "  inflating: /content/llms-for-image-geolocation-benchmarks/yfcc4k/yfcc4k/yfcc4k/9767816985.jpg  \n",
            "  inflating: /content/llms-for-image-geolocation-benchmarks/yfcc4k/yfcc4k/yfcc4k/9772109366.jpg  \n",
            "  inflating: /content/llms-for-image-geolocation-benchmarks/yfcc4k/yfcc4k/yfcc4k/9784021071.jpg  \n",
            "  inflating: /content/llms-for-image-geolocation-benchmarks/yfcc4k/yfcc4k/yfcc4k/9784892402.jpg  \n",
            "  inflating: /content/llms-for-image-geolocation-benchmarks/yfcc4k/yfcc4k/yfcc4k/9790604816.jpg  \n",
            "  inflating: /content/llms-for-image-geolocation-benchmarks/yfcc4k/yfcc4k/yfcc4k/9795977174.jpg  \n",
            "  inflating: /content/llms-for-image-geolocation-benchmarks/yfcc4k/yfcc4k/yfcc4k/9813381076.jpg  \n",
            "  inflating: /content/llms-for-image-geolocation-benchmarks/yfcc4k/yfcc4k/yfcc4k/9818093414.jpg  \n",
            "  inflating: /content/llms-for-image-geolocation-benchmarks/yfcc4k/yfcc4k/yfcc4k/9820270706.jpg  \n",
            "  inflating: /content/llms-for-image-geolocation-benchmarks/yfcc4k/yfcc4k/yfcc4k/9835842583.jpg  \n",
            "  inflating: /content/llms-for-image-geolocation-benchmarks/yfcc4k/yfcc4k/yfcc4k/9843386083.jpg  \n",
            "  inflating: /content/llms-for-image-geolocation-benchmarks/yfcc4k/yfcc4k/yfcc4k/9846902785.jpg  \n",
            "  inflating: /content/llms-for-image-geolocation-benchmarks/yfcc4k/yfcc4k/yfcc4k/9854548466.jpg  \n",
            "  inflating: /content/llms-for-image-geolocation-benchmarks/yfcc4k/yfcc4k/yfcc4k/9875667923.jpg  \n",
            "  inflating: /content/llms-for-image-geolocation-benchmarks/yfcc4k/yfcc4k/yfcc4k/9880081374.jpg  \n",
            "  inflating: /content/llms-for-image-geolocation-benchmarks/yfcc4k/yfcc4k/yfcc4k/9883370886.jpg  \n",
            "  inflating: /content/llms-for-image-geolocation-benchmarks/yfcc4k/yfcc4k/yfcc4k/9901727943.jpg  \n",
            "  inflating: /content/llms-for-image-geolocation-benchmarks/yfcc4k/yfcc4k/yfcc4k/99177393.jpg  \n",
            "  inflating: /content/llms-for-image-geolocation-benchmarks/yfcc4k/yfcc4k/yfcc4k/992112800.jpg  \n",
            "  inflating: /content/llms-for-image-geolocation-benchmarks/yfcc4k/yfcc4k/yfcc4k/99242224.jpg  \n",
            "  inflating: /content/llms-for-image-geolocation-benchmarks/yfcc4k/yfcc4k/yfcc4k/9929835484.jpg  \n",
            "  inflating: /content/llms-for-image-geolocation-benchmarks/yfcc4k/yfcc4k/yfcc4k/9934780606.jpg  \n",
            "  inflating: /content/llms-for-image-geolocation-benchmarks/yfcc4k/yfcc4k/yfcc4k/9935785396.jpg  \n",
            "  inflating: /content/llms-for-image-geolocation-benchmarks/yfcc4k/yfcc4k/yfcc4k/9948626195.jpg  \n",
            "  inflating: /content/llms-for-image-geolocation-benchmarks/yfcc4k/yfcc4k/yfcc4k/9959490804.jpg  \n",
            "  inflating: /content/llms-for-image-geolocation-benchmarks/yfcc4k/yfcc4k/yfcc4k/9968557793.jpg  \n",
            "  inflating: /content/llms-for-image-geolocation-benchmarks/yfcc4k/yfcc4k/yfcc4k/9969602344.jpg  \n",
            "  inflating: /content/llms-for-image-geolocation-benchmarks/yfcc4k/yfcc4k/yfcc4k/9983784356.jpg  \n",
            "  inflating: /content/llms-for-image-geolocation-benchmarks/yfcc4k/yfcc4k/yfcc4k/9991199243.jpg  \n",
            "  inflating: /content/llms-for-image-geolocation-benchmarks/yfcc4k/yfcc4k/yfcc4k/9993854704.jpg  \n",
            "  inflating: /content/llms-for-image-geolocation-benchmarks/yfcc4k/yfcc4k/yfcc4k/9996184886.jpg  \n"
          ]
        }
      ]
    },
    {
      "cell_type": "code",
      "source": [
        "pip install geoclip"
      ],
      "metadata": {
        "colab": {
          "base_uri": "https://localhost:8080/"
        },
        "id": "hLAagC2ux96t",
        "outputId": "e92fbf81-5578-4f19-c092-e7521d9b2123"
      },
      "execution_count": 5,
      "outputs": [
        {
          "output_type": "stream",
          "name": "stdout",
          "text": [
            "Collecting geoclip\n",
            "  Downloading geoclip-1.2.0-py3-none-any.whl.metadata (5.8 kB)\n",
            "Requirement already satisfied: torch in /usr/local/lib/python3.10/dist-packages (from geoclip) (2.3.1+cu121)\n",
            "Requirement already satisfied: torchvision in /usr/local/lib/python3.10/dist-packages (from geoclip) (0.18.1+cu121)\n",
            "Requirement already satisfied: Pillow in /usr/local/lib/python3.10/dist-packages (from geoclip) (9.4.0)\n",
            "Requirement already satisfied: transformers in /usr/local/lib/python3.10/dist-packages (from geoclip) (4.42.4)\n",
            "Requirement already satisfied: pandas in /usr/local/lib/python3.10/dist-packages (from geoclip) (2.1.4)\n",
            "Requirement already satisfied: numpy in /usr/local/lib/python3.10/dist-packages (from geoclip) (1.26.4)\n",
            "Requirement already satisfied: geopy in /usr/local/lib/python3.10/dist-packages (from geoclip) (2.4.1)\n",
            "Requirement already satisfied: geographiclib<3,>=1.52 in /usr/local/lib/python3.10/dist-packages (from geopy->geoclip) (2.0)\n",
            "Requirement already satisfied: python-dateutil>=2.8.2 in /usr/local/lib/python3.10/dist-packages (from pandas->geoclip) (2.8.2)\n",
            "Requirement already satisfied: pytz>=2020.1 in /usr/local/lib/python3.10/dist-packages (from pandas->geoclip) (2024.1)\n",
            "Requirement already satisfied: tzdata>=2022.1 in /usr/local/lib/python3.10/dist-packages (from pandas->geoclip) (2024.1)\n",
            "Requirement already satisfied: filelock in /usr/local/lib/python3.10/dist-packages (from torch->geoclip) (3.15.4)\n",
            "Requirement already satisfied: typing-extensions>=4.8.0 in /usr/local/lib/python3.10/dist-packages (from torch->geoclip) (4.12.2)\n",
            "Requirement already satisfied: sympy in /usr/local/lib/python3.10/dist-packages (from torch->geoclip) (1.13.1)\n",
            "Requirement already satisfied: networkx in /usr/local/lib/python3.10/dist-packages (from torch->geoclip) (3.3)\n",
            "Requirement already satisfied: jinja2 in /usr/local/lib/python3.10/dist-packages (from torch->geoclip) (3.1.4)\n",
            "Requirement already satisfied: fsspec in /usr/local/lib/python3.10/dist-packages (from torch->geoclip) (2024.6.1)\n",
            "Collecting nvidia-cuda-nvrtc-cu12==12.1.105 (from torch->geoclip)\n",
            "  Using cached nvidia_cuda_nvrtc_cu12-12.1.105-py3-none-manylinux1_x86_64.whl.metadata (1.5 kB)\n",
            "Collecting nvidia-cuda-runtime-cu12==12.1.105 (from torch->geoclip)\n",
            "  Using cached nvidia_cuda_runtime_cu12-12.1.105-py3-none-manylinux1_x86_64.whl.metadata (1.5 kB)\n",
            "Collecting nvidia-cuda-cupti-cu12==12.1.105 (from torch->geoclip)\n",
            "  Using cached nvidia_cuda_cupti_cu12-12.1.105-py3-none-manylinux1_x86_64.whl.metadata (1.6 kB)\n",
            "Collecting nvidia-cudnn-cu12==8.9.2.26 (from torch->geoclip)\n",
            "  Using cached nvidia_cudnn_cu12-8.9.2.26-py3-none-manylinux1_x86_64.whl.metadata (1.6 kB)\n",
            "Collecting nvidia-cublas-cu12==12.1.3.1 (from torch->geoclip)\n",
            "  Using cached nvidia_cublas_cu12-12.1.3.1-py3-none-manylinux1_x86_64.whl.metadata (1.5 kB)\n",
            "Collecting nvidia-cufft-cu12==11.0.2.54 (from torch->geoclip)\n",
            "  Using cached nvidia_cufft_cu12-11.0.2.54-py3-none-manylinux1_x86_64.whl.metadata (1.5 kB)\n",
            "Collecting nvidia-curand-cu12==10.3.2.106 (from torch->geoclip)\n",
            "  Using cached nvidia_curand_cu12-10.3.2.106-py3-none-manylinux1_x86_64.whl.metadata (1.5 kB)\n",
            "Collecting nvidia-cusolver-cu12==11.4.5.107 (from torch->geoclip)\n",
            "  Using cached nvidia_cusolver_cu12-11.4.5.107-py3-none-manylinux1_x86_64.whl.metadata (1.6 kB)\n",
            "Collecting nvidia-cusparse-cu12==12.1.0.106 (from torch->geoclip)\n",
            "  Using cached nvidia_cusparse_cu12-12.1.0.106-py3-none-manylinux1_x86_64.whl.metadata (1.6 kB)\n",
            "Collecting nvidia-nccl-cu12==2.20.5 (from torch->geoclip)\n",
            "  Using cached nvidia_nccl_cu12-2.20.5-py3-none-manylinux2014_x86_64.whl.metadata (1.8 kB)\n",
            "Collecting nvidia-nvtx-cu12==12.1.105 (from torch->geoclip)\n",
            "  Using cached nvidia_nvtx_cu12-12.1.105-py3-none-manylinux1_x86_64.whl.metadata (1.7 kB)\n",
            "Requirement already satisfied: triton==2.3.1 in /usr/local/lib/python3.10/dist-packages (from torch->geoclip) (2.3.1)\n",
            "Collecting nvidia-nvjitlink-cu12 (from nvidia-cusolver-cu12==11.4.5.107->torch->geoclip)\n",
            "  Downloading nvidia_nvjitlink_cu12-12.6.20-py3-none-manylinux2014_x86_64.whl.metadata (1.5 kB)\n",
            "Requirement already satisfied: huggingface-hub<1.0,>=0.23.2 in /usr/local/lib/python3.10/dist-packages (from transformers->geoclip) (0.23.5)\n",
            "Requirement already satisfied: packaging>=20.0 in /usr/local/lib/python3.10/dist-packages (from transformers->geoclip) (24.1)\n",
            "Requirement already satisfied: pyyaml>=5.1 in /usr/local/lib/python3.10/dist-packages (from transformers->geoclip) (6.0.1)\n",
            "Requirement already satisfied: regex!=2019.12.17 in /usr/local/lib/python3.10/dist-packages (from transformers->geoclip) (2024.5.15)\n",
            "Requirement already satisfied: requests in /usr/local/lib/python3.10/dist-packages (from transformers->geoclip) (2.31.0)\n",
            "Requirement already satisfied: safetensors>=0.4.1 in /usr/local/lib/python3.10/dist-packages (from transformers->geoclip) (0.4.3)\n",
            "Requirement already satisfied: tokenizers<0.20,>=0.19 in /usr/local/lib/python3.10/dist-packages (from transformers->geoclip) (0.19.1)\n",
            "Requirement already satisfied: tqdm>=4.27 in /usr/local/lib/python3.10/dist-packages (from transformers->geoclip) (4.66.4)\n",
            "Requirement already satisfied: six>=1.5 in /usr/local/lib/python3.10/dist-packages (from python-dateutil>=2.8.2->pandas->geoclip) (1.16.0)\n",
            "Requirement already satisfied: MarkupSafe>=2.0 in /usr/local/lib/python3.10/dist-packages (from jinja2->torch->geoclip) (2.1.5)\n",
            "Requirement already satisfied: charset-normalizer<4,>=2 in /usr/local/lib/python3.10/dist-packages (from requests->transformers->geoclip) (3.3.2)\n",
            "Requirement already satisfied: idna<4,>=2.5 in /usr/local/lib/python3.10/dist-packages (from requests->transformers->geoclip) (3.7)\n",
            "Requirement already satisfied: urllib3<3,>=1.21.1 in /usr/local/lib/python3.10/dist-packages (from requests->transformers->geoclip) (2.0.7)\n",
            "Requirement already satisfied: certifi>=2017.4.17 in /usr/local/lib/python3.10/dist-packages (from requests->transformers->geoclip) (2024.7.4)\n",
            "Requirement already satisfied: mpmath<1.4,>=1.1.0 in /usr/local/lib/python3.10/dist-packages (from sympy->torch->geoclip) (1.3.0)\n",
            "Downloading geoclip-1.2.0-py3-none-any.whl (40.3 MB)\n",
            "\u001b[2K   \u001b[90m━━━━━━━━━━━━━━━━━━━━━━━━━━━━━━━━━━━━━━━━\u001b[0m \u001b[32m40.3/40.3 MB\u001b[0m \u001b[31m23.7 MB/s\u001b[0m eta \u001b[36m0:00:00\u001b[0m\n",
            "\u001b[?25hUsing cached nvidia_cublas_cu12-12.1.3.1-py3-none-manylinux1_x86_64.whl (410.6 MB)\n",
            "Using cached nvidia_cuda_cupti_cu12-12.1.105-py3-none-manylinux1_x86_64.whl (14.1 MB)\n",
            "Using cached nvidia_cuda_nvrtc_cu12-12.1.105-py3-none-manylinux1_x86_64.whl (23.7 MB)\n",
            "Using cached nvidia_cuda_runtime_cu12-12.1.105-py3-none-manylinux1_x86_64.whl (823 kB)\n",
            "Using cached nvidia_cudnn_cu12-8.9.2.26-py3-none-manylinux1_x86_64.whl (731.7 MB)\n",
            "Using cached nvidia_cufft_cu12-11.0.2.54-py3-none-manylinux1_x86_64.whl (121.6 MB)\n",
            "Using cached nvidia_curand_cu12-10.3.2.106-py3-none-manylinux1_x86_64.whl (56.5 MB)\n",
            "Using cached nvidia_cusolver_cu12-11.4.5.107-py3-none-manylinux1_x86_64.whl (124.2 MB)\n",
            "Using cached nvidia_cusparse_cu12-12.1.0.106-py3-none-manylinux1_x86_64.whl (196.0 MB)\n",
            "Using cached nvidia_nccl_cu12-2.20.5-py3-none-manylinux2014_x86_64.whl (176.2 MB)\n",
            "Using cached nvidia_nvtx_cu12-12.1.105-py3-none-manylinux1_x86_64.whl (99 kB)\n",
            "Downloading nvidia_nvjitlink_cu12-12.6.20-py3-none-manylinux2014_x86_64.whl (19.7 MB)\n",
            "\u001b[2K   \u001b[90m━━━━━━━━━━━━━━━━━━━━━━━━━━━━━━━━━━━━━━━━\u001b[0m \u001b[32m19.7/19.7 MB\u001b[0m \u001b[31m13.3 MB/s\u001b[0m eta \u001b[36m0:00:00\u001b[0m\n",
            "\u001b[?25hInstalling collected packages: nvidia-nvtx-cu12, nvidia-nvjitlink-cu12, nvidia-nccl-cu12, nvidia-curand-cu12, nvidia-cufft-cu12, nvidia-cuda-runtime-cu12, nvidia-cuda-nvrtc-cu12, nvidia-cuda-cupti-cu12, nvidia-cublas-cu12, nvidia-cusparse-cu12, nvidia-cudnn-cu12, nvidia-cusolver-cu12, geoclip\n",
            "Successfully installed geoclip-1.2.0 nvidia-cublas-cu12-12.1.3.1 nvidia-cuda-cupti-cu12-12.1.105 nvidia-cuda-nvrtc-cu12-12.1.105 nvidia-cuda-runtime-cu12-12.1.105 nvidia-cudnn-cu12-8.9.2.26 nvidia-cufft-cu12-11.0.2.54 nvidia-curand-cu12-10.3.2.106 nvidia-cusolver-cu12-11.4.5.107 nvidia-cusparse-cu12-12.1.0.106 nvidia-nccl-cu12-2.20.5 nvidia-nvjitlink-cu12-12.6.20 nvidia-nvtx-cu12-12.1.105\n"
          ]
        }
      ]
    },
    {
      "cell_type": "code",
      "source": [
        "pip install -q geograpy3 gensim nltk ndg-httpsclient pyopenssl pyasn1"
      ],
      "metadata": {
        "colab": {
          "base_uri": "https://localhost:8080/"
        },
        "id": "osBOHJzJzruS",
        "outputId": "7dcea652-d945-4884-a287-c7f268ca5764"
      },
      "execution_count": 10,
      "outputs": [
        {
          "output_type": "stream",
          "name": "stdout",
          "text": [
            "  Preparing metadata (setup.py) ... \u001b[?25l\u001b[?25hdone\n",
            "  Preparing metadata (setup.py) ... \u001b[?25l\u001b[?25hdone\n",
            "\u001b[2K     \u001b[90m━━━━━━━━━━━━━━━━━━━━━━━━━━━━━━━━━━━━━━━━\u001b[0m \u001b[32m7.4/7.4 MB\u001b[0m \u001b[31m76.7 MB/s\u001b[0m eta \u001b[36m0:00:00\u001b[0m\n",
            "\u001b[?25h  Preparing metadata (setup.py) ... \u001b[?25l\u001b[?25hdone\n",
            "  Preparing metadata (setup.py) ... \u001b[?25l\u001b[?25hdone\n",
            "\u001b[2K     \u001b[90m━━━━━━━━━━━━━━━━━━━━━━━━━━━━━━━━━━━━━━━━\u001b[0m \u001b[32m50.4/50.4 kB\u001b[0m \u001b[31m3.2 MB/s\u001b[0m eta \u001b[36m0:00:00\u001b[0m\n",
            "\u001b[2K     \u001b[90m━━━━━━━━━━━━━━━━━━━━━━━━━━━━━━━━━━━━━━━━\u001b[0m \u001b[32m162.6/162.6 kB\u001b[0m \u001b[31m15.2 MB/s\u001b[0m eta \u001b[36m0:00:00\u001b[0m\n",
            "\u001b[?25h  Preparing metadata (setup.py) ... \u001b[?25l\u001b[?25hdone\n",
            "  Preparing metadata (setup.py) ... \u001b[?25l\u001b[?25hdone\n",
            "\u001b[2K   \u001b[90m━━━━━━━━━━━━━━━━━━━━━━━━━━━━━━━━━━━━━━━━\u001b[0m \u001b[32m211.1/211.1 kB\u001b[0m \u001b[31m18.9 MB/s\u001b[0m eta \u001b[36m0:00:00\u001b[0m\n",
            "\u001b[2K   \u001b[90m━━━━━━━━━━━━━━━━━━━━━━━━━━━━━━━━━━━━━━━━\u001b[0m \u001b[32m86.4/86.4 kB\u001b[0m \u001b[31m8.7 MB/s\u001b[0m eta \u001b[36m0:00:00\u001b[0m\n",
            "\u001b[2K   \u001b[90m━━━━━━━━━━━━━━━━━━━━━━━━━━━━━━━━━━━━━━━━\u001b[0m \u001b[32m2.8/2.8 MB\u001b[0m \u001b[31m58.2 MB/s\u001b[0m eta \u001b[36m0:00:00\u001b[0m\n",
            "\u001b[2K   \u001b[90m━━━━━━━━━━━━━━━━━━━━━━━━━━━━━━━━━━━━━━━━\u001b[0m \u001b[32m81.3/81.3 kB\u001b[0m \u001b[31m7.8 MB/s\u001b[0m eta \u001b[36m0:00:00\u001b[0m\n",
            "\u001b[2K   \u001b[90m━━━━━━━━━━━━━━━━━━━━━━━━━━━━━━━━━━━━━━━━\u001b[0m \u001b[32m8.3/8.3 MB\u001b[0m \u001b[31m56.0 MB/s\u001b[0m eta \u001b[36m0:00:00\u001b[0m\n",
            "\u001b[2K   \u001b[90m━━━━━━━━━━━━━━━━━━━━━━━━━━━━━━━━━━━━━━━━\u001b[0m \u001b[32m141.1/141.1 kB\u001b[0m \u001b[31m12.2 MB/s\u001b[0m eta \u001b[36m0:00:00\u001b[0m\n",
            "\u001b[2K   \u001b[90m━━━━━━━━━━━━━━━━━━━━━━━━━━━━━━━━━━━━━━━━\u001b[0m \u001b[32m121.1/121.1 kB\u001b[0m \u001b[31m10.1 MB/s\u001b[0m eta \u001b[36m0:00:00\u001b[0m\n",
            "\u001b[2K   \u001b[90m━━━━━━━━━━━━━━━━━━━━━━━━━━━━━━━━━━━━━━━━\u001b[0m \u001b[32m97.6/97.6 kB\u001b[0m \u001b[31m10.0 MB/s\u001b[0m eta \u001b[36m0:00:00\u001b[0m\n",
            "\u001b[2K   \u001b[90m━━━━━━━━━━━━━━━━━━━━━━━━━━━━━━━━━━━━━━━━\u001b[0m \u001b[32m53.6/53.6 kB\u001b[0m \u001b[31m5.2 MB/s\u001b[0m eta \u001b[36m0:00:00\u001b[0m\n",
            "\u001b[2K   \u001b[90m━━━━━━━━━━━━━━━━━━━━━━━━━━━━━━━━━━━━━━━━\u001b[0m \u001b[32m49.2/49.2 kB\u001b[0m \u001b[31m4.9 MB/s\u001b[0m eta \u001b[36m0:00:00\u001b[0m\n",
            "\u001b[2K   \u001b[90m━━━━━━━━━━━━━━━━━━━━━━━━━━━━━━━━━━━━━━━━\u001b[0m \u001b[32m531.9/531.9 kB\u001b[0m \u001b[31m29.2 MB/s\u001b[0m eta \u001b[36m0:00:00\u001b[0m\n",
            "\u001b[2K   \u001b[90m━━━━━━━━━━━━━━━━━━━━━━━━━━━━━━━━━━━━━━━━\u001b[0m \u001b[32m41.7/41.7 kB\u001b[0m \u001b[31m3.8 MB/s\u001b[0m eta \u001b[36m0:00:00\u001b[0m\n",
            "\u001b[?25h  Building wheel for tinysegmenter (setup.py) ... \u001b[?25l\u001b[?25hdone\n",
            "  Building wheel for OSMPythonTools (setup.py) ... \u001b[?25l\u001b[?25hdone\n",
            "  Building wheel for feedfinder2 (setup.py) ... \u001b[?25l\u001b[?25hdone\n",
            "  Building wheel for jieba3k (setup.py) ... \u001b[?25l\u001b[?25hdone\n",
            "  Building wheel for pylatexenc (setup.py) ... \u001b[?25l\u001b[?25hdone\n",
            "  Building wheel for sgmllib3k (setup.py) ... \u001b[?25l\u001b[?25hdone\n"
          ]
        }
      ]
    },
    {
      "cell_type": "code",
      "source": [
        "from tqdm import tqdm"
      ],
      "metadata": {
        "id": "hFTVB1oD0YRQ"
      },
      "execution_count": 11,
      "outputs": []
    },
    {
      "cell_type": "code",
      "source": [
        "import os\n",
        "import csv\n",
        "import torch\n",
        "from geoclip import GeoCLIP\n",
        "from geopy.geocoders import Nominatim\n",
        "from geopy.exc import GeocoderTimedOut\n",
        "\n",
        "model = GeoCLIP().to(\"cuda\")\n",
        "geolocator = Nominatim(user_agent=\"GEOCLIPOSINT\")\n",
        "\n",
        "folder_path = \"/content/llms-for-image-geolocation-benchmarks/yfcc4k/yfcc4k/yfcc4k\"\n",
        "output_csv = \"geoclip_predictions_yfcc.csv\"\n",
        "\n",
        "# Get a list of all image files in the folder\n",
        "image_files = [f for f in os.listdir(folder_path) if os.path.isfile(os.path.join(folder_path, f))]\n",
        "\n",
        "# Function to get address from coordinates\n",
        "def get_address(lat, lon):\n",
        "    try:\n",
        "        location = geolocator.reverse((lat, lon), language='en', zoom=8)\n",
        "        return location.address if location else \"Address not found\"\n",
        "    except GeocoderTimedOut:\n",
        "        location = geolocator.reverse((lat, lon), language='en', zoom=8)\n",
        "        return location.address if location else \"Address not found\"\n",
        "\n",
        "# Open a CSV file for writing\n",
        "with open(output_csv, mode='w', newline='') as file:\n",
        "    writer = csv.writer(file)\n",
        "    # Write the header\n",
        "    header = [\"Image\"]\n",
        "    for i in range(1, 6):\n",
        "        header.extend([f\"Prediction {i} Latitude\", f\"Prediction {i} Longitude\", f\"Prediction {i} Probability\", f\"Prediction {i} Address\"])\n",
        "    writer.writerow(header)\n",
        "\n",
        "    # Iterate through each image\n",
        "    for image_file in tqdm(image_files):\n",
        "        image_path = os.path.join(folder_path, image_file)\n",
        "\n",
        "        top_pred_gps, top_pred_prob = model.predict(image_path, top_k=5)\n",
        "\n",
        "        # Prepare a row for the current image\n",
        "        row = [image_file]\n",
        "        for i in range(5):\n",
        "            lat, lon = top_pred_gps[i]\n",
        "            lat = str(float(lat))\n",
        "            lon = str(float(lon))\n",
        "            prob = top_pred_prob[i]\n",
        "            address = get_address(lat, lon)\n",
        "            print(address)\n",
        "            row.extend([lat, lon, prob, address])\n",
        "\n",
        "        # Write the row to the CSV file\n",
        "        writer.writerow(row)\n",
        "\n",
        "print(f\"Predictions saved to {output_csv}\")\n"
      ],
      "metadata": {
        "colab": {
          "base_uri": "https://localhost:8080/"
        },
        "id": "9D-4EvqFxaiT",
        "outputId": "0c43f795-7346-48c7-b240-36bf8756d11c"
      },
      "execution_count": null,
      "outputs": [
        {
          "output_type": "stream",
          "name": "stderr",
          "text": [
            "\r  0%|          | 0/4536 [00:00<?, ?it/s]"
          ]
        },
        {
          "output_type": "stream",
          "name": "stdout",
          "text": [
            "Midlothian, Scotland, United Kingdom\n",
            "East Dunbartonshire, Scotland, United Kingdom\n",
            "County Antrim, Northern Ireland, United Kingdom\n",
            "East Dunbartonshire, Scotland, United Kingdom\n"
          ]
        },
        {
          "output_type": "stream",
          "name": "stderr",
          "text": [
            "\r  0%|          | 1/4536 [00:03<4:29:55,  3.57s/it]"
          ]
        },
        {
          "output_type": "stream",
          "name": "stdout",
          "text": [
            "East Ayrshire, Scotland, United Kingdom\n",
            "Middlesex County, Massachusetts, United States\n",
            "Middlesex County, Massachusetts, United States\n",
            "Middlesex County, Massachusetts, United States\n",
            "Middlesex County, Massachusetts, United States\n"
          ]
        },
        {
          "output_type": "stream",
          "name": "stderr",
          "text": [
            "\r  0%|          | 2/4536 [00:06<4:08:33,  3.29s/it]"
          ]
        },
        {
          "output_type": "stream",
          "name": "stdout",
          "text": [
            "Middlesex County, Massachusetts, United States\n",
            "City of Mitcham, South Australia, Australia\n",
            "Casteddu/Cagliari, Sardinia, Italy\n",
            "Casteddu/Cagliari, Sardinia, Italy\n",
            "San Bernardino County, California, United States\n"
          ]
        },
        {
          "output_type": "stream",
          "name": "stderr",
          "text": [
            "\r  0%|          | 3/4536 [00:09<3:55:24,  3.12s/it]"
          ]
        },
        {
          "output_type": "stream",
          "name": "stdout",
          "text": [
            "Distrito Cle Tala, Departamento Tala, Entre Ríos Province, Argentina\n",
            "Cardiff, Wales, CF, United Kingdom\n",
            "North Brabant, Netherlands\n",
            "Kreis Gütersloh, North Rhine-Westphalia, Germany\n",
            "Kreis Gütersloh, North Rhine-Westphalia, Germany\n"
          ]
        },
        {
          "output_type": "stream",
          "name": "stderr",
          "text": [
            "\r  0%|          | 4/4536 [00:12<3:48:20,  3.02s/it]"
          ]
        },
        {
          "output_type": "stream",
          "name": "stdout",
          "text": [
            "Kreis Mettmann, North Rhine-Westphalia, Germany\n",
            "Metropolialdea / Área Metropolitana, Navarre, Spain\n",
            "Gorbeialdea, Álava, Autonomous Community of the Basque Country, Spain\n",
            "El Paso County, Colorado, United States\n",
            "Dickinson County, Kansas, United States\n"
          ]
        },
        {
          "output_type": "stream",
          "name": "stderr",
          "text": [
            "\r  0%|          | 5/4536 [00:15<3:44:51,  2.98s/it]"
          ]
        },
        {
          "output_type": "stream",
          "name": "stdout",
          "text": [
            "Iruñerria / Comarca de Pamplona, Navarre, Spain\n",
            "City of Monash, Victoria, Australia\n",
            "Shire of Macedon Ranges, Victoria, Australia\n",
            "City of Casey, Victoria, Australia\n",
            "City of Maribyrnong, Victoria, Australia\n"
          ]
        },
        {
          "output_type": "stream",
          "name": "stderr",
          "text": [
            "\r  0%|          | 6/4536 [00:18<3:42:22,  2.95s/it]"
          ]
        },
        {
          "output_type": "stream",
          "name": "stdout",
          "text": [
            "City of Maribyrnong, Victoria, Australia\n",
            "Lee County, Alabama, United States\n",
            "Marin County, California, United States\n",
            "Napa County, California, United States\n",
            "Napa County, California, United States\n"
          ]
        },
        {
          "output_type": "stream",
          "name": "stderr",
          "text": [
            "\r  0%|          | 7/4536 [00:21<3:40:52,  2.93s/it]"
          ]
        },
        {
          "output_type": "stream",
          "name": "stdout",
          "text": [
            "County Limerick, Munster, Ireland\n",
            "Lin'an District, Hangzhou City, Zhejiang, China\n",
            "Daiyue District, Tai'an, Shandong, 271000, China\n",
            "Tunxi District, Huangshan, Anhui, 245000, China\n",
            "Huangshan District, Huangshan, Anhui, 242700, China\n"
          ]
        },
        {
          "output_type": "stream",
          "name": "stderr",
          "text": [
            "\r  0%|          | 8/4536 [00:24<3:40:27,  2.92s/it]"
          ]
        },
        {
          "output_type": "stream",
          "name": "stdout",
          "text": [
            "Huangshan District, Huangshan, Anhui, 242700, China\n",
            "Bedford, England, United Kingdom\n",
            "Greater London, England, United Kingdom\n",
            "Greater London, England, United Kingdom\n",
            "Greater London, England, United Kingdom\n"
          ]
        },
        {
          "output_type": "stream",
          "name": "stderr",
          "text": [
            "\r  0%|          | 9/4536 [00:26<3:40:03,  2.92s/it]"
          ]
        },
        {
          "output_type": "stream",
          "name": "stdout",
          "text": [
            "Greater London, England, United Kingdom\n",
            "Lee County, Alabama, United States\n",
            "Marin County, California, United States\n",
            "Napa County, California, United States\n",
            "Napa County, California, United States\n"
          ]
        },
        {
          "output_type": "stream",
          "name": "stderr",
          "text": [
            "\r  0%|          | 10/4536 [00:29<3:39:35,  2.91s/it]"
          ]
        },
        {
          "output_type": "stream",
          "name": "stdout",
          "text": [
            "County Limerick, Munster, Ireland\n",
            "Broward County, Florida, United States\n",
            "Santarém, Portugal\n",
            "Sullivan County, New York, United States\n",
            "Broward County, Florida, United States\n"
          ]
        },
        {
          "output_type": "stream",
          "name": "stderr",
          "text": [
            "\r  0%|          | 11/4536 [00:32<3:38:59,  2.90s/it]"
          ]
        },
        {
          "output_type": "stream",
          "name": "stdout",
          "text": [
            "Broward County, Florida, United States\n",
            "Wales, United Kingdom\n",
            "Pembrokeshire, Wales, United Kingdom\n",
            "Devon, England, United Kingdom\n",
            "England, United Kingdom\n"
          ]
        },
        {
          "output_type": "stream",
          "name": "stderr",
          "text": [
            "\r  0%|          | 12/4536 [00:35<3:38:57,  2.90s/it]"
          ]
        },
        {
          "output_type": "stream",
          "name": "stdout",
          "text": [
            "Cornwall, England, United Kingdom\n",
            "Lin'an District, Hangzhou City, Zhejiang, China\n",
            "Pest, Central Hungary, Hungary\n",
            "City of Zagreb, Croatia\n",
            "District of Bratislava V, Bratislava, Region of Bratislava, Slovakia\n"
          ]
        },
        {
          "output_type": "stream",
          "name": "stderr",
          "text": [
            "\r  0%|          | 13/4536 [00:38<3:38:35,  2.90s/it]"
          ]
        },
        {
          "output_type": "stream",
          "name": "stdout",
          "text": [
            "Bryansk, Bryansk Oblast, Central Federal District, Russia\n",
            "Maricopa County, Arizona, United States\n",
            "Maricopa County, Arizona, United States\n",
            "Maricopa County, Arizona, United States\n",
            "Maricopa County, Arizona, United States\n"
          ]
        },
        {
          "output_type": "stream",
          "name": "stderr",
          "text": [
            "\r  0%|          | 14/4536 [00:41<3:38:17,  2.90s/it]"
          ]
        },
        {
          "output_type": "stream",
          "name": "stdout",
          "text": [
            "Maricopa County, Arizona, United States\n",
            "East Lothian, Scotland, United Kingdom\n",
            "East Lothian, Scotland, United Kingdom\n",
            "East Lothian, Scotland, United Kingdom\n",
            "East Lothian, Scotland, United Kingdom\n"
          ]
        },
        {
          "output_type": "stream",
          "name": "stderr",
          "text": [
            "\r  0%|          | 15/4536 [00:44<3:39:02,  2.91s/it]"
          ]
        },
        {
          "output_type": "stream",
          "name": "stdout",
          "text": [
            "South Yorkshire, England, United Kingdom\n",
            "Lee County, Alabama, United States\n",
            "Marin County, California, United States\n",
            "Napa County, California, United States\n",
            "Napa County, California, United States\n"
          ]
        },
        {
          "output_type": "stream",
          "name": "stderr",
          "text": [
            "\r  0%|          | 16/4536 [00:47<3:38:42,  2.90s/it]"
          ]
        },
        {
          "output_type": "stream",
          "name": "stdout",
          "text": [
            "County Limerick, Munster, Ireland\n",
            "Polk County, Florida, United States\n",
            "Polk County, Florida, United States\n",
            "Pinellas County, Florida, United States\n",
            "Broward County, Florida, United States\n"
          ]
        },
        {
          "output_type": "stream",
          "name": "stderr",
          "text": [
            "\r  0%|          | 17/4536 [00:50<3:48:01,  3.03s/it]"
          ]
        },
        {
          "output_type": "stream",
          "name": "stdout",
          "text": [
            "Broward County, Florida, United States\n",
            "Alachua County, Florida, United States\n",
            "Alachua County, Florida, United States\n",
            "Randolph County, Illinois, United States\n",
            "Grimes County, Texas, United States\n"
          ]
        },
        {
          "output_type": "stream",
          "name": "stderr",
          "text": [
            "\r  0%|          | 18/4536 [00:53<3:44:57,  2.99s/it]"
          ]
        },
        {
          "output_type": "stream",
          "name": "stdout",
          "text": [
            "Alachua County, Florida, United States\n",
            "New Kent County, Virginia, United States\n",
            "New Kent County, Virginia, United States\n"
          ]
        },
        {
          "output_type": "stream",
          "name": "stderr",
          "text": [
            "WARNING:urllib3.connectionpool:Retrying (Retry(total=1, connect=None, read=None, redirect=None, status=None)) after connection broken by 'ReadTimeoutError(\"HTTPSConnectionPool(host='nominatim.openstreetmap.org', port=443): Read timed out. (read timeout=1)\")': /reverse?lat=35.7962532043457&lon=-79.30736541748047&format=json&accept-language=en&addressdetails=1&zoom=8\n"
          ]
        },
        {
          "output_type": "stream",
          "name": "stdout",
          "text": [
            "Chatham County, North Carolina, United States\n",
            "Blekinge County, Sweden\n"
          ]
        },
        {
          "output_type": "stream",
          "name": "stderr",
          "text": [
            "\r  0%|          | 19/4536 [00:57<4:08:58,  3.31s/it]"
          ]
        },
        {
          "output_type": "stream",
          "name": "stdout",
          "text": [
            "Blekinge County, Sweden\n",
            "Seneca County, New York, United States\n",
            "Onondaga County, New York, United States\n",
            "Onondaga County, New York, United States\n",
            "Seneca County, New York, United States\n"
          ]
        },
        {
          "output_type": "stream",
          "name": "stderr",
          "text": [
            "\r  0%|          | 20/4536 [01:00<4:00:00,  3.19s/it]"
          ]
        },
        {
          "output_type": "stream",
          "name": "stdout",
          "text": [
            "Yates County, New York, United States\n",
            "Napoli, Campania, Italy\n",
            "Napoli, Campania, Italy\n",
            "Napoli, Campania, Italy\n",
            "Napoli, Campania, Italy\n"
          ]
        },
        {
          "output_type": "stream",
          "name": "stderr",
          "text": [
            "\r  0%|          | 21/4536 [01:03<3:53:15,  3.10s/it]"
          ]
        },
        {
          "output_type": "stream",
          "name": "stdout",
          "text": [
            "Napoli, Campania, Italy\n",
            "Municipio de Puebla, Puebla, Mexico\n",
            "Address not found\n",
            "Maui County, Hawaii, United States\n",
            "Honolulu County, Hawaii, United States\n"
          ]
        },
        {
          "output_type": "stream",
          "name": "stderr",
          "text": [
            "\r  0%|          | 22/4536 [01:06<3:48:52,  3.04s/it]"
          ]
        },
        {
          "output_type": "stream",
          "name": "stdout",
          "text": [
            "Maui County, Hawaii, United States\n",
            "Segovia, Castile and León, Spain\n",
            "Poznan, Greater Poland Voivodeship, Poland\n",
            "Montejurra, Navarre, Spain\n",
            "Community of Madrid, Spain\n"
          ]
        },
        {
          "output_type": "stream",
          "name": "stderr",
          "text": [
            "\r  1%|          | 23/4536 [01:09<3:48:03,  3.03s/it]"
          ]
        },
        {
          "output_type": "stream",
          "name": "stdout",
          "text": [
            "Community of Madrid, Spain\n",
            "la Costera, Valencia, Valencian Community, Spain\n",
            "la Costera, Valencia, Valencian Community, Spain\n",
            "Região Geográfica Intermediária de Maringá, Paraná, South Region, Brazil\n",
            "Região Geográfica Intermediária de Maringá, Paraná, South Region, Brazil\n"
          ]
        },
        {
          "output_type": "stream",
          "name": "stderr",
          "text": [
            "\r  1%|          | 24/4536 [01:12<3:44:53,  2.99s/it]"
          ]
        },
        {
          "output_type": "stream",
          "name": "stdout",
          "text": [
            "la Costera, Valencia, Valencian Community, Spain\n",
            "Kingston upon Hull, England, United Kingdom\n",
            "Kingston upon Hull, England, United Kingdom\n",
            "Cardiff, Wales, CF, United Kingdom\n",
            "Borough of Wokingham, England, United Kingdom\n"
          ]
        },
        {
          "output_type": "stream",
          "name": "stderr",
          "text": [
            "\r  1%|          | 25/4536 [01:15<3:42:40,  2.96s/it]"
          ]
        },
        {
          "output_type": "stream",
          "name": "stdout",
          "text": [
            "Suffolk, England, United Kingdom\n",
            "Osaka Prefecture, Japan\n",
            "Osaka Prefecture, Japan\n",
            "Osaka Prefecture, Japan\n",
            "Osaka Prefecture, Japan\n"
          ]
        },
        {
          "output_type": "stream",
          "name": "stderr",
          "text": [
            "\r  1%|          | 26/4536 [01:17<3:41:30,  2.95s/it]"
          ]
        },
        {
          "output_type": "stream",
          "name": "stdout",
          "text": [
            "Osaka Prefecture, Japan\n",
            "County Cork, Munster, Ireland\n",
            "North Yorkshire, England, United Kingdom\n",
            "West Northamptonshire, England, United Kingdom\n",
            "Buckinghamshire, England, United Kingdom\n"
          ]
        },
        {
          "output_type": "stream",
          "name": "stderr",
          "text": [
            "\r  1%|          | 27/4536 [01:20<3:41:55,  2.95s/it]"
          ]
        },
        {
          "output_type": "stream",
          "name": "stdout",
          "text": [
            "West Northamptonshire, England, United Kingdom\n",
            "Westmorland and Furness, England, United Kingdom\n",
            "Westmorland and Furness, England, United Kingdom\n",
            "Westmorland and Furness, England, United Kingdom\n",
            "Westmorland and Furness, England, United Kingdom\n"
          ]
        },
        {
          "output_type": "stream",
          "name": "stderr",
          "text": [
            "\r  1%|          | 28/4536 [01:23<3:40:30,  2.93s/it]"
          ]
        },
        {
          "output_type": "stream",
          "name": "stdout",
          "text": [
            "Westmorland and Furness, England, United Kingdom\n",
            "Heidelberg, Baden-Württemberg, Germany\n",
            "Heidelberg, Baden-Württemberg, Germany\n",
            "Heidelberg, Baden-Württemberg, Germany\n",
            "Heidelberg, Baden-Württemberg, Germany\n"
          ]
        },
        {
          "output_type": "stream",
          "name": "stderr",
          "text": [
            "\r  1%|          | 29/4536 [01:26<3:39:47,  2.93s/it]"
          ]
        },
        {
          "output_type": "stream",
          "name": "stdout",
          "text": [
            "Heidelberg, Baden-Württemberg, Germany\n",
            "Kreis Wesel, North Rhine-Westphalia, Germany\n",
            "Kreis Wesel, North Rhine-Westphalia, Germany\n",
            "Treviso, Veneto, Italy\n",
            "Łomża, Podlaskie Voivodeship, Poland\n"
          ]
        },
        {
          "output_type": "stream",
          "name": "stderr",
          "text": [
            "\r  1%|          | 30/4536 [01:29<3:39:00,  2.92s/it]"
          ]
        },
        {
          "output_type": "stream",
          "name": "stdout",
          "text": [
            "Hancock County, Indiana, United States\n",
            "La Spezia, Liguria, Italy\n",
            "Hérault, Occitania, Metropolitan France, France\n",
            "La Spezia, Liguria, Italy\n",
            "Italy\n"
          ]
        },
        {
          "output_type": "stream",
          "name": "stderr",
          "text": [
            "\r  1%|          | 31/4536 [01:32<3:40:28,  2.94s/it]"
          ]
        },
        {
          "output_type": "stream",
          "name": "stdout",
          "text": [
            "Anoia, Barcelona, Catalonia, Spain\n",
            "Seine-et-Marne, Ile-de-France, Metropolitan France, France\n",
            "Seine-et-Marne, Ile-de-France, Metropolitan France, France\n",
            "Seine-et-Marne, Ile-de-France, Metropolitan France, France\n",
            "Seine-et-Marne, Ile-de-France, Metropolitan France, France\n"
          ]
        },
        {
          "output_type": "stream",
          "name": "stderr",
          "text": [
            "\r  1%|          | 32/4536 [01:35<3:39:09,  2.92s/it]"
          ]
        },
        {
          "output_type": "stream",
          "name": "stdout",
          "text": [
            "Seine-et-Marne, Ile-de-France, Metropolitan France, France\n",
            "Łódź, Łódź Voivodeship, Poland\n",
            "Łódź, Łódź Voivodeship, Poland\n",
            "Łódź, Łódź Voivodeship, Poland\n",
            "Łódź, Łódź Voivodeship, Poland\n"
          ]
        },
        {
          "output_type": "stream",
          "name": "stderr",
          "text": [
            "\r  1%|          | 33/4536 [01:38<3:39:08,  2.92s/it]"
          ]
        },
        {
          "output_type": "stream",
          "name": "stdout",
          "text": [
            "Łódź, Łódź Voivodeship, Poland\n",
            "Hérault, Occitania, Metropolitan France, France\n",
            "Hérault, Occitania, Metropolitan France, France\n",
            "Hérault, Occitania, Metropolitan France, France\n",
            "Hérault, Occitania, Metropolitan France, France\n"
          ]
        },
        {
          "output_type": "stream",
          "name": "stderr",
          "text": [
            "\r  1%|          | 34/4536 [01:41<3:38:59,  2.92s/it]"
          ]
        },
        {
          "output_type": "stream",
          "name": "stdout",
          "text": [
            "Vaucluse, Provence-Alpes-Côte d'Azur, Metropolitan France, France\n",
            "Stratford, Ontario, Canada\n",
            "Lincoln Parish, Sunbury County, New Brunswick, Canada\n",
            "Lincoln Parish, Sunbury County, New Brunswick, Canada\n",
            "Stratford, Ontario, Canada\n"
          ]
        },
        {
          "output_type": "stream",
          "name": "stderr",
          "text": [
            "\r  1%|          | 35/4536 [01:44<3:41:10,  2.95s/it]"
          ]
        },
        {
          "output_type": "stream",
          "name": "stdout",
          "text": [
            "Toronto, Golden Horseshoe, Ontario, Canada\n",
            "Livingston County, New York, United States\n",
            "Jefferson County, Missouri, United States\n",
            "Outagamie County, Wisconsin, United States\n",
            "Monroe County, New York, United States\n"
          ]
        },
        {
          "output_type": "stream",
          "name": "stderr",
          "text": [
            "\r  1%|          | 36/4536 [01:47<3:40:36,  2.94s/it]"
          ]
        },
        {
          "output_type": "stream",
          "name": "stdout",
          "text": [
            "Lennox and Addington County, Eastern Ontario, Ontario, Canada\n",
            "Wiltshire, England, United Kingdom\n",
            "Norfolk, England, United Kingdom\n",
            "Lincolnshire, England, United Kingdom\n",
            "Lincolnshire, England, United Kingdom\n"
          ]
        },
        {
          "output_type": "stream",
          "name": "stderr",
          "text": [
            "\r  1%|          | 37/4536 [01:50<3:39:21,  2.93s/it]"
          ]
        },
        {
          "output_type": "stream",
          "name": "stdout",
          "text": [
            "Lincolnshire, England, United Kingdom\n",
            "Capital City of Prague, Prague, Czechia\n",
            "Capital City of Prague, Prague, Czechia\n",
            "Capital City of Prague, Prague, Czechia\n",
            "Capital City of Prague, Prague, Czechia\n"
          ]
        },
        {
          "output_type": "stream",
          "name": "stderr",
          "text": [
            "\r  1%|          | 38/4536 [01:53<3:38:37,  2.92s/it]"
          ]
        },
        {
          "output_type": "stream",
          "name": "stdout",
          "text": [
            "Capital City of Prague, Prague, Czechia\n",
            "Lee County, Alabama, United States\n",
            "Marin County, California, United States\n",
            "Napa County, California, United States\n",
            "Napa County, California, United States\n"
          ]
        },
        {
          "output_type": "stream",
          "name": "stderr",
          "text": [
            "\r  1%|          | 39/4536 [01:56<3:40:39,  2.94s/it]"
          ]
        },
        {
          "output_type": "stream",
          "name": "stdout",
          "text": [
            "County Limerick, Munster, Ireland\n",
            "Halle (Saale), Saxony-Anhalt, Germany\n",
            "Halle (Saale), Saxony-Anhalt, Germany\n",
            "Halle (Saale), Saxony-Anhalt, Germany\n",
            "Halle (Saale), Saxony-Anhalt, Germany\n"
          ]
        },
        {
          "output_type": "stream",
          "name": "stderr",
          "text": [
            "\r  1%|          | 40/4536 [01:59<3:42:11,  2.97s/it]"
          ]
        },
        {
          "output_type": "stream",
          "name": "stdout",
          "text": [
            "Dresden, Saxony, Germany\n",
            "Monaco\n",
            "Monaco\n",
            "Monaco\n",
            "Monaco\n"
          ]
        },
        {
          "output_type": "stream",
          "name": "stderr",
          "text": [
            "\r  1%|          | 41/4536 [02:01<3:41:47,  2.96s/it]"
          ]
        },
        {
          "output_type": "stream",
          "name": "stdout",
          "text": [
            "Monaco\n",
            "Santa Clara County, California, United States\n",
            "Metro Vancouver Regional District, British Columbia, Canada\n",
            "Metro Vancouver Regional District, British Columbia, Canada\n",
            "Metro Vancouver Regional District, British Columbia, Canada\n"
          ]
        },
        {
          "output_type": "stream",
          "name": "stderr",
          "text": [
            "\r  1%|          | 42/4536 [02:04<3:41:08,  2.95s/it]"
          ]
        },
        {
          "output_type": "stream",
          "name": "stdout",
          "text": [
            "Metro Vancouver Regional District, British Columbia, Canada\n",
            "Placer County, California, United States\n",
            "Monterey County, California, United States\n",
            "Coconino County, Arizona, United States\n",
            "Santa Fe County, New Mexico, United States\n"
          ]
        },
        {
          "output_type": "stream",
          "name": "stderr",
          "text": [
            "\r  1%|          | 43/4536 [02:07<3:41:55,  2.96s/it]"
          ]
        },
        {
          "output_type": "stream",
          "name": "stdout",
          "text": [
            "Santa Fe County, New Mexico, United States\n",
            "Gironde, Nouvelle-Aquitaine, Metropolitan France, France\n",
            "Distrito Cle Tala, Departamento Tala, Entre Ríos Province, Argentina\n",
            "Cáceres, Extremadura, Spain\n",
            "Cáceres, Extremadura, Spain\n"
          ]
        },
        {
          "output_type": "stream",
          "name": "stderr",
          "text": [
            "\r  1%|          | 44/4536 [02:10<3:40:42,  2.95s/it]"
          ]
        },
        {
          "output_type": "stream",
          "name": "stdout",
          "text": [
            "Loire-Atlantique, Pays de la Loire, Metropolitan France, France\n",
            "Sacramento County, California, United States\n",
            "Sacramento County, California, United States\n",
            "Alameda County, California, United States\n",
            "Santa Clara County, California, United States\n"
          ]
        },
        {
          "output_type": "stream",
          "name": "stderr",
          "text": [
            "\r  1%|          | 45/4536 [02:13<3:39:37,  2.93s/it]"
          ]
        },
        {
          "output_type": "stream",
          "name": "stdout",
          "text": [
            "Santa Clara County, California, United States\n",
            "Cayman Islands\n",
            "Cayman Islands\n",
            "Cayman Islands\n",
            "Cayman Islands\n"
          ]
        },
        {
          "output_type": "stream",
          "name": "stderr",
          "text": [
            "\r  1%|          | 46/4536 [02:16<3:38:55,  2.93s/it]"
          ]
        },
        {
          "output_type": "stream",
          "name": "stdout",
          "text": [
            "Bahamas\n",
            "Okinawa Prefecture, Japan\n",
            "Okinawa Prefecture, Japan\n",
            "Yaeyama, Okinawa Prefecture, Japan\n",
            "Gilbert Islands, Kiribati\n"
          ]
        },
        {
          "output_type": "stream",
          "name": "stderr",
          "text": [
            "\r  1%|          | 47/4536 [02:19<3:38:13,  2.92s/it]"
          ]
        },
        {
          "output_type": "stream",
          "name": "stdout",
          "text": [
            "Archipiélago Los Roques, Federal Dependencies, Venezuela\n",
            "Regional Unit of Central Athens, Attica, Greece\n",
            "Regional Unit of Central Athens, Attica, Greece\n",
            "Regional Unit of Central Athens, Attica, Greece\n",
            "San Diego County, California, United States\n"
          ]
        },
        {
          "output_type": "stream",
          "name": "stderr",
          "text": [
            "\r  1%|          | 48/4536 [02:22<3:38:20,  2.92s/it]"
          ]
        },
        {
          "output_type": "stream",
          "name": "stdout",
          "text": [
            "Los Angeles County, California, United States\n",
            "Comarca de la Vega de Granada, Granada, Andalusia, Spain\n",
            "Comarca de la Vega de Granada, Granada, Andalusia, Spain\n",
            "Comarca de la Vega de Granada, Granada, Andalusia, Spain\n",
            "Comarca de la Vega de Granada, Granada, Andalusia, Spain\n"
          ]
        },
        {
          "output_type": "stream",
          "name": "stderr",
          "text": [
            "\r  1%|          | 49/4536 [02:25<3:38:52,  2.93s/it]"
          ]
        },
        {
          "output_type": "stream",
          "name": "stdout",
          "text": [
            "Comarca de la Vega de Granada, Granada, Andalusia, Spain\n",
            "Shelby County, West Tennessee, Tennessee, United States\n",
            "Pike County, Illinois, United States\n",
            "Jefferson County, Missouri, United States\n",
            "Champaign County, Illinois, United States\n"
          ]
        },
        {
          "output_type": "stream",
          "name": "stderr",
          "text": [
            "\r  1%|          | 50/4536 [02:28<3:38:08,  2.92s/it]"
          ]
        },
        {
          "output_type": "stream",
          "name": "stdout",
          "text": [
            "Middlesex County, New Jersey, United States\n",
            "Sierre, Wallis, 3960, Switzerland\n",
            "South Holland, Netherlands\n",
            "Broward County, Florida, United States\n",
            "Bay County, Florida, United States\n"
          ]
        },
        {
          "output_type": "stream",
          "name": "stderr",
          "text": [
            "\r  1%|          | 51/4536 [02:31<3:37:42,  2.91s/it]"
          ]
        },
        {
          "output_type": "stream",
          "name": "stdout",
          "text": [
            "Bay County, Florida, United States\n",
            "Kern County, California, United States\n",
            "Kern County, California, United States\n",
            "San Bernardino County, California, United States\n",
            "County of Warner, Alberta, Canada\n"
          ]
        },
        {
          "output_type": "stream",
          "name": "stderr",
          "text": [
            "\r  1%|          | 52/4536 [02:34<3:37:36,  2.91s/it]"
          ]
        },
        {
          "output_type": "stream",
          "name": "stdout",
          "text": [
            "County of Warner, Alberta, Canada\n",
            "Agra, Uttar Pradesh, India\n",
            "Agra, Uttar Pradesh, India\n",
            "Agra, Uttar Pradesh, India\n",
            "Agra, Uttar Pradesh, India\n"
          ]
        },
        {
          "output_type": "stream",
          "name": "stderr",
          "text": [
            "\r  1%|          | 53/4536 [02:36<3:37:03,  2.91s/it]"
          ]
        },
        {
          "output_type": "stream",
          "name": "stdout",
          "text": [
            "Agra, Uttar Pradesh, India\n",
            "Landkreis Celle, Lower Saxony, Germany\n",
            "Central Bedfordshire, England, United Kingdom\n",
            "Central Bedfordshire, England, United Kingdom\n",
            "Central Bedfordshire, England, United Kingdom\n"
          ]
        },
        {
          "output_type": "stream",
          "name": "stderr",
          "text": [
            "\r  1%|          | 54/4536 [02:40<3:39:40,  2.94s/it]"
          ]
        },
        {
          "output_type": "stream",
          "name": "stdout",
          "text": [
            "Hampshire, England, United Kingdom\n",
            "Westchester County, New York, United States\n",
            "Westchester County, New York, United States\n",
            "Westchester County, New York, United States\n",
            "Westchester County, New York, United States\n"
          ]
        },
        {
          "output_type": "stream",
          "name": "stderr",
          "text": [
            "\r  1%|          | 55/4536 [02:43<3:41:22,  2.96s/it]"
          ]
        },
        {
          "output_type": "stream",
          "name": "stdout",
          "text": [
            "Rockingham County, New Hampshire, United States\n",
            "Chaudière-Appalaches, Quebec, Canada\n",
            "San Diego County, California, United States\n",
            "San Diego County, California, United States\n",
            "Summit County, Ohio, United States\n"
          ]
        },
        {
          "output_type": "stream",
          "name": "stderr",
          "text": [
            "\r  1%|          | 56/4536 [02:46<3:52:15,  3.11s/it]"
          ]
        },
        {
          "output_type": "stream",
          "name": "stdout",
          "text": [
            "Summit County, Ohio, United States\n",
            "Gelderland, Netherlands\n",
            "Gelderland, Netherlands\n",
            "Gelderland, Netherlands\n",
            "Gelderland, Netherlands\n"
          ]
        },
        {
          "output_type": "stream",
          "name": "stderr",
          "text": [
            "\r  1%|▏         | 57/4536 [02:49<3:47:44,  3.05s/it]"
          ]
        },
        {
          "output_type": "stream",
          "name": "stdout",
          "text": [
            "Region Hannover, Lower Saxony, Germany\n",
            "Dhofar Governorate, Oman\n",
            "Dhofar Governorate, Oman\n",
            "Dhofar Governorate, Oman\n",
            "Dhofar Governorate, Oman\n"
          ]
        },
        {
          "output_type": "stream",
          "name": "stderr",
          "text": [
            "\r  1%|▏         | 58/4536 [02:52<3:44:19,  3.01s/it]"
          ]
        },
        {
          "output_type": "stream",
          "name": "stdout",
          "text": [
            "Campo de Gibraltar, Cádiz, Andalusia, Spain\n",
            "Kings County, New York, United States\n",
            "Kings County, New York, United States\n",
            "Kings County, New York, United States\n",
            "Kings County, New York, United States\n"
          ]
        },
        {
          "output_type": "stream",
          "name": "stderr",
          "text": [
            "\r  1%|▏         | 59/4536 [02:55<3:42:26,  2.98s/it]"
          ]
        },
        {
          "output_type": "stream",
          "name": "stdout",
          "text": [
            "Kings County, New York, United States\n",
            "Yvelines, Ile-de-France, Metropolitan France, France\n",
            "Yvelines, Ile-de-France, Metropolitan France, France\n",
            "Seine-et-Marne, Ile-de-France, Metropolitan France, France\n",
            "Yvelines, Ile-de-France, Metropolitan France, France\n"
          ]
        },
        {
          "output_type": "stream",
          "name": "stderr",
          "text": [
            "\r  1%|▏         | 60/4536 [02:58<3:42:51,  2.99s/it]"
          ]
        },
        {
          "output_type": "stream",
          "name": "stdout",
          "text": [
            "Yvelines, Ile-de-France, Metropolitan France, France\n",
            "Yeosu-si, South Jeolla, South Korea\n",
            "Yeosu-si, South Jeolla, South Korea\n",
            "Yeosu-si, South Jeolla, South Korea\n",
            "Hwaseong-si, Gyeonggi, South Korea\n"
          ]
        },
        {
          "output_type": "stream",
          "name": "stderr",
          "text": [
            "\r  1%|▏         | 61/4536 [03:01<3:40:19,  2.95s/it]"
          ]
        },
        {
          "output_type": "stream",
          "name": "stdout",
          "text": [
            "Address not found\n",
            "Ostend, West Flanders, Flanders, Belgium\n",
            "Australian Capital Territory, Australia\n",
            "Australian Capital Territory, Australia\n",
            "South Holland, Netherlands\n"
          ]
        },
        {
          "output_type": "stream",
          "name": "stderr",
          "text": [
            "\r  1%|▏         | 62/4536 [03:03<3:39:05,  2.94s/it]"
          ]
        },
        {
          "output_type": "stream",
          "name": "stdout",
          "text": [
            "North Brabant, Netherlands\n",
            "Tarragonès, Tarragona, Catalonia, Spain\n",
            "Tarragonès, Tarragona, Catalonia, Spain\n",
            "Bouches-du-Rhône, Provence-Alpes-Côte d'Azur, Metropolitan France, France\n",
            "Bouches-du-Rhône, Provence-Alpes-Côte d'Azur, Metropolitan France, France\n"
          ]
        },
        {
          "output_type": "stream",
          "name": "stderr",
          "text": [
            "\r  1%|▏         | 63/4536 [03:06<3:38:02,  2.92s/it]"
          ]
        },
        {
          "output_type": "stream",
          "name": "stdout",
          "text": [
            "Tarragonès, Tarragona, Catalonia, Spain\n",
            "North Holland, Netherlands\n",
            "North Holland, Netherlands\n",
            "North Holland, Netherlands\n",
            "North Holland, Netherlands\n"
          ]
        },
        {
          "output_type": "stream",
          "name": "stderr",
          "text": [
            "\r  1%|▏         | 64/4536 [03:09<3:39:37,  2.95s/it]"
          ]
        },
        {
          "output_type": "stream",
          "name": "stdout",
          "text": [
            "North Holland, Netherlands\n",
            "Santa Fe County, New Mexico, United States\n",
            "Santa Fe County, New Mexico, United States\n",
            "Santa Fe County, New Mexico, United States\n",
            "Santa Fe County, New Mexico, United States\n"
          ]
        },
        {
          "output_type": "stream",
          "name": "stderr",
          "text": [
            "\r  1%|▏         | 65/4536 [03:12<3:38:44,  2.94s/it]"
          ]
        },
        {
          "output_type": "stream",
          "name": "stdout",
          "text": [
            "Santa Fe County, New Mexico, United States\n",
            "Grady County, Oklahoma, United States\n",
            "Jefferson County, Missouri, United States\n",
            "Canadian County, Oklahoma, United States\n",
            "Tarrant County, Texas, United States\n"
          ]
        },
        {
          "output_type": "stream",
          "name": "stderr",
          "text": [
            "\r  1%|▏         | 66/4536 [03:15<3:38:16,  2.93s/it]"
          ]
        },
        {
          "output_type": "stream",
          "name": "stdout",
          "text": [
            "Tarrant County, Texas, United States\n",
            "Canadian County, Oklahoma, United States\n",
            "Canadian County, Oklahoma, United States\n",
            "Canadian County, Oklahoma, United States\n",
            "Walker County, Georgia, United States\n"
          ]
        },
        {
          "output_type": "stream",
          "name": "stderr",
          "text": [
            "\r  1%|▏         | 67/4536 [03:18<3:38:28,  2.93s/it]"
          ]
        },
        {
          "output_type": "stream",
          "name": "stdout",
          "text": [
            "Talladega County, Alabama, United States\n",
            "Bezirk Bucheggberg, Amtei Bucheggberg-Wasseramt, Solothurn, Switzerland\n",
            "Bezirk Bucheggberg, Amtei Bucheggberg-Wasseramt, Solothurn, Switzerland\n",
            "Surselva, Grisons, Switzerland\n",
            "Kreis Segeberg, Schleswig-Holstein, Germany\n"
          ]
        },
        {
          "output_type": "stream",
          "name": "stderr",
          "text": [
            "\r  1%|▏         | 68/4536 [03:21<3:41:04,  2.97s/it]"
          ]
        },
        {
          "output_type": "stream",
          "name": "stdout",
          "text": [
            "Bezirk Hartberg-Fürstenfeld, Styria, Austria\n",
            "Baiyun District, Guangzhou City, Guangdong Province, China\n",
            "Baiyun District, Guangzhou City, Guangdong Province, China\n",
            "Baiyun District, Guangzhou City, Guangdong Province, China\n",
            "Address not found\n"
          ]
        },
        {
          "output_type": "stream",
          "name": "stderr",
          "text": [
            "\r  2%|▏         | 69/4536 [03:24<3:39:19,  2.95s/it]"
          ]
        },
        {
          "output_type": "stream",
          "name": "stdout",
          "text": [
            "Huancui District, Weihai, Shandong, 264200, China\n",
            "Address not found\n",
            "Area B, West Bank, Palestinian Territories\n",
            "Area H1, West Bank, Palestinian Territories\n",
            "Amman Sub-District, Amman Qasabah District, Amman, Jordan\n"
          ]
        },
        {
          "output_type": "stream",
          "name": "stderr",
          "text": [
            "\r  2%|▏         | 70/4536 [03:27<3:38:29,  2.94s/it]"
          ]
        },
        {
          "output_type": "stream",
          "name": "stdout",
          "text": [
            "Amman Sub-District, Amman Qasabah District, Amman, Jordan\n",
            "Eagle County, Colorado, United States\n",
            "Eagle County, Colorado, United States\n",
            "Salt Lake County, Utah, United States\n",
            "Salt Lake County, Utah, United States\n"
          ]
        },
        {
          "output_type": "stream",
          "name": "stderr",
          "text": [
            "\r  2%|▏         | 71/4536 [03:30<3:37:57,  2.93s/it]"
          ]
        },
        {
          "output_type": "stream",
          "name": "stdout",
          "text": [
            "Salt Lake County, Utah, United States\n",
            "Orkney Islands, Scotland, United Kingdom\n",
            "Highland, Scotland, United Kingdom\n",
            "Orkney Islands, Scotland, United Kingdom\n",
            "Highland, Scotland, United Kingdom\n"
          ]
        },
        {
          "output_type": "stream",
          "name": "stderr",
          "text": [
            "\r  2%|▏         | 72/4536 [03:33<3:39:30,  2.95s/it]"
          ]
        },
        {
          "output_type": "stream",
          "name": "stdout",
          "text": [
            "Highland, Scotland, United Kingdom\n",
            "North Yorkshire, England, United Kingdom\n",
            "Rhondda Cynon Taf, Wales, United Kingdom\n",
            "West Lothian, Scotland, United Kingdom\n",
            "Isle of Anglesey, Wales, United Kingdom\n"
          ]
        },
        {
          "output_type": "stream",
          "name": "stderr",
          "text": [
            "\r  2%|▏         | 73/4536 [03:36<3:38:49,  2.94s/it]"
          ]
        },
        {
          "output_type": "stream",
          "name": "stdout",
          "text": [
            "Torbay, England, United Kingdom\n",
            "County Limerick, Munster, Ireland\n",
            "Mulshi, Pune District, Maharashtra, India\n",
            "Mulshi, Pune District, Maharashtra, India\n",
            "Mulshi, Pune District, Maharashtra, India\n"
          ]
        },
        {
          "output_type": "stream",
          "name": "stderr",
          "text": [
            "\r  2%|▏         | 74/4536 [03:39<3:37:42,  2.93s/it]"
          ]
        },
        {
          "output_type": "stream",
          "name": "stdout",
          "text": [
            "Lincolnshire, England, United Kingdom\n",
            "City of Edinburgh, Scotland, United Kingdom\n",
            "City of Edinburgh, Scotland, United Kingdom\n",
            "City of Edinburgh, Scotland, United Kingdom\n",
            "City of Edinburgh, Scotland, United Kingdom\n"
          ]
        },
        {
          "output_type": "stream",
          "name": "stderr",
          "text": [
            "\r  2%|▏         | 75/4536 [03:42<3:37:24,  2.92s/it]"
          ]
        },
        {
          "output_type": "stream",
          "name": "stdout",
          "text": [
            "City of Edinburgh, Scotland, United Kingdom\n",
            "Rufiji, Pwani Region, Coastal Zone, Tanzania\n",
            "Cumaral, Piedemonte, Meta, RAP (Especial) Central, 501021, Colombia\n",
            "Alto Paraná, Región Oriental, Paraguay\n",
            "Quijos, Napo, Ecuador\n"
          ]
        },
        {
          "output_type": "stream",
          "name": "stderr",
          "text": [
            "\r  2%|▏         | 76/4536 [03:45<3:39:35,  2.95s/it]"
          ]
        },
        {
          "output_type": "stream",
          "name": "stdout",
          "text": [
            "Quijos, Napo, Ecuador\n",
            "Gipuzkoa, Autonomous Community of the Basque Country, Spain\n",
            "Asturias, Spain\n",
            "Napoli, Campania, Italy\n",
            "Napoli, Campania, Italy\n"
          ]
        },
        {
          "output_type": "stream",
          "name": "stderr",
          "text": [
            "\r  2%|▏         | 77/4536 [03:48<3:38:22,  2.94s/it]"
          ]
        },
        {
          "output_type": "stream",
          "name": "stdout",
          "text": [
            "Vigo, Pontevedra, Galicia, Spain\n",
            "Osaka Prefecture, Japan\n",
            "Osaka Prefecture, Japan\n",
            "Tokyo, Japan\n",
            "Osaka Prefecture, Japan\n"
          ]
        },
        {
          "output_type": "stream",
          "name": "stderr",
          "text": [
            "\r  2%|▏         | 78/4536 [03:50<3:37:09,  2.92s/it]"
          ]
        },
        {
          "output_type": "stream",
          "name": "stdout",
          "text": [
            "Tokyo, Japan\n",
            "Region Hannover, Lower Saxony, Germany\n",
            "Region Hannover, Lower Saxony, Germany\n",
            "Region Hannover, Lower Saxony, Germany\n",
            "Region Hannover, Lower Saxony, Germany\n"
          ]
        },
        {
          "output_type": "stream",
          "name": "stderr",
          "text": [
            "\r  2%|▏         | 79/4536 [03:53<3:36:45,  2.92s/it]"
          ]
        },
        {
          "output_type": "stream",
          "name": "stdout",
          "text": [
            "Region Hannover, Lower Saxony, Germany\n",
            "Philadelphia County, Pennsylvania, United States\n",
            "City of Parramatta Council, New South Wales, Australia\n",
            "Philadelphia County, Pennsylvania, United States\n",
            "Clark County, Nevada, United States\n"
          ]
        },
        {
          "output_type": "stream",
          "name": "stderr",
          "text": [
            "\r  2%|▏         | 80/4536 [03:56<3:38:04,  2.94s/it]"
          ]
        },
        {
          "output_type": "stream",
          "name": "stdout",
          "text": [
            "Gelderland, Netherlands\n",
            "Wharton County, Texas, United States\n",
            "Harris County, Texas, United States\n",
            "Monroe County, Arkansas, United States\n",
            "Harris County, Texas, United States\n"
          ]
        },
        {
          "output_type": "stream",
          "name": "stderr",
          "text": [
            "\r  2%|▏         | 81/4536 [03:59<3:36:57,  2.92s/it]"
          ]
        },
        {
          "output_type": "stream",
          "name": "stdout",
          "text": [
            "Bexar County, Texas, United States\n",
            "Mönchengladbach, North Rhine-Westphalia, Germany\n",
            "Munich, Bavaria, Germany\n",
            "Munich, Bavaria, Germany\n",
            "Munich, Bavaria, Germany\n"
          ]
        },
        {
          "output_type": "stream",
          "name": "stderr",
          "text": [
            "\r  2%|▏         | 82/4536 [04:02<3:36:52,  2.92s/it]"
          ]
        },
        {
          "output_type": "stream",
          "name": "stdout",
          "text": [
            "Munich, Bavaria, Germany\n",
            "Região Geográfica Intermediária de Campinas, São Paulo, Southeast Region, Brazil\n",
            "Região Geográfica Intermediária de Campinas, São Paulo, Southeast Region, Brazil\n",
            "Região Geográfica Intermediária de Campinas, São Paulo, Southeast Region, Brazil\n",
            "Região Geográfica Intermediária de Campinas, São Paulo, Southeast Region, Brazil\n"
          ]
        },
        {
          "output_type": "stream",
          "name": "stderr",
          "text": [
            "\r  2%|▏         | 83/4536 [04:05<3:36:29,  2.92s/it]"
          ]
        },
        {
          "output_type": "stream",
          "name": "stdout",
          "text": [
            "Região Geográfica Intermediária de Itumbiara, Goiás, Central-West Region, Brazil\n",
            "City Of Kalamunda, Western Australia, Australia\n",
            "City of Johannesburg Metropolitan Municipality, Gauteng, South Africa\n",
            "City of Johannesburg Metropolitan Municipality, Gauteng, South Africa\n",
            "City of Johannesburg Metropolitan Municipality, Gauteng, South Africa\n"
          ]
        },
        {
          "output_type": "stream",
          "name": "stderr",
          "text": [
            "\r  2%|▏         | 84/4536 [04:08<3:37:45,  2.93s/it]"
          ]
        },
        {
          "output_type": "stream",
          "name": "stdout",
          "text": [
            "City of Johannesburg Metropolitan Municipality, Gauteng, South Africa\n",
            "Faiyum, Egypt\n",
            "Giza, Egypt\n",
            "Giza, Egypt\n",
            "Giza, Egypt\n"
          ]
        },
        {
          "output_type": "stream",
          "name": "stderr",
          "text": [
            "\r  2%|▏         | 85/4536 [04:11<3:36:33,  2.92s/it]"
          ]
        },
        {
          "output_type": "stream",
          "name": "stdout",
          "text": [
            "Beersheba Subdistrict, South District, Israel\n",
            "York County, Pennsylvania, United States\n",
            "York County, Pennsylvania, United States\n",
            "Montgomery County, Maryland, United States\n",
            "Prince George's County, Maryland, United States\n"
          ]
        },
        {
          "output_type": "stream",
          "name": "stderr",
          "text": [
            "\r  2%|▏         | 86/4536 [04:14<3:36:19,  2.92s/it]"
          ]
        },
        {
          "output_type": "stream",
          "name": "stdout",
          "text": [
            "Montgomery County, Maryland, United States\n",
            "Marlborough, New Zealand\n",
            "Marlborough, New Zealand\n",
            "Geneva, Switzerland\n",
            "Geneva, Switzerland\n"
          ]
        },
        {
          "output_type": "stream",
          "name": "stderr",
          "text": [
            "\r  2%|▏         | 87/4536 [04:17<3:35:53,  2.91s/it]"
          ]
        },
        {
          "output_type": "stream",
          "name": "stdout",
          "text": [
            "Algeria\n",
            "Baltimore, Maryland, United States\n",
            "Baltimore, Maryland, United States\n",
            "Halle (Saale), Saxony-Anhalt, Germany\n",
            "Baltimore, Maryland, United States\n"
          ]
        },
        {
          "output_type": "stream",
          "name": "stderr",
          "text": [
            "\r  2%|▏         | 88/4536 [04:20<3:37:03,  2.93s/it]"
          ]
        },
        {
          "output_type": "stream",
          "name": "stdout",
          "text": [
            "Baltimore, Maryland, United States\n",
            "Charente-Maritime, Nouvelle-Aquitaine, Metropolitan France, France\n",
            "Charente-Maritime, Nouvelle-Aquitaine, Metropolitan France, France\n",
            "Bouches-du-Rhône, Provence-Alpes-Côte d'Azur, Metropolitan France, France\n",
            "City of Frankston, Victoria, Australia\n"
          ]
        },
        {
          "output_type": "stream",
          "name": "stderr",
          "text": [
            "\r  2%|▏         | 89/4536 [04:23<3:36:01,  2.91s/it]"
          ]
        },
        {
          "output_type": "stream",
          "name": "stdout",
          "text": [
            "Bouches-du-Rhône, Provence-Alpes-Côte d'Azur, Metropolitan France, France\n",
            "Mfoundi, Centre, Cameroon\n",
            "Região Metropolitana do Rio de Janeiro, Região Geográfica Intermediária do Rio de Janeiro, Rio de Janeiro, Southeast Region, Brazil\n",
            "Região Metropolitana do Rio de Janeiro, Região Geográfica Intermediária do Rio de Janeiro, Rio de Janeiro, Southeast Region, Brazil\n",
            "Département d'Oussouye, Ziguinchor Region, Senegal\n"
          ]
        },
        {
          "output_type": "stream",
          "name": "stderr",
          "text": [
            "\r  2%|▏         | 90/4536 [04:26<3:36:14,  2.92s/it]"
          ]
        },
        {
          "output_type": "stream",
          "name": "stdout",
          "text": [
            "Fako, Southwest, Cameroon\n",
            "Lee County, Alabama, United States\n",
            "Hamilton County, East Tennessee, Tennessee, United States\n",
            "Mukim Gadong B, Brunei-Muara District, Brunei\n",
            "Mukim Gadong B, Brunei-Muara District, Brunei\n"
          ]
        },
        {
          "output_type": "stream",
          "name": "stderr",
          "text": [
            "\r  2%|▏         | 91/4536 [04:28<3:35:32,  2.91s/it]"
          ]
        },
        {
          "output_type": "stream",
          "name": "stdout",
          "text": [
            "Mukim Gadong B, Brunei-Muara District, Brunei\n",
            "South Corsica, Corsica, Metropolitan France, France\n",
            "South Corsica, Corsica, Metropolitan France, France\n",
            "Dubrovnik-Neretva County, Croatia\n",
            "Raiguer, Balearic Islands, Spain\n"
          ]
        },
        {
          "output_type": "stream",
          "name": "stderr",
          "text": [
            "\r  2%|▏         | 92/4536 [04:31<3:37:22,  2.93s/it]"
          ]
        },
        {
          "output_type": "stream",
          "name": "stdout",
          "text": [
            "Dubrovnik-Neretva County, Croatia\n",
            "City of Fremantle, Western Australia, Australia\n",
            "City of Fremantle, Western Australia, Australia\n",
            "City of Fremantle, Western Australia, Australia\n",
            "City of Fremantle, Western Australia, Australia\n"
          ]
        },
        {
          "output_type": "stream",
          "name": "stderr",
          "text": [
            "\r  2%|▏         | 93/4536 [04:34<3:36:22,  2.92s/it]"
          ]
        },
        {
          "output_type": "stream",
          "name": "stdout",
          "text": [
            "Yorke Peninsula Council, South Australia, Australia\n",
            "Partido de Marcos Paz, Buenos Aires, Argentina\n",
            "Partido de Marcos Paz, Buenos Aires, Argentina\n",
            "Partido de Marcos Paz, Buenos Aires, Argentina\n",
            "Sullivan County, New York, United States\n"
          ]
        },
        {
          "output_type": "stream",
          "name": "stderr",
          "text": [
            "\r  2%|▏         | 94/4536 [04:37<3:35:56,  2.92s/it]"
          ]
        },
        {
          "output_type": "stream",
          "name": "stdout",
          "text": [
            "Athens County, Ohio, United States\n",
            "Bansur Tehsil, Kotputli-Behror, Rajasthan, India\n",
            "Bidar taluku, Bidar, Karnataka, India\n",
            "Amber Tehsil, Jaipur District, Rajasthan, India\n",
            "Amber Tehsil, Jaipur District, Rajasthan, India\n"
          ]
        },
        {
          "output_type": "stream",
          "name": "stderr",
          "text": [
            "\r  2%|▏         | 95/4536 [04:40<3:35:11,  2.91s/it]"
          ]
        },
        {
          "output_type": "stream",
          "name": "stdout",
          "text": [
            "Amber Tehsil, Jaipur District, Rajasthan, India\n",
            "Una-Sana Canton, Federation of Bosnia and Herzegovina, Bosnia and Herzegovina\n",
            "Zlín Region, Central Moravia, Czechia\n",
            "Mittelsachsen, Saxony, Germany\n",
            "South Bohemian Region, Southwest, Czechia\n"
          ]
        },
        {
          "output_type": "stream",
          "name": "stderr",
          "text": [
            "\r  2%|▏         | 96/4536 [04:43<3:37:05,  2.93s/it]"
          ]
        },
        {
          "output_type": "stream",
          "name": "stdout",
          "text": [
            "Zagreb County, Croatia\n",
            "Lee County, Alabama, United States\n",
            "Marin County, California, United States\n",
            "Napa County, California, United States\n",
            "Napa County, California, United States\n"
          ]
        },
        {
          "output_type": "stream",
          "name": "stderr",
          "text": [
            "\r  2%|▏         | 97/4536 [04:46<3:36:42,  2.93s/it]"
          ]
        },
        {
          "output_type": "stream",
          "name": "stdout",
          "text": [
            "County Limerick, Munster, Ireland\n",
            "Municipio de Tlaxcala, Tlaxcala, Mexico\n",
            "Municipio de Tlaxcala, Tlaxcala, Mexico\n",
            "Cáceres, Extremadura, Spain\n",
            "Cáceres, Extremadura, Spain\n"
          ]
        },
        {
          "output_type": "stream",
          "name": "stderr",
          "text": [
            "\r  2%|▏         | 98/4536 [04:49<3:36:06,  2.92s/it]"
          ]
        },
        {
          "output_type": "stream",
          "name": "stdout",
          "text": [
            "Cáceres, Extremadura, Spain\n",
            "Division No. 12, Alberta, Canada\n",
            "Shire of East Pilbara, Western Australia, Australia\n",
            "Bernalillo County, New Mexico, United States\n",
            "Sullivan County, New York, United States\n"
          ]
        },
        {
          "output_type": "stream",
          "name": "stderr",
          "text": [
            "\r  2%|▏         | 99/4536 [04:52<3:35:38,  2.92s/it]"
          ]
        },
        {
          "output_type": "stream",
          "name": "stdout",
          "text": [
            "Town of Slave Lake, Municipal District of Lesser Slave River, Alberta, Canada\n",
            "Zeeland, Netherlands\n",
            "Faro, Portugal\n",
            "Faro, Portugal\n",
            "Barnstable County, Massachusetts, United States\n"
          ]
        },
        {
          "output_type": "stream",
          "name": "stderr",
          "text": [
            "\r  2%|▏         | 100/4536 [04:55<3:37:39,  2.94s/it]"
          ]
        },
        {
          "output_type": "stream",
          "name": "stdout",
          "text": [
            "Barnstable County, Massachusetts, United States\n",
            "Greater Manchester, England, United Kingdom\n",
            "Derbyshire, England, United Kingdom\n",
            "Derbyshire, England, United Kingdom\n",
            "Derbyshire, England, United Kingdom\n"
          ]
        },
        {
          "output_type": "stream",
          "name": "stderr",
          "text": [
            "\r  2%|▏         | 101/4536 [04:58<3:36:40,  2.93s/it]"
          ]
        },
        {
          "output_type": "stream",
          "name": "stdout",
          "text": [
            "Staffordshire, England, United Kingdom\n",
            "Storey County, Nevada, United States\n",
            "Silver Bow County, Montana, United States\n",
            "Lewis County, West Virginia, United States\n",
            "East Sussex, England, United Kingdom\n"
          ]
        },
        {
          "output_type": "stream",
          "name": "stderr",
          "text": [
            "\r  2%|▏         | 102/4536 [05:01<3:35:44,  2.92s/it]"
          ]
        },
        {
          "output_type": "stream",
          "name": "stdout",
          "text": [
            "Monongalia County, West Virginia, United States\n",
            "Ille-et-Vilaine, Brittany, Metropolitan France, France\n",
            "Orne, Normandy, Metropolitan France, France\n",
            "Hampshire, England, United Kingdom\n",
            "South Holland, Netherlands\n"
          ]
        },
        {
          "output_type": "stream",
          "name": "stderr",
          "text": [
            "\r  2%|▏         | 103/4536 [05:04<3:35:26,  2.92s/it]"
          ]
        },
        {
          "output_type": "stream",
          "name": "stdout",
          "text": [
            "Partido de Marcos Paz, Buenos Aires, Argentina\n",
            "Hampshire, England, United Kingdom\n",
            "Bath and North East Somerset, West of England, England, United Kingdom\n",
            "Devon, England, United Kingdom\n",
            "Devon, England, United Kingdom\n"
          ]
        },
        {
          "output_type": "stream",
          "name": "stderr",
          "text": [
            "\r  2%|▏         | 104/4536 [05:07<3:37:18,  2.94s/it]"
          ]
        },
        {
          "output_type": "stream",
          "name": "stdout",
          "text": [
            "Wiltshire, England, United Kingdom\n",
            "Hoan Kiem District, Hà Nội, Vietnam\n",
            "Hoan Kiem District, Hà Nội, Vietnam\n",
            "Hoan Kiem District, Hà Nội, Vietnam\n",
            "Hoan Kiem District, Hà Nội, Vietnam\n"
          ]
        },
        {
          "output_type": "stream",
          "name": "stderr",
          "text": [
            "\r  2%|▏         | 105/4536 [05:09<3:36:25,  2.93s/it]"
          ]
        },
        {
          "output_type": "stream",
          "name": "stdout",
          "text": [
            "Hoan Kiem District, Hà Nội, Vietnam\n",
            "Osaka Prefecture, Japan\n",
            "Osaka Prefecture, Japan\n",
            "Osaka Prefecture, Japan\n",
            "Osaka Prefecture, Japan\n"
          ]
        },
        {
          "output_type": "stream",
          "name": "stderr",
          "text": [
            "\r  2%|▏         | 106/4536 [05:12<3:36:13,  2.93s/it]"
          ]
        },
        {
          "output_type": "stream",
          "name": "stdout",
          "text": [
            "Osaka Prefecture, Japan\n",
            "Metro Vancouver Regional District, British Columbia, Canada\n",
            "Metro Vancouver Regional District, British Columbia, Canada\n",
            "Metro Vancouver Regional District, British Columbia, Canada\n",
            "Metro Vancouver Regional District, British Columbia, Canada\n"
          ]
        },
        {
          "output_type": "stream",
          "name": "stderr",
          "text": [
            "\r  2%|▏         | 107/4536 [05:15<3:35:10,  2.91s/it]"
          ]
        },
        {
          "output_type": "stream",
          "name": "stdout",
          "text": [
            "Metro Vancouver Regional District, British Columbia, Canada\n",
            "Muskingum County, Ohio, United States\n",
            "Division No. 12, Alberta, Canada\n",
            "Address not found\n",
            "Columbia County, Pennsylvania, United States\n"
          ]
        },
        {
          "output_type": "stream",
          "name": "stderr",
          "text": [
            "\r  2%|▏         | 108/4536 [05:18<3:36:25,  2.93s/it]"
          ]
        },
        {
          "output_type": "stream",
          "name": "stdout",
          "text": [
            "Nottinghamshire, England, United Kingdom\n",
            "Clatsop County, Oregon, United States\n",
            "Clatsop County, Oregon, United States\n",
            "Clatsop County, Oregon, United States\n",
            "Clatsop County, Oregon, United States\n"
          ]
        },
        {
          "output_type": "stream",
          "name": "stderr",
          "text": [
            "\r  2%|▏         | 109/4536 [05:21<3:37:57,  2.95s/it]"
          ]
        },
        {
          "output_type": "stream",
          "name": "stdout",
          "text": [
            "Clatsop County, Oregon, United States\n",
            "North Holland, Netherlands\n",
            "North Holland, Netherlands\n",
            "North Holland, Netherlands\n",
            "North Holland, Netherlands\n"
          ]
        },
        {
          "output_type": "stream",
          "name": "stderr",
          "text": [
            "\r  2%|▏         | 110/4536 [05:24<3:36:30,  2.94s/it]"
          ]
        },
        {
          "output_type": "stream",
          "name": "stdout",
          "text": [
            "North Holland, Netherlands\n",
            "Travis County, Texas, United States\n",
            "Travis County, Texas, United States\n",
            "Travis County, Texas, United States\n",
            "Travis County, Texas, United States\n"
          ]
        },
        {
          "output_type": "stream",
          "name": "stderr",
          "text": [
            "\r  2%|▏         | 111/4536 [05:27<3:35:32,  2.92s/it]"
          ]
        },
        {
          "output_type": "stream",
          "name": "stdout",
          "text": [
            "Travis County, Texas, United States\n",
            "Lee County, Alabama, United States\n",
            "Marin County, California, United States\n",
            "Napa County, California, United States\n",
            "Napa County, California, United States\n"
          ]
        },
        {
          "output_type": "stream",
          "name": "stderr",
          "text": [
            "\r  2%|▏         | 112/4536 [05:30<3:37:31,  2.95s/it]"
          ]
        },
        {
          "output_type": "stream",
          "name": "stdout",
          "text": [
            "County Limerick, Munster, Ireland\n",
            "Harju County, Estonia\n",
            "Harju County, Estonia\n",
            "Harju County, Estonia\n",
            "Harju County, Estonia\n"
          ]
        },
        {
          "output_type": "stream",
          "name": "stderr",
          "text": [
            "\r  2%|▏         | 113/4536 [05:33<3:36:37,  2.94s/it]"
          ]
        },
        {
          "output_type": "stream",
          "name": "stdout",
          "text": [
            "Harju County, Estonia\n",
            "Address not found\n",
            "Nagasaki Prefecture, Japan\n",
            "Nagasaki Prefecture, Japan\n",
            "Chaoyang District, Beijing, China\n"
          ]
        },
        {
          "output_type": "stream",
          "name": "stderr",
          "text": [
            "\r  3%|▎         | 114/4536 [05:36<3:35:41,  2.93s/it]"
          ]
        },
        {
          "output_type": "stream",
          "name": "stdout",
          "text": [
            "Chaoyang District, Beijing, China\n",
            "Bexar County, Texas, United States\n",
            "Walker County, Georgia, United States\n",
            "Bexar County, Texas, United States\n",
            "York County, South Carolina, United States\n"
          ]
        },
        {
          "output_type": "stream",
          "name": "stderr",
          "text": [
            "\r  3%|▎         | 115/4536 [05:39<3:35:05,  2.92s/it]"
          ]
        },
        {
          "output_type": "stream",
          "name": "stdout",
          "text": [
            "Walker County, Georgia, United States\n",
            "Nong Het District, Xiangkhouang Province, Laos\n",
            "Região Geográfica Intermediária de Manaus, Amazonas, North Region, Brazil\n",
            "Departamento Eldorado, Misiones, Argentina\n",
            "Alto Paraná, Región Oriental, Paraguay\n"
          ]
        },
        {
          "output_type": "stream",
          "name": "stderr",
          "text": [
            "\r  3%|▎         | 116/4536 [05:42<3:36:19,  2.94s/it]"
          ]
        },
        {
          "output_type": "stream",
          "name": "stdout",
          "text": [
            "Department of Paraguari, Región Oriental, Paraguay\n",
            "Alameda County, California, United States\n",
            "San Diego County, California, United States\n",
            "San Diego County, California, United States\n",
            "Los Angeles County, California, United States\n"
          ]
        },
        {
          "output_type": "stream",
          "name": "stderr",
          "text": [
            "\r  3%|▎         | 117/4536 [05:45<3:35:17,  2.92s/it]"
          ]
        },
        {
          "output_type": "stream",
          "name": "stdout",
          "text": [
            "San Bernardino County, California, United States\n",
            "Tokyo, Japan\n",
            "Tokyo, Japan\n",
            "Tokyo, Japan\n",
            "Tokyo, Japan\n"
          ]
        },
        {
          "output_type": "stream",
          "name": "stderr",
          "text": [
            "\r  3%|▎         | 118/4536 [05:47<3:35:05,  2.92s/it]"
          ]
        },
        {
          "output_type": "stream",
          "name": "stdout",
          "text": [
            "Tokyo, Japan\n",
            "San Juan County, Utah, United States\n",
            "San Juan County, Utah, United States\n",
            "San Juan County, Utah, United States\n",
            "Navajo County, Arizona, United States\n"
          ]
        },
        {
          "output_type": "stream",
          "name": "stderr",
          "text": [
            "\r  3%|▎         | 119/4536 [05:50<3:34:21,  2.91s/it]"
          ]
        },
        {
          "output_type": "stream",
          "name": "stdout",
          "text": [
            "San Juan County, Utah, United States\n",
            "Leicestershire, England, United Kingdom\n",
            "Leicestershire, England, United Kingdom\n",
            "Warwickshire, England, United Kingdom\n",
            "Warwickshire, England, United Kingdom\n"
          ]
        },
        {
          "output_type": "stream",
          "name": "stderr",
          "text": [
            "\r  3%|▎         | 120/4536 [05:53<3:35:54,  2.93s/it]"
          ]
        },
        {
          "output_type": "stream",
          "name": "stdout",
          "text": [
            "Surrey, England, United Kingdom\n",
            "Wan Chai District, Hong Kong Island, Hong Kong, China\n",
            "Wan Chai District, Hong Kong Island, Hong Kong, China\n",
            "Wan Chai District, Hong Kong Island, Hong Kong, China\n",
            "Wan Chai District, Hong Kong Island, Hong Kong, China\n"
          ]
        },
        {
          "output_type": "stream",
          "name": "stderr",
          "text": [
            "\r  3%|▎         | 121/4536 [05:56<3:35:23,  2.93s/it]"
          ]
        },
        {
          "output_type": "stream",
          "name": "stdout",
          "text": [
            "Wan Chai District, Hong Kong Island, Hong Kong, China\n",
            "Cibola County, New Mexico, United States\n",
            "Bernalillo County, New Mexico, United States\n",
            "Hidalgo County, New Mexico, United States\n",
            "Cibola County, New Mexico, United States\n"
          ]
        },
        {
          "output_type": "stream",
          "name": "stderr",
          "text": [
            "\r  3%|▎         | 122/4536 [05:59<3:34:51,  2.92s/it]"
          ]
        },
        {
          "output_type": "stream",
          "name": "stdout",
          "text": [
            "Grant County, New Mexico, United States\n",
            "Washington, District of Columbia, United States\n",
            "Washington, District of Columbia, United States\n",
            "Washington, District of Columbia, United States\n",
            "Washington, District of Columbia, United States\n"
          ]
        },
        {
          "output_type": "stream",
          "name": "stderr",
          "text": [
            "\r  3%|▎         | 123/4536 [06:02<3:34:49,  2.92s/it]"
          ]
        },
        {
          "output_type": "stream",
          "name": "stdout",
          "text": [
            "Washington, District of Columbia, United States\n",
            "Paris, Ile-de-France, Metropolitan France, France\n",
            "Paris, Ile-de-France, Metropolitan France, France\n",
            "Paris, Ile-de-France, Metropolitan France, France\n",
            "Paris, Ile-de-France, Metropolitan France, France\n"
          ]
        },
        {
          "output_type": "stream",
          "name": "stderr",
          "text": [
            "\r  3%|▎         | 124/4536 [06:05<3:35:16,  2.93s/it]"
          ]
        },
        {
          "output_type": "stream",
          "name": "stdout",
          "text": [
            "Paris, Ile-de-France, Metropolitan France, France\n",
            "Região Geográfica Intermediária de Vitória da Conquista, Bahia, Northeast Region, Brazil\n",
            "Região Metropolitana de Salvador, Região Geográfica Intermediária de Salvador, Bahia, Northeast Region, Brazil\n",
            "Região Metropolitana de Salvador, Região Geográfica Intermediária de Salvador, Bahia, Northeast Region, Brazil\n",
            "Região Geográfica Intermediária de Caruaru, Pernambuco, Northeast Region, Brazil\n"
          ]
        },
        {
          "output_type": "stream",
          "name": "stderr",
          "text": [
            "\r  3%|▎         | 125/4536 [06:08<3:34:33,  2.92s/it]"
          ]
        },
        {
          "output_type": "stream",
          "name": "stdout",
          "text": [
            "Região Geográfica Intermediária de Feira de Santana, Bahia, Northeast Region, Brazil\n",
            "Tippecanoe County, Indiana, United States\n",
            "Champaign County, Illinois, United States\n",
            "Champaign County, Illinois, United States\n",
            "Tippecanoe County, Indiana, United States\n"
          ]
        },
        {
          "output_type": "stream",
          "name": "stderr",
          "text": [
            "\r  3%|▎         | 126/4536 [06:11<3:34:30,  2.92s/it]"
          ]
        },
        {
          "output_type": "stream",
          "name": "stdout",
          "text": [
            "Champaign County, Illinois, United States\n",
            "Plaquemines Parish, Louisiana, United States\n",
            "Escambia County, Florida, United States\n",
            "Escambia County, Florida, United States\n",
            "Jefferson Parish, Louisiana, United States\n"
          ]
        },
        {
          "output_type": "stream",
          "name": "stderr",
          "text": [
            "\r  3%|▎         | 127/4536 [06:14<3:33:58,  2.91s/it]"
          ]
        },
        {
          "output_type": "stream",
          "name": "stdout",
          "text": [
            "Harris County, Texas, United States\n",
            "Randolph County, Illinois, United States\n",
            "Clay County, Missouri, United States\n",
            "Alachua County, Florida, United States\n",
            "Alachua County, Florida, United States\n"
          ]
        },
        {
          "output_type": "stream",
          "name": "stderr",
          "text": [
            "\r  3%|▎         | 128/4536 [06:17<3:33:55,  2.91s/it]"
          ]
        },
        {
          "output_type": "stream",
          "name": "stdout",
          "text": [
            "Alachua County, Florida, United States\n",
            "Dadaab, Garissa, North Eastern, Kenya\n",
            "Turkana County, Rift Valley, Kenya\n",
            "Asosa, Benishangul-Gumuz Region, Ethiopia\n",
            "Hargeisa District, Woqooyi Galbeed, Somaliland, Somalia\n"
          ]
        },
        {
          "output_type": "stream",
          "name": "stderr",
          "text": [
            "\r  3%|▎         | 129/4536 [06:20<3:33:35,  2.91s/it]"
          ]
        },
        {
          "output_type": "stream",
          "name": "stdout",
          "text": [
            "Giza, Egypt\n",
            "Kiso County, Nagano Prefecture, Chubu Region, Japan\n",
            "Kiso County, Nagano Prefecture, Chubu Region, Japan\n",
            "Soraku County, Kyoto Prefecture, Japan\n",
            "Gifu Prefecture, Chubu Region, Japan\n"
          ]
        },
        {
          "output_type": "stream",
          "name": "stderr",
          "text": [
            "\r  3%|▎         | 130/4536 [06:22<3:33:26,  2.91s/it]"
          ]
        },
        {
          "output_type": "stream",
          "name": "stdout",
          "text": [
            "Kyoto Prefecture, Japan\n",
            "Toronto, Golden Horseshoe, Ontario, Canada\n",
            "Toronto, Golden Horseshoe, Ontario, Canada\n",
            "Toronto, Golden Horseshoe, Ontario, Canada\n",
            "Toronto, Golden Horseshoe, Ontario, Canada\n"
          ]
        },
        {
          "output_type": "stream",
          "name": "stderr",
          "text": [
            "\r  3%|▎         | 131/4536 [06:25<3:32:43,  2.90s/it]"
          ]
        },
        {
          "output_type": "stream",
          "name": "stdout",
          "text": [
            "Toronto, Golden Horseshoe, Ontario, Canada\n",
            "Kreis Wesel, North Rhine-Westphalia, Germany\n",
            "Landkreis Saalfeld-Rudolstadt, Thuringia, Germany\n",
            "New Taipei, Taiwan\n",
            "South Holland, Netherlands\n"
          ]
        },
        {
          "output_type": "stream",
          "name": "stderr",
          "text": [
            "\r  3%|▎         | 132/4536 [06:28<3:32:39,  2.90s/it]"
          ]
        },
        {
          "output_type": "stream",
          "name": "stdout",
          "text": [
            "Zaporizhia Raion, Zaporizhia Oblast, Ukraine\n",
            "Fairfax County, Virginia, United States\n",
            "Fairfax County, Virginia, United States\n",
            "Fairfax County, Virginia, United States\n",
            "Montgomery County, Maryland, United States\n"
          ]
        },
        {
          "output_type": "stream",
          "name": "stderr",
          "text": [
            "\r  3%|▎         | 133/4536 [06:31<3:32:44,  2.90s/it]"
          ]
        },
        {
          "output_type": "stream",
          "name": "stdout",
          "text": [
            "Fairfax County, Virginia, United States\n",
            "Plymouth County, Massachusetts, United States\n",
            "Saint Joseph County, Indiana, United States\n",
            "Dane County, Wisconsin, United States\n",
            "Dane County, Wisconsin, United States\n"
          ]
        },
        {
          "output_type": "stream",
          "name": "stderr",
          "text": [
            "\r  3%|▎         | 134/4536 [06:34<3:32:59,  2.90s/it]"
          ]
        },
        {
          "output_type": "stream",
          "name": "stdout",
          "text": [
            "Plymouth County, Massachusetts, United States\n",
            "Volusia County, Florida, United States\n",
            "Saint Johns County, Florida, United States\n",
            "Saint Johns County, Florida, United States\n",
            "Volusia County, Florida, United States\n"
          ]
        },
        {
          "output_type": "stream",
          "name": "stderr",
          "text": [
            "\r  3%|▎         | 135/4536 [06:37<3:32:59,  2.90s/it]"
          ]
        },
        {
          "output_type": "stream",
          "name": "stdout",
          "text": [
            "Volusia County, Florida, United States\n",
            "городской округ Калуга, Kaluga Oblast, Central Federal District, Russia\n",
            "городской округ Калуга, Kaluga Oblast, Central Federal District, Russia\n",
            "городской округ Калуга, Kaluga Oblast, Central Federal District, Russia\n",
            "Vyshhorod Raion, Kyiv Oblast, Ukraine\n"
          ]
        },
        {
          "output_type": "stream",
          "name": "stderr",
          "text": [
            "\r  3%|▎         | 136/4536 [06:40<3:33:27,  2.91s/it]"
          ]
        },
        {
          "output_type": "stream",
          "name": "stdout",
          "text": [
            "городской округ Калуга, Kaluga Oblast, Central Federal District, Russia\n",
            "Middlesex County, New Jersey, United States\n",
            "Naugatuck Valley Planning Region, United States\n",
            "Saint Louis County, Missouri, United States\n",
            "Middlesex County, New Jersey, United States\n"
          ]
        },
        {
          "output_type": "stream",
          "name": "stderr",
          "text": [
            "\r  3%|▎         | 137/4536 [06:43<3:33:31,  2.91s/it]"
          ]
        },
        {
          "output_type": "stream",
          "name": "stdout",
          "text": [
            "Middlesex County, New Jersey, United States\n",
            "Lee County, Alabama, United States\n",
            "Marin County, California, United States\n",
            "Napa County, California, United States\n",
            "Napa County, California, United States\n"
          ]
        },
        {
          "output_type": "stream",
          "name": "stderr",
          "text": [
            "\r  3%|▎         | 138/4536 [06:46<3:33:12,  2.91s/it]"
          ]
        },
        {
          "output_type": "stream",
          "name": "stdout",
          "text": [
            "County Limerick, Munster, Ireland\n",
            "Address not found\n",
            "Distrito Chacras de Coria, Departamento Luján de Cuyo, Mendoza, Argentina\n",
            "Landkreis Dachau, Bavaria, Germany\n",
            "Tel Aviv Subdistrict, Tel-Aviv District, Israel\n"
          ]
        },
        {
          "output_type": "stream",
          "name": "stderr",
          "text": [
            "\r  3%|▎         | 139/4536 [06:49<3:33:11,  2.91s/it]"
          ]
        },
        {
          "output_type": "stream",
          "name": "stdout",
          "text": [
            "Tel Aviv Subdistrict, Tel-Aviv District, Israel\n",
            "Miami-Dade County, Florida, United States\n",
            "Miami-Dade County, Florida, United States\n",
            "Miami-Dade County, Florida, United States\n",
            "Miami-Dade County, Florida, United States\n"
          ]
        },
        {
          "output_type": "stream",
          "name": "stderr",
          "text": [
            "\r  3%|▎         | 140/4536 [06:51<3:32:25,  2.90s/it]"
          ]
        },
        {
          "output_type": "stream",
          "name": "stdout",
          "text": [
            "Miami-Dade County, Florida, United States\n",
            "Maricopa County, Arizona, United States\n",
            "Maricopa County, Arizona, United States\n",
            "Maricopa County, Arizona, United States\n",
            "Maricopa County, Arizona, United States\n"
          ]
        },
        {
          "output_type": "stream",
          "name": "stderr",
          "text": [
            "\r  3%|▎         | 141/4536 [06:54<3:32:40,  2.90s/it]"
          ]
        },
        {
          "output_type": "stream",
          "name": "stdout",
          "text": [
            "Maricopa County, Arizona, United States\n",
            "Ciudad Real, Castile-La Mancha, Spain\n",
            "Málaga-Costa del Sol, Malaga, Andalusia, Spain\n",
            "Segovia, Castile and León, Spain\n",
            "Community of Madrid, Spain\n"
          ]
        },
        {
          "output_type": "stream",
          "name": "stderr",
          "text": [
            "\r  3%|▎         | 142/4536 [06:57<3:32:19,  2.90s/it]"
          ]
        },
        {
          "output_type": "stream",
          "name": "stdout",
          "text": [
            "Toledo, Castile-La Mancha, Spain\n",
            "Genoa, Liguria, Italy\n",
            "Arezzo, Tuscany, Italy\n",
            "Maritime Alps, Provence-Alpes-Côte d'Azur, Metropolitan France, France\n",
            "Arezzo, Tuscany, Italy\n"
          ]
        },
        {
          "output_type": "stream",
          "name": "stderr",
          "text": [
            "\r  3%|▎         | 143/4536 [07:00<3:32:21,  2.90s/it]"
          ]
        },
        {
          "output_type": "stream",
          "name": "stdout",
          "text": [
            "Genoa, Liguria, Italy\n",
            "Cook County, Illinois, United States\n",
            "Cook County, Illinois, United States\n",
            "DuPage County, Illinois, United States\n",
            "Region of Waterloo, Ontario, Canada\n"
          ]
        },
        {
          "output_type": "stream",
          "name": "stderr",
          "text": [
            "\r  3%|▎         | 144/4536 [07:03<3:32:32,  2.90s/it]"
          ]
        },
        {
          "output_type": "stream",
          "name": "stdout",
          "text": [
            "Cook County, Illinois, United States\n",
            "Greater London, England, United Kingdom\n",
            "Greater London, England, United Kingdom\n",
            "Greater London, England, United Kingdom\n",
            "Greater London, England, United Kingdom\n"
          ]
        },
        {
          "output_type": "stream",
          "name": "stderr",
          "text": [
            "\r  3%|▎         | 145/4536 [07:06<3:32:51,  2.91s/it]"
          ]
        },
        {
          "output_type": "stream",
          "name": "stdout",
          "text": [
            "Greater London, England, United Kingdom\n",
            "New Castle County, Delaware, United States\n",
            "Humboldt County, California, United States\n",
            "Humboldt County, California, United States\n",
            "Humboldt County, California, United States\n"
          ]
        },
        {
          "output_type": "stream",
          "name": "stderr",
          "text": [
            "\r  3%|▎         | 146/4536 [07:09<3:32:34,  2.91s/it]"
          ]
        },
        {
          "output_type": "stream",
          "name": "stdout",
          "text": [
            "Humboldt County, California, United States\n",
            "King County, Washington, United States\n",
            "King County, Washington, United States\n",
            "King County, Washington, United States\n",
            "King County, Washington, United States\n"
          ]
        },
        {
          "output_type": "stream",
          "name": "stderr",
          "text": [
            "\r  3%|▎         | 147/4536 [07:12<3:32:36,  2.91s/it]"
          ]
        },
        {
          "output_type": "stream",
          "name": "stdout",
          "text": [
            "King County, Washington, United States\n",
            "Charlottesville, Virginia, United States\n",
            "Middlesex County, Massachusetts, United States\n",
            "Middlesex County, Massachusetts, United States\n",
            "Albemarle County, Virginia, United States\n"
          ]
        },
        {
          "output_type": "stream",
          "name": "stderr",
          "text": [
            "\r  3%|▎         | 148/4536 [07:15<3:32:32,  2.91s/it]"
          ]
        },
        {
          "output_type": "stream",
          "name": "stdout",
          "text": [
            "Lennox and Addington County, Eastern Ontario, Ontario, Canada\n",
            "North Ayrshire, Scotland, United Kingdom\n",
            "North Ayrshire, Scotland, United Kingdom\n",
            "West Yorkshire, England, United Kingdom\n",
            "Selwyn District, Canterbury, New Zealand\n"
          ]
        },
        {
          "output_type": "stream",
          "name": "stderr",
          "text": [
            "\r  3%|▎         | 149/4536 [07:18<3:32:08,  2.90s/it]"
          ]
        },
        {
          "output_type": "stream",
          "name": "stdout",
          "text": [
            "Hamilton County, Indiana, United States\n",
            "Stockholm County, Sweden\n",
            "Gent, East Flanders, Flanders, Belgium\n",
            "Division No. 17, Saskatchewan, Canada\n",
            "Upper Savoy, Auvergne-Rhône-Alpes, Metropolitan France, France\n"
          ]
        },
        {
          "output_type": "stream",
          "name": "stderr",
          "text": [
            "\r  3%|▎         | 150/4536 [07:21<3:32:01,  2.90s/it]"
          ]
        },
        {
          "output_type": "stream",
          "name": "stdout",
          "text": [
            "Gironde, Nouvelle-Aquitaine, Metropolitan France, France\n",
            "Hampshire County, Massachusetts, United States\n",
            "Mahoning County, Ohio, United States\n",
            "Bernalillo County, New Mexico, United States\n",
            "Sullivan County, New York, United States\n"
          ]
        },
        {
          "output_type": "stream",
          "name": "stderr",
          "text": [
            "\r  3%|▎         | 151/4536 [07:23<3:31:39,  2.90s/it]"
          ]
        },
        {
          "output_type": "stream",
          "name": "stdout",
          "text": [
            "Chatham County, North Carolina, United States\n",
            "Shasta County, California, United States\n",
            "Mariposa County, California, United States\n",
            "Calaveras County, California, United States\n",
            "Tuolumne County, California, United States\n"
          ]
        },
        {
          "output_type": "stream",
          "name": "stderr",
          "text": [
            "\r  3%|▎         | 152/4536 [07:26<3:31:41,  2.90s/it]"
          ]
        },
        {
          "output_type": "stream",
          "name": "stdout",
          "text": [
            "Fresno County, California, United States\n",
            "Lee County, Alabama, United States\n",
            "Marin County, California, United States\n",
            "Napa County, California, United States\n",
            "Napa County, California, United States\n"
          ]
        },
        {
          "output_type": "stream",
          "name": "stderr",
          "text": [
            "\r  3%|▎         | 153/4536 [07:29<3:32:25,  2.91s/it]"
          ]
        },
        {
          "output_type": "stream",
          "name": "stdout",
          "text": [
            "County Limerick, Munster, Ireland\n",
            "West Sussex, England, United Kingdom\n",
            "West Sussex, England, United Kingdom\n",
            "Dorset, England, United Kingdom\n",
            "Lincolnshire, England, United Kingdom\n"
          ]
        },
        {
          "output_type": "stream",
          "name": "stderr",
          "text": [
            "\r  3%|▎         | 154/4536 [07:32<3:32:26,  2.91s/it]"
          ]
        },
        {
          "output_type": "stream",
          "name": "stdout",
          "text": [
            "Norfolk, England, United Kingdom\n",
            "Los Angeles County, California, United States\n",
            "Los Angeles County, California, United States\n",
            "Los Angeles County, California, United States\n",
            "Los Angeles County, California, United States\n"
          ]
        },
        {
          "output_type": "stream",
          "name": "stderr",
          "text": [
            "\r  3%|▎         | 155/4536 [07:35<3:32:10,  2.91s/it]"
          ]
        },
        {
          "output_type": "stream",
          "name": "stdout",
          "text": [
            "Los Angeles County, California, United States\n",
            "Los Angeles County, California, United States\n",
            "Los Angeles County, California, United States\n",
            "Los Angeles County, California, United States\n",
            "Worcester County, Massachusetts, United States\n"
          ]
        },
        {
          "output_type": "stream",
          "name": "stderr",
          "text": [
            "\r  3%|▎         | 156/4536 [07:38<3:31:47,  2.90s/it]"
          ]
        },
        {
          "output_type": "stream",
          "name": "stdout",
          "text": [
            "Los Angeles County, California, United States\n",
            "Bouches-du-Rhône, Provence-Alpes-Côte d'Azur, Metropolitan France, France\n",
            "Bouches-du-Rhône, Provence-Alpes-Côte d'Azur, Metropolitan France, France\n",
            "Bouches-du-Rhône, Provence-Alpes-Côte d'Azur, Metropolitan France, France\n",
            "Bouches-du-Rhône, Provence-Alpes-Côte d'Azur, Metropolitan France, France\n"
          ]
        },
        {
          "output_type": "stream",
          "name": "stderr",
          "text": [
            "\r  3%|▎         | 157/4536 [07:41<3:31:49,  2.90s/it]"
          ]
        },
        {
          "output_type": "stream",
          "name": "stdout",
          "text": [
            "Bouches-du-Rhône, Provence-Alpes-Côte d'Azur, Metropolitan France, France\n",
            "Municipio de Ensenada, Baja California, Mexico\n",
            "Municipio de La Paz, Baja California Sur, Mexico\n",
            "Municipio de Ensenada, Baja California, Mexico\n",
            "Municipio de La Paz, Baja California Sur, Mexico\n"
          ]
        },
        {
          "output_type": "stream",
          "name": "stderr",
          "text": [
            "\r  3%|▎         | 158/4536 [07:44<3:31:22,  2.90s/it]"
          ]
        },
        {
          "output_type": "stream",
          "name": "stdout",
          "text": [
            "Municipio de Ensenada, Baja California, Mexico\n",
            "Worcester County, Massachusetts, United States\n",
            "Canadian County, Oklahoma, United States\n",
            "Strafford County, New Hampshire, United States\n",
            "Strafford County, New Hampshire, United States\n"
          ]
        },
        {
          "output_type": "stream",
          "name": "stderr",
          "text": [
            "\r  4%|▎         | 159/4536 [07:47<3:31:36,  2.90s/it]"
          ]
        },
        {
          "output_type": "stream",
          "name": "stdout",
          "text": [
            "Canadian County, Oklahoma, United States\n",
            "Jefferson County, Missouri, United States\n",
            "Meigs County, Ohio, United States\n",
            "Meigs County, Ohio, United States\n",
            "Alto Paraná, Región Oriental, Paraguay\n"
          ]
        },
        {
          "output_type": "stream",
          "name": "stderr",
          "text": [
            "\r  4%|▎         | 160/4536 [07:50<3:31:25,  2.90s/it]"
          ]
        },
        {
          "output_type": "stream",
          "name": "stdout",
          "text": [
            "Anne Arundel County, Maryland, United States\n",
            "Rhône, Auvergne-Rhône-Alpes, Metropolitan France, France\n",
            "Rhône, Auvergne-Rhône-Alpes, Metropolitan France, France\n"
          ]
        },
        {
          "output_type": "stream",
          "name": "stderr",
          "text": [
            "WARNING:urllib3.connectionpool:Retrying (Retry(total=1, connect=None, read=None, redirect=None, status=None)) after connection broken by 'ReadTimeoutError(\"HTTPSConnectionPool(host='nominatim.openstreetmap.org', port=443): Read timed out. (read timeout=1)\")': /reverse?lat=52.43085861206055&lon=9.604840278625488&format=json&accept-language=en&addressdetails=1&zoom=8\n"
          ]
        },
        {
          "output_type": "stream",
          "name": "stdout",
          "text": [
            "Region Hannover, Lower Saxony, Germany\n",
            "South Holland, Netherlands\n"
          ]
        },
        {
          "output_type": "stream",
          "name": "stderr",
          "text": [
            "\r  4%|▎         | 161/4536 [07:54<3:58:38,  3.27s/it]"
          ]
        },
        {
          "output_type": "stream",
          "name": "stdout",
          "text": [
            "Metro Vancouver Regional District, British Columbia, Canada\n",
            "Hampshire, England, United Kingdom\n",
            "Hampshire, England, United Kingdom\n",
            "Oxfordshire, England, United Kingdom\n",
            "Oxfordshire, England, United Kingdom\n"
          ]
        },
        {
          "output_type": "stream",
          "name": "stderr",
          "text": [
            "\r  4%|▎         | 162/4536 [07:57<3:50:08,  3.16s/it]"
          ]
        },
        {
          "output_type": "stream",
          "name": "stdout",
          "text": [
            "Saskatoon, Division No. 11, Saskatchewan, Canada\n",
            "Río Mula, Spain\n",
            "Faro, Portugal\n",
            "Santa Cruz de Tenerife, Canary Islands, Spain\n",
            "Asturias, Spain\n"
          ]
        },
        {
          "output_type": "stream",
          "name": "stderr",
          "text": [
            "\r  4%|▎         | 163/4536 [07:59<3:44:40,  3.08s/it]"
          ]
        },
        {
          "output_type": "stream",
          "name": "stdout",
          "text": [
            "Asturias, Spain\n",
            "Ziliujin District, Zigong, Sichuan, 643000, China\n",
            "Taibai County, Baoji, Shaanxi, China\n",
            "Lin'an District, Hangzhou City, Zhejiang, China\n",
            "Levokumsky District, Stavropol Krai, North Caucasian Federal District, Russia\n"
          ]
        },
        {
          "output_type": "stream",
          "name": "stderr",
          "text": [
            "\r  4%|▎         | 164/4536 [08:03<3:43:10,  3.06s/it]"
          ]
        },
        {
          "output_type": "stream",
          "name": "stdout",
          "text": [
            "Santarém, Portugal\n",
            "Lee County, Alabama, United States\n",
            "Marin County, California, United States\n",
            "Napa County, California, United States\n",
            "Napa County, California, United States\n"
          ]
        },
        {
          "output_type": "stream",
          "name": "stderr",
          "text": [
            "\r  4%|▎         | 165/4536 [08:05<3:39:49,  3.02s/it]"
          ]
        },
        {
          "output_type": "stream",
          "name": "stdout",
          "text": [
            "County Limerick, Munster, Ireland\n",
            "Cape May County, New Jersey, United States\n",
            "Nassau County, New York, United States\n",
            "Suffolk County, New York, United States\n",
            "Nassau County, New York, United States\n"
          ]
        },
        {
          "output_type": "stream",
          "name": "stderr",
          "text": [
            "\r  4%|▎         | 166/4536 [08:08<3:37:08,  2.98s/it]"
          ]
        },
        {
          "output_type": "stream",
          "name": "stdout",
          "text": [
            "Suffolk County, New York, United States\n",
            "Kyoto Prefecture, Japan\n",
            "Kyoto Prefecture, Japan\n",
            "Kyoto Prefecture, Japan\n",
            "Kyoto Prefecture, Japan\n"
          ]
        },
        {
          "output_type": "stream",
          "name": "stderr",
          "text": [
            "\r  4%|▎         | 167/4536 [08:11<3:35:23,  2.96s/it]"
          ]
        },
        {
          "output_type": "stream",
          "name": "stdout",
          "text": [
            "Kyoto Prefecture, Japan\n",
            "Taichung, Taiwan\n",
            "Taichung, Taiwan\n",
            "Taichung, Taiwan\n",
            "Taitung County, Taiwan\n"
          ]
        },
        {
          "output_type": "stream",
          "name": "stderr",
          "text": [
            "\r  4%|▎         | 168/4536 [08:14<3:35:36,  2.96s/it]"
          ]
        },
        {
          "output_type": "stream",
          "name": "stdout",
          "text": [
            "Santa Ana, Cagayan, Cagayan Valley, 3514, Philippines\n",
            "Alameda County, California, United States\n",
            "Alameda County, California, United States\n",
            "Alameda County, California, United States\n",
            "Alameda County, California, United States\n"
          ]
        },
        {
          "output_type": "stream",
          "name": "stderr",
          "text": [
            "\r  4%|▎         | 169/4536 [08:17<3:34:06,  2.94s/it]"
          ]
        },
        {
          "output_type": "stream",
          "name": "stdout",
          "text": [
            "Alameda County, California, United States\n",
            "Lee County, Alabama, United States\n",
            "Marin County, California, United States\n",
            "Napa County, California, United States\n",
            "Napa County, California, United States\n"
          ]
        },
        {
          "output_type": "stream",
          "name": "stderr",
          "text": [
            "\r  4%|▎         | 170/4536 [08:20<3:33:09,  2.93s/it]"
          ]
        },
        {
          "output_type": "stream",
          "name": "stdout",
          "text": [
            "County Limerick, Munster, Ireland\n",
            "Dusseldorf, North Rhine-Westphalia, Germany\n",
            "City of Stonnington, Victoria, Australia\n",
            "City of Stonnington, Victoria, Australia\n",
            "Doha, Qatar\n"
          ]
        },
        {
          "output_type": "stream",
          "name": "stderr",
          "text": [
            "\r  4%|▍         | 171/4536 [08:23<3:32:15,  2.92s/it]"
          ]
        },
        {
          "output_type": "stream",
          "name": "stdout",
          "text": [
            "Doha, Qatar\n",
            "Athens County, Ohio, United States\n",
            "Athens County, Ohio, United States\n",
            "Athens County, Ohio, United States\n",
            "Cuyahoga County, Ohio, United States\n"
          ]
        },
        {
          "output_type": "stream",
          "name": "stderr",
          "text": [
            "\r  4%|▍         | 172/4536 [08:26<3:34:06,  2.94s/it]"
          ]
        },
        {
          "output_type": "stream",
          "name": "stdout",
          "text": [
            "Cuyahoga County, Ohio, United States\n",
            "Address not found\n",
            "Bergen County, New Jersey, United States\n",
            "Bergen County, New Jersey, United States\n",
            "New York County, New York, United States\n"
          ]
        },
        {
          "output_type": "stream",
          "name": "stderr",
          "text": [
            "\r  4%|▍         | 173/4536 [08:29<3:33:11,  2.93s/it]"
          ]
        },
        {
          "output_type": "stream",
          "name": "stdout",
          "text": [
            "New York County, New York, United States\n",
            "District de Lavaux-Oron, Vaud, Switzerland\n",
            "District de Lavaux-Oron, Vaud, Switzerland\n",
            "District de Lavaux-Oron, Vaud, Switzerland\n",
            "District de Lavaux-Oron, Vaud, Switzerland\n"
          ]
        },
        {
          "output_type": "stream",
          "name": "stderr",
          "text": [
            "\r  4%|▍         | 174/4536 [08:32<3:32:39,  2.93s/it]"
          ]
        },
        {
          "output_type": "stream",
          "name": "stdout",
          "text": [
            "District de Lavaux-Oron, Vaud, Switzerland\n",
            "DeSoto County, Mississippi, United States\n",
            "Lorain County, Ohio, United States\n",
            "DeSoto County, Mississippi, United States\n",
            "Chatham County, North Carolina, United States\n"
          ]
        },
        {
          "output_type": "stream",
          "name": "stderr",
          "text": [
            "\r  4%|▍         | 175/4536 [08:35<3:32:00,  2.92s/it]"
          ]
        },
        {
          "output_type": "stream",
          "name": "stdout",
          "text": [
            "Clark County, Indiana, United States\n",
            "Brisbane City, Queensland, Australia\n",
            "Brisbane City, Queensland, Australia\n",
            "Brisbane City, Queensland, Australia\n",
            "Brisbane City, Queensland, Australia\n"
          ]
        },
        {
          "output_type": "stream",
          "name": "stderr",
          "text": [
            "\r  4%|▍         | 176/4536 [08:38<3:34:10,  2.95s/it]"
          ]
        },
        {
          "output_type": "stream",
          "name": "stdout",
          "text": [
            "Brisbane City, Queensland, Australia\n",
            "Rayong Province, Thailand\n",
            "Rayong Province, Thailand\n",
            "Rayong Province, Thailand\n",
            "Rayong Province, Thailand\n"
          ]
        },
        {
          "output_type": "stream",
          "name": "stderr",
          "text": [
            "\r  4%|▍         | 177/4536 [08:41<3:33:15,  2.94s/it]"
          ]
        },
        {
          "output_type": "stream",
          "name": "stdout",
          "text": [
            "Rayong Province, Thailand\n",
            "Town of Vermilion, Alberta, Canada\n",
            "Division No. 11, Alberta, Canada\n",
            "Sullivan County, New York, United States\n",
            "Town of Slave Lake, Municipal District of Lesser Slave River, Alberta, Canada\n"
          ]
        },
        {
          "output_type": "stream",
          "name": "stderr",
          "text": [
            "\r  4%|▍         | 178/4536 [08:43<3:32:43,  2.93s/it]"
          ]
        },
        {
          "output_type": "stream",
          "name": "stdout",
          "text": [
            "Town of Slave Lake, Municipal District of Lesser Slave River, Alberta, Canada\n",
            "Halle (Saale), Saxony-Anhalt, Germany\n",
            "Halle (Saale), Saxony-Anhalt, Germany\n",
            "Halle (Saale), Saxony-Anhalt, Germany\n",
            "Halle (Saale), Saxony-Anhalt, Germany\n"
          ]
        },
        {
          "output_type": "stream",
          "name": "stderr",
          "text": [
            "\r  4%|▍         | 179/4536 [08:46<3:32:25,  2.93s/it]"
          ]
        },
        {
          "output_type": "stream",
          "name": "stdout",
          "text": [
            "Halle (Saale), Saxony-Anhalt, Germany\n",
            "Toledo, Castile-La Mancha, Spain\n",
            "Community of Madrid, Spain\n",
            "Community of Madrid, Spain\n",
            "Community of Madrid, Spain\n"
          ]
        },
        {
          "output_type": "stream",
          "name": "stderr",
          "text": [
            "\r  4%|▍         | 180/4536 [08:49<3:33:21,  2.94s/it]"
          ]
        },
        {
          "output_type": "stream",
          "name": "stdout",
          "text": [
            "Toledo, Castile-La Mancha, Spain\n",
            "Washington, District of Columbia, United States\n",
            "Washington, District of Columbia, United States\n",
            "Washington, District of Columbia, United States\n",
            "Washington, District of Columbia, United States\n"
          ]
        },
        {
          "output_type": "stream",
          "name": "stderr",
          "text": [
            "\r  4%|▍         | 181/4536 [08:52<3:32:29,  2.93s/it]"
          ]
        },
        {
          "output_type": "stream",
          "name": "stdout",
          "text": [
            "Washington, District of Columbia, United States\n",
            "Northumberland, North of Tyne, England, United Kingdom\n",
            "City of Bristol, West of England, England, United Kingdom\n",
            "North of Tyne, England, United Kingdom\n",
            "City of Bristol, West of England, England, United Kingdom\n"
          ]
        },
        {
          "output_type": "stream",
          "name": "stderr",
          "text": [
            "\r  4%|▍         | 182/4536 [08:55<3:32:05,  2.92s/it]"
          ]
        },
        {
          "output_type": "stream",
          "name": "stdout",
          "text": [
            "North of Tyne, England, United Kingdom\n",
            "Landkreis Rhön-Grabfeld, Bavaria, Germany\n",
            "Landkreis Saalfeld-Rudolstadt, Thuringia, Germany\n",
            "Bezirk St. Veit an der Glan, Carinthia, Austria\n",
            "Main-Kinzig-Kreis, Hesse, Germany\n"
          ]
        },
        {
          "output_type": "stream",
          "name": "stderr",
          "text": [
            "\r  4%|▍         | 183/4536 [08:58<3:31:27,  2.91s/it]"
          ]
        },
        {
          "output_type": "stream",
          "name": "stdout",
          "text": [
            "Bezirk Amstetten, Lower Austria, Austria\n",
            "Gard, Occitania, Metropolitan France, France\n"
          ]
        },
        {
          "output_type": "stream",
          "name": "stderr",
          "text": [
            "WARNING:urllib3.connectionpool:Retrying (Retry(total=1, connect=None, read=None, redirect=None, status=None)) after connection broken by 'ReadTimeoutError(\"HTTPSConnectionPool(host='nominatim.openstreetmap.org', port=443): Read timed out. (read timeout=1)\")': /reverse?lat=44.04412841796875&lon=4.178060054779053&format=json&accept-language=en&addressdetails=1&zoom=8\n"
          ]
        },
        {
          "output_type": "stream",
          "name": "stdout",
          "text": [
            "Gard, Occitania, Metropolitan France, France\n",
            "Bouches-du-Rhône, Provence-Alpes-Côte d'Azur, Metropolitan France, France\n",
            "Bouches-du-Rhône, Provence-Alpes-Côte d'Azur, Metropolitan France, France\n"
          ]
        },
        {
          "output_type": "stream",
          "name": "stderr",
          "text": [
            "\r  4%|▍         | 184/4536 [09:02<3:59:04,  3.30s/it]"
          ]
        },
        {
          "output_type": "stream",
          "name": "stdout",
          "text": [
            "Bouches-du-Rhône, Provence-Alpes-Côte d'Azur, Metropolitan France, France\n",
            "Monroe County, Florida, United States\n",
            "Monroe County, Florida, United States\n",
            "Monroe County, Florida, United States\n",
            "Monroe County, Florida, United States\n"
          ]
        },
        {
          "output_type": "stream",
          "name": "stderr",
          "text": [
            "\r  4%|▍         | 185/4536 [09:05<3:50:27,  3.18s/it]"
          ]
        },
        {
          "output_type": "stream",
          "name": "stdout",
          "text": [
            "Monroe County, Florida, United States\n",
            "Tasman District, Tasman, New Zealand\n",
            "Tasman District, Tasman, New Zealand\n",
            "Auckland, New Zealand\n",
            "Nelson, New Zealand\n"
          ]
        },
        {
          "output_type": "stream",
          "name": "stderr",
          "text": [
            "\r  4%|▍         | 186/4536 [09:08<3:44:40,  3.10s/it]"
          ]
        },
        {
          "output_type": "stream",
          "name": "stdout",
          "text": [
            "Nelson, New Zealand\n",
            "Montsià, Tarragona, Catalonia, Spain\n",
            "Alt Penedès, Barcelona, Catalonia, Spain\n",
            "el Baix Maestrat, Castelló / Castellón, Valencian Community, Spain\n",
            "Alt Penedès, Barcelona, Catalonia, Spain\n"
          ]
        },
        {
          "output_type": "stream",
          "name": "stderr",
          "text": [
            "\r  4%|▍         | 187/4536 [09:11<3:40:09,  3.04s/it]"
          ]
        },
        {
          "output_type": "stream",
          "name": "stdout",
          "text": [
            "Córdoba, Andalusia, Spain\n",
            "Bajo Cinca / Baix Cinca, Aragon, Spain\n",
            "Los Monegros, Aragon, Spain\n",
            "Bernalillo County, New Mexico, United States\n",
            "Main-Kinzig-Kreis, Hesse, Germany\n"
          ]
        },
        {
          "output_type": "stream",
          "name": "stderr",
          "text": [
            "\r  4%|▍         | 188/4536 [09:14<3:39:12,  3.02s/it]"
          ]
        },
        {
          "output_type": "stream",
          "name": "stdout",
          "text": [
            "Bernalillo County, New Mexico, United States\n",
            "Warwickshire, England, United Kingdom\n",
            "Hampshire, England, United Kingdom\n",
            "Greater London, England, United Kingdom\n",
            "West Sussex, England, United Kingdom\n"
          ]
        },
        {
          "output_type": "stream",
          "name": "stderr",
          "text": [
            "\r  4%|▍         | 189/4536 [09:17<3:36:32,  2.99s/it]"
          ]
        },
        {
          "output_type": "stream",
          "name": "stdout",
          "text": [
            "Nottinghamshire, England, United Kingdom\n",
            "Região Geográfica Intermediária de Sobral, Ceará, Northeast Region, Brazil\n",
            "Região Geográfica Intermediária de Sobral, Ceará, Northeast Region, Brazil\n",
            "Ceará, Northeast Region, Brazil\n",
            "Ceará, Northeast Region, Brazil\n"
          ]
        },
        {
          "output_type": "stream",
          "name": "stderr",
          "text": [
            "\r  4%|▍         | 190/4536 [09:20<3:34:29,  2.96s/it]"
          ]
        },
        {
          "output_type": "stream",
          "name": "stdout",
          "text": [
            "Holguín, Cuba\n",
            "Hochsauerlandkreis, North Rhine-Westphalia, Germany\n",
            "Hochsauerlandkreis, North Rhine-Westphalia, Germany\n",
            "Bezirk Grieskirchen, Upper Austria, Austria\n",
            "Bonn, North Rhine-Westphalia, Germany\n"
          ]
        },
        {
          "output_type": "stream",
          "name": "stderr",
          "text": [
            "\r  4%|▍         | 191/4536 [09:23<3:33:00,  2.94s/it]"
          ]
        },
        {
          "output_type": "stream",
          "name": "stdout",
          "text": [
            "Bonn, North Rhine-Westphalia, Germany\n",
            "Netherlands\n",
            "Netherlands\n",
            "Netherlands\n",
            "Aruba, Netherlands\n"
          ]
        },
        {
          "output_type": "stream",
          "name": "stderr",
          "text": [
            "\r  4%|▍         | 192/4536 [09:26<3:34:28,  2.96s/it]"
          ]
        },
        {
          "output_type": "stream",
          "name": "stdout",
          "text": [
            "Netherlands\n",
            "Bucks County, Pennsylvania, United States\n",
            "Forsyth County, Georgia, United States\n",
            "Fulton County, Georgia, United States\n",
            "Horry County, South Carolina, United States\n"
          ]
        },
        {
          "output_type": "stream",
          "name": "stderr",
          "text": [
            "\r  4%|▍         | 193/4536 [09:29<3:33:17,  2.95s/it]"
          ]
        },
        {
          "output_type": "stream",
          "name": "stdout",
          "text": [
            "Fayette County, Kentucky, United States\n",
            "Åland Islands, Finland\n",
            "Wahlkreis St. Gallen, St. Gallen, Switzerland\n",
            "Essen, North Rhine-Westphalia, Germany\n",
            "Essen, North Rhine-Westphalia, Germany\n"
          ]
        },
        {
          "output_type": "stream",
          "name": "stderr",
          "text": [
            "\r  4%|▍         | 194/4536 [09:31<3:31:48,  2.93s/it]"
          ]
        },
        {
          "output_type": "stream",
          "name": "stdout",
          "text": [
            "Essen, North Rhine-Westphalia, Germany\n",
            "Schwarzwald-Baar-Kreis, Baden-Württemberg, Germany\n",
            "Landkreis München, Bavaria, Germany\n",
            "Landkreis Neumarkt in der Oberpfalz, Bavaria, Germany\n",
            "Frankfurt, Hesse, Germany\n"
          ]
        },
        {
          "output_type": "stream",
          "name": "stderr",
          "text": [
            "\r  4%|▍         | 195/4536 [09:34<3:31:16,  2.92s/it]"
          ]
        },
        {
          "output_type": "stream",
          "name": "stdout",
          "text": [
            "Frankfurt, Hesse, Germany\n",
            "Broward County, Florida, United States\n",
            "Broward County, Florida, United States\n",
            "Montgomery County, Virginia, United States\n",
            "Montgomery County, Virginia, United States\n"
          ]
        },
        {
          "output_type": "stream",
          "name": "stderr",
          "text": [
            "\r  4%|▍         | 196/4536 [09:37<3:32:55,  2.94s/it]"
          ]
        },
        {
          "output_type": "stream",
          "name": "stdout",
          "text": [
            "Montgomery County, Virginia, United States\n",
            "Kane County, Illinois, United States\n",
            "Shelby County, Kentucky, United States\n",
            "Campbell County, Kentucky, United States\n",
            "Johnson County, Indiana, United States\n"
          ]
        },
        {
          "output_type": "stream",
          "name": "stderr",
          "text": [
            "\r  4%|▍         | 197/4536 [09:40<3:31:55,  2.93s/it]"
          ]
        },
        {
          "output_type": "stream",
          "name": "stdout",
          "text": [
            "Johnson County, Indiana, United States\n",
            "Lucerne, Switzerland\n",
            "Lucerne, Switzerland\n",
            "Lucerne, Switzerland\n",
            "Lucerne, Switzerland\n"
          ]
        },
        {
          "output_type": "stream",
          "name": "stderr",
          "text": [
            "\r  4%|▍         | 198/4536 [09:43<3:30:46,  2.92s/it]"
          ]
        },
        {
          "output_type": "stream",
          "name": "stdout",
          "text": [
            "Lucerne, Switzerland\n",
            "Clark County, Nevada, United States\n",
            "Clark County, Nevada, United States\n",
            "Clark County, Nevada, United States\n",
            "Clark County, Nevada, United States\n"
          ]
        },
        {
          "output_type": "stream",
          "name": "stderr",
          "text": [
            "\r  4%|▍         | 199/4536 [09:46<3:30:31,  2.91s/it]"
          ]
        },
        {
          "output_type": "stream",
          "name": "stdout",
          "text": [
            "San Bernardino County, California, United States\n",
            "District of Brezno, Region of Banská Bystrica, Central Slovakia, Slovakia\n",
            "Genhe City, Hulunbuir, Inner Mongolia, China\n",
            "District of Liptovský Mikuláš, Region of Žilina, Central Slovakia, Slovakia\n",
            "Metropolialdea / Área Metropolitana, Navarre, Spain\n"
          ]
        },
        {
          "output_type": "stream",
          "name": "stderr",
          "text": [
            "\r  4%|▍         | 200/4536 [09:49<3:32:06,  2.94s/it]"
          ]
        },
        {
          "output_type": "stream",
          "name": "stdout",
          "text": [
            "District of Dolný Kubín, Region of Žilina, Central Slovakia, Slovakia\n",
            "Ciudad Real, Castile-La Mancha, Spain\n",
            "Zaragoza, Aragon, Spain\n",
            "Zaragoza, Aragon, Spain\n",
            "Zaragoza, Aragon, Spain\n"
          ]
        },
        {
          "output_type": "stream",
          "name": "stderr",
          "text": [
            "\r  4%|▍         | 201/4536 [09:52<3:31:08,  2.92s/it]"
          ]
        },
        {
          "output_type": "stream",
          "name": "stdout",
          "text": [
            "Sierra Suroeste, Badajoz, Extremadura, Spain\n",
            "Worcestershire, England, United Kingdom\n",
            "Hampshire, England, United Kingdom\n",
            "Shropshire, England, United Kingdom\n",
            "Leicestershire, England, United Kingdom\n"
          ]
        },
        {
          "output_type": "stream",
          "name": "stderr",
          "text": [
            "\r  4%|▍         | 202/4536 [09:55<3:30:24,  2.91s/it]"
          ]
        },
        {
          "output_type": "stream",
          "name": "stdout",
          "text": [
            "Somerset, England, United Kingdom\n",
            "Campbell County, Kentucky, United States\n",
            "Montgomery County, Illinois, United States\n",
            "Medina County, Ohio, United States\n",
            "Medina County, Ohio, United States\n"
          ]
        },
        {
          "output_type": "stream",
          "name": "stderr",
          "text": [
            "\r  4%|▍         | 203/4536 [09:58<3:30:07,  2.91s/it]"
          ]
        },
        {
          "output_type": "stream",
          "name": "stdout",
          "text": [
            "Westmoreland County, Pennsylvania, United States\n",
            "Jiangyin City, Wuxi City, Jiangsu, 214400, China\n",
            "Jiangyin City, Wuxi City, Jiangsu, 214400, China\n",
            "Jiangyin City, Wuxi City, Jiangsu, 214400, China\n",
            "Huancui District, Weihai, Shandong, 264200, China\n"
          ]
        },
        {
          "output_type": "stream",
          "name": "stderr",
          "text": [
            "\r  4%|▍         | 204/4536 [10:01<3:31:29,  2.93s/it]"
          ]
        },
        {
          "output_type": "stream",
          "name": "stdout",
          "text": [
            "Huancui District, Weihai, Shandong, 264200, China\n",
            "l'Alacantí, Alacant / Alicante, Valencian Community, Spain\n",
            "Zaragoza, Aragon, Spain\n",
            "la Safor, Valencia, Valencian Community, Spain\n",
            "la Safor, Valencia, Valencian Community, Spain\n"
          ]
        },
        {
          "output_type": "stream",
          "name": "stderr",
          "text": [
            "\r  5%|▍         | 205/4536 [10:04<3:30:39,  2.92s/it]"
          ]
        },
        {
          "output_type": "stream",
          "name": "stdout",
          "text": [
            "Altiplano, Spain\n",
            "Salamanca, Castile and León, Spain\n",
            "Salamanca, Castile and León, Spain\n",
            "Salamanca, Castile and León, Spain\n",
            "Osona, Barcelona, Catalonia, Spain\n"
          ]
        },
        {
          "output_type": "stream",
          "name": "stderr",
          "text": [
            "\r  5%|▍         | 206/4536 [10:06<3:30:27,  2.92s/it]"
          ]
        },
        {
          "output_type": "stream",
          "name": "stdout",
          "text": [
            "Osona, Barcelona, Catalonia, Spain\n",
            "Sullivan County, New York, United States\n",
            "Bergen County, New Jersey, United States\n",
            "Partido de Marcos Paz, Buenos Aires, Argentina\n",
            "Partido de Marcos Paz, Buenos Aires, Argentina\n"
          ]
        },
        {
          "output_type": "stream",
          "name": "stderr",
          "text": [
            "\r  5%|▍         | 207/4536 [10:09<3:29:59,  2.91s/it]"
          ]
        },
        {
          "output_type": "stream",
          "name": "stdout",
          "text": [
            "Partido de Marcos Paz, Buenos Aires, Argentina\n",
            "Lee County, Alabama, United States\n",
            "Marin County, California, United States\n",
            "Napa County, California, United States\n",
            "Napa County, California, United States\n"
          ]
        },
        {
          "output_type": "stream",
          "name": "stderr",
          "text": [
            "\r  5%|▍         | 208/4536 [10:12<3:31:15,  2.93s/it]"
          ]
        },
        {
          "output_type": "stream",
          "name": "stdout",
          "text": [
            "County Limerick, Munster, Ireland\n",
            "Milwaukee County, Wisconsin, United States\n",
            "Milwaukee County, Wisconsin, United States\n",
            "Milwaukee County, Wisconsin, United States\n",
            "Milwaukee County, Wisconsin, United States\n"
          ]
        },
        {
          "output_type": "stream",
          "name": "stderr",
          "text": [
            "\r  5%|▍         | 209/4536 [10:15<3:30:10,  2.91s/it]"
          ]
        },
        {
          "output_type": "stream",
          "name": "stdout",
          "text": [
            "Milwaukee County, Wisconsin, United States\n",
            "South Yorkshire, England, United Kingdom\n",
            "South Yorkshire, England, United Kingdom\n",
            "West Yorkshire, England, United Kingdom\n",
            "South Yorkshire, England, United Kingdom\n"
          ]
        },
        {
          "output_type": "stream",
          "name": "stderr",
          "text": [
            "\r  5%|▍         | 210/4536 [10:18<3:30:28,  2.92s/it]"
          ]
        },
        {
          "output_type": "stream",
          "name": "stdout",
          "text": [
            "West Yorkshire, England, United Kingdom\n",
            "Bristol County, Massachusetts, United States\n",
            "Saint Johns County, Florida, United States\n",
            "Saint Johns County, Florida, United States\n",
            "Portsmouth, England, United Kingdom\n"
          ]
        },
        {
          "output_type": "stream",
          "name": "stderr",
          "text": [
            "\r  5%|▍         | 211/4536 [10:21<3:29:51,  2.91s/it]"
          ]
        },
        {
          "output_type": "stream",
          "name": "stdout",
          "text": [
            "Portsmouth, England, United Kingdom\n",
            "Fife, Scotland, United Kingdom\n",
            "Northumberland, North of Tyne, England, United Kingdom\n",
            "Northumberland, North of Tyne, England, United Kingdom\n",
            "Northumberland, North of Tyne, England, United Kingdom\n"
          ]
        },
        {
          "output_type": "stream",
          "name": "stderr",
          "text": [
            "\r  5%|▍         | 212/4536 [10:24<3:30:20,  2.92s/it]"
          ]
        },
        {
          "output_type": "stream",
          "name": "stdout",
          "text": [
            "Northumberland, North of Tyne, England, United Kingdom\n",
            "Urban agglomeration of Québec, Capitale-Nationale, Quebec, Canada\n",
            "Urban agglomeration of Québec, Capitale-Nationale, Quebec, Canada\n",
            "Urban agglomeration of Québec, Capitale-Nationale, Quebec, Canada\n",
            "Urban agglomeration of Québec, Capitale-Nationale, Quebec, Canada\n"
          ]
        },
        {
          "output_type": "stream",
          "name": "stderr",
          "text": [
            "\r  5%|▍         | 213/4536 [10:27<3:30:08,  2.92s/it]"
          ]
        },
        {
          "output_type": "stream",
          "name": "stdout",
          "text": [
            "Urban agglomeration of Montreal, Montreal (administrative region), Quebec, Canada\n",
            "Wellington City, Wellington, New Zealand\n",
            "Wellington City, Wellington, New Zealand\n",
            "Armidale Regional Council, New South Wales, Australia\n",
            "Armidale Regional Council, New South Wales, Australia\n"
          ]
        },
        {
          "output_type": "stream",
          "name": "stderr",
          "text": [
            "\r  5%|▍         | 214/4536 [10:30<3:30:04,  2.92s/it]"
          ]
        },
        {
          "output_type": "stream",
          "name": "stdout",
          "text": [
            "Santa Barbara County, California, United States\n",
            "Loire-Atlantique, Pays de la Loire, Metropolitan France, France\n",
            "Modena, Emilia-Romagna, Italy\n",
            "Modena, Emilia-Romagna, Italy\n",
            "Modena, Emilia-Romagna, Italy\n"
          ]
        },
        {
          "output_type": "stream",
          "name": "stderr",
          "text": [
            "\r  5%|▍         | 215/4536 [10:33<3:29:29,  2.91s/it]"
          ]
        },
        {
          "output_type": "stream",
          "name": "stdout",
          "text": [
            "Modena, Emilia-Romagna, Italy\n",
            "Chaoyang District, Beijing, China\n",
            "Chaoyang District, Beijing, China\n",
            "Chaoyang District, Beijing, China\n",
            "Chaoyang District, Beijing, China\n"
          ]
        },
        {
          "output_type": "stream",
          "name": "stderr",
          "text": [
            "\r  5%|▍         | 216/4536 [10:36<3:29:12,  2.91s/it]"
          ]
        },
        {
          "output_type": "stream",
          "name": "stdout",
          "text": [
            "Paris, Ile-de-France, Metropolitan France, France\n",
            "Santa Clara County, California, United States\n",
            "Geneva, Switzerland\n",
            "Napa County, California, United States\n",
            "Geneva, Switzerland\n"
          ]
        },
        {
          "output_type": "stream",
          "name": "stderr",
          "text": [
            "\r  5%|▍         | 217/4536 [10:38<3:29:17,  2.91s/it]"
          ]
        },
        {
          "output_type": "stream",
          "name": "stdout",
          "text": [
            "Neuchâtel, Switzerland\n",
            "Surrey, England, United Kingdom\n",
            "Surrey, England, United Kingdom\n",
            "Cornwall, England, United Kingdom\n",
            "Middle, Isle of Man\n"
          ]
        },
        {
          "output_type": "stream",
          "name": "stderr",
          "text": [
            "\r  5%|▍         | 218/4536 [10:41<3:29:17,  2.91s/it]"
          ]
        },
        {
          "output_type": "stream",
          "name": "stdout",
          "text": [
            "Devon, England, United Kingdom\n",
            "Taichung, Taiwan\n",
            "Taichung, Taiwan\n",
            "Setúbal, Portugal\n",
            "Zaragoza, Aragon, Spain\n"
          ]
        },
        {
          "output_type": "stream",
          "name": "stderr",
          "text": [
            "\r  5%|▍         | 219/4536 [10:44<3:29:09,  2.91s/it]"
          ]
        },
        {
          "output_type": "stream",
          "name": "stdout",
          "text": [
            "Setúbal, Portugal\n",
            "Norfolk, Virginia, United States\n",
            "Norfolk, Virginia, United States\n",
            "Washington, District of Columbia, United States\n",
            "Washington, District of Columbia, United States\n"
          ]
        },
        {
          "output_type": "stream",
          "name": "stderr",
          "text": [
            "\r  5%|▍         | 220/4536 [10:47<3:28:57,  2.90s/it]"
          ]
        },
        {
          "output_type": "stream",
          "name": "stdout",
          "text": [
            "Washington, District of Columbia, United States\n",
            "Oslo, Norway\n",
            "Västra Götaland County, Sweden\n",
            "Västra Götaland County, Sweden\n",
            "Västra Götaland County, Sweden\n"
          ]
        },
        {
          "output_type": "stream",
          "name": "stderr",
          "text": [
            "\r  5%|▍         | 221/4536 [10:50<3:29:04,  2.91s/it]"
          ]
        },
        {
          "output_type": "stream",
          "name": "stdout",
          "text": [
            "Västra Götaland County, Sweden\n",
            "Hampshire, England, United Kingdom\n",
            "Hampshire, England, United Kingdom\n",
            "Hampshire, England, United Kingdom\n",
            "Cheshire East, England, United Kingdom\n"
          ]
        },
        {
          "output_type": "stream",
          "name": "stderr",
          "text": [
            "\r  5%|▍         | 222/4536 [10:53<3:28:22,  2.90s/it]"
          ]
        },
        {
          "output_type": "stream",
          "name": "stdout",
          "text": [
            "Lincolnshire, England, United Kingdom\n",
            "County Meath, Leinster, Ireland\n",
            "South Ayrshire, Scotland, United Kingdom\n",
            "Ayrshire, Scotland, KA5 5NL, United Kingdom\n",
            "County Sligo, Connacht, Ireland\n"
          ]
        },
        {
          "output_type": "stream",
          "name": "stderr",
          "text": [
            "\r  5%|▍         | 223/4536 [10:56<3:28:36,  2.90s/it]"
          ]
        },
        {
          "output_type": "stream",
          "name": "stdout",
          "text": [
            "South Holland, Netherlands\n",
            "Teramo, Abruzzo, Italy\n",
            "Arezzo, Tuscany, Italy\n",
            "Rhône, Auvergne-Rhône-Alpes, Metropolitan France, France\n",
            "Iruñerria / Comarca de Pamplona, Navarre, Spain\n"
          ]
        },
        {
          "output_type": "stream",
          "name": "stderr",
          "text": [
            "\r  5%|▍         | 224/4536 [10:59<3:28:35,  2.90s/it]"
          ]
        },
        {
          "output_type": "stream",
          "name": "stdout",
          "text": [
            "Iruñerria / Comarca de Pamplona, Navarre, Spain\n",
            "Bezirk St. Veit an der Glan, Carinthia, Austria\n",
            "Appenzell Innerrhoden, Switzerland\n",
            "Bezirk Schwaz, Tyrol, Austria\n",
            "Bezirk Imst, Tyrol, Austria\n"
          ]
        },
        {
          "output_type": "stream",
          "name": "stderr",
          "text": [
            "\r  5%|▍         | 225/4536 [11:02<3:28:48,  2.91s/it]"
          ]
        },
        {
          "output_type": "stream",
          "name": "stdout",
          "text": [
            "Bezirk Salzburg-Umgebung, Salzburg, Austria\n",
            "Sabak Bernam, Malaysia\n",
            "Mukim Kilanas, Brunei-Muara District, Brunei\n",
            "Batu Pahat, Johor, Malaysia\n",
            "Cantón de Pococí, Limón Province, Costa Rica\n"
          ]
        },
        {
          "output_type": "stream",
          "name": "stderr",
          "text": [
            "\r  5%|▍         | 226/4536 [11:05<3:28:39,  2.90s/it]"
          ]
        },
        {
          "output_type": "stream",
          "name": "stdout",
          "text": [
            "Koh Kong, Cambodia\n",
            "San Francisco, California, United States\n",
            "San Francisco, California, United States\n",
            "San Francisco, California, United States\n",
            "San Francisco, California, United States\n"
          ]
        },
        {
          "output_type": "stream",
          "name": "stderr",
          "text": [
            "\r  5%|▌         | 227/4536 [11:08<3:28:58,  2.91s/it]"
          ]
        },
        {
          "output_type": "stream",
          "name": "stdout",
          "text": [
            "San Francisco, California, United States\n",
            "Community of Madrid, Spain\n",
            "Community of Madrid, Spain\n",
            "Community of Madrid, Spain\n",
            "Community of Madrid, Spain\n"
          ]
        },
        {
          "output_type": "stream",
          "name": "stderr",
          "text": [
            "\r  5%|▌         | 228/4536 [11:10<3:29:04,  2.91s/it]"
          ]
        },
        {
          "output_type": "stream",
          "name": "stdout",
          "text": [
            "Community of Madrid, Spain\n",
            "Citrus County, Florida, United States\n",
            "Citrus County, Florida, United States\n",
            "Citrus County, Florida, United States\n",
            "Saint Lucie County, Florida, United States\n"
          ]
        },
        {
          "output_type": "stream",
          "name": "stderr",
          "text": [
            "WARNING:urllib3.connectionpool:Retrying (Retry(total=1, connect=None, read=None, redirect=None, status=None)) after connection broken by 'ReadTimeoutError(\"HTTPSConnectionPool(host='nominatim.openstreetmap.org', port=443): Read timed out. (read timeout=1)\")': /reverse?lat=28.624422073364258&lon=-81.24878692626953&format=json&accept-language=en&addressdetails=1&zoom=8\n",
            "  5%|▌         | 229/4536 [11:15<3:54:49,  3.27s/it]"
          ]
        },
        {
          "output_type": "stream",
          "name": "stdout",
          "text": [
            "Seminole County, Florida, United States\n",
            "Greater London, England, United Kingdom\n"
          ]
        },
        {
          "output_type": "stream",
          "name": "stderr",
          "text": [
            "WARNING:urllib3.connectionpool:Retrying (Retry(total=1, connect=None, read=None, redirect=None, status=None)) after connection broken by 'ReadTimeoutError(\"HTTPSConnectionPool(host='nominatim.openstreetmap.org', port=443): Read timed out. (read timeout=1)\")': /reverse?lat=51.53314971923828&lon=-0.4696600&format=json&accept-language=en&addressdetails=1&zoom=8\n"
          ]
        },
        {
          "output_type": "stream",
          "name": "stdout",
          "text": [
            "Greater London, England, United Kingdom\n",
            "Greater London, England, United Kingdom\n",
            "Greater London, England, United Kingdom\n"
          ]
        },
        {
          "output_type": "stream",
          "name": "stderr",
          "text": [
            "\r  5%|▌         | 230/4536 [11:19<4:15:32,  3.56s/it]"
          ]
        },
        {
          "output_type": "stream",
          "name": "stdout",
          "text": [
            "Greater London, England, United Kingdom\n",
            "Floyd County, Georgia, United States\n",
            "Chatham County, North Carolina, United States\n",
            "Athens-Clarke County, Georgia, United States\n",
            "Brown County, Indiana, United States\n"
          ]
        },
        {
          "output_type": "stream",
          "name": "stderr",
          "text": [
            "\r  5%|▌         | 231/4536 [11:22<4:02:19,  3.38s/it]"
          ]
        },
        {
          "output_type": "stream",
          "name": "stdout",
          "text": [
            "Brown County, Indiana, United States\n",
            "Monterey County, California, United States\n",
            "Monterey County, California, United States\n",
            "Monterey County, California, United States\n",
            "Monterey County, California, United States\n"
          ]
        },
        {
          "output_type": "stream",
          "name": "stderr",
          "text": [
            "\r  5%|▌         | 232/4536 [11:25<3:52:04,  3.24s/it]"
          ]
        },
        {
          "output_type": "stream",
          "name": "stdout",
          "text": [
            "Monterey County, California, United States\n",
            "Derbyshire, England, United Kingdom\n",
            "Lincolnshire, England, United Kingdom\n",
            "Lincolnshire, England, United Kingdom\n",
            "Lincolnshire, England, United Kingdom\n"
          ]
        },
        {
          "output_type": "stream",
          "name": "stderr",
          "text": [
            "\r  5%|▌         | 233/4536 [11:28<3:44:52,  3.14s/it]"
          ]
        },
        {
          "output_type": "stream",
          "name": "stdout",
          "text": [
            "Nottinghamshire, England, United Kingdom\n",
            "Pisa, Tuscany, Italy\n",
            "Pisa, Tuscany, Italy\n",
            "Pisa, Tuscany, Italy\n",
            "Pisa, Tuscany, Italy\n"
          ]
        },
        {
          "output_type": "stream",
          "name": "stderr",
          "text": [
            "\r  5%|▌         | 234/4536 [11:30<3:40:01,  3.07s/it]"
          ]
        },
        {
          "output_type": "stream",
          "name": "stdout",
          "text": [
            "Pisa, Tuscany, Italy\n",
            "Quito Canton, Pichincha, Ecuador\n",
            "Bogota Capital District - Municipality, RAP (Especial) Central, 11001, Colombia\n",
            "Bogota Capital District - Municipality, RAP (Especial) Central, 11001, Colombia\n",
            "Province of Tarma, Junín, 12651, Peru\n"
          ]
        },
        {
          "output_type": "stream",
          "name": "stderr",
          "text": [
            "\r  5%|▌         | 235/4536 [11:33<3:36:43,  3.02s/it]"
          ]
        },
        {
          "output_type": "stream",
          "name": "stdout",
          "text": [
            "Andraka, Biscay, Autonomous Community of the Basque Country, 48620, Spain\n",
            "San Diego County, California, United States\n",
            "San Diego County, California, United States\n",
            "San Diego County, California, United States\n",
            "San Diego County, California, United States\n"
          ]
        },
        {
          "output_type": "stream",
          "name": "stderr",
          "text": [
            "\r  5%|▌         | 236/4536 [11:36<3:34:25,  2.99s/it]"
          ]
        },
        {
          "output_type": "stream",
          "name": "stdout",
          "text": [
            "Los Angeles County, California, United States\n",
            "Address not found\n",
            "New Taipei, Taiwan\n",
            "New Taipei, Taiwan\n",
            "New Taipei, Taiwan\n"
          ]
        },
        {
          "output_type": "stream",
          "name": "stderr",
          "text": [
            "\r  5%|▌         | 237/4536 [11:39<3:33:07,  2.97s/it]"
          ]
        },
        {
          "output_type": "stream",
          "name": "stdout",
          "text": [
            "New Taipei, Taiwan\n",
            "Brown County, Indiana, United States\n",
            "Brown County, Indiana, United States\n",
            "Pike County, Illinois, United States\n",
            "Pike County, Illinois, United States\n"
          ]
        },
        {
          "output_type": "stream",
          "name": "stderr",
          "text": [
            "\r  5%|▌         | 238/4536 [11:42<3:31:56,  2.96s/it]"
          ]
        },
        {
          "output_type": "stream",
          "name": "stdout",
          "text": [
            "Jefferson County, Missouri, United States\n",
            "Dakota County, Minnesota, United States\n",
            "Saint Joseph County, Indiana, United States\n",
            "Washtenaw County, Michigan, United States\n",
            "Washtenaw County, Michigan, United States\n"
          ]
        },
        {
          "output_type": "stream",
          "name": "stderr",
          "text": [
            "\r  5%|▌         | 239/4536 [11:45<3:30:28,  2.94s/it]"
          ]
        },
        {
          "output_type": "stream",
          "name": "stdout",
          "text": [
            "Franklin County, Ohio, United States\n",
            "Santa Clara County, California, United States\n",
            "Santa Clara County, California, United States\n",
            "Santa Clara County, California, United States\n",
            "Santa Clara County, California, United States\n"
          ]
        },
        {
          "output_type": "stream",
          "name": "stderr",
          "text": [
            "\r  5%|▌         | 240/4536 [11:48<3:29:46,  2.93s/it]"
          ]
        },
        {
          "output_type": "stream",
          "name": "stdout",
          "text": [
            "Santa Clara County, California, United States\n",
            "Groningen, Netherlands\n",
            "Flevoland, Netherlands\n",
            "Roma Capitale, Lazio, Italy\n",
            "Roma Capitale, Lazio, Italy\n"
          ]
        },
        {
          "output_type": "stream",
          "name": "stderr",
          "text": [
            "\r  5%|▌         | 241/4536 [11:51<3:29:12,  2.92s/it]"
          ]
        },
        {
          "output_type": "stream",
          "name": "stdout",
          "text": [
            "Flevoland, Netherlands\n",
            "Broward County, Florida, United States\n",
            "Manatee County, Florida, United States\n",
            "Manatee County, Florida, United States\n",
            "Burleigh County, North Dakota, United States\n"
          ]
        },
        {
          "output_type": "stream",
          "name": "stderr",
          "text": [
            "\r  5%|▌         | 242/4536 [11:54<3:28:47,  2.92s/it]"
          ]
        },
        {
          "output_type": "stream",
          "name": "stdout",
          "text": [
            "Broward County, Florida, United States\n",
            "South Backa Administrative District, Vojvodina, Serbia\n",
            "South Backa Administrative District, Vojvodina, Serbia\n",
            "City of Belgrade, Central Serbia, Serbia\n",
            "City of Belgrade, Central Serbia, Serbia\n"
          ]
        },
        {
          "output_type": "stream",
          "name": "stderr",
          "text": [
            "\r  5%|▌         | 243/4536 [11:57<3:28:25,  2.91s/it]"
          ]
        },
        {
          "output_type": "stream",
          "name": "stdout",
          "text": [
            "City of Belgrade, Central Serbia, Serbia\n",
            "Silver Bow County, Montana, United States\n",
            "Regional District of Okanagan-Similkameen, British Columbia, Canada\n",
            "Bannock County, Idaho, United States\n",
            "Storey County, Nevada, United States\n"
          ]
        },
        {
          "output_type": "stream",
          "name": "stderr",
          "text": [
            "\r  5%|▌         | 244/4536 [12:00<3:28:47,  2.92s/it]"
          ]
        },
        {
          "output_type": "stream",
          "name": "stdout",
          "text": [
            "Kittitas County, Washington, United States\n",
            "Lane County, Oregon, United States\n",
            "Capital Regional District, British Columbia, Canada\n",
            "Capital Regional District, British Columbia, Canada\n",
            "Capital Regional District, British Columbia, Canada\n"
          ]
        },
        {
          "output_type": "stream",
          "name": "stderr",
          "text": [
            "\r  5%|▌         | 245/4536 [12:03<3:28:29,  2.92s/it]"
          ]
        },
        {
          "output_type": "stream",
          "name": "stdout",
          "text": [
            "Capital Regional District, British Columbia, Canada\n",
            "City of London, Greater London, England, United Kingdom\n",
            "City of London, Greater London, England, United Kingdom\n",
            "City of London, Greater London, England, United Kingdom\n",
            "City of London, Greater London, England, United Kingdom\n"
          ]
        },
        {
          "output_type": "stream",
          "name": "stderr",
          "text": [
            "\r  5%|▌         | 246/4536 [12:05<3:28:18,  2.91s/it]"
          ]
        },
        {
          "output_type": "stream",
          "name": "stdout",
          "text": [
            "City of London, Greater London, England, United Kingdom\n",
            "Berlin, Germany\n",
            "Berlin, Germany\n",
            "West Midlands Combined Authority, England, United Kingdom\n",
            "Berlin, Germany\n"
          ]
        },
        {
          "output_type": "stream",
          "name": "stderr",
          "text": [
            "\r  5%|▌         | 247/4536 [12:08<3:29:11,  2.93s/it]"
          ]
        },
        {
          "output_type": "stream",
          "name": "stdout",
          "text": [
            "West Midlands Combined Authority, England, United Kingdom\n",
            "Maui County, Hawaii, United States\n",
            "Maui County, Hawaii, United States\n",
            "Maui County, Hawaii, United States\n",
            "Maui County, Hawaii, United States\n"
          ]
        },
        {
          "output_type": "stream",
          "name": "stderr",
          "text": [
            "\r  5%|▌         | 248/4536 [12:11<3:28:41,  2.92s/it]"
          ]
        },
        {
          "output_type": "stream",
          "name": "stdout",
          "text": [
            "Maui County, Hawaii, United States\n",
            "Landkreis Dachau, Bavaria, Germany\n",
            "Landkreis Dachau, Bavaria, Germany\n",
            "Landkreis Dachau, Bavaria, Germany\n",
            "Landkreis Dachau, Bavaria, Germany\n"
          ]
        },
        {
          "output_type": "stream",
          "name": "stderr",
          "text": [
            "\r  5%|▌         | 249/4536 [12:14<3:28:33,  2.92s/it]"
          ]
        },
        {
          "output_type": "stream",
          "name": "stdout",
          "text": [
            "Landkreis Dachau, Bavaria, Germany\n",
            "Lee County, Alabama, United States\n",
            "Marin County, California, United States\n",
            "Napa County, California, United States\n",
            "Napa County, California, United States\n"
          ]
        },
        {
          "output_type": "stream",
          "name": "stderr",
          "text": [
            "\r  6%|▌         | 250/4536 [12:17<3:28:16,  2.92s/it]"
          ]
        },
        {
          "output_type": "stream",
          "name": "stdout",
          "text": [
            "County Limerick, Munster, Ireland\n",
            "West Sussex, England, United Kingdom\n",
            "West Sussex, England, United Kingdom\n",
            "Central Bedfordshire, England, United Kingdom\n",
            "North Yorkshire, England, United Kingdom\n"
          ]
        },
        {
          "output_type": "stream",
          "name": "stderr",
          "text": [
            "\r  6%|▌         | 251/4536 [12:20<3:28:00,  2.91s/it]"
          ]
        },
        {
          "output_type": "stream",
          "name": "stdout",
          "text": [
            "Central Bedfordshire, England, United Kingdom\n",
            "Tafea, Vanuatu\n",
            "Easter Island Province, Valparaiso Region, 2770000, Chile\n",
            "Tafea, Vanuatu\n",
            "Easter Island Province, Valparaiso Region, 2770000, Chile\n"
          ]
        },
        {
          "output_type": "stream",
          "name": "stderr",
          "text": [
            "\r  6%|▌         | 252/4536 [12:23<3:28:21,  2.92s/it]"
          ]
        },
        {
          "output_type": "stream",
          "name": "stdout",
          "text": [
            "Tafea, Vanuatu\n",
            "Jiashan County, Jiaxing, Jiashan, Zhejiang, 314199, China\n",
            "Jiashan County, Jiaxing, Jiashan, Zhejiang, 314199, China\n",
            "Nanxun District, Huzhou, Zhejiang, 313009, China\n",
            "Tongxiang, Jiaxing, Zhejiang, China\n"
          ]
        },
        {
          "output_type": "stream",
          "name": "stderr",
          "text": [
            "\r  6%|▌         | 253/4536 [12:26<3:27:51,  2.91s/it]"
          ]
        },
        {
          "output_type": "stream",
          "name": "stdout",
          "text": [
            "Qingpu District, Shanghai, China\n",
            "Seine-Saint-Denis, Ile-de-France, Metropolitan France, France\n",
            "Seine-Saint-Denis, Ile-de-France, Metropolitan France, France\n",
            "Seine-Saint-Denis, Ile-de-France, Metropolitan France, France\n",
            "Seine-Saint-Denis, Ile-de-France, Metropolitan France, France\n"
          ]
        },
        {
          "output_type": "stream",
          "name": "stderr",
          "text": [
            "\r  6%|▌         | 254/4536 [12:29<3:28:00,  2.91s/it]"
          ]
        },
        {
          "output_type": "stream",
          "name": "stdout",
          "text": [
            "Seine-Saint-Denis, Ile-de-France, Metropolitan France, France\n",
            "Washington, District of Columbia, United States\n",
            "Washington, District of Columbia, United States\n",
            "Washington, District of Columbia, United States\n",
            "Washington, District of Columbia, United States\n"
          ]
        },
        {
          "output_type": "stream",
          "name": "stderr",
          "text": [
            "\r  6%|▌         | 255/4536 [12:32<3:27:55,  2.91s/it]"
          ]
        },
        {
          "output_type": "stream",
          "name": "stdout",
          "text": [
            "Washington, District of Columbia, United States\n",
            "Bexar County, Texas, United States\n",
            "Bexar County, Texas, United States\n",
            "Morrison County, Minnesota, United States\n",
            "Morrison County, Minnesota, United States\n"
          ]
        },
        {
          "output_type": "stream",
          "name": "stderr",
          "text": [
            "\r  6%|▌         | 256/4536 [12:35<3:27:45,  2.91s/it]"
          ]
        },
        {
          "output_type": "stream",
          "name": "stdout",
          "text": [
            "Morton County, North Dakota, United States\n",
            "Travis County, Texas, United States\n",
            "Travis County, Texas, United States\n",
            "Albany County, New York, United States\n",
            "Travis County, Texas, United States\n"
          ]
        },
        {
          "output_type": "stream",
          "name": "stderr",
          "text": [
            "\r  6%|▌         | 257/4536 [12:38<3:27:26,  2.91s/it]"
          ]
        },
        {
          "output_type": "stream",
          "name": "stdout",
          "text": [
            "Multnomah County, Oregon, United States\n",
            "Pike County, Illinois, United States\n",
            "Randolph County, Illinois, United States\n",
            "Kenton County, Kentucky, United States\n",
            "Campbell County, Kentucky, United States\n"
          ]
        },
        {
          "output_type": "stream",
          "name": "stderr",
          "text": [
            "\r  6%|▌         | 258/4536 [12:41<3:30:27,  2.95s/it]"
          ]
        },
        {
          "output_type": "stream",
          "name": "stdout",
          "text": [
            "Jefferson County, Missouri, United States\n",
            "Costa del Sol Occidental, Malaga, Andalusia, Spain\n",
            "Costa del Sol Occidental, Malaga, Andalusia, Spain\n",
            "Costa del Sol Occidental, Malaga, Andalusia, Spain\n",
            "La Janda, Cádiz, Andalusia, Spain\n"
          ]
        },
        {
          "output_type": "stream",
          "name": "stderr",
          "text": [
            "\r  6%|▌         | 259/4536 [12:44<3:32:55,  2.99s/it]"
          ]
        },
        {
          "output_type": "stream",
          "name": "stdout",
          "text": [
            "Greece\n",
            "Washington County, Iowa, United States\n",
            "Jackson County, Missouri, United States\n",
            "Jackson County, Missouri, United States\n",
            "Franklin County, Kansas, United States\n"
          ]
        },
        {
          "output_type": "stream",
          "name": "stderr",
          "text": [
            "\r  6%|▌         | 260/4536 [12:47<3:40:53,  3.10s/it]"
          ]
        },
        {
          "output_type": "stream",
          "name": "stdout",
          "text": [
            "Jackson County, Missouri, United States\n",
            "Milwaukee County, Wisconsin, United States\n",
            "Milwaukee County, Wisconsin, United States\n",
            "Milwaukee County, Wisconsin, United States\n",
            "Bexar County, Texas, United States\n"
          ]
        },
        {
          "output_type": "stream",
          "name": "stderr",
          "text": [
            "\r  6%|▌         | 261/4536 [12:50<3:37:49,  3.06s/it]"
          ]
        },
        {
          "output_type": "stream",
          "name": "stdout",
          "text": [
            "Milwaukee County, Wisconsin, United States\n",
            "Lee County, Alabama, United States\n",
            "Marin County, California, United States\n",
            "Napa County, California, United States\n",
            "Napa County, California, United States\n"
          ]
        },
        {
          "output_type": "stream",
          "name": "stderr",
          "text": [
            "\r  6%|▌         | 262/4536 [12:53<3:35:02,  3.02s/it]"
          ]
        },
        {
          "output_type": "stream",
          "name": "stdout",
          "text": [
            "County Limerick, Munster, Ireland\n",
            "Lekié, Centre, Cameroon\n",
            "Hérault, Occitania, Metropolitan France, France\n",
            "Ariège, Occitania, Metropolitan France, France\n",
            "Kiryandongo, Western Region, Uganda\n"
          ]
        },
        {
          "output_type": "stream",
          "name": "stderr",
          "text": [
            "\r  6%|▌         | 263/4536 [12:56<3:32:52,  2.99s/it]"
          ]
        },
        {
          "output_type": "stream",
          "name": "stdout",
          "text": [
            "Mfoundi, Centre, Cameroon\n",
            "Taoyuan City, Taiwan\n",
            "Basco, Batanes, Cagayan Valley, 3900, Philippines\n",
            "Madurai South, Madurai, Tamil Nadu, India\n",
            "Sidi M'Hamed District, Algiers, Algeria\n"
          ]
        },
        {
          "output_type": "stream",
          "name": "stderr",
          "text": [
            "\r  6%|▌         | 264/4536 [12:59<3:31:21,  2.97s/it]"
          ]
        },
        {
          "output_type": "stream",
          "name": "stdout",
          "text": [
            "Sidi M'Hamed District, Algiers, Algeria\n",
            "Safed Subdistrict, North District, Israel\n",
            "San Diego County, California, United States\n",
            "San Diego County, California, United States\n",
            "Area C, Judea and Samaria, 113, Palestinian Territories\n"
          ]
        },
        {
          "output_type": "stream",
          "name": "stderr",
          "text": [
            "\r  6%|▌         | 265/4536 [13:02<3:29:48,  2.95s/it]"
          ]
        },
        {
          "output_type": "stream",
          "name": "stdout",
          "text": [
            "Santa Clara County, California, United States\n",
            "Bintan, Riau Islands, Sumatra, Indonesia\n",
            "Departamento Eldorado, Misiones, Argentina\n",
            "Departamento Eldorado, Misiones, Argentina\n",
            "Distrito de La Pintada, Coclé, Panama\n"
          ]
        },
        {
          "output_type": "stream",
          "name": "stderr",
          "text": [
            "\r  6%|▌         | 266/4536 [13:05<3:28:57,  2.94s/it]"
          ]
        },
        {
          "output_type": "stream",
          "name": "stdout",
          "text": [
            "Distrito de La Pintada, Coclé, Panama\n",
            "North Yorkshire, England, United Kingdom\n",
            "Nottinghamshire, England, United Kingdom\n",
            "Staffordshire, England, United Kingdom\n",
            "County Meath, Leinster, Ireland\n"
          ]
        },
        {
          "output_type": "stream",
          "name": "stderr",
          "text": [
            "\r  6%|▌         | 267/4536 [13:07<3:28:28,  2.93s/it]"
          ]
        },
        {
          "output_type": "stream",
          "name": "stdout",
          "text": [
            "Ille-et-Vilaine, Brittany, Metropolitan France, France\n",
            "Norfolk, England, United Kingdom\n",
            "Norfolk, England, United Kingdom\n",
            "Central Bedfordshire, England, United Kingdom\n",
            "Central Bedfordshire, England, United Kingdom\n"
          ]
        },
        {
          "output_type": "stream",
          "name": "stderr",
          "text": [
            "\r  6%|▌         | 268/4536 [13:10<3:27:50,  2.92s/it]"
          ]
        },
        {
          "output_type": "stream",
          "name": "stdout",
          "text": [
            "Norfolk, England, United Kingdom\n",
            "Riverside County, California, United States\n",
            "Riverside County, California, United States\n",
            "San Diego County, California, United States\n",
            "Los Angeles County, California, United States\n"
          ]
        },
        {
          "output_type": "stream",
          "name": "stderr",
          "text": [
            "\r  6%|▌         | 269/4536 [13:13<3:27:59,  2.92s/it]"
          ]
        },
        {
          "output_type": "stream",
          "name": "stdout",
          "text": [
            "Los Angeles County, California, United States\n",
            "Lincolnshire, England, United Kingdom\n",
            "Lincolnshire, England, United Kingdom\n",
            "Lincolnshire, England, United Kingdom\n",
            "Lincolnshire, England, United Kingdom\n"
          ]
        },
        {
          "output_type": "stream",
          "name": "stderr",
          "text": [
            "\r  6%|▌         | 270/4536 [13:16<3:28:05,  2.93s/it]"
          ]
        },
        {
          "output_type": "stream",
          "name": "stdout",
          "text": [
            "Forest County, Wisconsin, United States\n",
            "Ito County, Wakayama Prefecture, Japan\n",
            "Ito County, Wakayama Prefecture, Japan\n",
            "Ito County, Wakayama Prefecture, Japan\n",
            "Ito County, Wakayama Prefecture, Japan\n"
          ]
        },
        {
          "output_type": "stream",
          "name": "stderr",
          "text": [
            "\r  6%|▌         | 271/4536 [13:19<3:27:41,  2.92s/it]"
          ]
        },
        {
          "output_type": "stream",
          "name": "stdout",
          "text": [
            "Nara Prefecture, Japan\n"
          ]
        }
      ]
    }
  ]
}
